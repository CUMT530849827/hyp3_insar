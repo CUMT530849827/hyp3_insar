{
 "cells": [
  {
   "cell_type": "markdown",
   "metadata": {},
   "source": [
    "Import libraries"
   ]
  },
  {
   "cell_type": "code",
   "execution_count": 37,
   "metadata": {},
   "outputs": [],
   "source": [
    "%matplotlib inline\n",
    "import matplotlib.pyplot as plt\n",
    "import os\n",
    "import sys\n",
    "import glob\n",
    "import zipfile\n",
    "from zipfile import BadZipFile\n",
    "import datetime\n",
    "import pandas as pd\n",
    "import hyp3_sdk as sdk\n",
    "from hyp3_sdk import asf_search\n",
    "from tqdm.notebook import trange, tqdm\n",
    "from hyp3lib import cutGeotiffs\n",
    "import geopandas as gpd\n",
    "# from tqdm.auto import tqdm"
   ]
  },
  {
   "cell_type": "code",
   "execution_count": 66,
   "metadata": {},
   "outputs": [],
   "source": [
    "# gdf = gpd.read_file('desc-lower-2021-10-21.geojson')\n",
    "gdf = gpd.read_file('desc-lower-2021-10-21.geojson')\n",
    "min_date = pd.to_datetime('20140201T000000')\n",
    "max_date = pd.to_datetime('20210630T000000')"
   ]
  },
  {
   "cell_type": "code",
   "execution_count": 67,
   "metadata": {},
   "outputs": [],
   "source": [
    "gdf = gdf.loc[:,['fileName','startTime','geometry']]\n",
    "gdf = gdf.to_crs(epsg=32760)\n",
    "gdf['startTime'] = pd.to_datetime(gdf.startTime)\n",
    "gdf = gdf.sort_values('startTime').reset_index(drop=True)\n",
    "# gdf = gdf.loc[gdf.startTime <= max_date]"
   ]
  },
  {
   "cell_type": "code",
   "execution_count": 68,
   "metadata": {},
   "outputs": [],
   "source": [
    "template = gdf.loc[gdf.startTime==gdf.startTime.max()]\n",
    "union = gpd.overlay(gdf, template, how='intersection')\n",
    "gdf['intersect'] = union.area / template.area.item()"
   ]
  },
  {
   "cell_type": "code",
   "execution_count": 69,
   "metadata": {},
   "outputs": [
    {
     "name": "stdout",
     "output_type": "stream",
     "text": [
      "n ifgs: 133\n"
     ]
    },
    {
     "data": {
      "image/png": "[encoded data removed]",
      "text/plain": [
       "<Figure size 432x288 with 1 Axes>"
      ]
     },
     "metadata": {
      "needs_background": "light"
     },
     "output_type": "display_data"
    }
   ],
   "source": [
    "%matplotlib inline\n",
    "import matplotlib.pyplot as plt\n",
    "plt.scatter(gdf.startTime,gdf.intersect)\n",
    "print(f'n ifgs: {len(gdf)}')"
   ]
  },
  {
   "cell_type": "code",
   "execution_count": 73,
   "metadata": {},
   "outputs": [
    {
     "name": "stdout",
     "output_type": "stream",
     "text": [
      "Removed 46 of 133 SLCs\n"
     ]
    }
   ],
   "source": [
    "min_date = pd.to_datetime('20180101T000000')\n",
    "slcs = gdf[(gdf.intersect>0.95) & (gdf.startTime>=min_date)].copy().reset_index(drop=True)\n",
    "print(f'Removed {gdf.shape[0] - slcs.shape[0]} of {gdf.shape[0]} SLCs')"
   ]
  },
  {
   "cell_type": "code",
   "execution_count": 74,
   "metadata": {},
   "outputs": [
    {
     "data": {
      "text/plain": [
       "<matplotlib.collections.PathCollection at 0x2194782bd00>"
      ]
     },
     "execution_count": 74,
     "metadata": {},
     "output_type": "execute_result"
    },
    {
     "data": {
      "image/png": "[encoded data removed]",
      "text/plain": [
       "<Figure size 432x288 with 1 Axes>"
      ]
     },
     "metadata": {
      "needs_background": "light"
     },
     "output_type": "display_data"
    }
   ],
   "source": [
    "plt.scatter(slcs.startTime,slcs.intersect)"
   ]
  },
  {
   "cell_type": "code",
   "execution_count": 77,
   "metadata": {},
   "outputs": [
    {
     "data": {
      "text/plain": [
       "'S1A_IW_SLC__1SDV_20211009T173042_20211009T173109_040045_04BD99_15D4'"
      ]
     },
     "execution_count": 77,
     "metadata": {},
     "output_type": "execute_result"
    }
   ],
   "source": [
    "reference"
   ]
  },
  {
   "cell_type": "code",
   "execution_count": 83,
   "metadata": {},
   "outputs": [],
   "source": [
    "pairs = {}\n",
    "names = slcs.fileName.str[:-4]\n",
    "length = names.shape[0]"
   ]
  },
  {
   "cell_type": "code",
   "execution_count": 84,
   "metadata": {},
   "outputs": [
    {
     "name": "stdout",
     "output_type": "stream",
     "text": [
      "This includes 255 interferograms\n"
     ]
    }
   ],
   "source": [
    "for i,reference in enumerate(names):\n",
    "    secondary = []\n",
    "    for j in [1,2,3]:\n",
    "        index = i+j\n",
    "        if index < length:\n",
    "            secondary.append(names[index])\n",
    "    if secondary != []:\n",
    "        pairs[reference] = secondary\n",
    "\n",
    "print(f'This includes {(len(pairs)-1)*3} interferograms')"
   ]
  },
  {
   "cell_type": "markdown",
   "metadata": {},
   "source": [
    "Enter Hyp3 credentials"
   ]
  },
  {
   "cell_type": "code",
   "execution_count": 87,
   "metadata": {},
   "outputs": [
    {
     "name": "stdin",
     "output_type": "stream",
     "text": [
      "NASA Earthdata Login username:  forrestfwilliams\n",
      "NASA Earthdata Login password:  ····················\n"
     ]
    },
    {
     "name": "stdout",
     "output_type": "stream",
     "text": [
      "Remaining Quota: 1000\n"
     ]
    }
   ],
   "source": [
    "hyp3 = sdk.HyP3(prompt=True)\n",
    "my_info = hyp3.my_info()\n",
    "print(f\"Remaining Quota: {my_info['quota']['remaining']}\")"
   ]
  },
  {
   "cell_type": "markdown",
   "metadata": {},
   "source": [
    "Create download list"
   ]
  },
  {
   "cell_type": "code",
   "execution_count": null,
   "metadata": {},
   "outputs": [],
   "source": [
    "# # Project name\n",
    "# # project_name = 'ifg_a_p81_f1048_20x4'\n",
    "# project_name = 'p81f1048_10x2_2'\n",
    "\n",
    "# # Set date bounds\n",
    "# start_date = datetime.datetime(2017, 12, 31)\n",
    "# end_date = datetime.datetime(2021, 12, 31)\n",
    "\n",
    "# # Read in \n",
    "# df = pd.read_csv('slcs_asc_path81_frame1048.csv',usecols=['Granule Name', 'Acquisition Date'])\n",
    "\n",
    "# # Convert and limit by date\n",
    "# df['Acquisition Date'] = pd.to_datetime(df['Acquisition Date'], format='%Y-%m-%dT%H:%M:%S')\n",
    "# df = df.loc[(df['Acquisition Date']>=start_date) & (df['Acquisition Date']<=end_date)]\n",
    "# df = df.sort_values('Acquisition Date')\n",
    "\n",
    "# granules = list(df['Granule Name'])\n",
    "# print(f'Will create interferograms for {len(granules)} SLCs')"
   ]
  },
  {
   "cell_type": "markdown",
   "metadata": {},
   "source": [
    "Request Ifg generation"
   ]
  },
  {
   "cell_type": "code",
   "execution_count": 88,
   "metadata": {},
   "outputs": [],
   "source": [
    "project_name = 'desc_lower'\n",
    "\n",
    "insar_jobs = sdk.Batch()\n",
    "first = True\n",
    "\n",
    "options = {'name':project_name,'looks':'10x2', 'include_wrapped_phase':False, 'apply_water_mask':True}\n",
    "initial_options = dict(options)\n",
    "initial_options.update({'include_inc_map':True,'include_dem':True,'include_look_vectors':True})"
   ]
  },
  {
   "cell_type": "code",
   "execution_count": 89,
   "metadata": {},
   "outputs": [
    {
     "data": {
      "application/vnd.jupyter.widget-view+json": {
       "model_id": "a8b9b22193e84ca0a05bcf5e53632868",
       "version_major": 2,
       "version_minor": 0
      },
      "text/plain": [
       "  0%|          | 0/86 [00:00<?, ?it/s]"
      ]
     },
     "metadata": {},
     "output_type": "display_data"
    }
   ],
   "source": [
    "for reference in tqdm(pairs):\n",
    "    for secondary in pairs[reference]:\n",
    "        if first:\n",
    "            insar_jobs += hyp3.submit_insar_job(reference, secondary, **initial_options)\n",
    "            first = False\n",
    "        else:\n",
    "            insar_jobs += hyp3.submit_insar_job(reference, secondary, **options)"
   ]
  },
  {
   "cell_type": "markdown",
   "metadata": {},
   "source": [
    "Check progress and download"
   ]
  },
  {
   "cell_type": "code",
   "execution_count": 91,
   "metadata": {
    "tags": []
   },
   "outputs": [
    {
     "data": {
      "application/vnd.jupyter.widget-view+json": {
       "model_id": "0f178a7e6bb3492eb3ad77fb25a7b274",
       "version_major": 2,
       "version_minor": 0
      },
      "text/plain": [
       "S1AA_20210927T173042_20211009T173042_VVR012_INT40_G_weF_66DB.zip:   0%|          | 0/304486074 [00:00<?, ?it/s…"
      ]
     },
     "metadata": {},
     "output_type": "display_data"
    },
    {
     "data": {
      "application/vnd.jupyter.widget-view+json": {
       "model_id": "567c32500c5a47ed9c9f12a30dd974bd",
       "version_major": 2,
       "version_minor": 0
      },
      "text/plain": [
       "S1AA_20210915T173041_20211009T173042_VVR024_INT40_G_weF_EA1F.zip:   0%|          | 0/301280779 [00:00<?, ?it/s…"
      ]
     },
     "metadata": {},
     "output_type": "display_data"
    },
    {
     "data": {
      "application/vnd.jupyter.widget-view+json": {
       "model_id": "e6c5640dea5d4c9682a5d0c90e750c7a",
       "version_major": 2,
       "version_minor": 0
      },
      "text/plain": [
       "S1AA_20210915T173041_20210927T173042_VVP012_INT40_G_weF_240A.zip:   0%|          | 0/301779827 [00:00<?, ?it/s…"
      ]
     },
     "metadata": {},
     "output_type": "display_data"
    },
    {
     "data": {
      "application/vnd.jupyter.widget-view+json": {
       "model_id": "02ed63df58144450b26b691cfb798a2d",
       "version_major": 2,
       "version_minor": 0
      },
      "text/plain": [
       "S1AA_20210903T173041_20211009T173042_VVR036_INT40_G_weF_314D.zip:   0%|          | 0/301626340 [00:00<?, ?it/s…"
      ]
     },
     "metadata": {},
     "output_type": "display_data"
    },
    {
     "data": {
      "application/vnd.jupyter.widget-view+json": {
       "model_id": "fc39e1924b49405d9b3df9be97feb1af",
       "version_major": 2,
       "version_minor": 0
      },
      "text/plain": [
       "S1AA_20210903T173041_20210915T173041_VVP012_INT40_G_weF_FCAC.zip:   0%|          | 0/301046460 [00:00<?, ?it/s…"
      ]
     },
     "metadata": {},
     "output_type": "display_data"
    },
    {
     "data": {
      "application/vnd.jupyter.widget-view+json": {
       "model_id": "0b958805ae8f4354af16767398844746",
       "version_major": 2,
       "version_minor": 0
      },
      "text/plain": [
       "S1AA_20210903T173041_20210927T173042_VVP024_INT40_G_weF_BC8D.zip:   0%|          | 0/301082866 [00:00<?, ?it/s…"
      ]
     },
     "metadata": {},
     "output_type": "display_data"
    },
    {
     "data": {
      "application/vnd.jupyter.widget-view+json": {
       "model_id": "b01784aade3046768ff855be84f40312",
       "version_major": 2,
       "version_minor": 0
      },
      "text/plain": [
       "S1AA_20210822T173040_20210915T173041_VVP024_INT40_G_weF_56C0.zip:   0%|          | 0/302909401 [00:00<?, ?it/s…"
      ]
     },
     "metadata": {},
     "output_type": "display_data"
    },
    {
     "data": {
      "application/vnd.jupyter.widget-view+json": {
       "model_id": "8514b58209204a9380a41c973ee1f27e",
       "version_major": 2,
       "version_minor": 0
      },
      "text/plain": [
       "S1AA_20210822T173040_20210927T173042_VVP036_INT40_G_weF_06B3.zip:   0%|          | 0/301807403 [00:00<?, ?it/s…"
      ]
     },
     "metadata": {},
     "output_type": "display_data"
    },
    {
     "data": {
      "application/vnd.jupyter.widget-view+json": {
       "model_id": "bf82adeae2cf4644b45aa9819672059a",
       "version_major": 2,
       "version_minor": 0
      },
      "text/plain": [
       "S1AA_20210810T173040_20210903T173041_VVP024_INT40_G_weF_3684.zip:   0%|          | 0/302034269 [00:00<?, ?it/s…"
      ]
     },
     "metadata": {},
     "output_type": "display_data"
    },
    {
     "data": {
      "application/vnd.jupyter.widget-view+json": {
       "model_id": "37a8cc45795341f0b1a95231fc52aba4",
       "version_major": 2,
       "version_minor": 0
      },
      "text/plain": [
       "S1AA_20210810T173040_20210915T173041_VVP036_INT40_G_weF_0B85.zip:   0%|          | 0/304345974 [00:00<?, ?it/s…"
      ]
     },
     "metadata": {},
     "output_type": "display_data"
    },
    {
     "data": {
      "application/vnd.jupyter.widget-view+json": {
       "model_id": "30203314119e427f8a24413d41dac6fa",
       "version_major": 2,
       "version_minor": 0
      },
      "text/plain": [
       "S1AA_20210822T173040_20210903T173041_VVP012_INT40_G_weF_F6F7.zip:   0%|          | 0/300874522 [00:00<?, ?it/s…"
      ]
     },
     "metadata": {},
     "output_type": "display_data"
    },
    {
     "data": {
      "application/vnd.jupyter.widget-view+json": {
       "model_id": "f594b9f208d84da7a9b4e2547f51fa8a",
       "version_major": 2,
       "version_minor": 0
      },
      "text/plain": [
       "S1AA_20210530T173035_20210903T173041_VVP096_INT40_G_weF_859B.zip:   0%|          | 0/304065935 [00:00<?, ?it/s…"
      ]
     },
     "metadata": {},
     "output_type": "display_data"
    },
    {
     "data": {
      "application/vnd.jupyter.widget-view+json": {
       "model_id": "30e62af8c8eb4ccea0dc6c42f3863bca",
       "version_major": 2,
       "version_minor": 0
      },
      "text/plain": [
       "S1AA_20210810T173040_20210822T173040_VVP012_INT40_G_weF_E700.zip:   0%|          | 0/300986897 [00:00<?, ?it/s…"
      ]
     },
     "metadata": {},
     "output_type": "display_data"
    },
    {
     "data": {
      "application/vnd.jupyter.widget-view+json": {
       "model_id": "ac1f18c130fb4f4a82629309dca3de17",
       "version_major": 2,
       "version_minor": 0
      },
      "text/plain": [
       "S1AA_20210530T173035_20210822T173040_VVP084_INT40_G_weF_9643.zip:   0%|          | 0/301911454 [00:00<?, ?it/s…"
      ]
     },
     "metadata": {},
     "output_type": "display_data"
    },
    {
     "data": {
      "application/vnd.jupyter.widget-view+json": {
       "model_id": "7ab7391146cc41f5b28b76983a88818b",
       "version_major": 2,
       "version_minor": 0
      },
      "text/plain": [
       "S1AA_20210530T173035_20210810T173040_VVP072_INT40_G_weF_A0B5.zip:   0%|          | 0/304531819 [00:00<?, ?it/s…"
      ]
     },
     "metadata": {},
     "output_type": "display_data"
    },
    {
     "data": {
      "application/vnd.jupyter.widget-view+json": {
       "model_id": "1d5b1d5eb43b4e04a1f376698e12172c",
       "version_major": 2,
       "version_minor": 0
      },
      "text/plain": [
       "S1AA_20210424T173034_20210822T173040_VVP120_INT40_G_weF_1F03.zip:   0%|          | 0/302358621 [00:00<?, ?it/s…"
      ]
     },
     "metadata": {},
     "output_type": "display_data"
    },
    {
     "data": {
      "application/vnd.jupyter.widget-view+json": {
       "model_id": "c33356a415bb4cf6bbe8b876ff46df3c",
       "version_major": 2,
       "version_minor": 0
      },
      "text/plain": [
       "S1AA_20210424T173034_20210530T173035_VVP036_INT40_G_weF_2AEC.zip:   0%|          | 0/301500876 [00:00<?, ?it/s…"
      ]
     },
     "metadata": {},
     "output_type": "display_data"
    },
    {
     "data": {
      "application/vnd.jupyter.widget-view+json": {
       "model_id": "33df8e8725b3414a85c5e1a7032da660",
       "version_major": 2,
       "version_minor": 0
      },
      "text/plain": [
       "S1AA_20210424T173034_20210810T173040_VVP108_INT40_G_weF_28C7.zip:   0%|          | 0/303970930 [00:00<?, ?it/s…"
      ]
     },
     "metadata": {},
     "output_type": "display_data"
    },
    {
     "data": {
      "application/vnd.jupyter.widget-view+json": {
       "model_id": "25df88631f1f46e0b03767915ae1798d",
       "version_major": 2,
       "version_minor": 0
      },
      "text/plain": [
       "S1AA_20210412T173033_20210530T173035_VVP048_INT40_G_weF_0BE2.zip:   0%|          | 0/303426969 [00:00<?, ?it/s…"
      ]
     },
     "metadata": {},
     "output_type": "display_data"
    },
    {
     "data": {
      "application/vnd.jupyter.widget-view+json": {
       "model_id": "e86ab80584304114adf8055afe0a36bc",
       "version_major": 2,
       "version_minor": 0
      },
      "text/plain": [
       "S1AA_20210412T173033_20210810T173040_VVP120_INT40_G_weF_7DBE.zip:   0%|          | 0/302531565 [00:00<?, ?it/s…"
      ]
     },
     "metadata": {},
     "output_type": "display_data"
    },
    {
     "data": {
      "application/vnd.jupyter.widget-view+json": {
       "model_id": "5c0bb9a6d3164223af9f62545b1ce119",
       "version_major": 2,
       "version_minor": 0
      },
      "text/plain": [
       "S1AA_20210331T173033_20210530T173035_VVP060_INT40_G_weF_2200.zip:   0%|          | 0/303412811 [00:00<?, ?it/s…"
      ]
     },
     "metadata": {},
     "output_type": "display_data"
    },
    {
     "data": {
      "application/vnd.jupyter.widget-view+json": {
       "model_id": "1363d50d9b2748e38f4482eaa56e7a3f",
       "version_major": 2,
       "version_minor": 0
      },
      "text/plain": [
       "S1AA_20210412T173033_20210424T173034_VVP012_INT40_G_weF_9534.zip:   0%|          | 0/303856791 [00:00<?, ?it/s…"
      ]
     },
     "metadata": {},
     "output_type": "display_data"
    },
    {
     "data": {
      "application/vnd.jupyter.widget-view+json": {
       "model_id": "b4c7de49192342cb86a3d93edefa54bb",
       "version_major": 2,
       "version_minor": 0
      },
      "text/plain": [
       "S1AA_20210331T173033_20210412T173033_VVP012_INT40_G_weF_FDC7.zip:   0%|          | 0/303438299 [00:00<?, ?it/s…"
      ]
     },
     "metadata": {},
     "output_type": "display_data"
    },
    {
     "data": {
      "application/vnd.jupyter.widget-view+json": {
       "model_id": "2bda0957dd0b4514ac09d04d9f926bf8",
       "version_major": 2,
       "version_minor": 0
      },
      "text/plain": [
       "S1AA_20210331T173033_20210424T173034_VVP024_INT40_G_weF_53EC.zip:   0%|          | 0/303205664 [00:00<?, ?it/s…"
      ]
     },
     "metadata": {},
     "output_type": "display_data"
    },
    {
     "data": {
      "application/vnd.jupyter.widget-view+json": {
       "model_id": "b6e0b164ae3b4a2eb2390580b2ca7676",
       "version_major": 2,
       "version_minor": 0
      },
      "text/plain": [
       "S1AA_20210319T173032_20210412T173033_VVP024_INT40_G_weF_E441.zip:   0%|          | 0/302941296 [00:00<?, ?it/s…"
      ]
     },
     "metadata": {},
     "output_type": "display_data"
    },
    {
     "data": {
      "application/vnd.jupyter.widget-view+json": {
       "model_id": "d6c23835bbe14bc39327ed07647dbf20",
       "version_major": 2,
       "version_minor": 0
      },
      "text/plain": [
       "S1AA_20210319T173032_20210424T173034_VVP036_INT40_G_weF_6F4A.zip:   0%|          | 0/301605691 [00:00<?, ?it/s…"
      ]
     },
     "metadata": {},
     "output_type": "display_data"
    },
    {
     "data": {
      "application/vnd.jupyter.widget-view+json": {
       "model_id": "dc26fd397f6945d390dd7d9e437d2f23",
       "version_major": 2,
       "version_minor": 0
      },
      "text/plain": [
       "S1AA_20210307T173032_20210412T173033_VVP036_INT40_G_weF_7FF2.zip:   0%|          | 0/301885604 [00:00<?, ?it/s…"
      ]
     },
     "metadata": {},
     "output_type": "display_data"
    },
    {
     "data": {
      "application/vnd.jupyter.widget-view+json": {
       "model_id": "c073d1002b0c4ac5a30620dea98b90f5",
       "version_major": 2,
       "version_minor": 0
      },
      "text/plain": [
       "S1AA_20210307T173032_20210331T173033_VVP024_INT40_G_weF_61D6.zip:   0%|          | 0/304057768 [00:00<?, ?it/s…"
      ]
     },
     "metadata": {},
     "output_type": "display_data"
    },
    {
     "data": {
      "application/vnd.jupyter.widget-view+json": {
       "model_id": "3538fa9719974f48af7f99748bd5ba4d",
       "version_major": 2,
       "version_minor": 0
      },
      "text/plain": [
       "S1AA_20210319T173032_20210331T173033_VVP012_INT40_G_weF_CBDE.zip:   0%|          | 0/304315773 [00:00<?, ?it/s…"
      ]
     },
     "metadata": {},
     "output_type": "display_data"
    },
    {
     "data": {
      "application/vnd.jupyter.widget-view+json": {
       "model_id": "54b146f7c5fa497085cd63ac6dcfd69f",
       "version_major": 2,
       "version_minor": 0
      },
      "text/plain": [
       "S1AA_20210307T173032_20210319T173032_VVP012_INT40_G_weF_396C.zip:   0%|          | 0/302488961 [00:00<?, ?it/s…"
      ]
     },
     "metadata": {},
     "output_type": "display_data"
    },
    {
     "data": {
      "application/vnd.jupyter.widget-view+json": {
       "model_id": "362b8db6461140c5bd6566e25387c04c",
       "version_major": 2,
       "version_minor": 0
      },
      "text/plain": [
       "S1AA_20210223T173032_20210331T173033_VVP036_INT40_G_weF_2352.zip:   0%|          | 0/303974241 [00:00<?, ?it/s…"
      ]
     },
     "metadata": {},
     "output_type": "display_data"
    },
    {
     "data": {
      "application/vnd.jupyter.widget-view+json": {
       "model_id": "e197c2a2a07e41b89acd243ee8c7eb9a",
       "version_major": 2,
       "version_minor": 0
      },
      "text/plain": [
       "S1AA_20210223T173032_20210319T173032_VVP024_INT40_G_weF_18BB.zip:   0%|          | 0/303481253 [00:00<?, ?it/s…"
      ]
     },
     "metadata": {},
     "output_type": "display_data"
    },
    {
     "data": {
      "application/vnd.jupyter.widget-view+json": {
       "model_id": "87b34a67c351452585ddcd25932ccbd0",
       "version_major": 2,
       "version_minor": 0
      },
      "text/plain": [
       "S1AA_20210223T173032_20210307T173032_VVP012_INT40_G_weF_FD39.zip:   0%|          | 0/302204558 [00:00<?, ?it/s…"
      ]
     },
     "metadata": {},
     "output_type": "display_data"
    },
    {
     "data": {
      "application/vnd.jupyter.widget-view+json": {
       "model_id": "1751fca92a7c42adb4f469e5f4d3c92f",
       "version_major": 2,
       "version_minor": 0
      },
      "text/plain": [
       "S1AA_20210211T173033_20210307T173032_VVP024_INT40_G_weF_B11B.zip:   0%|          | 0/301992870 [00:00<?, ?it/s…"
      ]
     },
     "metadata": {},
     "output_type": "display_data"
    },
    {
     "data": {
      "application/vnd.jupyter.widget-view+json": {
       "model_id": "8f17d01f0e324b61ab39a6723f9c08d5",
       "version_major": 2,
       "version_minor": 0
      },
      "text/plain": [
       "S1AA_20210211T173033_20210319T173032_VVP036_INT40_G_weF_5C96.zip:   0%|          | 0/303907933 [00:00<?, ?it/s…"
      ]
     },
     "metadata": {},
     "output_type": "display_data"
    },
    {
     "data": {
      "application/vnd.jupyter.widget-view+json": {
       "model_id": "3bae677add7d43cf8c6e63c392d1046d",
       "version_major": 2,
       "version_minor": 0
      },
      "text/plain": [
       "S1AA_20210211T173033_20210223T173032_VVP012_INT40_G_weF_AAEB.zip:   0%|          | 0/302724971 [00:00<?, ?it/s…"
      ]
     },
     "metadata": {},
     "output_type": "display_data"
    },
    {
     "data": {
      "application/vnd.jupyter.widget-view+json": {
       "model_id": "f0f0d5ff0cb64e3e9cfaac789313b2c9",
       "version_major": 2,
       "version_minor": 0
      },
      "text/plain": [
       "S1AA_20210118T173033_20210307T173032_VVP048_INT40_G_weF_F3F1.zip:   0%|          | 0/303865458 [00:00<?, ?it/s…"
      ]
     },
     "metadata": {},
     "output_type": "display_data"
    },
    {
     "data": {
      "application/vnd.jupyter.widget-view+json": {
       "model_id": "087c9519ec55429a89735764a7f4e64d",
       "version_major": 2,
       "version_minor": 0
      },
      "text/plain": [
       "S1AA_20210118T173033_20210211T173033_VVP024_INT40_G_weF_E0CE.zip:   0%|          | 0/301025801 [00:00<?, ?it/s…"
      ]
     },
     "metadata": {},
     "output_type": "display_data"
    },
    {
     "data": {
      "application/vnd.jupyter.widget-view+json": {
       "model_id": "27b7e52f624640d4a8cd2e7ef5793d99",
       "version_major": 2,
       "version_minor": 0
      },
      "text/plain": [
       "S1AA_20210118T173033_20210223T173032_VVP036_INT40_G_weF_61DF.zip:   0%|          | 0/301648925 [00:00<?, ?it/s…"
      ]
     },
     "metadata": {},
     "output_type": "display_data"
    },
    {
     "data": {
      "application/vnd.jupyter.widget-view+json": {
       "model_id": "fd02ef74e81c46f3b891f9e4665d5e27",
       "version_major": 2,
       "version_minor": 0
      },
      "text/plain": [
       "S1AA_20210106T173034_20210223T173032_VVP048_INT40_G_weF_6AA9.zip:   0%|          | 0/300398292 [00:00<?, ?it/s…"
      ]
     },
     "metadata": {},
     "output_type": "display_data"
    },
    {
     "data": {
      "application/vnd.jupyter.widget-view+json": {
       "model_id": "8d24f7b2345a4e0196a3a6b42f649fca",
       "version_major": 2,
       "version_minor": 0
      },
      "text/plain": [
       "S1AA_20210106T173034_20210211T173033_VVP036_INT40_G_weF_8DEA.zip:   0%|          | 0/300993337 [00:00<?, ?it/s…"
      ]
     },
     "metadata": {},
     "output_type": "display_data"
    },
    {
     "data": {
      "application/vnd.jupyter.widget-view+json": {
       "model_id": "8e8a59d0be5d4ba6982402ed13689977",
       "version_major": 2,
       "version_minor": 0
      },
      "text/plain": [
       "S1AA_20210106T173034_20210118T173033_VVP012_INT40_G_weF_454D.zip:   0%|          | 0/303054201 [00:00<?, ?it/s…"
      ]
     },
     "metadata": {},
     "output_type": "display_data"
    },
    {
     "data": {
      "application/vnd.jupyter.widget-view+json": {
       "model_id": "2c11e87616c147b9bdfe70cbc226c634",
       "version_major": 2,
       "version_minor": 0
      },
      "text/plain": [
       "S1AA_20201225T173034_20210118T173033_VVP024_INT40_G_weF_C54C.zip:   0%|          | 0/301041915 [00:00<?, ?it/s…"
      ]
     },
     "metadata": {},
     "output_type": "display_data"
    },
    {
     "data": {
      "application/vnd.jupyter.widget-view+json": {
       "model_id": "47869b57b2274094a6c6374d36b4d132",
       "version_major": 2,
       "version_minor": 0
      },
      "text/plain": [
       "S1AA_20201225T173034_20210211T173033_VVP048_INT40_G_weF_9269.zip:   0%|          | 0/302714183 [00:00<?, ?it/s…"
      ]
     },
     "metadata": {},
     "output_type": "display_data"
    },
    {
     "data": {
      "application/vnd.jupyter.widget-view+json": {
       "model_id": "1f13051d88244cbbbb8b24985af62543",
       "version_major": 2,
       "version_minor": 0
      },
      "text/plain": [
       "S1AA_20201225T173034_20210106T173034_VVP012_INT40_G_weF_D00D.zip:   0%|          | 0/301374474 [00:00<?, ?it/s…"
      ]
     },
     "metadata": {},
     "output_type": "display_data"
    },
    {
     "data": {
      "application/vnd.jupyter.widget-view+json": {
       "model_id": "69fdfa9fab6f44c3b5de7d3e2e8a78b7",
       "version_major": 2,
       "version_minor": 0
      },
      "text/plain": [
       "S1AA_20201213T173035_20210118T173033_VVP036_INT40_G_weF_7860.zip:   0%|          | 0/300856548 [00:00<?, ?it/s…"
      ]
     },
     "metadata": {},
     "output_type": "display_data"
    },
    {
     "data": {
      "application/vnd.jupyter.widget-view+json": {
       "model_id": "6560f413cd6345deb0e5b6386becd9dd",
       "version_major": 2,
       "version_minor": 0
      },
      "text/plain": [
       "S1AA_20201213T173035_20201225T173034_VVP012_INT40_G_weF_F2E5.zip:   0%|          | 0/304185352 [00:00<?, ?it/s…"
      ]
     },
     "metadata": {},
     "output_type": "display_data"
    },
    {
     "data": {
      "application/vnd.jupyter.widget-view+json": {
       "model_id": "268d9f78a67841b69f25106cd24de60f",
       "version_major": 2,
       "version_minor": 0
      },
      "text/plain": [
       "S1AA_20201201T173035_20210106T173034_VVP036_INT40_G_weF_0789.zip:   0%|          | 0/299581819 [00:00<?, ?it/s…"
      ]
     },
     "metadata": {},
     "output_type": "display_data"
    },
    {
     "data": {
      "application/vnd.jupyter.widget-view+json": {
       "model_id": "f6263399f3284ba197cb1bf091c43f96",
       "version_major": 2,
       "version_minor": 0
      },
      "text/plain": [
       "S1AA_20201213T173035_20210106T173034_VVP024_INT40_G_weF_FFE4.zip:   0%|          | 0/301149685 [00:00<?, ?it/s…"
      ]
     },
     "metadata": {},
     "output_type": "display_data"
    },
    {
     "data": {
      "application/vnd.jupyter.widget-view+json": {
       "model_id": "5a4b3cd6d73144bea79b5b4ae86d5f00",
       "version_major": 2,
       "version_minor": 0
      },
      "text/plain": [
       "S1AA_20201201T173035_20201225T173034_VVP024_INT40_G_weF_340A.zip:   0%|          | 0/304454225 [00:00<?, ?it/s…"
      ]
     },
     "metadata": {},
     "output_type": "display_data"
    },
    {
     "data": {
      "application/vnd.jupyter.widget-view+json": {
       "model_id": "6163fa133a95449e806062fb4b33faaa",
       "version_major": 2,
       "version_minor": 0
      },
      "text/plain": [
       "S1AA_20201201T173035_20201213T173035_VVP012_INT40_G_weF_168F.zip:   0%|          | 0/303237901 [00:00<?, ?it/s…"
      ]
     },
     "metadata": {},
     "output_type": "display_data"
    },
    {
     "data": {
      "application/vnd.jupyter.widget-view+json": {
       "model_id": "4f205570ddd648428e628bef5faec29b",
       "version_major": 2,
       "version_minor": 0
      },
      "text/plain": [
       "S1AA_20201119T173036_20201225T173034_VVP036_INT40_G_weF_CAE2.zip:   0%|          | 0/302348024 [00:00<?, ?it/s…"
      ]
     },
     "metadata": {},
     "output_type": "display_data"
    },
    {
     "data": {
      "application/vnd.jupyter.widget-view+json": {
       "model_id": "5de3e72039a24025a29a75665e4c233c",
       "version_major": 2,
       "version_minor": 0
      },
      "text/plain": [
       "S1AA_20201119T173036_20201213T173035_VVP024_INT40_G_weF_A0D1.zip:   0%|          | 0/303870122 [00:00<?, ?it/s…"
      ]
     },
     "metadata": {},
     "output_type": "display_data"
    },
    {
     "data": {
      "application/vnd.jupyter.widget-view+json": {
       "model_id": "c7d2f5970b0d44829be394f206707ebd",
       "version_major": 2,
       "version_minor": 0
      },
      "text/plain": [
       "S1AA_20201119T173036_20201201T173035_VVP012_INT40_G_weF_081F.zip:   0%|          | 0/302968330 [00:00<?, ?it/s…"
      ]
     },
     "metadata": {},
     "output_type": "display_data"
    },
    {
     "data": {
      "application/vnd.jupyter.widget-view+json": {
       "model_id": "8418b3f255e24f3e99d3d9d1d9c3332d",
       "version_major": 2,
       "version_minor": 0
      },
      "text/plain": [
       "S1AA_20201014T173036_20201201T173035_VVP048_INT40_G_weF_41B2.zip:   0%|          | 0/303684790 [00:00<?, ?it/s…"
      ]
     },
     "metadata": {},
     "output_type": "display_data"
    },
    {
     "data": {
      "application/vnd.jupyter.widget-view+json": {
       "model_id": "952bc44a30d74205a734a9d1f5478499",
       "version_major": 2,
       "version_minor": 0
      },
      "text/plain": [
       "S1AA_20201014T173036_20201213T173035_VVP060_INT40_G_weF_1B7E.zip:   0%|          | 0/303536547 [00:00<?, ?it/s…"
      ]
     },
     "metadata": {},
     "output_type": "display_data"
    },
    {
     "data": {
      "application/vnd.jupyter.widget-view+json": {
       "model_id": "d6cfea402b74439288a635d7b88afb9a",
       "version_major": 2,
       "version_minor": 0
      },
      "text/plain": [
       "S1AA_20201002T173036_20201201T173035_VVP060_INT40_G_weF_62CD.zip:   0%|          | 0/299617353 [00:00<?, ?it/s…"
      ]
     },
     "metadata": {},
     "output_type": "display_data"
    },
    {
     "data": {
      "application/vnd.jupyter.widget-view+json": {
       "model_id": "b1cc27c5ec66431dba982d04a0038cdf",
       "version_major": 2,
       "version_minor": 0
      },
      "text/plain": [
       "S1AA_20201014T173036_20201119T173036_VVP036_INT40_G_weF_C88C.zip:   0%|          | 0/302884722 [00:00<?, ?it/s…"
      ]
     },
     "metadata": {},
     "output_type": "display_data"
    },
    {
     "data": {
      "application/vnd.jupyter.widget-view+json": {
       "model_id": "d3485d52fcef46a08854aaf72caec8b7",
       "version_major": 2,
       "version_minor": 0
      },
      "text/plain": [
       "S1AA_20201002T173036_20201014T173036_VVP012_INT40_G_weF_1B85.zip:   0%|          | 0/299802700 [00:00<?, ?it/s…"
      ]
     },
     "metadata": {},
     "output_type": "display_data"
    },
    {
     "data": {
      "application/vnd.jupyter.widget-view+json": {
       "model_id": "02be01d1daaa422cb698497ffe2fe409",
       "version_major": 2,
       "version_minor": 0
      },
      "text/plain": [
       "S1AA_20201002T173036_20201119T173036_VVP048_INT40_G_weF_E368.zip:   0%|          | 0/300876461 [00:00<?, ?it/s…"
      ]
     },
     "metadata": {},
     "output_type": "display_data"
    },
    {
     "data": {
      "application/vnd.jupyter.widget-view+json": {
       "model_id": "c05775644d3e4737b2ccb032ef2a2681",
       "version_major": 2,
       "version_minor": 0
      },
      "text/plain": [
       "S1AA_20200920T173036_20201014T173036_VVP024_INT40_G_weF_AB8F.zip:   0%|          | 0/301226971 [00:00<?, ?it/s…"
      ]
     },
     "metadata": {},
     "output_type": "display_data"
    },
    {
     "data": {
      "application/vnd.jupyter.widget-view+json": {
       "model_id": "140a9bf0b33045869c738dc794a80b43",
       "version_major": 2,
       "version_minor": 0
      },
      "text/plain": [
       "S1AA_20200920T173036_20201119T173036_VVP060_INT40_G_weF_79DA.zip:   0%|          | 0/304237336 [00:00<?, ?it/s…"
      ]
     },
     "metadata": {},
     "output_type": "display_data"
    },
    {
     "data": {
      "application/vnd.jupyter.widget-view+json": {
       "model_id": "635e8b4b304544ea83b2fa70fa6d0787",
       "version_major": 2,
       "version_minor": 0
      },
      "text/plain": [
       "S1AA_20200920T173036_20201002T173036_VVP012_INT40_G_weF_EE28.zip:   0%|          | 0/300073908 [00:00<?, ?it/s…"
      ]
     },
     "metadata": {},
     "output_type": "display_data"
    },
    {
     "data": {
      "application/vnd.jupyter.widget-view+json": {
       "model_id": "2f3cb73a6bb14572a7811830891dfe50",
       "version_major": 2,
       "version_minor": 0
      },
      "text/plain": [
       "S1AA_20200908T173035_20201014T173036_VVP036_INT40_G_weF_1E6A.zip:   0%|          | 0/300385845 [00:00<?, ?it/s…"
      ]
     },
     "metadata": {},
     "output_type": "display_data"
    },
    {
     "data": {
      "application/vnd.jupyter.widget-view+json": {
       "model_id": "26e04098c5954609a132062021d6211d",
       "version_major": 2,
       "version_minor": 0
      },
      "text/plain": [
       "S1AA_20200908T173035_20201002T173036_VVP024_INT40_G_weF_E9AA.zip:   0%|          | 0/300561510 [00:00<?, ?it/s…"
      ]
     },
     "metadata": {},
     "output_type": "display_data"
    },
    {
     "data": {
      "application/vnd.jupyter.widget-view+json": {
       "model_id": "bf67d94581104b239a98aa4946518ec3",
       "version_major": 2,
       "version_minor": 0
      },
      "text/plain": [
       "S1AA_20200908T173035_20200920T173036_VVP012_INT40_G_weF_867A.zip:   0%|          | 0/298318002 [00:00<?, ?it/s…"
      ]
     },
     "metadata": {},
     "output_type": "display_data"
    },
    {
     "data": {
      "application/vnd.jupyter.widget-view+json": {
       "model_id": "c57d46e38ab149c78ab1ef2159d160e7",
       "version_major": 2,
       "version_minor": 0
      },
      "text/plain": [
       "S1AA_20200827T173035_20200908T173035_VVP012_INT40_G_weF_0ADA.zip:   0%|          | 0/301641549 [00:00<?, ?it/s…"
      ]
     },
     "metadata": {},
     "output_type": "display_data"
    },
    {
     "data": {
      "application/vnd.jupyter.widget-view+json": {
       "model_id": "8556057647cf45d7aaf6ed9a093b51df",
       "version_major": 2,
       "version_minor": 0
      },
      "text/plain": [
       "S1AA_20200827T173035_20201002T173036_VVP036_INT40_G_weF_8212.zip:   0%|          | 0/301986794 [00:00<?, ?it/s…"
      ]
     },
     "metadata": {},
     "output_type": "display_data"
    },
    {
     "data": {
      "application/vnd.jupyter.widget-view+json": {
       "model_id": "014a797808ea4b3981c7c2289ba4910b",
       "version_major": 2,
       "version_minor": 0
      },
      "text/plain": [
       "S1AA_20200827T173035_20200920T173036_VVP024_INT40_G_weF_B12C.zip:   0%|          | 0/304570639 [00:00<?, ?it/s…"
      ]
     },
     "metadata": {},
     "output_type": "display_data"
    },
    {
     "data": {
      "application/vnd.jupyter.widget-view+json": {
       "model_id": "5c4fb56a3cd343c3ab3a376ffd19a56f",
       "version_major": 2,
       "version_minor": 0
      },
      "text/plain": [
       "S1AA_20200815T173034_20200908T173035_VVP024_INT40_G_weF_7F71.zip:   0%|          | 0/298974795 [00:00<?, ?it/s…"
      ]
     },
     "metadata": {},
     "output_type": "display_data"
    },
    {
     "data": {
      "application/vnd.jupyter.widget-view+json": {
       "model_id": "acb7a5e165334508bb6954b2c2f82b57",
       "version_major": 2,
       "version_minor": 0
      },
      "text/plain": [
       "S1AA_20200815T173034_20200920T173036_VVP036_INT40_G_weF_58A6.zip:   0%|          | 0/300373776 [00:00<?, ?it/s…"
      ]
     },
     "metadata": {},
     "output_type": "display_data"
    },
    {
     "data": {
      "application/vnd.jupyter.widget-view+json": {
       "model_id": "a02d10e7422240c89e3d9bc356d4180d",
       "version_major": 2,
       "version_minor": 0
      },
      "text/plain": [
       "S1AA_20200815T173034_20200827T173035_VVP012_INT40_G_weF_BBFB.zip:   0%|          | 0/301303835 [00:00<?, ?it/s…"
      ]
     },
     "metadata": {},
     "output_type": "display_data"
    },
    {
     "data": {
      "application/vnd.jupyter.widget-view+json": {
       "model_id": "e2999a46d97b4dad9e34cf6fa4f9f459",
       "version_major": 2,
       "version_minor": 0
      },
      "text/plain": [
       "S1AA_20200803T173034_20200908T173035_VVP036_INT40_G_weF_1D03.zip:   0%|          | 0/299894777 [00:00<?, ?it/s…"
      ]
     },
     "metadata": {},
     "output_type": "display_data"
    },
    {
     "data": {
      "application/vnd.jupyter.widget-view+json": {
       "model_id": "5ba85c04b1474c798fcb64c6ab395776",
       "version_major": 2,
       "version_minor": 0
      },
      "text/plain": [
       "S1AA_20200803T173034_20200827T173035_VVP024_INT40_G_weF_BF4F.zip:   0%|          | 0/301845321 [00:00<?, ?it/s…"
      ]
     },
     "metadata": {},
     "output_type": "display_data"
    },
    {
     "data": {
      "application/vnd.jupyter.widget-view+json": {
       "model_id": "07053b8772384c079537a828b63138f3",
       "version_major": 2,
       "version_minor": 0
      },
      "text/plain": [
       "S1AA_20200803T173034_20200815T173034_VVP012_INT40_G_weF_6500.zip:   0%|          | 0/300086988 [00:00<?, ?it/s…"
      ]
     },
     "metadata": {},
     "output_type": "display_data"
    },
    {
     "data": {
      "application/vnd.jupyter.widget-view+json": {
       "model_id": "40723115c2ae48c2a270bd8c1caba204",
       "version_major": 2,
       "version_minor": 0
      },
      "text/plain": [
       "S1AA_20200722T173033_20200827T173035_VVP036_INT40_G_weF_DF83.zip:   0%|          | 0/301820897 [00:00<?, ?it/s…"
      ]
     },
     "metadata": {},
     "output_type": "display_data"
    },
    {
     "data": {
      "application/vnd.jupyter.widget-view+json": {
       "model_id": "a7705543336143368668c895ea642d7a",
       "version_major": 2,
       "version_minor": 0
      },
      "text/plain": [
       "S1AA_20200722T173033_20200815T173034_VVP024_INT40_G_weF_C4DF.zip:   0%|          | 0/299869017 [00:00<?, ?it/s…"
      ]
     },
     "metadata": {},
     "output_type": "display_data"
    },
    {
     "data": {
      "application/vnd.jupyter.widget-view+json": {
       "model_id": "225c9ac33389498b8bc1c711ca87bb3e",
       "version_major": 2,
       "version_minor": 0
      },
      "text/plain": [
       "S1AA_20200511T173029_20200815T173034_VVP096_INT40_G_weF_F75D.zip:   0%|          | 0/301965677 [00:00<?, ?it/s…"
      ]
     },
     "metadata": {},
     "output_type": "display_data"
    },
    {
     "data": {
      "application/vnd.jupyter.widget-view+json": {
       "model_id": "0e9273fb42a743389d496650e857f261",
       "version_major": 2,
       "version_minor": 0
      },
      "text/plain": [
       "S1AA_20200511T173029_20200803T173034_VVP084_INT40_G_weF_4ED2.zip:   0%|          | 0/303562523 [00:00<?, ?it/s…"
      ]
     },
     "metadata": {},
     "output_type": "display_data"
    },
    {
     "data": {
      "application/vnd.jupyter.widget-view+json": {
       "model_id": "bb93383fe9364b44b02f32b8d75f613d",
       "version_major": 2,
       "version_minor": 0
      },
      "text/plain": [
       "S1AA_20200722T173033_20200803T173034_VVP012_INT40_G_weF_3999.zip:   0%|          | 0/299741242 [00:00<?, ?it/s…"
      ]
     },
     "metadata": {},
     "output_type": "display_data"
    },
    {
     "data": {
      "application/vnd.jupyter.widget-view+json": {
       "model_id": "47f0b67ea13747649cd85a1c65f75ec6",
       "version_major": 2,
       "version_minor": 0
      },
      "text/plain": [
       "S1AA_20200429T173028_20200803T173034_VVP096_INT40_G_weF_B61A.zip:   0%|          | 0/301429202 [00:00<?, ?it/s…"
      ]
     },
     "metadata": {},
     "output_type": "display_data"
    },
    {
     "data": {
      "application/vnd.jupyter.widget-view+json": {
       "model_id": "b0a7c45721b343e89fb984f99fc46889",
       "version_major": 2,
       "version_minor": 0
      },
      "text/plain": [
       "S1AA_20200511T173029_20200722T173033_VVP072_INT40_G_weF_754D.zip:   0%|          | 0/304052137 [00:00<?, ?it/s…"
      ]
     },
     "metadata": {},
     "output_type": "display_data"
    },
    {
     "data": {
      "application/vnd.jupyter.widget-view+json": {
       "model_id": "665cca13314c46a5991cfa03bd7d3a02",
       "version_major": 2,
       "version_minor": 0
      },
      "text/plain": [
       "S1AA_20200429T173028_20200722T173033_VVP084_INT40_G_weF_7B50.zip:   0%|          | 0/301006412 [00:00<?, ?it/s…"
      ]
     },
     "metadata": {},
     "output_type": "display_data"
    },
    {
     "data": {
      "application/vnd.jupyter.widget-view+json": {
       "model_id": "b6cfb40df20e4e2f86f440c004324b14",
       "version_major": 2,
       "version_minor": 0
      },
      "text/plain": [
       "S1AA_20200429T173028_20200511T173029_VVP012_INT40_G_weF_65BA.zip:   0%|          | 0/299302145 [00:00<?, ?it/s…"
      ]
     },
     "metadata": {},
     "output_type": "display_data"
    },
    {
     "data": {
      "application/vnd.jupyter.widget-view+json": {
       "model_id": "0337376f11bf45ca8e5bfe69100950ab",
       "version_major": 2,
       "version_minor": 0
      },
      "text/plain": [
       "S1AA_20200417T173027_20200511T173029_VVP024_INT40_G_weF_164A.zip:   0%|          | 0/302999371 [00:00<?, ?it/s…"
      ]
     },
     "metadata": {},
     "output_type": "display_data"
    },
    {
     "data": {
      "application/vnd.jupyter.widget-view+json": {
       "model_id": "20999fbf4e904e24b9e2f142788915ba",
       "version_major": 2,
       "version_minor": 0
      },
      "text/plain": [
       "S1AA_20200417T173027_20200722T173033_VVP096_INT40_G_weF_D204.zip:   0%|          | 0/303900589 [00:00<?, ?it/s…"
      ]
     },
     "metadata": {},
     "output_type": "display_data"
    },
    {
     "data": {
      "application/vnd.jupyter.widget-view+json": {
       "model_id": "796b9b5596454dd2a96071fc8a38dd47",
       "version_major": 2,
       "version_minor": 0
      },
      "text/plain": [
       "S1AA_20200417T173027_20200429T173028_VVP012_INT40_G_weF_7461.zip:   0%|          | 0/302857348 [00:00<?, ?it/s…"
      ]
     },
     "metadata": {},
     "output_type": "display_data"
    },
    {
     "data": {
      "application/vnd.jupyter.widget-view+json": {
       "model_id": "b798a19323e746c0bf3fa4192b047be8",
       "version_major": 2,
       "version_minor": 0
      },
      "text/plain": [
       "S1AA_20200405T173027_20200511T173029_VVP036_INT40_G_weF_9437.zip:   0%|          | 0/305276376 [00:00<?, ?it/s…"
      ]
     },
     "metadata": {},
     "output_type": "display_data"
    },
    {
     "data": {
      "application/vnd.jupyter.widget-view+json": {
       "model_id": "a2f843c8f6fb45e1ab0fb0403ddfda31",
       "version_major": 2,
       "version_minor": 0
      },
      "text/plain": [
       "S1AA_20200405T173027_20200429T173028_VVP024_INT40_G_weF_773B.zip:   0%|          | 0/301562758 [00:00<?, ?it/s…"
      ]
     },
     "metadata": {},
     "output_type": "display_data"
    },
    {
     "data": {
      "application/vnd.jupyter.widget-view+json": {
       "model_id": "f87ef0ce811346bcb3d310401a69817b",
       "version_major": 2,
       "version_minor": 0
      },
      "text/plain": [
       "S1AA_20200405T173027_20200417T173027_VVP012_INT40_G_weF_9D6B.zip:   0%|          | 0/303436762 [00:00<?, ?it/s…"
      ]
     },
     "metadata": {},
     "output_type": "display_data"
    },
    {
     "data": {
      "application/vnd.jupyter.widget-view+json": {
       "model_id": "7ad12c8c8e2f4729b7a71122660ff33d",
       "version_major": 2,
       "version_minor": 0
      },
      "text/plain": [
       "S1AA_20200324T173027_20200429T173028_VVP036_INT40_G_weF_C89B.zip:   0%|          | 0/302531019 [00:00<?, ?it/s…"
      ]
     },
     "metadata": {},
     "output_type": "display_data"
    },
    {
     "data": {
      "application/vnd.jupyter.widget-view+json": {
       "model_id": "fb0537955ba6453780d3660d7d7a8acf",
       "version_major": 2,
       "version_minor": 0
      },
      "text/plain": [
       "S1AA_20200324T173027_20200417T173027_VVP024_INT40_G_weF_D168.zip:   0%|          | 0/303137656 [00:00<?, ?it/s…"
      ]
     },
     "metadata": {},
     "output_type": "display_data"
    },
    {
     "data": {
      "application/vnd.jupyter.widget-view+json": {
       "model_id": "ba3d2740a8ce4b41901b9db31f72071d",
       "version_major": 2,
       "version_minor": 0
      },
      "text/plain": [
       "S1AA_20200312T173027_20200417T173027_VVP036_INT40_G_weF_B7FD.zip:   0%|          | 0/301239482 [00:00<?, ?it/s…"
      ]
     },
     "metadata": {},
     "output_type": "display_data"
    },
    {
     "data": {
      "application/vnd.jupyter.widget-view+json": {
       "model_id": "93e1aa278d204322bf52430c9d3986f0",
       "version_major": 2,
       "version_minor": 0
      },
      "text/plain": [
       "S1AA_20200324T173027_20200405T173027_VVP012_INT40_G_weF_D1A3.zip:   0%|          | 0/304123101 [00:00<?, ?it/s…"
      ]
     },
     "metadata": {},
     "output_type": "display_data"
    },
    {
     "data": {
      "application/vnd.jupyter.widget-view+json": {
       "model_id": "24c2c084247e4d77a73afabc014ddc76",
       "version_major": 2,
       "version_minor": 0
      },
      "text/plain": [
       "S1AA_20200312T173027_20200405T173027_VVP024_INT40_G_weF_1403.zip:   0%|          | 0/301304703 [00:00<?, ?it/s…"
      ]
     },
     "metadata": {},
     "output_type": "display_data"
    },
    {
     "data": {
      "application/vnd.jupyter.widget-view+json": {
       "model_id": "3873c007037a4c53b695eaca8195392e",
       "version_major": 2,
       "version_minor": 0
      },
      "text/plain": [
       "S1AA_20200312T173027_20200324T173027_VVP012_INT40_G_weF_28C2.zip:   0%|          | 0/299009537 [00:00<?, ?it/s…"
      ]
     },
     "metadata": {},
     "output_type": "display_data"
    },
    {
     "data": {
      "application/vnd.jupyter.widget-view+json": {
       "model_id": "9b80a06b71e24b50ac5020c2a0ec7e66",
       "version_major": 2,
       "version_minor": 0
      },
      "text/plain": [
       "S1AA_20200229T173026_20200324T173027_VVP024_INT40_G_weF_217F.zip:   0%|          | 0/303226346 [00:00<?, ?it/s…"
      ]
     },
     "metadata": {},
     "output_type": "display_data"
    },
    {
     "data": {
      "application/vnd.jupyter.widget-view+json": {
       "model_id": "bb71e572e3d6490db6a2d27e979d55c4",
       "version_major": 2,
       "version_minor": 0
      },
      "text/plain": [
       "S1AA_20200229T173026_20200312T173027_VVP012_INT40_G_weF_3CC1.zip:   0%|          | 0/300506105 [00:00<?, ?it/s…"
      ]
     },
     "metadata": {},
     "output_type": "display_data"
    },
    {
     "data": {
      "application/vnd.jupyter.widget-view+json": {
       "model_id": "401b582d3b18401fb48f73070270ac7d",
       "version_major": 2,
       "version_minor": 0
      },
      "text/plain": [
       "S1AA_20200229T173026_20200405T173027_VVP036_INT40_G_weF_F811.zip:   0%|          | 0/303146967 [00:00<?, ?it/s…"
      ]
     },
     "metadata": {},
     "output_type": "display_data"
    },
    {
     "data": {
      "application/vnd.jupyter.widget-view+json": {
       "model_id": "dfc194e7a7904ded9a0bde014b2f0f9e",
       "version_major": 2,
       "version_minor": 0
      },
      "text/plain": [
       "S1AA_20200217T173027_20200324T173027_VVP036_INT40_G_weF_62F5.zip:   0%|          | 0/302998040 [00:00<?, ?it/s…"
      ]
     },
     "metadata": {},
     "output_type": "display_data"
    },
    {
     "data": {
      "application/vnd.jupyter.widget-view+json": {
       "model_id": "8de41a266a3a492181adafbce40a5d0d",
       "version_major": 2,
       "version_minor": 0
      },
      "text/plain": [
       "S1AA_20200217T173027_20200312T173027_VVP024_INT40_G_weF_DF4B.zip:   0%|          | 0/300109809 [00:00<?, ?it/s…"
      ]
     },
     "metadata": {},
     "output_type": "display_data"
    },
    {
     "data": {
      "application/vnd.jupyter.widget-view+json": {
       "model_id": "3d4d17fd2bd24bf9a96b3d5768112c3f",
       "version_major": 2,
       "version_minor": 0
      },
      "text/plain": [
       "S1AA_20200217T173027_20200229T173026_VVP012_INT40_G_weF_C5B9.zip:   0%|          | 0/301411116 [00:00<?, ?it/s…"
      ]
     },
     "metadata": {},
     "output_type": "display_data"
    },
    {
     "data": {
      "application/vnd.jupyter.widget-view+json": {
       "model_id": "b09ec4e261674a44ae2d886dd7968644",
       "version_major": 2,
       "version_minor": 0
      },
      "text/plain": [
       "S1AA_20200205T173027_20200312T173027_VVP036_INT40_G_weF_535C.zip:   0%|          | 0/302123404 [00:00<?, ?it/s…"
      ]
     },
     "metadata": {},
     "output_type": "display_data"
    },
    {
     "data": {
      "application/vnd.jupyter.widget-view+json": {
       "model_id": "a80e11c1672140d48fd5553921ffcd7d",
       "version_major": 2,
       "version_minor": 0
      },
      "text/plain": [
       "S1AA_20200205T173027_20200217T173027_VVP012_INT40_G_weF_4CE4.zip:   0%|          | 0/302248241 [00:00<?, ?it/s…"
      ]
     },
     "metadata": {},
     "output_type": "display_data"
    },
    {
     "data": {
      "application/vnd.jupyter.widget-view+json": {
       "model_id": "a14840dd4f024b53adeac8c1f1cfb0cc",
       "version_major": 2,
       "version_minor": 0
      },
      "text/plain": [
       "S1AA_20200205T173027_20200229T173026_VVP024_INT40_G_weF_5370.zip:   0%|          | 0/301465846 [00:00<?, ?it/s…"
      ]
     },
     "metadata": {},
     "output_type": "display_data"
    },
    {
     "data": {
      "application/vnd.jupyter.widget-view+json": {
       "model_id": "733ea6ca038443a2a37198a2c419bf7d",
       "version_major": 2,
       "version_minor": 0
      },
      "text/plain": [
       "S1AA_20200124T173027_20200217T173027_VVP024_INT40_G_weF_3FB9.zip:   0%|          | 0/302033729 [00:00<?, ?it/s…"
      ]
     },
     "metadata": {},
     "output_type": "display_data"
    },
    {
     "data": {
      "application/vnd.jupyter.widget-view+json": {
       "model_id": "4d7092c06bc240c28c4500b1d4afb08a",
       "version_major": 2,
       "version_minor": 0
      },
      "text/plain": [
       "S1AA_20200124T173027_20200229T173026_VVP036_INT40_G_weF_75FD.zip:   0%|          | 0/303592222 [00:00<?, ?it/s…"
      ]
     },
     "metadata": {},
     "output_type": "display_data"
    },
    {
     "data": {
      "application/vnd.jupyter.widget-view+json": {
       "model_id": "013c0ec0e8b74592962e09e6e25d8662",
       "version_major": 2,
       "version_minor": 0
      },
      "text/plain": [
       "S1AA_20200112T173028_20200217T173027_VVP036_INT40_G_weF_281C.zip:   0%|          | 0/303213975 [00:00<?, ?it/s…"
      ]
     },
     "metadata": {},
     "output_type": "display_data"
    },
    {
     "data": {
      "application/vnd.jupyter.widget-view+json": {
       "model_id": "3311918a822c4f329b9874bb594121b5",
       "version_major": 2,
       "version_minor": 0
      },
      "text/plain": [
       "S1AA_20200124T173027_20200205T173027_VVP012_INT40_G_weF_174D.zip:   0%|          | 0/301760474 [00:00<?, ?it/s…"
      ]
     },
     "metadata": {},
     "output_type": "display_data"
    },
    {
     "data": {
      "application/vnd.jupyter.widget-view+json": {
       "model_id": "14404fb227d04d81ab12176fe28bb247",
       "version_major": 2,
       "version_minor": 0
      },
      "text/plain": [
       "S1AA_20200112T173028_20200205T173027_VVP024_INT40_G_weF_22AF.zip:   0%|          | 0/302645788 [00:00<?, ?it/s…"
      ]
     },
     "metadata": {},
     "output_type": "display_data"
    },
    {
     "data": {
      "application/vnd.jupyter.widget-view+json": {
       "model_id": "850110da34984b8db646afe39d1aa40b",
       "version_major": 2,
       "version_minor": 0
      },
      "text/plain": [
       "S1AA_20200112T173028_20200124T173027_VVP012_INT40_G_weF_222E.zip:   0%|          | 0/302375193 [00:00<?, ?it/s…"
      ]
     },
     "metadata": {},
     "output_type": "display_data"
    },
    {
     "data": {
      "application/vnd.jupyter.widget-view+json": {
       "model_id": "c7326a71bb204eee830921056de0effa",
       "version_major": 2,
       "version_minor": 0
      },
      "text/plain": [
       "S1AA_20191231T173028_20200124T173027_VVP024_INT40_G_weF_218C.zip:   0%|          | 0/303850040 [00:00<?, ?it/s…"
      ]
     },
     "metadata": {},
     "output_type": "display_data"
    },
    {
     "data": {
      "application/vnd.jupyter.widget-view+json": {
       "model_id": "7e4b2fa0f5124dfd9b56fa649716de00",
       "version_major": 2,
       "version_minor": 0
      },
      "text/plain": [
       "S1AA_20191231T173028_20200205T173027_VVP036_INT40_G_weF_4CF1.zip:   0%|          | 0/304186334 [00:00<?, ?it/s…"
      ]
     },
     "metadata": {},
     "output_type": "display_data"
    },
    {
     "data": {
      "application/vnd.jupyter.widget-view+json": {
       "model_id": "7a2b945654a04dc88335730a4a7bd813",
       "version_major": 2,
       "version_minor": 0
      },
      "text/plain": [
       "S1AA_20191219T173029_20200124T173027_VVP036_INT40_G_weF_77B1.zip:   0%|          | 0/300487596 [00:00<?, ?it/s…"
      ]
     },
     "metadata": {},
     "output_type": "display_data"
    },
    {
     "data": {
      "application/vnd.jupyter.widget-view+json": {
       "model_id": "7bf735a6b7f8408f93f9e7bad5097d20",
       "version_major": 2,
       "version_minor": 0
      },
      "text/plain": [
       "S1AA_20191231T173028_20200112T173028_VVP012_INT40_G_weF_3ACD.zip:   0%|          | 0/302438625 [00:00<?, ?it/s…"
      ]
     },
     "metadata": {},
     "output_type": "display_data"
    },
    {
     "data": {
      "application/vnd.jupyter.widget-view+json": {
       "model_id": "d4805eda8d024f4e9b77d6fe7eb83688",
       "version_major": 2,
       "version_minor": 0
      },
      "text/plain": [
       "S1AA_20191219T173029_20200112T173028_VVP024_INT40_G_weF_AE4E.zip:   0%|          | 0/301958225 [00:00<?, ?it/s…"
      ]
     },
     "metadata": {},
     "output_type": "display_data"
    },
    {
     "data": {
      "application/vnd.jupyter.widget-view+json": {
       "model_id": "c9136aa2fcdc41b7b7a3013f800d5b91",
       "version_major": 2,
       "version_minor": 0
      },
      "text/plain": [
       "S1AA_20191207T173029_20200112T173028_VVP036_INT40_G_weF_1ED6.zip:   0%|          | 0/302208102 [00:00<?, ?it/s…"
      ]
     },
     "metadata": {},
     "output_type": "display_data"
    },
    {
     "data": {
      "application/vnd.jupyter.widget-view+json": {
       "model_id": "899d0698c61b48dcbdc7e48b56863441",
       "version_major": 2,
       "version_minor": 0
      },
      "text/plain": [
       "S1AA_20191219T173029_20191231T173028_VVP012_INT40_G_weF_F8B6.zip:   0%|          | 0/299309059 [00:00<?, ?it/s…"
      ]
     },
     "metadata": {},
     "output_type": "display_data"
    },
    {
     "data": {
      "application/vnd.jupyter.widget-view+json": {
       "model_id": "8db46d9f619d483b9fa26ffeb0b7c00a",
       "version_major": 2,
       "version_minor": 0
      },
      "text/plain": [
       "S1AA_20191207T173029_20191219T173029_VVP012_INT40_G_weF_AF25.zip:   0%|          | 0/300741579 [00:00<?, ?it/s…"
      ]
     },
     "metadata": {},
     "output_type": "display_data"
    },
    {
     "data": {
      "application/vnd.jupyter.widget-view+json": {
       "model_id": "c7ff819a066d4274b942c1bcfb839dd8",
       "version_major": 2,
       "version_minor": 0
      },
      "text/plain": [
       "S1AA_20191207T173029_20191231T173028_VVP024_INT40_G_weF_8531.zip:   0%|          | 0/301232817 [00:00<?, ?it/s…"
      ]
     },
     "metadata": {},
     "output_type": "display_data"
    },
    {
     "data": {
      "application/vnd.jupyter.widget-view+json": {
       "model_id": "578fe23e1eb84894a0fb1d9dd9e20d03",
       "version_major": 2,
       "version_minor": 0
      },
      "text/plain": [
       "S1AA_20191125T173029_20191231T173028_VVP036_INT40_G_weF_6252.zip:   0%|          | 0/303275524 [00:00<?, ?it/s…"
      ]
     },
     "metadata": {},
     "output_type": "display_data"
    },
    {
     "data": {
      "application/vnd.jupyter.widget-view+json": {
       "model_id": "2e75940da48441c3bce18c0a2a06d7fc",
       "version_major": 2,
       "version_minor": 0
      },
      "text/plain": [
       "S1AA_20191125T173029_20191219T173029_VVP024_INT40_G_weF_C7E0.zip:   0%|          | 0/299865299 [00:00<?, ?it/s…"
      ]
     },
     "metadata": {},
     "output_type": "display_data"
    },
    {
     "data": {
      "application/vnd.jupyter.widget-view+json": {
       "model_id": "61a413f7245449faaa268abcbdd68c70",
       "version_major": 2,
       "version_minor": 0
      },
      "text/plain": [
       "S1AA_20191113T173030_20191219T173029_VVP036_INT40_G_weF_9706.zip:   0%|          | 0/299149482 [00:00<?, ?it/s…"
      ]
     },
     "metadata": {},
     "output_type": "display_data"
    },
    {
     "data": {
      "application/vnd.jupyter.widget-view+json": {
       "model_id": "81e525ba51424353bb1b808067953a4b",
       "version_major": 2,
       "version_minor": 0
      },
      "text/plain": [
       "S1AA_20191125T173029_20191207T173029_VVP012_INT40_G_weF_0C84.zip:   0%|          | 0/301925292 [00:00<?, ?it/s…"
      ]
     },
     "metadata": {},
     "output_type": "display_data"
    },
    {
     "data": {
      "application/vnd.jupyter.widget-view+json": {
       "model_id": "ba2e28f9691748389593667030a49f9d",
       "version_major": 2,
       "version_minor": 0
      },
      "text/plain": [
       "S1AA_20191113T173030_20191125T173029_VVP012_INT40_G_weF_E6C4.zip:   0%|          | 0/301421135 [00:00<?, ?it/s…"
      ]
     },
     "metadata": {},
     "output_type": "display_data"
    },
    {
     "data": {
      "application/vnd.jupyter.widget-view+json": {
       "model_id": "1fc7fae66d0f4cb387a1311fb75f0c69",
       "version_major": 2,
       "version_minor": 0
      },
      "text/plain": [
       "S1AA_20191113T173030_20191207T173029_VVP024_INT40_G_weF_5BCA.zip:   0%|          | 0/301227725 [00:00<?, ?it/s…"
      ]
     },
     "metadata": {},
     "output_type": "display_data"
    },
    {
     "data": {
      "application/vnd.jupyter.widget-view+json": {
       "model_id": "7108107536674dd8ae2fc703193734a4",
       "version_major": 2,
       "version_minor": 0
      },
      "text/plain": [
       "S1AA_20191101T173030_20191207T173029_VVP036_INT40_G_weF_8303.zip:   0%|          | 0/301543762 [00:00<?, ?it/s…"
      ]
     },
     "metadata": {},
     "output_type": "display_data"
    },
    {
     "data": {
      "application/vnd.jupyter.widget-view+json": {
       "model_id": "08ab4f64584440f49d59c15b176727f8",
       "version_major": 2,
       "version_minor": 0
      },
      "text/plain": [
       "S1AA_20191101T173030_20191125T173029_VVP024_INT40_G_weF_C39C.zip:   0%|          | 0/303230154 [00:00<?, ?it/s…"
      ]
     },
     "metadata": {},
     "output_type": "display_data"
    },
    {
     "data": {
      "application/vnd.jupyter.widget-view+json": {
       "model_id": "91d45f74b60c484abf2d5e1f0669f305",
       "version_major": 2,
       "version_minor": 0
      },
      "text/plain": [
       "S1AA_20191101T173030_20191113T173030_VVP012_INT40_G_weF_80D6.zip:   0%|          | 0/301449410 [00:00<?, ?it/s…"
      ]
     },
     "metadata": {},
     "output_type": "display_data"
    },
    {
     "data": {
      "application/vnd.jupyter.widget-view+json": {
       "model_id": "a356eeb0b61f47a8b30b074e3e798b7e",
       "version_major": 2,
       "version_minor": 0
      },
      "text/plain": [
       "S1AA_20191020T173030_20191125T173029_VVP036_INT40_G_weF_B0C3.zip:   0%|          | 0/300464404 [00:00<?, ?it/s…"
      ]
     },
     "metadata": {},
     "output_type": "display_data"
    },
    {
     "data": {
      "application/vnd.jupyter.widget-view+json": {
       "model_id": "1e13e287007e49e8a4e377d167954daf",
       "version_major": 2,
       "version_minor": 0
      },
      "text/plain": [
       "S1AA_20191020T173030_20191113T173030_VVP024_INT40_G_weF_806F.zip:   0%|          | 0/303215174 [00:00<?, ?it/s…"
      ]
     },
     "metadata": {},
     "output_type": "display_data"
    },
    {
     "data": {
      "application/vnd.jupyter.widget-view+json": {
       "model_id": "58ea07d4a01349e6a6a09d00364b01b1",
       "version_major": 2,
       "version_minor": 0
      },
      "text/plain": [
       "S1AA_20191020T173030_20191101T173030_VVP012_INT40_G_weF_AEBC.zip:   0%|          | 0/299515561 [00:00<?, ?it/s…"
      ]
     },
     "metadata": {},
     "output_type": "display_data"
    },
    {
     "data": {
      "application/vnd.jupyter.widget-view+json": {
       "model_id": "e66efd01c801414b98035fd49741a87e",
       "version_major": 2,
       "version_minor": 0
      },
      "text/plain": [
       "S1AA_20191008T173030_20191113T173030_VVP036_INT40_G_weF_C6DF.zip:   0%|          | 0/302423790 [00:00<?, ?it/s…"
      ]
     },
     "metadata": {},
     "output_type": "display_data"
    },
    {
     "data": {
      "application/vnd.jupyter.widget-view+json": {
       "model_id": "c2b611e90acb443aaa65fb81ac47eb4a",
       "version_major": 2,
       "version_minor": 0
      },
      "text/plain": [
       "S1AA_20191008T173030_20191101T173030_VVP024_INT40_G_weF_9F1F.zip:   0%|          | 0/301408652 [00:00<?, ?it/s…"
      ]
     },
     "metadata": {},
     "output_type": "display_data"
    },
    {
     "data": {
      "application/vnd.jupyter.widget-view+json": {
       "model_id": "3bf5b6611d7649c9a77fb30f65601f38",
       "version_major": 2,
       "version_minor": 0
      },
      "text/plain": [
       "S1AA_20191008T173030_20191020T173030_VVP012_INT40_G_weF_2EBB.zip:   0%|          | 0/303389873 [00:00<?, ?it/s…"
      ]
     },
     "metadata": {},
     "output_type": "display_data"
    },
    {
     "data": {
      "application/vnd.jupyter.widget-view+json": {
       "model_id": "9cd6ed2d4c6c480aa1312cc7f676a4a2",
       "version_major": 2,
       "version_minor": 0
      },
      "text/plain": [
       "S1AA_20190926T173030_20191101T173030_VVP036_INT40_G_weF_C2F6.zip:   0%|          | 0/302991732 [00:00<?, ?it/s…"
      ]
     },
     "metadata": {},
     "output_type": "display_data"
    },
    {
     "data": {
      "application/vnd.jupyter.widget-view+json": {
       "model_id": "4ffd7dfa2bee4d148ab3ac90bd9a59ac",
       "version_major": 2,
       "version_minor": 0
      },
      "text/plain": [
       "S1AA_20190926T173030_20191020T173030_VVP024_INT40_G_weF_DE6A.zip:   0%|          | 0/300224489 [00:00<?, ?it/s…"
      ]
     },
     "metadata": {},
     "output_type": "display_data"
    },
    {
     "data": {
      "application/vnd.jupyter.widget-view+json": {
       "model_id": "efe29b0fb7ed43ab9502398ba79aae63",
       "version_major": 2,
       "version_minor": 0
      },
      "text/plain": [
       "S1AA_20190926T173030_20191008T173030_VVP012_INT40_G_weF_8135.zip:   0%|          | 0/299634645 [00:00<?, ?it/s…"
      ]
     },
     "metadata": {},
     "output_type": "display_data"
    },
    {
     "data": {
      "application/vnd.jupyter.widget-view+json": {
       "model_id": "6ea01ae057364a1482c8a4527d084d7a",
       "version_major": 2,
       "version_minor": 0
      },
      "text/plain": [
       "S1AA_20190914T173029_20191008T173030_VVP024_INT40_G_weF_A641.zip:   0%|          | 0/302233299 [00:00<?, ?it/s…"
      ]
     },
     "metadata": {},
     "output_type": "display_data"
    },
    {
     "data": {
      "application/vnd.jupyter.widget-view+json": {
       "model_id": "a25e59e4651843c5b290a317b8e4e819",
       "version_major": 2,
       "version_minor": 0
      },
      "text/plain": [
       "S1AA_20190914T173029_20191020T173030_VVP036_INT40_G_weF_5BB1.zip:   0%|          | 0/300107177 [00:00<?, ?it/s…"
      ]
     },
     "metadata": {},
     "output_type": "display_data"
    },
    {
     "data": {
      "application/vnd.jupyter.widget-view+json": {
       "model_id": "33cfcdc76d114ca89611d277de34af9b",
       "version_major": 2,
       "version_minor": 0
      },
      "text/plain": [
       "S1AA_20190914T173029_20190926T173030_VVP012_INT40_G_weF_120D.zip:   0%|          | 0/302681081 [00:00<?, ?it/s…"
      ]
     },
     "metadata": {},
     "output_type": "display_data"
    },
    {
     "data": {
      "application/vnd.jupyter.widget-view+json": {
       "model_id": "27cbd7d961d4492f8259894705af5826",
       "version_major": 2,
       "version_minor": 0
      },
      "text/plain": [
       "S1AA_20190902T173029_20191008T173030_VVP036_INT40_G_weF_429A.zip:   0%|          | 0/300948095 [00:00<?, ?it/s…"
      ]
     },
     "metadata": {},
     "output_type": "display_data"
    },
    {
     "data": {
      "application/vnd.jupyter.widget-view+json": {
       "model_id": "894c3dae1d3c423996989af753e793b3",
       "version_major": 2,
       "version_minor": 0
      },
      "text/plain": [
       "S1AA_20190902T173029_20190926T173030_VVP024_INT40_G_weF_DE83.zip:   0%|          | 0/300754475 [00:00<?, ?it/s…"
      ]
     },
     "metadata": {},
     "output_type": "display_data"
    },
    {
     "data": {
      "application/vnd.jupyter.widget-view+json": {
       "model_id": "f18e3a795162416dbeb4ad39bc635a54",
       "version_major": 2,
       "version_minor": 0
      },
      "text/plain": [
       "S1AA_20190902T173029_20190914T173029_VVP012_INT40_G_weF_0F69.zip:   0%|          | 0/300766898 [00:00<?, ?it/s…"
      ]
     },
     "metadata": {},
     "output_type": "display_data"
    },
    {
     "data": {
      "application/vnd.jupyter.widget-view+json": {
       "model_id": "434e1a65f4f543c19ff02391f89c0143",
       "version_major": 2,
       "version_minor": 0
      },
      "text/plain": [
       "S1AA_20190821T173028_20190926T173030_VVP036_INT40_G_weF_6DB2.zip:   0%|          | 0/303459208 [00:00<?, ?it/s…"
      ]
     },
     "metadata": {},
     "output_type": "display_data"
    },
    {
     "data": {
      "application/vnd.jupyter.widget-view+json": {
       "model_id": "6804c5106c3a4684bf611de1c6f1b28a",
       "version_major": 2,
       "version_minor": 0
      },
      "text/plain": [
       "S1AA_20190821T173028_20190914T173029_VVP024_INT40_G_weF_4CB3.zip:   0%|          | 0/303672343 [00:00<?, ?it/s…"
      ]
     },
     "metadata": {},
     "output_type": "display_data"
    },
    {
     "data": {
      "application/vnd.jupyter.widget-view+json": {
       "model_id": "3c92411177314da6a5b8766c4dea858a",
       "version_major": 2,
       "version_minor": 0
      },
      "text/plain": [
       "S1AA_20190821T173028_20190902T173029_VVP012_INT40_G_weF_B61C.zip:   0%|          | 0/303396862 [00:00<?, ?it/s…"
      ]
     },
     "metadata": {},
     "output_type": "display_data"
    },
    {
     "data": {
      "application/vnd.jupyter.widget-view+json": {
       "model_id": "9bfcba9f4b9440289a18509784ffaba6",
       "version_major": 2,
       "version_minor": 0
      },
      "text/plain": [
       "S1AA_20190809T173027_20190914T173029_VVP036_INT40_G_weF_C58F.zip:   0%|          | 0/303286967 [00:00<?, ?it/s…"
      ]
     },
     "metadata": {},
     "output_type": "display_data"
    },
    {
     "data": {
      "application/vnd.jupyter.widget-view+json": {
       "model_id": "90de7cd9567840ecb38d8c3700382d33",
       "version_major": 2,
       "version_minor": 0
      },
      "text/plain": [
       "S1AA_20190809T173027_20190902T173029_VVP024_INT40_G_weF_D995.zip:   0%|          | 0/301624428 [00:00<?, ?it/s…"
      ]
     },
     "metadata": {},
     "output_type": "display_data"
    },
    {
     "data": {
      "application/vnd.jupyter.widget-view+json": {
       "model_id": "6659b59fc9cd45f6a969bf3f765bcd0a",
       "version_major": 2,
       "version_minor": 0
      },
      "text/plain": [
       "S1AA_20190809T173027_20190821T173028_VVP012_INT40_G_weF_6F28.zip:   0%|          | 0/303327064 [00:00<?, ?it/s…"
      ]
     },
     "metadata": {},
     "output_type": "display_data"
    },
    {
     "data": {
      "application/vnd.jupyter.widget-view+json": {
       "model_id": "4ce69e8e430f4556acbad881eaadaa44",
       "version_major": 2,
       "version_minor": 0
      },
      "text/plain": [
       "S1AA_20190728T173027_20190902T173029_VVP036_INT40_G_weF_1D79.zip:   0%|          | 0/303664436 [00:00<?, ?it/s…"
      ]
     },
     "metadata": {},
     "output_type": "display_data"
    },
    {
     "data": {
      "application/vnd.jupyter.widget-view+json": {
       "model_id": "04800f6c644d420a8ee6910a56c700bf",
       "version_major": 2,
       "version_minor": 0
      },
      "text/plain": [
       "S1AA_20190728T173027_20190821T173028_VVP024_INT40_G_weF_383C.zip:   0%|          | 0/304711758 [00:00<?, ?it/s…"
      ]
     },
     "metadata": {},
     "output_type": "display_data"
    },
    {
     "data": {
      "application/vnd.jupyter.widget-view+json": {
       "model_id": "c67b44339f0f42adafddab45a6849d1b",
       "version_major": 2,
       "version_minor": 0
      },
      "text/plain": [
       "S1AA_20190728T173027_20190809T173027_VVP012_INT40_G_weF_D6B2.zip:   0%|          | 0/301582450 [00:00<?, ?it/s…"
      ]
     },
     "metadata": {},
     "output_type": "display_data"
    },
    {
     "data": {
      "application/vnd.jupyter.widget-view+json": {
       "model_id": "38c74e1435f8460d9aa3db621c941c5b",
       "version_major": 2,
       "version_minor": 0
      },
      "text/plain": [
       "S1AA_20190716T173026_20190821T173028_VVP036_INT40_G_weF_5BEA.zip:   0%|          | 0/301109226 [00:00<?, ?it/s…"
      ]
     },
     "metadata": {},
     "output_type": "display_data"
    },
    {
     "data": {
      "application/vnd.jupyter.widget-view+json": {
       "model_id": "d5d76c52e9c7430184512623cfc387ca",
       "version_major": 2,
       "version_minor": 0
      },
      "text/plain": [
       "S1AA_20190716T173026_20190809T173027_VVP024_INT40_G_weF_16CF.zip:   0%|          | 0/302678663 [00:00<?, ?it/s…"
      ]
     },
     "metadata": {},
     "output_type": "display_data"
    },
    {
     "data": {
      "application/vnd.jupyter.widget-view+json": {
       "model_id": "74ab585b46104c2698e63cc9bf695d6a",
       "version_major": 2,
       "version_minor": 0
      },
      "text/plain": [
       "S1AA_20190716T173026_20190728T173027_VVP012_INT40_G_weF_8B41.zip:   0%|          | 0/303370050 [00:00<?, ?it/s…"
      ]
     },
     "metadata": {},
     "output_type": "display_data"
    },
    {
     "data": {
      "application/vnd.jupyter.widget-view+json": {
       "model_id": "120f980eb6ab405bbc60dc416e2343f2",
       "version_major": 2,
       "version_minor": 0
      },
      "text/plain": [
       "S1AA_20190704T173025_20190809T173027_VVP036_INT40_G_weF_7AE2.zip:   0%|          | 0/301286249 [00:00<?, ?it/s…"
      ]
     },
     "metadata": {},
     "output_type": "display_data"
    },
    {
     "data": {
      "application/vnd.jupyter.widget-view+json": {
       "model_id": "dbf8be348de44a6bbae2413d3c50b801",
       "version_major": 2,
       "version_minor": 0
      },
      "text/plain": [
       "S1AA_20190704T173025_20190716T173026_VVP012_INT40_G_weF_38AD.zip:   0%|          | 0/302069187 [00:00<?, ?it/s…"
      ]
     },
     "metadata": {},
     "output_type": "display_data"
    },
    {
     "data": {
      "application/vnd.jupyter.widget-view+json": {
       "model_id": "a3d9dde3d3a94a0e81170f8930dd1695",
       "version_major": 2,
       "version_minor": 0
      },
      "text/plain": [
       "S1AA_20190622T173024_20190728T173027_VVP036_INT40_G_weF_276B.zip:   0%|          | 0/302630777 [00:00<?, ?it/s…"
      ]
     },
     "metadata": {},
     "output_type": "display_data"
    },
    {
     "data": {
      "application/vnd.jupyter.widget-view+json": {
       "model_id": "63902e72e48041c0855264a48b039ae6",
       "version_major": 2,
       "version_minor": 0
      },
      "text/plain": [
       "S1AA_20190704T173025_20190728T173027_VVP024_INT40_G_weF_2373.zip:   0%|          | 0/301460558 [00:00<?, ?it/s…"
      ]
     },
     "metadata": {},
     "output_type": "display_data"
    },
    {
     "data": {
      "application/vnd.jupyter.widget-view+json": {
       "model_id": "a6bcc3580c854404878a6651ee2aec11",
       "version_major": 2,
       "version_minor": 0
      },
      "text/plain": [
       "S1AA_20190622T173024_20190716T173026_VVP024_INT40_G_weF_0622.zip:   0%|          | 0/302607435 [00:00<?, ?it/s…"
      ]
     },
     "metadata": {},
     "output_type": "display_data"
    },
    {
     "data": {
      "application/vnd.jupyter.widget-view+json": {
       "model_id": "92d6f357a6754213b418887ec0dd6656",
       "version_major": 2,
       "version_minor": 0
      },
      "text/plain": [
       "S1AA_20190610T173023_20190716T173026_VVP036_INT40_G_weF_9AF0.zip:   0%|          | 0/303258781 [00:00<?, ?it/s…"
      ]
     },
     "metadata": {},
     "output_type": "display_data"
    },
    {
     "data": {
      "application/vnd.jupyter.widget-view+json": {
       "model_id": "76797a7741f6401baabbf87123a2bd9c",
       "version_major": 2,
       "version_minor": 0
      },
      "text/plain": [
       "S1AA_20190622T173024_20190704T173025_VVP012_INT40_G_weF_54B7.zip:   0%|          | 0/301215978 [00:00<?, ?it/s…"
      ]
     },
     "metadata": {},
     "output_type": "display_data"
    },
    {
     "data": {
      "application/vnd.jupyter.widget-view+json": {
       "model_id": "3b7fbc6dc2de4f658824966eb2b8e445",
       "version_major": 2,
       "version_minor": 0
      },
      "text/plain": [
       "S1AA_20190610T173023_20190704T173025_VVP024_INT40_G_weF_CDF4.zip:   0%|          | 0/300559696 [00:00<?, ?it/s…"
      ]
     },
     "metadata": {},
     "output_type": "display_data"
    },
    {
     "data": {
      "application/vnd.jupyter.widget-view+json": {
       "model_id": "d986dce3000a45dbb406d2ca3739e105",
       "version_major": 2,
       "version_minor": 0
      },
      "text/plain": [
       "S1AA_20190610T173023_20190622T173024_VVP012_INT40_G_weF_326A.zip:   0%|          | 0/300429511 [00:00<?, ?it/s…"
      ]
     },
     "metadata": {},
     "output_type": "display_data"
    },
    {
     "data": {
      "application/vnd.jupyter.widget-view+json": {
       "model_id": "aa0eb2559bf84f9aacb2d9e88f4c9476",
       "version_major": 2,
       "version_minor": 0
      },
      "text/plain": [
       "S1AA_20190529T173023_20190704T173025_VVP036_INT40_G_weF_019D.zip:   0%|          | 0/302138383 [00:00<?, ?it/s…"
      ]
     },
     "metadata": {},
     "output_type": "display_data"
    },
    {
     "data": {
      "application/vnd.jupyter.widget-view+json": {
       "model_id": "1542f97d4a974864be54a606468b6bf6",
       "version_major": 2,
       "version_minor": 0
      },
      "text/plain": [
       "S1AA_20190529T173023_20190622T173024_VVP024_INT40_G_weF_A411.zip:   0%|          | 0/303609506 [00:00<?, ?it/s…"
      ]
     },
     "metadata": {},
     "output_type": "display_data"
    },
    {
     "data": {
      "application/vnd.jupyter.widget-view+json": {
       "model_id": "83141275902a4d94bf85c336b202e49b",
       "version_major": 2,
       "version_minor": 0
      },
      "text/plain": [
       "S1AA_20190529T173023_20190610T173023_VVP012_INT40_G_weF_053F.zip:   0%|          | 0/302956198 [00:00<?, ?it/s…"
      ]
     },
     "metadata": {},
     "output_type": "display_data"
    },
    {
     "data": {
      "application/vnd.jupyter.widget-view+json": {
       "model_id": "11b4fc8856294628bac136bb8003858c",
       "version_major": 2,
       "version_minor": 0
      },
      "text/plain": [
       "S1AA_20190517T173022_20190610T173023_VVP024_INT40_G_weF_FFCF.zip:   0%|          | 0/303289586 [00:00<?, ?it/s…"
      ]
     },
     "metadata": {},
     "output_type": "display_data"
    },
    {
     "data": {
      "application/vnd.jupyter.widget-view+json": {
       "model_id": "d51569588a194ae1b2c98a506a96a3f0",
       "version_major": 2,
       "version_minor": 0
      },
      "text/plain": [
       "S1AA_20190517T173022_20190622T173024_VVP036_INT40_G_weF_3201.zip:   0%|          | 0/303527528 [00:00<?, ?it/s…"
      ]
     },
     "metadata": {},
     "output_type": "display_data"
    },
    {
     "data": {
      "application/vnd.jupyter.widget-view+json": {
       "model_id": "977c75d9fda640a7a4aa39ef8bc3c325",
       "version_major": 2,
       "version_minor": 0
      },
      "text/plain": [
       "S1AA_20190505T173022_20190610T173023_VVP036_INT40_G_weF_DB83.zip:   0%|          | 0/300771123 [00:00<?, ?it/s…"
      ]
     },
     "metadata": {},
     "output_type": "display_data"
    },
    {
     "data": {
      "application/vnd.jupyter.widget-view+json": {
       "model_id": "56afbf75e5714c768b93380ef6e61268",
       "version_major": 2,
       "version_minor": 0
      },
      "text/plain": [
       "S1AA_20190517T173022_20190529T173023_VVP012_INT40_G_weF_515B.zip:   0%|          | 0/302321491 [00:00<?, ?it/s…"
      ]
     },
     "metadata": {},
     "output_type": "display_data"
    },
    {
     "data": {
      "application/vnd.jupyter.widget-view+json": {
       "model_id": "f06ce3b4e09442c296161996a6568393",
       "version_major": 2,
       "version_minor": 0
      },
      "text/plain": [
       "S1AA_20190505T173022_20190529T173023_VVP024_INT40_G_weF_909D.zip:   0%|          | 0/301910722 [00:00<?, ?it/s…"
      ]
     },
     "metadata": {},
     "output_type": "display_data"
    },
    {
     "data": {
      "application/vnd.jupyter.widget-view+json": {
       "model_id": "299748c5dccb44aa8aa1fa5f85e3479e",
       "version_major": 2,
       "version_minor": 0
      },
      "text/plain": [
       "S1AA_20190505T173022_20190517T173022_VVP012_INT40_G_weF_C755.zip:   0%|          | 0/301864036 [00:00<?, ?it/s…"
      ]
     },
     "metadata": {},
     "output_type": "display_data"
    },
    {
     "data": {
      "application/vnd.jupyter.widget-view+json": {
       "model_id": "bbe6521474af466e8a07f0fbd94d9055",
       "version_major": 2,
       "version_minor": 0
      },
      "text/plain": [
       "S1AA_20190423T173021_20190517T173022_VVP024_INT40_G_weF_9D90.zip:   0%|          | 0/303252405 [00:00<?, ?it/s…"
      ]
     },
     "metadata": {},
     "output_type": "display_data"
    },
    {
     "data": {
      "application/vnd.jupyter.widget-view+json": {
       "model_id": "3bf0d3712678438dbdbbbf8adcc7993c",
       "version_major": 2,
       "version_minor": 0
      },
      "text/plain": [
       "S1AA_20190423T173021_20190529T173023_VVP036_INT40_G_weF_2CF5.zip:   0%|          | 0/302481611 [00:00<?, ?it/s…"
      ]
     },
     "metadata": {},
     "output_type": "display_data"
    },
    {
     "data": {
      "application/vnd.jupyter.widget-view+json": {
       "model_id": "6e796d67f77a4e47925b70b8cf4d97e0",
       "version_major": 2,
       "version_minor": 0
      },
      "text/plain": [
       "S1AA_20190411T173021_20190517T173022_VVP036_INT40_G_weF_B0B8.zip:   0%|          | 0/304921668 [00:00<?, ?it/s…"
      ]
     },
     "metadata": {},
     "output_type": "display_data"
    },
    {
     "data": {
      "application/vnd.jupyter.widget-view+json": {
       "model_id": "e8a0136a3d6a4c8cb573a2ecf519612a",
       "version_major": 2,
       "version_minor": 0
      },
      "text/plain": [
       "S1AA_20190411T173021_20190505T173022_VVP024_INT40_G_weF_3107.zip:   0%|          | 0/302056930 [00:00<?, ?it/s…"
      ]
     },
     "metadata": {},
     "output_type": "display_data"
    },
    {
     "data": {
      "application/vnd.jupyter.widget-view+json": {
       "model_id": "9bacc0071414401a848779a0c0cba797",
       "version_major": 2,
       "version_minor": 0
      },
      "text/plain": [
       "S1AA_20190423T173021_20190505T173022_VVP012_INT40_G_weF_01F5.zip:   0%|          | 0/302259455 [00:00<?, ?it/s…"
      ]
     },
     "metadata": {},
     "output_type": "display_data"
    },
    {
     "data": {
      "application/vnd.jupyter.widget-view+json": {
       "model_id": "5f183f8473f544f684c5bfd181620477",
       "version_major": 2,
       "version_minor": 0
      },
      "text/plain": [
       "S1AA_20190330T173021_20190505T173022_VVP036_INT40_G_weF_2BD6.zip:   0%|          | 0/300224742 [00:00<?, ?it/s…"
      ]
     },
     "metadata": {},
     "output_type": "display_data"
    },
    {
     "data": {
      "application/vnd.jupyter.widget-view+json": {
       "model_id": "64db0fb8f97b4f22a3bffc92fcd627ba",
       "version_major": 2,
       "version_minor": 0
      },
      "text/plain": [
       "S1AA_20190411T173021_20190423T173021_VVP012_INT40_G_weF_FE4D.zip:   0%|          | 0/303962262 [00:00<?, ?it/s…"
      ]
     },
     "metadata": {},
     "output_type": "display_data"
    },
    {
     "data": {
      "application/vnd.jupyter.widget-view+json": {
       "model_id": "33aaf3ce73514aa08527738eeeba974a",
       "version_major": 2,
       "version_minor": 0
      },
      "text/plain": [
       "S1AA_20190330T173021_20190411T173021_VVP012_INT40_G_weF_15A6.zip:   0%|          | 0/303674979 [00:00<?, ?it/s…"
      ]
     },
     "metadata": {},
     "output_type": "display_data"
    },
    {
     "data": {
      "application/vnd.jupyter.widget-view+json": {
       "model_id": "ae64420a7cfd4252ade4cf0fdc18563e",
       "version_major": 2,
       "version_minor": 0
      },
      "text/plain": [
       "S1AA_20190330T173021_20190423T173021_VVP024_INT40_G_weF_50F9.zip:   0%|          | 0/302050001 [00:00<?, ?it/s…"
      ]
     },
     "metadata": {},
     "output_type": "display_data"
    },
    {
     "data": {
      "application/vnd.jupyter.widget-view+json": {
       "model_id": "2a9f5757e9934e5e81abbcdab92a78f2",
       "version_major": 2,
       "version_minor": 0
      },
      "text/plain": [
       "S1AA_20190318T173020_20190423T173021_VVP036_INT40_G_weF_2639.zip:   0%|          | 0/303269929 [00:00<?, ?it/s…"
      ]
     },
     "metadata": {},
     "output_type": "display_data"
    },
    {
     "data": {
      "application/vnd.jupyter.widget-view+json": {
       "model_id": "979955bba1994afe9ad2e0cb104f738d",
       "version_major": 2,
       "version_minor": 0
      },
      "text/plain": [
       "S1AA_20190318T173020_20190411T173021_VVP024_INT40_G_weF_FC70.zip:   0%|          | 0/301384160 [00:00<?, ?it/s…"
      ]
     },
     "metadata": {},
     "output_type": "display_data"
    },
    {
     "data": {
      "application/vnd.jupyter.widget-view+json": {
       "model_id": "af9e2f83da054e0ab42745cd44222d37",
       "version_major": 2,
       "version_minor": 0
      },
      "text/plain": [
       "S1AA_20190318T173020_20190330T173021_VVP012_INT40_G_weF_A715.zip:   0%|          | 0/299873264 [00:00<?, ?it/s…"
      ]
     },
     "metadata": {},
     "output_type": "display_data"
    },
    {
     "data": {
      "application/vnd.jupyter.widget-view+json": {
       "model_id": "bff33193ddcd49feb874da2026f884b3",
       "version_major": 2,
       "version_minor": 0
      },
      "text/plain": [
       "S1AA_20190306T173020_20190411T173021_VVP036_INT40_G_weF_E3CA.zip:   0%|          | 0/302581336 [00:00<?, ?it/s…"
      ]
     },
     "metadata": {},
     "output_type": "display_data"
    },
    {
     "data": {
      "application/vnd.jupyter.widget-view+json": {
       "model_id": "fd70ba5caa6047cd854a8c693dbdad0f",
       "version_major": 2,
       "version_minor": 0
      },
      "text/plain": [
       "S1AA_20190306T173020_20190318T173020_VVP012_INT40_G_weF_4771.zip:   0%|          | 0/301654167 [00:00<?, ?it/s…"
      ]
     },
     "metadata": {},
     "output_type": "display_data"
    },
    {
     "data": {
      "application/vnd.jupyter.widget-view+json": {
       "model_id": "02c9bc0d1c6440ea85199fef0b7f9d06",
       "version_major": 2,
       "version_minor": 0
      },
      "text/plain": [
       "S1AA_20190306T173020_20190330T173021_VVP024_INT40_G_weF_F0B4.zip:   0%|          | 0/300862094 [00:00<?, ?it/s…"
      ]
     },
     "metadata": {},
     "output_type": "display_data"
    },
    {
     "data": {
      "application/vnd.jupyter.widget-view+json": {
       "model_id": "3c3d06b5b6c04105884c5534cb6d7aa7",
       "version_major": 2,
       "version_minor": 0
      },
      "text/plain": [
       "S1AA_20190222T173020_20190318T173020_VVP024_INT40_G_weF_12A9.zip:   0%|          | 0/301901484 [00:00<?, ?it/s…"
      ]
     },
     "metadata": {},
     "output_type": "display_data"
    },
    {
     "data": {
      "application/vnd.jupyter.widget-view+json": {
       "model_id": "c6ebdff2c73a4a16ab2c6f29528c5368",
       "version_major": 2,
       "version_minor": 0
      },
      "text/plain": [
       "S1AA_20190222T173020_20190330T173021_VVP036_INT40_G_weF_C9E6.zip:   0%|          | 0/300725415 [00:00<?, ?it/s…"
      ]
     },
     "metadata": {},
     "output_type": "display_data"
    },
    {
     "data": {
      "application/vnd.jupyter.widget-view+json": {
       "model_id": "e7ec3c3c01644030815394267dfc7846",
       "version_major": 2,
       "version_minor": 0
      },
      "text/plain": [
       "S1AA_20190222T173020_20190306T173020_VVP012_INT40_G_weF_1DED.zip:   0%|          | 0/301184815 [00:00<?, ?it/s…"
      ]
     },
     "metadata": {},
     "output_type": "display_data"
    },
    {
     "data": {
      "application/vnd.jupyter.widget-view+json": {
       "model_id": "7f420625e4d9447cad94ca972e2e0346",
       "version_major": 2,
       "version_minor": 0
      },
      "text/plain": [
       "S1AA_20190210T173020_20190318T173020_VVP036_INT40_G_weF_3277.zip:   0%|          | 0/301059929 [00:00<?, ?it/s…"
      ]
     },
     "metadata": {},
     "output_type": "display_data"
    },
    {
     "data": {
      "application/vnd.jupyter.widget-view+json": {
       "model_id": "0eee8fe29fc54734b10a5174a21ef56d",
       "version_major": 2,
       "version_minor": 0
      },
      "text/plain": [
       "S1AA_20190210T173020_20190222T173020_VVP012_INT40_G_weF_4FAE.zip:   0%|          | 0/301682070 [00:00<?, ?it/s…"
      ]
     },
     "metadata": {},
     "output_type": "display_data"
    },
    {
     "data": {
      "application/vnd.jupyter.widget-view+json": {
       "model_id": "62093a305def4566957a03deb5051217",
       "version_major": 2,
       "version_minor": 0
      },
      "text/plain": [
       "S1AA_20190129T173021_20190306T173020_VVP036_INT40_G_weF_4AC0.zip:   0%|          | 0/302548768 [00:00<?, ?it/s…"
      ]
     },
     "metadata": {},
     "output_type": "display_data"
    },
    {
     "data": {
      "application/vnd.jupyter.widget-view+json": {
       "model_id": "cc98a24d9deb4a29b264f1f0a21382c1",
       "version_major": 2,
       "version_minor": 0
      },
      "text/plain": [
       "S1AA_20190210T173020_20190306T173020_VVP024_INT40_G_weF_3C83.zip:   0%|          | 0/301711747 [00:00<?, ?it/s…"
      ]
     },
     "metadata": {},
     "output_type": "display_data"
    },
    {
     "data": {
      "application/vnd.jupyter.widget-view+json": {
       "model_id": "518a1b0a37164c7a87dda93b15c1ef4d",
       "version_major": 2,
       "version_minor": 0
      },
      "text/plain": [
       "S1AA_20190129T173021_20190210T173020_VVP012_INT40_G_weF_6183.zip:   0%|          | 0/299688520 [00:00<?, ?it/s…"
      ]
     },
     "metadata": {},
     "output_type": "display_data"
    },
    {
     "data": {
      "application/vnd.jupyter.widget-view+json": {
       "model_id": "ec5de1b199a34506b748834d2ce46894",
       "version_major": 2,
       "version_minor": 0
      },
      "text/plain": [
       "S1AA_20190129T173021_20190222T173020_VVP024_INT40_G_weF_E4CC.zip:   0%|          | 0/301758815 [00:00<?, ?it/s…"
      ]
     },
     "metadata": {},
     "output_type": "display_data"
    },
    {
     "data": {
      "application/vnd.jupyter.widget-view+json": {
       "model_id": "43cca446ca324c639914ecbcf0f22b91",
       "version_major": 2,
       "version_minor": 0
      },
      "text/plain": [
       "S1AA_20190117T173021_20190210T173020_VVP024_INT40_G_weF_CC7C.zip:   0%|          | 0/301160946 [00:00<?, ?it/s…"
      ]
     },
     "metadata": {},
     "output_type": "display_data"
    },
    {
     "data": {
      "application/vnd.jupyter.widget-view+json": {
       "model_id": "62943b9fc7d34e15a3a63b962790e6b2",
       "version_major": 2,
       "version_minor": 0
      },
      "text/plain": [
       "S1AA_20190117T173021_20190222T173020_VVP036_INT40_G_weF_0546.zip:   0%|          | 0/303179376 [00:00<?, ?it/s…"
      ]
     },
     "metadata": {},
     "output_type": "display_data"
    },
    {
     "data": {
      "application/vnd.jupyter.widget-view+json": {
       "model_id": "9ad79db9f9df44baa977f97e6dbd59b2",
       "version_major": 2,
       "version_minor": 0
      },
      "text/plain": [
       "S1AA_20190105T173021_20190210T173020_VVP036_INT40_G_weF_9407.zip:   0%|          | 0/299549929 [00:00<?, ?it/s…"
      ]
     },
     "metadata": {},
     "output_type": "display_data"
    },
    {
     "data": {
      "application/vnd.jupyter.widget-view+json": {
       "model_id": "f089c870c2aa423db152bf6507248053",
       "version_major": 2,
       "version_minor": 0
      },
      "text/plain": [
       "S1AA_20190117T173021_20190129T173021_VVP012_INT40_G_weF_71BC.zip:   0%|          | 0/302827188 [00:00<?, ?it/s…"
      ]
     },
     "metadata": {},
     "output_type": "display_data"
    },
    {
     "data": {
      "application/vnd.jupyter.widget-view+json": {
       "model_id": "f388b40abff24160b79b965a5b9d5cef",
       "version_major": 2,
       "version_minor": 0
      },
      "text/plain": [
       "S1AA_20190105T173021_20190129T173021_VVP024_INT40_G_weF_C10A.zip:   0%|          | 0/302379218 [00:00<?, ?it/s…"
      ]
     },
     "metadata": {},
     "output_type": "display_data"
    },
    {
     "data": {
      "application/vnd.jupyter.widget-view+json": {
       "model_id": "68df0589fc784b9da062189fea508beb",
       "version_major": 2,
       "version_minor": 0
      },
      "text/plain": [
       "S1AA_20190105T173021_20190117T173021_VVP012_INT40_G_weF_73A5.zip:   0%|          | 0/301998175 [00:00<?, ?it/s…"
      ]
     },
     "metadata": {},
     "output_type": "display_data"
    },
    {
     "data": {
      "application/vnd.jupyter.widget-view+json": {
       "model_id": "f4fec93dce534efb9902e0079bbb44a3",
       "version_major": 2,
       "version_minor": 0
      },
      "text/plain": [
       "S1AA_20181224T173022_20190129T173021_VVP036_INT40_G_weF_2D36.zip:   0%|          | 0/301224016 [00:00<?, ?it/s…"
      ]
     },
     "metadata": {},
     "output_type": "display_data"
    },
    {
     "data": {
      "application/vnd.jupyter.widget-view+json": {
       "model_id": "e4f5d3690b954056b9202b5908f3524c",
       "version_major": 2,
       "version_minor": 0
      },
      "text/plain": [
       "S1AA_20181224T173022_20190105T173021_VVP012_INT40_G_weF_5085.zip:   0%|          | 0/301470137 [00:00<?, ?it/s…"
      ]
     },
     "metadata": {},
     "output_type": "display_data"
    },
    {
     "data": {
      "application/vnd.jupyter.widget-view+json": {
       "model_id": "1ecf01cb06a941cd8ee03c83c70f9653",
       "version_major": 2,
       "version_minor": 0
      },
      "text/plain": [
       "S1AA_20181224T173022_20190117T173021_VVP024_INT40_G_weF_5015.zip:   0%|          | 0/300994998 [00:00<?, ?it/s…"
      ]
     },
     "metadata": {},
     "output_type": "display_data"
    },
    {
     "data": {
      "application/vnd.jupyter.widget-view+json": {
       "model_id": "419d5b034ee941bd8199a0e25f0f3a2c",
       "version_major": 2,
       "version_minor": 0
      },
      "text/plain": [
       "S1AA_20181212T173022_20181224T173022_VVP012_INT40_G_weF_4240.zip:   0%|          | 0/301753946 [00:00<?, ?it/s…"
      ]
     },
     "metadata": {},
     "output_type": "display_data"
    },
    {
     "data": {
      "application/vnd.jupyter.widget-view+json": {
       "model_id": "e84cd430febe4f52998d5a33efc6c014",
       "version_major": 2,
       "version_minor": 0
      },
      "text/plain": [
       "S1AA_20181212T173022_20190117T173021_VVP036_INT40_G_weF_DF73.zip:   0%|          | 0/302104484 [00:00<?, ?it/s…"
      ]
     },
     "metadata": {},
     "output_type": "display_data"
    },
    {
     "data": {
      "application/vnd.jupyter.widget-view+json": {
       "model_id": "17aeeb32b8e14adfb91d7195f9e2ef09",
       "version_major": 2,
       "version_minor": 0
      },
      "text/plain": [
       "S1AA_20181212T173022_20190105T173021_VVP024_INT40_G_weF_D033.zip:   0%|          | 0/302094139 [00:00<?, ?it/s…"
      ]
     },
     "metadata": {},
     "output_type": "display_data"
    },
    {
     "data": {
      "application/vnd.jupyter.widget-view+json": {
       "model_id": "4ed6a9d0898d42c68325f028c598eaee",
       "version_major": 2,
       "version_minor": 0
      },
      "text/plain": [
       "S1AA_20181130T173023_20181224T173022_VVP024_INT40_G_weF_A05A.zip:   0%|          | 0/303607245 [00:00<?, ?it/s…"
      ]
     },
     "metadata": {},
     "output_type": "display_data"
    },
    {
     "data": {
      "application/vnd.jupyter.widget-view+json": {
       "model_id": "d46cf288591445c6b7e7259c5e61aa22",
       "version_major": 2,
       "version_minor": 0
      },
      "text/plain": [
       "S1AA_20181130T173023_20190105T173021_VVP036_INT40_G_weF_409B.zip:   0%|          | 0/300738750 [00:00<?, ?it/s…"
      ]
     },
     "metadata": {},
     "output_type": "display_data"
    },
    {
     "data": {
      "application/vnd.jupyter.widget-view+json": {
       "model_id": "24ec39a24459468ab5bb167a7a8aac90",
       "version_major": 2,
       "version_minor": 0
      },
      "text/plain": [
       "S1AA_20181130T173023_20181212T173022_VVP012_INT40_G_weF_C387.zip:   0%|          | 0/302595808 [00:00<?, ?it/s…"
      ]
     },
     "metadata": {},
     "output_type": "display_data"
    },
    {
     "data": {
      "application/vnd.jupyter.widget-view+json": {
       "model_id": "10fc59d6769549829d24b474209d3c9a",
       "version_major": 2,
       "version_minor": 0
      },
      "text/plain": [
       "S1AA_20181118T173023_20181224T173022_VVP036_INT40_G_weF_676D.zip:   0%|          | 0/301115967 [00:00<?, ?it/s…"
      ]
     },
     "metadata": {},
     "output_type": "display_data"
    },
    {
     "data": {
      "application/vnd.jupyter.widget-view+json": {
       "model_id": "75f12a809f64484f9ec2d2952fdfa93e",
       "version_major": 2,
       "version_minor": 0
      },
      "text/plain": [
       "S1AA_20181118T173023_20181212T173022_VVP024_INT40_G_weF_0464.zip:   0%|          | 0/304396477 [00:00<?, ?it/s…"
      ]
     },
     "metadata": {},
     "output_type": "display_data"
    },
    {
     "data": {
      "application/vnd.jupyter.widget-view+json": {
       "model_id": "dabf55805ca149c7907540a8751f342f",
       "version_major": 2,
       "version_minor": 0
      },
      "text/plain": [
       "S1AA_20181118T173023_20181130T173023_VVP012_INT40_G_weF_3A40.zip:   0%|          | 0/303330145 [00:00<?, ?it/s…"
      ]
     },
     "metadata": {},
     "output_type": "display_data"
    },
    {
     "data": {
      "application/vnd.jupyter.widget-view+json": {
       "model_id": "519f7004974f4fb5b462778106c74e3b",
       "version_major": 2,
       "version_minor": 0
      },
      "text/plain": [
       "S1AA_20181106T173023_20181212T173022_VVP036_INT40_G_weF_5249.zip:   0%|          | 0/304174733 [00:00<?, ?it/s…"
      ]
     },
     "metadata": {},
     "output_type": "display_data"
    },
    {
     "data": {
      "application/vnd.jupyter.widget-view+json": {
       "model_id": "42cb081b24b042b285a09c10680a0d85",
       "version_major": 2,
       "version_minor": 0
      },
      "text/plain": [
       "S1AA_20181106T173023_20181130T173023_VVP024_INT40_G_weF_2DAE.zip:   0%|          | 0/302949247 [00:00<?, ?it/s…"
      ]
     },
     "metadata": {},
     "output_type": "display_data"
    },
    {
     "data": {
      "application/vnd.jupyter.widget-view+json": {
       "model_id": "42834ee464194e7eab01377fa9c5de3d",
       "version_major": 2,
       "version_minor": 0
      },
      "text/plain": [
       "S1AA_20181106T173023_20181118T173023_VVP012_INT40_G_weF_C691.zip:   0%|          | 0/303793014 [00:00<?, ?it/s…"
      ]
     },
     "metadata": {},
     "output_type": "display_data"
    },
    {
     "data": {
      "application/vnd.jupyter.widget-view+json": {
       "model_id": "ce38219ba3b64223b3c4bc751b98d876",
       "version_major": 2,
       "version_minor": 0
      },
      "text/plain": [
       "S1AA_20181025T173024_20181130T173023_VVP036_INT40_G_weF_C7C6.zip:   0%|          | 0/304116232 [00:00<?, ?it/s…"
      ]
     },
     "metadata": {},
     "output_type": "display_data"
    },
    {
     "data": {
      "application/vnd.jupyter.widget-view+json": {
       "model_id": "3d9d87539ca54bc595c316ddbb1ced87",
       "version_major": 2,
       "version_minor": 0
      },
      "text/plain": [
       "S1AA_20181025T173024_20181118T173023_VVP024_INT40_G_weF_3132.zip:   0%|          | 0/303650555 [00:00<?, ?it/s…"
      ]
     },
     "metadata": {},
     "output_type": "display_data"
    },
    {
     "data": {
      "application/vnd.jupyter.widget-view+json": {
       "model_id": "4dab668f46b94da7b827734fc4fc37ee",
       "version_major": 2,
       "version_minor": 0
      },
      "text/plain": [
       "S1AA_20181025T173024_20181106T173023_VVP012_INT40_G_weF_6A30.zip:   0%|          | 0/300051130 [00:00<?, ?it/s…"
      ]
     },
     "metadata": {},
     "output_type": "display_data"
    },
    {
     "data": {
      "application/vnd.jupyter.widget-view+json": {
       "model_id": "2eee6e2d63d7404e9e363ce31657494c",
       "version_major": 2,
       "version_minor": 0
      },
      "text/plain": [
       "S1AA_20181013T173024_20181106T173023_VVP024_INT40_G_weF_02DB.zip:   0%|          | 0/303931297 [00:00<?, ?it/s…"
      ]
     },
     "metadata": {},
     "output_type": "display_data"
    },
    {
     "data": {
      "application/vnd.jupyter.widget-view+json": {
       "model_id": "f597c2017a6040c58263bceac357fd51",
       "version_major": 2,
       "version_minor": 0
      },
      "text/plain": [
       "S1AA_20181013T173024_20181118T173023_VVP036_INT40_G_weF_7A10.zip:   0%|          | 0/304474232 [00:00<?, ?it/s…"
      ]
     },
     "metadata": {},
     "output_type": "display_data"
    },
    {
     "data": {
      "application/vnd.jupyter.widget-view+json": {
       "model_id": "f6e78a821d0548a4b2536b181696588a",
       "version_major": 2,
       "version_minor": 0
      },
      "text/plain": [
       "S1AA_20181013T173024_20181025T173024_VVP012_INT40_G_weF_C2CE.zip:   0%|          | 0/301970442 [00:00<?, ?it/s…"
      ]
     },
     "metadata": {},
     "output_type": "display_data"
    },
    {
     "data": {
      "application/vnd.jupyter.widget-view+json": {
       "model_id": "b846cb28b0204d478ba61cc4e37fc924",
       "version_major": 2,
       "version_minor": 0
      },
      "text/plain": [
       "S1AA_20181001T173023_20181106T173023_VVP036_INT40_G_weF_AC64.zip:   0%|          | 0/302891587 [00:00<?, ?it/s…"
      ]
     },
     "metadata": {},
     "output_type": "display_data"
    },
    {
     "data": {
      "application/vnd.jupyter.widget-view+json": {
       "model_id": "199669f1ea8947388cb90f9579fc4313",
       "version_major": 2,
       "version_minor": 0
      },
      "text/plain": [
       "S1AA_20181001T173023_20181013T173024_VVP012_INT40_G_weF_AF0F.zip:   0%|          | 0/301401431 [00:00<?, ?it/s…"
      ]
     },
     "metadata": {},
     "output_type": "display_data"
    },
    {
     "data": {
      "application/vnd.jupyter.widget-view+json": {
       "model_id": "96cc92796fec4e18ae7b2dec3afc9258",
       "version_major": 2,
       "version_minor": 0
      },
      "text/plain": [
       "S1AA_20181001T173023_20181025T173024_VVP024_INT40_G_weF_A23D.zip:   0%|          | 0/300781306 [00:00<?, ?it/s…"
      ]
     },
     "metadata": {},
     "output_type": "display_data"
    },
    {
     "data": {
      "application/vnd.jupyter.widget-view+json": {
       "model_id": "ce1ad122c9fc4f7da16f4f1dff92ade1",
       "version_major": 2,
       "version_minor": 0
      },
      "text/plain": [
       "S1AA_20180919T173023_20181013T173024_VVP024_INT40_G_weF_2025.zip:   0%|          | 0/300011690 [00:00<?, ?it/s…"
      ]
     },
     "metadata": {},
     "output_type": "display_data"
    },
    {
     "data": {
      "application/vnd.jupyter.widget-view+json": {
       "model_id": "0ed2987426cf44659dccff5e67629b9e",
       "version_major": 2,
       "version_minor": 0
      },
      "text/plain": [
       "S1AA_20180919T173023_20181025T173024_VVP036_INT40_G_weF_D9EE.zip:   0%|          | 0/302497741 [00:00<?, ?it/s…"
      ]
     },
     "metadata": {},
     "output_type": "display_data"
    },
    {
     "data": {
      "application/vnd.jupyter.widget-view+json": {
       "model_id": "272f3b8ee9b7432fa42a777da68d81fc",
       "version_major": 2,
       "version_minor": 0
      },
      "text/plain": [
       "S1AA_20180907T173023_20181013T173024_VVP036_INT40_G_weF_59B4.zip:   0%|          | 0/301299777 [00:00<?, ?it/s…"
      ]
     },
     "metadata": {},
     "output_type": "display_data"
    },
    {
     "data": {
      "application/vnd.jupyter.widget-view+json": {
       "model_id": "9cda4cfc133c42109265ad159869fec8",
       "version_major": 2,
       "version_minor": 0
      },
      "text/plain": [
       "S1AA_20180919T173023_20181001T173023_VVP012_INT40_G_weF_E347.zip:   0%|          | 0/299859356 [00:00<?, ?it/s…"
      ]
     },
     "metadata": {},
     "output_type": "display_data"
    },
    {
     "data": {
      "application/vnd.jupyter.widget-view+json": {
       "model_id": "3013b9c0bba742cabe43da0184e2b161",
       "version_major": 2,
       "version_minor": 0
      },
      "text/plain": [
       "S1AA_20180826T173022_20181001T173023_VVP036_INT40_G_weF_9BC8.zip:   0%|          | 0/303656598 [00:00<?, ?it/s…"
      ]
     },
     "metadata": {},
     "output_type": "display_data"
    },
    {
     "data": {
      "application/vnd.jupyter.widget-view+json": {
       "model_id": "fff30701930a4ec4b7524702c8df832c",
       "version_major": 2,
       "version_minor": 0
      },
      "text/plain": [
       "S1AA_20180907T173023_20180919T173023_VVP012_INT40_G_weF_E951.zip:   0%|          | 0/303607670 [00:00<?, ?it/s…"
      ]
     },
     "metadata": {},
     "output_type": "display_data"
    },
    {
     "data": {
      "application/vnd.jupyter.widget-view+json": {
       "model_id": "4fe4054145894e39bf74fedeb5d3292f",
       "version_major": 2,
       "version_minor": 0
      },
      "text/plain": [
       "S1AA_20180907T173023_20181001T173023_VVP024_INT40_G_weF_C784.zip:   0%|          | 0/300765755 [00:00<?, ?it/s…"
      ]
     },
     "metadata": {},
     "output_type": "display_data"
    },
    {
     "data": {
      "application/vnd.jupyter.widget-view+json": {
       "model_id": "6ffe9919137643be97afcd703bcc3a49",
       "version_major": 2,
       "version_minor": 0
      },
      "text/plain": [
       "S1AA_20180826T173022_20180907T173023_VVP012_INT40_G_weF_8E70.zip:   0%|          | 0/302148850 [00:00<?, ?it/s…"
      ]
     },
     "metadata": {},
     "output_type": "display_data"
    },
    {
     "data": {
      "application/vnd.jupyter.widget-view+json": {
       "model_id": "bfbc2ca569fb403493d96c0b4c6b8742",
       "version_major": 2,
       "version_minor": 0
      },
      "text/plain": [
       "S1AA_20180826T173022_20180919T173023_VVP024_INT40_G_weF_F655.zip:   0%|          | 0/301256613 [00:00<?, ?it/s…"
      ]
     },
     "metadata": {},
     "output_type": "display_data"
    },
    {
     "data": {
      "application/vnd.jupyter.widget-view+json": {
       "model_id": "2bfc5acd08cd4b6983ae77626b4b4a95",
       "version_major": 2,
       "version_minor": 0
      },
      "text/plain": [
       "S1AA_20180814T173021_20180907T173023_VVP024_INT40_G_weF_6EB6.zip:   0%|          | 0/304674788 [00:00<?, ?it/s…"
      ]
     },
     "metadata": {},
     "output_type": "display_data"
    },
    {
     "data": {
      "application/vnd.jupyter.widget-view+json": {
       "model_id": "bea7d319504447fbbe28149254b40515",
       "version_major": 2,
       "version_minor": 0
      },
      "text/plain": [
       "S1AA_20180814T173021_20180919T173023_VVP036_INT40_G_weF_EF8E.zip:   0%|          | 0/301522824 [00:00<?, ?it/s…"
      ]
     },
     "metadata": {},
     "output_type": "display_data"
    },
    {
     "data": {
      "application/vnd.jupyter.widget-view+json": {
       "model_id": "2750228209ed441182e31d6150feb3b9",
       "version_major": 2,
       "version_minor": 0
      },
      "text/plain": [
       "S1AA_20180802T173021_20180907T173023_VVP036_INT40_G_weF_C85C.zip:   0%|          | 0/303955648 [00:00<?, ?it/s…"
      ]
     },
     "metadata": {},
     "output_type": "display_data"
    },
    {
     "data": {
      "application/vnd.jupyter.widget-view+json": {
       "model_id": "56b2bac639094ce78730c994b66b09a7",
       "version_major": 2,
       "version_minor": 0
      },
      "text/plain": [
       "S1AA_20180814T173021_20180826T173022_VVP012_INT40_G_weF_378A.zip:   0%|          | 0/301336715 [00:00<?, ?it/s…"
      ]
     },
     "metadata": {},
     "output_type": "display_data"
    },
    {
     "data": {
      "application/vnd.jupyter.widget-view+json": {
       "model_id": "ac7e0831a055490c88662d71960390f4",
       "version_major": 2,
       "version_minor": 0
      },
      "text/plain": [
       "S1AA_20180802T173021_20180826T173022_VVP024_INT40_G_weF_B739.zip:   0%|          | 0/303100078 [00:00<?, ?it/s…"
      ]
     },
     "metadata": {},
     "output_type": "display_data"
    },
    {
     "data": {
      "application/vnd.jupyter.widget-view+json": {
       "model_id": "130e0576c4234f0984dbfa362f8193f6",
       "version_major": 2,
       "version_minor": 0
      },
      "text/plain": [
       "S1AA_20180802T173021_20180814T173021_VVP012_INT40_G_weF_304D.zip:   0%|          | 0/301290320 [00:00<?, ?it/s…"
      ]
     },
     "metadata": {},
     "output_type": "display_data"
    },
    {
     "data": {
      "application/vnd.jupyter.widget-view+json": {
       "model_id": "5b0c69f12de8492c9de7b2e58132f0b8",
       "version_major": 2,
       "version_minor": 0
      },
      "text/plain": [
       "S1AA_20180721T173020_20180814T173021_VVP024_INT40_G_weF_93BF.zip:   0%|          | 0/303430295 [00:00<?, ?it/s…"
      ]
     },
     "metadata": {},
     "output_type": "display_data"
    },
    {
     "data": {
      "application/vnd.jupyter.widget-view+json": {
       "model_id": "6833febb38f642b388a306769e790b3a",
       "version_major": 2,
       "version_minor": 0
      },
      "text/plain": [
       "S1AA_20180721T173020_20180826T173022_VVP036_INT40_G_weF_C630.zip:   0%|          | 0/303839470 [00:00<?, ?it/s…"
      ]
     },
     "metadata": {},
     "output_type": "display_data"
    },
    {
     "data": {
      "application/vnd.jupyter.widget-view+json": {
       "model_id": "f4e726ba3e474fe29d93ca5c6ac07533",
       "version_major": 2,
       "version_minor": 0
      },
      "text/plain": [
       "S1AA_20180721T173020_20180802T173021_VVP012_INT40_G_weF_D408.zip:   0%|          | 0/301856491 [00:00<?, ?it/s…"
      ]
     },
     "metadata": {},
     "output_type": "display_data"
    },
    {
     "data": {
      "application/vnd.jupyter.widget-view+json": {
       "model_id": "e74c40981e444c6fb57511de395f62c6",
       "version_major": 2,
       "version_minor": 0
      },
      "text/plain": [
       "S1AA_20180709T173019_20180814T173021_VVP036_INT40_G_weF_50D8.zip:   0%|          | 0/303444716 [00:00<?, ?it/s…"
      ]
     },
     "metadata": {},
     "output_type": "display_data"
    },
    {
     "data": {
      "application/vnd.jupyter.widget-view+json": {
       "model_id": "a1783961e83c4aa18e997909cba1c49a",
       "version_major": 2,
       "version_minor": 0
      },
      "text/plain": [
       "S1AA_20180709T173019_20180721T173020_VVP012_INT40_G_weF_63FB.zip:   0%|          | 0/303097264 [00:00<?, ?it/s…"
      ]
     },
     "metadata": {},
     "output_type": "display_data"
    },
    {
     "data": {
      "application/vnd.jupyter.widget-view+json": {
       "model_id": "2c048ae0f9e2401faed01a62d40578cb",
       "version_major": 2,
       "version_minor": 0
      },
      "text/plain": [
       "S1AA_20180709T173019_20180802T173021_VVP024_INT40_G_weF_87FD.zip:   0%|          | 0/305278523 [00:00<?, ?it/s…"
      ]
     },
     "metadata": {},
     "output_type": "display_data"
    },
    {
     "data": {
      "application/vnd.jupyter.widget-view+json": {
       "model_id": "fe016f91daa149aeb12c3a3392bb073c",
       "version_major": 2,
       "version_minor": 0
      },
      "text/plain": [
       "S1AA_20180627T173019_20180721T173020_VVP024_INT40_G_weF_FAA7.zip:   0%|          | 0/302873408 [00:00<?, ?it/s…"
      ]
     },
     "metadata": {},
     "output_type": "display_data"
    },
    {
     "data": {
      "application/vnd.jupyter.widget-view+json": {
       "model_id": "7880b4be41e7434a89462bd1c654c1c3",
       "version_major": 2,
       "version_minor": 0
      },
      "text/plain": [
       "S1AA_20180627T173019_20180802T173021_VVP036_INT40_G_weF_3122.zip:   0%|          | 0/302523778 [00:00<?, ?it/s…"
      ]
     },
     "metadata": {},
     "output_type": "display_data"
    },
    {
     "data": {
      "application/vnd.jupyter.widget-view+json": {
       "model_id": "b094dbf3db19429b8a2c8c2f795f207f",
       "version_major": 2,
       "version_minor": 0
      },
      "text/plain": [
       "S1AA_20180615T173018_20180709T173019_VVP024_INT40_G_weF_1FDA.zip:   0%|          | 0/304731629 [00:00<?, ?it/s…"
      ]
     },
     "metadata": {},
     "output_type": "display_data"
    },
    {
     "data": {
      "application/vnd.jupyter.widget-view+json": {
       "model_id": "8318a0c1b27b499389bc5329afce057f",
       "version_major": 2,
       "version_minor": 0
      },
      "text/plain": [
       "S1AA_20180615T173018_20180721T173020_VVP036_INT40_G_weF_7276.zip:   0%|          | 0/302684741 [00:00<?, ?it/s…"
      ]
     },
     "metadata": {},
     "output_type": "display_data"
    },
    {
     "data": {
      "application/vnd.jupyter.widget-view+json": {
       "model_id": "e7ada2d0e89147e789175476f2b12804",
       "version_major": 2,
       "version_minor": 0
      },
      "text/plain": [
       "S1AA_20180627T173019_20180709T173019_VVP012_INT40_G_weF_6561.zip:   0%|          | 0/303143184 [00:00<?, ?it/s…"
      ]
     },
     "metadata": {},
     "output_type": "display_data"
    },
    {
     "data": {
      "application/vnd.jupyter.widget-view+json": {
       "model_id": "62e8eb59746c4ac1a5cc7bb4bbbf571d",
       "version_major": 2,
       "version_minor": 0
      },
      "text/plain": [
       "S1AA_20180615T173018_20180627T173019_VVP012_INT40_G_weF_34FD.zip:   0%|          | 0/1203921242 [00:00<?, ?it/…"
      ]
     },
     "metadata": {},
     "output_type": "display_data"
    },
    {
     "name": "stdout",
     "output_type": "stream",
     "text": [
      "0 files already downloaded!\n"
     ]
    }
   ],
   "source": [
    "batch = hyp3.find_jobs(name=project_name)\n",
    "\n",
    "if batch.complete():\n",
    "    #filter to only succeeded jobs\n",
    "    succeeded_jobs = batch.filter_jobs(succeeded=True, running=False, failed=False)\n",
    "    \n",
    "    complete = 0\n",
    "    #download files if not downloaded already\n",
    "    for job in succeeded_jobs.jobs:\n",
    "        filename = job.to_dict()['files'][0]['filename']\n",
    "        location = os.path.join(project_name,filename)\n",
    "        if not os.path.exists(location):\n",
    "            job.download_files(location=project_name,create=True)\n",
    "        else:\n",
    "            complete += 1\n",
    "\n",
    "    print(f'{complete} files already downloaded!')\n",
    "\n",
    "else:\n",
    "    #to get updated information\n",
    "    batch = hyp3.refresh(batch)\n",
    "    #or to wait until completion and get updated information (which will take a fair bit)\n",
    "    batch = hyp3.watch(batch)"
   ]
  },
  {
   "cell_type": "markdown",
   "metadata": {},
   "source": [
    "Unzip files and clip to same extent"
   ]
  },
  {
   "cell_type": "code",
   "execution_count": 94,
   "metadata": {},
   "outputs": [
    {
     "name": "stdout",
     "output_type": "stream",
     "text": [
      "I:\\hyp3_downloads\n"
     ]
    }
   ],
   "source": [
    "cd I:\\hyp3_downloads"
   ]
  },
  {
   "cell_type": "code",
   "execution_count": 3,
   "metadata": {},
   "outputs": [],
   "source": [
    "project_name = 'asc_upper'"
   ]
  },
  {
   "cell_type": "code",
   "execution_count": null,
   "metadata": {},
   "outputs": [],
   "source": [
    "#filter to only succeeded jobs\n",
    "# succeeded_jobs = batch.filter_jobs(succeeded=True, running=False, failed=False)"
   ]
  },
  {
   "cell_type": "code",
   "execution_count": 97,
   "metadata": {},
   "outputs": [
    {
     "data": {
      "application/vnd.jupyter.widget-view+json": {
       "model_id": "a66e604eb9344d91a0550f2a90bcb101",
       "version_major": 2,
       "version_minor": 0
      },
      "text/plain": [
       "  0%|          | 0/255 [00:00<?, ?it/s]"
      ]
     },
     "metadata": {},
     "output_type": "display_data"
    }
   ],
   "source": [
    "project_name = 'desc_lower'\n",
    "\n",
    "zips = glob.glob(os.path.join(project_name,'*.zip'))\n",
    "unws = [[x,f'{os.path.join(x.split(\".\")[0],os.path.basename(x).split(\".\")[0])}_unw_phase.tif'] for x in zips]\n",
    "\n",
    "zips = [x[0] for x in unws if not os.path.exists(x[1])]\n",
    "folders = [x.split('.')[0] for x in zips]\n",
    "\n",
    "bad_files=[]\n",
    "\n",
    "for zip_file, folder in tqdm(zip(zips, folders), total=len(zips)):\n",
    "    try:\n",
    "        with zipfile.ZipFile(zip_file, 'r') as zip_ref:\n",
    "            zip_ref.extractall(project_name)\n",
    "    except BadZipFile:\n",
    "        bad_files.append(os.path.basename(zip_file))\n",
    "\n",
    "if len(bad_files) > 0:\n",
    "    print(f'These files were invalid zips:\\n{bad_files}')"
   ]
  },
  {
   "cell_type": "code",
   "execution_count": null,
   "metadata": {},
   "outputs": [],
   "source": [
    "cd I:/hyp3_downloads"
   ]
  },
  {
   "cell_type": "code",
   "execution_count": 98,
   "metadata": {},
   "outputs": [
    {
     "data": {
      "text/plain": [
       "767"
      ]
     },
     "execution_count": 98,
     "metadata": {},
     "output_type": "execute_result"
    }
   ],
   "source": [
    "folders = glob.glob(os.path.join(project_name,'S1*'))\n",
    "all_images = []\n",
    "for suffix in ['dem','lv_theta','water_mask','unw_phase','corr']:\n",
    "    all_images += [os.path.join(x,f'{os.path.basename(x)}_{suffix}.tif') for x in folders]\n",
    "\n",
    "exists = [x for x in all_images if os.path.exists(x)]\n",
    "to_clip = [x for x in exists if not os.path.exists(f'{x[:-4]}_clip.tif')]\n",
    "len(to_clip)"
   ]
  },
  {
   "cell_type": "code",
   "execution_count": 100,
   "metadata": {},
   "outputs": [],
   "source": [
    "# cutGeotiffs.cutFiles(to_clip)"
   ]
  },
  {
   "cell_type": "markdown",
   "metadata": {},
   "source": [
    "Done!"
   ]
  }
 ],
 "metadata": {
  "interpreter": {
   "hash": "d0805dd0a63a9aa5b56409bdcec0789bd27e38c20d1aed221282d406ad418a8c"
  },
  "kernelspec": {
   "display_name": "Python 3 (ipykernel)",
   "language": "python",
   "name": "python3"
  },
  "language_info": {
   "codemirror_mode": {
    "name": "ipython",
    "version": 3
   },
   "file_extension": ".py",
   "mimetype": "text/x-python",
   "name": "python",
   "nbconvert_exporter": "python",
   "pygments_lexer": "ipython3",
   "version": "3.9.7"
  },
  "metadata": {
   "interpreter": {
    "hash": "d0805dd0a63a9aa5b56409bdcec0789bd27e38c20d1aed221282d406ad418a8c"
   }
  }
 },
 "nbformat": 4,
 "nbformat_minor": 4
}
