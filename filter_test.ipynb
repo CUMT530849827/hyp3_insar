{
 "cells": [
  {
   "cell_type": "code",
   "execution_count": 12,
   "id": "f58db01e-3f8a-4e75-aa9f-5ef2bf2a079f",
   "metadata": {},
   "outputs": [],
   "source": [
    "%matplotlib inline\n",
    "\n",
    "import matplotlib.pyplot as plt\n",
    "import numpy as np\n",
    "from scipy import ndimage\n",
    "import scipy.ndimage.morphology as morphology"
   ]
  },
  {
   "cell_type": "code",
   "execution_count": 14,
   "id": "87143702-0059-427d-acfb-af504e9db3bd",
   "metadata": {},
   "outputs": [
    {
     "name": "stdout",
     "output_type": "stream",
     "text": [
      "N pixels: 25.0\n",
      "Actual width: 20400.0\n"
     ]
    }
   ],
   "source": [
    "desired_width = 2000\n",
    "pixel_size = 40\n",
    "\n",
    "x = 750\n",
    "n_pixels = np.floor((desired_width / 40) /2)\n",
    "width = ((n_pixels*2)+1)*400\n",
    "print(f'N pixels: {n_pixels}\\nActual width: {width}')"
   ]
  },
  {
   "cell_type": "code",
   "execution_count": 15,
   "id": "b985916c-b590-4fcb-95a9-0da120ce9ded",
   "metadata": {},
   "outputs": [
    {
     "name": "stdout",
     "output_type": "stream",
     "text": [
      "slice(23, 28, None) slice(23, 28, None)\n"
     ]
    },
    {
     "data": {
      "text/plain": [
       "Text(0.5, 1.0, 'Width: 2040m')"
      ]
     },
     "execution_count": 15,
     "metadata": {},
     "output_type": "execute_result"
    },
    {
     "data": {
      "image/png": "[encoded data removed]",
      "text/plain": [
       "<Figure size 432x288 with 2 Axes>"
      ]
     },
     "metadata": {
      "needs_background": "light"
     },
     "output_type": "display_data"
    }
   ],
   "source": [
    "from skimage import morphology\n",
    "filter_par = [2,25]\n",
    "\n",
    "local_kernel = morphology.disk(filter_par[0], np.float32)\n",
    "regional_kernel = morphology.disk(filter_par[1], np.float32)\n",
    "\n",
    "center = slice(filter_par[1]-filter_par[0],filter_par[1]+filter_par[0]+1)\n",
    "print(center,center)\n",
    "regional_kernel[center,center] =  regional_kernel[center,center] - local_kernel\n",
    "\n",
    "local_kernel = local_kernel / local_kernel.flatten().sum()\n",
    "# local_filt = ndimage.convolve(data, local_kernel)\n",
    "\n",
    "regional_kernel = regional_kernel / regional_kernel.flatten().sum()\n",
    "# regional_filt = ndimage.convolve(data, regional_kernel)\n",
    "\n",
    "f, (ax1,ax2) = plt.subplots(1,2)\n",
    "img1 = ax1.imshow(local_kernel,interpolation='none')\n",
    "ax1.set_title(f'Width: {local_kernel.shape[0]*40}m')\n",
    "img2 = ax2.imshow(regional_kernel,interpolation='none')\n",
    "ax2.set_title(f'Width: {regional_kernel.shape[0]*40}m')"
   ]
  },
  {
   "cell_type": "markdown",
   "id": "2a606da8-6b33-464a-b246-b1104b25e73b",
   "metadata": {},
   "source": [
    "## Start"
   ]
  },
  {
   "cell_type": "code",
   "execution_count": 140,
   "id": "c491a3eb-9b4a-4563-9aca-86ab6fa14466",
   "metadata": {},
   "outputs": [],
   "source": [
    "def og(filter_par,data):\n",
    "        local_kernel = morphology.disk(filter_par[0], np.float32)\n",
    "        regional_kernel = morphology.disk(filter_par[1], np.float32)\n",
    "\n",
    "        center = slice(int(filter_par[1]-filter_par[0]),int(filter_par[1]+filter_par[0]+1))\n",
    "        regional_kernel[center,center] =  regional_kernel[center,center] - local_kernel\n",
    "\n",
    "        local_kernel = local_kernel / local_kernel.flatten().sum()\n",
    "        local_filt = ndimage.convolve(data, local_kernel)\n",
    "\n",
    "        regional_kernel = regional_kernel / regional_kernel.flatten().sum()\n",
    "        regional_filt = ndimage.convolve(data, regional_kernel)\n",
    "\n",
    "        data_filt = regional_filt - local_filt\n",
    "\n",
    "        return(data_filt)"
   ]
  },
  {
   "cell_type": "code",
   "execution_count": 139,
   "id": "e7d3b5d3-3bff-4a8b-9396-0e6e5f2f0eb0",
   "metadata": {},
   "outputs": [],
   "source": [
    "def new(filter_par,data):\n",
    "    local_kernel = morphology.disk(filter_par[0], np.float32)\n",
    "    local_kernel = np.pad(local_kernel,filter_par[1] - filter_par[0],mode='constant')\n",
    "\n",
    "    mask = local_kernel == 1\n",
    "\n",
    "    regional_kernel = morphology.disk(filter_par[1], np.float32)\n",
    "    regional_kernel[mask] = 0\n",
    "\n",
    "    local_kernel /= local_kernel.sum(axis=(0,1))\n",
    "    regional_kernel /= regional_kernel.sum(axis=(0,1))\n",
    "    \n",
    "    combined_kernel = regional_kernel - local_kernel\n",
    "    data_filt = ndimage.convolve(data, combined_kernel)\n",
    "\n",
    "    return data_filt"
   ]
  },
  {
   "cell_type": "code",
   "execution_count": 145,
   "id": "b9c194bd-6652-441a-b1b1-3b0009469e16",
   "metadata": {},
   "outputs": [
    {
     "data": {
      "text/plain": [
       "<matplotlib.colorbar.Colorbar at 0x7fecb9d4d970>"
      ]
     },
     "execution_count": 145,
     "metadata": {},
     "output_type": "execute_result"
    },
    {
     "data": {
      "image/png": "[encoded data removed]",
      "text/plain": [
       "<Figure size 432x288 with 2 Axes>"
      ]
     },
     "metadata": {
      "needs_background": "light"
     },
     "output_type": "display_data"
    }
   ],
   "source": [
    "in_data = np.pad(morphology.disk(2).astype('float32'),50)\n",
    "# in_data += np.random.rand(in_data.shape[0],in_data.shape[1]).astype('float32')\n",
    "fitler_par = [2,25]\n",
    "\n",
    "plt.imshow(in_data,interpolation='none')\n",
    "plt.colorbar()"
   ]
  },
  {
   "cell_type": "code",
   "execution_count": 146,
   "id": "b8813dc9-5cd9-49fe-985a-2b6c8543f352",
   "metadata": {},
   "outputs": [
    {
     "name": "stdout",
     "output_type": "stream",
     "text": [
      "CPU times: user 174 ms, sys: 23 µs, total: 174 ms\n",
      "Wall time: 171 ms\n"
     ]
    },
    {
     "data": {
      "text/plain": [
       "<matplotlib.colorbar.Colorbar at 0x7fecb9cf2ac0>"
      ]
     },
     "execution_count": 146,
     "metadata": {},
     "output_type": "execute_result"
    },
    {
     "data": {
      "image/png": "[encoded data removed]",
      "text/plain": [
       "<Figure size 432x288 with 2 Axes>"
      ]
     },
     "metadata": {
      "needs_background": "light"
     },
     "output_type": "display_data"
    }
   ],
   "source": [
    "%%time\n",
    "og_data = og(fitler_par,in_data)\n",
    "\n",
    "plt.imshow(og_data,interpolation='none')\n",
    "plt.colorbar()"
   ]
  },
  {
   "cell_type": "code",
   "execution_count": 147,
   "id": "d110908f-b0e1-4fd0-9c35-6f0ce5544829",
   "metadata": {},
   "outputs": [
    {
     "name": "stdout",
     "output_type": "stream",
     "text": [
      "CPU times: user 157 ms, sys: 9.98 ms, total: 167 ms\n",
      "Wall time: 161 ms\n"
     ]
    },
    {
     "data": {
      "text/plain": [
       "<matplotlib.colorbar.Colorbar at 0x7fecb9c37610>"
      ]
     },
     "execution_count": 147,
     "metadata": {},
     "output_type": "execute_result"
    },
    {
     "data": {
      "image/png": "[encoded data removed]",
      "text/plain": [
       "<Figure size 432x288 with 2 Axes>"
      ]
     },
     "metadata": {
      "needs_background": "light"
     },
     "output_type": "display_data"
    }
   ],
   "source": [
    "%%time\n",
    "new_data = new(fitler_par,in_data)\n",
    "\n",
    "plt.imshow(new_data,interpolation='none')\n",
    "plt.colorbar()"
   ]
  },
  {
   "cell_type": "code",
   "execution_count": 149,
   "id": "10a1949e-d89a-4812-9db0-fba4073f94b1",
   "metadata": {},
   "outputs": [
    {
     "data": {
      "text/plain": [
       "<matplotlib.colorbar.Colorbar at 0x7fecb9a8ef10>"
      ]
     },
     "execution_count": 149,
     "metadata": {},
     "output_type": "execute_result"
    },
    {
     "data": {
      "image/png": "[encoded data removed]",
      "text/plain": [
       "<Figure size 432x288 with 2 Axes>"
      ]
     },
     "metadata": {
      "needs_background": "light"
     },
     "output_type": "display_data"
    }
   ],
   "source": [
    "diff = og_data - new_data\n",
    "plt.imshow(diff,interpolation='none')#,vmin=-0.0001,vmax=0.0001)\n",
    "plt.colorbar()"
   ]
  },
  {
   "cell_type": "code",
   "execution_count": 122,
   "id": "eda2b05f-693c-4f20-ba16-1636ed5a9557",
   "metadata": {},
   "outputs": [
    {
     "data": {
      "text/plain": [
       "'/mnt/i/hyp3_insar'"
      ]
     },
     "execution_count": 122,
     "metadata": {},
     "output_type": "execute_result"
    }
   ],
   "source": [
    "ls ../"
   ]
  },
  {
   "cell_type": "code",
   "execution_count": 67,
   "id": "c4959dc1-2f58-4b13-bcb9-cc46d2c118b3",
   "metadata": {},
   "outputs": [
    {
     "data": {
      "text/plain": [
       "<matplotlib.colorbar.Colorbar at 0x7fecc00930a0>"
      ]
     },
     "execution_count": 67,
     "metadata": {},
     "output_type": "execute_result"
    },
    {
     "data": {
      "image/png": "[encoded data removed]",
      "text/plain": [
       "<Figure size 432x288 with 2 Axes>"
      ]
     },
     "metadata": {
      "needs_background": "light"
     },
     "output_type": "display_data"
    }
   ],
   "source": [
    "local_kernel = morphology.disk(filter_par[0], np.float32)\n",
    "local_kernel = np.pad(local_kernel,filter_par[1] - filter_par[0],mode='constant')\n",
    "\n",
    "mask = local_kernel == 1\n",
    "\n",
    "regional_kernel = morphology.disk(filter_par[1], np.float32)\n",
    "regional_kernel[mask] = 0\n",
    "\n",
    "local_kernel /= local_kernel.sum(axis=(0,1))\n",
    "regional_kernel /= regional_kernel.sum(axis=(0,1))\n",
    "\n",
    "combined_kernel = local_kernel - regional_kernel\n",
    "\n",
    "plt.imshow(combined_kernel,interpolation='none',vmax=0.0005)\n",
    "plt.colorbar()"
   ]
  },
  {
   "cell_type": "code",
   "execution_count": 54,
   "id": "a5bd1fc0-de33-4cde-afcd-a586346a68e6",
   "metadata": {},
   "outputs": [
    {
     "data": {
      "text/plain": [
       "((51, 51), (51, 51))"
      ]
     },
     "execution_count": 54,
     "metadata": {},
     "output_type": "execute_result"
    }
   ],
   "source": [
    "regional_kernel.shape, local_kernel.shape"
   ]
  },
  {
   "cell_type": "code",
   "execution_count": null,
   "id": "4af04c9f-7e94-41be-9d28-934869242c17",
   "metadata": {},
   "outputs": [],
   "source": []
  }
 ],
 "metadata": {
  "kernelspec": {
   "display_name": "Python 3 (ipykernel)",
   "language": "python",
   "name": "python3"
  },
  "language_info": {
   "codemirror_mode": {
    "name": "ipython",
    "version": 3
   },
   "file_extension": ".py",
   "mimetype": "text/x-python",
   "name": "python",
   "nbconvert_exporter": "python",
   "pygments_lexer": "ipython3",
   "version": "3.8.10"
  }
 },
 "nbformat": 4,
 "nbformat_minor": 5
}
