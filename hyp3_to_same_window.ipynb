{
 "cells": [
  {
   "cell_type": "code",
   "execution_count": null,
   "id": "b43f5025-9823-4e4d-98d1-99c4fe03196b",
   "metadata": {},
   "outputs": [],
   "source": [
    "import glob\n",
    "import os\n",
    "from hyp3lib import cutGeotiffs"
   ]
  },
  {
   "cell_type": "code",
   "execution_count": null,
   "id": "20ced0ab-effa-45c0-a510-c35c65288be7",
   "metadata": {},
   "outputs": [],
   "source": [
    "exclude_dates = ['20180716T070629', '20180704T070628']\n",
    "folders = glob.glob(os.path.join('..','hyp3_downloads','p81f1048_10x2_2','S1*'))\n",
    "folders = [x for x in folders if 'zip' not in x]\n",
    "\n",
    "all_images = []\n",
    "for suffix in ['dem','inc_map','water_mask','unw_phase','corr']:\n",
    "    found_images = [os.path.join(x,f'{os.path.basename(x)}_{suffix}.tif') for x in folders]\n",
    "    exists = [x for x in found_images if os.path.exists(x)]\n",
    "    all_images += exists\n",
    "    print(f'found {len(exists)} {suffix}s')\n",
    "\n",
    "to_clip = [x for x in all_images if not any([a in x for a in exclude_dates])]\n",
    "\n",
    "if any([os.path.exists(f'{x.split(\".\")[0]}_clip.tif') for x in exists]):\n",
    "    print('WATCH OUT! SOME CLIPPED VERSIONS HAVE ALREADY BEEN CREATED!!')\n",
    "else:\n",
    "    print('good to go!')"
   ]
  },
  {
   "cell_type": "code",
   "execution_count": null,
   "id": "7789b6c7-456a-42bd-987a-e3ffda49bdf2",
   "metadata": {},
   "outputs": [],
   "source": [
    "cutGeotiffs.cutFiles(to_clip)"
   ]
  }
 ],
 "metadata": {
  "kernelspec": {
   "display_name": "Python 3 (ipykernel)",
   "language": "python",
   "name": "python3"
  },
  "language_info": {
   "codemirror_mode": {
    "name": "ipython",
    "version": 3
   },
   "file_extension": ".py",
   "mimetype": "text/x-python",
   "name": "python",
   "nbconvert_exporter": "python",
   "pygments_lexer": "ipython3",
   "version": "3.9.5"
  }
 },
 "nbformat": 4,
 "nbformat_minor": 5
}
