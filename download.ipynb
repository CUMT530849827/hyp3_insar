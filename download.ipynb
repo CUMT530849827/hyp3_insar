{
 "metadata": {
  "language_info": {
   "codemirror_mode": {
    "name": "ipython",
    "version": 3
   },
   "file_extension": ".py",
   "mimetype": "text/x-python",
   "name": "python",
   "nbconvert_exporter": "python",
   "pygments_lexer": "ipython3",
   "version": "3.9.2"
  },
  "orig_nbformat": 2,
  "kernelspec": {
   "name": "python392jvsc74a57bd0d0805dd0a63a9aa5b56409bdcec0789bd27e38c20d1aed221282d406ad418a8c",
   "display_name": "Python 3.9.2 64-bit ('hyp3': conda)"
  },
  "metadata": {
   "interpreter": {
    "hash": "d0805dd0a63a9aa5b56409bdcec0789bd27e38c20d1aed221282d406ad418a8c"
   }
  }
 },
 "nbformat": 4,
 "nbformat_minor": 2,
 "cells": [
  {
   "source": [
    "Import libraries"
   ],
   "cell_type": "markdown",
   "metadata": {}
  },
  {
   "cell_type": "code",
   "execution_count": null,
   "metadata": {},
   "outputs": [],
   "source": [
    "import os\n",
    "import sys\n",
    "import pandas as pd\n",
    "import datetime\n",
    "from tqdm.auto import tqdm\n",
    "import hyp3_sdk as sdk\n",
    "from hyp3_sdk import asf_search"
   ]
  },
  {
   "source": [
    "Enter Hyp3 credentials"
   ],
   "cell_type": "markdown",
   "metadata": {}
  },
  {
   "cell_type": "code",
   "execution_count": null,
   "metadata": {},
   "outputs": [],
   "source": [
    "hyp3 = sdk.HyP3(prompt=True)\n",
    "my_info = hyp3.my_info()\n",
    "print(f\"Remaining Quota: {my_info['quota']['remaining']}\")"
   ]
  },
  {
   "source": [
    "Create download list"
   ],
   "cell_type": "markdown",
   "metadata": {}
  },
  {
   "cell_type": "code",
   "execution_count": 14,
   "metadata": {},
   "outputs": [
    {
     "output_type": "stream",
     "name": "stdout",
     "text": [
      "Will create interferograms for 5 SLCs\n"
     ]
    }
   ],
   "source": [
    "# Project name\n",
    "project_name = 'ifg_asc_p81_f1048'\n",
    "\n",
    "# Set date bounds\n",
    "start_date = datetime.datetime(2016, 12, 31)\n",
    "end_date = datetime.datetime(2021, 12, 31)\n",
    "\n",
    "# Read in \n",
    "df = pd.read_csv('..\\\\slcs_asc_path81_frame1048.csv',usecols=['Granule Name', 'Acquisition Date'])\n",
    "\n",
    "# Convert and limit by date\n",
    "df['Acquisition Date'] = pd.to_datetime(df['Acquisition Date'], format='%Y-%m-%dT%H:%M:%S')\n",
    "df = df.loc[(df['Acquisition Date']>=start_date) & (df['Acquisition Date']<=end_date)]\n",
    "df = df.sort_values('Acquisition Date')\n",
    "\n",
    "granules = list(df['Granule Name'])\n",
    "granules = granules[0:5]\n",
    "print(f'Will create interferograms for {len(granules)} SLCs')"
   ]
  },
  {
   "source": [
    "Request Ifg generation"
   ],
   "cell_type": "markdown",
   "metadata": {}
  },
  {
   "cell_type": "code",
   "execution_count": 15,
   "metadata": {},
   "outputs": [
    {
     "output_type": "stream",
     "name": "stderr",
     "text": [
      "100%|██████████| 5/5 [00:32<00:00,  6.46s/it]\n"
     ]
    }
   ],
   "source": [
    "insar_jobs = sdk.Batch()\n",
    "for reference in tqdm(granules):\n",
    "    neighbors_metadata = asf_search.get_nearest_neighbors(reference, max_neighbors=3)\n",
    "    for secondary_metadata in neighbors_metadata:\n",
    "        secondary = secondary_metadata['granuleName']\n",
    "        insar_jobs += hyp3.submit_insar_job(reference, secondary,\n",
    "            name=project_name,looks='10x2',include_look_vectors=True,include_inc_map=True,include_dem=True)\n"
   ]
  },
  {
   "source": [
    "Check progress and download"
   ],
   "cell_type": "markdown",
   "metadata": {}
  },
  {
   "cell_type": "code",
   "execution_count": null,
   "metadata": {},
   "outputs": [],
   "source": [
    "batch = hyp3.find_jobs(name=project_name)\n",
    "if batch.complete():\n",
    "    #filter to only succeeded jobs\n",
    "    succeeded_jobs = batch.filter_jobs(succeeded=True, running=False, failed=False)\n",
    "    #download files\n",
    "    file_list = succeeded_jobs.download_files(location=project_name,create=True)\n",
    "else:\n",
    "    #to get updated information\n",
    "    batch = hyp3.refresh(batch)\n",
    "    #or to wait until completion and get updated information (which will take a fair bit)\n",
    "    batch = hyp3.watch(batch)"
   ]
  },
  {
   "cell_type": "code",
   "execution_count": null,
   "metadata": {},
   "outputs": [],
   "source": []
  }
 ]
}