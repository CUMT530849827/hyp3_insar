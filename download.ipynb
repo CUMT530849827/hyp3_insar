{
 "cells": [
  {
   "cell_type": "markdown",
   "metadata": {},
   "source": [
    "Import libraries"
   ]
  },
  {
   "cell_type": "code",
   "execution_count": 18,
   "metadata": {},
   "outputs": [],
   "source": [
    "import os\n",
    "import sys\n",
    "import glob\n",
    "import zipfile\n",
    "from zipfile import BadZipFile\n",
    "import datetime\n",
    "import pandas as pd\n",
    "import hyp3_sdk as sdk\n",
    "from hyp3_sdk import asf_search\n",
    "from hyp3lib import cutGeotiffs\n",
    "from tqdm.notebook import trange, tqdm\n",
    "# from tqdm.auto import tqdm"
   ]
  },
  {
   "cell_type": "markdown",
   "metadata": {},
   "source": [
    "Enter Hyp3 credentials"
   ]
  },
  {
   "cell_type": "code",
   "execution_count": 2,
   "metadata": {},
   "outputs": [
    {
     "name": "stdin",
     "output_type": "stream",
     "text": [
      "NASA Earthdata Login username:  forrestfwilliams\n",
      "NASA Earthdata Login password:  ····················\n"
     ]
    },
    {
     "name": "stdout",
     "output_type": "stream",
     "text": [
      "Remaining Quota: 2256\n"
     ]
    }
   ],
   "source": [
    "hyp3 = sdk.HyP3(prompt=True)\n",
    "my_info = hyp3.my_info()\n",
    "print(f\"Remaining Quota: {my_info['quota']['remaining']}\")"
   ]
  },
  {
   "cell_type": "markdown",
   "metadata": {},
   "source": [
    "Create download list"
   ]
  },
  {
   "cell_type": "code",
   "execution_count": 6,
   "metadata": {},
   "outputs": [
    {
     "name": "stdout",
     "output_type": "stream",
     "text": [
      "Will create interferograms for 96 SLCs\n"
     ]
    }
   ],
   "source": [
    "# Project name\n",
    "# project_name = 'ifg_a_p81_f1048_20x4'\n",
    "project_name = 'p81f1048_10x2_2'\n",
    "\n",
    "# Set date bounds\n",
    "start_date = datetime.datetime(2017, 12, 31)\n",
    "end_date = datetime.datetime(2021, 12, 31)\n",
    "\n",
    "# Read in \n",
    "df = pd.read_csv('slcs_asc_path81_frame1048.csv',usecols=['Granule Name', 'Acquisition Date'])\n",
    "\n",
    "# Convert and limit by date\n",
    "df['Acquisition Date'] = pd.to_datetime(df['Acquisition Date'], format='%Y-%m-%dT%H:%M:%S')\n",
    "df = df.loc[(df['Acquisition Date']>=start_date) & (df['Acquisition Date']<=end_date)]\n",
    "df = df.sort_values('Acquisition Date')\n",
    "\n",
    "granules = list(df['Granule Name'])\n",
    "print(f'Will create interferograms for {len(granules)} SLCs')"
   ]
  },
  {
   "cell_type": "markdown",
   "metadata": {},
   "source": [
    "Request Ifg generation"
   ]
  },
  {
   "cell_type": "code",
   "execution_count": 9,
   "metadata": {},
   "outputs": [
    {
     "data": {
      "application/vnd.jupyter.widget-view+json": {
       "model_id": "7c5d5a52d4be4c1983a10be58de8216d",
       "version_major": 2,
       "version_minor": 0
      },
      "text/plain": [
       "  0%|          | 0/96 [00:00<?, ?it/s]"
      ]
     },
     "metadata": {},
     "output_type": "display_data"
    },
    {
     "ename": "KeyboardInterrupt",
     "evalue": "",
     "output_type": "error",
     "traceback": [
      "\u001b[0;31m---------------------------------------------------------------------------\u001b[0m",
      "\u001b[0;31mKeyboardInterrupt\u001b[0m                         Traceback (most recent call last)",
      "\u001b[0;32m<ipython-input-9-897348886033>\u001b[0m in \u001b[0;36m<module>\u001b[0;34m\u001b[0m\n\u001b[1;32m      2\u001b[0m \u001b[0mfirst\u001b[0m \u001b[0;34m=\u001b[0m \u001b[0;32mTrue\u001b[0m\u001b[0;34m\u001b[0m\u001b[0;34m\u001b[0m\u001b[0m\n\u001b[1;32m      3\u001b[0m \u001b[0;32mfor\u001b[0m \u001b[0mreference\u001b[0m \u001b[0;32min\u001b[0m \u001b[0mtqdm\u001b[0m\u001b[0;34m(\u001b[0m\u001b[0mgranules\u001b[0m\u001b[0;34m)\u001b[0m\u001b[0;34m:\u001b[0m\u001b[0;34m\u001b[0m\u001b[0;34m\u001b[0m\u001b[0m\n\u001b[0;32m----> 4\u001b[0;31m     \u001b[0mneighbors_metadata\u001b[0m \u001b[0;34m=\u001b[0m \u001b[0masf_search\u001b[0m\u001b[0;34m.\u001b[0m\u001b[0mget_nearest_neighbors\u001b[0m\u001b[0;34m(\u001b[0m\u001b[0mreference\u001b[0m\u001b[0;34m,\u001b[0m \u001b[0mmax_neighbors\u001b[0m\u001b[0;34m=\u001b[0m\u001b[0;36m3\u001b[0m\u001b[0;34m)\u001b[0m\u001b[0;34m\u001b[0m\u001b[0;34m\u001b[0m\u001b[0m\n\u001b[0m\u001b[1;32m      5\u001b[0m     \u001b[0;32mfor\u001b[0m \u001b[0msecondary_metadata\u001b[0m \u001b[0;32min\u001b[0m \u001b[0mneighbors_metadata\u001b[0m\u001b[0;34m:\u001b[0m\u001b[0;34m\u001b[0m\u001b[0;34m\u001b[0m\u001b[0m\n\u001b[1;32m      6\u001b[0m         \u001b[0msecondary\u001b[0m \u001b[0;34m=\u001b[0m \u001b[0msecondary_metadata\u001b[0m\u001b[0;34m[\u001b[0m\u001b[0;34m'granuleName'\u001b[0m\u001b[0;34m]\u001b[0m\u001b[0;34m\u001b[0m\u001b[0;34m\u001b[0m\u001b[0m\n",
      "\u001b[0;32m~/miniconda3/envs/hyp3/lib/python3.9/site-packages/hyp3_sdk/asf_search.py\u001b[0m in \u001b[0;36mget_nearest_neighbors\u001b[0;34m(granule, max_neighbors)\u001b[0m\n\u001b[1;32m     53\u001b[0m         \u001b[0;34m'granule_list'\u001b[0m\u001b[0;34m:\u001b[0m \u001b[0mgranule\u001b[0m\u001b[0;34m,\u001b[0m\u001b[0;34m\u001b[0m\u001b[0;34m\u001b[0m\u001b[0m\n\u001b[1;32m     54\u001b[0m     }\n\u001b[0;32m---> 55\u001b[0;31m     \u001b[0mresponse\u001b[0m \u001b[0;34m=\u001b[0m \u001b[0mrequests\u001b[0m\u001b[0;34m.\u001b[0m\u001b[0mpost\u001b[0m\u001b[0;34m(\u001b[0m\u001b[0m_SEARCH_API\u001b[0m\u001b[0;34m,\u001b[0m \u001b[0mparams\u001b[0m\u001b[0;34m=\u001b[0m\u001b[0mparams\u001b[0m\u001b[0;34m)\u001b[0m\u001b[0;34m\u001b[0m\u001b[0;34m\u001b[0m\u001b[0m\n\u001b[0m\u001b[1;32m     56\u001b[0m     \u001b[0m_raise_for_search_status\u001b[0m\u001b[0;34m(\u001b[0m\u001b[0mresponse\u001b[0m\u001b[0;34m)\u001b[0m\u001b[0;34m\u001b[0m\u001b[0;34m\u001b[0m\u001b[0m\n\u001b[1;32m     57\u001b[0m     \u001b[0mreferences\u001b[0m \u001b[0;34m=\u001b[0m \u001b[0;34m[\u001b[0m\u001b[0mr\u001b[0m \u001b[0;32mfor\u001b[0m \u001b[0mr\u001b[0m \u001b[0;32min\u001b[0m \u001b[0mresponse\u001b[0m\u001b[0;34m.\u001b[0m\u001b[0mjson\u001b[0m\u001b[0;34m(\u001b[0m\u001b[0;34m)\u001b[0m\u001b[0;34m[\u001b[0m\u001b[0;36m0\u001b[0m\u001b[0;34m]\u001b[0m \u001b[0;32mif\u001b[0m \u001b[0;32mnot\u001b[0m \u001b[0mr\u001b[0m\u001b[0;34m[\u001b[0m\u001b[0;34m'processingLevel'\u001b[0m\u001b[0;34m]\u001b[0m\u001b[0;34m.\u001b[0m\u001b[0mstartswith\u001b[0m\u001b[0;34m(\u001b[0m\u001b[0;34m'METADATA_'\u001b[0m\u001b[0;34m)\u001b[0m\u001b[0;34m]\u001b[0m\u001b[0;34m\u001b[0m\u001b[0;34m\u001b[0m\u001b[0m\n",
      "\u001b[0;32m~/miniconda3/envs/hyp3/lib/python3.9/site-packages/requests/api.py\u001b[0m in \u001b[0;36mpost\u001b[0;34m(url, data, json, **kwargs)\u001b[0m\n\u001b[1;32m    117\u001b[0m     \"\"\"\n\u001b[1;32m    118\u001b[0m \u001b[0;34m\u001b[0m\u001b[0m\n\u001b[0;32m--> 119\u001b[0;31m     \u001b[0;32mreturn\u001b[0m \u001b[0mrequest\u001b[0m\u001b[0;34m(\u001b[0m\u001b[0;34m'post'\u001b[0m\u001b[0;34m,\u001b[0m \u001b[0murl\u001b[0m\u001b[0;34m,\u001b[0m \u001b[0mdata\u001b[0m\u001b[0;34m=\u001b[0m\u001b[0mdata\u001b[0m\u001b[0;34m,\u001b[0m \u001b[0mjson\u001b[0m\u001b[0;34m=\u001b[0m\u001b[0mjson\u001b[0m\u001b[0;34m,\u001b[0m \u001b[0;34m**\u001b[0m\u001b[0mkwargs\u001b[0m\u001b[0;34m)\u001b[0m\u001b[0;34m\u001b[0m\u001b[0;34m\u001b[0m\u001b[0m\n\u001b[0m\u001b[1;32m    120\u001b[0m \u001b[0;34m\u001b[0m\u001b[0m\n\u001b[1;32m    121\u001b[0m \u001b[0;34m\u001b[0m\u001b[0m\n",
      "\u001b[0;32m~/miniconda3/envs/hyp3/lib/python3.9/site-packages/requests/api.py\u001b[0m in \u001b[0;36mrequest\u001b[0;34m(method, url, **kwargs)\u001b[0m\n\u001b[1;32m     59\u001b[0m     \u001b[0;31m# cases, and look like a memory leak in others.\u001b[0m\u001b[0;34m\u001b[0m\u001b[0;34m\u001b[0m\u001b[0;34m\u001b[0m\u001b[0m\n\u001b[1;32m     60\u001b[0m     \u001b[0;32mwith\u001b[0m \u001b[0msessions\u001b[0m\u001b[0;34m.\u001b[0m\u001b[0mSession\u001b[0m\u001b[0;34m(\u001b[0m\u001b[0;34m)\u001b[0m \u001b[0;32mas\u001b[0m \u001b[0msession\u001b[0m\u001b[0;34m:\u001b[0m\u001b[0;34m\u001b[0m\u001b[0;34m\u001b[0m\u001b[0m\n\u001b[0;32m---> 61\u001b[0;31m         \u001b[0;32mreturn\u001b[0m \u001b[0msession\u001b[0m\u001b[0;34m.\u001b[0m\u001b[0mrequest\u001b[0m\u001b[0;34m(\u001b[0m\u001b[0mmethod\u001b[0m\u001b[0;34m=\u001b[0m\u001b[0mmethod\u001b[0m\u001b[0;34m,\u001b[0m \u001b[0murl\u001b[0m\u001b[0;34m=\u001b[0m\u001b[0murl\u001b[0m\u001b[0;34m,\u001b[0m \u001b[0;34m**\u001b[0m\u001b[0mkwargs\u001b[0m\u001b[0;34m)\u001b[0m\u001b[0;34m\u001b[0m\u001b[0;34m\u001b[0m\u001b[0m\n\u001b[0m\u001b[1;32m     62\u001b[0m \u001b[0;34m\u001b[0m\u001b[0m\n\u001b[1;32m     63\u001b[0m \u001b[0;34m\u001b[0m\u001b[0m\n",
      "\u001b[0;32m~/miniconda3/envs/hyp3/lib/python3.9/site-packages/requests/sessions.py\u001b[0m in \u001b[0;36mrequest\u001b[0;34m(self, method, url, params, data, headers, cookies, files, auth, timeout, allow_redirects, proxies, hooks, stream, verify, cert, json)\u001b[0m\n\u001b[1;32m    540\u001b[0m         }\n\u001b[1;32m    541\u001b[0m         \u001b[0msend_kwargs\u001b[0m\u001b[0;34m.\u001b[0m\u001b[0mupdate\u001b[0m\u001b[0;34m(\u001b[0m\u001b[0msettings\u001b[0m\u001b[0;34m)\u001b[0m\u001b[0;34m\u001b[0m\u001b[0;34m\u001b[0m\u001b[0m\n\u001b[0;32m--> 542\u001b[0;31m         \u001b[0mresp\u001b[0m \u001b[0;34m=\u001b[0m \u001b[0mself\u001b[0m\u001b[0;34m.\u001b[0m\u001b[0msend\u001b[0m\u001b[0;34m(\u001b[0m\u001b[0mprep\u001b[0m\u001b[0;34m,\u001b[0m \u001b[0;34m**\u001b[0m\u001b[0msend_kwargs\u001b[0m\u001b[0;34m)\u001b[0m\u001b[0;34m\u001b[0m\u001b[0;34m\u001b[0m\u001b[0m\n\u001b[0m\u001b[1;32m    543\u001b[0m \u001b[0;34m\u001b[0m\u001b[0m\n\u001b[1;32m    544\u001b[0m         \u001b[0;32mreturn\u001b[0m \u001b[0mresp\u001b[0m\u001b[0;34m\u001b[0m\u001b[0;34m\u001b[0m\u001b[0m\n",
      "\u001b[0;32m~/miniconda3/envs/hyp3/lib/python3.9/site-packages/requests/sessions.py\u001b[0m in \u001b[0;36msend\u001b[0;34m(self, request, **kwargs)\u001b[0m\n\u001b[1;32m    695\u001b[0m \u001b[0;34m\u001b[0m\u001b[0m\n\u001b[1;32m    696\u001b[0m         \u001b[0;32mif\u001b[0m \u001b[0;32mnot\u001b[0m \u001b[0mstream\u001b[0m\u001b[0;34m:\u001b[0m\u001b[0;34m\u001b[0m\u001b[0;34m\u001b[0m\u001b[0m\n\u001b[0;32m--> 697\u001b[0;31m             \u001b[0mr\u001b[0m\u001b[0;34m.\u001b[0m\u001b[0mcontent\u001b[0m\u001b[0;34m\u001b[0m\u001b[0;34m\u001b[0m\u001b[0m\n\u001b[0m\u001b[1;32m    698\u001b[0m \u001b[0;34m\u001b[0m\u001b[0m\n\u001b[1;32m    699\u001b[0m         \u001b[0;32mreturn\u001b[0m \u001b[0mr\u001b[0m\u001b[0;34m\u001b[0m\u001b[0;34m\u001b[0m\u001b[0m\n",
      "\u001b[0;32m~/miniconda3/envs/hyp3/lib/python3.9/site-packages/requests/models.py\u001b[0m in \u001b[0;36mcontent\u001b[0;34m(self)\u001b[0m\n\u001b[1;32m    829\u001b[0m                 \u001b[0mself\u001b[0m\u001b[0;34m.\u001b[0m\u001b[0m_content\u001b[0m \u001b[0;34m=\u001b[0m \u001b[0;32mNone\u001b[0m\u001b[0;34m\u001b[0m\u001b[0;34m\u001b[0m\u001b[0m\n\u001b[1;32m    830\u001b[0m             \u001b[0;32melse\u001b[0m\u001b[0;34m:\u001b[0m\u001b[0;34m\u001b[0m\u001b[0;34m\u001b[0m\u001b[0m\n\u001b[0;32m--> 831\u001b[0;31m                 \u001b[0mself\u001b[0m\u001b[0;34m.\u001b[0m\u001b[0m_content\u001b[0m \u001b[0;34m=\u001b[0m \u001b[0;34mb''\u001b[0m\u001b[0;34m.\u001b[0m\u001b[0mjoin\u001b[0m\u001b[0;34m(\u001b[0m\u001b[0mself\u001b[0m\u001b[0;34m.\u001b[0m\u001b[0miter_content\u001b[0m\u001b[0;34m(\u001b[0m\u001b[0mCONTENT_CHUNK_SIZE\u001b[0m\u001b[0;34m)\u001b[0m\u001b[0;34m)\u001b[0m \u001b[0;32mor\u001b[0m \u001b[0;34mb''\u001b[0m\u001b[0;34m\u001b[0m\u001b[0;34m\u001b[0m\u001b[0m\n\u001b[0m\u001b[1;32m    832\u001b[0m \u001b[0;34m\u001b[0m\u001b[0m\n\u001b[1;32m    833\u001b[0m         \u001b[0mself\u001b[0m\u001b[0;34m.\u001b[0m\u001b[0m_content_consumed\u001b[0m \u001b[0;34m=\u001b[0m \u001b[0;32mTrue\u001b[0m\u001b[0;34m\u001b[0m\u001b[0;34m\u001b[0m\u001b[0m\n",
      "\u001b[0;32m~/miniconda3/envs/hyp3/lib/python3.9/site-packages/requests/models.py\u001b[0m in \u001b[0;36mgenerate\u001b[0;34m()\u001b[0m\n\u001b[1;32m    751\u001b[0m             \u001b[0;32mif\u001b[0m \u001b[0mhasattr\u001b[0m\u001b[0;34m(\u001b[0m\u001b[0mself\u001b[0m\u001b[0;34m.\u001b[0m\u001b[0mraw\u001b[0m\u001b[0;34m,\u001b[0m \u001b[0;34m'stream'\u001b[0m\u001b[0;34m)\u001b[0m\u001b[0;34m:\u001b[0m\u001b[0;34m\u001b[0m\u001b[0;34m\u001b[0m\u001b[0m\n\u001b[1;32m    752\u001b[0m                 \u001b[0;32mtry\u001b[0m\u001b[0;34m:\u001b[0m\u001b[0;34m\u001b[0m\u001b[0;34m\u001b[0m\u001b[0m\n\u001b[0;32m--> 753\u001b[0;31m                     \u001b[0;32mfor\u001b[0m \u001b[0mchunk\u001b[0m \u001b[0;32min\u001b[0m \u001b[0mself\u001b[0m\u001b[0;34m.\u001b[0m\u001b[0mraw\u001b[0m\u001b[0;34m.\u001b[0m\u001b[0mstream\u001b[0m\u001b[0;34m(\u001b[0m\u001b[0mchunk_size\u001b[0m\u001b[0;34m,\u001b[0m \u001b[0mdecode_content\u001b[0m\u001b[0;34m=\u001b[0m\u001b[0;32mTrue\u001b[0m\u001b[0;34m)\u001b[0m\u001b[0;34m:\u001b[0m\u001b[0;34m\u001b[0m\u001b[0;34m\u001b[0m\u001b[0m\n\u001b[0m\u001b[1;32m    754\u001b[0m                         \u001b[0;32myield\u001b[0m \u001b[0mchunk\u001b[0m\u001b[0;34m\u001b[0m\u001b[0;34m\u001b[0m\u001b[0m\n\u001b[1;32m    755\u001b[0m                 \u001b[0;32mexcept\u001b[0m \u001b[0mProtocolError\u001b[0m \u001b[0;32mas\u001b[0m \u001b[0me\u001b[0m\u001b[0;34m:\u001b[0m\u001b[0;34m\u001b[0m\u001b[0;34m\u001b[0m\u001b[0m\n",
      "\u001b[0;32m~/miniconda3/envs/hyp3/lib/python3.9/site-packages/urllib3/response.py\u001b[0m in \u001b[0;36mstream\u001b[0;34m(self, amt, decode_content)\u001b[0m\n\u001b[1;32m    570\u001b[0m         \"\"\"\n\u001b[1;32m    571\u001b[0m         \u001b[0;32mif\u001b[0m \u001b[0mself\u001b[0m\u001b[0;34m.\u001b[0m\u001b[0mchunked\u001b[0m \u001b[0;32mand\u001b[0m \u001b[0mself\u001b[0m\u001b[0;34m.\u001b[0m\u001b[0msupports_chunked_reads\u001b[0m\u001b[0;34m(\u001b[0m\u001b[0;34m)\u001b[0m\u001b[0;34m:\u001b[0m\u001b[0;34m\u001b[0m\u001b[0;34m\u001b[0m\u001b[0m\n\u001b[0;32m--> 572\u001b[0;31m             \u001b[0;32mfor\u001b[0m \u001b[0mline\u001b[0m \u001b[0;32min\u001b[0m \u001b[0mself\u001b[0m\u001b[0;34m.\u001b[0m\u001b[0mread_chunked\u001b[0m\u001b[0;34m(\u001b[0m\u001b[0mamt\u001b[0m\u001b[0;34m,\u001b[0m \u001b[0mdecode_content\u001b[0m\u001b[0;34m=\u001b[0m\u001b[0mdecode_content\u001b[0m\u001b[0;34m)\u001b[0m\u001b[0;34m:\u001b[0m\u001b[0;34m\u001b[0m\u001b[0;34m\u001b[0m\u001b[0m\n\u001b[0m\u001b[1;32m    573\u001b[0m                 \u001b[0;32myield\u001b[0m \u001b[0mline\u001b[0m\u001b[0;34m\u001b[0m\u001b[0;34m\u001b[0m\u001b[0m\n\u001b[1;32m    574\u001b[0m         \u001b[0;32melse\u001b[0m\u001b[0;34m:\u001b[0m\u001b[0;34m\u001b[0m\u001b[0;34m\u001b[0m\u001b[0m\n",
      "\u001b[0;32m~/miniconda3/envs/hyp3/lib/python3.9/site-packages/urllib3/response.py\u001b[0m in \u001b[0;36mread_chunked\u001b[0;34m(self, amt, decode_content)\u001b[0m\n\u001b[1;32m    762\u001b[0m \u001b[0;34m\u001b[0m\u001b[0m\n\u001b[1;32m    763\u001b[0m             \u001b[0;32mwhile\u001b[0m \u001b[0;32mTrue\u001b[0m\u001b[0;34m:\u001b[0m\u001b[0;34m\u001b[0m\u001b[0;34m\u001b[0m\u001b[0m\n\u001b[0;32m--> 764\u001b[0;31m                 \u001b[0mself\u001b[0m\u001b[0;34m.\u001b[0m\u001b[0m_update_chunk_length\u001b[0m\u001b[0;34m(\u001b[0m\u001b[0;34m)\u001b[0m\u001b[0;34m\u001b[0m\u001b[0;34m\u001b[0m\u001b[0m\n\u001b[0m\u001b[1;32m    765\u001b[0m                 \u001b[0;32mif\u001b[0m \u001b[0mself\u001b[0m\u001b[0;34m.\u001b[0m\u001b[0mchunk_left\u001b[0m \u001b[0;34m==\u001b[0m \u001b[0;36m0\u001b[0m\u001b[0;34m:\u001b[0m\u001b[0;34m\u001b[0m\u001b[0;34m\u001b[0m\u001b[0m\n\u001b[1;32m    766\u001b[0m                     \u001b[0;32mbreak\u001b[0m\u001b[0;34m\u001b[0m\u001b[0;34m\u001b[0m\u001b[0m\n",
      "\u001b[0;32m~/miniconda3/envs/hyp3/lib/python3.9/site-packages/urllib3/response.py\u001b[0m in \u001b[0;36m_update_chunk_length\u001b[0;34m(self)\u001b[0m\n\u001b[1;32m    692\u001b[0m         \u001b[0;32mif\u001b[0m \u001b[0mself\u001b[0m\u001b[0;34m.\u001b[0m\u001b[0mchunk_left\u001b[0m \u001b[0;32mis\u001b[0m \u001b[0;32mnot\u001b[0m \u001b[0;32mNone\u001b[0m\u001b[0;34m:\u001b[0m\u001b[0;34m\u001b[0m\u001b[0;34m\u001b[0m\u001b[0m\n\u001b[1;32m    693\u001b[0m             \u001b[0;32mreturn\u001b[0m\u001b[0;34m\u001b[0m\u001b[0;34m\u001b[0m\u001b[0m\n\u001b[0;32m--> 694\u001b[0;31m         \u001b[0mline\u001b[0m \u001b[0;34m=\u001b[0m \u001b[0mself\u001b[0m\u001b[0;34m.\u001b[0m\u001b[0m_fp\u001b[0m\u001b[0;34m.\u001b[0m\u001b[0mfp\u001b[0m\u001b[0;34m.\u001b[0m\u001b[0mreadline\u001b[0m\u001b[0;34m(\u001b[0m\u001b[0;34m)\u001b[0m\u001b[0;34m\u001b[0m\u001b[0;34m\u001b[0m\u001b[0m\n\u001b[0m\u001b[1;32m    695\u001b[0m         \u001b[0mline\u001b[0m \u001b[0;34m=\u001b[0m \u001b[0mline\u001b[0m\u001b[0;34m.\u001b[0m\u001b[0msplit\u001b[0m\u001b[0;34m(\u001b[0m\u001b[0;34mb\";\"\u001b[0m\u001b[0;34m,\u001b[0m \u001b[0;36m1\u001b[0m\u001b[0;34m)\u001b[0m\u001b[0;34m[\u001b[0m\u001b[0;36m0\u001b[0m\u001b[0;34m]\u001b[0m\u001b[0;34m\u001b[0m\u001b[0;34m\u001b[0m\u001b[0m\n\u001b[1;32m    696\u001b[0m         \u001b[0;32mtry\u001b[0m\u001b[0;34m:\u001b[0m\u001b[0;34m\u001b[0m\u001b[0;34m\u001b[0m\u001b[0m\n",
      "\u001b[0;32m~/miniconda3/envs/hyp3/lib/python3.9/socket.py\u001b[0m in \u001b[0;36mreadinto\u001b[0;34m(self, b)\u001b[0m\n\u001b[1;32m    702\u001b[0m         \u001b[0;32mwhile\u001b[0m \u001b[0;32mTrue\u001b[0m\u001b[0;34m:\u001b[0m\u001b[0;34m\u001b[0m\u001b[0;34m\u001b[0m\u001b[0m\n\u001b[1;32m    703\u001b[0m             \u001b[0;32mtry\u001b[0m\u001b[0;34m:\u001b[0m\u001b[0;34m\u001b[0m\u001b[0;34m\u001b[0m\u001b[0m\n\u001b[0;32m--> 704\u001b[0;31m                 \u001b[0;32mreturn\u001b[0m \u001b[0mself\u001b[0m\u001b[0;34m.\u001b[0m\u001b[0m_sock\u001b[0m\u001b[0;34m.\u001b[0m\u001b[0mrecv_into\u001b[0m\u001b[0;34m(\u001b[0m\u001b[0mb\u001b[0m\u001b[0;34m)\u001b[0m\u001b[0;34m\u001b[0m\u001b[0;34m\u001b[0m\u001b[0m\n\u001b[0m\u001b[1;32m    705\u001b[0m             \u001b[0;32mexcept\u001b[0m \u001b[0mtimeout\u001b[0m\u001b[0;34m:\u001b[0m\u001b[0;34m\u001b[0m\u001b[0;34m\u001b[0m\u001b[0m\n\u001b[1;32m    706\u001b[0m                 \u001b[0mself\u001b[0m\u001b[0;34m.\u001b[0m\u001b[0m_timeout_occurred\u001b[0m \u001b[0;34m=\u001b[0m \u001b[0;32mTrue\u001b[0m\u001b[0;34m\u001b[0m\u001b[0;34m\u001b[0m\u001b[0m\n",
      "\u001b[0;32m~/miniconda3/envs/hyp3/lib/python3.9/ssl.py\u001b[0m in \u001b[0;36mrecv_into\u001b[0;34m(self, buffer, nbytes, flags)\u001b[0m\n\u001b[1;32m   1239\u001b[0m                   \u001b[0;34m\"non-zero flags not allowed in calls to recv_into() on %s\"\u001b[0m \u001b[0;34m%\u001b[0m\u001b[0;34m\u001b[0m\u001b[0;34m\u001b[0m\u001b[0m\n\u001b[1;32m   1240\u001b[0m                   self.__class__)\n\u001b[0;32m-> 1241\u001b[0;31m             \u001b[0;32mreturn\u001b[0m \u001b[0mself\u001b[0m\u001b[0;34m.\u001b[0m\u001b[0mread\u001b[0m\u001b[0;34m(\u001b[0m\u001b[0mnbytes\u001b[0m\u001b[0;34m,\u001b[0m \u001b[0mbuffer\u001b[0m\u001b[0;34m)\u001b[0m\u001b[0;34m\u001b[0m\u001b[0;34m\u001b[0m\u001b[0m\n\u001b[0m\u001b[1;32m   1242\u001b[0m         \u001b[0;32melse\u001b[0m\u001b[0;34m:\u001b[0m\u001b[0;34m\u001b[0m\u001b[0;34m\u001b[0m\u001b[0m\n\u001b[1;32m   1243\u001b[0m             \u001b[0;32mreturn\u001b[0m \u001b[0msuper\u001b[0m\u001b[0;34m(\u001b[0m\u001b[0;34m)\u001b[0m\u001b[0;34m.\u001b[0m\u001b[0mrecv_into\u001b[0m\u001b[0;34m(\u001b[0m\u001b[0mbuffer\u001b[0m\u001b[0;34m,\u001b[0m \u001b[0mnbytes\u001b[0m\u001b[0;34m,\u001b[0m \u001b[0mflags\u001b[0m\u001b[0;34m)\u001b[0m\u001b[0;34m\u001b[0m\u001b[0;34m\u001b[0m\u001b[0m\n",
      "\u001b[0;32m~/miniconda3/envs/hyp3/lib/python3.9/ssl.py\u001b[0m in \u001b[0;36mread\u001b[0;34m(self, len, buffer)\u001b[0m\n\u001b[1;32m   1097\u001b[0m         \u001b[0;32mtry\u001b[0m\u001b[0;34m:\u001b[0m\u001b[0;34m\u001b[0m\u001b[0;34m\u001b[0m\u001b[0m\n\u001b[1;32m   1098\u001b[0m             \u001b[0;32mif\u001b[0m \u001b[0mbuffer\u001b[0m \u001b[0;32mis\u001b[0m \u001b[0;32mnot\u001b[0m \u001b[0;32mNone\u001b[0m\u001b[0;34m:\u001b[0m\u001b[0;34m\u001b[0m\u001b[0;34m\u001b[0m\u001b[0m\n\u001b[0;32m-> 1099\u001b[0;31m                 \u001b[0;32mreturn\u001b[0m \u001b[0mself\u001b[0m\u001b[0;34m.\u001b[0m\u001b[0m_sslobj\u001b[0m\u001b[0;34m.\u001b[0m\u001b[0mread\u001b[0m\u001b[0;34m(\u001b[0m\u001b[0mlen\u001b[0m\u001b[0;34m,\u001b[0m \u001b[0mbuffer\u001b[0m\u001b[0;34m)\u001b[0m\u001b[0;34m\u001b[0m\u001b[0;34m\u001b[0m\u001b[0m\n\u001b[0m\u001b[1;32m   1100\u001b[0m             \u001b[0;32melse\u001b[0m\u001b[0;34m:\u001b[0m\u001b[0;34m\u001b[0m\u001b[0;34m\u001b[0m\u001b[0m\n\u001b[1;32m   1101\u001b[0m                 \u001b[0;32mreturn\u001b[0m \u001b[0mself\u001b[0m\u001b[0;34m.\u001b[0m\u001b[0m_sslobj\u001b[0m\u001b[0;34m.\u001b[0m\u001b[0mread\u001b[0m\u001b[0;34m(\u001b[0m\u001b[0mlen\u001b[0m\u001b[0;34m)\u001b[0m\u001b[0;34m\u001b[0m\u001b[0;34m\u001b[0m\u001b[0m\n",
      "\u001b[0;31mKeyboardInterrupt\u001b[0m: "
     ]
    }
   ],
   "source": [
    "insar_jobs = sdk.Batch()\n",
    "first = True\n",
    "for reference in tqdm(granules):\n",
    "    neighbors_metadata = asf_search.get_nearest_neighbors(reference, max_neighbors=3)\n",
    "    for secondary_metadata in neighbors_metadata:\n",
    "        secondary = secondary_metadata['granuleName']\n",
    "        if first:\n",
    "            insar_jobs += hyp3.submit_insar_job(reference, secondary, name=project_name, include_inc_map=True,\n",
    "                                                include_dem=True, looks='10x2', include_wrapped_phase=False)\n",
    "            first = False\n",
    "        else:\n",
    "            insar_jobs += hyp3.submit_insar_job(reference, secondary, name=project_name, looks='10x2', include_wrapped_phase=False)"
   ]
  },
  {
   "cell_type": "markdown",
   "metadata": {},
   "source": [
    "Check progress and download"
   ]
  },
  {
   "cell_type": "code",
   "execution_count": 11,
   "metadata": {
    "tags": []
   },
   "outputs": [],
   "source": [
    "# batch = hyp3.find_jobs(name=project_name)\n",
    "\n",
    "# if batch.complete():\n",
    "#     #filter to only succeeded jobs\n",
    "#     succeeded_jobs = batch.filter_jobs(succeeded=True, running=False, failed=False)\n",
    "\n",
    "#     #download files if not downloaded already\n",
    "#     for job in succeeded_jobs.jobs:\n",
    "#         filename = job.to_dict()['files'][0]['filename']\n",
    "#         location = os.path.join(project_name,filename)\n",
    "#         if not os.path.exists(location):\n",
    "#             job.download_files(location=project_name,create=True)\n",
    "        \n",
    "#     # #download files if not downloaded already\n",
    "#     # file_list = succeeded_jobs.download_files(location=project_name,create=True)\n",
    "# else:\n",
    "#     #to get updated information\n",
    "#     batch = hyp3.refresh(batch)\n",
    "#     #or to wait until completion and get updated information (which will take a fair bit)\n",
    "#     batch = hyp3.watch(batch)"
   ]
  },
  {
   "cell_type": "markdown",
   "metadata": {},
   "source": [
    "Unzip files and clip to same extent"
   ]
  },
  {
   "cell_type": "code",
   "execution_count": 16,
   "metadata": {},
   "outputs": [],
   "source": [
    "os.chdir('/mnt/i/hyp3_downloads')"
   ]
  },
  {
   "cell_type": "code",
   "execution_count": 17,
   "metadata": {},
   "outputs": [
    {
     "data": {
      "application/vnd.jupyter.widget-view+json": {
       "model_id": "c5f77101e8d34567b6bb3686803c1a58",
       "version_major": 2,
       "version_minor": 0
      },
      "text/plain": [
       "S1BB_20210218T070641_20210326T070641_VVP036_INT40_G_ueF_10FF.zip:   0%|          | 0/377608017 [00:00<?, ?it/s…"
      ]
     },
     "metadata": {},
     "output_type": "display_data"
    },
    {
     "data": {
      "application/vnd.jupyter.widget-view+json": {
       "model_id": "49c76f5103024080a9629679d32fa21a",
       "version_major": 2,
       "version_minor": 0
      },
      "text/plain": [
       "S1BB_20210302T070641_20210326T070641_VVP024_INT40_G_ueF_79BB.zip:   0%|          | 0/377145576 [00:00<?, ?it/s…"
      ]
     },
     "metadata": {},
     "output_type": "display_data"
    },
    {
     "data": {
      "application/vnd.jupyter.widget-view+json": {
       "model_id": "4568042a7e664991a22f4c3c708133f5",
       "version_major": 2,
       "version_minor": 0
      },
      "text/plain": [
       "S1BB_20210314T070641_20210326T070641_VVP012_INT40_G_ueF_3BF5.zip:   0%|          | 0/371860434 [00:00<?, ?it/s…"
      ]
     },
     "metadata": {},
     "output_type": "display_data"
    },
    {
     "data": {
      "application/vnd.jupyter.widget-view+json": {
       "model_id": "cbcd73c25e774a499db9a0d1d401412b",
       "version_major": 2,
       "version_minor": 0
      },
      "text/plain": [
       "S1BB_20210206T070642_20210314T070641_VVP036_INT40_G_ueF_88DA.zip:   0%|          | 0/379786584 [00:00<?, ?it/s…"
      ]
     },
     "metadata": {},
     "output_type": "display_data"
    },
    {
     "data": {
      "application/vnd.jupyter.widget-view+json": {
       "model_id": "974ab262eebd4469aa4293454b90e0e2",
       "version_major": 2,
       "version_minor": 0
      },
      "text/plain": [
       "S1BB_20210218T070641_20210314T070641_VVP024_INT40_G_ueF_E3E7.zip:   0%|          | 0/382440502 [00:00<?, ?it/s…"
      ]
     },
     "metadata": {},
     "output_type": "display_data"
    },
    {
     "data": {
      "application/vnd.jupyter.widget-view+json": {
       "model_id": "a90828f40d3549e7b34a87cd1f14c005",
       "version_major": 2,
       "version_minor": 0
      },
      "text/plain": [
       "S1BB_20210302T070641_20210314T070641_VVP012_INT40_G_ueF_3140.zip:   0%|          | 0/381784476 [00:00<?, ?it/s…"
      ]
     },
     "metadata": {},
     "output_type": "display_data"
    },
    {
     "data": {
      "application/vnd.jupyter.widget-view+json": {
       "model_id": "eb0bda2e65e449889529f4014c120cae",
       "version_major": 2,
       "version_minor": 0
      },
      "text/plain": [
       "S1BB_20210125T070642_20210302T070641_VVP036_INT40_G_ueF_E1ED.zip:   0%|          | 0/378090250 [00:00<?, ?it/s…"
      ]
     },
     "metadata": {},
     "output_type": "display_data"
    },
    {
     "data": {
      "application/vnd.jupyter.widget-view+json": {
       "model_id": "45bce9b4f5044e4cb41adc7d832f6568",
       "version_major": 2,
       "version_minor": 0
      },
      "text/plain": [
       "S1BB_20210206T070642_20210302T070641_VVP024_INT40_G_ueF_892B.zip:   0%|          | 0/380775740 [00:00<?, ?it/s…"
      ]
     },
     "metadata": {},
     "output_type": "display_data"
    },
    {
     "data": {
      "application/vnd.jupyter.widget-view+json": {
       "model_id": "3c250c14dc3240fbae2a29a0094a7286",
       "version_major": 2,
       "version_minor": 0
      },
      "text/plain": [
       "S1BB_20210218T070641_20210302T070641_VVP012_INT40_G_ueF_0456.zip:   0%|          | 0/380555508 [00:00<?, ?it/s…"
      ]
     },
     "metadata": {},
     "output_type": "display_data"
    },
    {
     "data": {
      "application/vnd.jupyter.widget-view+json": {
       "model_id": "36116ce512cc4ec2a933c32a8dedd4bf",
       "version_major": 2,
       "version_minor": 0
      },
      "text/plain": [
       "S1BB_20210125T070642_20210218T070641_VVP024_INT40_G_ueF_F9A2.zip:   0%|          | 0/381326815 [00:00<?, ?it/s…"
      ]
     },
     "metadata": {},
     "output_type": "display_data"
    },
    {
     "data": {
      "application/vnd.jupyter.widget-view+json": {
       "model_id": "87202e25fcd84f4190b9e81b302dd1f4",
       "version_major": 2,
       "version_minor": 0
      },
      "text/plain": [
       "S1BB_20210113T070643_20210218T070641_VVP036_INT40_G_ueF_DAF1.zip:   0%|          | 0/383358198 [00:00<?, ?it/s…"
      ]
     },
     "metadata": {},
     "output_type": "display_data"
    },
    {
     "data": {
      "application/vnd.jupyter.widget-view+json": {
       "model_id": "1bf94e034b414eb7af38c7d644bf7fa0",
       "version_major": 2,
       "version_minor": 0
      },
      "text/plain": [
       "S1BB_20210206T070642_20210218T070641_VVP012_INT40_G_ueF_B1C9.zip:   0%|          | 0/381800019 [00:00<?, ?it/s…"
      ]
     },
     "metadata": {},
     "output_type": "display_data"
    },
    {
     "data": {
      "application/vnd.jupyter.widget-view+json": {
       "model_id": "b6ca25858db046da9fea6dea739b38f6",
       "version_major": 2,
       "version_minor": 0
      },
      "text/plain": [
       "S1BB_20210101T070643_20210206T070642_VVP036_INT40_G_ueF_0EC9.zip:   0%|          | 0/375021101 [00:00<?, ?it/s…"
      ]
     },
     "metadata": {},
     "output_type": "display_data"
    },
    {
     "data": {
      "application/vnd.jupyter.widget-view+json": {
       "model_id": "323a83ddc5604795ab4fc7438a7dac17",
       "version_major": 2,
       "version_minor": 0
      },
      "text/plain": [
       "S1BB_20210113T070643_20210206T070642_VVP024_INT40_G_ueF_ACC6.zip:   0%|          | 0/382447302 [00:00<?, ?it/s…"
      ]
     },
     "metadata": {},
     "output_type": "display_data"
    },
    {
     "data": {
      "application/vnd.jupyter.widget-view+json": {
       "model_id": "5e3db2b39e9d4ec8ac593fa614b5686b",
       "version_major": 2,
       "version_minor": 0
      },
      "text/plain": [
       "S1BB_20210125T070642_20210206T070642_VVP012_INT40_G_ueF_BF84.zip:   0%|          | 0/380156394 [00:00<?, ?it/s…"
      ]
     },
     "metadata": {},
     "output_type": "display_data"
    },
    {
     "data": {
      "application/vnd.jupyter.widget-view+json": {
       "model_id": "3ed763d5cd6a492a85b61b55c730d85a",
       "version_major": 2,
       "version_minor": 0
      },
      "text/plain": [
       "S1BB_20201220T070644_20210125T070642_VVP036_INT40_G_ueF_C5DC.zip:   0%|          | 0/374501423 [00:00<?, ?it/s…"
      ]
     },
     "metadata": {},
     "output_type": "display_data"
    },
    {
     "data": {
      "application/vnd.jupyter.widget-view+json": {
       "model_id": "aa84e3f5bd7247f3ba90707e8ace6ef2",
       "version_major": 2,
       "version_minor": 0
      },
      "text/plain": [
       "S1BB_20210113T070643_20210125T070642_VVP012_INT40_G_ueF_2081.zip:   0%|          | 0/385306655 [00:00<?, ?it/s…"
      ]
     },
     "metadata": {},
     "output_type": "display_data"
    },
    {
     "data": {
      "application/vnd.jupyter.widget-view+json": {
       "model_id": "e1400369f52d4298b62dcfe8d9f23bc9",
       "version_major": 2,
       "version_minor": 0
      },
      "text/plain": [
       "S1BB_20210101T070643_20210125T070642_VVP024_INT40_G_ueF_19EC.zip:   0%|          | 0/374915789 [00:00<?, ?it/s…"
      ]
     },
     "metadata": {},
     "output_type": "display_data"
    },
    {
     "data": {
      "application/vnd.jupyter.widget-view+json": {
       "model_id": "ed403a7a0a314e7c8dfae55c33d6a8f4",
       "version_major": 2,
       "version_minor": 0
      },
      "text/plain": [
       "S1BB_20201126T070645_20210113T070643_VVP048_INT40_G_ueF_1965.zip:   0%|          | 0/375222473 [00:00<?, ?it/s…"
      ]
     },
     "metadata": {},
     "output_type": "display_data"
    },
    {
     "data": {
      "application/vnd.jupyter.widget-view+json": {
       "model_id": "68b4024e470b4d8795cd871dbb939800",
       "version_major": 2,
       "version_minor": 0
      },
      "text/plain": [
       "S1BB_20210101T070643_20210113T070643_VVP012_INT40_G_ueF_B7EA.zip:   0%|          | 0/376692989 [00:00<?, ?it/s…"
      ]
     },
     "metadata": {},
     "output_type": "display_data"
    },
    {
     "data": {
      "application/vnd.jupyter.widget-view+json": {
       "model_id": "6a781ff23b6f453384a6b3d82d3a3558",
       "version_major": 2,
       "version_minor": 0
      },
      "text/plain": [
       "S1BB_20201220T070644_20210113T070643_VVP024_INT40_G_ueF_DEF3.zip:   0%|          | 0/373947324 [00:00<?, ?it/s…"
      ]
     },
     "metadata": {},
     "output_type": "display_data"
    },
    {
     "data": {
      "application/vnd.jupyter.widget-view+json": {
       "model_id": "6e4948f134764448b89e41400cc2af2c",
       "version_major": 2,
       "version_minor": 0
      },
      "text/plain": [
       "S1BB_20201126T070645_20210101T070643_VVP036_INT40_G_ueF_CB83.zip:   0%|          | 0/369703540 [00:00<?, ?it/s…"
      ]
     },
     "metadata": {},
     "output_type": "display_data"
    },
    {
     "data": {
      "application/vnd.jupyter.widget-view+json": {
       "model_id": "72e2e8d97dc74ae19ab56c18b22041a7",
       "version_major": 2,
       "version_minor": 0
      },
      "text/plain": [
       "S1BB_20201114T070645_20210101T070643_VVP048_INT40_G_ueF_675B.zip:   0%|          | 0/384195982 [00:00<?, ?it/s…"
      ]
     },
     "metadata": {},
     "output_type": "display_data"
    },
    {
     "data": {
      "application/vnd.jupyter.widget-view+json": {
       "model_id": "6c9b19b86bcf4f7c851e3524ca79673e",
       "version_major": 2,
       "version_minor": 0
      },
      "text/plain": [
       "S1BB_20201220T070644_20210101T070643_VVP012_INT40_G_ueF_9CC2.zip:   0%|          | 0/376082430 [00:00<?, ?it/s…"
      ]
     },
     "metadata": {},
     "output_type": "display_data"
    },
    {
     "data": {
      "application/vnd.jupyter.widget-view+json": {
       "model_id": "2486276d94854c0bb0943fb280a8b7f7",
       "version_major": 2,
       "version_minor": 0
      },
      "text/plain": [
       "S1BB_20201102T070645_20201220T070644_VVP048_INT40_G_ueF_7CDF.zip:   0%|          | 0/375408949 [00:00<?, ?it/s…"
      ]
     },
     "metadata": {},
     "output_type": "display_data"
    },
    {
     "data": {
      "application/vnd.jupyter.widget-view+json": {
       "model_id": "49f0138827c1453e94463e05123c88ad",
       "version_major": 2,
       "version_minor": 0
      },
      "text/plain": [
       "S1BB_20201114T070645_20201220T070644_VVP036_INT40_G_ueF_3E64.zip:   0%|          | 0/384793473 [00:00<?, ?it/s…"
      ]
     },
     "metadata": {},
     "output_type": "display_data"
    },
    {
     "data": {
      "application/vnd.jupyter.widget-view+json": {
       "model_id": "36a14475dc05422c85a719cedeecbb8d",
       "version_major": 2,
       "version_minor": 0
      },
      "text/plain": [
       "S1BB_20201126T070645_20201220T070644_VVP024_INT40_G_ueF_90CC.zip:   0%|          | 0/372579050 [00:00<?, ?it/s…"
      ]
     },
     "metadata": {},
     "output_type": "display_data"
    },
    {
     "data": {
      "application/vnd.jupyter.widget-view+json": {
       "model_id": "ae094741a18b48a39bd37790cbe0365d",
       "version_major": 2,
       "version_minor": 0
      },
      "text/plain": [
       "S1BB_20201021T070645_20201126T070645_VVP036_INT40_G_ueF_19F3.zip:   0%|          | 0/369180805 [00:00<?, ?it/s…"
      ]
     },
     "metadata": {},
     "output_type": "display_data"
    },
    {
     "data": {
      "application/vnd.jupyter.widget-view+json": {
       "model_id": "19be6e6eed45405d9feb1fae6da8ce1f",
       "version_major": 2,
       "version_minor": 0
      },
      "text/plain": [
       "S1BB_20201114T070645_20201126T070645_VVP012_INT40_G_ueF_694A.zip:   0%|          | 0/383349536 [00:00<?, ?it/s…"
      ]
     },
     "metadata": {},
     "output_type": "display_data"
    },
    {
     "data": {
      "application/vnd.jupyter.widget-view+json": {
       "model_id": "99be9dab1e1b45c5a2d6721fb004d455",
       "version_major": 2,
       "version_minor": 0
      },
      "text/plain": [
       "S1BB_20201102T070645_20201126T070645_VVP024_INT40_G_ueF_F237.zip:   0%|          | 0/375206593 [00:00<?, ?it/s…"
      ]
     },
     "metadata": {},
     "output_type": "display_data"
    },
    {
     "data": {
      "application/vnd.jupyter.widget-view+json": {
       "model_id": "25a47802116849d18cedc53d7ff6db1e",
       "version_major": 2,
       "version_minor": 0
      },
      "text/plain": [
       "S1BB_20201021T070645_20201114T070645_VVP024_INT40_G_ueF_A9F4.zip:   0%|          | 0/374584355 [00:00<?, ?it/s…"
      ]
     },
     "metadata": {},
     "output_type": "display_data"
    },
    {
     "data": {
      "application/vnd.jupyter.widget-view+json": {
       "model_id": "2314feae80a345a2ba0c23bb956af64a",
       "version_major": 2,
       "version_minor": 0
      },
      "text/plain": [
       "S1BB_20201009T070645_20201114T070645_VVP036_INT40_G_ueF_C715.zip:   0%|          | 0/384103996 [00:00<?, ?it/s…"
      ]
     },
     "metadata": {},
     "output_type": "display_data"
    },
    {
     "data": {
      "application/vnd.jupyter.widget-view+json": {
       "model_id": "c6716ac7d2d147708cc4bd5d244d455d",
       "version_major": 2,
       "version_minor": 0
      },
      "text/plain": [
       "S1BB_20201102T070645_20201114T070645_VVP012_INT40_G_ueF_FA2A.zip:   0%|          | 0/375523100 [00:00<?, ?it/s…"
      ]
     },
     "metadata": {},
     "output_type": "display_data"
    },
    {
     "data": {
      "application/vnd.jupyter.widget-view+json": {
       "model_id": "1a332a7b7a354f3d9dd2c8a1752fbfd6",
       "version_major": 2,
       "version_minor": 0
      },
      "text/plain": [
       "S1BB_20200927T070645_20201102T070645_VVP036_INT40_G_ueF_C7E0.zip:   0%|          | 0/380625395 [00:00<?, ?it/s…"
      ]
     },
     "metadata": {},
     "output_type": "display_data"
    },
    {
     "data": {
      "application/vnd.jupyter.widget-view+json": {
       "model_id": "c70eabcd99f04ef086580650286d7d68",
       "version_major": 2,
       "version_minor": 0
      },
      "text/plain": [
       "S1BB_20201021T070645_20201102T070645_VVP012_INT40_G_ueF_1286.zip:   0%|          | 0/371297553 [00:00<?, ?it/s…"
      ]
     },
     "metadata": {},
     "output_type": "display_data"
    },
    {
     "data": {
      "application/vnd.jupyter.widget-view+json": {
       "model_id": "8395ca932cb5401abc96d5dd50887cfa",
       "version_major": 2,
       "version_minor": 0
      },
      "text/plain": [
       "S1BB_20201009T070645_20201102T070645_VVP024_INT40_G_ueF_AFC4.zip:   0%|          | 0/381552989 [00:00<?, ?it/s…"
      ]
     },
     "metadata": {},
     "output_type": "display_data"
    },
    {
     "data": {
      "application/vnd.jupyter.widget-view+json": {
       "model_id": "aa7a750744fc47f9bc80c6617ad81b6d",
       "version_major": 2,
       "version_minor": 0
      },
      "text/plain": [
       "S1BB_20200915T070645_20201021T070645_VVP036_INT40_G_ueF_94A1.zip:   0%|          | 0/383005235 [00:00<?, ?it/s…"
      ]
     },
     "metadata": {},
     "output_type": "display_data"
    },
    {
     "data": {
      "application/vnd.jupyter.widget-view+json": {
       "model_id": "4858ba01ba05483d9bda80221b4057ed",
       "version_major": 2,
       "version_minor": 0
      },
      "text/plain": [
       "S1BB_20201009T070645_20201021T070645_VVP012_INT40_G_ueF_A249.zip:   0%|          | 0/384935406 [00:00<?, ?it/s…"
      ]
     },
     "metadata": {},
     "output_type": "display_data"
    },
    {
     "data": {
      "application/vnd.jupyter.widget-view+json": {
       "model_id": "a73e24384e9141baaadf54f0f43f45f7",
       "version_major": 2,
       "version_minor": 0
      },
      "text/plain": [
       "S1BB_20200927T070645_20201021T070645_VVP024_INT40_G_ueF_862A.zip:   0%|          | 0/382446341 [00:00<?, ?it/s…"
      ]
     },
     "metadata": {},
     "output_type": "display_data"
    },
    {
     "data": {
      "application/vnd.jupyter.widget-view+json": {
       "model_id": "58073be5c057417a892550c24a29e81d",
       "version_major": 2,
       "version_minor": 0
      },
      "text/plain": [
       "S1BB_20200915T070645_20201009T070645_VVP024_INT40_G_ueF_DFE3.zip:   0%|          | 0/386942857 [00:00<?, ?it/s…"
      ]
     },
     "metadata": {},
     "output_type": "display_data"
    },
    {
     "data": {
      "application/vnd.jupyter.widget-view+json": {
       "model_id": "de46edfb04124ce18dc19131ea8dc97d",
       "version_major": 2,
       "version_minor": 0
      },
      "text/plain": [
       "S1BB_20200903T070644_20201009T070645_VVP036_INT40_G_ueF_2FC1.zip:   0%|          | 0/385124923 [00:00<?, ?it/s…"
      ]
     },
     "metadata": {},
     "output_type": "display_data"
    },
    {
     "data": {
      "application/vnd.jupyter.widget-view+json": {
       "model_id": "37944e70352049be87197469139c640e",
       "version_major": 2,
       "version_minor": 0
      },
      "text/plain": [
       "S1BB_20200927T070645_20201009T070645_VVP012_INT40_G_ueF_6B48.zip:   0%|          | 0/382950401 [00:00<?, ?it/s…"
      ]
     },
     "metadata": {},
     "output_type": "display_data"
    },
    {
     "data": {
      "application/vnd.jupyter.widget-view+json": {
       "model_id": "a391f121c9064f928fadf7155833dbc6",
       "version_major": 2,
       "version_minor": 0
      },
      "text/plain": [
       "S1BB_20200903T070644_20200927T070645_VVP024_INT40_G_ueF_919F.zip:   0%|          | 0/380582422 [00:00<?, ?it/s…"
      ]
     },
     "metadata": {},
     "output_type": "display_data"
    },
    {
     "data": {
      "application/vnd.jupyter.widget-view+json": {
       "model_id": "2caafddf6c6944ac985ae3bd3cd8ef48",
       "version_major": 2,
       "version_minor": 0
      },
      "text/plain": [
       "S1BB_20200822T070643_20200927T070645_VVP036_INT40_G_ueF_A45C.zip:   0%|          | 0/380885733 [00:00<?, ?it/s…"
      ]
     },
     "metadata": {},
     "output_type": "display_data"
    },
    {
     "data": {
      "application/vnd.jupyter.widget-view+json": {
       "model_id": "1026961236f8425c813c4cb042c1db41",
       "version_major": 2,
       "version_minor": 0
      },
      "text/plain": [
       "S1BB_20200915T070645_20200927T070645_VVP012_INT40_G_ueF_6A6D.zip:   0%|          | 0/383392473 [00:00<?, ?it/s…"
      ]
     },
     "metadata": {},
     "output_type": "display_data"
    },
    {
     "data": {
      "application/vnd.jupyter.widget-view+json": {
       "model_id": "b1be2569d7434e5b918a20cd966dd9d0",
       "version_major": 2,
       "version_minor": 0
      },
      "text/plain": [
       "S1BB_20200810T070643_20200915T070645_VVP036_INT40_G_ueF_22B6.zip:   0%|          | 0/382617971 [00:00<?, ?it/s…"
      ]
     },
     "metadata": {},
     "output_type": "display_data"
    },
    {
     "data": {
      "application/vnd.jupyter.widget-view+json": {
       "model_id": "882227fac21a4010ad03be818002eac2",
       "version_major": 2,
       "version_minor": 0
      },
      "text/plain": [
       "S1BB_20200903T070644_20200915T070645_VVP012_INT40_G_ueF_03F8.zip:   0%|          | 0/382602409 [00:00<?, ?it/s…"
      ]
     },
     "metadata": {},
     "output_type": "display_data"
    },
    {
     "data": {
      "application/vnd.jupyter.widget-view+json": {
       "model_id": "10a1bcf9f310492489e19417f3f495f0",
       "version_major": 2,
       "version_minor": 0
      },
      "text/plain": [
       "S1BB_20200822T070643_20200915T070645_VVP024_INT40_G_ueF_EB3B.zip:   0%|          | 0/376577635 [00:00<?, ?it/s…"
      ]
     },
     "metadata": {},
     "output_type": "display_data"
    },
    {
     "data": {
      "application/vnd.jupyter.widget-view+json": {
       "model_id": "588298dcb6384014baf825b752c60661",
       "version_major": 2,
       "version_minor": 0
      },
      "text/plain": [
       "S1BB_20200729T070642_20200903T070644_VVP036_INT40_G_ueF_ABC4.zip:   0%|          | 0/370183194 [00:00<?, ?it/s…"
      ]
     },
     "metadata": {},
     "output_type": "display_data"
    },
    {
     "data": {
      "application/vnd.jupyter.widget-view+json": {
       "model_id": "f77eb466a3df4094933b4300a5a04e4f",
       "version_major": 2,
       "version_minor": 0
      },
      "text/plain": [
       "S1BB_20200810T070643_20200903T070644_VVP024_INT40_G_ueF_E571.zip:   0%|          | 0/384337878 [00:00<?, ?it/s…"
      ]
     },
     "metadata": {},
     "output_type": "display_data"
    },
    {
     "data": {
      "application/vnd.jupyter.widget-view+json": {
       "model_id": "263cbc5773434685956a92eb0b02da54",
       "version_major": 2,
       "version_minor": 0
      },
      "text/plain": [
       "S1BB_20200822T070643_20200903T070644_VVP012_INT40_G_ueF_EFF4.zip:   0%|          | 0/378507668 [00:00<?, ?it/s…"
      ]
     },
     "metadata": {},
     "output_type": "display_data"
    },
    {
     "data": {
      "application/vnd.jupyter.widget-view+json": {
       "model_id": "9045a1039ede44f19a7d1ea9c276fa36",
       "version_major": 2,
       "version_minor": 0
      },
      "text/plain": [
       "S1BB_20200717T070641_20200822T070643_VVP036_INT40_G_ueF_0F1B.zip:   0%|          | 0/386034018 [00:00<?, ?it/s…"
      ]
     },
     "metadata": {},
     "output_type": "display_data"
    },
    {
     "data": {
      "application/vnd.jupyter.widget-view+json": {
       "model_id": "8639202bcda344568b19aaa493b5e2ab",
       "version_major": 2,
       "version_minor": 0
      },
      "text/plain": [
       "S1BB_20200729T070642_20200822T070643_VVP024_INT40_G_ueF_C976.zip:   0%|          | 0/371678401 [00:00<?, ?it/s…"
      ]
     },
     "metadata": {},
     "output_type": "display_data"
    },
    {
     "data": {
      "application/vnd.jupyter.widget-view+json": {
       "model_id": "b7b679ae3c2042889943572e1abf0bdc",
       "version_major": 2,
       "version_minor": 0
      },
      "text/plain": [
       "S1BB_20200810T070643_20200822T070643_VVP012_INT40_G_ueF_EE24.zip:   0%|          | 0/377773664 [00:00<?, ?it/s…"
      ]
     },
     "metadata": {},
     "output_type": "display_data"
    },
    {
     "data": {
      "application/vnd.jupyter.widget-view+json": {
       "model_id": "6dfbe6e690d6414c8b05f26ed951780c",
       "version_major": 2,
       "version_minor": 0
      },
      "text/plain": [
       "S1BB_20200717T070641_20200810T070643_VVP024_INT40_G_ueF_ECBF.zip:   0%|          | 0/386100011 [00:00<?, ?it/s…"
      ]
     },
     "metadata": {},
     "output_type": "display_data"
    },
    {
     "data": {
      "application/vnd.jupyter.widget-view+json": {
       "model_id": "de0f953ee6694e96a032175b4468fef7",
       "version_major": 2,
       "version_minor": 0
      },
      "text/plain": [
       "S1BB_20200705T070641_20200810T070643_VVP036_INT40_G_ueF_3AFD.zip:   0%|          | 0/386522887 [00:00<?, ?it/s…"
      ]
     },
     "metadata": {},
     "output_type": "display_data"
    },
    {
     "data": {
      "application/vnd.jupyter.widget-view+json": {
       "model_id": "c4307b22f39c4cf7bb4379ad25d15ba6",
       "version_major": 2,
       "version_minor": 0
      },
      "text/plain": [
       "S1BB_20200729T070642_20200810T070643_VVP012_INT40_G_ueF_A12B.zip:   0%|          | 0/365701019 [00:00<?, ?it/s…"
      ]
     },
     "metadata": {},
     "output_type": "display_data"
    },
    {
     "data": {
      "application/vnd.jupyter.widget-view+json": {
       "model_id": "c05fbbdb072646c7b05c744b7f43f5f2",
       "version_major": 2,
       "version_minor": 0
      },
      "text/plain": [
       "S1BB_20200623T070640_20200729T070642_VVP036_INT40_G_ueF_0A80.zip:   0%|          | 0/379133965 [00:00<?, ?it/s…"
      ]
     },
     "metadata": {},
     "output_type": "display_data"
    },
    {
     "data": {
      "application/vnd.jupyter.widget-view+json": {
       "model_id": "fa1e80b63684443385a44cfa11ca2ea8",
       "version_major": 2,
       "version_minor": 0
      },
      "text/plain": [
       "S1BB_20200705T070641_20200729T070642_VVP024_INT40_G_ueF_98F5.zip:   0%|          | 0/387522988 [00:00<?, ?it/s…"
      ]
     },
     "metadata": {},
     "output_type": "display_data"
    },
    {
     "data": {
      "application/vnd.jupyter.widget-view+json": {
       "model_id": "2ed2d336ed924657a5a4623084b694e3",
       "version_major": 2,
       "version_minor": 0
      },
      "text/plain": [
       "S1BB_20200717T070641_20200729T070642_VVP012_INT40_G_ueF_2322.zip:   0%|          | 0/385722421 [00:00<?, ?it/s…"
      ]
     },
     "metadata": {},
     "output_type": "display_data"
    },
    {
     "data": {
      "application/vnd.jupyter.widget-view+json": {
       "model_id": "a4ec76dc979d4b289b718fc09fc96224",
       "version_major": 2,
       "version_minor": 0
      },
      "text/plain": [
       "S1BB_20200623T070640_20200717T070641_VVP024_INT40_G_ueF_7DF3.zip:   0%|          | 0/381153719 [00:00<?, ?it/s…"
      ]
     },
     "metadata": {},
     "output_type": "display_data"
    },
    {
     "data": {
      "application/vnd.jupyter.widget-view+json": {
       "model_id": "65c3baa44ed640aa9a1c503afc980e39",
       "version_major": 2,
       "version_minor": 0
      },
      "text/plain": [
       "S1BB_20200611T070639_20200717T070641_VVP036_INT40_G_ueF_6273.zip:   0%|          | 0/382991552 [00:00<?, ?it/s…"
      ]
     },
     "metadata": {},
     "output_type": "display_data"
    },
    {
     "data": {
      "application/vnd.jupyter.widget-view+json": {
       "model_id": "a46f1dd163d14e0b8067c0e2034ea1d2",
       "version_major": 2,
       "version_minor": 0
      },
      "text/plain": [
       "S1BB_20200705T070641_20200717T070641_VVP012_INT40_G_ueF_7420.zip:   0%|          | 0/387827911 [00:00<?, ?it/s…"
      ]
     },
     "metadata": {},
     "output_type": "display_data"
    },
    {
     "data": {
      "application/vnd.jupyter.widget-view+json": {
       "model_id": "9cd86c44daf74386929307e5c11ff481",
       "version_major": 2,
       "version_minor": 0
      },
      "text/plain": [
       "S1BB_20200530T070639_20200705T070641_VVP036_INT40_G_ueF_E2C2.zip:   0%|          | 0/378885776 [00:00<?, ?it/s…"
      ]
     },
     "metadata": {},
     "output_type": "display_data"
    },
    {
     "data": {
      "application/vnd.jupyter.widget-view+json": {
       "model_id": "8d87e539f1cd4bce8d84fd3d9d491052",
       "version_major": 2,
       "version_minor": 0
      },
      "text/plain": [
       "S1BB_20200623T070640_20200705T070641_VVP012_INT40_G_ueF_7F62.zip:   0%|          | 0/379731437 [00:00<?, ?it/s…"
      ]
     },
     "metadata": {},
     "output_type": "display_data"
    },
    {
     "data": {
      "application/vnd.jupyter.widget-view+json": {
       "model_id": "e63ccf5375c343c59c9fef69a8b75cc6",
       "version_major": 2,
       "version_minor": 0
      },
      "text/plain": [
       "S1BB_20200611T070639_20200705T070641_VVP024_INT40_G_ueF_C294.zip:   0%|          | 0/383091166 [00:00<?, ?it/s…"
      ]
     },
     "metadata": {},
     "output_type": "display_data"
    },
    {
     "data": {
      "application/vnd.jupyter.widget-view+json": {
       "model_id": "66274af1cae54a75b8ffbfed545488f5",
       "version_major": 2,
       "version_minor": 0
      },
      "text/plain": [
       "S1BB_20200518T070638_20200623T070640_VVP036_INT40_G_ueF_BF78.zip:   0%|          | 0/381828385 [00:00<?, ?it/s…"
      ]
     },
     "metadata": {},
     "output_type": "display_data"
    },
    {
     "data": {
      "application/vnd.jupyter.widget-view+json": {
       "model_id": "071d7b1e5b454888a5315bd3fe8db6b8",
       "version_major": 2,
       "version_minor": 0
      },
      "text/plain": [
       "S1BB_20200611T070639_20200623T070640_VVP012_INT40_G_ueF_8197.zip:   0%|          | 0/383514586 [00:00<?, ?it/s…"
      ]
     },
     "metadata": {},
     "output_type": "display_data"
    },
    {
     "data": {
      "application/vnd.jupyter.widget-view+json": {
       "model_id": "ca7d659243584d3d956da4888b9aa203",
       "version_major": 2,
       "version_minor": 0
      },
      "text/plain": [
       "S1BB_20200530T070639_20200623T070640_VVP024_INT40_G_ueF_EA5B.zip:   0%|          | 0/376165196 [00:00<?, ?it/s…"
      ]
     },
     "metadata": {},
     "output_type": "display_data"
    },
    {
     "data": {
      "application/vnd.jupyter.widget-view+json": {
       "model_id": "b25a5d9a58a74203b12270b4c28c0ef6",
       "version_major": 2,
       "version_minor": 0
      },
      "text/plain": [
       "S1BB_20200506T070637_20200611T070639_VVP036_INT40_G_ueF_96A0.zip:   0%|          | 0/380319903 [00:00<?, ?it/s…"
      ]
     },
     "metadata": {},
     "output_type": "display_data"
    },
    {
     "data": {
      "application/vnd.jupyter.widget-view+json": {
       "model_id": "8066466d363d47e79554339a3298728b",
       "version_major": 2,
       "version_minor": 0
      },
      "text/plain": [
       "S1BB_20200518T070638_20200611T070639_VVP024_INT40_G_ueF_84F0.zip:   0%|          | 0/379220909 [00:00<?, ?it/s…"
      ]
     },
     "metadata": {},
     "output_type": "display_data"
    },
    {
     "data": {
      "application/vnd.jupyter.widget-view+json": {
       "model_id": "aa3dff5503f34e1d8cb80fe6623bfc9c",
       "version_major": 2,
       "version_minor": 0
      },
      "text/plain": [
       "S1BB_20200530T070639_20200611T070639_VVP012_INT40_G_ueF_C3DE.zip:   0%|          | 0/379966490 [00:00<?, ?it/s…"
      ]
     },
     "metadata": {},
     "output_type": "display_data"
    },
    {
     "data": {
      "application/vnd.jupyter.widget-view+json": {
       "model_id": "963d48d145d24d4f85865312321f76a0",
       "version_major": 2,
       "version_minor": 0
      },
      "text/plain": [
       "S1BB_20200424T070637_20200530T070639_VVP036_INT40_G_ueF_66A4.zip:   0%|          | 0/375077054 [00:00<?, ?it/s…"
      ]
     },
     "metadata": {},
     "output_type": "display_data"
    },
    {
     "data": {
      "application/vnd.jupyter.widget-view+json": {
       "model_id": "c794eeafa29d42119cdbbe633212a8b4",
       "version_major": 2,
       "version_minor": 0
      },
      "text/plain": [
       "S1BB_20200506T070637_20200530T070639_VVP024_INT40_G_ueF_957C.zip:   0%|          | 0/382084442 [00:00<?, ?it/s…"
      ]
     },
     "metadata": {},
     "output_type": "display_data"
    },
    {
     "data": {
      "application/vnd.jupyter.widget-view+json": {
       "model_id": "f8ba8bd2457f40f39fd567a61e651daf",
       "version_major": 2,
       "version_minor": 0
      },
      "text/plain": [
       "S1BB_20200518T070638_20200530T070639_VVP012_INT40_G_ueF_17EB.zip:   0%|          | 0/379786304 [00:00<?, ?it/s…"
      ]
     },
     "metadata": {},
     "output_type": "display_data"
    },
    {
     "data": {
      "application/vnd.jupyter.widget-view+json": {
       "model_id": "a80d89265e8140ab8525d025cc5e84e8",
       "version_major": 2,
       "version_minor": 0
      },
      "text/plain": [
       "S1BB_20200412T070636_20200518T070638_VVP036_INT40_G_ueF_4423.zip:   0%|          | 0/383687762 [00:00<?, ?it/s…"
      ]
     },
     "metadata": {},
     "output_type": "display_data"
    },
    {
     "data": {
      "application/vnd.jupyter.widget-view+json": {
       "model_id": "b0f8ba663319422fa507d987905853d8",
       "version_major": 2,
       "version_minor": 0
      },
      "text/plain": [
       "S1BB_20200424T070637_20200518T070638_VVP024_INT40_G_ueF_855F.zip:   0%|          | 0/376441851 [00:00<?, ?it/s…"
      ]
     },
     "metadata": {},
     "output_type": "display_data"
    },
    {
     "data": {
      "application/vnd.jupyter.widget-view+json": {
       "model_id": "811c14911d764c108254566fccb40e61",
       "version_major": 2,
       "version_minor": 0
      },
      "text/plain": [
       "S1BB_20200506T070637_20200518T070638_VVP012_INT40_G_ueF_9BC7.zip:   0%|          | 0/380668140 [00:00<?, ?it/s…"
      ]
     },
     "metadata": {},
     "output_type": "display_data"
    },
    {
     "data": {
      "application/vnd.jupyter.widget-view+json": {
       "model_id": "99cd1e99b4324f25935bdfc995e57e7b",
       "version_major": 2,
       "version_minor": 0
      },
      "text/plain": [
       "S1BB_20200331T070636_20200506T070637_VVP036_INT40_G_ueF_9104.zip:   0%|          | 0/378318140 [00:00<?, ?it/s…"
      ]
     },
     "metadata": {},
     "output_type": "display_data"
    },
    {
     "data": {
      "application/vnd.jupyter.widget-view+json": {
       "model_id": "d15032c3ecc840f887300bc0f07faa59",
       "version_major": 2,
       "version_minor": 0
      },
      "text/plain": [
       "S1BB_20200412T070636_20200506T070637_VVP024_INT40_G_ueF_4600.zip:   0%|          | 0/382242269 [00:00<?, ?it/s…"
      ]
     },
     "metadata": {},
     "output_type": "display_data"
    },
    {
     "data": {
      "application/vnd.jupyter.widget-view+json": {
       "model_id": "4c9760eafc3442eb9cc82a15d41fa811",
       "version_major": 2,
       "version_minor": 0
      },
      "text/plain": [
       "S1BB_20200424T070637_20200506T070637_VVP012_INT40_G_ueF_9264.zip:   0%|          | 0/379174841 [00:00<?, ?it/s…"
      ]
     },
     "metadata": {},
     "output_type": "display_data"
    },
    {
     "data": {
      "application/vnd.jupyter.widget-view+json": {
       "model_id": "dd4e6451fa1a4cafa0a7d40655333833",
       "version_major": 2,
       "version_minor": 0
      },
      "text/plain": [
       "S1BB_20200319T070636_20200424T070637_VVP036_INT40_G_ueF_CBD7.zip:   0%|          | 0/378490634 [00:00<?, ?it/s…"
      ]
     },
     "metadata": {},
     "output_type": "display_data"
    },
    {
     "data": {
      "application/vnd.jupyter.widget-view+json": {
       "model_id": "791264a5d5d24e69aff44f630c6c241e",
       "version_major": 2,
       "version_minor": 0
      },
      "text/plain": [
       "S1BB_20200331T070636_20200424T070637_VVP024_INT40_G_ueF_22C8.zip:   0%|          | 0/376791551 [00:00<?, ?it/s…"
      ]
     },
     "metadata": {},
     "output_type": "display_data"
    },
    {
     "data": {
      "application/vnd.jupyter.widget-view+json": {
       "model_id": "4f7a00b3d88c46d5b10e5b7382c66fb9",
       "version_major": 2,
       "version_minor": 0
      },
      "text/plain": [
       "S1BB_20200412T070636_20200424T070637_VVP012_INT40_G_ueF_85CB.zip:   0%|          | 0/382101898 [00:00<?, ?it/s…"
      ]
     },
     "metadata": {},
     "output_type": "display_data"
    },
    {
     "data": {
      "application/vnd.jupyter.widget-view+json": {
       "model_id": "4db03047aabd4796b8881617e1070306",
       "version_major": 2,
       "version_minor": 0
      },
      "text/plain": [
       "S1BB_20200307T070635_20200412T070636_VVP036_INT40_G_ueF_F101.zip:   0%|          | 0/376198527 [00:00<?, ?it/s…"
      ]
     },
     "metadata": {},
     "output_type": "display_data"
    },
    {
     "data": {
      "application/vnd.jupyter.widget-view+json": {
       "model_id": "74cd5ffc61fe4fefa056ca6927ceffb0",
       "version_major": 2,
       "version_minor": 0
      },
      "text/plain": [
       "S1BB_20200319T070636_20200412T070636_VVP024_INT40_G_ueF_B930.zip:   0%|          | 0/378498164 [00:00<?, ?it/s…"
      ]
     },
     "metadata": {},
     "output_type": "display_data"
    },
    {
     "data": {
      "application/vnd.jupyter.widget-view+json": {
       "model_id": "d56e2923afdb4df78b68d87e7d5c18a2",
       "version_major": 2,
       "version_minor": 0
      },
      "text/plain": [
       "S1BB_20200331T070636_20200412T070636_VVP012_INT40_G_ueF_295D.zip:   0%|          | 0/379212441 [00:00<?, ?it/s…"
      ]
     },
     "metadata": {},
     "output_type": "display_data"
    },
    {
     "data": {
      "application/vnd.jupyter.widget-view+json": {
       "model_id": "632ebd124ac743278ac9475b580d5c48",
       "version_major": 2,
       "version_minor": 0
      },
      "text/plain": [
       "S1BB_20200224T070635_20200331T070636_VVP036_INT40_G_ueF_3246.zip:   0%|          | 0/381066222 [00:00<?, ?it/s…"
      ]
     },
     "metadata": {},
     "output_type": "display_data"
    },
    {
     "data": {
      "application/vnd.jupyter.widget-view+json": {
       "model_id": "9000cd9873114a5dade54dc55a9f9c63",
       "version_major": 2,
       "version_minor": 0
      },
      "text/plain": [
       "S1BB_20200307T070635_20200331T070636_VVP024_INT40_G_ueF_42E3.zip:   0%|          | 0/376467000 [00:00<?, ?it/s…"
      ]
     },
     "metadata": {},
     "output_type": "display_data"
    },
    {
     "data": {
      "application/vnd.jupyter.widget-view+json": {
       "model_id": "a1f27cf46f8f43b9a1872bb3df79b3a2",
       "version_major": 2,
       "version_minor": 0
      },
      "text/plain": [
       "S1BB_20200319T070636_20200331T070636_VVP012_INT40_G_ueF_16EB.zip:   0%|          | 0/382825738 [00:00<?, ?it/s…"
      ]
     },
     "metadata": {},
     "output_type": "display_data"
    },
    {
     "data": {
      "application/vnd.jupyter.widget-view+json": {
       "model_id": "91d90d9654214a3b9827ab07e88302cc",
       "version_major": 2,
       "version_minor": 0
      },
      "text/plain": [
       "S1BB_20200307T070635_20200319T070636_VVP012_INT40_G_ueF_2564.zip:   0%|          | 0/373680920 [00:00<?, ?it/s…"
      ]
     },
     "metadata": {},
     "output_type": "display_data"
    },
    {
     "data": {
      "application/vnd.jupyter.widget-view+json": {
       "model_id": "7a3c8b87e54c41928a0196e5f1496c72",
       "version_major": 2,
       "version_minor": 0
      },
      "text/plain": [
       "S1BB_20200212T070636_20200319T070636_VVP036_INT40_G_ueF_E2F0.zip:   0%|          | 0/378381121 [00:00<?, ?it/s…"
      ]
     },
     "metadata": {},
     "output_type": "display_data"
    },
    {
     "data": {
      "application/vnd.jupyter.widget-view+json": {
       "model_id": "a20dfc34660043a7a7ae0ef061877cd5",
       "version_major": 2,
       "version_minor": 0
      },
      "text/plain": [
       "S1BB_20200224T070635_20200319T070636_VVP024_INT40_G_ueF_B1D8.zip:   0%|          | 0/378266321 [00:00<?, ?it/s…"
      ]
     },
     "metadata": {},
     "output_type": "display_data"
    },
    {
     "data": {
      "application/vnd.jupyter.widget-view+json": {
       "model_id": "e6cdebfd915a4ef6b52ce026b5ee13c5",
       "version_major": 2,
       "version_minor": 0
      },
      "text/plain": [
       "S1BB_20200131T070636_20200307T070635_VVP036_INT40_G_ueF_0232.zip:   0%|          | 0/383874575 [00:00<?, ?it/s…"
      ]
     },
     "metadata": {},
     "output_type": "display_data"
    },
    {
     "data": {
      "application/vnd.jupyter.widget-view+json": {
       "model_id": "9677dd06eb184ff1acdd43712d846f1e",
       "version_major": 2,
       "version_minor": 0
      },
      "text/plain": [
       "S1BB_20200212T070636_20200307T070635_VVP024_INT40_G_ueF_93D5.zip:   0%|          | 0/378253879 [00:00<?, ?it/s…"
      ]
     },
     "metadata": {},
     "output_type": "display_data"
    },
    {
     "data": {
      "application/vnd.jupyter.widget-view+json": {
       "model_id": "e8c6e299b59f45edb7834fe55114310d",
       "version_major": 2,
       "version_minor": 0
      },
      "text/plain": [
       "S1BB_20200224T070635_20200307T070635_VVP012_INT40_G_ueF_03FF.zip:   0%|          | 0/379719209 [00:00<?, ?it/s…"
      ]
     },
     "metadata": {},
     "output_type": "display_data"
    },
    {
     "data": {
      "application/vnd.jupyter.widget-view+json": {
       "model_id": "232d2b1de06845a88ac54ed732807cc8",
       "version_major": 2,
       "version_minor": 0
      },
      "text/plain": [
       "S1BB_20200212T070636_20200224T070635_VVP012_INT40_G_ueF_86B9.zip:   0%|          | 0/376968082 [00:00<?, ?it/s…"
      ]
     },
     "metadata": {},
     "output_type": "display_data"
    },
    {
     "data": {
      "application/vnd.jupyter.widget-view+json": {
       "model_id": "d7ddf97a94fc4108a164c5862f601c84",
       "version_major": 2,
       "version_minor": 0
      },
      "text/plain": [
       "S1BB_20200119T070636_20200224T070635_VVP036_INT40_G_ueF_5775.zip:   0%|          | 0/382440059 [00:00<?, ?it/s…"
      ]
     },
     "metadata": {},
     "output_type": "display_data"
    },
    {
     "data": {
      "application/vnd.jupyter.widget-view+json": {
       "model_id": "e7e98d4f82824cc0b44b2536dec3268e",
       "version_major": 2,
       "version_minor": 0
      },
      "text/plain": [
       "S1BB_20200131T070636_20200224T070635_VVP024_INT40_G_ueF_C14B.zip:   0%|          | 0/384358012 [00:00<?, ?it/s…"
      ]
     },
     "metadata": {},
     "output_type": "display_data"
    },
    {
     "data": {
      "application/vnd.jupyter.widget-view+json": {
       "model_id": "194e16ae4eab451ea924e0d9101c5d12",
       "version_major": 2,
       "version_minor": 0
      },
      "text/plain": [
       "S1BB_20200107T070637_20200212T070636_VVP036_INT40_G_ueF_B869.zip:   0%|          | 0/380585735 [00:00<?, ?it/s…"
      ]
     },
     "metadata": {},
     "output_type": "display_data"
    },
    {
     "data": {
      "application/vnd.jupyter.widget-view+json": {
       "model_id": "9cf04fa92d8f43b1b0f83053bddf89f0",
       "version_major": 2,
       "version_minor": 0
      },
      "text/plain": [
       "S1BB_20200119T070636_20200212T070636_VVP024_INT40_G_ueF_DAA6.zip:   0%|          | 0/378325852 [00:00<?, ?it/s…"
      ]
     },
     "metadata": {},
     "output_type": "display_data"
    },
    {
     "data": {
      "application/vnd.jupyter.widget-view+json": {
       "model_id": "e277a93912da457082a72cfa18de7c1b",
       "version_major": 2,
       "version_minor": 0
      },
      "text/plain": [
       "S1BB_20200131T070636_20200212T070636_VVP012_INT40_G_ueF_E0CD.zip:   0%|          | 0/385066175 [00:00<?, ?it/s…"
      ]
     },
     "metadata": {},
     "output_type": "display_data"
    },
    {
     "data": {
      "application/vnd.jupyter.widget-view+json": {
       "model_id": "2f21b0cb6d4948a198c28cf53bf6c3d2",
       "version_major": 2,
       "version_minor": 0
      },
      "text/plain": [
       "S1BB_20191226T070637_20200131T070636_VVP036_INT40_G_ueF_30EF.zip:   0%|          | 0/373553801 [00:00<?, ?it/s…"
      ]
     },
     "metadata": {},
     "output_type": "display_data"
    },
    {
     "data": {
      "application/vnd.jupyter.widget-view+json": {
       "model_id": "bcdaeed69f7b4e358298ee7e5c65fbbc",
       "version_major": 2,
       "version_minor": 0
      },
      "text/plain": [
       "S1BB_20200107T070637_20200131T070636_VVP024_INT40_G_ueF_B03C.zip:   0%|          | 0/380715229 [00:00<?, ?it/s…"
      ]
     },
     "metadata": {},
     "output_type": "display_data"
    },
    {
     "data": {
      "application/vnd.jupyter.widget-view+json": {
       "model_id": "b2aa217afcd3479bbf20d60126e77279",
       "version_major": 2,
       "version_minor": 0
      },
      "text/plain": [
       "S1BB_20200119T070636_20200131T070636_VVP012_INT40_G_ueF_22EA.zip:   0%|          | 0/381740887 [00:00<?, ?it/s…"
      ]
     },
     "metadata": {},
     "output_type": "display_data"
    },
    {
     "data": {
      "application/vnd.jupyter.widget-view+json": {
       "model_id": "0258f21f3c634f589cefe2ff8e5816c5",
       "version_major": 2,
       "version_minor": 0
      },
      "text/plain": [
       "S1BB_20191214T070638_20200119T070636_VVP036_INT40_G_ueF_21CE.zip:   0%|          | 0/382766282 [00:00<?, ?it/s…"
      ]
     },
     "metadata": {},
     "output_type": "display_data"
    },
    {
     "data": {
      "application/vnd.jupyter.widget-view+json": {
       "model_id": "8c90c2af87db44e3834490dc9c581a69",
       "version_major": 2,
       "version_minor": 0
      },
      "text/plain": [
       "S1BB_20200107T070637_20200119T070636_VVP012_INT40_G_ueF_A878.zip:   0%|          | 0/384027975 [00:00<?, ?it/s…"
      ]
     },
     "metadata": {},
     "output_type": "display_data"
    },
    {
     "data": {
      "application/vnd.jupyter.widget-view+json": {
       "model_id": "60f7a224f1d34593b4cf4fae14e0941b",
       "version_major": 2,
       "version_minor": 0
      },
      "text/plain": [
       "S1BB_20191226T070637_20200119T070636_VVP024_INT40_G_ueF_5ACC.zip:   0%|          | 0/375514545 [00:00<?, ?it/s…"
      ]
     },
     "metadata": {},
     "output_type": "display_data"
    },
    {
     "data": {
      "application/vnd.jupyter.widget-view+json": {
       "model_id": "786488cb605646e583cde5796f7b9c4a",
       "version_major": 2,
       "version_minor": 0
      },
      "text/plain": [
       "S1BB_20191202T070638_20200107T070637_VVP036_INT40_G_ueF_BCB1.zip:   0%|          | 0/380817322 [00:00<?, ?it/s…"
      ]
     },
     "metadata": {},
     "output_type": "display_data"
    },
    {
     "data": {
      "application/vnd.jupyter.widget-view+json": {
       "model_id": "55ef2105a3654eca80432bad7546c36f",
       "version_major": 2,
       "version_minor": 0
      },
      "text/plain": [
       "S1BB_20191226T070637_20200107T070637_VVP012_INT40_G_ueF_68DF.zip:   0%|          | 0/375904153 [00:00<?, ?it/s…"
      ]
     },
     "metadata": {},
     "output_type": "display_data"
    },
    {
     "data": {
      "application/vnd.jupyter.widget-view+json": {
       "model_id": "ce90fb8b11b440ec9828fedddf744c01",
       "version_major": 2,
       "version_minor": 0
      },
      "text/plain": [
       "S1BB_20191214T070638_20200107T070637_VVP024_INT40_G_ueF_8BEF.zip:   0%|          | 0/380433827 [00:00<?, ?it/s…"
      ]
     },
     "metadata": {},
     "output_type": "display_data"
    },
    {
     "data": {
      "application/vnd.jupyter.widget-view+json": {
       "model_id": "c5f791df4ca84eeaaf8643edb5a9a910",
       "version_major": 2,
       "version_minor": 0
      },
      "text/plain": [
       "S1BB_20191120T070639_20191226T070637_VVP036_INT40_G_ueF_E377.zip:   0%|          | 0/380442839 [00:00<?, ?it/s…"
      ]
     },
     "metadata": {},
     "output_type": "display_data"
    },
    {
     "data": {
      "application/vnd.jupyter.widget-view+json": {
       "model_id": "1983e233ee5e420a9fcff5d13afe8fea",
       "version_major": 2,
       "version_minor": 0
      },
      "text/plain": [
       "S1BB_20191202T070638_20191226T070637_VVP024_INT40_G_ueF_1DF6.zip:   0%|          | 0/379945488 [00:00<?, ?it/s…"
      ]
     },
     "metadata": {},
     "output_type": "display_data"
    },
    {
     "data": {
      "application/vnd.jupyter.widget-view+json": {
       "model_id": "495881686d4a4b32b430c610192a0338",
       "version_major": 2,
       "version_minor": 0
      },
      "text/plain": [
       "S1BB_20191214T070638_20191226T070637_VVP012_INT40_G_ueF_781C.zip:   0%|          | 0/379272540 [00:00<?, ?it/s…"
      ]
     },
     "metadata": {},
     "output_type": "display_data"
    },
    {
     "data": {
      "application/vnd.jupyter.widget-view+json": {
       "model_id": "c22941149540450d9280f257b1b91e69",
       "version_major": 2,
       "version_minor": 0
      },
      "text/plain": [
       "S1BB_20191120T070639_20191214T070638_VVP024_INT40_G_ueF_A128.zip:   0%|          | 0/384130585 [00:00<?, ?it/s…"
      ]
     },
     "metadata": {},
     "output_type": "display_data"
    },
    {
     "data": {
      "application/vnd.jupyter.widget-view+json": {
       "model_id": "d4cccde089534681956eedefcb9981c1",
       "version_major": 2,
       "version_minor": 0
      },
      "text/plain": [
       "S1BB_20191108T070639_20191214T070638_VVP036_INT40_G_ueF_9101.zip:   0%|          | 0/375575069 [00:00<?, ?it/s…"
      ]
     },
     "metadata": {},
     "output_type": "display_data"
    },
    {
     "data": {
      "application/vnd.jupyter.widget-view+json": {
       "model_id": "a371efa7ddd64d4eb68d0b487320e406",
       "version_major": 2,
       "version_minor": 0
      },
      "text/plain": [
       "S1BB_20191202T070638_20191214T070638_VVP012_INT40_G_ueF_4ECE.zip:   0%|          | 0/382258696 [00:00<?, ?it/s…"
      ]
     },
     "metadata": {},
     "output_type": "display_data"
    },
    {
     "data": {
      "application/vnd.jupyter.widget-view+json": {
       "model_id": "bd5e6fcb1e294e0d8d16f032586d9340",
       "version_major": 2,
       "version_minor": 0
      },
      "text/plain": [
       "S1BB_20191027T070639_20191202T070638_VVP036_INT40_G_ueF_2D1B.zip:   0%|          | 0/375130075 [00:00<?, ?it/s…"
      ]
     },
     "metadata": {},
     "output_type": "display_data"
    },
    {
     "data": {
      "application/vnd.jupyter.widget-view+json": {
       "model_id": "68557dfa8fd44cf896be37b667672e2a",
       "version_major": 2,
       "version_minor": 0
      },
      "text/plain": [
       "S1BB_20191120T070639_20191202T070638_VVP012_INT40_G_ueF_78F9.zip:   0%|          | 0/384785343 [00:00<?, ?it/s…"
      ]
     },
     "metadata": {},
     "output_type": "display_data"
    },
    {
     "data": {
      "application/vnd.jupyter.widget-view+json": {
       "model_id": "b1647f6459ee42a1bacc9f1fcf6d6192",
       "version_major": 2,
       "version_minor": 0
      },
      "text/plain": [
       "S1BB_20191108T070639_20191202T070638_VVP024_INT40_G_ueF_ADA0.zip:   0%|          | 0/372796232 [00:00<?, ?it/s…"
      ]
     },
     "metadata": {},
     "output_type": "display_data"
    },
    {
     "data": {
      "application/vnd.jupyter.widget-view+json": {
       "model_id": "c6d4d771fff94fd38e2219dfe7653767",
       "version_major": 2,
       "version_minor": 0
      },
      "text/plain": [
       "S1BB_20191108T070639_20191120T070639_VVP012_INT40_G_ueF_E249.zip:   0%|          | 0/376902814 [00:00<?, ?it/s…"
      ]
     },
     "metadata": {},
     "output_type": "display_data"
    },
    {
     "data": {
      "application/vnd.jupyter.widget-view+json": {
       "model_id": "8afb23d92d3e435cac4717c98b2d318e",
       "version_major": 2,
       "version_minor": 0
      },
      "text/plain": [
       "S1BB_20191015T070639_20191120T070639_VVP036_INT40_G_ueF_EABB.zip:   0%|          | 0/373970437 [00:00<?, ?it/s…"
      ]
     },
     "metadata": {},
     "output_type": "display_data"
    },
    {
     "data": {
      "application/vnd.jupyter.widget-view+json": {
       "model_id": "491f5ff99a214124b55490843db62b31",
       "version_major": 2,
       "version_minor": 0
      },
      "text/plain": [
       "S1BB_20191027T070639_20191120T070639_VVP024_INT40_G_ueF_449F.zip:   0%|          | 0/379139388 [00:00<?, ?it/s…"
      ]
     },
     "metadata": {},
     "output_type": "display_data"
    },
    {
     "data": {
      "application/vnd.jupyter.widget-view+json": {
       "model_id": "0997e255c0464f288e7cec68028fa961",
       "version_major": 2,
       "version_minor": 0
      },
      "text/plain": [
       "S1BB_20191015T070639_20191108T070639_VVP024_INT40_G_ueF_8F2D.zip:   0%|          | 0/375898069 [00:00<?, ?it/s…"
      ]
     },
     "metadata": {},
     "output_type": "display_data"
    },
    {
     "data": {
      "application/vnd.jupyter.widget-view+json": {
       "model_id": "ffd2db9dbea9432eb9402c78e5edebd9",
       "version_major": 2,
       "version_minor": 0
      },
      "text/plain": [
       "S1BB_20191003T070639_20191108T070639_VVP036_INT40_G_ueF_DE97.zip:   0%|          | 0/379113779 [00:00<?, ?it/s…"
      ]
     },
     "metadata": {},
     "output_type": "display_data"
    },
    {
     "data": {
      "application/vnd.jupyter.widget-view+json": {
       "model_id": "39f8271637d34f70add3a5ef4b20fc50",
       "version_major": 2,
       "version_minor": 0
      },
      "text/plain": [
       "S1BB_20191027T070639_20191108T070639_VVP012_INT40_G_ueF_9C2A.zip:   0%|          | 0/380281695 [00:00<?, ?it/s…"
      ]
     },
     "metadata": {},
     "output_type": "display_data"
    },
    {
     "data": {
      "application/vnd.jupyter.widget-view+json": {
       "model_id": "fa6e0cd80a5943e3b8beb42764dd17b0",
       "version_major": 2,
       "version_minor": 0
      },
      "text/plain": [
       "S1BB_20190921T070638_20191027T070639_VVP036_INT40_G_ueF_A0D2.zip:   0%|          | 0/376472915 [00:00<?, ?it/s…"
      ]
     },
     "metadata": {},
     "output_type": "display_data"
    },
    {
     "data": {
      "application/vnd.jupyter.widget-view+json": {
       "model_id": "2fdcea3ad5754959b9bf11a68ad20fe8",
       "version_major": 2,
       "version_minor": 0
      },
      "text/plain": [
       "S1BB_20191015T070639_20191027T070639_VVP012_INT40_G_ueF_E759.zip:   0%|          | 0/381456242 [00:00<?, ?it/s…"
      ]
     },
     "metadata": {},
     "output_type": "display_data"
    },
    {
     "data": {
      "application/vnd.jupyter.widget-view+json": {
       "model_id": "ea21ac0902ad4404be2d0334c57a87c3",
       "version_major": 2,
       "version_minor": 0
      },
      "text/plain": [
       "S1BB_20191003T070639_20191027T070639_VVP024_INT40_G_ueF_9B7E.zip:   0%|          | 0/381153320 [00:00<?, ?it/s…"
      ]
     },
     "metadata": {},
     "output_type": "display_data"
    },
    {
     "data": {
      "application/vnd.jupyter.widget-view+json": {
       "model_id": "d4dd2b2e92324e6f92450ac536d8bc44",
       "version_major": 2,
       "version_minor": 0
      },
      "text/plain": [
       "S1BB_20190909T070638_20191015T070639_VVP036_INT40_G_ueF_F97E.zip:   0%|          | 0/375059474 [00:00<?, ?it/s…"
      ]
     },
     "metadata": {},
     "output_type": "display_data"
    },
    {
     "data": {
      "application/vnd.jupyter.widget-view+json": {
       "model_id": "2dd3e0a4658b49c1aed427a973f06b72",
       "version_major": 2,
       "version_minor": 0
      },
      "text/plain": [
       "S1BB_20190921T070638_20191015T070639_VVP024_INT40_G_ueF_1D9E.zip:   0%|          | 0/370804450 [00:00<?, ?it/s…"
      ]
     },
     "metadata": {},
     "output_type": "display_data"
    },
    {
     "data": {
      "application/vnd.jupyter.widget-view+json": {
       "model_id": "bc3804e0e54a4cfcb615e0111a7ab67a",
       "version_major": 2,
       "version_minor": 0
      },
      "text/plain": [
       "S1BB_20191003T070639_20191015T070639_VVP012_INT40_G_ueF_65A2.zip:   0%|          | 0/376921644 [00:00<?, ?it/s…"
      ]
     },
     "metadata": {},
     "output_type": "display_data"
    },
    {
     "data": {
      "application/vnd.jupyter.widget-view+json": {
       "model_id": "6a930628f0e9494f9671de0c481d4bb7",
       "version_major": 2,
       "version_minor": 0
      },
      "text/plain": [
       "S1BB_20190828T070637_20191003T070639_VVP036_INT40_G_ueF_9442.zip:   0%|          | 0/382937151 [00:00<?, ?it/s…"
      ]
     },
     "metadata": {},
     "output_type": "display_data"
    },
    {
     "data": {
      "application/vnd.jupyter.widget-view+json": {
       "model_id": "9ef1f70fa6024fb6a75088d0d7d16ed1",
       "version_major": 2,
       "version_minor": 0
      },
      "text/plain": [
       "S1BB_20190909T070638_20191003T070639_VVP024_INT40_G_ueF_D695.zip:   0%|          | 0/378990130 [00:00<?, ?it/s…"
      ]
     },
     "metadata": {},
     "output_type": "display_data"
    },
    {
     "data": {
      "application/vnd.jupyter.widget-view+json": {
       "model_id": "5328bfa01ee04bc483fb8ea364b07134",
       "version_major": 2,
       "version_minor": 0
      },
      "text/plain": [
       "S1BB_20190921T070638_20191003T070639_VVP012_INT40_G_ueF_383A.zip:   0%|          | 0/378367636 [00:00<?, ?it/s…"
      ]
     },
     "metadata": {},
     "output_type": "display_data"
    },
    {
     "data": {
      "application/vnd.jupyter.widget-view+json": {
       "model_id": "c1e9ad9fa60b4b1ea6b143715aa1e752",
       "version_major": 2,
       "version_minor": 0
      },
      "text/plain": [
       "S1BB_20190816T070637_20190921T070638_VVP036_INT40_G_ueF_E7A5.zip:   0%|          | 0/383647052 [00:00<?, ?it/s…"
      ]
     },
     "metadata": {},
     "output_type": "display_data"
    },
    {
     "data": {
      "application/vnd.jupyter.widget-view+json": {
       "model_id": "8a03a302c16e496694da131ab54406c8",
       "version_major": 2,
       "version_minor": 0
      },
      "text/plain": [
       "S1BB_20190828T070637_20190921T070638_VVP024_INT40_G_ueF_52DD.zip:   0%|          | 0/381667540 [00:00<?, ?it/s…"
      ]
     },
     "metadata": {},
     "output_type": "display_data"
    },
    {
     "data": {
      "application/vnd.jupyter.widget-view+json": {
       "model_id": "1549cbfe7bad446296382d8fc43a50da",
       "version_major": 2,
       "version_minor": 0
      },
      "text/plain": [
       "S1BB_20190909T070638_20190921T070638_VVP012_INT40_G_ueF_36B2.zip:   0%|          | 0/381871149 [00:00<?, ?it/s…"
      ]
     },
     "metadata": {},
     "output_type": "display_data"
    },
    {
     "data": {
      "application/vnd.jupyter.widget-view+json": {
       "model_id": "64b0915d9f01442184e029fdc9b2e86d",
       "version_major": 2,
       "version_minor": 0
      },
      "text/plain": [
       "S1BB_20190804T070636_20190909T070638_VVP036_INT40_G_ueF_DFC1.zip:   0%|          | 0/385098103 [00:00<?, ?it/s…"
      ]
     },
     "metadata": {},
     "output_type": "display_data"
    },
    {
     "data": {
      "application/vnd.jupyter.widget-view+json": {
       "model_id": "caffccaac65e4b1a8ea435b82dd55d7f",
       "version_major": 2,
       "version_minor": 0
      },
      "text/plain": [
       "S1BB_20190816T070637_20190909T070638_VVP024_INT40_G_ueF_21FE.zip:   0%|          | 0/379974920 [00:00<?, ?it/s…"
      ]
     },
     "metadata": {},
     "output_type": "display_data"
    },
    {
     "data": {
      "application/vnd.jupyter.widget-view+json": {
       "model_id": "40146f6a0e7d4abdbe3db002bf048e1d",
       "version_major": 2,
       "version_minor": 0
      },
      "text/plain": [
       "S1BB_20190828T070637_20190909T070638_VVP012_INT40_G_ueF_9348.zip:   0%|          | 0/385041986 [00:00<?, ?it/s…"
      ]
     },
     "metadata": {},
     "output_type": "display_data"
    },
    {
     "data": {
      "application/vnd.jupyter.widget-view+json": {
       "model_id": "dcec1e02a645426283bbedadfa524210",
       "version_major": 2,
       "version_minor": 0
      },
      "text/plain": [
       "S1BB_20190723T070635_20190828T070637_VVP036_INT40_G_ueF_386F.zip:   0%|          | 0/379131355 [00:00<?, ?it/s…"
      ]
     },
     "metadata": {},
     "output_type": "display_data"
    },
    {
     "data": {
      "application/vnd.jupyter.widget-view+json": {
       "model_id": "4e705a5ee15b4379b1d4920952dde5c0",
       "version_major": 2,
       "version_minor": 0
      },
      "text/plain": [
       "S1BB_20190816T070637_20190828T070637_VVP012_INT40_G_ueF_5995.zip:   0%|          | 0/383491880 [00:00<?, ?it/s…"
      ]
     },
     "metadata": {},
     "output_type": "display_data"
    },
    {
     "data": {
      "application/vnd.jupyter.widget-view+json": {
       "model_id": "d3c2657e5deb43278edffc2fe4964515",
       "version_major": 2,
       "version_minor": 0
      },
      "text/plain": [
       "S1BB_20190804T070636_20190828T070637_VVP024_INT40_G_ueF_24D5.zip:   0%|          | 0/384969121 [00:00<?, ?it/s…"
      ]
     },
     "metadata": {},
     "output_type": "display_data"
    },
    {
     "data": {
      "application/vnd.jupyter.widget-view+json": {
       "model_id": "4d173e8c503c43b4826a4808f81fd141",
       "version_major": 2,
       "version_minor": 0
      },
      "text/plain": [
       "S1BB_20190711T070635_20190816T070637_VVP036_INT40_G_ueF_85F9.zip:   0%|          | 0/378842475 [00:00<?, ?it/s…"
      ]
     },
     "metadata": {},
     "output_type": "display_data"
    },
    {
     "data": {
      "application/vnd.jupyter.widget-view+json": {
       "model_id": "6f97fb1942e144e9ba311ca8e15fd09c",
       "version_major": 2,
       "version_minor": 0
      },
      "text/plain": [
       "S1BB_20190723T070635_20190816T070637_VVP024_INT40_G_ueF_E502.zip:   0%|          | 0/379452696 [00:00<?, ?it/s…"
      ]
     },
     "metadata": {},
     "output_type": "display_data"
    },
    {
     "data": {
      "application/vnd.jupyter.widget-view+json": {
       "model_id": "1131bdb034344e3690eadbe4ca55ed42",
       "version_major": 2,
       "version_minor": 0
      },
      "text/plain": [
       "S1BB_20190804T070636_20190816T070637_VVP012_INT40_G_ueF_56DF.zip:   0%|          | 0/381750151 [00:00<?, ?it/s…"
      ]
     },
     "metadata": {},
     "output_type": "display_data"
    },
    {
     "data": {
      "application/vnd.jupyter.widget-view+json": {
       "model_id": "59a15bc3ac03463d83e3f05da8fcf6da",
       "version_major": 2,
       "version_minor": 0
      },
      "text/plain": [
       "S1BB_20190617T070633_20190804T070636_VVP048_INT40_G_ueF_07C9.zip:   0%|          | 0/387899175 [00:00<?, ?it/s…"
      ]
     },
     "metadata": {},
     "output_type": "display_data"
    },
    {
     "data": {
      "application/vnd.jupyter.widget-view+json": {
       "model_id": "530aa12630894aa2aca0f250794373d0",
       "version_major": 2,
       "version_minor": 0
      },
      "text/plain": [
       "S1BB_20190711T070635_20190804T070636_VVP024_INT40_G_ueF_D83A.zip:   0%|          | 0/382691102 [00:00<?, ?it/s…"
      ]
     },
     "metadata": {},
     "output_type": "display_data"
    },
    {
     "data": {
      "application/vnd.jupyter.widget-view+json": {
       "model_id": "7e26c72d7960453cb68c5f36aab47b15",
       "version_major": 2,
       "version_minor": 0
      },
      "text/plain": [
       "S1BB_20190723T070635_20190804T070636_VVP012_INT40_G_ueF_CEB0.zip:   0%|          | 0/379364677 [00:00<?, ?it/s…"
      ]
     },
     "metadata": {},
     "output_type": "display_data"
    },
    {
     "data": {
      "application/vnd.jupyter.widget-view+json": {
       "model_id": "5b9fc8883f01457dab359d4311039f40",
       "version_major": 2,
       "version_minor": 0
      },
      "text/plain": [
       "S1BB_20190605T070632_20190723T070635_VVP048_INT40_G_ueF_3CF7.zip:   0%|          | 0/376493000 [00:00<?, ?it/s…"
      ]
     },
     "metadata": {},
     "output_type": "display_data"
    },
    {
     "data": {
      "application/vnd.jupyter.widget-view+json": {
       "model_id": "2b4ca247655c492ca1fb5f6fd194d9ae",
       "version_major": 2,
       "version_minor": 0
      },
      "text/plain": [
       "S1BB_20190711T070635_20190723T070635_VVP012_INT40_G_ueF_3C5B.zip:   0%|          | 0/381017261 [00:00<?, ?it/s…"
      ]
     },
     "metadata": {},
     "output_type": "display_data"
    },
    {
     "data": {
      "application/vnd.jupyter.widget-view+json": {
       "model_id": "f1086079b1ea4ec7b4010d714ace57f6",
       "version_major": 2,
       "version_minor": 0
      },
      "text/plain": [
       "S1BB_20190617T070633_20190723T070635_VVP036_INT40_G_ueF_9E63.zip:   0%|          | 0/387129014 [00:00<?, ?it/s…"
      ]
     },
     "metadata": {},
     "output_type": "display_data"
    },
    {
     "data": {
      "application/vnd.jupyter.widget-view+json": {
       "model_id": "11fb37c0bdbe4cdb81d614f7537d3ff7",
       "version_major": 2,
       "version_minor": 0
      },
      "text/plain": [
       "S1BB_20190605T070632_20190711T070635_VVP036_INT40_G_ueF_3B45.zip:   0%|          | 0/377508060 [00:00<?, ?it/s…"
      ]
     },
     "metadata": {},
     "output_type": "display_data"
    },
    {
     "data": {
      "application/vnd.jupyter.widget-view+json": {
       "model_id": "f6906e511896492dbbfb367392500042",
       "version_major": 2,
       "version_minor": 0
      },
      "text/plain": [
       "S1BB_20190524T070632_20190711T070635_VVP048_INT40_G_ueF_8B67.zip:   0%|          | 0/372821576 [00:00<?, ?it/s…"
      ]
     },
     "metadata": {},
     "output_type": "display_data"
    },
    {
     "data": {
      "application/vnd.jupyter.widget-view+json": {
       "model_id": "8935e0e844734d56a61da4083871b1fe",
       "version_major": 2,
       "version_minor": 0
      },
      "text/plain": [
       "S1BB_20190617T070633_20190711T070635_VVP024_INT40_G_ueF_91A1.zip:   0%|          | 0/389260501 [00:00<?, ?it/s…"
      ]
     },
     "metadata": {},
     "output_type": "display_data"
    },
    {
     "data": {
      "application/vnd.jupyter.widget-view+json": {
       "model_id": "153032c9727c45959aed6774c56f78bf",
       "version_major": 2,
       "version_minor": 0
      },
      "text/plain": [
       "S1BB_20190512T070631_20190617T070633_VVP036_INT40_G_ueF_4F47.zip:   0%|          | 0/385712812 [00:00<?, ?it/s…"
      ]
     },
     "metadata": {},
     "output_type": "display_data"
    },
    {
     "data": {
      "application/vnd.jupyter.widget-view+json": {
       "model_id": "bed9a2713b114ae1888917379b1e6cd9",
       "version_major": 2,
       "version_minor": 0
      },
      "text/plain": [
       "S1BB_20190605T070632_20190617T070633_VVP012_INT40_G_ueF_9E16.zip:   0%|          | 0/377299687 [00:00<?, ?it/s…"
      ]
     },
     "metadata": {},
     "output_type": "display_data"
    },
    {
     "data": {
      "application/vnd.jupyter.widget-view+json": {
       "model_id": "09aaeb448bce4bd99406d32ae9dbcafb",
       "version_major": 2,
       "version_minor": 0
      },
      "text/plain": [
       "S1BB_20190524T070632_20190617T070633_VVP024_INT40_G_ueF_C1EA.zip:   0%|          | 0/372763640 [00:00<?, ?it/s…"
      ]
     },
     "metadata": {},
     "output_type": "display_data"
    },
    {
     "data": {
      "application/vnd.jupyter.widget-view+json": {
       "model_id": "dfb5d9279d6c4c0a80d4f6122a0055eb",
       "version_major": 2,
       "version_minor": 0
      },
      "text/plain": [
       "S1BB_20190430T070631_20190605T070632_VVP036_INT40_G_ueF_5B6B.zip:   0%|          | 0/386310021 [00:00<?, ?it/s…"
      ]
     },
     "metadata": {},
     "output_type": "display_data"
    },
    {
     "data": {
      "application/vnd.jupyter.widget-view+json": {
       "model_id": "e18b78861e274ca5b8f93ad91ffff22d",
       "version_major": 2,
       "version_minor": 0
      },
      "text/plain": [
       "S1BB_20190512T070631_20190605T070632_VVP024_INT40_G_ueF_F42A.zip:   0%|          | 0/385293889 [00:00<?, ?it/s…"
      ]
     },
     "metadata": {},
     "output_type": "display_data"
    },
    {
     "data": {
      "application/vnd.jupyter.widget-view+json": {
       "model_id": "1da1af1c20ac4718911762fe7507acca",
       "version_major": 2,
       "version_minor": 0
      },
      "text/plain": [
       "S1BB_20190524T070632_20190605T070632_VVP012_INT40_G_ueF_F195.zip:   0%|          | 0/367543667 [00:00<?, ?it/s…"
      ]
     },
     "metadata": {},
     "output_type": "display_data"
    },
    {
     "data": {
      "application/vnd.jupyter.widget-view+json": {
       "model_id": "344a0df17d4f462692cbf5d5a62d0770",
       "version_major": 2,
       "version_minor": 0
      },
      "text/plain": [
       "S1BB_20190430T070631_20190524T070632_VVP024_INT40_G_ueF_1D17.zip:   0%|          | 0/381790795 [00:00<?, ?it/s…"
      ]
     },
     "metadata": {},
     "output_type": "display_data"
    },
    {
     "data": {
      "application/vnd.jupyter.widget-view+json": {
       "model_id": "aaf3db252ac74b2bb9190df241321cce",
       "version_major": 2,
       "version_minor": 0
      },
      "text/plain": [
       "S1BB_20190406T070630_20190524T070632_VVP048_INT40_G_ueF_3783.zip:   0%|          | 0/384005230 [00:00<?, ?it/s…"
      ]
     },
     "metadata": {},
     "output_type": "display_data"
    },
    {
     "data": {
      "application/vnd.jupyter.widget-view+json": {
       "model_id": "3a713c6b11aa42bcb68f2cd571aa04c6",
       "version_major": 2,
       "version_minor": 0
      },
      "text/plain": [
       "S1BB_20190512T070631_20190524T070632_VVP012_INT40_G_ueF_B614.zip:   0%|          | 0/385961331 [00:00<?, ?it/s…"
      ]
     },
     "metadata": {},
     "output_type": "display_data"
    },
    {
     "data": {
      "application/vnd.jupyter.widget-view+json": {
       "model_id": "095d2464f4d3415dba106804d386d6d5",
       "version_major": 2,
       "version_minor": 0
      },
      "text/plain": [
       "S1BB_20190325T070629_20190512T070631_VVP048_INT40_G_ueF_C58D.zip:   0%|          | 0/372836994 [00:00<?, ?it/s…"
      ]
     },
     "metadata": {},
     "output_type": "display_data"
    },
    {
     "data": {
      "application/vnd.jupyter.widget-view+json": {
       "model_id": "9a49a2c80dae4836b2edc29bd61ac63a",
       "version_major": 2,
       "version_minor": 0
      },
      "text/plain": [
       "S1BB_20190430T070631_20190512T070631_VVP012_INT40_G_ueF_6B74.zip:   0%|          | 0/388193619 [00:00<?, ?it/s…"
      ]
     },
     "metadata": {},
     "output_type": "display_data"
    },
    {
     "data": {
      "application/vnd.jupyter.widget-view+json": {
       "model_id": "f8a69f084c4440d890db75deb5815d3e",
       "version_major": 2,
       "version_minor": 0
      },
      "text/plain": [
       "S1BB_20190406T070630_20190512T070631_VVP036_INT40_G_ueF_2830.zip:   0%|          | 0/382432602 [00:00<?, ?it/s…"
      ]
     },
     "metadata": {},
     "output_type": "display_data"
    },
    {
     "data": {
      "application/vnd.jupyter.widget-view+json": {
       "model_id": "c005c4c823c54cc5ad621cf4fbcdb006",
       "version_major": 2,
       "version_minor": 0
      },
      "text/plain": [
       "S1BB_20190406T070630_20190430T070631_VVP024_INT40_G_ueF_8D0E.zip:   0%|          | 0/383193149 [00:00<?, ?it/s…"
      ]
     },
     "metadata": {},
     "output_type": "display_data"
    },
    {
     "data": {
      "application/vnd.jupyter.widget-view+json": {
       "model_id": "d9a0e5c5b00449e78dfadb4f77966a06",
       "version_major": 2,
       "version_minor": 0
      },
      "text/plain": [
       "S1BB_20190325T070629_20190430T070631_VVP036_INT40_G_ueF_C11B.zip:   0%|          | 0/371103600 [00:00<?, ?it/s…"
      ]
     },
     "metadata": {},
     "output_type": "display_data"
    },
    {
     "data": {
      "application/vnd.jupyter.widget-view+json": {
       "model_id": "f01170badd894a678465d20af0a0335c",
       "version_major": 2,
       "version_minor": 0
      },
      "text/plain": [
       "S1BB_20190313T070629_20190430T070631_VVP048_INT40_G_ueF_DD98.zip:   0%|          | 0/378003758 [00:00<?, ?it/s…"
      ]
     },
     "metadata": {},
     "output_type": "display_data"
    },
    {
     "data": {
      "application/vnd.jupyter.widget-view+json": {
       "model_id": "922f8b1d210d4c0e81cec1b0b1920390",
       "version_major": 2,
       "version_minor": 0
      },
      "text/plain": [
       "S1BB_20190301T070629_20190406T070630_VVP036_INT40_G_ueF_67F1.zip:   0%|          | 0/382132030 [00:00<?, ?it/s…"
      ]
     },
     "metadata": {},
     "output_type": "display_data"
    },
    {
     "data": {
      "application/vnd.jupyter.widget-view+json": {
       "model_id": "a578216798b74b73883795c4bee6fcde",
       "version_major": 2,
       "version_minor": 0
      },
      "text/plain": [
       "S1BB_20190313T070629_20190406T070630_VVP024_INT40_G_ueF_3D2C.zip:   0%|          | 0/377984207 [00:00<?, ?it/s…"
      ]
     },
     "metadata": {},
     "output_type": "display_data"
    },
    {
     "data": {
      "application/vnd.jupyter.widget-view+json": {
       "model_id": "4684ff318e9848fe9ee5468425879d8c",
       "version_major": 2,
       "version_minor": 0
      },
      "text/plain": [
       "S1BB_20190325T070629_20190406T070630_VVP012_INT40_G_ueF_EF83.zip:   0%|          | 0/378185756 [00:00<?, ?it/s…"
      ]
     },
     "metadata": {},
     "output_type": "display_data"
    },
    {
     "data": {
      "application/vnd.jupyter.widget-view+json": {
       "model_id": "0b06e0c0aed748ba94d0a79bba840aa5",
       "version_major": 2,
       "version_minor": 0
      },
      "text/plain": [
       "S1BB_20190217T070629_20190325T070629_VVP036_INT40_G_ueF_4FE9.zip:   0%|          | 0/385678243 [00:00<?, ?it/s…"
      ]
     },
     "metadata": {},
     "output_type": "display_data"
    },
    {
     "data": {
      "application/vnd.jupyter.widget-view+json": {
       "model_id": "44ae466a04974974ad3f025cd81af6c0",
       "version_major": 2,
       "version_minor": 0
      },
      "text/plain": [
       "S1BB_20190301T070629_20190325T070629_VVP024_INT40_G_ueF_90B7.zip:   0%|          | 0/381687110 [00:00<?, ?it/s…"
      ]
     },
     "metadata": {},
     "output_type": "display_data"
    },
    {
     "data": {
      "application/vnd.jupyter.widget-view+json": {
       "model_id": "3da76c7dd71744a5aba8b0272e524d49",
       "version_major": 2,
       "version_minor": 0
      },
      "text/plain": [
       "S1BB_20190313T070629_20190325T070629_VVP012_INT40_G_ueF_D42F.zip:   0%|          | 0/376389754 [00:00<?, ?it/s…"
      ]
     },
     "metadata": {},
     "output_type": "display_data"
    },
    {
     "data": {
      "application/vnd.jupyter.widget-view+json": {
       "model_id": "449dbae7c12240ca929527dd2bb56a97",
       "version_major": 2,
       "version_minor": 0
      },
      "text/plain": [
       "S1BB_20190205T070630_20190313T070629_VVP036_INT40_G_ueF_22FD.zip:   0%|          | 0/377834542 [00:00<?, ?it/s…"
      ]
     },
     "metadata": {},
     "output_type": "display_data"
    },
    {
     "data": {
      "application/vnd.jupyter.widget-view+json": {
       "model_id": "1f4474aa2f8b45a78b671500463615cc",
       "version_major": 2,
       "version_minor": 0
      },
      "text/plain": [
       "S1BB_20190217T070629_20190313T070629_VVP024_INT40_G_ueF_3E73.zip:   0%|          | 0/382029573 [00:00<?, ?it/s…"
      ]
     },
     "metadata": {},
     "output_type": "display_data"
    },
    {
     "data": {
      "application/vnd.jupyter.widget-view+json": {
       "model_id": "38fc7f3367c441ff8864031f6dfd50cd",
       "version_major": 2,
       "version_minor": 0
      },
      "text/plain": [
       "S1BB_20190301T070629_20190313T070629_VVP012_INT40_G_ueF_FFD0.zip:   0%|          | 0/375304641 [00:00<?, ?it/s…"
      ]
     },
     "metadata": {},
     "output_type": "display_data"
    },
    {
     "data": {
      "application/vnd.jupyter.widget-view+json": {
       "model_id": "79569a4b1de4457ea7f13623dbc2f922",
       "version_major": 2,
       "version_minor": 0
      },
      "text/plain": [
       "S1BB_20190124T070630_20190301T070629_VVP036_INT40_G_ueF_6610.zip:   0%|          | 0/378921798 [00:00<?, ?it/s…"
      ]
     },
     "metadata": {},
     "output_type": "display_data"
    },
    {
     "data": {
      "application/vnd.jupyter.widget-view+json": {
       "model_id": "29af33b612b24081bd5ff7f8d24e541d",
       "version_major": 2,
       "version_minor": 0
      },
      "text/plain": [
       "S1BB_20190205T070630_20190301T070629_VVP024_INT40_G_ueF_9A2B.zip:   0%|          | 0/380456823 [00:00<?, ?it/s…"
      ]
     },
     "metadata": {},
     "output_type": "display_data"
    },
    {
     "data": {
      "application/vnd.jupyter.widget-view+json": {
       "model_id": "c269670c12104b718817af2a95eb6cf3",
       "version_major": 2,
       "version_minor": 0
      },
      "text/plain": [
       "S1BB_20190217T070629_20190301T070629_VVP012_INT40_G_ueF_879D.zip:   0%|          | 0/382838677 [00:00<?, ?it/s…"
      ]
     },
     "metadata": {},
     "output_type": "display_data"
    },
    {
     "data": {
      "application/vnd.jupyter.widget-view+json": {
       "model_id": "d98aae74a41f4e8cbf8bc3dc00ed15db",
       "version_major": 2,
       "version_minor": 0
      },
      "text/plain": [
       "S1BB_20190112T070630_20190217T070629_VVP036_INT40_G_ueF_9C56.zip:   0%|          | 0/382875428 [00:00<?, ?it/s…"
      ]
     },
     "metadata": {},
     "output_type": "display_data"
    },
    {
     "data": {
      "application/vnd.jupyter.widget-view+json": {
       "model_id": "e42fd710541b4c10b00ced8867ef3703",
       "version_major": 2,
       "version_minor": 0
      },
      "text/plain": [
       "S1BB_20190124T070630_20190217T070629_VVP024_INT40_G_ueF_584F.zip:   0%|          | 0/380583182 [00:00<?, ?it/s…"
      ]
     },
     "metadata": {},
     "output_type": "display_data"
    },
    {
     "data": {
      "application/vnd.jupyter.widget-view+json": {
       "model_id": "c1441d30b7594113989fc9dc9fc8d241",
       "version_major": 2,
       "version_minor": 0
      },
      "text/plain": [
       "S1BB_20190205T070630_20190217T070629_VVP012_INT40_G_ueF_7232.zip:   0%|          | 0/376611546 [00:00<?, ?it/s…"
      ]
     },
     "metadata": {},
     "output_type": "display_data"
    },
    {
     "data": {
      "application/vnd.jupyter.widget-view+json": {
       "model_id": "7927dbcc0332497e98efdc32385679b9",
       "version_major": 2,
       "version_minor": 0
      },
      "text/plain": [
       "S1BB_20181231T070631_20190205T070630_VVP036_INT40_G_ueF_3319.zip:   0%|          | 0/379150743 [00:00<?, ?it/s…"
      ]
     },
     "metadata": {},
     "output_type": "display_data"
    },
    {
     "data": {
      "application/vnd.jupyter.widget-view+json": {
       "model_id": "968cdece8708466a9f8105fe3aebe554",
       "version_major": 2,
       "version_minor": 0
      },
      "text/plain": [
       "S1BB_20190124T070630_20190205T070630_VVP012_INT40_G_ueF_F77F.zip:   0%|          | 0/379007138 [00:00<?, ?it/s…"
      ]
     },
     "metadata": {},
     "output_type": "display_data"
    },
    {
     "data": {
      "application/vnd.jupyter.widget-view+json": {
       "model_id": "3555245cfd1c4e8f95d75ad255aabd4f",
       "version_major": 2,
       "version_minor": 0
      },
      "text/plain": [
       "S1BB_20190112T070630_20190205T070630_VVP024_INT40_G_ueF_C8E4.zip:   0%|          | 0/378046710 [00:00<?, ?it/s…"
      ]
     },
     "metadata": {},
     "output_type": "display_data"
    },
    {
     "data": {
      "application/vnd.jupyter.widget-view+json": {
       "model_id": "3872f9b4ccc84845aa0d4389805764d8",
       "version_major": 2,
       "version_minor": 0
      },
      "text/plain": [
       "S1BB_20181219T070631_20190124T070630_VVP036_INT40_G_ueF_4712.zip:   0%|          | 0/374933602 [00:00<?, ?it/s…"
      ]
     },
     "metadata": {},
     "output_type": "display_data"
    },
    {
     "data": {
      "application/vnd.jupyter.widget-view+json": {
       "model_id": "63099b14a3264855b1182742b09717b4",
       "version_major": 2,
       "version_minor": 0
      },
      "text/plain": [
       "S1BB_20181231T070631_20190124T070630_VVP024_INT40_G_ueF_BF0B.zip:   0%|          | 0/375284637 [00:00<?, ?it/s…"
      ]
     },
     "metadata": {},
     "output_type": "display_data"
    },
    {
     "data": {
      "application/vnd.jupyter.widget-view+json": {
       "model_id": "cdc89d6faeba4d40968824d9a6903347",
       "version_major": 2,
       "version_minor": 0
      },
      "text/plain": [
       "S1BB_20190112T070630_20190124T070630_VVP012_INT40_G_ueF_1FC4.zip:   0%|          | 0/380086770 [00:00<?, ?it/s…"
      ]
     },
     "metadata": {},
     "output_type": "display_data"
    },
    {
     "data": {
      "application/vnd.jupyter.widget-view+json": {
       "model_id": "cf9367b460444f8d9dc39b8b1e0c1046",
       "version_major": 2,
       "version_minor": 0
      },
      "text/plain": [
       "S1BB_20181207T070632_20190112T070630_VVP036_INT40_G_ueF_53BE.zip:   0%|          | 0/379878986 [00:00<?, ?it/s…"
      ]
     },
     "metadata": {},
     "output_type": "display_data"
    },
    {
     "data": {
      "application/vnd.jupyter.widget-view+json": {
       "model_id": "1524b389c60a4cf4989c25d40710458e",
       "version_major": 2,
       "version_minor": 0
      },
      "text/plain": [
       "S1BB_20181219T070631_20190112T070630_VVP024_INT40_G_ueF_3BCE.zip:   0%|          | 0/374154365 [00:00<?, ?it/s…"
      ]
     },
     "metadata": {},
     "output_type": "display_data"
    },
    {
     "data": {
      "application/vnd.jupyter.widget-view+json": {
       "model_id": "36043c28e4e84ab4936682e2cef47877",
       "version_major": 2,
       "version_minor": 0
      },
      "text/plain": [
       "S1BB_20181231T070631_20190112T070630_VVP012_INT40_G_ueF_13B5.zip:   0%|          | 0/379665148 [00:00<?, ?it/s…"
      ]
     },
     "metadata": {},
     "output_type": "display_data"
    },
    {
     "data": {
      "application/vnd.jupyter.widget-view+json": {
       "model_id": "f8e7d8d6dc724ed191b212d46d90fc1f",
       "version_major": 2,
       "version_minor": 0
      },
      "text/plain": [
       "S1BB_20181125T070632_20181231T070631_VVP036_INT40_G_ueF_57D9.zip:   0%|          | 0/380950654 [00:00<?, ?it/s…"
      ]
     },
     "metadata": {},
     "output_type": "display_data"
    },
    {
     "data": {
      "application/vnd.jupyter.widget-view+json": {
       "model_id": "46ff61941e754ca197498ef9d55d716c",
       "version_major": 2,
       "version_minor": 0
      },
      "text/plain": [
       "S1BB_20181207T070632_20181231T070631_VVP024_INT40_G_ueF_E046.zip:   0%|          | 0/376738037 [00:00<?, ?it/s…"
      ]
     },
     "metadata": {},
     "output_type": "display_data"
    },
    {
     "data": {
      "application/vnd.jupyter.widget-view+json": {
       "model_id": "6d23dfb9a946494c897c53a3c450ed15",
       "version_major": 2,
       "version_minor": 0
      },
      "text/plain": [
       "S1BB_20181219T070631_20181231T070631_VVP012_INT40_G_ueF_944F.zip:   0%|          | 0/380714932 [00:00<?, ?it/s…"
      ]
     },
     "metadata": {},
     "output_type": "display_data"
    },
    {
     "data": {
      "application/vnd.jupyter.widget-view+json": {
       "model_id": "91dd096ca074416caba1bf973c67cdf3",
       "version_major": 2,
       "version_minor": 0
      },
      "text/plain": [
       "S1BB_20181125T070632_20181219T070631_VVP024_INT40_G_ueF_084C.zip:   0%|          | 0/382786394 [00:00<?, ?it/s…"
      ]
     },
     "metadata": {},
     "output_type": "display_data"
    },
    {
     "data": {
      "application/vnd.jupyter.widget-view+json": {
       "model_id": "6f9a92362eef4b24b40d152ad3507dae",
       "version_major": 2,
       "version_minor": 0
      },
      "text/plain": [
       "S1BB_20181113T070632_20181219T070631_VVP036_INT40_G_ueF_1FCB.zip:   0%|          | 0/372283957 [00:00<?, ?it/s…"
      ]
     },
     "metadata": {},
     "output_type": "display_data"
    },
    {
     "data": {
      "application/vnd.jupyter.widget-view+json": {
       "model_id": "2891695798a44dcda291b6453ba9aca2",
       "version_major": 2,
       "version_minor": 0
      },
      "text/plain": [
       "S1BB_20181207T070632_20181219T070631_VVP012_INT40_G_ueF_7BB6.zip:   0%|          | 0/379743283 [00:00<?, ?it/s…"
      ]
     },
     "metadata": {},
     "output_type": "display_data"
    },
    {
     "data": {
      "application/vnd.jupyter.widget-view+json": {
       "model_id": "4de9a8bc65e6466c84d7b7c48c52f129",
       "version_major": 2,
       "version_minor": 0
      },
      "text/plain": [
       "S1BB_20181101T070633_20181207T070632_VVP036_INT40_G_ueF_2CF3.zip:   0%|          | 0/391503677 [00:00<?, ?it/s…"
      ]
     },
     "metadata": {},
     "output_type": "display_data"
    },
    {
     "data": {
      "application/vnd.jupyter.widget-view+json": {
       "model_id": "b7b7abfd3df54557af4857be4bf0b68c",
       "version_major": 2,
       "version_minor": 0
      },
      "text/plain": [
       "S1BB_20181113T070632_20181207T070632_VVP024_INT40_G_ueF_EEFF.zip:   0%|          | 0/380695583 [00:00<?, ?it/s…"
      ]
     },
     "metadata": {},
     "output_type": "display_data"
    },
    {
     "data": {
      "application/vnd.jupyter.widget-view+json": {
       "model_id": "5713b1a4deb74ad8aa87f5f13be24f86",
       "version_major": 2,
       "version_minor": 0
      },
      "text/plain": [
       "S1BB_20181125T070632_20181207T070632_VVP012_INT40_G_ueF_F751.zip:   0%|          | 0/380952824 [00:00<?, ?it/s…"
      ]
     },
     "metadata": {},
     "output_type": "display_data"
    },
    {
     "data": {
      "application/vnd.jupyter.widget-view+json": {
       "model_id": "2491caf198d14dfd97b313526003c0c8",
       "version_major": 2,
       "version_minor": 0
      },
      "text/plain": [
       "S1BB_20181020T070633_20181125T070632_VVP036_INT40_G_ueF_8BA3.zip:   0%|          | 0/375110120 [00:00<?, ?it/s…"
      ]
     },
     "metadata": {},
     "output_type": "display_data"
    },
    {
     "data": {
      "application/vnd.jupyter.widget-view+json": {
       "model_id": "52450827216e4461a403d8c83ca5c055",
       "version_major": 2,
       "version_minor": 0
      },
      "text/plain": [
       "S1BB_20181101T070633_20181125T070632_VVP024_INT40_G_ueF_A086.zip:   0%|          | 0/389604915 [00:00<?, ?it/s…"
      ]
     },
     "metadata": {},
     "output_type": "display_data"
    },
    {
     "data": {
      "application/vnd.jupyter.widget-view+json": {
       "model_id": "2e6179f84f45490c91a4e0468a18bc49",
       "version_major": 2,
       "version_minor": 0
      },
      "text/plain": [
       "S1BB_20181113T070632_20181125T070632_VVP012_INT40_G_ueF_3ACC.zip:   0%|          | 0/375648110 [00:00<?, ?it/s…"
      ]
     },
     "metadata": {},
     "output_type": "display_data"
    },
    {
     "data": {
      "application/vnd.jupyter.widget-view+json": {
       "model_id": "e34c22306eb24f408c3891c0c6228daa",
       "version_major": 2,
       "version_minor": 0
      },
      "text/plain": [
       "S1BB_20181020T070633_20181113T070632_VVP024_INT40_G_ueF_2534.zip:   0%|          | 0/373465821 [00:00<?, ?it/s…"
      ]
     },
     "metadata": {},
     "output_type": "display_data"
    },
    {
     "data": {
      "application/vnd.jupyter.widget-view+json": {
       "model_id": "0335378086c94edbad8cfefa80227572",
       "version_major": 2,
       "version_minor": 0
      },
      "text/plain": [
       "S1BB_20181008T070633_20181113T070632_VVP036_INT40_G_ueF_AD57.zip:   0%|          | 0/377747337 [00:00<?, ?it/s…"
      ]
     },
     "metadata": {},
     "output_type": "display_data"
    },
    {
     "data": {
      "application/vnd.jupyter.widget-view+json": {
       "model_id": "0f9449ece45145399853701e90a08f37",
       "version_major": 2,
       "version_minor": 0
      },
      "text/plain": [
       "S1BB_20181101T070633_20181113T070632_VVP012_INT40_G_ueF_E574.zip:   0%|          | 0/385472431 [00:00<?, ?it/s…"
      ]
     },
     "metadata": {},
     "output_type": "display_data"
    },
    {
     "data": {
      "application/vnd.jupyter.widget-view+json": {
       "model_id": "a6aba1a0778042f8bea186a4bdf4b3a8",
       "version_major": 2,
       "version_minor": 0
      },
      "text/plain": [
       "S1BB_20181008T070633_20181101T070633_VVP024_INT40_G_ueF_C4D6.zip:   0%|          | 0/384654000 [00:00<?, ?it/s…"
      ]
     },
     "metadata": {},
     "output_type": "display_data"
    },
    {
     "data": {
      "application/vnd.jupyter.widget-view+json": {
       "model_id": "7ac2c134aaa543779ff877bdf9a05536",
       "version_major": 2,
       "version_minor": 0
      },
      "text/plain": [
       "S1BB_20180926T070632_20181101T070633_VVP036_INT40_G_ueF_0D93.zip:   0%|          | 0/384223828 [00:00<?, ?it/s…"
      ]
     },
     "metadata": {},
     "output_type": "display_data"
    },
    {
     "data": {
      "application/vnd.jupyter.widget-view+json": {
       "model_id": "849141658a15413b9eb26f8a24531d37",
       "version_major": 2,
       "version_minor": 0
      },
      "text/plain": [
       "S1BB_20181020T070633_20181101T070633_VVP012_INT40_G_ueF_CB35.zip:   0%|          | 0/379682194 [00:00<?, ?it/s…"
      ]
     },
     "metadata": {},
     "output_type": "display_data"
    },
    {
     "data": {
      "application/vnd.jupyter.widget-view+json": {
       "model_id": "b308e4dbbf4a4043bb51ea3c1b6c7dcc",
       "version_major": 2,
       "version_minor": 0
      },
      "text/plain": [
       "S1BB_20180914T070632_20181020T070633_VVP036_INT40_G_ueF_5ECC.zip:   0%|          | 0/380606035 [00:00<?, ?it/s…"
      ]
     },
     "metadata": {},
     "output_type": "display_data"
    },
    {
     "data": {
      "application/vnd.jupyter.widget-view+json": {
       "model_id": "2b8ed5753a094549b7447dc64ddc9d25",
       "version_major": 2,
       "version_minor": 0
      },
      "text/plain": [
       "S1BB_20180926T070632_20181020T070633_VVP024_INT40_G_ueF_96FD.zip:   0%|          | 0/384133177 [00:00<?, ?it/s…"
      ]
     },
     "metadata": {},
     "output_type": "display_data"
    },
    {
     "data": {
      "application/vnd.jupyter.widget-view+json": {
       "model_id": "60108e97c07343a680980ce1d283cf07",
       "version_major": 2,
       "version_minor": 0
      },
      "text/plain": [
       "S1BB_20181008T070633_20181020T070633_VVP012_INT40_G_ueF_BBC5.zip:   0%|          | 0/376908326 [00:00<?, ?it/s…"
      ]
     },
     "metadata": {},
     "output_type": "display_data"
    },
    {
     "data": {
      "application/vnd.jupyter.widget-view+json": {
       "model_id": "a0d1bb6b3a284f7fa3041514fbaa1fdf",
       "version_major": 2,
       "version_minor": 0
      },
      "text/plain": [
       "S1BB_20180914T070632_20181008T070633_VVP024_INT40_G_ueF_910A.zip:   0%|          | 0/373521818 [00:00<?, ?it/s…"
      ]
     },
     "metadata": {},
     "output_type": "display_data"
    },
    {
     "data": {
      "application/vnd.jupyter.widget-view+json": {
       "model_id": "d6819783ad2b4a66bbea8dfe44fd06c2",
       "version_major": 2,
       "version_minor": 0
      },
      "text/plain": [
       "S1BB_20180902T070631_20181008T070633_VVP036_INT40_G_ueF_8452.zip:   0%|          | 0/381757313 [00:00<?, ?it/s…"
      ]
     },
     "metadata": {},
     "output_type": "display_data"
    },
    {
     "data": {
      "application/vnd.jupyter.widget-view+json": {
       "model_id": "79679109fbd343b19bf463fa458f9cda",
       "version_major": 2,
       "version_minor": 0
      },
      "text/plain": [
       "S1BB_20180926T070632_20181008T070633_VVP012_INT40_G_ueF_0DCD.zip:   0%|          | 0/376536480 [00:00<?, ?it/s…"
      ]
     },
     "metadata": {},
     "output_type": "display_data"
    },
    {
     "data": {
      "application/vnd.jupyter.widget-view+json": {
       "model_id": "cc36d5d08d114945a202e5c58b3d3e77",
       "version_major": 2,
       "version_minor": 0
      },
      "text/plain": [
       "S1BB_20180821T070631_20180926T070632_VVP036_INT40_G_ueF_5223.zip:   0%|          | 0/378934495 [00:00<?, ?it/s…"
      ]
     },
     "metadata": {},
     "output_type": "display_data"
    },
    {
     "data": {
      "application/vnd.jupyter.widget-view+json": {
       "model_id": "aadd08a5d649498b8b8068d6e206f22b",
       "version_major": 2,
       "version_minor": 0
      },
      "text/plain": [
       "S1BB_20180902T070631_20180926T070632_VVP024_INT40_G_ueF_A514.zip:   0%|          | 0/383105871 [00:00<?, ?it/s…"
      ]
     },
     "metadata": {},
     "output_type": "display_data"
    },
    {
     "data": {
      "application/vnd.jupyter.widget-view+json": {
       "model_id": "1b93ffb3a02045d5b57cba163336e769",
       "version_major": 2,
       "version_minor": 0
      },
      "text/plain": [
       "S1BB_20180914T070632_20180926T070632_VVP012_INT40_G_ueF_1808.zip:   0%|          | 0/383849118 [00:00<?, ?it/s…"
      ]
     },
     "metadata": {},
     "output_type": "display_data"
    },
    {
     "data": {
      "application/vnd.jupyter.widget-view+json": {
       "model_id": "57ed9cce92264b8eb259a1a0465e60f8",
       "version_major": 2,
       "version_minor": 0
      },
      "text/plain": [
       "S1BB_20180821T070631_20180914T070632_VVP024_INT40_G_ueF_1871.zip:   0%|          | 0/378129209 [00:00<?, ?it/s…"
      ]
     },
     "metadata": {},
     "output_type": "display_data"
    },
    {
     "data": {
      "application/vnd.jupyter.widget-view+json": {
       "model_id": "8c8c63aac1c9405fb81a43348ec72ac6",
       "version_major": 2,
       "version_minor": 0
      },
      "text/plain": [
       "S1BB_20180809T070630_20180914T070632_VVP036_INT40_G_ueF_C656.zip:   0%|          | 0/386254175 [00:00<?, ?it/s…"
      ]
     },
     "metadata": {},
     "output_type": "display_data"
    },
    {
     "data": {
      "application/vnd.jupyter.widget-view+json": {
       "model_id": "795796d855734a2d8583f0c7a7364333",
       "version_major": 2,
       "version_minor": 0
      },
      "text/plain": [
       "S1BB_20180902T070631_20180914T070632_VVP012_INT40_G_ueF_DB57.zip:   0%|          | 0/381910669 [00:00<?, ?it/s…"
      ]
     },
     "metadata": {},
     "output_type": "display_data"
    },
    {
     "data": {
      "application/vnd.jupyter.widget-view+json": {
       "model_id": "1a623a4f72764660a39db8467ac62de9",
       "version_major": 2,
       "version_minor": 0
      },
      "text/plain": [
       "S1BB_20180728T070629_20180902T070631_VVP036_INT40_G_ueF_C876.zip:   0%|          | 0/379222635 [00:00<?, ?it/s…"
      ]
     },
     "metadata": {},
     "output_type": "display_data"
    },
    {
     "data": {
      "application/vnd.jupyter.widget-view+json": {
       "model_id": "0abe6919bf9a4c6290676982c05fabe3",
       "version_major": 2,
       "version_minor": 0
      },
      "text/plain": [
       "S1BB_20180821T070631_20180902T070631_VVP012_INT40_G_ueF_E5B0.zip:   0%|          | 0/380364383 [00:00<?, ?it/s…"
      ]
     },
     "metadata": {},
     "output_type": "display_data"
    },
    {
     "data": {
      "application/vnd.jupyter.widget-view+json": {
       "model_id": "1c7335c2a2bc41ecbfb586ac69050a82",
       "version_major": 2,
       "version_minor": 0
      },
      "text/plain": [
       "S1BB_20180809T070630_20180902T070631_VVP024_INT40_G_ueF_2CC9.zip:   0%|          | 0/383931214 [00:00<?, ?it/s…"
      ]
     },
     "metadata": {},
     "output_type": "display_data"
    },
    {
     "data": {
      "application/vnd.jupyter.widget-view+json": {
       "model_id": "b6346e7a5d0d46fb82d1a629605eeae9",
       "version_major": 2,
       "version_minor": 0
      },
      "text/plain": [
       "S1BB_20180716T070629_20180821T070631_VVP036_INT40_G_ueF_96E2.zip:   0%|          | 0/243121232 [00:00<?, ?it/s…"
      ]
     },
     "metadata": {},
     "output_type": "display_data"
    },
    {
     "data": {
      "application/vnd.jupyter.widget-view+json": {
       "model_id": "74a44347aa8f476ab5e8389da7c31c63",
       "version_major": 2,
       "version_minor": 0
      },
      "text/plain": [
       "S1BB_20180728T070629_20180821T070631_VVP024_INT40_G_ueF_407E.zip:   0%|          | 0/380903883 [00:00<?, ?it/s…"
      ]
     },
     "metadata": {},
     "output_type": "display_data"
    },
    {
     "data": {
      "application/vnd.jupyter.widget-view+json": {
       "model_id": "7d62988aa30446c4a52f572a3f773274",
       "version_major": 2,
       "version_minor": 0
      },
      "text/plain": [
       "S1BB_20180809T070630_20180821T070631_VVP012_INT40_G_ueF_8A16.zip:   0%|          | 0/377802826 [00:00<?, ?it/s…"
      ]
     },
     "metadata": {},
     "output_type": "display_data"
    },
    {
     "data": {
      "application/vnd.jupyter.widget-view+json": {
       "model_id": "b74906bf2b624d7dbc0a1344995f2a0d",
       "version_major": 2,
       "version_minor": 0
      },
      "text/plain": [
       "S1BB_20180704T070628_20180809T070630_VVP036_INT40_G_ueF_BA35.zip:   0%|          | 0/245313938 [00:00<?, ?it/s…"
      ]
     },
     "metadata": {},
     "output_type": "display_data"
    },
    {
     "data": {
      "application/vnd.jupyter.widget-view+json": {
       "model_id": "96318bafda444ba3af34f0a959035b9d",
       "version_major": 2,
       "version_minor": 0
      },
      "text/plain": [
       "S1BB_20180716T070629_20180809T070630_VVP024_INT40_G_ueF_C7FF.zip:   0%|          | 0/245484271 [00:00<?, ?it/s…"
      ]
     },
     "metadata": {},
     "output_type": "display_data"
    },
    {
     "data": {
      "application/vnd.jupyter.widget-view+json": {
       "model_id": "0d4eafee5c41469db205cd75d713bfc9",
       "version_major": 2,
       "version_minor": 0
      },
      "text/plain": [
       "S1BB_20180728T070629_20180809T070630_VVP012_INT40_G_ueF_5A6F.zip:   0%|          | 0/383973111 [00:00<?, ?it/s…"
      ]
     },
     "metadata": {},
     "output_type": "display_data"
    },
    {
     "data": {
      "application/vnd.jupyter.widget-view+json": {
       "model_id": "517233bc508a47019ab5166ff4cb6e46",
       "version_major": 2,
       "version_minor": 0
      },
      "text/plain": [
       "S1BB_20180716T070629_20180728T070629_VVP012_INT40_G_ueF_B11D.zip:   0%|          | 0/242099002 [00:00<?, ?it/s…"
      ]
     },
     "metadata": {},
     "output_type": "display_data"
    },
    {
     "data": {
      "application/vnd.jupyter.widget-view+json": {
       "model_id": "02911a22948244b4be7d5f211610c652",
       "version_major": 2,
       "version_minor": 0
      },
      "text/plain": [
       "S1BB_20180622T070627_20180728T070629_VVP036_INT40_G_ueF_70E4.zip:   0%|          | 0/383850139 [00:00<?, ?it/s…"
      ]
     },
     "metadata": {},
     "output_type": "display_data"
    },
    {
     "data": {
      "application/vnd.jupyter.widget-view+json": {
       "model_id": "db83c683eace4a36a70835ddd8b97c63",
       "version_major": 2,
       "version_minor": 0
      },
      "text/plain": [
       "S1BB_20180704T070628_20180728T070629_VVP024_INT40_G_ueF_7BFA.zip:   0%|          | 0/245538856 [00:00<?, ?it/s…"
      ]
     },
     "metadata": {},
     "output_type": "display_data"
    },
    {
     "data": {
      "application/vnd.jupyter.widget-view+json": {
       "model_id": "5809c94723634033a223d101b6a9d3c4",
       "version_major": 2,
       "version_minor": 0
      },
      "text/plain": [
       "S1BB_20180622T070627_20180716T070629_VVP024_INT40_G_ueF_16CB.zip:   0%|          | 0/245761820 [00:00<?, ?it/s…"
      ]
     },
     "metadata": {},
     "output_type": "display_data"
    },
    {
     "data": {
      "application/vnd.jupyter.widget-view+json": {
       "model_id": "c4b0a6882b374ecc911c5d5e18dbd157",
       "version_major": 2,
       "version_minor": 0
      },
      "text/plain": [
       "S1BB_20180704T070628_20180716T070629_VVP012_INT40_G_ueF_A88A.zip:   0%|          | 0/244803885 [00:00<?, ?it/s…"
      ]
     },
     "metadata": {},
     "output_type": "display_data"
    },
    {
     "data": {
      "application/vnd.jupyter.widget-view+json": {
       "model_id": "589c808af9b843afb8cb52a0254a4f0d",
       "version_major": 2,
       "version_minor": 0
      },
      "text/plain": [
       "S1BB_20180610T070627_20180716T070629_VVP036_INT40_G_ueF_988A.zip:   0%|          | 0/243743506 [00:00<?, ?it/s…"
      ]
     },
     "metadata": {},
     "output_type": "display_data"
    },
    {
     "data": {
      "application/vnd.jupyter.widget-view+json": {
       "model_id": "0b56050e04764da3ae6849cda070da1e",
       "version_major": 2,
       "version_minor": 0
      },
      "text/plain": [
       "S1BB_20180529T070626_20180704T070628_VVP036_INT40_G_ueF_957D.zip:   0%|          | 0/250634908 [00:00<?, ?it/s…"
      ]
     },
     "metadata": {},
     "output_type": "display_data"
    },
    {
     "data": {
      "application/vnd.jupyter.widget-view+json": {
       "model_id": "94cfa238eaa248cd8346bdad5c557398",
       "version_major": 2,
       "version_minor": 0
      },
      "text/plain": [
       "S1BB_20180622T070627_20180704T070628_VVP012_INT40_G_ueF_C4C4.zip:   0%|          | 0/243757577 [00:00<?, ?it/s…"
      ]
     },
     "metadata": {},
     "output_type": "display_data"
    },
    {
     "data": {
      "application/vnd.jupyter.widget-view+json": {
       "model_id": "15036664d78c4d5fadee10cb910e481c",
       "version_major": 2,
       "version_minor": 0
      },
      "text/plain": [
       "S1BB_20180610T070627_20180704T070628_VVP024_INT40_G_ueF_E4D3.zip:   0%|          | 0/240986687 [00:00<?, ?it/s…"
      ]
     },
     "metadata": {},
     "output_type": "display_data"
    },
    {
     "data": {
      "application/vnd.jupyter.widget-view+json": {
       "model_id": "996c15dea9bb4987b9053d716d819838",
       "version_major": 2,
       "version_minor": 0
      },
      "text/plain": [
       "S1BB_20180517T070625_20180622T070627_VVP036_INT40_G_ueF_D9B5.zip:   0%|          | 0/382675187 [00:00<?, ?it/s…"
      ]
     },
     "metadata": {},
     "output_type": "display_data"
    },
    {
     "data": {
      "application/vnd.jupyter.widget-view+json": {
       "model_id": "7421507a782f469895017602653d854b",
       "version_major": 2,
       "version_minor": 0
      },
      "text/plain": [
       "S1BB_20180529T070626_20180622T070627_VVP024_INT40_G_ueF_D57A.zip:   0%|          | 0/387659048 [00:00<?, ?it/s…"
      ]
     },
     "metadata": {},
     "output_type": "display_data"
    },
    {
     "data": {
      "application/vnd.jupyter.widget-view+json": {
       "model_id": "9540642e922041619b39205fba775a7d",
       "version_major": 2,
       "version_minor": 0
      },
      "text/plain": [
       "S1BB_20180610T070627_20180622T070627_VVP012_INT40_G_ueF_4A7B.zip:   0%|          | 0/379614035 [00:00<?, ?it/s…"
      ]
     },
     "metadata": {},
     "output_type": "display_data"
    },
    {
     "data": {
      "application/vnd.jupyter.widget-view+json": {
       "model_id": "8a883394b8054dc2a85e822259e52b11",
       "version_major": 2,
       "version_minor": 0
      },
      "text/plain": [
       "S1BB_20180505T070624_20180610T070627_VVP036_INT40_G_ueF_0B70.zip:   0%|          | 0/374567335 [00:00<?, ?it/s…"
      ]
     },
     "metadata": {},
     "output_type": "display_data"
    },
    {
     "data": {
      "application/vnd.jupyter.widget-view+json": {
       "model_id": "e008991947fc42f8a3277fb21a562299",
       "version_major": 2,
       "version_minor": 0
      },
      "text/plain": [
       "S1BB_20180529T070626_20180610T070627_VVP012_INT40_G_ueF_D279.zip:   0%|          | 0/386625674 [00:00<?, ?it/s…"
      ]
     },
     "metadata": {},
     "output_type": "display_data"
    },
    {
     "data": {
      "application/vnd.jupyter.widget-view+json": {
       "model_id": "8e338ea62b7149029d915652984285fe",
       "version_major": 2,
       "version_minor": 0
      },
      "text/plain": [
       "S1BB_20180517T070625_20180610T070627_VVP024_INT40_G_ueF_75B0.zip:   0%|          | 0/382753340 [00:00<?, ?it/s…"
      ]
     },
     "metadata": {},
     "output_type": "display_data"
    },
    {
     "data": {
      "application/vnd.jupyter.widget-view+json": {
       "model_id": "dc2ff2f4aa43498da1cdc7abbe185643",
       "version_major": 2,
       "version_minor": 0
      },
      "text/plain": [
       "S1BB_20180423T070624_20180529T070626_VVP036_INT40_G_ueF_E2DE.zip:   0%|          | 0/381952503 [00:00<?, ?it/s…"
      ]
     },
     "metadata": {},
     "output_type": "display_data"
    },
    {
     "data": {
      "application/vnd.jupyter.widget-view+json": {
       "model_id": "89f6b60d4a2c4e52b0e5763539725686",
       "version_major": 2,
       "version_minor": 0
      },
      "text/plain": [
       "S1BB_20180505T070624_20180529T070626_VVP024_INT40_G_ueF_0E02.zip:   0%|          | 0/380367346 [00:00<?, ?it/s…"
      ]
     },
     "metadata": {},
     "output_type": "display_data"
    },
    {
     "data": {
      "application/vnd.jupyter.widget-view+json": {
       "model_id": "a787a4be12e24081ac13ebe14b0fed6c",
       "version_major": 2,
       "version_minor": 0
      },
      "text/plain": [
       "S1BB_20180517T070625_20180529T070626_VVP012_INT40_G_ueF_B06F.zip:   0%|          | 0/382769791 [00:00<?, ?it/s…"
      ]
     },
     "metadata": {},
     "output_type": "display_data"
    },
    {
     "data": {
      "application/vnd.jupyter.widget-view+json": {
       "model_id": "261b71f580ba47af9c624bcea06f06e6",
       "version_major": 2,
       "version_minor": 0
      },
      "text/plain": [
       "S1BB_20180411T070623_20180517T070625_VVP036_INT40_G_ueF_D4B2.zip:   0%|          | 0/387581020 [00:00<?, ?it/s…"
      ]
     },
     "metadata": {},
     "output_type": "display_data"
    },
    {
     "data": {
      "application/vnd.jupyter.widget-view+json": {
       "model_id": "46e35e3b2c0a4584afe400ad59e5c258",
       "version_major": 2,
       "version_minor": 0
      },
      "text/plain": [
       "S1BB_20180423T070624_20180517T070625_VVP024_INT40_G_ueF_0B0D.zip:   0%|          | 0/381695687 [00:00<?, ?it/s…"
      ]
     },
     "metadata": {},
     "output_type": "display_data"
    },
    {
     "data": {
      "application/vnd.jupyter.widget-view+json": {
       "model_id": "9b04c05175ba4461a87069cb8ce28e12",
       "version_major": 2,
       "version_minor": 0
      },
      "text/plain": [
       "S1BB_20180505T070624_20180517T070625_VVP012_INT40_G_ueF_FC01.zip:   0%|          | 0/378959141 [00:00<?, ?it/s…"
      ]
     },
     "metadata": {},
     "output_type": "display_data"
    },
    {
     "data": {
      "application/vnd.jupyter.widget-view+json": {
       "model_id": "7f1e27471a1045998cee91aab7a048bb",
       "version_major": 2,
       "version_minor": 0
      },
      "text/plain": [
       "S1BB_20180330T070623_20180505T070624_VVP036_INT40_G_ueF_C8AB.zip:   0%|          | 0/371779894 [00:00<?, ?it/s…"
      ]
     },
     "metadata": {},
     "output_type": "display_data"
    },
    {
     "data": {
      "application/vnd.jupyter.widget-view+json": {
       "model_id": "04e1ad4e5e2341af9ad18548ba090836",
       "version_major": 2,
       "version_minor": 0
      },
      "text/plain": [
       "S1BB_20180411T070623_20180505T070624_VVP024_INT40_G_ueF_F243.zip:   0%|          | 0/384033528 [00:00<?, ?it/s…"
      ]
     },
     "metadata": {},
     "output_type": "display_data"
    },
    {
     "data": {
      "application/vnd.jupyter.widget-view+json": {
       "model_id": "64e4a152c64b427d8d56d17c2f1bc371",
       "version_major": 2,
       "version_minor": 0
      },
      "text/plain": [
       "S1BB_20180423T070624_20180505T070624_VVP012_INT40_G_ueF_45AF.zip:   0%|          | 0/377412682 [00:00<?, ?it/s…"
      ]
     },
     "metadata": {},
     "output_type": "display_data"
    },
    {
     "data": {
      "application/vnd.jupyter.widget-view+json": {
       "model_id": "5b6230d413ec41288d8fddb270f2bad3",
       "version_major": 2,
       "version_minor": 0
      },
      "text/plain": [
       "S1BB_20180318T070623_20180423T070624_VVP036_INT40_G_ueF_4AD1.zip:   0%|          | 0/378987148 [00:00<?, ?it/s…"
      ]
     },
     "metadata": {},
     "output_type": "display_data"
    },
    {
     "data": {
      "application/vnd.jupyter.widget-view+json": {
       "model_id": "b5e97086020a424fb172cd685d791d40",
       "version_major": 2,
       "version_minor": 0
      },
      "text/plain": [
       "S1BB_20180330T070623_20180423T070624_VVP024_INT40_G_ueF_BA71.zip:   0%|          | 0/367987240 [00:00<?, ?it/s…"
      ]
     },
     "metadata": {},
     "output_type": "display_data"
    },
    {
     "data": {
      "application/vnd.jupyter.widget-view+json": {
       "model_id": "53f24d99e45242a8ab54110c5da1d50c",
       "version_major": 2,
       "version_minor": 0
      },
      "text/plain": [
       "S1BB_20180411T070623_20180423T070624_VVP012_INT40_G_ueF_1135.zip:   0%|          | 0/390147285 [00:00<?, ?it/s…"
      ]
     },
     "metadata": {},
     "output_type": "display_data"
    },
    {
     "data": {
      "application/vnd.jupyter.widget-view+json": {
       "model_id": "a37ca437f3d94b4885b1497e9272cee8",
       "version_major": 2,
       "version_minor": 0
      },
      "text/plain": [
       "S1BB_20180306T070623_20180411T070623_VVP036_INT40_G_ueF_F61C.zip:   0%|          | 0/378012422 [00:00<?, ?it/s…"
      ]
     },
     "metadata": {},
     "output_type": "display_data"
    },
    {
     "data": {
      "application/vnd.jupyter.widget-view+json": {
       "model_id": "24bedc62b5e24504859894fdafc28f30",
       "version_major": 2,
       "version_minor": 0
      },
      "text/plain": [
       "S1BB_20180330T070623_20180411T070623_VVP012_INT40_G_ueF_7016.zip:   0%|          | 0/368325334 [00:00<?, ?it/s…"
      ]
     },
     "metadata": {},
     "output_type": "display_data"
    },
    {
     "data": {
      "application/vnd.jupyter.widget-view+json": {
       "model_id": "e6661c117d1942978649b730f8bbfac9",
       "version_major": 2,
       "version_minor": 0
      },
      "text/plain": [
       "S1BB_20180318T070623_20180411T070623_VVP024_INT40_G_ueF_76A2.zip:   0%|          | 0/378869659 [00:00<?, ?it/s…"
      ]
     },
     "metadata": {},
     "output_type": "display_data"
    },
    {
     "data": {
      "application/vnd.jupyter.widget-view+json": {
       "model_id": "b7adbf807e1f4ae1805133a08cd23e8a",
       "version_major": 2,
       "version_minor": 0
      },
      "text/plain": [
       "S1BB_20180222T070622_20180330T070623_VVP036_INT40_G_ueF_3222.zip:   0%|          | 0/381987026 [00:00<?, ?it/s…"
      ]
     },
     "metadata": {},
     "output_type": "display_data"
    },
    {
     "data": {
      "application/vnd.jupyter.widget-view+json": {
       "model_id": "731bc45240ea4ee49df9efd00fb69c15",
       "version_major": 2,
       "version_minor": 0
      },
      "text/plain": [
       "S1BB_20180306T070623_20180330T070623_VVP024_INT40_G_ueF_D8B7.zip:   0%|          | 0/378774998 [00:00<?, ?it/s…"
      ]
     },
     "metadata": {},
     "output_type": "display_data"
    },
    {
     "data": {
      "application/vnd.jupyter.widget-view+json": {
       "model_id": "238cffa94f784a279d2d995d26efdbc9",
       "version_major": 2,
       "version_minor": 0
      },
      "text/plain": [
       "S1BB_20180318T070623_20180330T070623_VVP012_INT40_G_ueF_6E98.zip:   0%|          | 0/380267000 [00:00<?, ?it/s…"
      ]
     },
     "metadata": {},
     "output_type": "display_data"
    },
    {
     "data": {
      "application/vnd.jupyter.widget-view+json": {
       "model_id": "bb165f60f46541e5a89af75ba993f274",
       "version_major": 2,
       "version_minor": 0
      },
      "text/plain": [
       "S1BB_20180210T070623_20180318T070623_VVP036_INT40_G_ueF_245D.zip:   0%|          | 0/374781075 [00:00<?, ?it/s…"
      ]
     },
     "metadata": {},
     "output_type": "display_data"
    },
    {
     "data": {
      "application/vnd.jupyter.widget-view+json": {
       "model_id": "d1ceb6dcc35b4061bdf9d981f9a12275",
       "version_major": 2,
       "version_minor": 0
      },
      "text/plain": [
       "S1BB_20180306T070623_20180318T070623_VVP012_INT40_G_ueF_1E19.zip:   0%|          | 0/380585091 [00:00<?, ?it/s…"
      ]
     },
     "metadata": {},
     "output_type": "display_data"
    },
    {
     "data": {
      "application/vnd.jupyter.widget-view+json": {
       "model_id": "211955d486594e7f80842e5ff3d0a7cc",
       "version_major": 2,
       "version_minor": 0
      },
      "text/plain": [
       "S1BB_20180222T070622_20180318T070623_VVP024_INT40_G_ueF_62A7.zip:   0%|          | 0/378021957 [00:00<?, ?it/s…"
      ]
     },
     "metadata": {},
     "output_type": "display_data"
    },
    {
     "data": {
      "application/vnd.jupyter.widget-view+json": {
       "model_id": "1bf4a208db3a401f9fc7b1e622a7ac2f",
       "version_major": 2,
       "version_minor": 0
      },
      "text/plain": [
       "S1BB_20180129T070623_20180306T070623_VVP036_INT40_G_ueF_16D5.zip:   0%|          | 0/381078169 [00:00<?, ?it/s…"
      ]
     },
     "metadata": {},
     "output_type": "display_data"
    },
    {
     "data": {
      "application/vnd.jupyter.widget-view+json": {
       "model_id": "341c77593a004888b8efcf14c801c4a4",
       "version_major": 2,
       "version_minor": 0
      },
      "text/plain": [
       "S1BB_20180210T070623_20180306T070623_VVP024_INT40_G_ueF_EFA7.zip:   0%|          | 0/378017853 [00:00<?, ?it/s…"
      ]
     },
     "metadata": {},
     "output_type": "display_data"
    },
    {
     "data": {
      "application/vnd.jupyter.widget-view+json": {
       "model_id": "3a18db55d6984e27b5e91d7927b7ac78",
       "version_major": 2,
       "version_minor": 0
      },
      "text/plain": [
       "S1BB_20180222T070622_20180306T070623_VVP012_INT40_G_ueF_81CE.zip:   0%|          | 0/381322211 [00:00<?, ?it/s…"
      ]
     },
     "metadata": {},
     "output_type": "display_data"
    },
    {
     "data": {
      "application/vnd.jupyter.widget-view+json": {
       "model_id": "b7a9c3b72cc84431a6e0b519e1d8e865",
       "version_major": 2,
       "version_minor": 0
      },
      "text/plain": [
       "S1BB_20180129T070623_20180222T070622_VVP024_INT40_G_ueF_9560.zip:   0%|          | 0/381055723 [00:00<?, ?it/s…"
      ]
     },
     "metadata": {},
     "output_type": "display_data"
    },
    {
     "data": {
      "application/vnd.jupyter.widget-view+json": {
       "model_id": "a6efc1c54968419aa28670525b546fe3",
       "version_major": 2,
       "version_minor": 0
      },
      "text/plain": [
       "S1BB_20180117T070623_20180222T070622_VVP036_INT40_G_ueF_F90E.zip:   0%|          | 0/379753772 [00:00<?, ?it/s…"
      ]
     },
     "metadata": {},
     "output_type": "display_data"
    },
    {
     "data": {
      "application/vnd.jupyter.widget-view+json": {
       "model_id": "4bfe3df391714be5aa5eef9021da1841",
       "version_major": 2,
       "version_minor": 0
      },
      "text/plain": [
       "S1BB_20180210T070623_20180222T070622_VVP012_INT40_G_ueF_C723.zip:   0%|          | 0/372013229 [00:00<?, ?it/s…"
      ]
     },
     "metadata": {},
     "output_type": "display_data"
    },
    {
     "data": {
      "application/vnd.jupyter.widget-view+json": {
       "model_id": "c273f4a90de0457d9174d1fdcdd65725",
       "version_major": 2,
       "version_minor": 0
      },
      "text/plain": [
       "S1BB_20180105T070624_20180210T070623_VVP036_INT40_G_ueF_278F.zip:   0%|          | 0/377858369 [00:00<?, ?it/s…"
      ]
     },
     "metadata": {},
     "output_type": "display_data"
    },
    {
     "data": {
      "application/vnd.jupyter.widget-view+json": {
       "model_id": "90073d21f0484c5f95c685e69e49bda0",
       "version_major": 2,
       "version_minor": 0
      },
      "text/plain": [
       "S1BB_20180129T070623_20180210T070623_VVP012_INT40_G_ueF_ED76.zip:   0%|          | 0/374417993 [00:00<?, ?it/s…"
      ]
     },
     "metadata": {},
     "output_type": "display_data"
    },
    {
     "data": {
      "application/vnd.jupyter.widget-view+json": {
       "model_id": "9e034143d70d4cc2a09fd34a6e5f7c15",
       "version_major": 2,
       "version_minor": 0
      },
      "text/plain": [
       "S1BB_20180117T070623_20180210T070623_VVP024_INT40_G_ueF_2A64.zip:   0%|          | 0/381947341 [00:00<?, ?it/s…"
      ]
     },
     "metadata": {},
     "output_type": "display_data"
    },
    {
     "data": {
      "application/vnd.jupyter.widget-view+json": {
       "model_id": "88633d283a1f4f15938366a892d06ee3",
       "version_major": 2,
       "version_minor": 0
      },
      "text/plain": [
       "S1BB_20180105T070624_20180129T070623_VVP024_INT40_G_ueF_6F1E.zip:   0%|          | 0/380422537 [00:00<?, ?it/s…"
      ]
     },
     "metadata": {},
     "output_type": "display_data"
    },
    {
     "data": {
      "application/vnd.jupyter.widget-view+json": {
       "model_id": "e596e786f1ca4c7cae0c48f133dc3133",
       "version_major": 2,
       "version_minor": 0
      },
      "text/plain": [
       "S1BB_20171224T070624_20180129T070623_VVP036_INT40_G_ueF_1D60.zip:   0%|          | 0/374352573 [00:00<?, ?it/s…"
      ]
     },
     "metadata": {},
     "output_type": "display_data"
    },
    {
     "data": {
      "application/vnd.jupyter.widget-view+json": {
       "model_id": "bfe0f538d36e40e69f27f46bb2365ab0",
       "version_major": 2,
       "version_minor": 0
      },
      "text/plain": [
       "S1BB_20180117T070623_20180129T070623_VVP012_INT40_G_ueF_439A.zip:   0%|          | 0/375876392 [00:00<?, ?it/s…"
      ]
     },
     "metadata": {},
     "output_type": "display_data"
    },
    {
     "data": {
      "application/vnd.jupyter.widget-view+json": {
       "model_id": "36235fe31dbf40b1a21c1713bc615b47",
       "version_major": 2,
       "version_minor": 0
      },
      "text/plain": [
       "S1BB_20171212T070625_20180117T070623_VVP036_INT40_G_ueF_A930.zip:   0%|          | 0/380165131 [00:00<?, ?it/s…"
      ]
     },
     "metadata": {},
     "output_type": "display_data"
    },
    {
     "data": {
      "application/vnd.jupyter.widget-view+json": {
       "model_id": "0efca29bfb5243c1b7c310248eac0bd8",
       "version_major": 2,
       "version_minor": 0
      },
      "text/plain": [
       "S1BB_20180105T070624_20180117T070623_VVP012_INT40_G_ueF_D024.zip:   0%|          | 0/384229908 [00:00<?, ?it/s…"
      ]
     },
     "metadata": {},
     "output_type": "display_data"
    },
    {
     "data": {
      "application/vnd.jupyter.widget-view+json": {
       "model_id": "c7ab1aafb5954356939d6a3096511a71",
       "version_major": 2,
       "version_minor": 0
      },
      "text/plain": [
       "S1BB_20171224T070624_20180117T070623_VVP024_INT40_G_ueF_E6B9.zip:   0%|          | 0/375552185 [00:00<?, ?it/s…"
      ]
     },
     "metadata": {},
     "output_type": "display_data"
    },
    {
     "data": {
      "application/vnd.jupyter.widget-view+json": {
       "model_id": "844c35ca5a314ded92e01be3e1f479c2",
       "version_major": 2,
       "version_minor": 0
      },
      "text/plain": [
       "S1BB_20171130T070625_20180105T070624_VVP036_INT40_G_ueF_F516.zip:   0%|          | 0/375725464 [00:00<?, ?it/s…"
      ]
     },
     "metadata": {},
     "output_type": "display_data"
    },
    {
     "data": {
      "application/vnd.jupyter.widget-view+json": {
       "model_id": "4e483ed3111e4218b6da418b4d853dc6",
       "version_major": 2,
       "version_minor": 0
      },
      "text/plain": [
       "S1BB_20171212T070625_20180105T070624_VVP024_INT40_G_ueF_8AC1.zip:   0%|          | 0/381566792 [00:00<?, ?it/s…"
      ]
     },
     "metadata": {},
     "output_type": "display_data"
    },
    {
     "data": {
      "application/vnd.jupyter.widget-view+json": {
       "model_id": "4cf8caf21dd34302a86f7826ed7f6a17",
       "version_major": 2,
       "version_minor": 0
      },
      "text/plain": [
       "S1BB_20171224T070624_20180105T070624_VVP012_INT40_G_ueF_0A8B.zip:   0%|          | 0/724966736 [00:00<?, ?it/s…"
      ]
     },
     "metadata": {},
     "output_type": "display_data"
    }
   ],
   "source": [
    "#filter to only succeeded jobs\n",
    "succeeded_jobs = batch.filter_jobs(succeeded=True, running=False, failed=False)\n",
    "\n",
    "#download files if not downloaded already\n",
    "for job in succeeded_jobs.jobs:\n",
    "    filename = job.to_dict()['files'][0]['filename']\n",
    "    location = os.path.join(project_name,filename)\n",
    "    if not os.path.exists(location):\n",
    "        job.download_files(location=project_name,create=True)"
   ]
  },
  {
   "cell_type": "code",
   "execution_count": 22,
   "metadata": {},
   "outputs": [
    {
     "data": {
      "application/vnd.jupyter.widget-view+json": {
       "model_id": "7321d015f46f438f825b0e80eff55f1c",
       "version_major": 2,
       "version_minor": 0
      },
      "text/plain": [
       "  0%|          | 0/278 [00:00<?, ?it/s]"
      ]
     },
     "metadata": {},
     "output_type": "display_data"
    }
   ],
   "source": [
    "# project_name = 'tongariro_asc'\n",
    "\n",
    "zips = glob.glob(os.path.join(project_name,'*.zip'))\n",
    "unws = [[x,f'{os.path.join(x.split(\".\")[0],os.path.basename(x).split(\".\")[0])}_unw_phase.tif'] for x in zips]\n",
    "\n",
    "zips = [x[0] for x in unws if not os.path.exists(x[1])]\n",
    "folders = [x.split('.')[0] for x in zips]\n",
    "\n",
    "bad_files=[]\n",
    "\n",
    "for zip_file, folder in tqdm(zip(zips, folders), total=len(zips)):\n",
    "    try:\n",
    "        with zipfile.ZipFile(zip_file, 'r') as zip_ref:\n",
    "            zip_ref.extractall(project_name)\n",
    "    except BadZipFile:\n",
    "        bad_files.append(os.path.basename(zip_file))\n",
    "\n",
    "if len(bad_files) > 0:\n",
    "    print(f'These files were invalid zips:\\n{bad_files}')"
   ]
  },
  {
   "cell_type": "code",
   "execution_count": 23,
   "metadata": {},
   "outputs": [
    {
     "name": "stdout",
     "output_type": "stream",
     "text": [
      "Clipping coordinates: (266020.0, 5753820.0, 548860.0, 5551620.0)\n",
      "Found overlap size of 7071x5055\n",
      "Pixsize : x = 40.0 y = -40.0\n",
      "    clipping file p81f1048_10x2_2/S1BB_20171224T070624_20180105T070624_VVP012_INT40_G_ueF_0A8B/S1BB_20171224T070624_20180105T070624_VVP012_INT40_G_ueF_0A8B_dem.tif to create file p81f1048_10x2_2/S1BB_20171224T070624_20180105T070624_VVP012_INT40_G_ueF_0A8B/S1BB_20171224T070624_20180105T070624_VVP012_INT40_G_ueF_0A8B_dem_clip.tif\n",
      "    clipping file p81f1048_10x2_2/S1BB_20171224T070624_20180105T070624_VVP012_INT40_G_ueF_0A8B/S1BB_20171224T070624_20180105T070624_VVP012_INT40_G_ueF_0A8B_inc_map.tif to create file p81f1048_10x2_2/S1BB_20171224T070624_20180105T070624_VVP012_INT40_G_ueF_0A8B/S1BB_20171224T070624_20180105T070624_VVP012_INT40_G_ueF_0A8B_inc_map_clip.tif\n",
      "    clipping file p81f1048_10x2_2/S1BB_20210218T070641_20210326T070641_VVP036_INT40_G_ueF_10FF/S1BB_20210218T070641_20210326T070641_VVP036_INT40_G_ueF_10FF_unw_phase.tif to create file p81f1048_10x2_2/S1BB_20210218T070641_20210326T070641_VVP036_INT40_G_ueF_10FF/S1BB_20210218T070641_20210326T070641_VVP036_INT40_G_ueF_10FF_unw_phase_clip.tif\n",
      "    clipping file p81f1048_10x2_2/S1BB_20210302T070641_20210326T070641_VVP024_INT40_G_ueF_79BB/S1BB_20210302T070641_20210326T070641_VVP024_INT40_G_ueF_79BB_unw_phase.tif to create file p81f1048_10x2_2/S1BB_20210302T070641_20210326T070641_VVP024_INT40_G_ueF_79BB/S1BB_20210302T070641_20210326T070641_VVP024_INT40_G_ueF_79BB_unw_phase_clip.tif\n",
      "    clipping file p81f1048_10x2_2/S1BB_20210314T070641_20210326T070641_VVP012_INT40_G_ueF_3BF5/S1BB_20210314T070641_20210326T070641_VVP012_INT40_G_ueF_3BF5_unw_phase.tif to create file p81f1048_10x2_2/S1BB_20210314T070641_20210326T070641_VVP012_INT40_G_ueF_3BF5/S1BB_20210314T070641_20210326T070641_VVP012_INT40_G_ueF_3BF5_unw_phase_clip.tif\n",
      "    clipping file p81f1048_10x2_2/S1BB_20210206T070642_20210314T070641_VVP036_INT40_G_ueF_88DA/S1BB_20210206T070642_20210314T070641_VVP036_INT40_G_ueF_88DA_unw_phase.tif to create file p81f1048_10x2_2/S1BB_20210206T070642_20210314T070641_VVP036_INT40_G_ueF_88DA/S1BB_20210206T070642_20210314T070641_VVP036_INT40_G_ueF_88DA_unw_phase_clip.tif\n",
      "    clipping file p81f1048_10x2_2/S1BB_20210218T070641_20210314T070641_VVP024_INT40_G_ueF_E3E7/S1BB_20210218T070641_20210314T070641_VVP024_INT40_G_ueF_E3E7_unw_phase.tif to create file p81f1048_10x2_2/S1BB_20210218T070641_20210314T070641_VVP024_INT40_G_ueF_E3E7/S1BB_20210218T070641_20210314T070641_VVP024_INT40_G_ueF_E3E7_unw_phase_clip.tif\n",
      "    clipping file p81f1048_10x2_2/S1BB_20210302T070641_20210314T070641_VVP012_INT40_G_ueF_3140/S1BB_20210302T070641_20210314T070641_VVP012_INT40_G_ueF_3140_unw_phase.tif to create file p81f1048_10x2_2/S1BB_20210302T070641_20210314T070641_VVP012_INT40_G_ueF_3140/S1BB_20210302T070641_20210314T070641_VVP012_INT40_G_ueF_3140_unw_phase_clip.tif\n",
      "    clipping file p81f1048_10x2_2/S1BB_20210125T070642_20210302T070641_VVP036_INT40_G_ueF_E1ED/S1BB_20210125T070642_20210302T070641_VVP036_INT40_G_ueF_E1ED_unw_phase.tif to create file p81f1048_10x2_2/S1BB_20210125T070642_20210302T070641_VVP036_INT40_G_ueF_E1ED/S1BB_20210125T070642_20210302T070641_VVP036_INT40_G_ueF_E1ED_unw_phase_clip.tif\n",
      "    clipping file p81f1048_10x2_2/S1BB_20210206T070642_20210302T070641_VVP024_INT40_G_ueF_892B/S1BB_20210206T070642_20210302T070641_VVP024_INT40_G_ueF_892B_unw_phase.tif to create file p81f1048_10x2_2/S1BB_20210206T070642_20210302T070641_VVP024_INT40_G_ueF_892B/S1BB_20210206T070642_20210302T070641_VVP024_INT40_G_ueF_892B_unw_phase_clip.tif\n",
      "    clipping file p81f1048_10x2_2/S1BB_20210218T070641_20210302T070641_VVP012_INT40_G_ueF_0456/S1BB_20210218T070641_20210302T070641_VVP012_INT40_G_ueF_0456_unw_phase.tif to create file p81f1048_10x2_2/S1BB_20210218T070641_20210302T070641_VVP012_INT40_G_ueF_0456/S1BB_20210218T070641_20210302T070641_VVP012_INT40_G_ueF_0456_unw_phase_clip.tif\n",
      "    clipping file p81f1048_10x2_2/S1BB_20210125T070642_20210218T070641_VVP024_INT40_G_ueF_F9A2/S1BB_20210125T070642_20210218T070641_VVP024_INT40_G_ueF_F9A2_unw_phase.tif to create file p81f1048_10x2_2/S1BB_20210125T070642_20210218T070641_VVP024_INT40_G_ueF_F9A2/S1BB_20210125T070642_20210218T070641_VVP024_INT40_G_ueF_F9A2_unw_phase_clip.tif\n",
      "    clipping file p81f1048_10x2_2/S1BB_20210113T070643_20210218T070641_VVP036_INT40_G_ueF_DAF1/S1BB_20210113T070643_20210218T070641_VVP036_INT40_G_ueF_DAF1_unw_phase.tif to create file p81f1048_10x2_2/S1BB_20210113T070643_20210218T070641_VVP036_INT40_G_ueF_DAF1/S1BB_20210113T070643_20210218T070641_VVP036_INT40_G_ueF_DAF1_unw_phase_clip.tif\n",
      "    clipping file p81f1048_10x2_2/S1BB_20210206T070642_20210218T070641_VVP012_INT40_G_ueF_B1C9/S1BB_20210206T070642_20210218T070641_VVP012_INT40_G_ueF_B1C9_unw_phase.tif to create file p81f1048_10x2_2/S1BB_20210206T070642_20210218T070641_VVP012_INT40_G_ueF_B1C9/S1BB_20210206T070642_20210218T070641_VVP012_INT40_G_ueF_B1C9_unw_phase_clip.tif\n",
      "    clipping file p81f1048_10x2_2/S1BB_20210101T070643_20210206T070642_VVP036_INT40_G_ueF_0EC9/S1BB_20210101T070643_20210206T070642_VVP036_INT40_G_ueF_0EC9_unw_phase.tif to create file p81f1048_10x2_2/S1BB_20210101T070643_20210206T070642_VVP036_INT40_G_ueF_0EC9/S1BB_20210101T070643_20210206T070642_VVP036_INT40_G_ueF_0EC9_unw_phase_clip.tif\n",
      "    clipping file p81f1048_10x2_2/S1BB_20210113T070643_20210206T070642_VVP024_INT40_G_ueF_ACC6/S1BB_20210113T070643_20210206T070642_VVP024_INT40_G_ueF_ACC6_unw_phase.tif to create file p81f1048_10x2_2/S1BB_20210113T070643_20210206T070642_VVP024_INT40_G_ueF_ACC6/S1BB_20210113T070643_20210206T070642_VVP024_INT40_G_ueF_ACC6_unw_phase_clip.tif\n",
      "    clipping file p81f1048_10x2_2/S1BB_20210125T070642_20210206T070642_VVP012_INT40_G_ueF_BF84/S1BB_20210125T070642_20210206T070642_VVP012_INT40_G_ueF_BF84_unw_phase.tif to create file p81f1048_10x2_2/S1BB_20210125T070642_20210206T070642_VVP012_INT40_G_ueF_BF84/S1BB_20210125T070642_20210206T070642_VVP012_INT40_G_ueF_BF84_unw_phase_clip.tif\n",
      "    clipping file p81f1048_10x2_2/S1BB_20201220T070644_20210125T070642_VVP036_INT40_G_ueF_C5DC/S1BB_20201220T070644_20210125T070642_VVP036_INT40_G_ueF_C5DC_unw_phase.tif to create file p81f1048_10x2_2/S1BB_20201220T070644_20210125T070642_VVP036_INT40_G_ueF_C5DC/S1BB_20201220T070644_20210125T070642_VVP036_INT40_G_ueF_C5DC_unw_phase_clip.tif\n",
      "    clipping file p81f1048_10x2_2/S1BB_20210113T070643_20210125T070642_VVP012_INT40_G_ueF_2081/S1BB_20210113T070643_20210125T070642_VVP012_INT40_G_ueF_2081_unw_phase.tif to create file p81f1048_10x2_2/S1BB_20210113T070643_20210125T070642_VVP012_INT40_G_ueF_2081/S1BB_20210113T070643_20210125T070642_VVP012_INT40_G_ueF_2081_unw_phase_clip.tif\n",
      "    clipping file p81f1048_10x2_2/S1BB_20210101T070643_20210125T070642_VVP024_INT40_G_ueF_19EC/S1BB_20210101T070643_20210125T070642_VVP024_INT40_G_ueF_19EC_unw_phase.tif to create file p81f1048_10x2_2/S1BB_20210101T070643_20210125T070642_VVP024_INT40_G_ueF_19EC/S1BB_20210101T070643_20210125T070642_VVP024_INT40_G_ueF_19EC_unw_phase_clip.tif\n",
      "    clipping file p81f1048_10x2_2/S1BB_20201126T070645_20210113T070643_VVP048_INT40_G_ueF_1965/S1BB_20201126T070645_20210113T070643_VVP048_INT40_G_ueF_1965_unw_phase.tif to create file p81f1048_10x2_2/S1BB_20201126T070645_20210113T070643_VVP048_INT40_G_ueF_1965/S1BB_20201126T070645_20210113T070643_VVP048_INT40_G_ueF_1965_unw_phase_clip.tif\n",
      "    clipping file p81f1048_10x2_2/S1BB_20210101T070643_20210113T070643_VVP012_INT40_G_ueF_B7EA/S1BB_20210101T070643_20210113T070643_VVP012_INT40_G_ueF_B7EA_unw_phase.tif to create file p81f1048_10x2_2/S1BB_20210101T070643_20210113T070643_VVP012_INT40_G_ueF_B7EA/S1BB_20210101T070643_20210113T070643_VVP012_INT40_G_ueF_B7EA_unw_phase_clip.tif\n",
      "    clipping file p81f1048_10x2_2/S1BB_20201220T070644_20210113T070643_VVP024_INT40_G_ueF_DEF3/S1BB_20201220T070644_20210113T070643_VVP024_INT40_G_ueF_DEF3_unw_phase.tif to create file p81f1048_10x2_2/S1BB_20201220T070644_20210113T070643_VVP024_INT40_G_ueF_DEF3/S1BB_20201220T070644_20210113T070643_VVP024_INT40_G_ueF_DEF3_unw_phase_clip.tif\n",
      "    clipping file p81f1048_10x2_2/S1BB_20201126T070645_20210101T070643_VVP036_INT40_G_ueF_CB83/S1BB_20201126T070645_20210101T070643_VVP036_INT40_G_ueF_CB83_unw_phase.tif to create file p81f1048_10x2_2/S1BB_20201126T070645_20210101T070643_VVP036_INT40_G_ueF_CB83/S1BB_20201126T070645_20210101T070643_VVP036_INT40_G_ueF_CB83_unw_phase_clip.tif\n",
      "    clipping file p81f1048_10x2_2/S1BB_20201114T070645_20210101T070643_VVP048_INT40_G_ueF_675B/S1BB_20201114T070645_20210101T070643_VVP048_INT40_G_ueF_675B_unw_phase.tif to create file p81f1048_10x2_2/S1BB_20201114T070645_20210101T070643_VVP048_INT40_G_ueF_675B/S1BB_20201114T070645_20210101T070643_VVP048_INT40_G_ueF_675B_unw_phase_clip.tif\n",
      "    clipping file p81f1048_10x2_2/S1BB_20201220T070644_20210101T070643_VVP012_INT40_G_ueF_9CC2/S1BB_20201220T070644_20210101T070643_VVP012_INT40_G_ueF_9CC2_unw_phase.tif to create file p81f1048_10x2_2/S1BB_20201220T070644_20210101T070643_VVP012_INT40_G_ueF_9CC2/S1BB_20201220T070644_20210101T070643_VVP012_INT40_G_ueF_9CC2_unw_phase_clip.tif\n",
      "    clipping file p81f1048_10x2_2/S1BB_20201102T070645_20201220T070644_VVP048_INT40_G_ueF_7CDF/S1BB_20201102T070645_20201220T070644_VVP048_INT40_G_ueF_7CDF_unw_phase.tif to create file p81f1048_10x2_2/S1BB_20201102T070645_20201220T070644_VVP048_INT40_G_ueF_7CDF/S1BB_20201102T070645_20201220T070644_VVP048_INT40_G_ueF_7CDF_unw_phase_clip.tif\n",
      "    clipping file p81f1048_10x2_2/S1BB_20201114T070645_20201220T070644_VVP036_INT40_G_ueF_3E64/S1BB_20201114T070645_20201220T070644_VVP036_INT40_G_ueF_3E64_unw_phase.tif to create file p81f1048_10x2_2/S1BB_20201114T070645_20201220T070644_VVP036_INT40_G_ueF_3E64/S1BB_20201114T070645_20201220T070644_VVP036_INT40_G_ueF_3E64_unw_phase_clip.tif\n",
      "    clipping file p81f1048_10x2_2/S1BB_20201126T070645_20201220T070644_VVP024_INT40_G_ueF_90CC/S1BB_20201126T070645_20201220T070644_VVP024_INT40_G_ueF_90CC_unw_phase.tif to create file p81f1048_10x2_2/S1BB_20201126T070645_20201220T070644_VVP024_INT40_G_ueF_90CC/S1BB_20201126T070645_20201220T070644_VVP024_INT40_G_ueF_90CC_unw_phase_clip.tif\n",
      "    clipping file p81f1048_10x2_2/S1BB_20201021T070645_20201126T070645_VVP036_INT40_G_ueF_19F3/S1BB_20201021T070645_20201126T070645_VVP036_INT40_G_ueF_19F3_unw_phase.tif to create file p81f1048_10x2_2/S1BB_20201021T070645_20201126T070645_VVP036_INT40_G_ueF_19F3/S1BB_20201021T070645_20201126T070645_VVP036_INT40_G_ueF_19F3_unw_phase_clip.tif\n",
      "    clipping file p81f1048_10x2_2/S1BB_20201114T070645_20201126T070645_VVP012_INT40_G_ueF_694A/S1BB_20201114T070645_20201126T070645_VVP012_INT40_G_ueF_694A_unw_phase.tif to create file p81f1048_10x2_2/S1BB_20201114T070645_20201126T070645_VVP012_INT40_G_ueF_694A/S1BB_20201114T070645_20201126T070645_VVP012_INT40_G_ueF_694A_unw_phase_clip.tif\n",
      "    clipping file p81f1048_10x2_2/S1BB_20201102T070645_20201126T070645_VVP024_INT40_G_ueF_F237/S1BB_20201102T070645_20201126T070645_VVP024_INT40_G_ueF_F237_unw_phase.tif to create file p81f1048_10x2_2/S1BB_20201102T070645_20201126T070645_VVP024_INT40_G_ueF_F237/S1BB_20201102T070645_20201126T070645_VVP024_INT40_G_ueF_F237_unw_phase_clip.tif\n",
      "    clipping file p81f1048_10x2_2/S1BB_20201021T070645_20201114T070645_VVP024_INT40_G_ueF_A9F4/S1BB_20201021T070645_20201114T070645_VVP024_INT40_G_ueF_A9F4_unw_phase.tif to create file p81f1048_10x2_2/S1BB_20201021T070645_20201114T070645_VVP024_INT40_G_ueF_A9F4/S1BB_20201021T070645_20201114T070645_VVP024_INT40_G_ueF_A9F4_unw_phase_clip.tif\n",
      "    clipping file p81f1048_10x2_2/S1BB_20201009T070645_20201114T070645_VVP036_INT40_G_ueF_C715/S1BB_20201009T070645_20201114T070645_VVP036_INT40_G_ueF_C715_unw_phase.tif to create file p81f1048_10x2_2/S1BB_20201009T070645_20201114T070645_VVP036_INT40_G_ueF_C715/S1BB_20201009T070645_20201114T070645_VVP036_INT40_G_ueF_C715_unw_phase_clip.tif\n",
      "    clipping file p81f1048_10x2_2/S1BB_20201102T070645_20201114T070645_VVP012_INT40_G_ueF_FA2A/S1BB_20201102T070645_20201114T070645_VVP012_INT40_G_ueF_FA2A_unw_phase.tif to create file p81f1048_10x2_2/S1BB_20201102T070645_20201114T070645_VVP012_INT40_G_ueF_FA2A/S1BB_20201102T070645_20201114T070645_VVP012_INT40_G_ueF_FA2A_unw_phase_clip.tif\n",
      "    clipping file p81f1048_10x2_2/S1BB_20200927T070645_20201102T070645_VVP036_INT40_G_ueF_C7E0/S1BB_20200927T070645_20201102T070645_VVP036_INT40_G_ueF_C7E0_unw_phase.tif to create file p81f1048_10x2_2/S1BB_20200927T070645_20201102T070645_VVP036_INT40_G_ueF_C7E0/S1BB_20200927T070645_20201102T070645_VVP036_INT40_G_ueF_C7E0_unw_phase_clip.tif\n",
      "    clipping file p81f1048_10x2_2/S1BB_20201021T070645_20201102T070645_VVP012_INT40_G_ueF_1286/S1BB_20201021T070645_20201102T070645_VVP012_INT40_G_ueF_1286_unw_phase.tif to create file p81f1048_10x2_2/S1BB_20201021T070645_20201102T070645_VVP012_INT40_G_ueF_1286/S1BB_20201021T070645_20201102T070645_VVP012_INT40_G_ueF_1286_unw_phase_clip.tif\n",
      "    clipping file p81f1048_10x2_2/S1BB_20201009T070645_20201102T070645_VVP024_INT40_G_ueF_AFC4/S1BB_20201009T070645_20201102T070645_VVP024_INT40_G_ueF_AFC4_unw_phase.tif to create file p81f1048_10x2_2/S1BB_20201009T070645_20201102T070645_VVP024_INT40_G_ueF_AFC4/S1BB_20201009T070645_20201102T070645_VVP024_INT40_G_ueF_AFC4_unw_phase_clip.tif\n",
      "    clipping file p81f1048_10x2_2/S1BB_20200915T070645_20201021T070645_VVP036_INT40_G_ueF_94A1/S1BB_20200915T070645_20201021T070645_VVP036_INT40_G_ueF_94A1_unw_phase.tif to create file p81f1048_10x2_2/S1BB_20200915T070645_20201021T070645_VVP036_INT40_G_ueF_94A1/S1BB_20200915T070645_20201021T070645_VVP036_INT40_G_ueF_94A1_unw_phase_clip.tif\n",
      "    clipping file p81f1048_10x2_2/S1BB_20201009T070645_20201021T070645_VVP012_INT40_G_ueF_A249/S1BB_20201009T070645_20201021T070645_VVP012_INT40_G_ueF_A249_unw_phase.tif to create file p81f1048_10x2_2/S1BB_20201009T070645_20201021T070645_VVP012_INT40_G_ueF_A249/S1BB_20201009T070645_20201021T070645_VVP012_INT40_G_ueF_A249_unw_phase_clip.tif\n",
      "    clipping file p81f1048_10x2_2/S1BB_20200927T070645_20201021T070645_VVP024_INT40_G_ueF_862A/S1BB_20200927T070645_20201021T070645_VVP024_INT40_G_ueF_862A_unw_phase.tif to create file p81f1048_10x2_2/S1BB_20200927T070645_20201021T070645_VVP024_INT40_G_ueF_862A/S1BB_20200927T070645_20201021T070645_VVP024_INT40_G_ueF_862A_unw_phase_clip.tif\n",
      "    clipping file p81f1048_10x2_2/S1BB_20200915T070645_20201009T070645_VVP024_INT40_G_ueF_DFE3/S1BB_20200915T070645_20201009T070645_VVP024_INT40_G_ueF_DFE3_unw_phase.tif to create file p81f1048_10x2_2/S1BB_20200915T070645_20201009T070645_VVP024_INT40_G_ueF_DFE3/S1BB_20200915T070645_20201009T070645_VVP024_INT40_G_ueF_DFE3_unw_phase_clip.tif\n",
      "    clipping file p81f1048_10x2_2/S1BB_20200903T070644_20201009T070645_VVP036_INT40_G_ueF_2FC1/S1BB_20200903T070644_20201009T070645_VVP036_INT40_G_ueF_2FC1_unw_phase.tif to create file p81f1048_10x2_2/S1BB_20200903T070644_20201009T070645_VVP036_INT40_G_ueF_2FC1/S1BB_20200903T070644_20201009T070645_VVP036_INT40_G_ueF_2FC1_unw_phase_clip.tif\n",
      "    clipping file p81f1048_10x2_2/S1BB_20200927T070645_20201009T070645_VVP012_INT40_G_ueF_6B48/S1BB_20200927T070645_20201009T070645_VVP012_INT40_G_ueF_6B48_unw_phase.tif to create file p81f1048_10x2_2/S1BB_20200927T070645_20201009T070645_VVP012_INT40_G_ueF_6B48/S1BB_20200927T070645_20201009T070645_VVP012_INT40_G_ueF_6B48_unw_phase_clip.tif\n",
      "    clipping file p81f1048_10x2_2/S1BB_20200903T070644_20200927T070645_VVP024_INT40_G_ueF_919F/S1BB_20200903T070644_20200927T070645_VVP024_INT40_G_ueF_919F_unw_phase.tif to create file p81f1048_10x2_2/S1BB_20200903T070644_20200927T070645_VVP024_INT40_G_ueF_919F/S1BB_20200903T070644_20200927T070645_VVP024_INT40_G_ueF_919F_unw_phase_clip.tif\n",
      "    clipping file p81f1048_10x2_2/S1BB_20200822T070643_20200927T070645_VVP036_INT40_G_ueF_A45C/S1BB_20200822T070643_20200927T070645_VVP036_INT40_G_ueF_A45C_unw_phase.tif to create file p81f1048_10x2_2/S1BB_20200822T070643_20200927T070645_VVP036_INT40_G_ueF_A45C/S1BB_20200822T070643_20200927T070645_VVP036_INT40_G_ueF_A45C_unw_phase_clip.tif\n",
      "    clipping file p81f1048_10x2_2/S1BB_20200915T070645_20200927T070645_VVP012_INT40_G_ueF_6A6D/S1BB_20200915T070645_20200927T070645_VVP012_INT40_G_ueF_6A6D_unw_phase.tif to create file p81f1048_10x2_2/S1BB_20200915T070645_20200927T070645_VVP012_INT40_G_ueF_6A6D/S1BB_20200915T070645_20200927T070645_VVP012_INT40_G_ueF_6A6D_unw_phase_clip.tif\n",
      "    clipping file p81f1048_10x2_2/S1BB_20200810T070643_20200915T070645_VVP036_INT40_G_ueF_22B6/S1BB_20200810T070643_20200915T070645_VVP036_INT40_G_ueF_22B6_unw_phase.tif to create file p81f1048_10x2_2/S1BB_20200810T070643_20200915T070645_VVP036_INT40_G_ueF_22B6/S1BB_20200810T070643_20200915T070645_VVP036_INT40_G_ueF_22B6_unw_phase_clip.tif\n",
      "    clipping file p81f1048_10x2_2/S1BB_20200903T070644_20200915T070645_VVP012_INT40_G_ueF_03F8/S1BB_20200903T070644_20200915T070645_VVP012_INT40_G_ueF_03F8_unw_phase.tif to create file p81f1048_10x2_2/S1BB_20200903T070644_20200915T070645_VVP012_INT40_G_ueF_03F8/S1BB_20200903T070644_20200915T070645_VVP012_INT40_G_ueF_03F8_unw_phase_clip.tif\n",
      "    clipping file p81f1048_10x2_2/S1BB_20200822T070643_20200915T070645_VVP024_INT40_G_ueF_EB3B/S1BB_20200822T070643_20200915T070645_VVP024_INT40_G_ueF_EB3B_unw_phase.tif to create file p81f1048_10x2_2/S1BB_20200822T070643_20200915T070645_VVP024_INT40_G_ueF_EB3B/S1BB_20200822T070643_20200915T070645_VVP024_INT40_G_ueF_EB3B_unw_phase_clip.tif\n",
      "    clipping file p81f1048_10x2_2/S1BB_20200729T070642_20200903T070644_VVP036_INT40_G_ueF_ABC4/S1BB_20200729T070642_20200903T070644_VVP036_INT40_G_ueF_ABC4_unw_phase.tif to create file p81f1048_10x2_2/S1BB_20200729T070642_20200903T070644_VVP036_INT40_G_ueF_ABC4/S1BB_20200729T070642_20200903T070644_VVP036_INT40_G_ueF_ABC4_unw_phase_clip.tif\n",
      "    clipping file p81f1048_10x2_2/S1BB_20200810T070643_20200903T070644_VVP024_INT40_G_ueF_E571/S1BB_20200810T070643_20200903T070644_VVP024_INT40_G_ueF_E571_unw_phase.tif to create file p81f1048_10x2_2/S1BB_20200810T070643_20200903T070644_VVP024_INT40_G_ueF_E571/S1BB_20200810T070643_20200903T070644_VVP024_INT40_G_ueF_E571_unw_phase_clip.tif\n",
      "    clipping file p81f1048_10x2_2/S1BB_20200822T070643_20200903T070644_VVP012_INT40_G_ueF_EFF4/S1BB_20200822T070643_20200903T070644_VVP012_INT40_G_ueF_EFF4_unw_phase.tif to create file p81f1048_10x2_2/S1BB_20200822T070643_20200903T070644_VVP012_INT40_G_ueF_EFF4/S1BB_20200822T070643_20200903T070644_VVP012_INT40_G_ueF_EFF4_unw_phase_clip.tif\n",
      "    clipping file p81f1048_10x2_2/S1BB_20200717T070641_20200822T070643_VVP036_INT40_G_ueF_0F1B/S1BB_20200717T070641_20200822T070643_VVP036_INT40_G_ueF_0F1B_unw_phase.tif to create file p81f1048_10x2_2/S1BB_20200717T070641_20200822T070643_VVP036_INT40_G_ueF_0F1B/S1BB_20200717T070641_20200822T070643_VVP036_INT40_G_ueF_0F1B_unw_phase_clip.tif\n",
      "    clipping file p81f1048_10x2_2/S1BB_20200729T070642_20200822T070643_VVP024_INT40_G_ueF_C976/S1BB_20200729T070642_20200822T070643_VVP024_INT40_G_ueF_C976_unw_phase.tif to create file p81f1048_10x2_2/S1BB_20200729T070642_20200822T070643_VVP024_INT40_G_ueF_C976/S1BB_20200729T070642_20200822T070643_VVP024_INT40_G_ueF_C976_unw_phase_clip.tif\n",
      "    clipping file p81f1048_10x2_2/S1BB_20200810T070643_20200822T070643_VVP012_INT40_G_ueF_EE24/S1BB_20200810T070643_20200822T070643_VVP012_INT40_G_ueF_EE24_unw_phase.tif to create file p81f1048_10x2_2/S1BB_20200810T070643_20200822T070643_VVP012_INT40_G_ueF_EE24/S1BB_20200810T070643_20200822T070643_VVP012_INT40_G_ueF_EE24_unw_phase_clip.tif\n",
      "    clipping file p81f1048_10x2_2/S1BB_20200717T070641_20200810T070643_VVP024_INT40_G_ueF_ECBF/S1BB_20200717T070641_20200810T070643_VVP024_INT40_G_ueF_ECBF_unw_phase.tif to create file p81f1048_10x2_2/S1BB_20200717T070641_20200810T070643_VVP024_INT40_G_ueF_ECBF/S1BB_20200717T070641_20200810T070643_VVP024_INT40_G_ueF_ECBF_unw_phase_clip.tif\n",
      "    clipping file p81f1048_10x2_2/S1BB_20200705T070641_20200810T070643_VVP036_INT40_G_ueF_3AFD/S1BB_20200705T070641_20200810T070643_VVP036_INT40_G_ueF_3AFD_unw_phase.tif to create file p81f1048_10x2_2/S1BB_20200705T070641_20200810T070643_VVP036_INT40_G_ueF_3AFD/S1BB_20200705T070641_20200810T070643_VVP036_INT40_G_ueF_3AFD_unw_phase_clip.tif\n",
      "    clipping file p81f1048_10x2_2/S1BB_20200729T070642_20200810T070643_VVP012_INT40_G_ueF_A12B/S1BB_20200729T070642_20200810T070643_VVP012_INT40_G_ueF_A12B_unw_phase.tif to create file p81f1048_10x2_2/S1BB_20200729T070642_20200810T070643_VVP012_INT40_G_ueF_A12B/S1BB_20200729T070642_20200810T070643_VVP012_INT40_G_ueF_A12B_unw_phase_clip.tif\n",
      "    clipping file p81f1048_10x2_2/S1BB_20200623T070640_20200729T070642_VVP036_INT40_G_ueF_0A80/S1BB_20200623T070640_20200729T070642_VVP036_INT40_G_ueF_0A80_unw_phase.tif to create file p81f1048_10x2_2/S1BB_20200623T070640_20200729T070642_VVP036_INT40_G_ueF_0A80/S1BB_20200623T070640_20200729T070642_VVP036_INT40_G_ueF_0A80_unw_phase_clip.tif\n",
      "    clipping file p81f1048_10x2_2/S1BB_20200705T070641_20200729T070642_VVP024_INT40_G_ueF_98F5/S1BB_20200705T070641_20200729T070642_VVP024_INT40_G_ueF_98F5_unw_phase.tif to create file p81f1048_10x2_2/S1BB_20200705T070641_20200729T070642_VVP024_INT40_G_ueF_98F5/S1BB_20200705T070641_20200729T070642_VVP024_INT40_G_ueF_98F5_unw_phase_clip.tif\n",
      "    clipping file p81f1048_10x2_2/S1BB_20200717T070641_20200729T070642_VVP012_INT40_G_ueF_2322/S1BB_20200717T070641_20200729T070642_VVP012_INT40_G_ueF_2322_unw_phase.tif to create file p81f1048_10x2_2/S1BB_20200717T070641_20200729T070642_VVP012_INT40_G_ueF_2322/S1BB_20200717T070641_20200729T070642_VVP012_INT40_G_ueF_2322_unw_phase_clip.tif\n",
      "    clipping file p81f1048_10x2_2/S1BB_20200623T070640_20200717T070641_VVP024_INT40_G_ueF_7DF3/S1BB_20200623T070640_20200717T070641_VVP024_INT40_G_ueF_7DF3_unw_phase.tif to create file p81f1048_10x2_2/S1BB_20200623T070640_20200717T070641_VVP024_INT40_G_ueF_7DF3/S1BB_20200623T070640_20200717T070641_VVP024_INT40_G_ueF_7DF3_unw_phase_clip.tif\n",
      "    clipping file p81f1048_10x2_2/S1BB_20200611T070639_20200717T070641_VVP036_INT40_G_ueF_6273/S1BB_20200611T070639_20200717T070641_VVP036_INT40_G_ueF_6273_unw_phase.tif to create file p81f1048_10x2_2/S1BB_20200611T070639_20200717T070641_VVP036_INT40_G_ueF_6273/S1BB_20200611T070639_20200717T070641_VVP036_INT40_G_ueF_6273_unw_phase_clip.tif\n",
      "    clipping file p81f1048_10x2_2/S1BB_20200705T070641_20200717T070641_VVP012_INT40_G_ueF_7420/S1BB_20200705T070641_20200717T070641_VVP012_INT40_G_ueF_7420_unw_phase.tif to create file p81f1048_10x2_2/S1BB_20200705T070641_20200717T070641_VVP012_INT40_G_ueF_7420/S1BB_20200705T070641_20200717T070641_VVP012_INT40_G_ueF_7420_unw_phase_clip.tif\n",
      "    clipping file p81f1048_10x2_2/S1BB_20200530T070639_20200705T070641_VVP036_INT40_G_ueF_E2C2/S1BB_20200530T070639_20200705T070641_VVP036_INT40_G_ueF_E2C2_unw_phase.tif to create file p81f1048_10x2_2/S1BB_20200530T070639_20200705T070641_VVP036_INT40_G_ueF_E2C2/S1BB_20200530T070639_20200705T070641_VVP036_INT40_G_ueF_E2C2_unw_phase_clip.tif\n",
      "    clipping file p81f1048_10x2_2/S1BB_20200623T070640_20200705T070641_VVP012_INT40_G_ueF_7F62/S1BB_20200623T070640_20200705T070641_VVP012_INT40_G_ueF_7F62_unw_phase.tif to create file p81f1048_10x2_2/S1BB_20200623T070640_20200705T070641_VVP012_INT40_G_ueF_7F62/S1BB_20200623T070640_20200705T070641_VVP012_INT40_G_ueF_7F62_unw_phase_clip.tif\n",
      "    clipping file p81f1048_10x2_2/S1BB_20200611T070639_20200705T070641_VVP024_INT40_G_ueF_C294/S1BB_20200611T070639_20200705T070641_VVP024_INT40_G_ueF_C294_unw_phase.tif to create file p81f1048_10x2_2/S1BB_20200611T070639_20200705T070641_VVP024_INT40_G_ueF_C294/S1BB_20200611T070639_20200705T070641_VVP024_INT40_G_ueF_C294_unw_phase_clip.tif\n",
      "    clipping file p81f1048_10x2_2/S1BB_20200518T070638_20200623T070640_VVP036_INT40_G_ueF_BF78/S1BB_20200518T070638_20200623T070640_VVP036_INT40_G_ueF_BF78_unw_phase.tif to create file p81f1048_10x2_2/S1BB_20200518T070638_20200623T070640_VVP036_INT40_G_ueF_BF78/S1BB_20200518T070638_20200623T070640_VVP036_INT40_G_ueF_BF78_unw_phase_clip.tif\n",
      "    clipping file p81f1048_10x2_2/S1BB_20200611T070639_20200623T070640_VVP012_INT40_G_ueF_8197/S1BB_20200611T070639_20200623T070640_VVP012_INT40_G_ueF_8197_unw_phase.tif to create file p81f1048_10x2_2/S1BB_20200611T070639_20200623T070640_VVP012_INT40_G_ueF_8197/S1BB_20200611T070639_20200623T070640_VVP012_INT40_G_ueF_8197_unw_phase_clip.tif\n",
      "    clipping file p81f1048_10x2_2/S1BB_20200530T070639_20200623T070640_VVP024_INT40_G_ueF_EA5B/S1BB_20200530T070639_20200623T070640_VVP024_INT40_G_ueF_EA5B_unw_phase.tif to create file p81f1048_10x2_2/S1BB_20200530T070639_20200623T070640_VVP024_INT40_G_ueF_EA5B/S1BB_20200530T070639_20200623T070640_VVP024_INT40_G_ueF_EA5B_unw_phase_clip.tif\n",
      "    clipping file p81f1048_10x2_2/S1BB_20200506T070637_20200611T070639_VVP036_INT40_G_ueF_96A0/S1BB_20200506T070637_20200611T070639_VVP036_INT40_G_ueF_96A0_unw_phase.tif to create file p81f1048_10x2_2/S1BB_20200506T070637_20200611T070639_VVP036_INT40_G_ueF_96A0/S1BB_20200506T070637_20200611T070639_VVP036_INT40_G_ueF_96A0_unw_phase_clip.tif\n",
      "    clipping file p81f1048_10x2_2/S1BB_20200518T070638_20200611T070639_VVP024_INT40_G_ueF_84F0/S1BB_20200518T070638_20200611T070639_VVP024_INT40_G_ueF_84F0_unw_phase.tif to create file p81f1048_10x2_2/S1BB_20200518T070638_20200611T070639_VVP024_INT40_G_ueF_84F0/S1BB_20200518T070638_20200611T070639_VVP024_INT40_G_ueF_84F0_unw_phase_clip.tif\n",
      "    clipping file p81f1048_10x2_2/S1BB_20200530T070639_20200611T070639_VVP012_INT40_G_ueF_C3DE/S1BB_20200530T070639_20200611T070639_VVP012_INT40_G_ueF_C3DE_unw_phase.tif to create file p81f1048_10x2_2/S1BB_20200530T070639_20200611T070639_VVP012_INT40_G_ueF_C3DE/S1BB_20200530T070639_20200611T070639_VVP012_INT40_G_ueF_C3DE_unw_phase_clip.tif\n",
      "    clipping file p81f1048_10x2_2/S1BB_20200424T070637_20200530T070639_VVP036_INT40_G_ueF_66A4/S1BB_20200424T070637_20200530T070639_VVP036_INT40_G_ueF_66A4_unw_phase.tif to create file p81f1048_10x2_2/S1BB_20200424T070637_20200530T070639_VVP036_INT40_G_ueF_66A4/S1BB_20200424T070637_20200530T070639_VVP036_INT40_G_ueF_66A4_unw_phase_clip.tif\n",
      "    clipping file p81f1048_10x2_2/S1BB_20200506T070637_20200530T070639_VVP024_INT40_G_ueF_957C/S1BB_20200506T070637_20200530T070639_VVP024_INT40_G_ueF_957C_unw_phase.tif to create file p81f1048_10x2_2/S1BB_20200506T070637_20200530T070639_VVP024_INT40_G_ueF_957C/S1BB_20200506T070637_20200530T070639_VVP024_INT40_G_ueF_957C_unw_phase_clip.tif\n",
      "    clipping file p81f1048_10x2_2/S1BB_20200518T070638_20200530T070639_VVP012_INT40_G_ueF_17EB/S1BB_20200518T070638_20200530T070639_VVP012_INT40_G_ueF_17EB_unw_phase.tif to create file p81f1048_10x2_2/S1BB_20200518T070638_20200530T070639_VVP012_INT40_G_ueF_17EB/S1BB_20200518T070638_20200530T070639_VVP012_INT40_G_ueF_17EB_unw_phase_clip.tif\n",
      "    clipping file p81f1048_10x2_2/S1BB_20200412T070636_20200518T070638_VVP036_INT40_G_ueF_4423/S1BB_20200412T070636_20200518T070638_VVP036_INT40_G_ueF_4423_unw_phase.tif to create file p81f1048_10x2_2/S1BB_20200412T070636_20200518T070638_VVP036_INT40_G_ueF_4423/S1BB_20200412T070636_20200518T070638_VVP036_INT40_G_ueF_4423_unw_phase_clip.tif\n",
      "    clipping file p81f1048_10x2_2/S1BB_20200424T070637_20200518T070638_VVP024_INT40_G_ueF_855F/S1BB_20200424T070637_20200518T070638_VVP024_INT40_G_ueF_855F_unw_phase.tif to create file p81f1048_10x2_2/S1BB_20200424T070637_20200518T070638_VVP024_INT40_G_ueF_855F/S1BB_20200424T070637_20200518T070638_VVP024_INT40_G_ueF_855F_unw_phase_clip.tif\n",
      "    clipping file p81f1048_10x2_2/S1BB_20200506T070637_20200518T070638_VVP012_INT40_G_ueF_9BC7/S1BB_20200506T070637_20200518T070638_VVP012_INT40_G_ueF_9BC7_unw_phase.tif to create file p81f1048_10x2_2/S1BB_20200506T070637_20200518T070638_VVP012_INT40_G_ueF_9BC7/S1BB_20200506T070637_20200518T070638_VVP012_INT40_G_ueF_9BC7_unw_phase_clip.tif\n",
      "    clipping file p81f1048_10x2_2/S1BB_20200331T070636_20200506T070637_VVP036_INT40_G_ueF_9104/S1BB_20200331T070636_20200506T070637_VVP036_INT40_G_ueF_9104_unw_phase.tif to create file p81f1048_10x2_2/S1BB_20200331T070636_20200506T070637_VVP036_INT40_G_ueF_9104/S1BB_20200331T070636_20200506T070637_VVP036_INT40_G_ueF_9104_unw_phase_clip.tif\n",
      "    clipping file p81f1048_10x2_2/S1BB_20200412T070636_20200506T070637_VVP024_INT40_G_ueF_4600/S1BB_20200412T070636_20200506T070637_VVP024_INT40_G_ueF_4600_unw_phase.tif to create file p81f1048_10x2_2/S1BB_20200412T070636_20200506T070637_VVP024_INT40_G_ueF_4600/S1BB_20200412T070636_20200506T070637_VVP024_INT40_G_ueF_4600_unw_phase_clip.tif\n",
      "    clipping file p81f1048_10x2_2/S1BB_20200424T070637_20200506T070637_VVP012_INT40_G_ueF_9264/S1BB_20200424T070637_20200506T070637_VVP012_INT40_G_ueF_9264_unw_phase.tif to create file p81f1048_10x2_2/S1BB_20200424T070637_20200506T070637_VVP012_INT40_G_ueF_9264/S1BB_20200424T070637_20200506T070637_VVP012_INT40_G_ueF_9264_unw_phase_clip.tif\n",
      "    clipping file p81f1048_10x2_2/S1BB_20200319T070636_20200424T070637_VVP036_INT40_G_ueF_CBD7/S1BB_20200319T070636_20200424T070637_VVP036_INT40_G_ueF_CBD7_unw_phase.tif to create file p81f1048_10x2_2/S1BB_20200319T070636_20200424T070637_VVP036_INT40_G_ueF_CBD7/S1BB_20200319T070636_20200424T070637_VVP036_INT40_G_ueF_CBD7_unw_phase_clip.tif\n",
      "    clipping file p81f1048_10x2_2/S1BB_20200331T070636_20200424T070637_VVP024_INT40_G_ueF_22C8/S1BB_20200331T070636_20200424T070637_VVP024_INT40_G_ueF_22C8_unw_phase.tif to create file p81f1048_10x2_2/S1BB_20200331T070636_20200424T070637_VVP024_INT40_G_ueF_22C8/S1BB_20200331T070636_20200424T070637_VVP024_INT40_G_ueF_22C8_unw_phase_clip.tif\n",
      "    clipping file p81f1048_10x2_2/S1BB_20200412T070636_20200424T070637_VVP012_INT40_G_ueF_85CB/S1BB_20200412T070636_20200424T070637_VVP012_INT40_G_ueF_85CB_unw_phase.tif to create file p81f1048_10x2_2/S1BB_20200412T070636_20200424T070637_VVP012_INT40_G_ueF_85CB/S1BB_20200412T070636_20200424T070637_VVP012_INT40_G_ueF_85CB_unw_phase_clip.tif\n",
      "    clipping file p81f1048_10x2_2/S1BB_20200307T070635_20200412T070636_VVP036_INT40_G_ueF_F101/S1BB_20200307T070635_20200412T070636_VVP036_INT40_G_ueF_F101_unw_phase.tif to create file p81f1048_10x2_2/S1BB_20200307T070635_20200412T070636_VVP036_INT40_G_ueF_F101/S1BB_20200307T070635_20200412T070636_VVP036_INT40_G_ueF_F101_unw_phase_clip.tif\n",
      "    clipping file p81f1048_10x2_2/S1BB_20200319T070636_20200412T070636_VVP024_INT40_G_ueF_B930/S1BB_20200319T070636_20200412T070636_VVP024_INT40_G_ueF_B930_unw_phase.tif to create file p81f1048_10x2_2/S1BB_20200319T070636_20200412T070636_VVP024_INT40_G_ueF_B930/S1BB_20200319T070636_20200412T070636_VVP024_INT40_G_ueF_B930_unw_phase_clip.tif\n",
      "    clipping file p81f1048_10x2_2/S1BB_20200331T070636_20200412T070636_VVP012_INT40_G_ueF_295D/S1BB_20200331T070636_20200412T070636_VVP012_INT40_G_ueF_295D_unw_phase.tif to create file p81f1048_10x2_2/S1BB_20200331T070636_20200412T070636_VVP012_INT40_G_ueF_295D/S1BB_20200331T070636_20200412T070636_VVP012_INT40_G_ueF_295D_unw_phase_clip.tif\n",
      "    clipping file p81f1048_10x2_2/S1BB_20200224T070635_20200331T070636_VVP036_INT40_G_ueF_3246/S1BB_20200224T070635_20200331T070636_VVP036_INT40_G_ueF_3246_unw_phase.tif to create file p81f1048_10x2_2/S1BB_20200224T070635_20200331T070636_VVP036_INT40_G_ueF_3246/S1BB_20200224T070635_20200331T070636_VVP036_INT40_G_ueF_3246_unw_phase_clip.tif\n",
      "    clipping file p81f1048_10x2_2/S1BB_20200307T070635_20200331T070636_VVP024_INT40_G_ueF_42E3/S1BB_20200307T070635_20200331T070636_VVP024_INT40_G_ueF_42E3_unw_phase.tif to create file p81f1048_10x2_2/S1BB_20200307T070635_20200331T070636_VVP024_INT40_G_ueF_42E3/S1BB_20200307T070635_20200331T070636_VVP024_INT40_G_ueF_42E3_unw_phase_clip.tif\n",
      "    clipping file p81f1048_10x2_2/S1BB_20200319T070636_20200331T070636_VVP012_INT40_G_ueF_16EB/S1BB_20200319T070636_20200331T070636_VVP012_INT40_G_ueF_16EB_unw_phase.tif to create file p81f1048_10x2_2/S1BB_20200319T070636_20200331T070636_VVP012_INT40_G_ueF_16EB/S1BB_20200319T070636_20200331T070636_VVP012_INT40_G_ueF_16EB_unw_phase_clip.tif\n",
      "    clipping file p81f1048_10x2_2/S1BB_20200307T070635_20200319T070636_VVP012_INT40_G_ueF_2564/S1BB_20200307T070635_20200319T070636_VVP012_INT40_G_ueF_2564_unw_phase.tif to create file p81f1048_10x2_2/S1BB_20200307T070635_20200319T070636_VVP012_INT40_G_ueF_2564/S1BB_20200307T070635_20200319T070636_VVP012_INT40_G_ueF_2564_unw_phase_clip.tif\n",
      "    clipping file p81f1048_10x2_2/S1BB_20200212T070636_20200319T070636_VVP036_INT40_G_ueF_E2F0/S1BB_20200212T070636_20200319T070636_VVP036_INT40_G_ueF_E2F0_unw_phase.tif to create file p81f1048_10x2_2/S1BB_20200212T070636_20200319T070636_VVP036_INT40_G_ueF_E2F0/S1BB_20200212T070636_20200319T070636_VVP036_INT40_G_ueF_E2F0_unw_phase_clip.tif\n",
      "    clipping file p81f1048_10x2_2/S1BB_20200224T070635_20200319T070636_VVP024_INT40_G_ueF_B1D8/S1BB_20200224T070635_20200319T070636_VVP024_INT40_G_ueF_B1D8_unw_phase.tif to create file p81f1048_10x2_2/S1BB_20200224T070635_20200319T070636_VVP024_INT40_G_ueF_B1D8/S1BB_20200224T070635_20200319T070636_VVP024_INT40_G_ueF_B1D8_unw_phase_clip.tif\n",
      "    clipping file p81f1048_10x2_2/S1BB_20200131T070636_20200307T070635_VVP036_INT40_G_ueF_0232/S1BB_20200131T070636_20200307T070635_VVP036_INT40_G_ueF_0232_unw_phase.tif to create file p81f1048_10x2_2/S1BB_20200131T070636_20200307T070635_VVP036_INT40_G_ueF_0232/S1BB_20200131T070636_20200307T070635_VVP036_INT40_G_ueF_0232_unw_phase_clip.tif\n",
      "    clipping file p81f1048_10x2_2/S1BB_20200212T070636_20200307T070635_VVP024_INT40_G_ueF_93D5/S1BB_20200212T070636_20200307T070635_VVP024_INT40_G_ueF_93D5_unw_phase.tif to create file p81f1048_10x2_2/S1BB_20200212T070636_20200307T070635_VVP024_INT40_G_ueF_93D5/S1BB_20200212T070636_20200307T070635_VVP024_INT40_G_ueF_93D5_unw_phase_clip.tif\n",
      "    clipping file p81f1048_10x2_2/S1BB_20200224T070635_20200307T070635_VVP012_INT40_G_ueF_03FF/S1BB_20200224T070635_20200307T070635_VVP012_INT40_G_ueF_03FF_unw_phase.tif to create file p81f1048_10x2_2/S1BB_20200224T070635_20200307T070635_VVP012_INT40_G_ueF_03FF/S1BB_20200224T070635_20200307T070635_VVP012_INT40_G_ueF_03FF_unw_phase_clip.tif\n",
      "    clipping file p81f1048_10x2_2/S1BB_20200212T070636_20200224T070635_VVP012_INT40_G_ueF_86B9/S1BB_20200212T070636_20200224T070635_VVP012_INT40_G_ueF_86B9_unw_phase.tif to create file p81f1048_10x2_2/S1BB_20200212T070636_20200224T070635_VVP012_INT40_G_ueF_86B9/S1BB_20200212T070636_20200224T070635_VVP012_INT40_G_ueF_86B9_unw_phase_clip.tif\n",
      "    clipping file p81f1048_10x2_2/S1BB_20200119T070636_20200224T070635_VVP036_INT40_G_ueF_5775/S1BB_20200119T070636_20200224T070635_VVP036_INT40_G_ueF_5775_unw_phase.tif to create file p81f1048_10x2_2/S1BB_20200119T070636_20200224T070635_VVP036_INT40_G_ueF_5775/S1BB_20200119T070636_20200224T070635_VVP036_INT40_G_ueF_5775_unw_phase_clip.tif\n",
      "    clipping file p81f1048_10x2_2/S1BB_20200131T070636_20200224T070635_VVP024_INT40_G_ueF_C14B/S1BB_20200131T070636_20200224T070635_VVP024_INT40_G_ueF_C14B_unw_phase.tif to create file p81f1048_10x2_2/S1BB_20200131T070636_20200224T070635_VVP024_INT40_G_ueF_C14B/S1BB_20200131T070636_20200224T070635_VVP024_INT40_G_ueF_C14B_unw_phase_clip.tif\n",
      "    clipping file p81f1048_10x2_2/S1BB_20200107T070637_20200212T070636_VVP036_INT40_G_ueF_B869/S1BB_20200107T070637_20200212T070636_VVP036_INT40_G_ueF_B869_unw_phase.tif to create file p81f1048_10x2_2/S1BB_20200107T070637_20200212T070636_VVP036_INT40_G_ueF_B869/S1BB_20200107T070637_20200212T070636_VVP036_INT40_G_ueF_B869_unw_phase_clip.tif\n",
      "    clipping file p81f1048_10x2_2/S1BB_20200119T070636_20200212T070636_VVP024_INT40_G_ueF_DAA6/S1BB_20200119T070636_20200212T070636_VVP024_INT40_G_ueF_DAA6_unw_phase.tif to create file p81f1048_10x2_2/S1BB_20200119T070636_20200212T070636_VVP024_INT40_G_ueF_DAA6/S1BB_20200119T070636_20200212T070636_VVP024_INT40_G_ueF_DAA6_unw_phase_clip.tif\n",
      "    clipping file p81f1048_10x2_2/S1BB_20200131T070636_20200212T070636_VVP012_INT40_G_ueF_E0CD/S1BB_20200131T070636_20200212T070636_VVP012_INT40_G_ueF_E0CD_unw_phase.tif to create file p81f1048_10x2_2/S1BB_20200131T070636_20200212T070636_VVP012_INT40_G_ueF_E0CD/S1BB_20200131T070636_20200212T070636_VVP012_INT40_G_ueF_E0CD_unw_phase_clip.tif\n",
      "    clipping file p81f1048_10x2_2/S1BB_20191226T070637_20200131T070636_VVP036_INT40_G_ueF_30EF/S1BB_20191226T070637_20200131T070636_VVP036_INT40_G_ueF_30EF_unw_phase.tif to create file p81f1048_10x2_2/S1BB_20191226T070637_20200131T070636_VVP036_INT40_G_ueF_30EF/S1BB_20191226T070637_20200131T070636_VVP036_INT40_G_ueF_30EF_unw_phase_clip.tif\n",
      "    clipping file p81f1048_10x2_2/S1BB_20200107T070637_20200131T070636_VVP024_INT40_G_ueF_B03C/S1BB_20200107T070637_20200131T070636_VVP024_INT40_G_ueF_B03C_unw_phase.tif to create file p81f1048_10x2_2/S1BB_20200107T070637_20200131T070636_VVP024_INT40_G_ueF_B03C/S1BB_20200107T070637_20200131T070636_VVP024_INT40_G_ueF_B03C_unw_phase_clip.tif\n",
      "    clipping file p81f1048_10x2_2/S1BB_20200119T070636_20200131T070636_VVP012_INT40_G_ueF_22EA/S1BB_20200119T070636_20200131T070636_VVP012_INT40_G_ueF_22EA_unw_phase.tif to create file p81f1048_10x2_2/S1BB_20200119T070636_20200131T070636_VVP012_INT40_G_ueF_22EA/S1BB_20200119T070636_20200131T070636_VVP012_INT40_G_ueF_22EA_unw_phase_clip.tif\n",
      "    clipping file p81f1048_10x2_2/S1BB_20191214T070638_20200119T070636_VVP036_INT40_G_ueF_21CE/S1BB_20191214T070638_20200119T070636_VVP036_INT40_G_ueF_21CE_unw_phase.tif to create file p81f1048_10x2_2/S1BB_20191214T070638_20200119T070636_VVP036_INT40_G_ueF_21CE/S1BB_20191214T070638_20200119T070636_VVP036_INT40_G_ueF_21CE_unw_phase_clip.tif\n",
      "    clipping file p81f1048_10x2_2/S1BB_20200107T070637_20200119T070636_VVP012_INT40_G_ueF_A878/S1BB_20200107T070637_20200119T070636_VVP012_INT40_G_ueF_A878_unw_phase.tif to create file p81f1048_10x2_2/S1BB_20200107T070637_20200119T070636_VVP012_INT40_G_ueF_A878/S1BB_20200107T070637_20200119T070636_VVP012_INT40_G_ueF_A878_unw_phase_clip.tif\n",
      "    clipping file p81f1048_10x2_2/S1BB_20191226T070637_20200119T070636_VVP024_INT40_G_ueF_5ACC/S1BB_20191226T070637_20200119T070636_VVP024_INT40_G_ueF_5ACC_unw_phase.tif to create file p81f1048_10x2_2/S1BB_20191226T070637_20200119T070636_VVP024_INT40_G_ueF_5ACC/S1BB_20191226T070637_20200119T070636_VVP024_INT40_G_ueF_5ACC_unw_phase_clip.tif\n",
      "    clipping file p81f1048_10x2_2/S1BB_20191202T070638_20200107T070637_VVP036_INT40_G_ueF_BCB1/S1BB_20191202T070638_20200107T070637_VVP036_INT40_G_ueF_BCB1_unw_phase.tif to create file p81f1048_10x2_2/S1BB_20191202T070638_20200107T070637_VVP036_INT40_G_ueF_BCB1/S1BB_20191202T070638_20200107T070637_VVP036_INT40_G_ueF_BCB1_unw_phase_clip.tif\n",
      "    clipping file p81f1048_10x2_2/S1BB_20191226T070637_20200107T070637_VVP012_INT40_G_ueF_68DF/S1BB_20191226T070637_20200107T070637_VVP012_INT40_G_ueF_68DF_unw_phase.tif to create file p81f1048_10x2_2/S1BB_20191226T070637_20200107T070637_VVP012_INT40_G_ueF_68DF/S1BB_20191226T070637_20200107T070637_VVP012_INT40_G_ueF_68DF_unw_phase_clip.tif\n",
      "    clipping file p81f1048_10x2_2/S1BB_20191214T070638_20200107T070637_VVP024_INT40_G_ueF_8BEF/S1BB_20191214T070638_20200107T070637_VVP024_INT40_G_ueF_8BEF_unw_phase.tif to create file p81f1048_10x2_2/S1BB_20191214T070638_20200107T070637_VVP024_INT40_G_ueF_8BEF/S1BB_20191214T070638_20200107T070637_VVP024_INT40_G_ueF_8BEF_unw_phase_clip.tif\n",
      "    clipping file p81f1048_10x2_2/S1BB_20191120T070639_20191226T070637_VVP036_INT40_G_ueF_E377/S1BB_20191120T070639_20191226T070637_VVP036_INT40_G_ueF_E377_unw_phase.tif to create file p81f1048_10x2_2/S1BB_20191120T070639_20191226T070637_VVP036_INT40_G_ueF_E377/S1BB_20191120T070639_20191226T070637_VVP036_INT40_G_ueF_E377_unw_phase_clip.tif\n",
      "    clipping file p81f1048_10x2_2/S1BB_20191202T070638_20191226T070637_VVP024_INT40_G_ueF_1DF6/S1BB_20191202T070638_20191226T070637_VVP024_INT40_G_ueF_1DF6_unw_phase.tif to create file p81f1048_10x2_2/S1BB_20191202T070638_20191226T070637_VVP024_INT40_G_ueF_1DF6/S1BB_20191202T070638_20191226T070637_VVP024_INT40_G_ueF_1DF6_unw_phase_clip.tif\n",
      "    clipping file p81f1048_10x2_2/S1BB_20191214T070638_20191226T070637_VVP012_INT40_G_ueF_781C/S1BB_20191214T070638_20191226T070637_VVP012_INT40_G_ueF_781C_unw_phase.tif to create file p81f1048_10x2_2/S1BB_20191214T070638_20191226T070637_VVP012_INT40_G_ueF_781C/S1BB_20191214T070638_20191226T070637_VVP012_INT40_G_ueF_781C_unw_phase_clip.tif\n",
      "    clipping file p81f1048_10x2_2/S1BB_20191120T070639_20191214T070638_VVP024_INT40_G_ueF_A128/S1BB_20191120T070639_20191214T070638_VVP024_INT40_G_ueF_A128_unw_phase.tif to create file p81f1048_10x2_2/S1BB_20191120T070639_20191214T070638_VVP024_INT40_G_ueF_A128/S1BB_20191120T070639_20191214T070638_VVP024_INT40_G_ueF_A128_unw_phase_clip.tif\n",
      "    clipping file p81f1048_10x2_2/S1BB_20191108T070639_20191214T070638_VVP036_INT40_G_ueF_9101/S1BB_20191108T070639_20191214T070638_VVP036_INT40_G_ueF_9101_unw_phase.tif to create file p81f1048_10x2_2/S1BB_20191108T070639_20191214T070638_VVP036_INT40_G_ueF_9101/S1BB_20191108T070639_20191214T070638_VVP036_INT40_G_ueF_9101_unw_phase_clip.tif\n",
      "    clipping file p81f1048_10x2_2/S1BB_20191202T070638_20191214T070638_VVP012_INT40_G_ueF_4ECE/S1BB_20191202T070638_20191214T070638_VVP012_INT40_G_ueF_4ECE_unw_phase.tif to create file p81f1048_10x2_2/S1BB_20191202T070638_20191214T070638_VVP012_INT40_G_ueF_4ECE/S1BB_20191202T070638_20191214T070638_VVP012_INT40_G_ueF_4ECE_unw_phase_clip.tif\n",
      "    clipping file p81f1048_10x2_2/S1BB_20191027T070639_20191202T070638_VVP036_INT40_G_ueF_2D1B/S1BB_20191027T070639_20191202T070638_VVP036_INT40_G_ueF_2D1B_unw_phase.tif to create file p81f1048_10x2_2/S1BB_20191027T070639_20191202T070638_VVP036_INT40_G_ueF_2D1B/S1BB_20191027T070639_20191202T070638_VVP036_INT40_G_ueF_2D1B_unw_phase_clip.tif\n",
      "    clipping file p81f1048_10x2_2/S1BB_20191120T070639_20191202T070638_VVP012_INT40_G_ueF_78F9/S1BB_20191120T070639_20191202T070638_VVP012_INT40_G_ueF_78F9_unw_phase.tif to create file p81f1048_10x2_2/S1BB_20191120T070639_20191202T070638_VVP012_INT40_G_ueF_78F9/S1BB_20191120T070639_20191202T070638_VVP012_INT40_G_ueF_78F9_unw_phase_clip.tif\n",
      "    clipping file p81f1048_10x2_2/S1BB_20191108T070639_20191202T070638_VVP024_INT40_G_ueF_ADA0/S1BB_20191108T070639_20191202T070638_VVP024_INT40_G_ueF_ADA0_unw_phase.tif to create file p81f1048_10x2_2/S1BB_20191108T070639_20191202T070638_VVP024_INT40_G_ueF_ADA0/S1BB_20191108T070639_20191202T070638_VVP024_INT40_G_ueF_ADA0_unw_phase_clip.tif\n",
      "    clipping file p81f1048_10x2_2/S1BB_20191108T070639_20191120T070639_VVP012_INT40_G_ueF_E249/S1BB_20191108T070639_20191120T070639_VVP012_INT40_G_ueF_E249_unw_phase.tif to create file p81f1048_10x2_2/S1BB_20191108T070639_20191120T070639_VVP012_INT40_G_ueF_E249/S1BB_20191108T070639_20191120T070639_VVP012_INT40_G_ueF_E249_unw_phase_clip.tif\n",
      "    clipping file p81f1048_10x2_2/S1BB_20191015T070639_20191120T070639_VVP036_INT40_G_ueF_EABB/S1BB_20191015T070639_20191120T070639_VVP036_INT40_G_ueF_EABB_unw_phase.tif to create file p81f1048_10x2_2/S1BB_20191015T070639_20191120T070639_VVP036_INT40_G_ueF_EABB/S1BB_20191015T070639_20191120T070639_VVP036_INT40_G_ueF_EABB_unw_phase_clip.tif\n",
      "    clipping file p81f1048_10x2_2/S1BB_20191027T070639_20191120T070639_VVP024_INT40_G_ueF_449F/S1BB_20191027T070639_20191120T070639_VVP024_INT40_G_ueF_449F_unw_phase.tif to create file p81f1048_10x2_2/S1BB_20191027T070639_20191120T070639_VVP024_INT40_G_ueF_449F/S1BB_20191027T070639_20191120T070639_VVP024_INT40_G_ueF_449F_unw_phase_clip.tif\n",
      "    clipping file p81f1048_10x2_2/S1BB_20191015T070639_20191108T070639_VVP024_INT40_G_ueF_8F2D/S1BB_20191015T070639_20191108T070639_VVP024_INT40_G_ueF_8F2D_unw_phase.tif to create file p81f1048_10x2_2/S1BB_20191015T070639_20191108T070639_VVP024_INT40_G_ueF_8F2D/S1BB_20191015T070639_20191108T070639_VVP024_INT40_G_ueF_8F2D_unw_phase_clip.tif\n",
      "    clipping file p81f1048_10x2_2/S1BB_20191003T070639_20191108T070639_VVP036_INT40_G_ueF_DE97/S1BB_20191003T070639_20191108T070639_VVP036_INT40_G_ueF_DE97_unw_phase.tif to create file p81f1048_10x2_2/S1BB_20191003T070639_20191108T070639_VVP036_INT40_G_ueF_DE97/S1BB_20191003T070639_20191108T070639_VVP036_INT40_G_ueF_DE97_unw_phase_clip.tif\n",
      "    clipping file p81f1048_10x2_2/S1BB_20191027T070639_20191108T070639_VVP012_INT40_G_ueF_9C2A/S1BB_20191027T070639_20191108T070639_VVP012_INT40_G_ueF_9C2A_unw_phase.tif to create file p81f1048_10x2_2/S1BB_20191027T070639_20191108T070639_VVP012_INT40_G_ueF_9C2A/S1BB_20191027T070639_20191108T070639_VVP012_INT40_G_ueF_9C2A_unw_phase_clip.tif\n",
      "    clipping file p81f1048_10x2_2/S1BB_20190921T070638_20191027T070639_VVP036_INT40_G_ueF_A0D2/S1BB_20190921T070638_20191027T070639_VVP036_INT40_G_ueF_A0D2_unw_phase.tif to create file p81f1048_10x2_2/S1BB_20190921T070638_20191027T070639_VVP036_INT40_G_ueF_A0D2/S1BB_20190921T070638_20191027T070639_VVP036_INT40_G_ueF_A0D2_unw_phase_clip.tif\n",
      "    clipping file p81f1048_10x2_2/S1BB_20191015T070639_20191027T070639_VVP012_INT40_G_ueF_E759/S1BB_20191015T070639_20191027T070639_VVP012_INT40_G_ueF_E759_unw_phase.tif to create file p81f1048_10x2_2/S1BB_20191015T070639_20191027T070639_VVP012_INT40_G_ueF_E759/S1BB_20191015T070639_20191027T070639_VVP012_INT40_G_ueF_E759_unw_phase_clip.tif\n",
      "    clipping file p81f1048_10x2_2/S1BB_20191003T070639_20191027T070639_VVP024_INT40_G_ueF_9B7E/S1BB_20191003T070639_20191027T070639_VVP024_INT40_G_ueF_9B7E_unw_phase.tif to create file p81f1048_10x2_2/S1BB_20191003T070639_20191027T070639_VVP024_INT40_G_ueF_9B7E/S1BB_20191003T070639_20191027T070639_VVP024_INT40_G_ueF_9B7E_unw_phase_clip.tif\n",
      "    clipping file p81f1048_10x2_2/S1BB_20190909T070638_20191015T070639_VVP036_INT40_G_ueF_F97E/S1BB_20190909T070638_20191015T070639_VVP036_INT40_G_ueF_F97E_unw_phase.tif to create file p81f1048_10x2_2/S1BB_20190909T070638_20191015T070639_VVP036_INT40_G_ueF_F97E/S1BB_20190909T070638_20191015T070639_VVP036_INT40_G_ueF_F97E_unw_phase_clip.tif\n",
      "    clipping file p81f1048_10x2_2/S1BB_20190921T070638_20191015T070639_VVP024_INT40_G_ueF_1D9E/S1BB_20190921T070638_20191015T070639_VVP024_INT40_G_ueF_1D9E_unw_phase.tif to create file p81f1048_10x2_2/S1BB_20190921T070638_20191015T070639_VVP024_INT40_G_ueF_1D9E/S1BB_20190921T070638_20191015T070639_VVP024_INT40_G_ueF_1D9E_unw_phase_clip.tif\n",
      "    clipping file p81f1048_10x2_2/S1BB_20191003T070639_20191015T070639_VVP012_INT40_G_ueF_65A2/S1BB_20191003T070639_20191015T070639_VVP012_INT40_G_ueF_65A2_unw_phase.tif to create file p81f1048_10x2_2/S1BB_20191003T070639_20191015T070639_VVP012_INT40_G_ueF_65A2/S1BB_20191003T070639_20191015T070639_VVP012_INT40_G_ueF_65A2_unw_phase_clip.tif\n",
      "    clipping file p81f1048_10x2_2/S1BB_20190828T070637_20191003T070639_VVP036_INT40_G_ueF_9442/S1BB_20190828T070637_20191003T070639_VVP036_INT40_G_ueF_9442_unw_phase.tif to create file p81f1048_10x2_2/S1BB_20190828T070637_20191003T070639_VVP036_INT40_G_ueF_9442/S1BB_20190828T070637_20191003T070639_VVP036_INT40_G_ueF_9442_unw_phase_clip.tif\n",
      "    clipping file p81f1048_10x2_2/S1BB_20190909T070638_20191003T070639_VVP024_INT40_G_ueF_D695/S1BB_20190909T070638_20191003T070639_VVP024_INT40_G_ueF_D695_unw_phase.tif to create file p81f1048_10x2_2/S1BB_20190909T070638_20191003T070639_VVP024_INT40_G_ueF_D695/S1BB_20190909T070638_20191003T070639_VVP024_INT40_G_ueF_D695_unw_phase_clip.tif\n",
      "    clipping file p81f1048_10x2_2/S1BB_20190921T070638_20191003T070639_VVP012_INT40_G_ueF_383A/S1BB_20190921T070638_20191003T070639_VVP012_INT40_G_ueF_383A_unw_phase.tif to create file p81f1048_10x2_2/S1BB_20190921T070638_20191003T070639_VVP012_INT40_G_ueF_383A/S1BB_20190921T070638_20191003T070639_VVP012_INT40_G_ueF_383A_unw_phase_clip.tif\n",
      "    clipping file p81f1048_10x2_2/S1BB_20190816T070637_20190921T070638_VVP036_INT40_G_ueF_E7A5/S1BB_20190816T070637_20190921T070638_VVP036_INT40_G_ueF_E7A5_unw_phase.tif to create file p81f1048_10x2_2/S1BB_20190816T070637_20190921T070638_VVP036_INT40_G_ueF_E7A5/S1BB_20190816T070637_20190921T070638_VVP036_INT40_G_ueF_E7A5_unw_phase_clip.tif\n",
      "    clipping file p81f1048_10x2_2/S1BB_20190828T070637_20190921T070638_VVP024_INT40_G_ueF_52DD/S1BB_20190828T070637_20190921T070638_VVP024_INT40_G_ueF_52DD_unw_phase.tif to create file p81f1048_10x2_2/S1BB_20190828T070637_20190921T070638_VVP024_INT40_G_ueF_52DD/S1BB_20190828T070637_20190921T070638_VVP024_INT40_G_ueF_52DD_unw_phase_clip.tif\n",
      "    clipping file p81f1048_10x2_2/S1BB_20190909T070638_20190921T070638_VVP012_INT40_G_ueF_36B2/S1BB_20190909T070638_20190921T070638_VVP012_INT40_G_ueF_36B2_unw_phase.tif to create file p81f1048_10x2_2/S1BB_20190909T070638_20190921T070638_VVP012_INT40_G_ueF_36B2/S1BB_20190909T070638_20190921T070638_VVP012_INT40_G_ueF_36B2_unw_phase_clip.tif\n",
      "    clipping file p81f1048_10x2_2/S1BB_20190804T070636_20190909T070638_VVP036_INT40_G_ueF_DFC1/S1BB_20190804T070636_20190909T070638_VVP036_INT40_G_ueF_DFC1_unw_phase.tif to create file p81f1048_10x2_2/S1BB_20190804T070636_20190909T070638_VVP036_INT40_G_ueF_DFC1/S1BB_20190804T070636_20190909T070638_VVP036_INT40_G_ueF_DFC1_unw_phase_clip.tif\n",
      "    clipping file p81f1048_10x2_2/S1BB_20190816T070637_20190909T070638_VVP024_INT40_G_ueF_21FE/S1BB_20190816T070637_20190909T070638_VVP024_INT40_G_ueF_21FE_unw_phase.tif to create file p81f1048_10x2_2/S1BB_20190816T070637_20190909T070638_VVP024_INT40_G_ueF_21FE/S1BB_20190816T070637_20190909T070638_VVP024_INT40_G_ueF_21FE_unw_phase_clip.tif\n",
      "    clipping file p81f1048_10x2_2/S1BB_20190828T070637_20190909T070638_VVP012_INT40_G_ueF_9348/S1BB_20190828T070637_20190909T070638_VVP012_INT40_G_ueF_9348_unw_phase.tif to create file p81f1048_10x2_2/S1BB_20190828T070637_20190909T070638_VVP012_INT40_G_ueF_9348/S1BB_20190828T070637_20190909T070638_VVP012_INT40_G_ueF_9348_unw_phase_clip.tif\n",
      "    clipping file p81f1048_10x2_2/S1BB_20190723T070635_20190828T070637_VVP036_INT40_G_ueF_386F/S1BB_20190723T070635_20190828T070637_VVP036_INT40_G_ueF_386F_unw_phase.tif to create file p81f1048_10x2_2/S1BB_20190723T070635_20190828T070637_VVP036_INT40_G_ueF_386F/S1BB_20190723T070635_20190828T070637_VVP036_INT40_G_ueF_386F_unw_phase_clip.tif\n",
      "    clipping file p81f1048_10x2_2/S1BB_20190816T070637_20190828T070637_VVP012_INT40_G_ueF_5995/S1BB_20190816T070637_20190828T070637_VVP012_INT40_G_ueF_5995_unw_phase.tif to create file p81f1048_10x2_2/S1BB_20190816T070637_20190828T070637_VVP012_INT40_G_ueF_5995/S1BB_20190816T070637_20190828T070637_VVP012_INT40_G_ueF_5995_unw_phase_clip.tif\n",
      "    clipping file p81f1048_10x2_2/S1BB_20190804T070636_20190828T070637_VVP024_INT40_G_ueF_24D5/S1BB_20190804T070636_20190828T070637_VVP024_INT40_G_ueF_24D5_unw_phase.tif to create file p81f1048_10x2_2/S1BB_20190804T070636_20190828T070637_VVP024_INT40_G_ueF_24D5/S1BB_20190804T070636_20190828T070637_VVP024_INT40_G_ueF_24D5_unw_phase_clip.tif\n",
      "    clipping file p81f1048_10x2_2/S1BB_20190711T070635_20190816T070637_VVP036_INT40_G_ueF_85F9/S1BB_20190711T070635_20190816T070637_VVP036_INT40_G_ueF_85F9_unw_phase.tif to create file p81f1048_10x2_2/S1BB_20190711T070635_20190816T070637_VVP036_INT40_G_ueF_85F9/S1BB_20190711T070635_20190816T070637_VVP036_INT40_G_ueF_85F9_unw_phase_clip.tif\n",
      "    clipping file p81f1048_10x2_2/S1BB_20190723T070635_20190816T070637_VVP024_INT40_G_ueF_E502/S1BB_20190723T070635_20190816T070637_VVP024_INT40_G_ueF_E502_unw_phase.tif to create file p81f1048_10x2_2/S1BB_20190723T070635_20190816T070637_VVP024_INT40_G_ueF_E502/S1BB_20190723T070635_20190816T070637_VVP024_INT40_G_ueF_E502_unw_phase_clip.tif\n",
      "    clipping file p81f1048_10x2_2/S1BB_20190804T070636_20190816T070637_VVP012_INT40_G_ueF_56DF/S1BB_20190804T070636_20190816T070637_VVP012_INT40_G_ueF_56DF_unw_phase.tif to create file p81f1048_10x2_2/S1BB_20190804T070636_20190816T070637_VVP012_INT40_G_ueF_56DF/S1BB_20190804T070636_20190816T070637_VVP012_INT40_G_ueF_56DF_unw_phase_clip.tif\n",
      "    clipping file p81f1048_10x2_2/S1BB_20190617T070633_20190804T070636_VVP048_INT40_G_ueF_07C9/S1BB_20190617T070633_20190804T070636_VVP048_INT40_G_ueF_07C9_unw_phase.tif to create file p81f1048_10x2_2/S1BB_20190617T070633_20190804T070636_VVP048_INT40_G_ueF_07C9/S1BB_20190617T070633_20190804T070636_VVP048_INT40_G_ueF_07C9_unw_phase_clip.tif\n",
      "    clipping file p81f1048_10x2_2/S1BB_20190711T070635_20190804T070636_VVP024_INT40_G_ueF_D83A/S1BB_20190711T070635_20190804T070636_VVP024_INT40_G_ueF_D83A_unw_phase.tif to create file p81f1048_10x2_2/S1BB_20190711T070635_20190804T070636_VVP024_INT40_G_ueF_D83A/S1BB_20190711T070635_20190804T070636_VVP024_INT40_G_ueF_D83A_unw_phase_clip.tif\n",
      "    clipping file p81f1048_10x2_2/S1BB_20190723T070635_20190804T070636_VVP012_INT40_G_ueF_CEB0/S1BB_20190723T070635_20190804T070636_VVP012_INT40_G_ueF_CEB0_unw_phase.tif to create file p81f1048_10x2_2/S1BB_20190723T070635_20190804T070636_VVP012_INT40_G_ueF_CEB0/S1BB_20190723T070635_20190804T070636_VVP012_INT40_G_ueF_CEB0_unw_phase_clip.tif\n",
      "    clipping file p81f1048_10x2_2/S1BB_20190605T070632_20190723T070635_VVP048_INT40_G_ueF_3CF7/S1BB_20190605T070632_20190723T070635_VVP048_INT40_G_ueF_3CF7_unw_phase.tif to create file p81f1048_10x2_2/S1BB_20190605T070632_20190723T070635_VVP048_INT40_G_ueF_3CF7/S1BB_20190605T070632_20190723T070635_VVP048_INT40_G_ueF_3CF7_unw_phase_clip.tif\n",
      "    clipping file p81f1048_10x2_2/S1BB_20190711T070635_20190723T070635_VVP012_INT40_G_ueF_3C5B/S1BB_20190711T070635_20190723T070635_VVP012_INT40_G_ueF_3C5B_unw_phase.tif to create file p81f1048_10x2_2/S1BB_20190711T070635_20190723T070635_VVP012_INT40_G_ueF_3C5B/S1BB_20190711T070635_20190723T070635_VVP012_INT40_G_ueF_3C5B_unw_phase_clip.tif\n",
      "    clipping file p81f1048_10x2_2/S1BB_20190617T070633_20190723T070635_VVP036_INT40_G_ueF_9E63/S1BB_20190617T070633_20190723T070635_VVP036_INT40_G_ueF_9E63_unw_phase.tif to create file p81f1048_10x2_2/S1BB_20190617T070633_20190723T070635_VVP036_INT40_G_ueF_9E63/S1BB_20190617T070633_20190723T070635_VVP036_INT40_G_ueF_9E63_unw_phase_clip.tif\n",
      "    clipping file p81f1048_10x2_2/S1BB_20190605T070632_20190711T070635_VVP036_INT40_G_ueF_3B45/S1BB_20190605T070632_20190711T070635_VVP036_INT40_G_ueF_3B45_unw_phase.tif to create file p81f1048_10x2_2/S1BB_20190605T070632_20190711T070635_VVP036_INT40_G_ueF_3B45/S1BB_20190605T070632_20190711T070635_VVP036_INT40_G_ueF_3B45_unw_phase_clip.tif\n",
      "    clipping file p81f1048_10x2_2/S1BB_20190524T070632_20190711T070635_VVP048_INT40_G_ueF_8B67/S1BB_20190524T070632_20190711T070635_VVP048_INT40_G_ueF_8B67_unw_phase.tif to create file p81f1048_10x2_2/S1BB_20190524T070632_20190711T070635_VVP048_INT40_G_ueF_8B67/S1BB_20190524T070632_20190711T070635_VVP048_INT40_G_ueF_8B67_unw_phase_clip.tif\n",
      "    clipping file p81f1048_10x2_2/S1BB_20190617T070633_20190711T070635_VVP024_INT40_G_ueF_91A1/S1BB_20190617T070633_20190711T070635_VVP024_INT40_G_ueF_91A1_unw_phase.tif to create file p81f1048_10x2_2/S1BB_20190617T070633_20190711T070635_VVP024_INT40_G_ueF_91A1/S1BB_20190617T070633_20190711T070635_VVP024_INT40_G_ueF_91A1_unw_phase_clip.tif\n",
      "    clipping file p81f1048_10x2_2/S1BB_20190512T070631_20190617T070633_VVP036_INT40_G_ueF_4F47/S1BB_20190512T070631_20190617T070633_VVP036_INT40_G_ueF_4F47_unw_phase.tif to create file p81f1048_10x2_2/S1BB_20190512T070631_20190617T070633_VVP036_INT40_G_ueF_4F47/S1BB_20190512T070631_20190617T070633_VVP036_INT40_G_ueF_4F47_unw_phase_clip.tif\n",
      "    clipping file p81f1048_10x2_2/S1BB_20190605T070632_20190617T070633_VVP012_INT40_G_ueF_9E16/S1BB_20190605T070632_20190617T070633_VVP012_INT40_G_ueF_9E16_unw_phase.tif to create file p81f1048_10x2_2/S1BB_20190605T070632_20190617T070633_VVP012_INT40_G_ueF_9E16/S1BB_20190605T070632_20190617T070633_VVP012_INT40_G_ueF_9E16_unw_phase_clip.tif\n",
      "    clipping file p81f1048_10x2_2/S1BB_20190524T070632_20190617T070633_VVP024_INT40_G_ueF_C1EA/S1BB_20190524T070632_20190617T070633_VVP024_INT40_G_ueF_C1EA_unw_phase.tif to create file p81f1048_10x2_2/S1BB_20190524T070632_20190617T070633_VVP024_INT40_G_ueF_C1EA/S1BB_20190524T070632_20190617T070633_VVP024_INT40_G_ueF_C1EA_unw_phase_clip.tif\n",
      "    clipping file p81f1048_10x2_2/S1BB_20190430T070631_20190605T070632_VVP036_INT40_G_ueF_5B6B/S1BB_20190430T070631_20190605T070632_VVP036_INT40_G_ueF_5B6B_unw_phase.tif to create file p81f1048_10x2_2/S1BB_20190430T070631_20190605T070632_VVP036_INT40_G_ueF_5B6B/S1BB_20190430T070631_20190605T070632_VVP036_INT40_G_ueF_5B6B_unw_phase_clip.tif\n",
      "    clipping file p81f1048_10x2_2/S1BB_20190512T070631_20190605T070632_VVP024_INT40_G_ueF_F42A/S1BB_20190512T070631_20190605T070632_VVP024_INT40_G_ueF_F42A_unw_phase.tif to create file p81f1048_10x2_2/S1BB_20190512T070631_20190605T070632_VVP024_INT40_G_ueF_F42A/S1BB_20190512T070631_20190605T070632_VVP024_INT40_G_ueF_F42A_unw_phase_clip.tif\n",
      "    clipping file p81f1048_10x2_2/S1BB_20190524T070632_20190605T070632_VVP012_INT40_G_ueF_F195/S1BB_20190524T070632_20190605T070632_VVP012_INT40_G_ueF_F195_unw_phase.tif to create file p81f1048_10x2_2/S1BB_20190524T070632_20190605T070632_VVP012_INT40_G_ueF_F195/S1BB_20190524T070632_20190605T070632_VVP012_INT40_G_ueF_F195_unw_phase_clip.tif\n",
      "    clipping file p81f1048_10x2_2/S1BB_20190430T070631_20190524T070632_VVP024_INT40_G_ueF_1D17/S1BB_20190430T070631_20190524T070632_VVP024_INT40_G_ueF_1D17_unw_phase.tif to create file p81f1048_10x2_2/S1BB_20190430T070631_20190524T070632_VVP024_INT40_G_ueF_1D17/S1BB_20190430T070631_20190524T070632_VVP024_INT40_G_ueF_1D17_unw_phase_clip.tif\n",
      "    clipping file p81f1048_10x2_2/S1BB_20190406T070630_20190524T070632_VVP048_INT40_G_ueF_3783/S1BB_20190406T070630_20190524T070632_VVP048_INT40_G_ueF_3783_unw_phase.tif to create file p81f1048_10x2_2/S1BB_20190406T070630_20190524T070632_VVP048_INT40_G_ueF_3783/S1BB_20190406T070630_20190524T070632_VVP048_INT40_G_ueF_3783_unw_phase_clip.tif\n",
      "    clipping file p81f1048_10x2_2/S1BB_20190512T070631_20190524T070632_VVP012_INT40_G_ueF_B614/S1BB_20190512T070631_20190524T070632_VVP012_INT40_G_ueF_B614_unw_phase.tif to create file p81f1048_10x2_2/S1BB_20190512T070631_20190524T070632_VVP012_INT40_G_ueF_B614/S1BB_20190512T070631_20190524T070632_VVP012_INT40_G_ueF_B614_unw_phase_clip.tif\n",
      "    clipping file p81f1048_10x2_2/S1BB_20190325T070629_20190512T070631_VVP048_INT40_G_ueF_C58D/S1BB_20190325T070629_20190512T070631_VVP048_INT40_G_ueF_C58D_unw_phase.tif to create file p81f1048_10x2_2/S1BB_20190325T070629_20190512T070631_VVP048_INT40_G_ueF_C58D/S1BB_20190325T070629_20190512T070631_VVP048_INT40_G_ueF_C58D_unw_phase_clip.tif\n",
      "    clipping file p81f1048_10x2_2/S1BB_20190430T070631_20190512T070631_VVP012_INT40_G_ueF_6B74/S1BB_20190430T070631_20190512T070631_VVP012_INT40_G_ueF_6B74_unw_phase.tif to create file p81f1048_10x2_2/S1BB_20190430T070631_20190512T070631_VVP012_INT40_G_ueF_6B74/S1BB_20190430T070631_20190512T070631_VVP012_INT40_G_ueF_6B74_unw_phase_clip.tif\n",
      "    clipping file p81f1048_10x2_2/S1BB_20190406T070630_20190512T070631_VVP036_INT40_G_ueF_2830/S1BB_20190406T070630_20190512T070631_VVP036_INT40_G_ueF_2830_unw_phase.tif to create file p81f1048_10x2_2/S1BB_20190406T070630_20190512T070631_VVP036_INT40_G_ueF_2830/S1BB_20190406T070630_20190512T070631_VVP036_INT40_G_ueF_2830_unw_phase_clip.tif\n",
      "    clipping file p81f1048_10x2_2/S1BB_20190406T070630_20190430T070631_VVP024_INT40_G_ueF_8D0E/S1BB_20190406T070630_20190430T070631_VVP024_INT40_G_ueF_8D0E_unw_phase.tif to create file p81f1048_10x2_2/S1BB_20190406T070630_20190430T070631_VVP024_INT40_G_ueF_8D0E/S1BB_20190406T070630_20190430T070631_VVP024_INT40_G_ueF_8D0E_unw_phase_clip.tif\n",
      "    clipping file p81f1048_10x2_2/S1BB_20190325T070629_20190430T070631_VVP036_INT40_G_ueF_C11B/S1BB_20190325T070629_20190430T070631_VVP036_INT40_G_ueF_C11B_unw_phase.tif to create file p81f1048_10x2_2/S1BB_20190325T070629_20190430T070631_VVP036_INT40_G_ueF_C11B/S1BB_20190325T070629_20190430T070631_VVP036_INT40_G_ueF_C11B_unw_phase_clip.tif\n",
      "    clipping file p81f1048_10x2_2/S1BB_20190313T070629_20190430T070631_VVP048_INT40_G_ueF_DD98/S1BB_20190313T070629_20190430T070631_VVP048_INT40_G_ueF_DD98_unw_phase.tif to create file p81f1048_10x2_2/S1BB_20190313T070629_20190430T070631_VVP048_INT40_G_ueF_DD98/S1BB_20190313T070629_20190430T070631_VVP048_INT40_G_ueF_DD98_unw_phase_clip.tif\n",
      "    clipping file p81f1048_10x2_2/S1BB_20190301T070629_20190406T070630_VVP036_INT40_G_ueF_67F1/S1BB_20190301T070629_20190406T070630_VVP036_INT40_G_ueF_67F1_unw_phase.tif to create file p81f1048_10x2_2/S1BB_20190301T070629_20190406T070630_VVP036_INT40_G_ueF_67F1/S1BB_20190301T070629_20190406T070630_VVP036_INT40_G_ueF_67F1_unw_phase_clip.tif\n",
      "    clipping file p81f1048_10x2_2/S1BB_20190313T070629_20190406T070630_VVP024_INT40_G_ueF_3D2C/S1BB_20190313T070629_20190406T070630_VVP024_INT40_G_ueF_3D2C_unw_phase.tif to create file p81f1048_10x2_2/S1BB_20190313T070629_20190406T070630_VVP024_INT40_G_ueF_3D2C/S1BB_20190313T070629_20190406T070630_VVP024_INT40_G_ueF_3D2C_unw_phase_clip.tif\n",
      "    clipping file p81f1048_10x2_2/S1BB_20190325T070629_20190406T070630_VVP012_INT40_G_ueF_EF83/S1BB_20190325T070629_20190406T070630_VVP012_INT40_G_ueF_EF83_unw_phase.tif to create file p81f1048_10x2_2/S1BB_20190325T070629_20190406T070630_VVP012_INT40_G_ueF_EF83/S1BB_20190325T070629_20190406T070630_VVP012_INT40_G_ueF_EF83_unw_phase_clip.tif\n",
      "    clipping file p81f1048_10x2_2/S1BB_20190217T070629_20190325T070629_VVP036_INT40_G_ueF_4FE9/S1BB_20190217T070629_20190325T070629_VVP036_INT40_G_ueF_4FE9_unw_phase.tif to create file p81f1048_10x2_2/S1BB_20190217T070629_20190325T070629_VVP036_INT40_G_ueF_4FE9/S1BB_20190217T070629_20190325T070629_VVP036_INT40_G_ueF_4FE9_unw_phase_clip.tif\n",
      "    clipping file p81f1048_10x2_2/S1BB_20190301T070629_20190325T070629_VVP024_INT40_G_ueF_90B7/S1BB_20190301T070629_20190325T070629_VVP024_INT40_G_ueF_90B7_unw_phase.tif to create file p81f1048_10x2_2/S1BB_20190301T070629_20190325T070629_VVP024_INT40_G_ueF_90B7/S1BB_20190301T070629_20190325T070629_VVP024_INT40_G_ueF_90B7_unw_phase_clip.tif\n",
      "    clipping file p81f1048_10x2_2/S1BB_20190313T070629_20190325T070629_VVP012_INT40_G_ueF_D42F/S1BB_20190313T070629_20190325T070629_VVP012_INT40_G_ueF_D42F_unw_phase.tif to create file p81f1048_10x2_2/S1BB_20190313T070629_20190325T070629_VVP012_INT40_G_ueF_D42F/S1BB_20190313T070629_20190325T070629_VVP012_INT40_G_ueF_D42F_unw_phase_clip.tif\n",
      "    clipping file p81f1048_10x2_2/S1BB_20190205T070630_20190313T070629_VVP036_INT40_G_ueF_22FD/S1BB_20190205T070630_20190313T070629_VVP036_INT40_G_ueF_22FD_unw_phase.tif to create file p81f1048_10x2_2/S1BB_20190205T070630_20190313T070629_VVP036_INT40_G_ueF_22FD/S1BB_20190205T070630_20190313T070629_VVP036_INT40_G_ueF_22FD_unw_phase_clip.tif\n",
      "    clipping file p81f1048_10x2_2/S1BB_20190217T070629_20190313T070629_VVP024_INT40_G_ueF_3E73/S1BB_20190217T070629_20190313T070629_VVP024_INT40_G_ueF_3E73_unw_phase.tif to create file p81f1048_10x2_2/S1BB_20190217T070629_20190313T070629_VVP024_INT40_G_ueF_3E73/S1BB_20190217T070629_20190313T070629_VVP024_INT40_G_ueF_3E73_unw_phase_clip.tif\n",
      "    clipping file p81f1048_10x2_2/S1BB_20190301T070629_20190313T070629_VVP012_INT40_G_ueF_FFD0/S1BB_20190301T070629_20190313T070629_VVP012_INT40_G_ueF_FFD0_unw_phase.tif to create file p81f1048_10x2_2/S1BB_20190301T070629_20190313T070629_VVP012_INT40_G_ueF_FFD0/S1BB_20190301T070629_20190313T070629_VVP012_INT40_G_ueF_FFD0_unw_phase_clip.tif\n",
      "    clipping file p81f1048_10x2_2/S1BB_20190124T070630_20190301T070629_VVP036_INT40_G_ueF_6610/S1BB_20190124T070630_20190301T070629_VVP036_INT40_G_ueF_6610_unw_phase.tif to create file p81f1048_10x2_2/S1BB_20190124T070630_20190301T070629_VVP036_INT40_G_ueF_6610/S1BB_20190124T070630_20190301T070629_VVP036_INT40_G_ueF_6610_unw_phase_clip.tif\n",
      "    clipping file p81f1048_10x2_2/S1BB_20190205T070630_20190301T070629_VVP024_INT40_G_ueF_9A2B/S1BB_20190205T070630_20190301T070629_VVP024_INT40_G_ueF_9A2B_unw_phase.tif to create file p81f1048_10x2_2/S1BB_20190205T070630_20190301T070629_VVP024_INT40_G_ueF_9A2B/S1BB_20190205T070630_20190301T070629_VVP024_INT40_G_ueF_9A2B_unw_phase_clip.tif\n",
      "    clipping file p81f1048_10x2_2/S1BB_20190217T070629_20190301T070629_VVP012_INT40_G_ueF_879D/S1BB_20190217T070629_20190301T070629_VVP012_INT40_G_ueF_879D_unw_phase.tif to create file p81f1048_10x2_2/S1BB_20190217T070629_20190301T070629_VVP012_INT40_G_ueF_879D/S1BB_20190217T070629_20190301T070629_VVP012_INT40_G_ueF_879D_unw_phase_clip.tif\n",
      "    clipping file p81f1048_10x2_2/S1BB_20190112T070630_20190217T070629_VVP036_INT40_G_ueF_9C56/S1BB_20190112T070630_20190217T070629_VVP036_INT40_G_ueF_9C56_unw_phase.tif to create file p81f1048_10x2_2/S1BB_20190112T070630_20190217T070629_VVP036_INT40_G_ueF_9C56/S1BB_20190112T070630_20190217T070629_VVP036_INT40_G_ueF_9C56_unw_phase_clip.tif\n",
      "    clipping file p81f1048_10x2_2/S1BB_20190124T070630_20190217T070629_VVP024_INT40_G_ueF_584F/S1BB_20190124T070630_20190217T070629_VVP024_INT40_G_ueF_584F_unw_phase.tif to create file p81f1048_10x2_2/S1BB_20190124T070630_20190217T070629_VVP024_INT40_G_ueF_584F/S1BB_20190124T070630_20190217T070629_VVP024_INT40_G_ueF_584F_unw_phase_clip.tif\n",
      "    clipping file p81f1048_10x2_2/S1BB_20190205T070630_20190217T070629_VVP012_INT40_G_ueF_7232/S1BB_20190205T070630_20190217T070629_VVP012_INT40_G_ueF_7232_unw_phase.tif to create file p81f1048_10x2_2/S1BB_20190205T070630_20190217T070629_VVP012_INT40_G_ueF_7232/S1BB_20190205T070630_20190217T070629_VVP012_INT40_G_ueF_7232_unw_phase_clip.tif\n",
      "    clipping file p81f1048_10x2_2/S1BB_20181231T070631_20190205T070630_VVP036_INT40_G_ueF_3319/S1BB_20181231T070631_20190205T070630_VVP036_INT40_G_ueF_3319_unw_phase.tif to create file p81f1048_10x2_2/S1BB_20181231T070631_20190205T070630_VVP036_INT40_G_ueF_3319/S1BB_20181231T070631_20190205T070630_VVP036_INT40_G_ueF_3319_unw_phase_clip.tif\n",
      "    clipping file p81f1048_10x2_2/S1BB_20190124T070630_20190205T070630_VVP012_INT40_G_ueF_F77F/S1BB_20190124T070630_20190205T070630_VVP012_INT40_G_ueF_F77F_unw_phase.tif to create file p81f1048_10x2_2/S1BB_20190124T070630_20190205T070630_VVP012_INT40_G_ueF_F77F/S1BB_20190124T070630_20190205T070630_VVP012_INT40_G_ueF_F77F_unw_phase_clip.tif\n",
      "    clipping file p81f1048_10x2_2/S1BB_20190112T070630_20190205T070630_VVP024_INT40_G_ueF_C8E4/S1BB_20190112T070630_20190205T070630_VVP024_INT40_G_ueF_C8E4_unw_phase.tif to create file p81f1048_10x2_2/S1BB_20190112T070630_20190205T070630_VVP024_INT40_G_ueF_C8E4/S1BB_20190112T070630_20190205T070630_VVP024_INT40_G_ueF_C8E4_unw_phase_clip.tif\n",
      "    clipping file p81f1048_10x2_2/S1BB_20181219T070631_20190124T070630_VVP036_INT40_G_ueF_4712/S1BB_20181219T070631_20190124T070630_VVP036_INT40_G_ueF_4712_unw_phase.tif to create file p81f1048_10x2_2/S1BB_20181219T070631_20190124T070630_VVP036_INT40_G_ueF_4712/S1BB_20181219T070631_20190124T070630_VVP036_INT40_G_ueF_4712_unw_phase_clip.tif\n",
      "    clipping file p81f1048_10x2_2/S1BB_20181231T070631_20190124T070630_VVP024_INT40_G_ueF_BF0B/S1BB_20181231T070631_20190124T070630_VVP024_INT40_G_ueF_BF0B_unw_phase.tif to create file p81f1048_10x2_2/S1BB_20181231T070631_20190124T070630_VVP024_INT40_G_ueF_BF0B/S1BB_20181231T070631_20190124T070630_VVP024_INT40_G_ueF_BF0B_unw_phase_clip.tif\n",
      "    clipping file p81f1048_10x2_2/S1BB_20190112T070630_20190124T070630_VVP012_INT40_G_ueF_1FC4/S1BB_20190112T070630_20190124T070630_VVP012_INT40_G_ueF_1FC4_unw_phase.tif to create file p81f1048_10x2_2/S1BB_20190112T070630_20190124T070630_VVP012_INT40_G_ueF_1FC4/S1BB_20190112T070630_20190124T070630_VVP012_INT40_G_ueF_1FC4_unw_phase_clip.tif\n",
      "    clipping file p81f1048_10x2_2/S1BB_20181207T070632_20190112T070630_VVP036_INT40_G_ueF_53BE/S1BB_20181207T070632_20190112T070630_VVP036_INT40_G_ueF_53BE_unw_phase.tif to create file p81f1048_10x2_2/S1BB_20181207T070632_20190112T070630_VVP036_INT40_G_ueF_53BE/S1BB_20181207T070632_20190112T070630_VVP036_INT40_G_ueF_53BE_unw_phase_clip.tif\n",
      "    clipping file p81f1048_10x2_2/S1BB_20181219T070631_20190112T070630_VVP024_INT40_G_ueF_3BCE/S1BB_20181219T070631_20190112T070630_VVP024_INT40_G_ueF_3BCE_unw_phase.tif to create file p81f1048_10x2_2/S1BB_20181219T070631_20190112T070630_VVP024_INT40_G_ueF_3BCE/S1BB_20181219T070631_20190112T070630_VVP024_INT40_G_ueF_3BCE_unw_phase_clip.tif\n",
      "    clipping file p81f1048_10x2_2/S1BB_20181231T070631_20190112T070630_VVP012_INT40_G_ueF_13B5/S1BB_20181231T070631_20190112T070630_VVP012_INT40_G_ueF_13B5_unw_phase.tif to create file p81f1048_10x2_2/S1BB_20181231T070631_20190112T070630_VVP012_INT40_G_ueF_13B5/S1BB_20181231T070631_20190112T070630_VVP012_INT40_G_ueF_13B5_unw_phase_clip.tif\n",
      "    clipping file p81f1048_10x2_2/S1BB_20181125T070632_20181231T070631_VVP036_INT40_G_ueF_57D9/S1BB_20181125T070632_20181231T070631_VVP036_INT40_G_ueF_57D9_unw_phase.tif to create file p81f1048_10x2_2/S1BB_20181125T070632_20181231T070631_VVP036_INT40_G_ueF_57D9/S1BB_20181125T070632_20181231T070631_VVP036_INT40_G_ueF_57D9_unw_phase_clip.tif\n",
      "    clipping file p81f1048_10x2_2/S1BB_20181207T070632_20181231T070631_VVP024_INT40_G_ueF_E046/S1BB_20181207T070632_20181231T070631_VVP024_INT40_G_ueF_E046_unw_phase.tif to create file p81f1048_10x2_2/S1BB_20181207T070632_20181231T070631_VVP024_INT40_G_ueF_E046/S1BB_20181207T070632_20181231T070631_VVP024_INT40_G_ueF_E046_unw_phase_clip.tif\n",
      "    clipping file p81f1048_10x2_2/S1BB_20181219T070631_20181231T070631_VVP012_INT40_G_ueF_944F/S1BB_20181219T070631_20181231T070631_VVP012_INT40_G_ueF_944F_unw_phase.tif to create file p81f1048_10x2_2/S1BB_20181219T070631_20181231T070631_VVP012_INT40_G_ueF_944F/S1BB_20181219T070631_20181231T070631_VVP012_INT40_G_ueF_944F_unw_phase_clip.tif\n",
      "    clipping file p81f1048_10x2_2/S1BB_20181125T070632_20181219T070631_VVP024_INT40_G_ueF_084C/S1BB_20181125T070632_20181219T070631_VVP024_INT40_G_ueF_084C_unw_phase.tif to create file p81f1048_10x2_2/S1BB_20181125T070632_20181219T070631_VVP024_INT40_G_ueF_084C/S1BB_20181125T070632_20181219T070631_VVP024_INT40_G_ueF_084C_unw_phase_clip.tif\n",
      "    clipping file p81f1048_10x2_2/S1BB_20181113T070632_20181219T070631_VVP036_INT40_G_ueF_1FCB/S1BB_20181113T070632_20181219T070631_VVP036_INT40_G_ueF_1FCB_unw_phase.tif to create file p81f1048_10x2_2/S1BB_20181113T070632_20181219T070631_VVP036_INT40_G_ueF_1FCB/S1BB_20181113T070632_20181219T070631_VVP036_INT40_G_ueF_1FCB_unw_phase_clip.tif\n",
      "    clipping file p81f1048_10x2_2/S1BB_20181207T070632_20181219T070631_VVP012_INT40_G_ueF_7BB6/S1BB_20181207T070632_20181219T070631_VVP012_INT40_G_ueF_7BB6_unw_phase.tif to create file p81f1048_10x2_2/S1BB_20181207T070632_20181219T070631_VVP012_INT40_G_ueF_7BB6/S1BB_20181207T070632_20181219T070631_VVP012_INT40_G_ueF_7BB6_unw_phase_clip.tif\n",
      "    clipping file p81f1048_10x2_2/S1BB_20181101T070633_20181207T070632_VVP036_INT40_G_ueF_2CF3/S1BB_20181101T070633_20181207T070632_VVP036_INT40_G_ueF_2CF3_unw_phase.tif to create file p81f1048_10x2_2/S1BB_20181101T070633_20181207T070632_VVP036_INT40_G_ueF_2CF3/S1BB_20181101T070633_20181207T070632_VVP036_INT40_G_ueF_2CF3_unw_phase_clip.tif\n",
      "    clipping file p81f1048_10x2_2/S1BB_20181113T070632_20181207T070632_VVP024_INT40_G_ueF_EEFF/S1BB_20181113T070632_20181207T070632_VVP024_INT40_G_ueF_EEFF_unw_phase.tif to create file p81f1048_10x2_2/S1BB_20181113T070632_20181207T070632_VVP024_INT40_G_ueF_EEFF/S1BB_20181113T070632_20181207T070632_VVP024_INT40_G_ueF_EEFF_unw_phase_clip.tif\n",
      "    clipping file p81f1048_10x2_2/S1BB_20181125T070632_20181207T070632_VVP012_INT40_G_ueF_F751/S1BB_20181125T070632_20181207T070632_VVP012_INT40_G_ueF_F751_unw_phase.tif to create file p81f1048_10x2_2/S1BB_20181125T070632_20181207T070632_VVP012_INT40_G_ueF_F751/S1BB_20181125T070632_20181207T070632_VVP012_INT40_G_ueF_F751_unw_phase_clip.tif\n",
      "    clipping file p81f1048_10x2_2/S1BB_20181020T070633_20181125T070632_VVP036_INT40_G_ueF_8BA3/S1BB_20181020T070633_20181125T070632_VVP036_INT40_G_ueF_8BA3_unw_phase.tif to create file p81f1048_10x2_2/S1BB_20181020T070633_20181125T070632_VVP036_INT40_G_ueF_8BA3/S1BB_20181020T070633_20181125T070632_VVP036_INT40_G_ueF_8BA3_unw_phase_clip.tif\n",
      "    clipping file p81f1048_10x2_2/S1BB_20181101T070633_20181125T070632_VVP024_INT40_G_ueF_A086/S1BB_20181101T070633_20181125T070632_VVP024_INT40_G_ueF_A086_unw_phase.tif to create file p81f1048_10x2_2/S1BB_20181101T070633_20181125T070632_VVP024_INT40_G_ueF_A086/S1BB_20181101T070633_20181125T070632_VVP024_INT40_G_ueF_A086_unw_phase_clip.tif\n",
      "    clipping file p81f1048_10x2_2/S1BB_20181113T070632_20181125T070632_VVP012_INT40_G_ueF_3ACC/S1BB_20181113T070632_20181125T070632_VVP012_INT40_G_ueF_3ACC_unw_phase.tif to create file p81f1048_10x2_2/S1BB_20181113T070632_20181125T070632_VVP012_INT40_G_ueF_3ACC/S1BB_20181113T070632_20181125T070632_VVP012_INT40_G_ueF_3ACC_unw_phase_clip.tif\n",
      "    clipping file p81f1048_10x2_2/S1BB_20181020T070633_20181113T070632_VVP024_INT40_G_ueF_2534/S1BB_20181020T070633_20181113T070632_VVP024_INT40_G_ueF_2534_unw_phase.tif to create file p81f1048_10x2_2/S1BB_20181020T070633_20181113T070632_VVP024_INT40_G_ueF_2534/S1BB_20181020T070633_20181113T070632_VVP024_INT40_G_ueF_2534_unw_phase_clip.tif\n",
      "    clipping file p81f1048_10x2_2/S1BB_20181008T070633_20181113T070632_VVP036_INT40_G_ueF_AD57/S1BB_20181008T070633_20181113T070632_VVP036_INT40_G_ueF_AD57_unw_phase.tif to create file p81f1048_10x2_2/S1BB_20181008T070633_20181113T070632_VVP036_INT40_G_ueF_AD57/S1BB_20181008T070633_20181113T070632_VVP036_INT40_G_ueF_AD57_unw_phase_clip.tif\n",
      "    clipping file p81f1048_10x2_2/S1BB_20181101T070633_20181113T070632_VVP012_INT40_G_ueF_E574/S1BB_20181101T070633_20181113T070632_VVP012_INT40_G_ueF_E574_unw_phase.tif to create file p81f1048_10x2_2/S1BB_20181101T070633_20181113T070632_VVP012_INT40_G_ueF_E574/S1BB_20181101T070633_20181113T070632_VVP012_INT40_G_ueF_E574_unw_phase_clip.tif\n",
      "    clipping file p81f1048_10x2_2/S1BB_20181008T070633_20181101T070633_VVP024_INT40_G_ueF_C4D6/S1BB_20181008T070633_20181101T070633_VVP024_INT40_G_ueF_C4D6_unw_phase.tif to create file p81f1048_10x2_2/S1BB_20181008T070633_20181101T070633_VVP024_INT40_G_ueF_C4D6/S1BB_20181008T070633_20181101T070633_VVP024_INT40_G_ueF_C4D6_unw_phase_clip.tif\n",
      "    clipping file p81f1048_10x2_2/S1BB_20180926T070632_20181101T070633_VVP036_INT40_G_ueF_0D93/S1BB_20180926T070632_20181101T070633_VVP036_INT40_G_ueF_0D93_unw_phase.tif to create file p81f1048_10x2_2/S1BB_20180926T070632_20181101T070633_VVP036_INT40_G_ueF_0D93/S1BB_20180926T070632_20181101T070633_VVP036_INT40_G_ueF_0D93_unw_phase_clip.tif\n",
      "    clipping file p81f1048_10x2_2/S1BB_20181020T070633_20181101T070633_VVP012_INT40_G_ueF_CB35/S1BB_20181020T070633_20181101T070633_VVP012_INT40_G_ueF_CB35_unw_phase.tif to create file p81f1048_10x2_2/S1BB_20181020T070633_20181101T070633_VVP012_INT40_G_ueF_CB35/S1BB_20181020T070633_20181101T070633_VVP012_INT40_G_ueF_CB35_unw_phase_clip.tif\n",
      "    clipping file p81f1048_10x2_2/S1BB_20180914T070632_20181020T070633_VVP036_INT40_G_ueF_5ECC/S1BB_20180914T070632_20181020T070633_VVP036_INT40_G_ueF_5ECC_unw_phase.tif to create file p81f1048_10x2_2/S1BB_20180914T070632_20181020T070633_VVP036_INT40_G_ueF_5ECC/S1BB_20180914T070632_20181020T070633_VVP036_INT40_G_ueF_5ECC_unw_phase_clip.tif\n",
      "    clipping file p81f1048_10x2_2/S1BB_20180926T070632_20181020T070633_VVP024_INT40_G_ueF_96FD/S1BB_20180926T070632_20181020T070633_VVP024_INT40_G_ueF_96FD_unw_phase.tif to create file p81f1048_10x2_2/S1BB_20180926T070632_20181020T070633_VVP024_INT40_G_ueF_96FD/S1BB_20180926T070632_20181020T070633_VVP024_INT40_G_ueF_96FD_unw_phase_clip.tif\n",
      "    clipping file p81f1048_10x2_2/S1BB_20181008T070633_20181020T070633_VVP012_INT40_G_ueF_BBC5/S1BB_20181008T070633_20181020T070633_VVP012_INT40_G_ueF_BBC5_unw_phase.tif to create file p81f1048_10x2_2/S1BB_20181008T070633_20181020T070633_VVP012_INT40_G_ueF_BBC5/S1BB_20181008T070633_20181020T070633_VVP012_INT40_G_ueF_BBC5_unw_phase_clip.tif\n",
      "    clipping file p81f1048_10x2_2/S1BB_20180914T070632_20181008T070633_VVP024_INT40_G_ueF_910A/S1BB_20180914T070632_20181008T070633_VVP024_INT40_G_ueF_910A_unw_phase.tif to create file p81f1048_10x2_2/S1BB_20180914T070632_20181008T070633_VVP024_INT40_G_ueF_910A/S1BB_20180914T070632_20181008T070633_VVP024_INT40_G_ueF_910A_unw_phase_clip.tif\n",
      "    clipping file p81f1048_10x2_2/S1BB_20180902T070631_20181008T070633_VVP036_INT40_G_ueF_8452/S1BB_20180902T070631_20181008T070633_VVP036_INT40_G_ueF_8452_unw_phase.tif to create file p81f1048_10x2_2/S1BB_20180902T070631_20181008T070633_VVP036_INT40_G_ueF_8452/S1BB_20180902T070631_20181008T070633_VVP036_INT40_G_ueF_8452_unw_phase_clip.tif\n",
      "    clipping file p81f1048_10x2_2/S1BB_20180926T070632_20181008T070633_VVP012_INT40_G_ueF_0DCD/S1BB_20180926T070632_20181008T070633_VVP012_INT40_G_ueF_0DCD_unw_phase.tif to create file p81f1048_10x2_2/S1BB_20180926T070632_20181008T070633_VVP012_INT40_G_ueF_0DCD/S1BB_20180926T070632_20181008T070633_VVP012_INT40_G_ueF_0DCD_unw_phase_clip.tif\n",
      "    clipping file p81f1048_10x2_2/S1BB_20180821T070631_20180926T070632_VVP036_INT40_G_ueF_5223/S1BB_20180821T070631_20180926T070632_VVP036_INT40_G_ueF_5223_unw_phase.tif to create file p81f1048_10x2_2/S1BB_20180821T070631_20180926T070632_VVP036_INT40_G_ueF_5223/S1BB_20180821T070631_20180926T070632_VVP036_INT40_G_ueF_5223_unw_phase_clip.tif\n",
      "    clipping file p81f1048_10x2_2/S1BB_20180902T070631_20180926T070632_VVP024_INT40_G_ueF_A514/S1BB_20180902T070631_20180926T070632_VVP024_INT40_G_ueF_A514_unw_phase.tif to create file p81f1048_10x2_2/S1BB_20180902T070631_20180926T070632_VVP024_INT40_G_ueF_A514/S1BB_20180902T070631_20180926T070632_VVP024_INT40_G_ueF_A514_unw_phase_clip.tif\n",
      "    clipping file p81f1048_10x2_2/S1BB_20180914T070632_20180926T070632_VVP012_INT40_G_ueF_1808/S1BB_20180914T070632_20180926T070632_VVP012_INT40_G_ueF_1808_unw_phase.tif to create file p81f1048_10x2_2/S1BB_20180914T070632_20180926T070632_VVP012_INT40_G_ueF_1808/S1BB_20180914T070632_20180926T070632_VVP012_INT40_G_ueF_1808_unw_phase_clip.tif\n",
      "    clipping file p81f1048_10x2_2/S1BB_20180821T070631_20180914T070632_VVP024_INT40_G_ueF_1871/S1BB_20180821T070631_20180914T070632_VVP024_INT40_G_ueF_1871_unw_phase.tif to create file p81f1048_10x2_2/S1BB_20180821T070631_20180914T070632_VVP024_INT40_G_ueF_1871/S1BB_20180821T070631_20180914T070632_VVP024_INT40_G_ueF_1871_unw_phase_clip.tif\n",
      "    clipping file p81f1048_10x2_2/S1BB_20180809T070630_20180914T070632_VVP036_INT40_G_ueF_C656/S1BB_20180809T070630_20180914T070632_VVP036_INT40_G_ueF_C656_unw_phase.tif to create file p81f1048_10x2_2/S1BB_20180809T070630_20180914T070632_VVP036_INT40_G_ueF_C656/S1BB_20180809T070630_20180914T070632_VVP036_INT40_G_ueF_C656_unw_phase_clip.tif\n",
      "    clipping file p81f1048_10x2_2/S1BB_20180902T070631_20180914T070632_VVP012_INT40_G_ueF_DB57/S1BB_20180902T070631_20180914T070632_VVP012_INT40_G_ueF_DB57_unw_phase.tif to create file p81f1048_10x2_2/S1BB_20180902T070631_20180914T070632_VVP012_INT40_G_ueF_DB57/S1BB_20180902T070631_20180914T070632_VVP012_INT40_G_ueF_DB57_unw_phase_clip.tif\n",
      "    clipping file p81f1048_10x2_2/S1BB_20180728T070629_20180902T070631_VVP036_INT40_G_ueF_C876/S1BB_20180728T070629_20180902T070631_VVP036_INT40_G_ueF_C876_unw_phase.tif to create file p81f1048_10x2_2/S1BB_20180728T070629_20180902T070631_VVP036_INT40_G_ueF_C876/S1BB_20180728T070629_20180902T070631_VVP036_INT40_G_ueF_C876_unw_phase_clip.tif\n",
      "    clipping file p81f1048_10x2_2/S1BB_20180821T070631_20180902T070631_VVP012_INT40_G_ueF_E5B0/S1BB_20180821T070631_20180902T070631_VVP012_INT40_G_ueF_E5B0_unw_phase.tif to create file p81f1048_10x2_2/S1BB_20180821T070631_20180902T070631_VVP012_INT40_G_ueF_E5B0/S1BB_20180821T070631_20180902T070631_VVP012_INT40_G_ueF_E5B0_unw_phase_clip.tif\n",
      "    clipping file p81f1048_10x2_2/S1BB_20180809T070630_20180902T070631_VVP024_INT40_G_ueF_2CC9/S1BB_20180809T070630_20180902T070631_VVP024_INT40_G_ueF_2CC9_unw_phase.tif to create file p81f1048_10x2_2/S1BB_20180809T070630_20180902T070631_VVP024_INT40_G_ueF_2CC9/S1BB_20180809T070630_20180902T070631_VVP024_INT40_G_ueF_2CC9_unw_phase_clip.tif\n",
      "    clipping file p81f1048_10x2_2/S1BB_20180716T070629_20180821T070631_VVP036_INT40_G_ueF_96E2/S1BB_20180716T070629_20180821T070631_VVP036_INT40_G_ueF_96E2_unw_phase.tif to create file p81f1048_10x2_2/S1BB_20180716T070629_20180821T070631_VVP036_INT40_G_ueF_96E2/S1BB_20180716T070629_20180821T070631_VVP036_INT40_G_ueF_96E2_unw_phase_clip.tif\n",
      "    clipping file p81f1048_10x2_2/S1BB_20180728T070629_20180821T070631_VVP024_INT40_G_ueF_407E/S1BB_20180728T070629_20180821T070631_VVP024_INT40_G_ueF_407E_unw_phase.tif to create file p81f1048_10x2_2/S1BB_20180728T070629_20180821T070631_VVP024_INT40_G_ueF_407E/S1BB_20180728T070629_20180821T070631_VVP024_INT40_G_ueF_407E_unw_phase_clip.tif\n",
      "    clipping file p81f1048_10x2_2/S1BB_20180809T070630_20180821T070631_VVP012_INT40_G_ueF_8A16/S1BB_20180809T070630_20180821T070631_VVP012_INT40_G_ueF_8A16_unw_phase.tif to create file p81f1048_10x2_2/S1BB_20180809T070630_20180821T070631_VVP012_INT40_G_ueF_8A16/S1BB_20180809T070630_20180821T070631_VVP012_INT40_G_ueF_8A16_unw_phase_clip.tif\n",
      "    clipping file p81f1048_10x2_2/S1BB_20180704T070628_20180809T070630_VVP036_INT40_G_ueF_BA35/S1BB_20180704T070628_20180809T070630_VVP036_INT40_G_ueF_BA35_unw_phase.tif to create file p81f1048_10x2_2/S1BB_20180704T070628_20180809T070630_VVP036_INT40_G_ueF_BA35/S1BB_20180704T070628_20180809T070630_VVP036_INT40_G_ueF_BA35_unw_phase_clip.tif\n",
      "    clipping file p81f1048_10x2_2/S1BB_20180716T070629_20180809T070630_VVP024_INT40_G_ueF_C7FF/S1BB_20180716T070629_20180809T070630_VVP024_INT40_G_ueF_C7FF_unw_phase.tif to create file p81f1048_10x2_2/S1BB_20180716T070629_20180809T070630_VVP024_INT40_G_ueF_C7FF/S1BB_20180716T070629_20180809T070630_VVP024_INT40_G_ueF_C7FF_unw_phase_clip.tif\n",
      "    clipping file p81f1048_10x2_2/S1BB_20180728T070629_20180809T070630_VVP012_INT40_G_ueF_5A6F/S1BB_20180728T070629_20180809T070630_VVP012_INT40_G_ueF_5A6F_unw_phase.tif to create file p81f1048_10x2_2/S1BB_20180728T070629_20180809T070630_VVP012_INT40_G_ueF_5A6F/S1BB_20180728T070629_20180809T070630_VVP012_INT40_G_ueF_5A6F_unw_phase_clip.tif\n",
      "    clipping file p81f1048_10x2_2/S1BB_20180716T070629_20180728T070629_VVP012_INT40_G_ueF_B11D/S1BB_20180716T070629_20180728T070629_VVP012_INT40_G_ueF_B11D_unw_phase.tif to create file p81f1048_10x2_2/S1BB_20180716T070629_20180728T070629_VVP012_INT40_G_ueF_B11D/S1BB_20180716T070629_20180728T070629_VVP012_INT40_G_ueF_B11D_unw_phase_clip.tif\n",
      "    clipping file p81f1048_10x2_2/S1BB_20180622T070627_20180728T070629_VVP036_INT40_G_ueF_70E4/S1BB_20180622T070627_20180728T070629_VVP036_INT40_G_ueF_70E4_unw_phase.tif to create file p81f1048_10x2_2/S1BB_20180622T070627_20180728T070629_VVP036_INT40_G_ueF_70E4/S1BB_20180622T070627_20180728T070629_VVP036_INT40_G_ueF_70E4_unw_phase_clip.tif\n",
      "    clipping file p81f1048_10x2_2/S1BB_20180704T070628_20180728T070629_VVP024_INT40_G_ueF_7BFA/S1BB_20180704T070628_20180728T070629_VVP024_INT40_G_ueF_7BFA_unw_phase.tif to create file p81f1048_10x2_2/S1BB_20180704T070628_20180728T070629_VVP024_INT40_G_ueF_7BFA/S1BB_20180704T070628_20180728T070629_VVP024_INT40_G_ueF_7BFA_unw_phase_clip.tif\n",
      "    clipping file p81f1048_10x2_2/S1BB_20180622T070627_20180716T070629_VVP024_INT40_G_ueF_16CB/S1BB_20180622T070627_20180716T070629_VVP024_INT40_G_ueF_16CB_unw_phase.tif to create file p81f1048_10x2_2/S1BB_20180622T070627_20180716T070629_VVP024_INT40_G_ueF_16CB/S1BB_20180622T070627_20180716T070629_VVP024_INT40_G_ueF_16CB_unw_phase_clip.tif\n",
      "    clipping file p81f1048_10x2_2/S1BB_20180704T070628_20180716T070629_VVP012_INT40_G_ueF_A88A/S1BB_20180704T070628_20180716T070629_VVP012_INT40_G_ueF_A88A_unw_phase.tif to create file p81f1048_10x2_2/S1BB_20180704T070628_20180716T070629_VVP012_INT40_G_ueF_A88A/S1BB_20180704T070628_20180716T070629_VVP012_INT40_G_ueF_A88A_unw_phase_clip.tif\n",
      "    clipping file p81f1048_10x2_2/S1BB_20180610T070627_20180716T070629_VVP036_INT40_G_ueF_988A/S1BB_20180610T070627_20180716T070629_VVP036_INT40_G_ueF_988A_unw_phase.tif to create file p81f1048_10x2_2/S1BB_20180610T070627_20180716T070629_VVP036_INT40_G_ueF_988A/S1BB_20180610T070627_20180716T070629_VVP036_INT40_G_ueF_988A_unw_phase_clip.tif\n",
      "    clipping file p81f1048_10x2_2/S1BB_20180529T070626_20180704T070628_VVP036_INT40_G_ueF_957D/S1BB_20180529T070626_20180704T070628_VVP036_INT40_G_ueF_957D_unw_phase.tif to create file p81f1048_10x2_2/S1BB_20180529T070626_20180704T070628_VVP036_INT40_G_ueF_957D/S1BB_20180529T070626_20180704T070628_VVP036_INT40_G_ueF_957D_unw_phase_clip.tif\n",
      "    clipping file p81f1048_10x2_2/S1BB_20180622T070627_20180704T070628_VVP012_INT40_G_ueF_C4C4/S1BB_20180622T070627_20180704T070628_VVP012_INT40_G_ueF_C4C4_unw_phase.tif to create file p81f1048_10x2_2/S1BB_20180622T070627_20180704T070628_VVP012_INT40_G_ueF_C4C4/S1BB_20180622T070627_20180704T070628_VVP012_INT40_G_ueF_C4C4_unw_phase_clip.tif\n",
      "    clipping file p81f1048_10x2_2/S1BB_20180610T070627_20180704T070628_VVP024_INT40_G_ueF_E4D3/S1BB_20180610T070627_20180704T070628_VVP024_INT40_G_ueF_E4D3_unw_phase.tif to create file p81f1048_10x2_2/S1BB_20180610T070627_20180704T070628_VVP024_INT40_G_ueF_E4D3/S1BB_20180610T070627_20180704T070628_VVP024_INT40_G_ueF_E4D3_unw_phase_clip.tif\n",
      "    clipping file p81f1048_10x2_2/S1BB_20180517T070625_20180622T070627_VVP036_INT40_G_ueF_D9B5/S1BB_20180517T070625_20180622T070627_VVP036_INT40_G_ueF_D9B5_unw_phase.tif to create file p81f1048_10x2_2/S1BB_20180517T070625_20180622T070627_VVP036_INT40_G_ueF_D9B5/S1BB_20180517T070625_20180622T070627_VVP036_INT40_G_ueF_D9B5_unw_phase_clip.tif\n",
      "    clipping file p81f1048_10x2_2/S1BB_20180529T070626_20180622T070627_VVP024_INT40_G_ueF_D57A/S1BB_20180529T070626_20180622T070627_VVP024_INT40_G_ueF_D57A_unw_phase.tif to create file p81f1048_10x2_2/S1BB_20180529T070626_20180622T070627_VVP024_INT40_G_ueF_D57A/S1BB_20180529T070626_20180622T070627_VVP024_INT40_G_ueF_D57A_unw_phase_clip.tif\n",
      "    clipping file p81f1048_10x2_2/S1BB_20180610T070627_20180622T070627_VVP012_INT40_G_ueF_4A7B/S1BB_20180610T070627_20180622T070627_VVP012_INT40_G_ueF_4A7B_unw_phase.tif to create file p81f1048_10x2_2/S1BB_20180610T070627_20180622T070627_VVP012_INT40_G_ueF_4A7B/S1BB_20180610T070627_20180622T070627_VVP012_INT40_G_ueF_4A7B_unw_phase_clip.tif\n",
      "    clipping file p81f1048_10x2_2/S1BB_20180505T070624_20180610T070627_VVP036_INT40_G_ueF_0B70/S1BB_20180505T070624_20180610T070627_VVP036_INT40_G_ueF_0B70_unw_phase.tif to create file p81f1048_10x2_2/S1BB_20180505T070624_20180610T070627_VVP036_INT40_G_ueF_0B70/S1BB_20180505T070624_20180610T070627_VVP036_INT40_G_ueF_0B70_unw_phase_clip.tif\n",
      "    clipping file p81f1048_10x2_2/S1BB_20180529T070626_20180610T070627_VVP012_INT40_G_ueF_D279/S1BB_20180529T070626_20180610T070627_VVP012_INT40_G_ueF_D279_unw_phase.tif to create file p81f1048_10x2_2/S1BB_20180529T070626_20180610T070627_VVP012_INT40_G_ueF_D279/S1BB_20180529T070626_20180610T070627_VVP012_INT40_G_ueF_D279_unw_phase_clip.tif\n",
      "    clipping file p81f1048_10x2_2/S1BB_20180517T070625_20180610T070627_VVP024_INT40_G_ueF_75B0/S1BB_20180517T070625_20180610T070627_VVP024_INT40_G_ueF_75B0_unw_phase.tif to create file p81f1048_10x2_2/S1BB_20180517T070625_20180610T070627_VVP024_INT40_G_ueF_75B0/S1BB_20180517T070625_20180610T070627_VVP024_INT40_G_ueF_75B0_unw_phase_clip.tif\n",
      "    clipping file p81f1048_10x2_2/S1BB_20180423T070624_20180529T070626_VVP036_INT40_G_ueF_E2DE/S1BB_20180423T070624_20180529T070626_VVP036_INT40_G_ueF_E2DE_unw_phase.tif to create file p81f1048_10x2_2/S1BB_20180423T070624_20180529T070626_VVP036_INT40_G_ueF_E2DE/S1BB_20180423T070624_20180529T070626_VVP036_INT40_G_ueF_E2DE_unw_phase_clip.tif\n",
      "    clipping file p81f1048_10x2_2/S1BB_20180505T070624_20180529T070626_VVP024_INT40_G_ueF_0E02/S1BB_20180505T070624_20180529T070626_VVP024_INT40_G_ueF_0E02_unw_phase.tif to create file p81f1048_10x2_2/S1BB_20180505T070624_20180529T070626_VVP024_INT40_G_ueF_0E02/S1BB_20180505T070624_20180529T070626_VVP024_INT40_G_ueF_0E02_unw_phase_clip.tif\n",
      "    clipping file p81f1048_10x2_2/S1BB_20180517T070625_20180529T070626_VVP012_INT40_G_ueF_B06F/S1BB_20180517T070625_20180529T070626_VVP012_INT40_G_ueF_B06F_unw_phase.tif to create file p81f1048_10x2_2/S1BB_20180517T070625_20180529T070626_VVP012_INT40_G_ueF_B06F/S1BB_20180517T070625_20180529T070626_VVP012_INT40_G_ueF_B06F_unw_phase_clip.tif\n",
      "    clipping file p81f1048_10x2_2/S1BB_20180411T070623_20180517T070625_VVP036_INT40_G_ueF_D4B2/S1BB_20180411T070623_20180517T070625_VVP036_INT40_G_ueF_D4B2_unw_phase.tif to create file p81f1048_10x2_2/S1BB_20180411T070623_20180517T070625_VVP036_INT40_G_ueF_D4B2/S1BB_20180411T070623_20180517T070625_VVP036_INT40_G_ueF_D4B2_unw_phase_clip.tif\n",
      "    clipping file p81f1048_10x2_2/S1BB_20180423T070624_20180517T070625_VVP024_INT40_G_ueF_0B0D/S1BB_20180423T070624_20180517T070625_VVP024_INT40_G_ueF_0B0D_unw_phase.tif to create file p81f1048_10x2_2/S1BB_20180423T070624_20180517T070625_VVP024_INT40_G_ueF_0B0D/S1BB_20180423T070624_20180517T070625_VVP024_INT40_G_ueF_0B0D_unw_phase_clip.tif\n",
      "    clipping file p81f1048_10x2_2/S1BB_20180505T070624_20180517T070625_VVP012_INT40_G_ueF_FC01/S1BB_20180505T070624_20180517T070625_VVP012_INT40_G_ueF_FC01_unw_phase.tif to create file p81f1048_10x2_2/S1BB_20180505T070624_20180517T070625_VVP012_INT40_G_ueF_FC01/S1BB_20180505T070624_20180517T070625_VVP012_INT40_G_ueF_FC01_unw_phase_clip.tif\n",
      "    clipping file p81f1048_10x2_2/S1BB_20180330T070623_20180505T070624_VVP036_INT40_G_ueF_C8AB/S1BB_20180330T070623_20180505T070624_VVP036_INT40_G_ueF_C8AB_unw_phase.tif to create file p81f1048_10x2_2/S1BB_20180330T070623_20180505T070624_VVP036_INT40_G_ueF_C8AB/S1BB_20180330T070623_20180505T070624_VVP036_INT40_G_ueF_C8AB_unw_phase_clip.tif\n",
      "    clipping file p81f1048_10x2_2/S1BB_20180411T070623_20180505T070624_VVP024_INT40_G_ueF_F243/S1BB_20180411T070623_20180505T070624_VVP024_INT40_G_ueF_F243_unw_phase.tif to create file p81f1048_10x2_2/S1BB_20180411T070623_20180505T070624_VVP024_INT40_G_ueF_F243/S1BB_20180411T070623_20180505T070624_VVP024_INT40_G_ueF_F243_unw_phase_clip.tif\n",
      "    clipping file p81f1048_10x2_2/S1BB_20180423T070624_20180505T070624_VVP012_INT40_G_ueF_45AF/S1BB_20180423T070624_20180505T070624_VVP012_INT40_G_ueF_45AF_unw_phase.tif to create file p81f1048_10x2_2/S1BB_20180423T070624_20180505T070624_VVP012_INT40_G_ueF_45AF/S1BB_20180423T070624_20180505T070624_VVP012_INT40_G_ueF_45AF_unw_phase_clip.tif\n",
      "    clipping file p81f1048_10x2_2/S1BB_20180318T070623_20180423T070624_VVP036_INT40_G_ueF_4AD1/S1BB_20180318T070623_20180423T070624_VVP036_INT40_G_ueF_4AD1_unw_phase.tif to create file p81f1048_10x2_2/S1BB_20180318T070623_20180423T070624_VVP036_INT40_G_ueF_4AD1/S1BB_20180318T070623_20180423T070624_VVP036_INT40_G_ueF_4AD1_unw_phase_clip.tif\n",
      "    clipping file p81f1048_10x2_2/S1BB_20180330T070623_20180423T070624_VVP024_INT40_G_ueF_BA71/S1BB_20180330T070623_20180423T070624_VVP024_INT40_G_ueF_BA71_unw_phase.tif to create file p81f1048_10x2_2/S1BB_20180330T070623_20180423T070624_VVP024_INT40_G_ueF_BA71/S1BB_20180330T070623_20180423T070624_VVP024_INT40_G_ueF_BA71_unw_phase_clip.tif\n",
      "    clipping file p81f1048_10x2_2/S1BB_20180411T070623_20180423T070624_VVP012_INT40_G_ueF_1135/S1BB_20180411T070623_20180423T070624_VVP012_INT40_G_ueF_1135_unw_phase.tif to create file p81f1048_10x2_2/S1BB_20180411T070623_20180423T070624_VVP012_INT40_G_ueF_1135/S1BB_20180411T070623_20180423T070624_VVP012_INT40_G_ueF_1135_unw_phase_clip.tif\n",
      "    clipping file p81f1048_10x2_2/S1BB_20180306T070623_20180411T070623_VVP036_INT40_G_ueF_F61C/S1BB_20180306T070623_20180411T070623_VVP036_INT40_G_ueF_F61C_unw_phase.tif to create file p81f1048_10x2_2/S1BB_20180306T070623_20180411T070623_VVP036_INT40_G_ueF_F61C/S1BB_20180306T070623_20180411T070623_VVP036_INT40_G_ueF_F61C_unw_phase_clip.tif\n",
      "    clipping file p81f1048_10x2_2/S1BB_20180330T070623_20180411T070623_VVP012_INT40_G_ueF_7016/S1BB_20180330T070623_20180411T070623_VVP012_INT40_G_ueF_7016_unw_phase.tif to create file p81f1048_10x2_2/S1BB_20180330T070623_20180411T070623_VVP012_INT40_G_ueF_7016/S1BB_20180330T070623_20180411T070623_VVP012_INT40_G_ueF_7016_unw_phase_clip.tif\n",
      "    clipping file p81f1048_10x2_2/S1BB_20180318T070623_20180411T070623_VVP024_INT40_G_ueF_76A2/S1BB_20180318T070623_20180411T070623_VVP024_INT40_G_ueF_76A2_unw_phase.tif to create file p81f1048_10x2_2/S1BB_20180318T070623_20180411T070623_VVP024_INT40_G_ueF_76A2/S1BB_20180318T070623_20180411T070623_VVP024_INT40_G_ueF_76A2_unw_phase_clip.tif\n",
      "    clipping file p81f1048_10x2_2/S1BB_20180222T070622_20180330T070623_VVP036_INT40_G_ueF_3222/S1BB_20180222T070622_20180330T070623_VVP036_INT40_G_ueF_3222_unw_phase.tif to create file p81f1048_10x2_2/S1BB_20180222T070622_20180330T070623_VVP036_INT40_G_ueF_3222/S1BB_20180222T070622_20180330T070623_VVP036_INT40_G_ueF_3222_unw_phase_clip.tif\n",
      "    clipping file p81f1048_10x2_2/S1BB_20180306T070623_20180330T070623_VVP024_INT40_G_ueF_D8B7/S1BB_20180306T070623_20180330T070623_VVP024_INT40_G_ueF_D8B7_unw_phase.tif to create file p81f1048_10x2_2/S1BB_20180306T070623_20180330T070623_VVP024_INT40_G_ueF_D8B7/S1BB_20180306T070623_20180330T070623_VVP024_INT40_G_ueF_D8B7_unw_phase_clip.tif\n",
      "    clipping file p81f1048_10x2_2/S1BB_20180318T070623_20180330T070623_VVP012_INT40_G_ueF_6E98/S1BB_20180318T070623_20180330T070623_VVP012_INT40_G_ueF_6E98_unw_phase.tif to create file p81f1048_10x2_2/S1BB_20180318T070623_20180330T070623_VVP012_INT40_G_ueF_6E98/S1BB_20180318T070623_20180330T070623_VVP012_INT40_G_ueF_6E98_unw_phase_clip.tif\n",
      "    clipping file p81f1048_10x2_2/S1BB_20180210T070623_20180318T070623_VVP036_INT40_G_ueF_245D/S1BB_20180210T070623_20180318T070623_VVP036_INT40_G_ueF_245D_unw_phase.tif to create file p81f1048_10x2_2/S1BB_20180210T070623_20180318T070623_VVP036_INT40_G_ueF_245D/S1BB_20180210T070623_20180318T070623_VVP036_INT40_G_ueF_245D_unw_phase_clip.tif\n",
      "    clipping file p81f1048_10x2_2/S1BB_20180306T070623_20180318T070623_VVP012_INT40_G_ueF_1E19/S1BB_20180306T070623_20180318T070623_VVP012_INT40_G_ueF_1E19_unw_phase.tif to create file p81f1048_10x2_2/S1BB_20180306T070623_20180318T070623_VVP012_INT40_G_ueF_1E19/S1BB_20180306T070623_20180318T070623_VVP012_INT40_G_ueF_1E19_unw_phase_clip.tif\n",
      "    clipping file p81f1048_10x2_2/S1BB_20180222T070622_20180318T070623_VVP024_INT40_G_ueF_62A7/S1BB_20180222T070622_20180318T070623_VVP024_INT40_G_ueF_62A7_unw_phase.tif to create file p81f1048_10x2_2/S1BB_20180222T070622_20180318T070623_VVP024_INT40_G_ueF_62A7/S1BB_20180222T070622_20180318T070623_VVP024_INT40_G_ueF_62A7_unw_phase_clip.tif\n",
      "    clipping file p81f1048_10x2_2/S1BB_20180129T070623_20180306T070623_VVP036_INT40_G_ueF_16D5/S1BB_20180129T070623_20180306T070623_VVP036_INT40_G_ueF_16D5_unw_phase.tif to create file p81f1048_10x2_2/S1BB_20180129T070623_20180306T070623_VVP036_INT40_G_ueF_16D5/S1BB_20180129T070623_20180306T070623_VVP036_INT40_G_ueF_16D5_unw_phase_clip.tif\n",
      "    clipping file p81f1048_10x2_2/S1BB_20180210T070623_20180306T070623_VVP024_INT40_G_ueF_EFA7/S1BB_20180210T070623_20180306T070623_VVP024_INT40_G_ueF_EFA7_unw_phase.tif to create file p81f1048_10x2_2/S1BB_20180210T070623_20180306T070623_VVP024_INT40_G_ueF_EFA7/S1BB_20180210T070623_20180306T070623_VVP024_INT40_G_ueF_EFA7_unw_phase_clip.tif\n",
      "    clipping file p81f1048_10x2_2/S1BB_20180222T070622_20180306T070623_VVP012_INT40_G_ueF_81CE/S1BB_20180222T070622_20180306T070623_VVP012_INT40_G_ueF_81CE_unw_phase.tif to create file p81f1048_10x2_2/S1BB_20180222T070622_20180306T070623_VVP012_INT40_G_ueF_81CE/S1BB_20180222T070622_20180306T070623_VVP012_INT40_G_ueF_81CE_unw_phase_clip.tif\n",
      "    clipping file p81f1048_10x2_2/S1BB_20180129T070623_20180222T070622_VVP024_INT40_G_ueF_9560/S1BB_20180129T070623_20180222T070622_VVP024_INT40_G_ueF_9560_unw_phase.tif to create file p81f1048_10x2_2/S1BB_20180129T070623_20180222T070622_VVP024_INT40_G_ueF_9560/S1BB_20180129T070623_20180222T070622_VVP024_INT40_G_ueF_9560_unw_phase_clip.tif\n",
      "    clipping file p81f1048_10x2_2/S1BB_20180117T070623_20180222T070622_VVP036_INT40_G_ueF_F90E/S1BB_20180117T070623_20180222T070622_VVP036_INT40_G_ueF_F90E_unw_phase.tif to create file p81f1048_10x2_2/S1BB_20180117T070623_20180222T070622_VVP036_INT40_G_ueF_F90E/S1BB_20180117T070623_20180222T070622_VVP036_INT40_G_ueF_F90E_unw_phase_clip.tif\n",
      "    clipping file p81f1048_10x2_2/S1BB_20180210T070623_20180222T070622_VVP012_INT40_G_ueF_C723/S1BB_20180210T070623_20180222T070622_VVP012_INT40_G_ueF_C723_unw_phase.tif to create file p81f1048_10x2_2/S1BB_20180210T070623_20180222T070622_VVP012_INT40_G_ueF_C723/S1BB_20180210T070623_20180222T070622_VVP012_INT40_G_ueF_C723_unw_phase_clip.tif\n",
      "    clipping file p81f1048_10x2_2/S1BB_20180105T070624_20180210T070623_VVP036_INT40_G_ueF_278F/S1BB_20180105T070624_20180210T070623_VVP036_INT40_G_ueF_278F_unw_phase.tif to create file p81f1048_10x2_2/S1BB_20180105T070624_20180210T070623_VVP036_INT40_G_ueF_278F/S1BB_20180105T070624_20180210T070623_VVP036_INT40_G_ueF_278F_unw_phase_clip.tif\n",
      "    clipping file p81f1048_10x2_2/S1BB_20180129T070623_20180210T070623_VVP012_INT40_G_ueF_ED76/S1BB_20180129T070623_20180210T070623_VVP012_INT40_G_ueF_ED76_unw_phase.tif to create file p81f1048_10x2_2/S1BB_20180129T070623_20180210T070623_VVP012_INT40_G_ueF_ED76/S1BB_20180129T070623_20180210T070623_VVP012_INT40_G_ueF_ED76_unw_phase_clip.tif\n",
      "    clipping file p81f1048_10x2_2/S1BB_20180117T070623_20180210T070623_VVP024_INT40_G_ueF_2A64/S1BB_20180117T070623_20180210T070623_VVP024_INT40_G_ueF_2A64_unw_phase.tif to create file p81f1048_10x2_2/S1BB_20180117T070623_20180210T070623_VVP024_INT40_G_ueF_2A64/S1BB_20180117T070623_20180210T070623_VVP024_INT40_G_ueF_2A64_unw_phase_clip.tif\n",
      "    clipping file p81f1048_10x2_2/S1BB_20180105T070624_20180129T070623_VVP024_INT40_G_ueF_6F1E/S1BB_20180105T070624_20180129T070623_VVP024_INT40_G_ueF_6F1E_unw_phase.tif to create file p81f1048_10x2_2/S1BB_20180105T070624_20180129T070623_VVP024_INT40_G_ueF_6F1E/S1BB_20180105T070624_20180129T070623_VVP024_INT40_G_ueF_6F1E_unw_phase_clip.tif\n",
      "    clipping file p81f1048_10x2_2/S1BB_20171224T070624_20180129T070623_VVP036_INT40_G_ueF_1D60/S1BB_20171224T070624_20180129T070623_VVP036_INT40_G_ueF_1D60_unw_phase.tif to create file p81f1048_10x2_2/S1BB_20171224T070624_20180129T070623_VVP036_INT40_G_ueF_1D60/S1BB_20171224T070624_20180129T070623_VVP036_INT40_G_ueF_1D60_unw_phase_clip.tif\n",
      "    clipping file p81f1048_10x2_2/S1BB_20180117T070623_20180129T070623_VVP012_INT40_G_ueF_439A/S1BB_20180117T070623_20180129T070623_VVP012_INT40_G_ueF_439A_unw_phase.tif to create file p81f1048_10x2_2/S1BB_20180117T070623_20180129T070623_VVP012_INT40_G_ueF_439A/S1BB_20180117T070623_20180129T070623_VVP012_INT40_G_ueF_439A_unw_phase_clip.tif\n",
      "    clipping file p81f1048_10x2_2/S1BB_20171212T070625_20180117T070623_VVP036_INT40_G_ueF_A930/S1BB_20171212T070625_20180117T070623_VVP036_INT40_G_ueF_A930_unw_phase.tif to create file p81f1048_10x2_2/S1BB_20171212T070625_20180117T070623_VVP036_INT40_G_ueF_A930/S1BB_20171212T070625_20180117T070623_VVP036_INT40_G_ueF_A930_unw_phase_clip.tif\n",
      "    clipping file p81f1048_10x2_2/S1BB_20180105T070624_20180117T070623_VVP012_INT40_G_ueF_D024/S1BB_20180105T070624_20180117T070623_VVP012_INT40_G_ueF_D024_unw_phase.tif to create file p81f1048_10x2_2/S1BB_20180105T070624_20180117T070623_VVP012_INT40_G_ueF_D024/S1BB_20180105T070624_20180117T070623_VVP012_INT40_G_ueF_D024_unw_phase_clip.tif\n",
      "    clipping file p81f1048_10x2_2/S1BB_20171224T070624_20180117T070623_VVP024_INT40_G_ueF_E6B9/S1BB_20171224T070624_20180117T070623_VVP024_INT40_G_ueF_E6B9_unw_phase.tif to create file p81f1048_10x2_2/S1BB_20171224T070624_20180117T070623_VVP024_INT40_G_ueF_E6B9/S1BB_20171224T070624_20180117T070623_VVP024_INT40_G_ueF_E6B9_unw_phase_clip.tif\n",
      "    clipping file p81f1048_10x2_2/S1BB_20171130T070625_20180105T070624_VVP036_INT40_G_ueF_F516/S1BB_20171130T070625_20180105T070624_VVP036_INT40_G_ueF_F516_unw_phase.tif to create file p81f1048_10x2_2/S1BB_20171130T070625_20180105T070624_VVP036_INT40_G_ueF_F516/S1BB_20171130T070625_20180105T070624_VVP036_INT40_G_ueF_F516_unw_phase_clip.tif\n",
      "    clipping file p81f1048_10x2_2/S1BB_20171212T070625_20180105T070624_VVP024_INT40_G_ueF_8AC1/S1BB_20171212T070625_20180105T070624_VVP024_INT40_G_ueF_8AC1_unw_phase.tif to create file p81f1048_10x2_2/S1BB_20171212T070625_20180105T070624_VVP024_INT40_G_ueF_8AC1/S1BB_20171212T070625_20180105T070624_VVP024_INT40_G_ueF_8AC1_unw_phase_clip.tif\n",
      "    clipping file p81f1048_10x2_2/S1BB_20171224T070624_20180105T070624_VVP012_INT40_G_ueF_0A8B/S1BB_20171224T070624_20180105T070624_VVP012_INT40_G_ueF_0A8B_unw_phase.tif to create file p81f1048_10x2_2/S1BB_20171224T070624_20180105T070624_VVP012_INT40_G_ueF_0A8B/S1BB_20171224T070624_20180105T070624_VVP012_INT40_G_ueF_0A8B_unw_phase_clip.tif\n",
      "    clipping file p81f1048_10x2_2/S1BB_20210218T070641_20210326T070641_VVP036_INT40_G_ueF_10FF/S1BB_20210218T070641_20210326T070641_VVP036_INT40_G_ueF_10FF_corr.tif to create file p81f1048_10x2_2/S1BB_20210218T070641_20210326T070641_VVP036_INT40_G_ueF_10FF/S1BB_20210218T070641_20210326T070641_VVP036_INT40_G_ueF_10FF_corr_clip.tif\n",
      "    clipping file p81f1048_10x2_2/S1BB_20210302T070641_20210326T070641_VVP024_INT40_G_ueF_79BB/S1BB_20210302T070641_20210326T070641_VVP024_INT40_G_ueF_79BB_corr.tif to create file p81f1048_10x2_2/S1BB_20210302T070641_20210326T070641_VVP024_INT40_G_ueF_79BB/S1BB_20210302T070641_20210326T070641_VVP024_INT40_G_ueF_79BB_corr_clip.tif\n",
      "    clipping file p81f1048_10x2_2/S1BB_20210314T070641_20210326T070641_VVP012_INT40_G_ueF_3BF5/S1BB_20210314T070641_20210326T070641_VVP012_INT40_G_ueF_3BF5_corr.tif to create file p81f1048_10x2_2/S1BB_20210314T070641_20210326T070641_VVP012_INT40_G_ueF_3BF5/S1BB_20210314T070641_20210326T070641_VVP012_INT40_G_ueF_3BF5_corr_clip.tif\n",
      "    clipping file p81f1048_10x2_2/S1BB_20210206T070642_20210314T070641_VVP036_INT40_G_ueF_88DA/S1BB_20210206T070642_20210314T070641_VVP036_INT40_G_ueF_88DA_corr.tif to create file p81f1048_10x2_2/S1BB_20210206T070642_20210314T070641_VVP036_INT40_G_ueF_88DA/S1BB_20210206T070642_20210314T070641_VVP036_INT40_G_ueF_88DA_corr_clip.tif\n",
      "    clipping file p81f1048_10x2_2/S1BB_20210218T070641_20210314T070641_VVP024_INT40_G_ueF_E3E7/S1BB_20210218T070641_20210314T070641_VVP024_INT40_G_ueF_E3E7_corr.tif to create file p81f1048_10x2_2/S1BB_20210218T070641_20210314T070641_VVP024_INT40_G_ueF_E3E7/S1BB_20210218T070641_20210314T070641_VVP024_INT40_G_ueF_E3E7_corr_clip.tif\n",
      "    clipping file p81f1048_10x2_2/S1BB_20210302T070641_20210314T070641_VVP012_INT40_G_ueF_3140/S1BB_20210302T070641_20210314T070641_VVP012_INT40_G_ueF_3140_corr.tif to create file p81f1048_10x2_2/S1BB_20210302T070641_20210314T070641_VVP012_INT40_G_ueF_3140/S1BB_20210302T070641_20210314T070641_VVP012_INT40_G_ueF_3140_corr_clip.tif\n",
      "    clipping file p81f1048_10x2_2/S1BB_20210125T070642_20210302T070641_VVP036_INT40_G_ueF_E1ED/S1BB_20210125T070642_20210302T070641_VVP036_INT40_G_ueF_E1ED_corr.tif to create file p81f1048_10x2_2/S1BB_20210125T070642_20210302T070641_VVP036_INT40_G_ueF_E1ED/S1BB_20210125T070642_20210302T070641_VVP036_INT40_G_ueF_E1ED_corr_clip.tif\n",
      "    clipping file p81f1048_10x2_2/S1BB_20210206T070642_20210302T070641_VVP024_INT40_G_ueF_892B/S1BB_20210206T070642_20210302T070641_VVP024_INT40_G_ueF_892B_corr.tif to create file p81f1048_10x2_2/S1BB_20210206T070642_20210302T070641_VVP024_INT40_G_ueF_892B/S1BB_20210206T070642_20210302T070641_VVP024_INT40_G_ueF_892B_corr_clip.tif\n",
      "    clipping file p81f1048_10x2_2/S1BB_20210218T070641_20210302T070641_VVP012_INT40_G_ueF_0456/S1BB_20210218T070641_20210302T070641_VVP012_INT40_G_ueF_0456_corr.tif to create file p81f1048_10x2_2/S1BB_20210218T070641_20210302T070641_VVP012_INT40_G_ueF_0456/S1BB_20210218T070641_20210302T070641_VVP012_INT40_G_ueF_0456_corr_clip.tif\n",
      "    clipping file p81f1048_10x2_2/S1BB_20210125T070642_20210218T070641_VVP024_INT40_G_ueF_F9A2/S1BB_20210125T070642_20210218T070641_VVP024_INT40_G_ueF_F9A2_corr.tif to create file p81f1048_10x2_2/S1BB_20210125T070642_20210218T070641_VVP024_INT40_G_ueF_F9A2/S1BB_20210125T070642_20210218T070641_VVP024_INT40_G_ueF_F9A2_corr_clip.tif\n",
      "    clipping file p81f1048_10x2_2/S1BB_20210113T070643_20210218T070641_VVP036_INT40_G_ueF_DAF1/S1BB_20210113T070643_20210218T070641_VVP036_INT40_G_ueF_DAF1_corr.tif to create file p81f1048_10x2_2/S1BB_20210113T070643_20210218T070641_VVP036_INT40_G_ueF_DAF1/S1BB_20210113T070643_20210218T070641_VVP036_INT40_G_ueF_DAF1_corr_clip.tif\n",
      "    clipping file p81f1048_10x2_2/S1BB_20210206T070642_20210218T070641_VVP012_INT40_G_ueF_B1C9/S1BB_20210206T070642_20210218T070641_VVP012_INT40_G_ueF_B1C9_corr.tif to create file p81f1048_10x2_2/S1BB_20210206T070642_20210218T070641_VVP012_INT40_G_ueF_B1C9/S1BB_20210206T070642_20210218T070641_VVP012_INT40_G_ueF_B1C9_corr_clip.tif\n",
      "    clipping file p81f1048_10x2_2/S1BB_20210101T070643_20210206T070642_VVP036_INT40_G_ueF_0EC9/S1BB_20210101T070643_20210206T070642_VVP036_INT40_G_ueF_0EC9_corr.tif to create file p81f1048_10x2_2/S1BB_20210101T070643_20210206T070642_VVP036_INT40_G_ueF_0EC9/S1BB_20210101T070643_20210206T070642_VVP036_INT40_G_ueF_0EC9_corr_clip.tif\n",
      "    clipping file p81f1048_10x2_2/S1BB_20210113T070643_20210206T070642_VVP024_INT40_G_ueF_ACC6/S1BB_20210113T070643_20210206T070642_VVP024_INT40_G_ueF_ACC6_corr.tif to create file p81f1048_10x2_2/S1BB_20210113T070643_20210206T070642_VVP024_INT40_G_ueF_ACC6/S1BB_20210113T070643_20210206T070642_VVP024_INT40_G_ueF_ACC6_corr_clip.tif\n",
      "    clipping file p81f1048_10x2_2/S1BB_20210125T070642_20210206T070642_VVP012_INT40_G_ueF_BF84/S1BB_20210125T070642_20210206T070642_VVP012_INT40_G_ueF_BF84_corr.tif to create file p81f1048_10x2_2/S1BB_20210125T070642_20210206T070642_VVP012_INT40_G_ueF_BF84/S1BB_20210125T070642_20210206T070642_VVP012_INT40_G_ueF_BF84_corr_clip.tif\n",
      "    clipping file p81f1048_10x2_2/S1BB_20201220T070644_20210125T070642_VVP036_INT40_G_ueF_C5DC/S1BB_20201220T070644_20210125T070642_VVP036_INT40_G_ueF_C5DC_corr.tif to create file p81f1048_10x2_2/S1BB_20201220T070644_20210125T070642_VVP036_INT40_G_ueF_C5DC/S1BB_20201220T070644_20210125T070642_VVP036_INT40_G_ueF_C5DC_corr_clip.tif\n",
      "    clipping file p81f1048_10x2_2/S1BB_20210113T070643_20210125T070642_VVP012_INT40_G_ueF_2081/S1BB_20210113T070643_20210125T070642_VVP012_INT40_G_ueF_2081_corr.tif to create file p81f1048_10x2_2/S1BB_20210113T070643_20210125T070642_VVP012_INT40_G_ueF_2081/S1BB_20210113T070643_20210125T070642_VVP012_INT40_G_ueF_2081_corr_clip.tif\n",
      "    clipping file p81f1048_10x2_2/S1BB_20210101T070643_20210125T070642_VVP024_INT40_G_ueF_19EC/S1BB_20210101T070643_20210125T070642_VVP024_INT40_G_ueF_19EC_corr.tif to create file p81f1048_10x2_2/S1BB_20210101T070643_20210125T070642_VVP024_INT40_G_ueF_19EC/S1BB_20210101T070643_20210125T070642_VVP024_INT40_G_ueF_19EC_corr_clip.tif\n",
      "    clipping file p81f1048_10x2_2/S1BB_20201126T070645_20210113T070643_VVP048_INT40_G_ueF_1965/S1BB_20201126T070645_20210113T070643_VVP048_INT40_G_ueF_1965_corr.tif to create file p81f1048_10x2_2/S1BB_20201126T070645_20210113T070643_VVP048_INT40_G_ueF_1965/S1BB_20201126T070645_20210113T070643_VVP048_INT40_G_ueF_1965_corr_clip.tif\n",
      "    clipping file p81f1048_10x2_2/S1BB_20210101T070643_20210113T070643_VVP012_INT40_G_ueF_B7EA/S1BB_20210101T070643_20210113T070643_VVP012_INT40_G_ueF_B7EA_corr.tif to create file p81f1048_10x2_2/S1BB_20210101T070643_20210113T070643_VVP012_INT40_G_ueF_B7EA/S1BB_20210101T070643_20210113T070643_VVP012_INT40_G_ueF_B7EA_corr_clip.tif\n",
      "    clipping file p81f1048_10x2_2/S1BB_20201220T070644_20210113T070643_VVP024_INT40_G_ueF_DEF3/S1BB_20201220T070644_20210113T070643_VVP024_INT40_G_ueF_DEF3_corr.tif to create file p81f1048_10x2_2/S1BB_20201220T070644_20210113T070643_VVP024_INT40_G_ueF_DEF3/S1BB_20201220T070644_20210113T070643_VVP024_INT40_G_ueF_DEF3_corr_clip.tif\n",
      "    clipping file p81f1048_10x2_2/S1BB_20201126T070645_20210101T070643_VVP036_INT40_G_ueF_CB83/S1BB_20201126T070645_20210101T070643_VVP036_INT40_G_ueF_CB83_corr.tif to create file p81f1048_10x2_2/S1BB_20201126T070645_20210101T070643_VVP036_INT40_G_ueF_CB83/S1BB_20201126T070645_20210101T070643_VVP036_INT40_G_ueF_CB83_corr_clip.tif\n",
      "    clipping file p81f1048_10x2_2/S1BB_20201114T070645_20210101T070643_VVP048_INT40_G_ueF_675B/S1BB_20201114T070645_20210101T070643_VVP048_INT40_G_ueF_675B_corr.tif to create file p81f1048_10x2_2/S1BB_20201114T070645_20210101T070643_VVP048_INT40_G_ueF_675B/S1BB_20201114T070645_20210101T070643_VVP048_INT40_G_ueF_675B_corr_clip.tif\n",
      "    clipping file p81f1048_10x2_2/S1BB_20201220T070644_20210101T070643_VVP012_INT40_G_ueF_9CC2/S1BB_20201220T070644_20210101T070643_VVP012_INT40_G_ueF_9CC2_corr.tif to create file p81f1048_10x2_2/S1BB_20201220T070644_20210101T070643_VVP012_INT40_G_ueF_9CC2/S1BB_20201220T070644_20210101T070643_VVP012_INT40_G_ueF_9CC2_corr_clip.tif\n",
      "    clipping file p81f1048_10x2_2/S1BB_20201102T070645_20201220T070644_VVP048_INT40_G_ueF_7CDF/S1BB_20201102T070645_20201220T070644_VVP048_INT40_G_ueF_7CDF_corr.tif to create file p81f1048_10x2_2/S1BB_20201102T070645_20201220T070644_VVP048_INT40_G_ueF_7CDF/S1BB_20201102T070645_20201220T070644_VVP048_INT40_G_ueF_7CDF_corr_clip.tif\n",
      "    clipping file p81f1048_10x2_2/S1BB_20201114T070645_20201220T070644_VVP036_INT40_G_ueF_3E64/S1BB_20201114T070645_20201220T070644_VVP036_INT40_G_ueF_3E64_corr.tif to create file p81f1048_10x2_2/S1BB_20201114T070645_20201220T070644_VVP036_INT40_G_ueF_3E64/S1BB_20201114T070645_20201220T070644_VVP036_INT40_G_ueF_3E64_corr_clip.tif\n",
      "    clipping file p81f1048_10x2_2/S1BB_20201126T070645_20201220T070644_VVP024_INT40_G_ueF_90CC/S1BB_20201126T070645_20201220T070644_VVP024_INT40_G_ueF_90CC_corr.tif to create file p81f1048_10x2_2/S1BB_20201126T070645_20201220T070644_VVP024_INT40_G_ueF_90CC/S1BB_20201126T070645_20201220T070644_VVP024_INT40_G_ueF_90CC_corr_clip.tif\n",
      "    clipping file p81f1048_10x2_2/S1BB_20201021T070645_20201126T070645_VVP036_INT40_G_ueF_19F3/S1BB_20201021T070645_20201126T070645_VVP036_INT40_G_ueF_19F3_corr.tif to create file p81f1048_10x2_2/S1BB_20201021T070645_20201126T070645_VVP036_INT40_G_ueF_19F3/S1BB_20201021T070645_20201126T070645_VVP036_INT40_G_ueF_19F3_corr_clip.tif\n",
      "    clipping file p81f1048_10x2_2/S1BB_20201114T070645_20201126T070645_VVP012_INT40_G_ueF_694A/S1BB_20201114T070645_20201126T070645_VVP012_INT40_G_ueF_694A_corr.tif to create file p81f1048_10x2_2/S1BB_20201114T070645_20201126T070645_VVP012_INT40_G_ueF_694A/S1BB_20201114T070645_20201126T070645_VVP012_INT40_G_ueF_694A_corr_clip.tif\n",
      "    clipping file p81f1048_10x2_2/S1BB_20201102T070645_20201126T070645_VVP024_INT40_G_ueF_F237/S1BB_20201102T070645_20201126T070645_VVP024_INT40_G_ueF_F237_corr.tif to create file p81f1048_10x2_2/S1BB_20201102T070645_20201126T070645_VVP024_INT40_G_ueF_F237/S1BB_20201102T070645_20201126T070645_VVP024_INT40_G_ueF_F237_corr_clip.tif\n",
      "    clipping file p81f1048_10x2_2/S1BB_20201021T070645_20201114T070645_VVP024_INT40_G_ueF_A9F4/S1BB_20201021T070645_20201114T070645_VVP024_INT40_G_ueF_A9F4_corr.tif to create file p81f1048_10x2_2/S1BB_20201021T070645_20201114T070645_VVP024_INT40_G_ueF_A9F4/S1BB_20201021T070645_20201114T070645_VVP024_INT40_G_ueF_A9F4_corr_clip.tif\n",
      "    clipping file p81f1048_10x2_2/S1BB_20201009T070645_20201114T070645_VVP036_INT40_G_ueF_C715/S1BB_20201009T070645_20201114T070645_VVP036_INT40_G_ueF_C715_corr.tif to create file p81f1048_10x2_2/S1BB_20201009T070645_20201114T070645_VVP036_INT40_G_ueF_C715/S1BB_20201009T070645_20201114T070645_VVP036_INT40_G_ueF_C715_corr_clip.tif\n",
      "    clipping file p81f1048_10x2_2/S1BB_20201102T070645_20201114T070645_VVP012_INT40_G_ueF_FA2A/S1BB_20201102T070645_20201114T070645_VVP012_INT40_G_ueF_FA2A_corr.tif to create file p81f1048_10x2_2/S1BB_20201102T070645_20201114T070645_VVP012_INT40_G_ueF_FA2A/S1BB_20201102T070645_20201114T070645_VVP012_INT40_G_ueF_FA2A_corr_clip.tif\n",
      "    clipping file p81f1048_10x2_2/S1BB_20200927T070645_20201102T070645_VVP036_INT40_G_ueF_C7E0/S1BB_20200927T070645_20201102T070645_VVP036_INT40_G_ueF_C7E0_corr.tif to create file p81f1048_10x2_2/S1BB_20200927T070645_20201102T070645_VVP036_INT40_G_ueF_C7E0/S1BB_20200927T070645_20201102T070645_VVP036_INT40_G_ueF_C7E0_corr_clip.tif\n",
      "    clipping file p81f1048_10x2_2/S1BB_20201021T070645_20201102T070645_VVP012_INT40_G_ueF_1286/S1BB_20201021T070645_20201102T070645_VVP012_INT40_G_ueF_1286_corr.tif to create file p81f1048_10x2_2/S1BB_20201021T070645_20201102T070645_VVP012_INT40_G_ueF_1286/S1BB_20201021T070645_20201102T070645_VVP012_INT40_G_ueF_1286_corr_clip.tif\n",
      "    clipping file p81f1048_10x2_2/S1BB_20201009T070645_20201102T070645_VVP024_INT40_G_ueF_AFC4/S1BB_20201009T070645_20201102T070645_VVP024_INT40_G_ueF_AFC4_corr.tif to create file p81f1048_10x2_2/S1BB_20201009T070645_20201102T070645_VVP024_INT40_G_ueF_AFC4/S1BB_20201009T070645_20201102T070645_VVP024_INT40_G_ueF_AFC4_corr_clip.tif\n",
      "    clipping file p81f1048_10x2_2/S1BB_20200915T070645_20201021T070645_VVP036_INT40_G_ueF_94A1/S1BB_20200915T070645_20201021T070645_VVP036_INT40_G_ueF_94A1_corr.tif to create file p81f1048_10x2_2/S1BB_20200915T070645_20201021T070645_VVP036_INT40_G_ueF_94A1/S1BB_20200915T070645_20201021T070645_VVP036_INT40_G_ueF_94A1_corr_clip.tif\n",
      "    clipping file p81f1048_10x2_2/S1BB_20201009T070645_20201021T070645_VVP012_INT40_G_ueF_A249/S1BB_20201009T070645_20201021T070645_VVP012_INT40_G_ueF_A249_corr.tif to create file p81f1048_10x2_2/S1BB_20201009T070645_20201021T070645_VVP012_INT40_G_ueF_A249/S1BB_20201009T070645_20201021T070645_VVP012_INT40_G_ueF_A249_corr_clip.tif\n",
      "    clipping file p81f1048_10x2_2/S1BB_20200927T070645_20201021T070645_VVP024_INT40_G_ueF_862A/S1BB_20200927T070645_20201021T070645_VVP024_INT40_G_ueF_862A_corr.tif to create file p81f1048_10x2_2/S1BB_20200927T070645_20201021T070645_VVP024_INT40_G_ueF_862A/S1BB_20200927T070645_20201021T070645_VVP024_INT40_G_ueF_862A_corr_clip.tif\n",
      "    clipping file p81f1048_10x2_2/S1BB_20200915T070645_20201009T070645_VVP024_INT40_G_ueF_DFE3/S1BB_20200915T070645_20201009T070645_VVP024_INT40_G_ueF_DFE3_corr.tif to create file p81f1048_10x2_2/S1BB_20200915T070645_20201009T070645_VVP024_INT40_G_ueF_DFE3/S1BB_20200915T070645_20201009T070645_VVP024_INT40_G_ueF_DFE3_corr_clip.tif\n",
      "    clipping file p81f1048_10x2_2/S1BB_20200903T070644_20201009T070645_VVP036_INT40_G_ueF_2FC1/S1BB_20200903T070644_20201009T070645_VVP036_INT40_G_ueF_2FC1_corr.tif to create file p81f1048_10x2_2/S1BB_20200903T070644_20201009T070645_VVP036_INT40_G_ueF_2FC1/S1BB_20200903T070644_20201009T070645_VVP036_INT40_G_ueF_2FC1_corr_clip.tif\n",
      "    clipping file p81f1048_10x2_2/S1BB_20200927T070645_20201009T070645_VVP012_INT40_G_ueF_6B48/S1BB_20200927T070645_20201009T070645_VVP012_INT40_G_ueF_6B48_corr.tif to create file p81f1048_10x2_2/S1BB_20200927T070645_20201009T070645_VVP012_INT40_G_ueF_6B48/S1BB_20200927T070645_20201009T070645_VVP012_INT40_G_ueF_6B48_corr_clip.tif\n",
      "    clipping file p81f1048_10x2_2/S1BB_20200903T070644_20200927T070645_VVP024_INT40_G_ueF_919F/S1BB_20200903T070644_20200927T070645_VVP024_INT40_G_ueF_919F_corr.tif to create file p81f1048_10x2_2/S1BB_20200903T070644_20200927T070645_VVP024_INT40_G_ueF_919F/S1BB_20200903T070644_20200927T070645_VVP024_INT40_G_ueF_919F_corr_clip.tif\n",
      "    clipping file p81f1048_10x2_2/S1BB_20200822T070643_20200927T070645_VVP036_INT40_G_ueF_A45C/S1BB_20200822T070643_20200927T070645_VVP036_INT40_G_ueF_A45C_corr.tif to create file p81f1048_10x2_2/S1BB_20200822T070643_20200927T070645_VVP036_INT40_G_ueF_A45C/S1BB_20200822T070643_20200927T070645_VVP036_INT40_G_ueF_A45C_corr_clip.tif\n",
      "    clipping file p81f1048_10x2_2/S1BB_20200915T070645_20200927T070645_VVP012_INT40_G_ueF_6A6D/S1BB_20200915T070645_20200927T070645_VVP012_INT40_G_ueF_6A6D_corr.tif to create file p81f1048_10x2_2/S1BB_20200915T070645_20200927T070645_VVP012_INT40_G_ueF_6A6D/S1BB_20200915T070645_20200927T070645_VVP012_INT40_G_ueF_6A6D_corr_clip.tif\n",
      "    clipping file p81f1048_10x2_2/S1BB_20200810T070643_20200915T070645_VVP036_INT40_G_ueF_22B6/S1BB_20200810T070643_20200915T070645_VVP036_INT40_G_ueF_22B6_corr.tif to create file p81f1048_10x2_2/S1BB_20200810T070643_20200915T070645_VVP036_INT40_G_ueF_22B6/S1BB_20200810T070643_20200915T070645_VVP036_INT40_G_ueF_22B6_corr_clip.tif\n",
      "    clipping file p81f1048_10x2_2/S1BB_20200903T070644_20200915T070645_VVP012_INT40_G_ueF_03F8/S1BB_20200903T070644_20200915T070645_VVP012_INT40_G_ueF_03F8_corr.tif to create file p81f1048_10x2_2/S1BB_20200903T070644_20200915T070645_VVP012_INT40_G_ueF_03F8/S1BB_20200903T070644_20200915T070645_VVP012_INT40_G_ueF_03F8_corr_clip.tif\n",
      "    clipping file p81f1048_10x2_2/S1BB_20200822T070643_20200915T070645_VVP024_INT40_G_ueF_EB3B/S1BB_20200822T070643_20200915T070645_VVP024_INT40_G_ueF_EB3B_corr.tif to create file p81f1048_10x2_2/S1BB_20200822T070643_20200915T070645_VVP024_INT40_G_ueF_EB3B/S1BB_20200822T070643_20200915T070645_VVP024_INT40_G_ueF_EB3B_corr_clip.tif\n",
      "    clipping file p81f1048_10x2_2/S1BB_20200729T070642_20200903T070644_VVP036_INT40_G_ueF_ABC4/S1BB_20200729T070642_20200903T070644_VVP036_INT40_G_ueF_ABC4_corr.tif to create file p81f1048_10x2_2/S1BB_20200729T070642_20200903T070644_VVP036_INT40_G_ueF_ABC4/S1BB_20200729T070642_20200903T070644_VVP036_INT40_G_ueF_ABC4_corr_clip.tif\n",
      "    clipping file p81f1048_10x2_2/S1BB_20200810T070643_20200903T070644_VVP024_INT40_G_ueF_E571/S1BB_20200810T070643_20200903T070644_VVP024_INT40_G_ueF_E571_corr.tif to create file p81f1048_10x2_2/S1BB_20200810T070643_20200903T070644_VVP024_INT40_G_ueF_E571/S1BB_20200810T070643_20200903T070644_VVP024_INT40_G_ueF_E571_corr_clip.tif\n",
      "    clipping file p81f1048_10x2_2/S1BB_20200822T070643_20200903T070644_VVP012_INT40_G_ueF_EFF4/S1BB_20200822T070643_20200903T070644_VVP012_INT40_G_ueF_EFF4_corr.tif to create file p81f1048_10x2_2/S1BB_20200822T070643_20200903T070644_VVP012_INT40_G_ueF_EFF4/S1BB_20200822T070643_20200903T070644_VVP012_INT40_G_ueF_EFF4_corr_clip.tif\n",
      "    clipping file p81f1048_10x2_2/S1BB_20200717T070641_20200822T070643_VVP036_INT40_G_ueF_0F1B/S1BB_20200717T070641_20200822T070643_VVP036_INT40_G_ueF_0F1B_corr.tif to create file p81f1048_10x2_2/S1BB_20200717T070641_20200822T070643_VVP036_INT40_G_ueF_0F1B/S1BB_20200717T070641_20200822T070643_VVP036_INT40_G_ueF_0F1B_corr_clip.tif\n",
      "    clipping file p81f1048_10x2_2/S1BB_20200729T070642_20200822T070643_VVP024_INT40_G_ueF_C976/S1BB_20200729T070642_20200822T070643_VVP024_INT40_G_ueF_C976_corr.tif to create file p81f1048_10x2_2/S1BB_20200729T070642_20200822T070643_VVP024_INT40_G_ueF_C976/S1BB_20200729T070642_20200822T070643_VVP024_INT40_G_ueF_C976_corr_clip.tif\n",
      "    clipping file p81f1048_10x2_2/S1BB_20200810T070643_20200822T070643_VVP012_INT40_G_ueF_EE24/S1BB_20200810T070643_20200822T070643_VVP012_INT40_G_ueF_EE24_corr.tif to create file p81f1048_10x2_2/S1BB_20200810T070643_20200822T070643_VVP012_INT40_G_ueF_EE24/S1BB_20200810T070643_20200822T070643_VVP012_INT40_G_ueF_EE24_corr_clip.tif\n",
      "    clipping file p81f1048_10x2_2/S1BB_20200717T070641_20200810T070643_VVP024_INT40_G_ueF_ECBF/S1BB_20200717T070641_20200810T070643_VVP024_INT40_G_ueF_ECBF_corr.tif to create file p81f1048_10x2_2/S1BB_20200717T070641_20200810T070643_VVP024_INT40_G_ueF_ECBF/S1BB_20200717T070641_20200810T070643_VVP024_INT40_G_ueF_ECBF_corr_clip.tif\n",
      "    clipping file p81f1048_10x2_2/S1BB_20200705T070641_20200810T070643_VVP036_INT40_G_ueF_3AFD/S1BB_20200705T070641_20200810T070643_VVP036_INT40_G_ueF_3AFD_corr.tif to create file p81f1048_10x2_2/S1BB_20200705T070641_20200810T070643_VVP036_INT40_G_ueF_3AFD/S1BB_20200705T070641_20200810T070643_VVP036_INT40_G_ueF_3AFD_corr_clip.tif\n",
      "    clipping file p81f1048_10x2_2/S1BB_20200729T070642_20200810T070643_VVP012_INT40_G_ueF_A12B/S1BB_20200729T070642_20200810T070643_VVP012_INT40_G_ueF_A12B_corr.tif to create file p81f1048_10x2_2/S1BB_20200729T070642_20200810T070643_VVP012_INT40_G_ueF_A12B/S1BB_20200729T070642_20200810T070643_VVP012_INT40_G_ueF_A12B_corr_clip.tif\n",
      "    clipping file p81f1048_10x2_2/S1BB_20200623T070640_20200729T070642_VVP036_INT40_G_ueF_0A80/S1BB_20200623T070640_20200729T070642_VVP036_INT40_G_ueF_0A80_corr.tif to create file p81f1048_10x2_2/S1BB_20200623T070640_20200729T070642_VVP036_INT40_G_ueF_0A80/S1BB_20200623T070640_20200729T070642_VVP036_INT40_G_ueF_0A80_corr_clip.tif\n",
      "    clipping file p81f1048_10x2_2/S1BB_20200705T070641_20200729T070642_VVP024_INT40_G_ueF_98F5/S1BB_20200705T070641_20200729T070642_VVP024_INT40_G_ueF_98F5_corr.tif to create file p81f1048_10x2_2/S1BB_20200705T070641_20200729T070642_VVP024_INT40_G_ueF_98F5/S1BB_20200705T070641_20200729T070642_VVP024_INT40_G_ueF_98F5_corr_clip.tif\n",
      "    clipping file p81f1048_10x2_2/S1BB_20200717T070641_20200729T070642_VVP012_INT40_G_ueF_2322/S1BB_20200717T070641_20200729T070642_VVP012_INT40_G_ueF_2322_corr.tif to create file p81f1048_10x2_2/S1BB_20200717T070641_20200729T070642_VVP012_INT40_G_ueF_2322/S1BB_20200717T070641_20200729T070642_VVP012_INT40_G_ueF_2322_corr_clip.tif\n",
      "    clipping file p81f1048_10x2_2/S1BB_20200623T070640_20200717T070641_VVP024_INT40_G_ueF_7DF3/S1BB_20200623T070640_20200717T070641_VVP024_INT40_G_ueF_7DF3_corr.tif to create file p81f1048_10x2_2/S1BB_20200623T070640_20200717T070641_VVP024_INT40_G_ueF_7DF3/S1BB_20200623T070640_20200717T070641_VVP024_INT40_G_ueF_7DF3_corr_clip.tif\n",
      "    clipping file p81f1048_10x2_2/S1BB_20200611T070639_20200717T070641_VVP036_INT40_G_ueF_6273/S1BB_20200611T070639_20200717T070641_VVP036_INT40_G_ueF_6273_corr.tif to create file p81f1048_10x2_2/S1BB_20200611T070639_20200717T070641_VVP036_INT40_G_ueF_6273/S1BB_20200611T070639_20200717T070641_VVP036_INT40_G_ueF_6273_corr_clip.tif\n",
      "    clipping file p81f1048_10x2_2/S1BB_20200705T070641_20200717T070641_VVP012_INT40_G_ueF_7420/S1BB_20200705T070641_20200717T070641_VVP012_INT40_G_ueF_7420_corr.tif to create file p81f1048_10x2_2/S1BB_20200705T070641_20200717T070641_VVP012_INT40_G_ueF_7420/S1BB_20200705T070641_20200717T070641_VVP012_INT40_G_ueF_7420_corr_clip.tif\n",
      "    clipping file p81f1048_10x2_2/S1BB_20200530T070639_20200705T070641_VVP036_INT40_G_ueF_E2C2/S1BB_20200530T070639_20200705T070641_VVP036_INT40_G_ueF_E2C2_corr.tif to create file p81f1048_10x2_2/S1BB_20200530T070639_20200705T070641_VVP036_INT40_G_ueF_E2C2/S1BB_20200530T070639_20200705T070641_VVP036_INT40_G_ueF_E2C2_corr_clip.tif\n",
      "    clipping file p81f1048_10x2_2/S1BB_20200623T070640_20200705T070641_VVP012_INT40_G_ueF_7F62/S1BB_20200623T070640_20200705T070641_VVP012_INT40_G_ueF_7F62_corr.tif to create file p81f1048_10x2_2/S1BB_20200623T070640_20200705T070641_VVP012_INT40_G_ueF_7F62/S1BB_20200623T070640_20200705T070641_VVP012_INT40_G_ueF_7F62_corr_clip.tif\n",
      "    clipping file p81f1048_10x2_2/S1BB_20200611T070639_20200705T070641_VVP024_INT40_G_ueF_C294/S1BB_20200611T070639_20200705T070641_VVP024_INT40_G_ueF_C294_corr.tif to create file p81f1048_10x2_2/S1BB_20200611T070639_20200705T070641_VVP024_INT40_G_ueF_C294/S1BB_20200611T070639_20200705T070641_VVP024_INT40_G_ueF_C294_corr_clip.tif\n",
      "    clipping file p81f1048_10x2_2/S1BB_20200518T070638_20200623T070640_VVP036_INT40_G_ueF_BF78/S1BB_20200518T070638_20200623T070640_VVP036_INT40_G_ueF_BF78_corr.tif to create file p81f1048_10x2_2/S1BB_20200518T070638_20200623T070640_VVP036_INT40_G_ueF_BF78/S1BB_20200518T070638_20200623T070640_VVP036_INT40_G_ueF_BF78_corr_clip.tif\n",
      "    clipping file p81f1048_10x2_2/S1BB_20200611T070639_20200623T070640_VVP012_INT40_G_ueF_8197/S1BB_20200611T070639_20200623T070640_VVP012_INT40_G_ueF_8197_corr.tif to create file p81f1048_10x2_2/S1BB_20200611T070639_20200623T070640_VVP012_INT40_G_ueF_8197/S1BB_20200611T070639_20200623T070640_VVP012_INT40_G_ueF_8197_corr_clip.tif\n",
      "    clipping file p81f1048_10x2_2/S1BB_20200530T070639_20200623T070640_VVP024_INT40_G_ueF_EA5B/S1BB_20200530T070639_20200623T070640_VVP024_INT40_G_ueF_EA5B_corr.tif to create file p81f1048_10x2_2/S1BB_20200530T070639_20200623T070640_VVP024_INT40_G_ueF_EA5B/S1BB_20200530T070639_20200623T070640_VVP024_INT40_G_ueF_EA5B_corr_clip.tif\n",
      "    clipping file p81f1048_10x2_2/S1BB_20200506T070637_20200611T070639_VVP036_INT40_G_ueF_96A0/S1BB_20200506T070637_20200611T070639_VVP036_INT40_G_ueF_96A0_corr.tif to create file p81f1048_10x2_2/S1BB_20200506T070637_20200611T070639_VVP036_INT40_G_ueF_96A0/S1BB_20200506T070637_20200611T070639_VVP036_INT40_G_ueF_96A0_corr_clip.tif\n",
      "    clipping file p81f1048_10x2_2/S1BB_20200518T070638_20200611T070639_VVP024_INT40_G_ueF_84F0/S1BB_20200518T070638_20200611T070639_VVP024_INT40_G_ueF_84F0_corr.tif to create file p81f1048_10x2_2/S1BB_20200518T070638_20200611T070639_VVP024_INT40_G_ueF_84F0/S1BB_20200518T070638_20200611T070639_VVP024_INT40_G_ueF_84F0_corr_clip.tif\n",
      "    clipping file p81f1048_10x2_2/S1BB_20200530T070639_20200611T070639_VVP012_INT40_G_ueF_C3DE/S1BB_20200530T070639_20200611T070639_VVP012_INT40_G_ueF_C3DE_corr.tif to create file p81f1048_10x2_2/S1BB_20200530T070639_20200611T070639_VVP012_INT40_G_ueF_C3DE/S1BB_20200530T070639_20200611T070639_VVP012_INT40_G_ueF_C3DE_corr_clip.tif\n",
      "    clipping file p81f1048_10x2_2/S1BB_20200424T070637_20200530T070639_VVP036_INT40_G_ueF_66A4/S1BB_20200424T070637_20200530T070639_VVP036_INT40_G_ueF_66A4_corr.tif to create file p81f1048_10x2_2/S1BB_20200424T070637_20200530T070639_VVP036_INT40_G_ueF_66A4/S1BB_20200424T070637_20200530T070639_VVP036_INT40_G_ueF_66A4_corr_clip.tif\n",
      "    clipping file p81f1048_10x2_2/S1BB_20200506T070637_20200530T070639_VVP024_INT40_G_ueF_957C/S1BB_20200506T070637_20200530T070639_VVP024_INT40_G_ueF_957C_corr.tif to create file p81f1048_10x2_2/S1BB_20200506T070637_20200530T070639_VVP024_INT40_G_ueF_957C/S1BB_20200506T070637_20200530T070639_VVP024_INT40_G_ueF_957C_corr_clip.tif\n",
      "    clipping file p81f1048_10x2_2/S1BB_20200518T070638_20200530T070639_VVP012_INT40_G_ueF_17EB/S1BB_20200518T070638_20200530T070639_VVP012_INT40_G_ueF_17EB_corr.tif to create file p81f1048_10x2_2/S1BB_20200518T070638_20200530T070639_VVP012_INT40_G_ueF_17EB/S1BB_20200518T070638_20200530T070639_VVP012_INT40_G_ueF_17EB_corr_clip.tif\n",
      "    clipping file p81f1048_10x2_2/S1BB_20200412T070636_20200518T070638_VVP036_INT40_G_ueF_4423/S1BB_20200412T070636_20200518T070638_VVP036_INT40_G_ueF_4423_corr.tif to create file p81f1048_10x2_2/S1BB_20200412T070636_20200518T070638_VVP036_INT40_G_ueF_4423/S1BB_20200412T070636_20200518T070638_VVP036_INT40_G_ueF_4423_corr_clip.tif\n",
      "    clipping file p81f1048_10x2_2/S1BB_20200424T070637_20200518T070638_VVP024_INT40_G_ueF_855F/S1BB_20200424T070637_20200518T070638_VVP024_INT40_G_ueF_855F_corr.tif to create file p81f1048_10x2_2/S1BB_20200424T070637_20200518T070638_VVP024_INT40_G_ueF_855F/S1BB_20200424T070637_20200518T070638_VVP024_INT40_G_ueF_855F_corr_clip.tif\n",
      "    clipping file p81f1048_10x2_2/S1BB_20200506T070637_20200518T070638_VVP012_INT40_G_ueF_9BC7/S1BB_20200506T070637_20200518T070638_VVP012_INT40_G_ueF_9BC7_corr.tif to create file p81f1048_10x2_2/S1BB_20200506T070637_20200518T070638_VVP012_INT40_G_ueF_9BC7/S1BB_20200506T070637_20200518T070638_VVP012_INT40_G_ueF_9BC7_corr_clip.tif\n",
      "    clipping file p81f1048_10x2_2/S1BB_20200331T070636_20200506T070637_VVP036_INT40_G_ueF_9104/S1BB_20200331T070636_20200506T070637_VVP036_INT40_G_ueF_9104_corr.tif to create file p81f1048_10x2_2/S1BB_20200331T070636_20200506T070637_VVP036_INT40_G_ueF_9104/S1BB_20200331T070636_20200506T070637_VVP036_INT40_G_ueF_9104_corr_clip.tif\n",
      "    clipping file p81f1048_10x2_2/S1BB_20200412T070636_20200506T070637_VVP024_INT40_G_ueF_4600/S1BB_20200412T070636_20200506T070637_VVP024_INT40_G_ueF_4600_corr.tif to create file p81f1048_10x2_2/S1BB_20200412T070636_20200506T070637_VVP024_INT40_G_ueF_4600/S1BB_20200412T070636_20200506T070637_VVP024_INT40_G_ueF_4600_corr_clip.tif\n",
      "    clipping file p81f1048_10x2_2/S1BB_20200424T070637_20200506T070637_VVP012_INT40_G_ueF_9264/S1BB_20200424T070637_20200506T070637_VVP012_INT40_G_ueF_9264_corr.tif to create file p81f1048_10x2_2/S1BB_20200424T070637_20200506T070637_VVP012_INT40_G_ueF_9264/S1BB_20200424T070637_20200506T070637_VVP012_INT40_G_ueF_9264_corr_clip.tif\n",
      "    clipping file p81f1048_10x2_2/S1BB_20200319T070636_20200424T070637_VVP036_INT40_G_ueF_CBD7/S1BB_20200319T070636_20200424T070637_VVP036_INT40_G_ueF_CBD7_corr.tif to create file p81f1048_10x2_2/S1BB_20200319T070636_20200424T070637_VVP036_INT40_G_ueF_CBD7/S1BB_20200319T070636_20200424T070637_VVP036_INT40_G_ueF_CBD7_corr_clip.tif\n",
      "    clipping file p81f1048_10x2_2/S1BB_20200331T070636_20200424T070637_VVP024_INT40_G_ueF_22C8/S1BB_20200331T070636_20200424T070637_VVP024_INT40_G_ueF_22C8_corr.tif to create file p81f1048_10x2_2/S1BB_20200331T070636_20200424T070637_VVP024_INT40_G_ueF_22C8/S1BB_20200331T070636_20200424T070637_VVP024_INT40_G_ueF_22C8_corr_clip.tif\n",
      "    clipping file p81f1048_10x2_2/S1BB_20200412T070636_20200424T070637_VVP012_INT40_G_ueF_85CB/S1BB_20200412T070636_20200424T070637_VVP012_INT40_G_ueF_85CB_corr.tif to create file p81f1048_10x2_2/S1BB_20200412T070636_20200424T070637_VVP012_INT40_G_ueF_85CB/S1BB_20200412T070636_20200424T070637_VVP012_INT40_G_ueF_85CB_corr_clip.tif\n",
      "    clipping file p81f1048_10x2_2/S1BB_20200307T070635_20200412T070636_VVP036_INT40_G_ueF_F101/S1BB_20200307T070635_20200412T070636_VVP036_INT40_G_ueF_F101_corr.tif to create file p81f1048_10x2_2/S1BB_20200307T070635_20200412T070636_VVP036_INT40_G_ueF_F101/S1BB_20200307T070635_20200412T070636_VVP036_INT40_G_ueF_F101_corr_clip.tif\n",
      "    clipping file p81f1048_10x2_2/S1BB_20200319T070636_20200412T070636_VVP024_INT40_G_ueF_B930/S1BB_20200319T070636_20200412T070636_VVP024_INT40_G_ueF_B930_corr.tif to create file p81f1048_10x2_2/S1BB_20200319T070636_20200412T070636_VVP024_INT40_G_ueF_B930/S1BB_20200319T070636_20200412T070636_VVP024_INT40_G_ueF_B930_corr_clip.tif\n",
      "    clipping file p81f1048_10x2_2/S1BB_20200331T070636_20200412T070636_VVP012_INT40_G_ueF_295D/S1BB_20200331T070636_20200412T070636_VVP012_INT40_G_ueF_295D_corr.tif to create file p81f1048_10x2_2/S1BB_20200331T070636_20200412T070636_VVP012_INT40_G_ueF_295D/S1BB_20200331T070636_20200412T070636_VVP012_INT40_G_ueF_295D_corr_clip.tif\n",
      "    clipping file p81f1048_10x2_2/S1BB_20200224T070635_20200331T070636_VVP036_INT40_G_ueF_3246/S1BB_20200224T070635_20200331T070636_VVP036_INT40_G_ueF_3246_corr.tif to create file p81f1048_10x2_2/S1BB_20200224T070635_20200331T070636_VVP036_INT40_G_ueF_3246/S1BB_20200224T070635_20200331T070636_VVP036_INT40_G_ueF_3246_corr_clip.tif\n",
      "    clipping file p81f1048_10x2_2/S1BB_20200307T070635_20200331T070636_VVP024_INT40_G_ueF_42E3/S1BB_20200307T070635_20200331T070636_VVP024_INT40_G_ueF_42E3_corr.tif to create file p81f1048_10x2_2/S1BB_20200307T070635_20200331T070636_VVP024_INT40_G_ueF_42E3/S1BB_20200307T070635_20200331T070636_VVP024_INT40_G_ueF_42E3_corr_clip.tif\n",
      "    clipping file p81f1048_10x2_2/S1BB_20200319T070636_20200331T070636_VVP012_INT40_G_ueF_16EB/S1BB_20200319T070636_20200331T070636_VVP012_INT40_G_ueF_16EB_corr.tif to create file p81f1048_10x2_2/S1BB_20200319T070636_20200331T070636_VVP012_INT40_G_ueF_16EB/S1BB_20200319T070636_20200331T070636_VVP012_INT40_G_ueF_16EB_corr_clip.tif\n",
      "    clipping file p81f1048_10x2_2/S1BB_20200307T070635_20200319T070636_VVP012_INT40_G_ueF_2564/S1BB_20200307T070635_20200319T070636_VVP012_INT40_G_ueF_2564_corr.tif to create file p81f1048_10x2_2/S1BB_20200307T070635_20200319T070636_VVP012_INT40_G_ueF_2564/S1BB_20200307T070635_20200319T070636_VVP012_INT40_G_ueF_2564_corr_clip.tif\n",
      "    clipping file p81f1048_10x2_2/S1BB_20200212T070636_20200319T070636_VVP036_INT40_G_ueF_E2F0/S1BB_20200212T070636_20200319T070636_VVP036_INT40_G_ueF_E2F0_corr.tif to create file p81f1048_10x2_2/S1BB_20200212T070636_20200319T070636_VVP036_INT40_G_ueF_E2F0/S1BB_20200212T070636_20200319T070636_VVP036_INT40_G_ueF_E2F0_corr_clip.tif\n",
      "    clipping file p81f1048_10x2_2/S1BB_20200224T070635_20200319T070636_VVP024_INT40_G_ueF_B1D8/S1BB_20200224T070635_20200319T070636_VVP024_INT40_G_ueF_B1D8_corr.tif to create file p81f1048_10x2_2/S1BB_20200224T070635_20200319T070636_VVP024_INT40_G_ueF_B1D8/S1BB_20200224T070635_20200319T070636_VVP024_INT40_G_ueF_B1D8_corr_clip.tif\n",
      "    clipping file p81f1048_10x2_2/S1BB_20200131T070636_20200307T070635_VVP036_INT40_G_ueF_0232/S1BB_20200131T070636_20200307T070635_VVP036_INT40_G_ueF_0232_corr.tif to create file p81f1048_10x2_2/S1BB_20200131T070636_20200307T070635_VVP036_INT40_G_ueF_0232/S1BB_20200131T070636_20200307T070635_VVP036_INT40_G_ueF_0232_corr_clip.tif\n",
      "    clipping file p81f1048_10x2_2/S1BB_20200212T070636_20200307T070635_VVP024_INT40_G_ueF_93D5/S1BB_20200212T070636_20200307T070635_VVP024_INT40_G_ueF_93D5_corr.tif to create file p81f1048_10x2_2/S1BB_20200212T070636_20200307T070635_VVP024_INT40_G_ueF_93D5/S1BB_20200212T070636_20200307T070635_VVP024_INT40_G_ueF_93D5_corr_clip.tif\n",
      "    clipping file p81f1048_10x2_2/S1BB_20200224T070635_20200307T070635_VVP012_INT40_G_ueF_03FF/S1BB_20200224T070635_20200307T070635_VVP012_INT40_G_ueF_03FF_corr.tif to create file p81f1048_10x2_2/S1BB_20200224T070635_20200307T070635_VVP012_INT40_G_ueF_03FF/S1BB_20200224T070635_20200307T070635_VVP012_INT40_G_ueF_03FF_corr_clip.tif\n",
      "    clipping file p81f1048_10x2_2/S1BB_20200212T070636_20200224T070635_VVP012_INT40_G_ueF_86B9/S1BB_20200212T070636_20200224T070635_VVP012_INT40_G_ueF_86B9_corr.tif to create file p81f1048_10x2_2/S1BB_20200212T070636_20200224T070635_VVP012_INT40_G_ueF_86B9/S1BB_20200212T070636_20200224T070635_VVP012_INT40_G_ueF_86B9_corr_clip.tif\n",
      "    clipping file p81f1048_10x2_2/S1BB_20200119T070636_20200224T070635_VVP036_INT40_G_ueF_5775/S1BB_20200119T070636_20200224T070635_VVP036_INT40_G_ueF_5775_corr.tif to create file p81f1048_10x2_2/S1BB_20200119T070636_20200224T070635_VVP036_INT40_G_ueF_5775/S1BB_20200119T070636_20200224T070635_VVP036_INT40_G_ueF_5775_corr_clip.tif\n",
      "    clipping file p81f1048_10x2_2/S1BB_20200131T070636_20200224T070635_VVP024_INT40_G_ueF_C14B/S1BB_20200131T070636_20200224T070635_VVP024_INT40_G_ueF_C14B_corr.tif to create file p81f1048_10x2_2/S1BB_20200131T070636_20200224T070635_VVP024_INT40_G_ueF_C14B/S1BB_20200131T070636_20200224T070635_VVP024_INT40_G_ueF_C14B_corr_clip.tif\n",
      "    clipping file p81f1048_10x2_2/S1BB_20200107T070637_20200212T070636_VVP036_INT40_G_ueF_B869/S1BB_20200107T070637_20200212T070636_VVP036_INT40_G_ueF_B869_corr.tif to create file p81f1048_10x2_2/S1BB_20200107T070637_20200212T070636_VVP036_INT40_G_ueF_B869/S1BB_20200107T070637_20200212T070636_VVP036_INT40_G_ueF_B869_corr_clip.tif\n",
      "    clipping file p81f1048_10x2_2/S1BB_20200119T070636_20200212T070636_VVP024_INT40_G_ueF_DAA6/S1BB_20200119T070636_20200212T070636_VVP024_INT40_G_ueF_DAA6_corr.tif to create file p81f1048_10x2_2/S1BB_20200119T070636_20200212T070636_VVP024_INT40_G_ueF_DAA6/S1BB_20200119T070636_20200212T070636_VVP024_INT40_G_ueF_DAA6_corr_clip.tif\n",
      "    clipping file p81f1048_10x2_2/S1BB_20200131T070636_20200212T070636_VVP012_INT40_G_ueF_E0CD/S1BB_20200131T070636_20200212T070636_VVP012_INT40_G_ueF_E0CD_corr.tif to create file p81f1048_10x2_2/S1BB_20200131T070636_20200212T070636_VVP012_INT40_G_ueF_E0CD/S1BB_20200131T070636_20200212T070636_VVP012_INT40_G_ueF_E0CD_corr_clip.tif\n",
      "    clipping file p81f1048_10x2_2/S1BB_20191226T070637_20200131T070636_VVP036_INT40_G_ueF_30EF/S1BB_20191226T070637_20200131T070636_VVP036_INT40_G_ueF_30EF_corr.tif to create file p81f1048_10x2_2/S1BB_20191226T070637_20200131T070636_VVP036_INT40_G_ueF_30EF/S1BB_20191226T070637_20200131T070636_VVP036_INT40_G_ueF_30EF_corr_clip.tif\n",
      "    clipping file p81f1048_10x2_2/S1BB_20200107T070637_20200131T070636_VVP024_INT40_G_ueF_B03C/S1BB_20200107T070637_20200131T070636_VVP024_INT40_G_ueF_B03C_corr.tif to create file p81f1048_10x2_2/S1BB_20200107T070637_20200131T070636_VVP024_INT40_G_ueF_B03C/S1BB_20200107T070637_20200131T070636_VVP024_INT40_G_ueF_B03C_corr_clip.tif\n",
      "    clipping file p81f1048_10x2_2/S1BB_20200119T070636_20200131T070636_VVP012_INT40_G_ueF_22EA/S1BB_20200119T070636_20200131T070636_VVP012_INT40_G_ueF_22EA_corr.tif to create file p81f1048_10x2_2/S1BB_20200119T070636_20200131T070636_VVP012_INT40_G_ueF_22EA/S1BB_20200119T070636_20200131T070636_VVP012_INT40_G_ueF_22EA_corr_clip.tif\n",
      "    clipping file p81f1048_10x2_2/S1BB_20191214T070638_20200119T070636_VVP036_INT40_G_ueF_21CE/S1BB_20191214T070638_20200119T070636_VVP036_INT40_G_ueF_21CE_corr.tif to create file p81f1048_10x2_2/S1BB_20191214T070638_20200119T070636_VVP036_INT40_G_ueF_21CE/S1BB_20191214T070638_20200119T070636_VVP036_INT40_G_ueF_21CE_corr_clip.tif\n",
      "    clipping file p81f1048_10x2_2/S1BB_20200107T070637_20200119T070636_VVP012_INT40_G_ueF_A878/S1BB_20200107T070637_20200119T070636_VVP012_INT40_G_ueF_A878_corr.tif to create file p81f1048_10x2_2/S1BB_20200107T070637_20200119T070636_VVP012_INT40_G_ueF_A878/S1BB_20200107T070637_20200119T070636_VVP012_INT40_G_ueF_A878_corr_clip.tif\n",
      "    clipping file p81f1048_10x2_2/S1BB_20191226T070637_20200119T070636_VVP024_INT40_G_ueF_5ACC/S1BB_20191226T070637_20200119T070636_VVP024_INT40_G_ueF_5ACC_corr.tif to create file p81f1048_10x2_2/S1BB_20191226T070637_20200119T070636_VVP024_INT40_G_ueF_5ACC/S1BB_20191226T070637_20200119T070636_VVP024_INT40_G_ueF_5ACC_corr_clip.tif\n",
      "    clipping file p81f1048_10x2_2/S1BB_20191202T070638_20200107T070637_VVP036_INT40_G_ueF_BCB1/S1BB_20191202T070638_20200107T070637_VVP036_INT40_G_ueF_BCB1_corr.tif to create file p81f1048_10x2_2/S1BB_20191202T070638_20200107T070637_VVP036_INT40_G_ueF_BCB1/S1BB_20191202T070638_20200107T070637_VVP036_INT40_G_ueF_BCB1_corr_clip.tif\n",
      "    clipping file p81f1048_10x2_2/S1BB_20191226T070637_20200107T070637_VVP012_INT40_G_ueF_68DF/S1BB_20191226T070637_20200107T070637_VVP012_INT40_G_ueF_68DF_corr.tif to create file p81f1048_10x2_2/S1BB_20191226T070637_20200107T070637_VVP012_INT40_G_ueF_68DF/S1BB_20191226T070637_20200107T070637_VVP012_INT40_G_ueF_68DF_corr_clip.tif\n",
      "    clipping file p81f1048_10x2_2/S1BB_20191214T070638_20200107T070637_VVP024_INT40_G_ueF_8BEF/S1BB_20191214T070638_20200107T070637_VVP024_INT40_G_ueF_8BEF_corr.tif to create file p81f1048_10x2_2/S1BB_20191214T070638_20200107T070637_VVP024_INT40_G_ueF_8BEF/S1BB_20191214T070638_20200107T070637_VVP024_INT40_G_ueF_8BEF_corr_clip.tif\n",
      "    clipping file p81f1048_10x2_2/S1BB_20191120T070639_20191226T070637_VVP036_INT40_G_ueF_E377/S1BB_20191120T070639_20191226T070637_VVP036_INT40_G_ueF_E377_corr.tif to create file p81f1048_10x2_2/S1BB_20191120T070639_20191226T070637_VVP036_INT40_G_ueF_E377/S1BB_20191120T070639_20191226T070637_VVP036_INT40_G_ueF_E377_corr_clip.tif\n",
      "    clipping file p81f1048_10x2_2/S1BB_20191202T070638_20191226T070637_VVP024_INT40_G_ueF_1DF6/S1BB_20191202T070638_20191226T070637_VVP024_INT40_G_ueF_1DF6_corr.tif to create file p81f1048_10x2_2/S1BB_20191202T070638_20191226T070637_VVP024_INT40_G_ueF_1DF6/S1BB_20191202T070638_20191226T070637_VVP024_INT40_G_ueF_1DF6_corr_clip.tif\n",
      "    clipping file p81f1048_10x2_2/S1BB_20191214T070638_20191226T070637_VVP012_INT40_G_ueF_781C/S1BB_20191214T070638_20191226T070637_VVP012_INT40_G_ueF_781C_corr.tif to create file p81f1048_10x2_2/S1BB_20191214T070638_20191226T070637_VVP012_INT40_G_ueF_781C/S1BB_20191214T070638_20191226T070637_VVP012_INT40_G_ueF_781C_corr_clip.tif\n",
      "    clipping file p81f1048_10x2_2/S1BB_20191120T070639_20191214T070638_VVP024_INT40_G_ueF_A128/S1BB_20191120T070639_20191214T070638_VVP024_INT40_G_ueF_A128_corr.tif to create file p81f1048_10x2_2/S1BB_20191120T070639_20191214T070638_VVP024_INT40_G_ueF_A128/S1BB_20191120T070639_20191214T070638_VVP024_INT40_G_ueF_A128_corr_clip.tif\n",
      "    clipping file p81f1048_10x2_2/S1BB_20191108T070639_20191214T070638_VVP036_INT40_G_ueF_9101/S1BB_20191108T070639_20191214T070638_VVP036_INT40_G_ueF_9101_corr.tif to create file p81f1048_10x2_2/S1BB_20191108T070639_20191214T070638_VVP036_INT40_G_ueF_9101/S1BB_20191108T070639_20191214T070638_VVP036_INT40_G_ueF_9101_corr_clip.tif\n",
      "    clipping file p81f1048_10x2_2/S1BB_20191202T070638_20191214T070638_VVP012_INT40_G_ueF_4ECE/S1BB_20191202T070638_20191214T070638_VVP012_INT40_G_ueF_4ECE_corr.tif to create file p81f1048_10x2_2/S1BB_20191202T070638_20191214T070638_VVP012_INT40_G_ueF_4ECE/S1BB_20191202T070638_20191214T070638_VVP012_INT40_G_ueF_4ECE_corr_clip.tif\n",
      "    clipping file p81f1048_10x2_2/S1BB_20191027T070639_20191202T070638_VVP036_INT40_G_ueF_2D1B/S1BB_20191027T070639_20191202T070638_VVP036_INT40_G_ueF_2D1B_corr.tif to create file p81f1048_10x2_2/S1BB_20191027T070639_20191202T070638_VVP036_INT40_G_ueF_2D1B/S1BB_20191027T070639_20191202T070638_VVP036_INT40_G_ueF_2D1B_corr_clip.tif\n",
      "    clipping file p81f1048_10x2_2/S1BB_20191120T070639_20191202T070638_VVP012_INT40_G_ueF_78F9/S1BB_20191120T070639_20191202T070638_VVP012_INT40_G_ueF_78F9_corr.tif to create file p81f1048_10x2_2/S1BB_20191120T070639_20191202T070638_VVP012_INT40_G_ueF_78F9/S1BB_20191120T070639_20191202T070638_VVP012_INT40_G_ueF_78F9_corr_clip.tif\n",
      "    clipping file p81f1048_10x2_2/S1BB_20191108T070639_20191202T070638_VVP024_INT40_G_ueF_ADA0/S1BB_20191108T070639_20191202T070638_VVP024_INT40_G_ueF_ADA0_corr.tif to create file p81f1048_10x2_2/S1BB_20191108T070639_20191202T070638_VVP024_INT40_G_ueF_ADA0/S1BB_20191108T070639_20191202T070638_VVP024_INT40_G_ueF_ADA0_corr_clip.tif\n",
      "    clipping file p81f1048_10x2_2/S1BB_20191108T070639_20191120T070639_VVP012_INT40_G_ueF_E249/S1BB_20191108T070639_20191120T070639_VVP012_INT40_G_ueF_E249_corr.tif to create file p81f1048_10x2_2/S1BB_20191108T070639_20191120T070639_VVP012_INT40_G_ueF_E249/S1BB_20191108T070639_20191120T070639_VVP012_INT40_G_ueF_E249_corr_clip.tif\n",
      "    clipping file p81f1048_10x2_2/S1BB_20191015T070639_20191120T070639_VVP036_INT40_G_ueF_EABB/S1BB_20191015T070639_20191120T070639_VVP036_INT40_G_ueF_EABB_corr.tif to create file p81f1048_10x2_2/S1BB_20191015T070639_20191120T070639_VVP036_INT40_G_ueF_EABB/S1BB_20191015T070639_20191120T070639_VVP036_INT40_G_ueF_EABB_corr_clip.tif\n",
      "    clipping file p81f1048_10x2_2/S1BB_20191027T070639_20191120T070639_VVP024_INT40_G_ueF_449F/S1BB_20191027T070639_20191120T070639_VVP024_INT40_G_ueF_449F_corr.tif to create file p81f1048_10x2_2/S1BB_20191027T070639_20191120T070639_VVP024_INT40_G_ueF_449F/S1BB_20191027T070639_20191120T070639_VVP024_INT40_G_ueF_449F_corr_clip.tif\n",
      "    clipping file p81f1048_10x2_2/S1BB_20191015T070639_20191108T070639_VVP024_INT40_G_ueF_8F2D/S1BB_20191015T070639_20191108T070639_VVP024_INT40_G_ueF_8F2D_corr.tif to create file p81f1048_10x2_2/S1BB_20191015T070639_20191108T070639_VVP024_INT40_G_ueF_8F2D/S1BB_20191015T070639_20191108T070639_VVP024_INT40_G_ueF_8F2D_corr_clip.tif\n",
      "    clipping file p81f1048_10x2_2/S1BB_20191003T070639_20191108T070639_VVP036_INT40_G_ueF_DE97/S1BB_20191003T070639_20191108T070639_VVP036_INT40_G_ueF_DE97_corr.tif to create file p81f1048_10x2_2/S1BB_20191003T070639_20191108T070639_VVP036_INT40_G_ueF_DE97/S1BB_20191003T070639_20191108T070639_VVP036_INT40_G_ueF_DE97_corr_clip.tif\n",
      "    clipping file p81f1048_10x2_2/S1BB_20191027T070639_20191108T070639_VVP012_INT40_G_ueF_9C2A/S1BB_20191027T070639_20191108T070639_VVP012_INT40_G_ueF_9C2A_corr.tif to create file p81f1048_10x2_2/S1BB_20191027T070639_20191108T070639_VVP012_INT40_G_ueF_9C2A/S1BB_20191027T070639_20191108T070639_VVP012_INT40_G_ueF_9C2A_corr_clip.tif\n",
      "    clipping file p81f1048_10x2_2/S1BB_20190921T070638_20191027T070639_VVP036_INT40_G_ueF_A0D2/S1BB_20190921T070638_20191027T070639_VVP036_INT40_G_ueF_A0D2_corr.tif to create file p81f1048_10x2_2/S1BB_20190921T070638_20191027T070639_VVP036_INT40_G_ueF_A0D2/S1BB_20190921T070638_20191027T070639_VVP036_INT40_G_ueF_A0D2_corr_clip.tif\n",
      "    clipping file p81f1048_10x2_2/S1BB_20191015T070639_20191027T070639_VVP012_INT40_G_ueF_E759/S1BB_20191015T070639_20191027T070639_VVP012_INT40_G_ueF_E759_corr.tif to create file p81f1048_10x2_2/S1BB_20191015T070639_20191027T070639_VVP012_INT40_G_ueF_E759/S1BB_20191015T070639_20191027T070639_VVP012_INT40_G_ueF_E759_corr_clip.tif\n",
      "    clipping file p81f1048_10x2_2/S1BB_20191003T070639_20191027T070639_VVP024_INT40_G_ueF_9B7E/S1BB_20191003T070639_20191027T070639_VVP024_INT40_G_ueF_9B7E_corr.tif to create file p81f1048_10x2_2/S1BB_20191003T070639_20191027T070639_VVP024_INT40_G_ueF_9B7E/S1BB_20191003T070639_20191027T070639_VVP024_INT40_G_ueF_9B7E_corr_clip.tif\n",
      "    clipping file p81f1048_10x2_2/S1BB_20190909T070638_20191015T070639_VVP036_INT40_G_ueF_F97E/S1BB_20190909T070638_20191015T070639_VVP036_INT40_G_ueF_F97E_corr.tif to create file p81f1048_10x2_2/S1BB_20190909T070638_20191015T070639_VVP036_INT40_G_ueF_F97E/S1BB_20190909T070638_20191015T070639_VVP036_INT40_G_ueF_F97E_corr_clip.tif\n",
      "    clipping file p81f1048_10x2_2/S1BB_20190921T070638_20191015T070639_VVP024_INT40_G_ueF_1D9E/S1BB_20190921T070638_20191015T070639_VVP024_INT40_G_ueF_1D9E_corr.tif to create file p81f1048_10x2_2/S1BB_20190921T070638_20191015T070639_VVP024_INT40_G_ueF_1D9E/S1BB_20190921T070638_20191015T070639_VVP024_INT40_G_ueF_1D9E_corr_clip.tif\n",
      "    clipping file p81f1048_10x2_2/S1BB_20191003T070639_20191015T070639_VVP012_INT40_G_ueF_65A2/S1BB_20191003T070639_20191015T070639_VVP012_INT40_G_ueF_65A2_corr.tif to create file p81f1048_10x2_2/S1BB_20191003T070639_20191015T070639_VVP012_INT40_G_ueF_65A2/S1BB_20191003T070639_20191015T070639_VVP012_INT40_G_ueF_65A2_corr_clip.tif\n",
      "    clipping file p81f1048_10x2_2/S1BB_20190828T070637_20191003T070639_VVP036_INT40_G_ueF_9442/S1BB_20190828T070637_20191003T070639_VVP036_INT40_G_ueF_9442_corr.tif to create file p81f1048_10x2_2/S1BB_20190828T070637_20191003T070639_VVP036_INT40_G_ueF_9442/S1BB_20190828T070637_20191003T070639_VVP036_INT40_G_ueF_9442_corr_clip.tif\n",
      "    clipping file p81f1048_10x2_2/S1BB_20190909T070638_20191003T070639_VVP024_INT40_G_ueF_D695/S1BB_20190909T070638_20191003T070639_VVP024_INT40_G_ueF_D695_corr.tif to create file p81f1048_10x2_2/S1BB_20190909T070638_20191003T070639_VVP024_INT40_G_ueF_D695/S1BB_20190909T070638_20191003T070639_VVP024_INT40_G_ueF_D695_corr_clip.tif\n",
      "    clipping file p81f1048_10x2_2/S1BB_20190921T070638_20191003T070639_VVP012_INT40_G_ueF_383A/S1BB_20190921T070638_20191003T070639_VVP012_INT40_G_ueF_383A_corr.tif to create file p81f1048_10x2_2/S1BB_20190921T070638_20191003T070639_VVP012_INT40_G_ueF_383A/S1BB_20190921T070638_20191003T070639_VVP012_INT40_G_ueF_383A_corr_clip.tif\n",
      "    clipping file p81f1048_10x2_2/S1BB_20190816T070637_20190921T070638_VVP036_INT40_G_ueF_E7A5/S1BB_20190816T070637_20190921T070638_VVP036_INT40_G_ueF_E7A5_corr.tif to create file p81f1048_10x2_2/S1BB_20190816T070637_20190921T070638_VVP036_INT40_G_ueF_E7A5/S1BB_20190816T070637_20190921T070638_VVP036_INT40_G_ueF_E7A5_corr_clip.tif\n",
      "    clipping file p81f1048_10x2_2/S1BB_20190828T070637_20190921T070638_VVP024_INT40_G_ueF_52DD/S1BB_20190828T070637_20190921T070638_VVP024_INT40_G_ueF_52DD_corr.tif to create file p81f1048_10x2_2/S1BB_20190828T070637_20190921T070638_VVP024_INT40_G_ueF_52DD/S1BB_20190828T070637_20190921T070638_VVP024_INT40_G_ueF_52DD_corr_clip.tif\n",
      "    clipping file p81f1048_10x2_2/S1BB_20190909T070638_20190921T070638_VVP012_INT40_G_ueF_36B2/S1BB_20190909T070638_20190921T070638_VVP012_INT40_G_ueF_36B2_corr.tif to create file p81f1048_10x2_2/S1BB_20190909T070638_20190921T070638_VVP012_INT40_G_ueF_36B2/S1BB_20190909T070638_20190921T070638_VVP012_INT40_G_ueF_36B2_corr_clip.tif\n",
      "    clipping file p81f1048_10x2_2/S1BB_20190804T070636_20190909T070638_VVP036_INT40_G_ueF_DFC1/S1BB_20190804T070636_20190909T070638_VVP036_INT40_G_ueF_DFC1_corr.tif to create file p81f1048_10x2_2/S1BB_20190804T070636_20190909T070638_VVP036_INT40_G_ueF_DFC1/S1BB_20190804T070636_20190909T070638_VVP036_INT40_G_ueF_DFC1_corr_clip.tif\n",
      "    clipping file p81f1048_10x2_2/S1BB_20190816T070637_20190909T070638_VVP024_INT40_G_ueF_21FE/S1BB_20190816T070637_20190909T070638_VVP024_INT40_G_ueF_21FE_corr.tif to create file p81f1048_10x2_2/S1BB_20190816T070637_20190909T070638_VVP024_INT40_G_ueF_21FE/S1BB_20190816T070637_20190909T070638_VVP024_INT40_G_ueF_21FE_corr_clip.tif\n",
      "    clipping file p81f1048_10x2_2/S1BB_20190828T070637_20190909T070638_VVP012_INT40_G_ueF_9348/S1BB_20190828T070637_20190909T070638_VVP012_INT40_G_ueF_9348_corr.tif to create file p81f1048_10x2_2/S1BB_20190828T070637_20190909T070638_VVP012_INT40_G_ueF_9348/S1BB_20190828T070637_20190909T070638_VVP012_INT40_G_ueF_9348_corr_clip.tif\n",
      "    clipping file p81f1048_10x2_2/S1BB_20190723T070635_20190828T070637_VVP036_INT40_G_ueF_386F/S1BB_20190723T070635_20190828T070637_VVP036_INT40_G_ueF_386F_corr.tif to create file p81f1048_10x2_2/S1BB_20190723T070635_20190828T070637_VVP036_INT40_G_ueF_386F/S1BB_20190723T070635_20190828T070637_VVP036_INT40_G_ueF_386F_corr_clip.tif\n",
      "    clipping file p81f1048_10x2_2/S1BB_20190816T070637_20190828T070637_VVP012_INT40_G_ueF_5995/S1BB_20190816T070637_20190828T070637_VVP012_INT40_G_ueF_5995_corr.tif to create file p81f1048_10x2_2/S1BB_20190816T070637_20190828T070637_VVP012_INT40_G_ueF_5995/S1BB_20190816T070637_20190828T070637_VVP012_INT40_G_ueF_5995_corr_clip.tif\n",
      "    clipping file p81f1048_10x2_2/S1BB_20190804T070636_20190828T070637_VVP024_INT40_G_ueF_24D5/S1BB_20190804T070636_20190828T070637_VVP024_INT40_G_ueF_24D5_corr.tif to create file p81f1048_10x2_2/S1BB_20190804T070636_20190828T070637_VVP024_INT40_G_ueF_24D5/S1BB_20190804T070636_20190828T070637_VVP024_INT40_G_ueF_24D5_corr_clip.tif\n",
      "    clipping file p81f1048_10x2_2/S1BB_20190711T070635_20190816T070637_VVP036_INT40_G_ueF_85F9/S1BB_20190711T070635_20190816T070637_VVP036_INT40_G_ueF_85F9_corr.tif to create file p81f1048_10x2_2/S1BB_20190711T070635_20190816T070637_VVP036_INT40_G_ueF_85F9/S1BB_20190711T070635_20190816T070637_VVP036_INT40_G_ueF_85F9_corr_clip.tif\n",
      "    clipping file p81f1048_10x2_2/S1BB_20190723T070635_20190816T070637_VVP024_INT40_G_ueF_E502/S1BB_20190723T070635_20190816T070637_VVP024_INT40_G_ueF_E502_corr.tif to create file p81f1048_10x2_2/S1BB_20190723T070635_20190816T070637_VVP024_INT40_G_ueF_E502/S1BB_20190723T070635_20190816T070637_VVP024_INT40_G_ueF_E502_corr_clip.tif\n",
      "    clipping file p81f1048_10x2_2/S1BB_20190804T070636_20190816T070637_VVP012_INT40_G_ueF_56DF/S1BB_20190804T070636_20190816T070637_VVP012_INT40_G_ueF_56DF_corr.tif to create file p81f1048_10x2_2/S1BB_20190804T070636_20190816T070637_VVP012_INT40_G_ueF_56DF/S1BB_20190804T070636_20190816T070637_VVP012_INT40_G_ueF_56DF_corr_clip.tif\n",
      "    clipping file p81f1048_10x2_2/S1BB_20190617T070633_20190804T070636_VVP048_INT40_G_ueF_07C9/S1BB_20190617T070633_20190804T070636_VVP048_INT40_G_ueF_07C9_corr.tif to create file p81f1048_10x2_2/S1BB_20190617T070633_20190804T070636_VVP048_INT40_G_ueF_07C9/S1BB_20190617T070633_20190804T070636_VVP048_INT40_G_ueF_07C9_corr_clip.tif\n",
      "    clipping file p81f1048_10x2_2/S1BB_20190711T070635_20190804T070636_VVP024_INT40_G_ueF_D83A/S1BB_20190711T070635_20190804T070636_VVP024_INT40_G_ueF_D83A_corr.tif to create file p81f1048_10x2_2/S1BB_20190711T070635_20190804T070636_VVP024_INT40_G_ueF_D83A/S1BB_20190711T070635_20190804T070636_VVP024_INT40_G_ueF_D83A_corr_clip.tif\n",
      "    clipping file p81f1048_10x2_2/S1BB_20190723T070635_20190804T070636_VVP012_INT40_G_ueF_CEB0/S1BB_20190723T070635_20190804T070636_VVP012_INT40_G_ueF_CEB0_corr.tif to create file p81f1048_10x2_2/S1BB_20190723T070635_20190804T070636_VVP012_INT40_G_ueF_CEB0/S1BB_20190723T070635_20190804T070636_VVP012_INT40_G_ueF_CEB0_corr_clip.tif\n",
      "    clipping file p81f1048_10x2_2/S1BB_20190605T070632_20190723T070635_VVP048_INT40_G_ueF_3CF7/S1BB_20190605T070632_20190723T070635_VVP048_INT40_G_ueF_3CF7_corr.tif to create file p81f1048_10x2_2/S1BB_20190605T070632_20190723T070635_VVP048_INT40_G_ueF_3CF7/S1BB_20190605T070632_20190723T070635_VVP048_INT40_G_ueF_3CF7_corr_clip.tif\n",
      "    clipping file p81f1048_10x2_2/S1BB_20190711T070635_20190723T070635_VVP012_INT40_G_ueF_3C5B/S1BB_20190711T070635_20190723T070635_VVP012_INT40_G_ueF_3C5B_corr.tif to create file p81f1048_10x2_2/S1BB_20190711T070635_20190723T070635_VVP012_INT40_G_ueF_3C5B/S1BB_20190711T070635_20190723T070635_VVP012_INT40_G_ueF_3C5B_corr_clip.tif\n",
      "    clipping file p81f1048_10x2_2/S1BB_20190617T070633_20190723T070635_VVP036_INT40_G_ueF_9E63/S1BB_20190617T070633_20190723T070635_VVP036_INT40_G_ueF_9E63_corr.tif to create file p81f1048_10x2_2/S1BB_20190617T070633_20190723T070635_VVP036_INT40_G_ueF_9E63/S1BB_20190617T070633_20190723T070635_VVP036_INT40_G_ueF_9E63_corr_clip.tif\n",
      "    clipping file p81f1048_10x2_2/S1BB_20190605T070632_20190711T070635_VVP036_INT40_G_ueF_3B45/S1BB_20190605T070632_20190711T070635_VVP036_INT40_G_ueF_3B45_corr.tif to create file p81f1048_10x2_2/S1BB_20190605T070632_20190711T070635_VVP036_INT40_G_ueF_3B45/S1BB_20190605T070632_20190711T070635_VVP036_INT40_G_ueF_3B45_corr_clip.tif\n",
      "    clipping file p81f1048_10x2_2/S1BB_20190524T070632_20190711T070635_VVP048_INT40_G_ueF_8B67/S1BB_20190524T070632_20190711T070635_VVP048_INT40_G_ueF_8B67_corr.tif to create file p81f1048_10x2_2/S1BB_20190524T070632_20190711T070635_VVP048_INT40_G_ueF_8B67/S1BB_20190524T070632_20190711T070635_VVP048_INT40_G_ueF_8B67_corr_clip.tif\n",
      "    clipping file p81f1048_10x2_2/S1BB_20190617T070633_20190711T070635_VVP024_INT40_G_ueF_91A1/S1BB_20190617T070633_20190711T070635_VVP024_INT40_G_ueF_91A1_corr.tif to create file p81f1048_10x2_2/S1BB_20190617T070633_20190711T070635_VVP024_INT40_G_ueF_91A1/S1BB_20190617T070633_20190711T070635_VVP024_INT40_G_ueF_91A1_corr_clip.tif\n",
      "    clipping file p81f1048_10x2_2/S1BB_20190512T070631_20190617T070633_VVP036_INT40_G_ueF_4F47/S1BB_20190512T070631_20190617T070633_VVP036_INT40_G_ueF_4F47_corr.tif to create file p81f1048_10x2_2/S1BB_20190512T070631_20190617T070633_VVP036_INT40_G_ueF_4F47/S1BB_20190512T070631_20190617T070633_VVP036_INT40_G_ueF_4F47_corr_clip.tif\n",
      "    clipping file p81f1048_10x2_2/S1BB_20190605T070632_20190617T070633_VVP012_INT40_G_ueF_9E16/S1BB_20190605T070632_20190617T070633_VVP012_INT40_G_ueF_9E16_corr.tif to create file p81f1048_10x2_2/S1BB_20190605T070632_20190617T070633_VVP012_INT40_G_ueF_9E16/S1BB_20190605T070632_20190617T070633_VVP012_INT40_G_ueF_9E16_corr_clip.tif\n",
      "    clipping file p81f1048_10x2_2/S1BB_20190524T070632_20190617T070633_VVP024_INT40_G_ueF_C1EA/S1BB_20190524T070632_20190617T070633_VVP024_INT40_G_ueF_C1EA_corr.tif to create file p81f1048_10x2_2/S1BB_20190524T070632_20190617T070633_VVP024_INT40_G_ueF_C1EA/S1BB_20190524T070632_20190617T070633_VVP024_INT40_G_ueF_C1EA_corr_clip.tif\n",
      "    clipping file p81f1048_10x2_2/S1BB_20190430T070631_20190605T070632_VVP036_INT40_G_ueF_5B6B/S1BB_20190430T070631_20190605T070632_VVP036_INT40_G_ueF_5B6B_corr.tif to create file p81f1048_10x2_2/S1BB_20190430T070631_20190605T070632_VVP036_INT40_G_ueF_5B6B/S1BB_20190430T070631_20190605T070632_VVP036_INT40_G_ueF_5B6B_corr_clip.tif\n",
      "    clipping file p81f1048_10x2_2/S1BB_20190512T070631_20190605T070632_VVP024_INT40_G_ueF_F42A/S1BB_20190512T070631_20190605T070632_VVP024_INT40_G_ueF_F42A_corr.tif to create file p81f1048_10x2_2/S1BB_20190512T070631_20190605T070632_VVP024_INT40_G_ueF_F42A/S1BB_20190512T070631_20190605T070632_VVP024_INT40_G_ueF_F42A_corr_clip.tif\n",
      "    clipping file p81f1048_10x2_2/S1BB_20190524T070632_20190605T070632_VVP012_INT40_G_ueF_F195/S1BB_20190524T070632_20190605T070632_VVP012_INT40_G_ueF_F195_corr.tif to create file p81f1048_10x2_2/S1BB_20190524T070632_20190605T070632_VVP012_INT40_G_ueF_F195/S1BB_20190524T070632_20190605T070632_VVP012_INT40_G_ueF_F195_corr_clip.tif\n",
      "    clipping file p81f1048_10x2_2/S1BB_20190430T070631_20190524T070632_VVP024_INT40_G_ueF_1D17/S1BB_20190430T070631_20190524T070632_VVP024_INT40_G_ueF_1D17_corr.tif to create file p81f1048_10x2_2/S1BB_20190430T070631_20190524T070632_VVP024_INT40_G_ueF_1D17/S1BB_20190430T070631_20190524T070632_VVP024_INT40_G_ueF_1D17_corr_clip.tif\n",
      "    clipping file p81f1048_10x2_2/S1BB_20190406T070630_20190524T070632_VVP048_INT40_G_ueF_3783/S1BB_20190406T070630_20190524T070632_VVP048_INT40_G_ueF_3783_corr.tif to create file p81f1048_10x2_2/S1BB_20190406T070630_20190524T070632_VVP048_INT40_G_ueF_3783/S1BB_20190406T070630_20190524T070632_VVP048_INT40_G_ueF_3783_corr_clip.tif\n",
      "    clipping file p81f1048_10x2_2/S1BB_20190512T070631_20190524T070632_VVP012_INT40_G_ueF_B614/S1BB_20190512T070631_20190524T070632_VVP012_INT40_G_ueF_B614_corr.tif to create file p81f1048_10x2_2/S1BB_20190512T070631_20190524T070632_VVP012_INT40_G_ueF_B614/S1BB_20190512T070631_20190524T070632_VVP012_INT40_G_ueF_B614_corr_clip.tif\n",
      "    clipping file p81f1048_10x2_2/S1BB_20190325T070629_20190512T070631_VVP048_INT40_G_ueF_C58D/S1BB_20190325T070629_20190512T070631_VVP048_INT40_G_ueF_C58D_corr.tif to create file p81f1048_10x2_2/S1BB_20190325T070629_20190512T070631_VVP048_INT40_G_ueF_C58D/S1BB_20190325T070629_20190512T070631_VVP048_INT40_G_ueF_C58D_corr_clip.tif\n",
      "    clipping file p81f1048_10x2_2/S1BB_20190430T070631_20190512T070631_VVP012_INT40_G_ueF_6B74/S1BB_20190430T070631_20190512T070631_VVP012_INT40_G_ueF_6B74_corr.tif to create file p81f1048_10x2_2/S1BB_20190430T070631_20190512T070631_VVP012_INT40_G_ueF_6B74/S1BB_20190430T070631_20190512T070631_VVP012_INT40_G_ueF_6B74_corr_clip.tif\n",
      "    clipping file p81f1048_10x2_2/S1BB_20190406T070630_20190512T070631_VVP036_INT40_G_ueF_2830/S1BB_20190406T070630_20190512T070631_VVP036_INT40_G_ueF_2830_corr.tif to create file p81f1048_10x2_2/S1BB_20190406T070630_20190512T070631_VVP036_INT40_G_ueF_2830/S1BB_20190406T070630_20190512T070631_VVP036_INT40_G_ueF_2830_corr_clip.tif\n",
      "    clipping file p81f1048_10x2_2/S1BB_20190406T070630_20190430T070631_VVP024_INT40_G_ueF_8D0E/S1BB_20190406T070630_20190430T070631_VVP024_INT40_G_ueF_8D0E_corr.tif to create file p81f1048_10x2_2/S1BB_20190406T070630_20190430T070631_VVP024_INT40_G_ueF_8D0E/S1BB_20190406T070630_20190430T070631_VVP024_INT40_G_ueF_8D0E_corr_clip.tif\n",
      "    clipping file p81f1048_10x2_2/S1BB_20190325T070629_20190430T070631_VVP036_INT40_G_ueF_C11B/S1BB_20190325T070629_20190430T070631_VVP036_INT40_G_ueF_C11B_corr.tif to create file p81f1048_10x2_2/S1BB_20190325T070629_20190430T070631_VVP036_INT40_G_ueF_C11B/S1BB_20190325T070629_20190430T070631_VVP036_INT40_G_ueF_C11B_corr_clip.tif\n",
      "    clipping file p81f1048_10x2_2/S1BB_20190313T070629_20190430T070631_VVP048_INT40_G_ueF_DD98/S1BB_20190313T070629_20190430T070631_VVP048_INT40_G_ueF_DD98_corr.tif to create file p81f1048_10x2_2/S1BB_20190313T070629_20190430T070631_VVP048_INT40_G_ueF_DD98/S1BB_20190313T070629_20190430T070631_VVP048_INT40_G_ueF_DD98_corr_clip.tif\n",
      "    clipping file p81f1048_10x2_2/S1BB_20190301T070629_20190406T070630_VVP036_INT40_G_ueF_67F1/S1BB_20190301T070629_20190406T070630_VVP036_INT40_G_ueF_67F1_corr.tif to create file p81f1048_10x2_2/S1BB_20190301T070629_20190406T070630_VVP036_INT40_G_ueF_67F1/S1BB_20190301T070629_20190406T070630_VVP036_INT40_G_ueF_67F1_corr_clip.tif\n",
      "    clipping file p81f1048_10x2_2/S1BB_20190313T070629_20190406T070630_VVP024_INT40_G_ueF_3D2C/S1BB_20190313T070629_20190406T070630_VVP024_INT40_G_ueF_3D2C_corr.tif to create file p81f1048_10x2_2/S1BB_20190313T070629_20190406T070630_VVP024_INT40_G_ueF_3D2C/S1BB_20190313T070629_20190406T070630_VVP024_INT40_G_ueF_3D2C_corr_clip.tif\n",
      "    clipping file p81f1048_10x2_2/S1BB_20190325T070629_20190406T070630_VVP012_INT40_G_ueF_EF83/S1BB_20190325T070629_20190406T070630_VVP012_INT40_G_ueF_EF83_corr.tif to create file p81f1048_10x2_2/S1BB_20190325T070629_20190406T070630_VVP012_INT40_G_ueF_EF83/S1BB_20190325T070629_20190406T070630_VVP012_INT40_G_ueF_EF83_corr_clip.tif\n",
      "    clipping file p81f1048_10x2_2/S1BB_20190217T070629_20190325T070629_VVP036_INT40_G_ueF_4FE9/S1BB_20190217T070629_20190325T070629_VVP036_INT40_G_ueF_4FE9_corr.tif to create file p81f1048_10x2_2/S1BB_20190217T070629_20190325T070629_VVP036_INT40_G_ueF_4FE9/S1BB_20190217T070629_20190325T070629_VVP036_INT40_G_ueF_4FE9_corr_clip.tif\n",
      "    clipping file p81f1048_10x2_2/S1BB_20190301T070629_20190325T070629_VVP024_INT40_G_ueF_90B7/S1BB_20190301T070629_20190325T070629_VVP024_INT40_G_ueF_90B7_corr.tif to create file p81f1048_10x2_2/S1BB_20190301T070629_20190325T070629_VVP024_INT40_G_ueF_90B7/S1BB_20190301T070629_20190325T070629_VVP024_INT40_G_ueF_90B7_corr_clip.tif\n",
      "    clipping file p81f1048_10x2_2/S1BB_20190313T070629_20190325T070629_VVP012_INT40_G_ueF_D42F/S1BB_20190313T070629_20190325T070629_VVP012_INT40_G_ueF_D42F_corr.tif to create file p81f1048_10x2_2/S1BB_20190313T070629_20190325T070629_VVP012_INT40_G_ueF_D42F/S1BB_20190313T070629_20190325T070629_VVP012_INT40_G_ueF_D42F_corr_clip.tif\n",
      "    clipping file p81f1048_10x2_2/S1BB_20190205T070630_20190313T070629_VVP036_INT40_G_ueF_22FD/S1BB_20190205T070630_20190313T070629_VVP036_INT40_G_ueF_22FD_corr.tif to create file p81f1048_10x2_2/S1BB_20190205T070630_20190313T070629_VVP036_INT40_G_ueF_22FD/S1BB_20190205T070630_20190313T070629_VVP036_INT40_G_ueF_22FD_corr_clip.tif\n",
      "    clipping file p81f1048_10x2_2/S1BB_20190217T070629_20190313T070629_VVP024_INT40_G_ueF_3E73/S1BB_20190217T070629_20190313T070629_VVP024_INT40_G_ueF_3E73_corr.tif to create file p81f1048_10x2_2/S1BB_20190217T070629_20190313T070629_VVP024_INT40_G_ueF_3E73/S1BB_20190217T070629_20190313T070629_VVP024_INT40_G_ueF_3E73_corr_clip.tif\n",
      "    clipping file p81f1048_10x2_2/S1BB_20190301T070629_20190313T070629_VVP012_INT40_G_ueF_FFD0/S1BB_20190301T070629_20190313T070629_VVP012_INT40_G_ueF_FFD0_corr.tif to create file p81f1048_10x2_2/S1BB_20190301T070629_20190313T070629_VVP012_INT40_G_ueF_FFD0/S1BB_20190301T070629_20190313T070629_VVP012_INT40_G_ueF_FFD0_corr_clip.tif\n",
      "    clipping file p81f1048_10x2_2/S1BB_20190124T070630_20190301T070629_VVP036_INT40_G_ueF_6610/S1BB_20190124T070630_20190301T070629_VVP036_INT40_G_ueF_6610_corr.tif to create file p81f1048_10x2_2/S1BB_20190124T070630_20190301T070629_VVP036_INT40_G_ueF_6610/S1BB_20190124T070630_20190301T070629_VVP036_INT40_G_ueF_6610_corr_clip.tif\n",
      "    clipping file p81f1048_10x2_2/S1BB_20190205T070630_20190301T070629_VVP024_INT40_G_ueF_9A2B/S1BB_20190205T070630_20190301T070629_VVP024_INT40_G_ueF_9A2B_corr.tif to create file p81f1048_10x2_2/S1BB_20190205T070630_20190301T070629_VVP024_INT40_G_ueF_9A2B/S1BB_20190205T070630_20190301T070629_VVP024_INT40_G_ueF_9A2B_corr_clip.tif\n",
      "    clipping file p81f1048_10x2_2/S1BB_20190217T070629_20190301T070629_VVP012_INT40_G_ueF_879D/S1BB_20190217T070629_20190301T070629_VVP012_INT40_G_ueF_879D_corr.tif to create file p81f1048_10x2_2/S1BB_20190217T070629_20190301T070629_VVP012_INT40_G_ueF_879D/S1BB_20190217T070629_20190301T070629_VVP012_INT40_G_ueF_879D_corr_clip.tif\n",
      "    clipping file p81f1048_10x2_2/S1BB_20190112T070630_20190217T070629_VVP036_INT40_G_ueF_9C56/S1BB_20190112T070630_20190217T070629_VVP036_INT40_G_ueF_9C56_corr.tif to create file p81f1048_10x2_2/S1BB_20190112T070630_20190217T070629_VVP036_INT40_G_ueF_9C56/S1BB_20190112T070630_20190217T070629_VVP036_INT40_G_ueF_9C56_corr_clip.tif\n",
      "    clipping file p81f1048_10x2_2/S1BB_20190124T070630_20190217T070629_VVP024_INT40_G_ueF_584F/S1BB_20190124T070630_20190217T070629_VVP024_INT40_G_ueF_584F_corr.tif to create file p81f1048_10x2_2/S1BB_20190124T070630_20190217T070629_VVP024_INT40_G_ueF_584F/S1BB_20190124T070630_20190217T070629_VVP024_INT40_G_ueF_584F_corr_clip.tif\n",
      "    clipping file p81f1048_10x2_2/S1BB_20190205T070630_20190217T070629_VVP012_INT40_G_ueF_7232/S1BB_20190205T070630_20190217T070629_VVP012_INT40_G_ueF_7232_corr.tif to create file p81f1048_10x2_2/S1BB_20190205T070630_20190217T070629_VVP012_INT40_G_ueF_7232/S1BB_20190205T070630_20190217T070629_VVP012_INT40_G_ueF_7232_corr_clip.tif\n",
      "    clipping file p81f1048_10x2_2/S1BB_20181231T070631_20190205T070630_VVP036_INT40_G_ueF_3319/S1BB_20181231T070631_20190205T070630_VVP036_INT40_G_ueF_3319_corr.tif to create file p81f1048_10x2_2/S1BB_20181231T070631_20190205T070630_VVP036_INT40_G_ueF_3319/S1BB_20181231T070631_20190205T070630_VVP036_INT40_G_ueF_3319_corr_clip.tif\n",
      "    clipping file p81f1048_10x2_2/S1BB_20190124T070630_20190205T070630_VVP012_INT40_G_ueF_F77F/S1BB_20190124T070630_20190205T070630_VVP012_INT40_G_ueF_F77F_corr.tif to create file p81f1048_10x2_2/S1BB_20190124T070630_20190205T070630_VVP012_INT40_G_ueF_F77F/S1BB_20190124T070630_20190205T070630_VVP012_INT40_G_ueF_F77F_corr_clip.tif\n",
      "    clipping file p81f1048_10x2_2/S1BB_20190112T070630_20190205T070630_VVP024_INT40_G_ueF_C8E4/S1BB_20190112T070630_20190205T070630_VVP024_INT40_G_ueF_C8E4_corr.tif to create file p81f1048_10x2_2/S1BB_20190112T070630_20190205T070630_VVP024_INT40_G_ueF_C8E4/S1BB_20190112T070630_20190205T070630_VVP024_INT40_G_ueF_C8E4_corr_clip.tif\n",
      "    clipping file p81f1048_10x2_2/S1BB_20181219T070631_20190124T070630_VVP036_INT40_G_ueF_4712/S1BB_20181219T070631_20190124T070630_VVP036_INT40_G_ueF_4712_corr.tif to create file p81f1048_10x2_2/S1BB_20181219T070631_20190124T070630_VVP036_INT40_G_ueF_4712/S1BB_20181219T070631_20190124T070630_VVP036_INT40_G_ueF_4712_corr_clip.tif\n",
      "    clipping file p81f1048_10x2_2/S1BB_20181231T070631_20190124T070630_VVP024_INT40_G_ueF_BF0B/S1BB_20181231T070631_20190124T070630_VVP024_INT40_G_ueF_BF0B_corr.tif to create file p81f1048_10x2_2/S1BB_20181231T070631_20190124T070630_VVP024_INT40_G_ueF_BF0B/S1BB_20181231T070631_20190124T070630_VVP024_INT40_G_ueF_BF0B_corr_clip.tif\n",
      "    clipping file p81f1048_10x2_2/S1BB_20190112T070630_20190124T070630_VVP012_INT40_G_ueF_1FC4/S1BB_20190112T070630_20190124T070630_VVP012_INT40_G_ueF_1FC4_corr.tif to create file p81f1048_10x2_2/S1BB_20190112T070630_20190124T070630_VVP012_INT40_G_ueF_1FC4/S1BB_20190112T070630_20190124T070630_VVP012_INT40_G_ueF_1FC4_corr_clip.tif\n",
      "    clipping file p81f1048_10x2_2/S1BB_20181207T070632_20190112T070630_VVP036_INT40_G_ueF_53BE/S1BB_20181207T070632_20190112T070630_VVP036_INT40_G_ueF_53BE_corr.tif to create file p81f1048_10x2_2/S1BB_20181207T070632_20190112T070630_VVP036_INT40_G_ueF_53BE/S1BB_20181207T070632_20190112T070630_VVP036_INT40_G_ueF_53BE_corr_clip.tif\n",
      "    clipping file p81f1048_10x2_2/S1BB_20181219T070631_20190112T070630_VVP024_INT40_G_ueF_3BCE/S1BB_20181219T070631_20190112T070630_VVP024_INT40_G_ueF_3BCE_corr.tif to create file p81f1048_10x2_2/S1BB_20181219T070631_20190112T070630_VVP024_INT40_G_ueF_3BCE/S1BB_20181219T070631_20190112T070630_VVP024_INT40_G_ueF_3BCE_corr_clip.tif\n",
      "    clipping file p81f1048_10x2_2/S1BB_20181231T070631_20190112T070630_VVP012_INT40_G_ueF_13B5/S1BB_20181231T070631_20190112T070630_VVP012_INT40_G_ueF_13B5_corr.tif to create file p81f1048_10x2_2/S1BB_20181231T070631_20190112T070630_VVP012_INT40_G_ueF_13B5/S1BB_20181231T070631_20190112T070630_VVP012_INT40_G_ueF_13B5_corr_clip.tif\n",
      "    clipping file p81f1048_10x2_2/S1BB_20181125T070632_20181231T070631_VVP036_INT40_G_ueF_57D9/S1BB_20181125T070632_20181231T070631_VVP036_INT40_G_ueF_57D9_corr.tif to create file p81f1048_10x2_2/S1BB_20181125T070632_20181231T070631_VVP036_INT40_G_ueF_57D9/S1BB_20181125T070632_20181231T070631_VVP036_INT40_G_ueF_57D9_corr_clip.tif\n",
      "    clipping file p81f1048_10x2_2/S1BB_20181207T070632_20181231T070631_VVP024_INT40_G_ueF_E046/S1BB_20181207T070632_20181231T070631_VVP024_INT40_G_ueF_E046_corr.tif to create file p81f1048_10x2_2/S1BB_20181207T070632_20181231T070631_VVP024_INT40_G_ueF_E046/S1BB_20181207T070632_20181231T070631_VVP024_INT40_G_ueF_E046_corr_clip.tif\n",
      "    clipping file p81f1048_10x2_2/S1BB_20181219T070631_20181231T070631_VVP012_INT40_G_ueF_944F/S1BB_20181219T070631_20181231T070631_VVP012_INT40_G_ueF_944F_corr.tif to create file p81f1048_10x2_2/S1BB_20181219T070631_20181231T070631_VVP012_INT40_G_ueF_944F/S1BB_20181219T070631_20181231T070631_VVP012_INT40_G_ueF_944F_corr_clip.tif\n",
      "    clipping file p81f1048_10x2_2/S1BB_20181125T070632_20181219T070631_VVP024_INT40_G_ueF_084C/S1BB_20181125T070632_20181219T070631_VVP024_INT40_G_ueF_084C_corr.tif to create file p81f1048_10x2_2/S1BB_20181125T070632_20181219T070631_VVP024_INT40_G_ueF_084C/S1BB_20181125T070632_20181219T070631_VVP024_INT40_G_ueF_084C_corr_clip.tif\n",
      "    clipping file p81f1048_10x2_2/S1BB_20181113T070632_20181219T070631_VVP036_INT40_G_ueF_1FCB/S1BB_20181113T070632_20181219T070631_VVP036_INT40_G_ueF_1FCB_corr.tif to create file p81f1048_10x2_2/S1BB_20181113T070632_20181219T070631_VVP036_INT40_G_ueF_1FCB/S1BB_20181113T070632_20181219T070631_VVP036_INT40_G_ueF_1FCB_corr_clip.tif\n",
      "    clipping file p81f1048_10x2_2/S1BB_20181207T070632_20181219T070631_VVP012_INT40_G_ueF_7BB6/S1BB_20181207T070632_20181219T070631_VVP012_INT40_G_ueF_7BB6_corr.tif to create file p81f1048_10x2_2/S1BB_20181207T070632_20181219T070631_VVP012_INT40_G_ueF_7BB6/S1BB_20181207T070632_20181219T070631_VVP012_INT40_G_ueF_7BB6_corr_clip.tif\n",
      "    clipping file p81f1048_10x2_2/S1BB_20181101T070633_20181207T070632_VVP036_INT40_G_ueF_2CF3/S1BB_20181101T070633_20181207T070632_VVP036_INT40_G_ueF_2CF3_corr.tif to create file p81f1048_10x2_2/S1BB_20181101T070633_20181207T070632_VVP036_INT40_G_ueF_2CF3/S1BB_20181101T070633_20181207T070632_VVP036_INT40_G_ueF_2CF3_corr_clip.tif\n",
      "    clipping file p81f1048_10x2_2/S1BB_20181113T070632_20181207T070632_VVP024_INT40_G_ueF_EEFF/S1BB_20181113T070632_20181207T070632_VVP024_INT40_G_ueF_EEFF_corr.tif to create file p81f1048_10x2_2/S1BB_20181113T070632_20181207T070632_VVP024_INT40_G_ueF_EEFF/S1BB_20181113T070632_20181207T070632_VVP024_INT40_G_ueF_EEFF_corr_clip.tif\n",
      "    clipping file p81f1048_10x2_2/S1BB_20181125T070632_20181207T070632_VVP012_INT40_G_ueF_F751/S1BB_20181125T070632_20181207T070632_VVP012_INT40_G_ueF_F751_corr.tif to create file p81f1048_10x2_2/S1BB_20181125T070632_20181207T070632_VVP012_INT40_G_ueF_F751/S1BB_20181125T070632_20181207T070632_VVP012_INT40_G_ueF_F751_corr_clip.tif\n",
      "    clipping file p81f1048_10x2_2/S1BB_20181020T070633_20181125T070632_VVP036_INT40_G_ueF_8BA3/S1BB_20181020T070633_20181125T070632_VVP036_INT40_G_ueF_8BA3_corr.tif to create file p81f1048_10x2_2/S1BB_20181020T070633_20181125T070632_VVP036_INT40_G_ueF_8BA3/S1BB_20181020T070633_20181125T070632_VVP036_INT40_G_ueF_8BA3_corr_clip.tif\n",
      "    clipping file p81f1048_10x2_2/S1BB_20181101T070633_20181125T070632_VVP024_INT40_G_ueF_A086/S1BB_20181101T070633_20181125T070632_VVP024_INT40_G_ueF_A086_corr.tif to create file p81f1048_10x2_2/S1BB_20181101T070633_20181125T070632_VVP024_INT40_G_ueF_A086/S1BB_20181101T070633_20181125T070632_VVP024_INT40_G_ueF_A086_corr_clip.tif\n",
      "    clipping file p81f1048_10x2_2/S1BB_20181113T070632_20181125T070632_VVP012_INT40_G_ueF_3ACC/S1BB_20181113T070632_20181125T070632_VVP012_INT40_G_ueF_3ACC_corr.tif to create file p81f1048_10x2_2/S1BB_20181113T070632_20181125T070632_VVP012_INT40_G_ueF_3ACC/S1BB_20181113T070632_20181125T070632_VVP012_INT40_G_ueF_3ACC_corr_clip.tif\n",
      "    clipping file p81f1048_10x2_2/S1BB_20181020T070633_20181113T070632_VVP024_INT40_G_ueF_2534/S1BB_20181020T070633_20181113T070632_VVP024_INT40_G_ueF_2534_corr.tif to create file p81f1048_10x2_2/S1BB_20181020T070633_20181113T070632_VVP024_INT40_G_ueF_2534/S1BB_20181020T070633_20181113T070632_VVP024_INT40_G_ueF_2534_corr_clip.tif\n",
      "    clipping file p81f1048_10x2_2/S1BB_20181008T070633_20181113T070632_VVP036_INT40_G_ueF_AD57/S1BB_20181008T070633_20181113T070632_VVP036_INT40_G_ueF_AD57_corr.tif to create file p81f1048_10x2_2/S1BB_20181008T070633_20181113T070632_VVP036_INT40_G_ueF_AD57/S1BB_20181008T070633_20181113T070632_VVP036_INT40_G_ueF_AD57_corr_clip.tif\n",
      "    clipping file p81f1048_10x2_2/S1BB_20181101T070633_20181113T070632_VVP012_INT40_G_ueF_E574/S1BB_20181101T070633_20181113T070632_VVP012_INT40_G_ueF_E574_corr.tif to create file p81f1048_10x2_2/S1BB_20181101T070633_20181113T070632_VVP012_INT40_G_ueF_E574/S1BB_20181101T070633_20181113T070632_VVP012_INT40_G_ueF_E574_corr_clip.tif\n",
      "    clipping file p81f1048_10x2_2/S1BB_20181008T070633_20181101T070633_VVP024_INT40_G_ueF_C4D6/S1BB_20181008T070633_20181101T070633_VVP024_INT40_G_ueF_C4D6_corr.tif to create file p81f1048_10x2_2/S1BB_20181008T070633_20181101T070633_VVP024_INT40_G_ueF_C4D6/S1BB_20181008T070633_20181101T070633_VVP024_INT40_G_ueF_C4D6_corr_clip.tif\n",
      "    clipping file p81f1048_10x2_2/S1BB_20180926T070632_20181101T070633_VVP036_INT40_G_ueF_0D93/S1BB_20180926T070632_20181101T070633_VVP036_INT40_G_ueF_0D93_corr.tif to create file p81f1048_10x2_2/S1BB_20180926T070632_20181101T070633_VVP036_INT40_G_ueF_0D93/S1BB_20180926T070632_20181101T070633_VVP036_INT40_G_ueF_0D93_corr_clip.tif\n",
      "    clipping file p81f1048_10x2_2/S1BB_20181020T070633_20181101T070633_VVP012_INT40_G_ueF_CB35/S1BB_20181020T070633_20181101T070633_VVP012_INT40_G_ueF_CB35_corr.tif to create file p81f1048_10x2_2/S1BB_20181020T070633_20181101T070633_VVP012_INT40_G_ueF_CB35/S1BB_20181020T070633_20181101T070633_VVP012_INT40_G_ueF_CB35_corr_clip.tif\n",
      "    clipping file p81f1048_10x2_2/S1BB_20180914T070632_20181020T070633_VVP036_INT40_G_ueF_5ECC/S1BB_20180914T070632_20181020T070633_VVP036_INT40_G_ueF_5ECC_corr.tif to create file p81f1048_10x2_2/S1BB_20180914T070632_20181020T070633_VVP036_INT40_G_ueF_5ECC/S1BB_20180914T070632_20181020T070633_VVP036_INT40_G_ueF_5ECC_corr_clip.tif\n",
      "    clipping file p81f1048_10x2_2/S1BB_20180926T070632_20181020T070633_VVP024_INT40_G_ueF_96FD/S1BB_20180926T070632_20181020T070633_VVP024_INT40_G_ueF_96FD_corr.tif to create file p81f1048_10x2_2/S1BB_20180926T070632_20181020T070633_VVP024_INT40_G_ueF_96FD/S1BB_20180926T070632_20181020T070633_VVP024_INT40_G_ueF_96FD_corr_clip.tif\n",
      "    clipping file p81f1048_10x2_2/S1BB_20181008T070633_20181020T070633_VVP012_INT40_G_ueF_BBC5/S1BB_20181008T070633_20181020T070633_VVP012_INT40_G_ueF_BBC5_corr.tif to create file p81f1048_10x2_2/S1BB_20181008T070633_20181020T070633_VVP012_INT40_G_ueF_BBC5/S1BB_20181008T070633_20181020T070633_VVP012_INT40_G_ueF_BBC5_corr_clip.tif\n",
      "    clipping file p81f1048_10x2_2/S1BB_20180914T070632_20181008T070633_VVP024_INT40_G_ueF_910A/S1BB_20180914T070632_20181008T070633_VVP024_INT40_G_ueF_910A_corr.tif to create file p81f1048_10x2_2/S1BB_20180914T070632_20181008T070633_VVP024_INT40_G_ueF_910A/S1BB_20180914T070632_20181008T070633_VVP024_INT40_G_ueF_910A_corr_clip.tif\n",
      "    clipping file p81f1048_10x2_2/S1BB_20180902T070631_20181008T070633_VVP036_INT40_G_ueF_8452/S1BB_20180902T070631_20181008T070633_VVP036_INT40_G_ueF_8452_corr.tif to create file p81f1048_10x2_2/S1BB_20180902T070631_20181008T070633_VVP036_INT40_G_ueF_8452/S1BB_20180902T070631_20181008T070633_VVP036_INT40_G_ueF_8452_corr_clip.tif\n",
      "    clipping file p81f1048_10x2_2/S1BB_20180926T070632_20181008T070633_VVP012_INT40_G_ueF_0DCD/S1BB_20180926T070632_20181008T070633_VVP012_INT40_G_ueF_0DCD_corr.tif to create file p81f1048_10x2_2/S1BB_20180926T070632_20181008T070633_VVP012_INT40_G_ueF_0DCD/S1BB_20180926T070632_20181008T070633_VVP012_INT40_G_ueF_0DCD_corr_clip.tif\n",
      "    clipping file p81f1048_10x2_2/S1BB_20180821T070631_20180926T070632_VVP036_INT40_G_ueF_5223/S1BB_20180821T070631_20180926T070632_VVP036_INT40_G_ueF_5223_corr.tif to create file p81f1048_10x2_2/S1BB_20180821T070631_20180926T070632_VVP036_INT40_G_ueF_5223/S1BB_20180821T070631_20180926T070632_VVP036_INT40_G_ueF_5223_corr_clip.tif\n",
      "    clipping file p81f1048_10x2_2/S1BB_20180902T070631_20180926T070632_VVP024_INT40_G_ueF_A514/S1BB_20180902T070631_20180926T070632_VVP024_INT40_G_ueF_A514_corr.tif to create file p81f1048_10x2_2/S1BB_20180902T070631_20180926T070632_VVP024_INT40_G_ueF_A514/S1BB_20180902T070631_20180926T070632_VVP024_INT40_G_ueF_A514_corr_clip.tif\n",
      "    clipping file p81f1048_10x2_2/S1BB_20180914T070632_20180926T070632_VVP012_INT40_G_ueF_1808/S1BB_20180914T070632_20180926T070632_VVP012_INT40_G_ueF_1808_corr.tif to create file p81f1048_10x2_2/S1BB_20180914T070632_20180926T070632_VVP012_INT40_G_ueF_1808/S1BB_20180914T070632_20180926T070632_VVP012_INT40_G_ueF_1808_corr_clip.tif\n",
      "    clipping file p81f1048_10x2_2/S1BB_20180821T070631_20180914T070632_VVP024_INT40_G_ueF_1871/S1BB_20180821T070631_20180914T070632_VVP024_INT40_G_ueF_1871_corr.tif to create file p81f1048_10x2_2/S1BB_20180821T070631_20180914T070632_VVP024_INT40_G_ueF_1871/S1BB_20180821T070631_20180914T070632_VVP024_INT40_G_ueF_1871_corr_clip.tif\n",
      "    clipping file p81f1048_10x2_2/S1BB_20180809T070630_20180914T070632_VVP036_INT40_G_ueF_C656/S1BB_20180809T070630_20180914T070632_VVP036_INT40_G_ueF_C656_corr.tif to create file p81f1048_10x2_2/S1BB_20180809T070630_20180914T070632_VVP036_INT40_G_ueF_C656/S1BB_20180809T070630_20180914T070632_VVP036_INT40_G_ueF_C656_corr_clip.tif\n",
      "    clipping file p81f1048_10x2_2/S1BB_20180902T070631_20180914T070632_VVP012_INT40_G_ueF_DB57/S1BB_20180902T070631_20180914T070632_VVP012_INT40_G_ueF_DB57_corr.tif to create file p81f1048_10x2_2/S1BB_20180902T070631_20180914T070632_VVP012_INT40_G_ueF_DB57/S1BB_20180902T070631_20180914T070632_VVP012_INT40_G_ueF_DB57_corr_clip.tif\n",
      "    clipping file p81f1048_10x2_2/S1BB_20180728T070629_20180902T070631_VVP036_INT40_G_ueF_C876/S1BB_20180728T070629_20180902T070631_VVP036_INT40_G_ueF_C876_corr.tif to create file p81f1048_10x2_2/S1BB_20180728T070629_20180902T070631_VVP036_INT40_G_ueF_C876/S1BB_20180728T070629_20180902T070631_VVP036_INT40_G_ueF_C876_corr_clip.tif\n",
      "    clipping file p81f1048_10x2_2/S1BB_20180821T070631_20180902T070631_VVP012_INT40_G_ueF_E5B0/S1BB_20180821T070631_20180902T070631_VVP012_INT40_G_ueF_E5B0_corr.tif to create file p81f1048_10x2_2/S1BB_20180821T070631_20180902T070631_VVP012_INT40_G_ueF_E5B0/S1BB_20180821T070631_20180902T070631_VVP012_INT40_G_ueF_E5B0_corr_clip.tif\n",
      "    clipping file p81f1048_10x2_2/S1BB_20180809T070630_20180902T070631_VVP024_INT40_G_ueF_2CC9/S1BB_20180809T070630_20180902T070631_VVP024_INT40_G_ueF_2CC9_corr.tif to create file p81f1048_10x2_2/S1BB_20180809T070630_20180902T070631_VVP024_INT40_G_ueF_2CC9/S1BB_20180809T070630_20180902T070631_VVP024_INT40_G_ueF_2CC9_corr_clip.tif\n",
      "    clipping file p81f1048_10x2_2/S1BB_20180716T070629_20180821T070631_VVP036_INT40_G_ueF_96E2/S1BB_20180716T070629_20180821T070631_VVP036_INT40_G_ueF_96E2_corr.tif to create file p81f1048_10x2_2/S1BB_20180716T070629_20180821T070631_VVP036_INT40_G_ueF_96E2/S1BB_20180716T070629_20180821T070631_VVP036_INT40_G_ueF_96E2_corr_clip.tif\n",
      "    clipping file p81f1048_10x2_2/S1BB_20180728T070629_20180821T070631_VVP024_INT40_G_ueF_407E/S1BB_20180728T070629_20180821T070631_VVP024_INT40_G_ueF_407E_corr.tif to create file p81f1048_10x2_2/S1BB_20180728T070629_20180821T070631_VVP024_INT40_G_ueF_407E/S1BB_20180728T070629_20180821T070631_VVP024_INT40_G_ueF_407E_corr_clip.tif\n",
      "    clipping file p81f1048_10x2_2/S1BB_20180809T070630_20180821T070631_VVP012_INT40_G_ueF_8A16/S1BB_20180809T070630_20180821T070631_VVP012_INT40_G_ueF_8A16_corr.tif to create file p81f1048_10x2_2/S1BB_20180809T070630_20180821T070631_VVP012_INT40_G_ueF_8A16/S1BB_20180809T070630_20180821T070631_VVP012_INT40_G_ueF_8A16_corr_clip.tif\n",
      "    clipping file p81f1048_10x2_2/S1BB_20180704T070628_20180809T070630_VVP036_INT40_G_ueF_BA35/S1BB_20180704T070628_20180809T070630_VVP036_INT40_G_ueF_BA35_corr.tif to create file p81f1048_10x2_2/S1BB_20180704T070628_20180809T070630_VVP036_INT40_G_ueF_BA35/S1BB_20180704T070628_20180809T070630_VVP036_INT40_G_ueF_BA35_corr_clip.tif\n",
      "    clipping file p81f1048_10x2_2/S1BB_20180716T070629_20180809T070630_VVP024_INT40_G_ueF_C7FF/S1BB_20180716T070629_20180809T070630_VVP024_INT40_G_ueF_C7FF_corr.tif to create file p81f1048_10x2_2/S1BB_20180716T070629_20180809T070630_VVP024_INT40_G_ueF_C7FF/S1BB_20180716T070629_20180809T070630_VVP024_INT40_G_ueF_C7FF_corr_clip.tif\n",
      "    clipping file p81f1048_10x2_2/S1BB_20180728T070629_20180809T070630_VVP012_INT40_G_ueF_5A6F/S1BB_20180728T070629_20180809T070630_VVP012_INT40_G_ueF_5A6F_corr.tif to create file p81f1048_10x2_2/S1BB_20180728T070629_20180809T070630_VVP012_INT40_G_ueF_5A6F/S1BB_20180728T070629_20180809T070630_VVP012_INT40_G_ueF_5A6F_corr_clip.tif\n",
      "    clipping file p81f1048_10x2_2/S1BB_20180716T070629_20180728T070629_VVP012_INT40_G_ueF_B11D/S1BB_20180716T070629_20180728T070629_VVP012_INT40_G_ueF_B11D_corr.tif to create file p81f1048_10x2_2/S1BB_20180716T070629_20180728T070629_VVP012_INT40_G_ueF_B11D/S1BB_20180716T070629_20180728T070629_VVP012_INT40_G_ueF_B11D_corr_clip.tif\n",
      "    clipping file p81f1048_10x2_2/S1BB_20180622T070627_20180728T070629_VVP036_INT40_G_ueF_70E4/S1BB_20180622T070627_20180728T070629_VVP036_INT40_G_ueF_70E4_corr.tif to create file p81f1048_10x2_2/S1BB_20180622T070627_20180728T070629_VVP036_INT40_G_ueF_70E4/S1BB_20180622T070627_20180728T070629_VVP036_INT40_G_ueF_70E4_corr_clip.tif\n",
      "    clipping file p81f1048_10x2_2/S1BB_20180704T070628_20180728T070629_VVP024_INT40_G_ueF_7BFA/S1BB_20180704T070628_20180728T070629_VVP024_INT40_G_ueF_7BFA_corr.tif to create file p81f1048_10x2_2/S1BB_20180704T070628_20180728T070629_VVP024_INT40_G_ueF_7BFA/S1BB_20180704T070628_20180728T070629_VVP024_INT40_G_ueF_7BFA_corr_clip.tif\n",
      "    clipping file p81f1048_10x2_2/S1BB_20180622T070627_20180716T070629_VVP024_INT40_G_ueF_16CB/S1BB_20180622T070627_20180716T070629_VVP024_INT40_G_ueF_16CB_corr.tif to create file p81f1048_10x2_2/S1BB_20180622T070627_20180716T070629_VVP024_INT40_G_ueF_16CB/S1BB_20180622T070627_20180716T070629_VVP024_INT40_G_ueF_16CB_corr_clip.tif\n",
      "    clipping file p81f1048_10x2_2/S1BB_20180704T070628_20180716T070629_VVP012_INT40_G_ueF_A88A/S1BB_20180704T070628_20180716T070629_VVP012_INT40_G_ueF_A88A_corr.tif to create file p81f1048_10x2_2/S1BB_20180704T070628_20180716T070629_VVP012_INT40_G_ueF_A88A/S1BB_20180704T070628_20180716T070629_VVP012_INT40_G_ueF_A88A_corr_clip.tif\n",
      "    clipping file p81f1048_10x2_2/S1BB_20180610T070627_20180716T070629_VVP036_INT40_G_ueF_988A/S1BB_20180610T070627_20180716T070629_VVP036_INT40_G_ueF_988A_corr.tif to create file p81f1048_10x2_2/S1BB_20180610T070627_20180716T070629_VVP036_INT40_G_ueF_988A/S1BB_20180610T070627_20180716T070629_VVP036_INT40_G_ueF_988A_corr_clip.tif\n",
      "    clipping file p81f1048_10x2_2/S1BB_20180529T070626_20180704T070628_VVP036_INT40_G_ueF_957D/S1BB_20180529T070626_20180704T070628_VVP036_INT40_G_ueF_957D_corr.tif to create file p81f1048_10x2_2/S1BB_20180529T070626_20180704T070628_VVP036_INT40_G_ueF_957D/S1BB_20180529T070626_20180704T070628_VVP036_INT40_G_ueF_957D_corr_clip.tif\n",
      "    clipping file p81f1048_10x2_2/S1BB_20180622T070627_20180704T070628_VVP012_INT40_G_ueF_C4C4/S1BB_20180622T070627_20180704T070628_VVP012_INT40_G_ueF_C4C4_corr.tif to create file p81f1048_10x2_2/S1BB_20180622T070627_20180704T070628_VVP012_INT40_G_ueF_C4C4/S1BB_20180622T070627_20180704T070628_VVP012_INT40_G_ueF_C4C4_corr_clip.tif\n",
      "    clipping file p81f1048_10x2_2/S1BB_20180610T070627_20180704T070628_VVP024_INT40_G_ueF_E4D3/S1BB_20180610T070627_20180704T070628_VVP024_INT40_G_ueF_E4D3_corr.tif to create file p81f1048_10x2_2/S1BB_20180610T070627_20180704T070628_VVP024_INT40_G_ueF_E4D3/S1BB_20180610T070627_20180704T070628_VVP024_INT40_G_ueF_E4D3_corr_clip.tif\n",
      "    clipping file p81f1048_10x2_2/S1BB_20180517T070625_20180622T070627_VVP036_INT40_G_ueF_D9B5/S1BB_20180517T070625_20180622T070627_VVP036_INT40_G_ueF_D9B5_corr.tif to create file p81f1048_10x2_2/S1BB_20180517T070625_20180622T070627_VVP036_INT40_G_ueF_D9B5/S1BB_20180517T070625_20180622T070627_VVP036_INT40_G_ueF_D9B5_corr_clip.tif\n",
      "    clipping file p81f1048_10x2_2/S1BB_20180529T070626_20180622T070627_VVP024_INT40_G_ueF_D57A/S1BB_20180529T070626_20180622T070627_VVP024_INT40_G_ueF_D57A_corr.tif to create file p81f1048_10x2_2/S1BB_20180529T070626_20180622T070627_VVP024_INT40_G_ueF_D57A/S1BB_20180529T070626_20180622T070627_VVP024_INT40_G_ueF_D57A_corr_clip.tif\n",
      "    clipping file p81f1048_10x2_2/S1BB_20180610T070627_20180622T070627_VVP012_INT40_G_ueF_4A7B/S1BB_20180610T070627_20180622T070627_VVP012_INT40_G_ueF_4A7B_corr.tif to create file p81f1048_10x2_2/S1BB_20180610T070627_20180622T070627_VVP012_INT40_G_ueF_4A7B/S1BB_20180610T070627_20180622T070627_VVP012_INT40_G_ueF_4A7B_corr_clip.tif\n",
      "    clipping file p81f1048_10x2_2/S1BB_20180505T070624_20180610T070627_VVP036_INT40_G_ueF_0B70/S1BB_20180505T070624_20180610T070627_VVP036_INT40_G_ueF_0B70_corr.tif to create file p81f1048_10x2_2/S1BB_20180505T070624_20180610T070627_VVP036_INT40_G_ueF_0B70/S1BB_20180505T070624_20180610T070627_VVP036_INT40_G_ueF_0B70_corr_clip.tif\n",
      "    clipping file p81f1048_10x2_2/S1BB_20180529T070626_20180610T070627_VVP012_INT40_G_ueF_D279/S1BB_20180529T070626_20180610T070627_VVP012_INT40_G_ueF_D279_corr.tif to create file p81f1048_10x2_2/S1BB_20180529T070626_20180610T070627_VVP012_INT40_G_ueF_D279/S1BB_20180529T070626_20180610T070627_VVP012_INT40_G_ueF_D279_corr_clip.tif\n",
      "    clipping file p81f1048_10x2_2/S1BB_20180517T070625_20180610T070627_VVP024_INT40_G_ueF_75B0/S1BB_20180517T070625_20180610T070627_VVP024_INT40_G_ueF_75B0_corr.tif to create file p81f1048_10x2_2/S1BB_20180517T070625_20180610T070627_VVP024_INT40_G_ueF_75B0/S1BB_20180517T070625_20180610T070627_VVP024_INT40_G_ueF_75B0_corr_clip.tif\n",
      "    clipping file p81f1048_10x2_2/S1BB_20180423T070624_20180529T070626_VVP036_INT40_G_ueF_E2DE/S1BB_20180423T070624_20180529T070626_VVP036_INT40_G_ueF_E2DE_corr.tif to create file p81f1048_10x2_2/S1BB_20180423T070624_20180529T070626_VVP036_INT40_G_ueF_E2DE/S1BB_20180423T070624_20180529T070626_VVP036_INT40_G_ueF_E2DE_corr_clip.tif\n",
      "    clipping file p81f1048_10x2_2/S1BB_20180505T070624_20180529T070626_VVP024_INT40_G_ueF_0E02/S1BB_20180505T070624_20180529T070626_VVP024_INT40_G_ueF_0E02_corr.tif to create file p81f1048_10x2_2/S1BB_20180505T070624_20180529T070626_VVP024_INT40_G_ueF_0E02/S1BB_20180505T070624_20180529T070626_VVP024_INT40_G_ueF_0E02_corr_clip.tif\n",
      "    clipping file p81f1048_10x2_2/S1BB_20180517T070625_20180529T070626_VVP012_INT40_G_ueF_B06F/S1BB_20180517T070625_20180529T070626_VVP012_INT40_G_ueF_B06F_corr.tif to create file p81f1048_10x2_2/S1BB_20180517T070625_20180529T070626_VVP012_INT40_G_ueF_B06F/S1BB_20180517T070625_20180529T070626_VVP012_INT40_G_ueF_B06F_corr_clip.tif\n",
      "    clipping file p81f1048_10x2_2/S1BB_20180411T070623_20180517T070625_VVP036_INT40_G_ueF_D4B2/S1BB_20180411T070623_20180517T070625_VVP036_INT40_G_ueF_D4B2_corr.tif to create file p81f1048_10x2_2/S1BB_20180411T070623_20180517T070625_VVP036_INT40_G_ueF_D4B2/S1BB_20180411T070623_20180517T070625_VVP036_INT40_G_ueF_D4B2_corr_clip.tif\n",
      "    clipping file p81f1048_10x2_2/S1BB_20180423T070624_20180517T070625_VVP024_INT40_G_ueF_0B0D/S1BB_20180423T070624_20180517T070625_VVP024_INT40_G_ueF_0B0D_corr.tif to create file p81f1048_10x2_2/S1BB_20180423T070624_20180517T070625_VVP024_INT40_G_ueF_0B0D/S1BB_20180423T070624_20180517T070625_VVP024_INT40_G_ueF_0B0D_corr_clip.tif\n",
      "    clipping file p81f1048_10x2_2/S1BB_20180505T070624_20180517T070625_VVP012_INT40_G_ueF_FC01/S1BB_20180505T070624_20180517T070625_VVP012_INT40_G_ueF_FC01_corr.tif to create file p81f1048_10x2_2/S1BB_20180505T070624_20180517T070625_VVP012_INT40_G_ueF_FC01/S1BB_20180505T070624_20180517T070625_VVP012_INT40_G_ueF_FC01_corr_clip.tif\n",
      "    clipping file p81f1048_10x2_2/S1BB_20180330T070623_20180505T070624_VVP036_INT40_G_ueF_C8AB/S1BB_20180330T070623_20180505T070624_VVP036_INT40_G_ueF_C8AB_corr.tif to create file p81f1048_10x2_2/S1BB_20180330T070623_20180505T070624_VVP036_INT40_G_ueF_C8AB/S1BB_20180330T070623_20180505T070624_VVP036_INT40_G_ueF_C8AB_corr_clip.tif\n",
      "    clipping file p81f1048_10x2_2/S1BB_20180411T070623_20180505T070624_VVP024_INT40_G_ueF_F243/S1BB_20180411T070623_20180505T070624_VVP024_INT40_G_ueF_F243_corr.tif to create file p81f1048_10x2_2/S1BB_20180411T070623_20180505T070624_VVP024_INT40_G_ueF_F243/S1BB_20180411T070623_20180505T070624_VVP024_INT40_G_ueF_F243_corr_clip.tif\n",
      "    clipping file p81f1048_10x2_2/S1BB_20180423T070624_20180505T070624_VVP012_INT40_G_ueF_45AF/S1BB_20180423T070624_20180505T070624_VVP012_INT40_G_ueF_45AF_corr.tif to create file p81f1048_10x2_2/S1BB_20180423T070624_20180505T070624_VVP012_INT40_G_ueF_45AF/S1BB_20180423T070624_20180505T070624_VVP012_INT40_G_ueF_45AF_corr_clip.tif\n",
      "    clipping file p81f1048_10x2_2/S1BB_20180318T070623_20180423T070624_VVP036_INT40_G_ueF_4AD1/S1BB_20180318T070623_20180423T070624_VVP036_INT40_G_ueF_4AD1_corr.tif to create file p81f1048_10x2_2/S1BB_20180318T070623_20180423T070624_VVP036_INT40_G_ueF_4AD1/S1BB_20180318T070623_20180423T070624_VVP036_INT40_G_ueF_4AD1_corr_clip.tif\n",
      "    clipping file p81f1048_10x2_2/S1BB_20180330T070623_20180423T070624_VVP024_INT40_G_ueF_BA71/S1BB_20180330T070623_20180423T070624_VVP024_INT40_G_ueF_BA71_corr.tif to create file p81f1048_10x2_2/S1BB_20180330T070623_20180423T070624_VVP024_INT40_G_ueF_BA71/S1BB_20180330T070623_20180423T070624_VVP024_INT40_G_ueF_BA71_corr_clip.tif\n",
      "    clipping file p81f1048_10x2_2/S1BB_20180411T070623_20180423T070624_VVP012_INT40_G_ueF_1135/S1BB_20180411T070623_20180423T070624_VVP012_INT40_G_ueF_1135_corr.tif to create file p81f1048_10x2_2/S1BB_20180411T070623_20180423T070624_VVP012_INT40_G_ueF_1135/S1BB_20180411T070623_20180423T070624_VVP012_INT40_G_ueF_1135_corr_clip.tif\n",
      "    clipping file p81f1048_10x2_2/S1BB_20180306T070623_20180411T070623_VVP036_INT40_G_ueF_F61C/S1BB_20180306T070623_20180411T070623_VVP036_INT40_G_ueF_F61C_corr.tif to create file p81f1048_10x2_2/S1BB_20180306T070623_20180411T070623_VVP036_INT40_G_ueF_F61C/S1BB_20180306T070623_20180411T070623_VVP036_INT40_G_ueF_F61C_corr_clip.tif\n",
      "    clipping file p81f1048_10x2_2/S1BB_20180330T070623_20180411T070623_VVP012_INT40_G_ueF_7016/S1BB_20180330T070623_20180411T070623_VVP012_INT40_G_ueF_7016_corr.tif to create file p81f1048_10x2_2/S1BB_20180330T070623_20180411T070623_VVP012_INT40_G_ueF_7016/S1BB_20180330T070623_20180411T070623_VVP012_INT40_G_ueF_7016_corr_clip.tif\n",
      "    clipping file p81f1048_10x2_2/S1BB_20180318T070623_20180411T070623_VVP024_INT40_G_ueF_76A2/S1BB_20180318T070623_20180411T070623_VVP024_INT40_G_ueF_76A2_corr.tif to create file p81f1048_10x2_2/S1BB_20180318T070623_20180411T070623_VVP024_INT40_G_ueF_76A2/S1BB_20180318T070623_20180411T070623_VVP024_INT40_G_ueF_76A2_corr_clip.tif\n",
      "    clipping file p81f1048_10x2_2/S1BB_20180222T070622_20180330T070623_VVP036_INT40_G_ueF_3222/S1BB_20180222T070622_20180330T070623_VVP036_INT40_G_ueF_3222_corr.tif to create file p81f1048_10x2_2/S1BB_20180222T070622_20180330T070623_VVP036_INT40_G_ueF_3222/S1BB_20180222T070622_20180330T070623_VVP036_INT40_G_ueF_3222_corr_clip.tif\n",
      "    clipping file p81f1048_10x2_2/S1BB_20180306T070623_20180330T070623_VVP024_INT40_G_ueF_D8B7/S1BB_20180306T070623_20180330T070623_VVP024_INT40_G_ueF_D8B7_corr.tif to create file p81f1048_10x2_2/S1BB_20180306T070623_20180330T070623_VVP024_INT40_G_ueF_D8B7/S1BB_20180306T070623_20180330T070623_VVP024_INT40_G_ueF_D8B7_corr_clip.tif\n",
      "    clipping file p81f1048_10x2_2/S1BB_20180318T070623_20180330T070623_VVP012_INT40_G_ueF_6E98/S1BB_20180318T070623_20180330T070623_VVP012_INT40_G_ueF_6E98_corr.tif to create file p81f1048_10x2_2/S1BB_20180318T070623_20180330T070623_VVP012_INT40_G_ueF_6E98/S1BB_20180318T070623_20180330T070623_VVP012_INT40_G_ueF_6E98_corr_clip.tif\n",
      "    clipping file p81f1048_10x2_2/S1BB_20180210T070623_20180318T070623_VVP036_INT40_G_ueF_245D/S1BB_20180210T070623_20180318T070623_VVP036_INT40_G_ueF_245D_corr.tif to create file p81f1048_10x2_2/S1BB_20180210T070623_20180318T070623_VVP036_INT40_G_ueF_245D/S1BB_20180210T070623_20180318T070623_VVP036_INT40_G_ueF_245D_corr_clip.tif\n",
      "    clipping file p81f1048_10x2_2/S1BB_20180306T070623_20180318T070623_VVP012_INT40_G_ueF_1E19/S1BB_20180306T070623_20180318T070623_VVP012_INT40_G_ueF_1E19_corr.tif to create file p81f1048_10x2_2/S1BB_20180306T070623_20180318T070623_VVP012_INT40_G_ueF_1E19/S1BB_20180306T070623_20180318T070623_VVP012_INT40_G_ueF_1E19_corr_clip.tif\n",
      "    clipping file p81f1048_10x2_2/S1BB_20180222T070622_20180318T070623_VVP024_INT40_G_ueF_62A7/S1BB_20180222T070622_20180318T070623_VVP024_INT40_G_ueF_62A7_corr.tif to create file p81f1048_10x2_2/S1BB_20180222T070622_20180318T070623_VVP024_INT40_G_ueF_62A7/S1BB_20180222T070622_20180318T070623_VVP024_INT40_G_ueF_62A7_corr_clip.tif\n",
      "    clipping file p81f1048_10x2_2/S1BB_20180129T070623_20180306T070623_VVP036_INT40_G_ueF_16D5/S1BB_20180129T070623_20180306T070623_VVP036_INT40_G_ueF_16D5_corr.tif to create file p81f1048_10x2_2/S1BB_20180129T070623_20180306T070623_VVP036_INT40_G_ueF_16D5/S1BB_20180129T070623_20180306T070623_VVP036_INT40_G_ueF_16D5_corr_clip.tif\n",
      "    clipping file p81f1048_10x2_2/S1BB_20180210T070623_20180306T070623_VVP024_INT40_G_ueF_EFA7/S1BB_20180210T070623_20180306T070623_VVP024_INT40_G_ueF_EFA7_corr.tif to create file p81f1048_10x2_2/S1BB_20180210T070623_20180306T070623_VVP024_INT40_G_ueF_EFA7/S1BB_20180210T070623_20180306T070623_VVP024_INT40_G_ueF_EFA7_corr_clip.tif\n",
      "    clipping file p81f1048_10x2_2/S1BB_20180222T070622_20180306T070623_VVP012_INT40_G_ueF_81CE/S1BB_20180222T070622_20180306T070623_VVP012_INT40_G_ueF_81CE_corr.tif to create file p81f1048_10x2_2/S1BB_20180222T070622_20180306T070623_VVP012_INT40_G_ueF_81CE/S1BB_20180222T070622_20180306T070623_VVP012_INT40_G_ueF_81CE_corr_clip.tif\n",
      "    clipping file p81f1048_10x2_2/S1BB_20180129T070623_20180222T070622_VVP024_INT40_G_ueF_9560/S1BB_20180129T070623_20180222T070622_VVP024_INT40_G_ueF_9560_corr.tif to create file p81f1048_10x2_2/S1BB_20180129T070623_20180222T070622_VVP024_INT40_G_ueF_9560/S1BB_20180129T070623_20180222T070622_VVP024_INT40_G_ueF_9560_corr_clip.tif\n",
      "    clipping file p81f1048_10x2_2/S1BB_20180117T070623_20180222T070622_VVP036_INT40_G_ueF_F90E/S1BB_20180117T070623_20180222T070622_VVP036_INT40_G_ueF_F90E_corr.tif to create file p81f1048_10x2_2/S1BB_20180117T070623_20180222T070622_VVP036_INT40_G_ueF_F90E/S1BB_20180117T070623_20180222T070622_VVP036_INT40_G_ueF_F90E_corr_clip.tif\n",
      "    clipping file p81f1048_10x2_2/S1BB_20180210T070623_20180222T070622_VVP012_INT40_G_ueF_C723/S1BB_20180210T070623_20180222T070622_VVP012_INT40_G_ueF_C723_corr.tif to create file p81f1048_10x2_2/S1BB_20180210T070623_20180222T070622_VVP012_INT40_G_ueF_C723/S1BB_20180210T070623_20180222T070622_VVP012_INT40_G_ueF_C723_corr_clip.tif\n",
      "    clipping file p81f1048_10x2_2/S1BB_20180105T070624_20180210T070623_VVP036_INT40_G_ueF_278F/S1BB_20180105T070624_20180210T070623_VVP036_INT40_G_ueF_278F_corr.tif to create file p81f1048_10x2_2/S1BB_20180105T070624_20180210T070623_VVP036_INT40_G_ueF_278F/S1BB_20180105T070624_20180210T070623_VVP036_INT40_G_ueF_278F_corr_clip.tif\n",
      "    clipping file p81f1048_10x2_2/S1BB_20180129T070623_20180210T070623_VVP012_INT40_G_ueF_ED76/S1BB_20180129T070623_20180210T070623_VVP012_INT40_G_ueF_ED76_corr.tif to create file p81f1048_10x2_2/S1BB_20180129T070623_20180210T070623_VVP012_INT40_G_ueF_ED76/S1BB_20180129T070623_20180210T070623_VVP012_INT40_G_ueF_ED76_corr_clip.tif\n",
      "    clipping file p81f1048_10x2_2/S1BB_20180117T070623_20180210T070623_VVP024_INT40_G_ueF_2A64/S1BB_20180117T070623_20180210T070623_VVP024_INT40_G_ueF_2A64_corr.tif to create file p81f1048_10x2_2/S1BB_20180117T070623_20180210T070623_VVP024_INT40_G_ueF_2A64/S1BB_20180117T070623_20180210T070623_VVP024_INT40_G_ueF_2A64_corr_clip.tif\n",
      "    clipping file p81f1048_10x2_2/S1BB_20180105T070624_20180129T070623_VVP024_INT40_G_ueF_6F1E/S1BB_20180105T070624_20180129T070623_VVP024_INT40_G_ueF_6F1E_corr.tif to create file p81f1048_10x2_2/S1BB_20180105T070624_20180129T070623_VVP024_INT40_G_ueF_6F1E/S1BB_20180105T070624_20180129T070623_VVP024_INT40_G_ueF_6F1E_corr_clip.tif\n",
      "    clipping file p81f1048_10x2_2/S1BB_20171224T070624_20180129T070623_VVP036_INT40_G_ueF_1D60/S1BB_20171224T070624_20180129T070623_VVP036_INT40_G_ueF_1D60_corr.tif to create file p81f1048_10x2_2/S1BB_20171224T070624_20180129T070623_VVP036_INT40_G_ueF_1D60/S1BB_20171224T070624_20180129T070623_VVP036_INT40_G_ueF_1D60_corr_clip.tif\n",
      "    clipping file p81f1048_10x2_2/S1BB_20180117T070623_20180129T070623_VVP012_INT40_G_ueF_439A/S1BB_20180117T070623_20180129T070623_VVP012_INT40_G_ueF_439A_corr.tif to create file p81f1048_10x2_2/S1BB_20180117T070623_20180129T070623_VVP012_INT40_G_ueF_439A/S1BB_20180117T070623_20180129T070623_VVP012_INT40_G_ueF_439A_corr_clip.tif\n",
      "    clipping file p81f1048_10x2_2/S1BB_20171212T070625_20180117T070623_VVP036_INT40_G_ueF_A930/S1BB_20171212T070625_20180117T070623_VVP036_INT40_G_ueF_A930_corr.tif to create file p81f1048_10x2_2/S1BB_20171212T070625_20180117T070623_VVP036_INT40_G_ueF_A930/S1BB_20171212T070625_20180117T070623_VVP036_INT40_G_ueF_A930_corr_clip.tif\n",
      "    clipping file p81f1048_10x2_2/S1BB_20180105T070624_20180117T070623_VVP012_INT40_G_ueF_D024/S1BB_20180105T070624_20180117T070623_VVP012_INT40_G_ueF_D024_corr.tif to create file p81f1048_10x2_2/S1BB_20180105T070624_20180117T070623_VVP012_INT40_G_ueF_D024/S1BB_20180105T070624_20180117T070623_VVP012_INT40_G_ueF_D024_corr_clip.tif\n",
      "    clipping file p81f1048_10x2_2/S1BB_20171224T070624_20180117T070623_VVP024_INT40_G_ueF_E6B9/S1BB_20171224T070624_20180117T070623_VVP024_INT40_G_ueF_E6B9_corr.tif to create file p81f1048_10x2_2/S1BB_20171224T070624_20180117T070623_VVP024_INT40_G_ueF_E6B9/S1BB_20171224T070624_20180117T070623_VVP024_INT40_G_ueF_E6B9_corr_clip.tif\n",
      "    clipping file p81f1048_10x2_2/S1BB_20171130T070625_20180105T070624_VVP036_INT40_G_ueF_F516/S1BB_20171130T070625_20180105T070624_VVP036_INT40_G_ueF_F516_corr.tif to create file p81f1048_10x2_2/S1BB_20171130T070625_20180105T070624_VVP036_INT40_G_ueF_F516/S1BB_20171130T070625_20180105T070624_VVP036_INT40_G_ueF_F516_corr_clip.tif\n",
      "    clipping file p81f1048_10x2_2/S1BB_20171212T070625_20180105T070624_VVP024_INT40_G_ueF_8AC1/S1BB_20171212T070625_20180105T070624_VVP024_INT40_G_ueF_8AC1_corr.tif to create file p81f1048_10x2_2/S1BB_20171212T070625_20180105T070624_VVP024_INT40_G_ueF_8AC1/S1BB_20171212T070625_20180105T070624_VVP024_INT40_G_ueF_8AC1_corr_clip.tif\n",
      "    clipping file p81f1048_10x2_2/S1BB_20171224T070624_20180105T070624_VVP012_INT40_G_ueF_0A8B/S1BB_20171224T070624_20180105T070624_VVP012_INT40_G_ueF_0A8B_corr.tif to create file p81f1048_10x2_2/S1BB_20171224T070624_20180105T070624_VVP012_INT40_G_ueF_0A8B/S1BB_20171224T070624_20180105T070624_VVP012_INT40_G_ueF_0A8B_corr_clip.tif\n"
     ]
    }
   ],
   "source": [
    "folders = glob.glob(os.path.join(project_name,'S1*'))\n",
    "all_images = []\n",
    "for suffix in ['dem','inc_map','water_map','unw_phase','corr']:\n",
    "    all_images += [os.path.join(x,f'{os.path.basename(x)}_{suffix}.tif') for x in folders]\n",
    "\n",
    "exists = [x for x in all_images if os.path.exists(x)]\n",
    "to_clip = [x for x in exists if not os.path.exists(f'{x[:-4]}_clip.tif')]\n",
    "\n",
    "cutGeotiffs.cutFiles(to_clip)"
   ]
  },
  {
   "cell_type": "markdown",
   "metadata": {},
   "source": [
    "Done!"
   ]
  }
 ],
 "metadata": {
  "interpreter": {
   "hash": "d0805dd0a63a9aa5b56409bdcec0789bd27e38c20d1aed221282d406ad418a8c"
  },
  "kernelspec": {
   "display_name": "Python 3",
   "language": "python",
   "name": "python3"
  },
  "language_info": {
   "codemirror_mode": {
    "name": "ipython",
    "version": 3
   },
   "file_extension": ".py",
   "mimetype": "text/x-python",
   "name": "python",
   "nbconvert_exporter": "python",
   "pygments_lexer": "ipython3",
   "version": "3.9.5"
  },
  "metadata": {
   "interpreter": {
    "hash": "d0805dd0a63a9aa5b56409bdcec0789bd27e38c20d1aed221282d406ad418a8c"
   }
  }
 },
 "nbformat": 4,
 "nbformat_minor": 4
}
