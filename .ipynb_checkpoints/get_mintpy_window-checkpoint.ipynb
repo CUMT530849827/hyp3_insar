{
 "cells": [
  {
   "cell_type": "code",
   "execution_count": null,
   "id": "32f1d721-d967-4e7b-a198-193987ce13c0",
   "metadata": {},
   "outputs": [],
   "source": [
    "%matplotlib inline\n",
    "import matplotlib.pyplot as plt\n",
    "import geopandas as gpd\n",
    "import glob\n",
    "from pathlib import Path\n",
    "import rasterio\n",
    "from shapely.geometry import box"
   ]
  },
  {
   "cell_type": "code",
   "execution_count": null,
   "id": "4affd3d9-57b4-446d-b59a-d8b46e87a4ee",
   "metadata": {},
   "outputs": [],
   "source": [
    "pwd"
   ]
  },
  {
   "cell_type": "code",
   "execution_count": null,
   "id": "f28c0fa1-e4a7-4f6b-8639-3a40e5400b27",
   "metadata": {},
   "outputs": [],
   "source": [
    "insar_path = Path('../asc_lower')"
   ]
  },
  {
   "cell_type": "code",
   "execution_count": null,
   "id": "d7ed9f8b-9a8b-4573-a4ef-2d07a165da80",
   "metadata": {},
   "outputs": [],
   "source": [
    "dem_path = [Path(x) for x in insar_path.glob('./*/*dem_clip.tif')][0]\n",
    "\n",
    "with rasterio.open(dem_path) as meta:\n",
    "    crs = meta.crs\n",
    "    transform = meta.transform\n",
    "    bounds = meta.bounds\n",
    "    dem = meta.read(1)\n",
    "\n",
    "bboxras = box(*list(bounds))"
   ]
  },
  {
   "cell_type": "code",
   "execution_count": null,
   "id": "369c7f5f-4830-4b6a-9fdf-d7cd878a74d9",
   "metadata": {},
   "outputs": [],
   "source": [
    "ls_path = Path('mapped_landslides')\n",
    "\n",
    "ls = gpd.read_file(ls_path / 'large_landslidesV2.shp').to_crs(str(crs))\n",
    "\n",
    "bbox = box(*ls.total_bounds)\n",
    "bbox10 = bbox.buffer(10000)"
   ]
  },
  {
   "cell_type": "code",
   "execution_count": null,
   "id": "76997398-992f-4a76-8ff5-47f3a2174ca7",
   "metadata": {},
   "outputs": [],
   "source": [
    "f, ax = plt.subplots(1,1)\n",
    "ax.plot(*bboxras.exterior.xy)\n",
    "ax.plot(*bbox10.exterior.xy)\n",
    "ax.plot(*bbox.exterior.xy)"
   ]
  },
  {
   "cell_type": "code",
   "execution_count": null,
   "id": "708cc993-7782-4d3a-85b1-2e55a8fff91b",
   "metadata": {},
   "outputs": [],
   "source": [
    "def coord2pixels(bounds,transform,shape):\n",
    "    xstep, _, xstart, _, ystep, ystart, _, _, _ = [int(x) for x in transform]\n",
    "    minx, miny, maxx, maxy = [int(x) for x in bounds]\n",
    "    \n",
    "    x0 = int((minx - xstart) / xstep)\n",
    "    x1 = int((maxx - xstart) / xstep)\n",
    "    \n",
    "    y0 = int((maxy - ystart) / ystep)\n",
    "    y1 = int((miny - ystart) / ystep)\n",
    "    \n",
    "    y0, x0 = [max(a,0) for a in (y0, x0)]\n",
    "    y1, x1 = [min(a,b) for a,b in zip((y1, x1),shape)]\n",
    "    \n",
    "    ratio = int(((y1-y0) * (x1-x0)) / (shape[0]*shape[1]) * 100)\n",
    "    print(f'Window is {ratio}% the size of the origional image')\n",
    "\n",
    "    return [[y0,y1],[x0,x1]]"
   ]
  },
  {
   "cell_type": "code",
   "execution_count": null,
   "id": "34c7283b-fb2e-4f17-ad33-1003f6fc5635",
   "metadata": {},
   "outputs": [],
   "source": [
    "window = coord2pixels(bbox10.bounds,transform,dem.shape)\n",
    "print(f'{window[0][0]}:{window[0][1]},{window[1][0]}:{window[1][1]}')"
   ]
  },
  {
   "cell_type": "code",
   "execution_count": null,
   "id": "bc6f2730-92cf-4ae3-af17-e872c4ad8145",
   "metadata": {},
   "outputs": [],
   "source": [
    "plt.imshow(dem,cmap='gray')"
   ]
  },
  {
   "cell_type": "code",
   "execution_count": null,
   "id": "765dc827-9af3-4bd4-bba6-8224f12fa716",
   "metadata": {},
   "outputs": [],
   "source": [
    "slice_obj = slice(window[0][0],window[0][1]),slice(window[1][0],window[1][1])\n",
    "plt.imshow(dem[slice_obj],cmap='gray')"
   ]
  },
  {
   "cell_type": "code",
   "execution_count": null,
   "id": "23d31c6e-a1ba-4e7f-87ae-21a1de79ebeb",
   "metadata": {},
   "outputs": [],
   "source": [
    "boxes = {'asc_upper':'4006:6555,658:5440',\n",
    "        'asc_lower':'0:2394,0:4120',\n",
    "        'desc_upper':'4988:6401,1584:6366',\n",
    "        'desc_lower':'744:3316,2742:7481'}"
   ]
  },
  {
   "cell_type": "code",
   "execution_count": null,
   "id": "b66cc635-6960-4cd5-91be-c58ed5d7296c",
   "metadata": {},
   "outputs": [],
   "source": []
  }
 ],
 "metadata": {
  "kernelspec": {
   "display_name": "Python 3",
   "language": "python",
   "name": "python3"
  },
  "language_info": {
   "codemirror_mode": {
    "name": "ipython",
    "version": 3
   },
   "file_extension": ".py",
   "mimetype": "text/x-python",
   "name": "python",
   "nbconvert_exporter": "python",
   "pygments_lexer": "ipython3",
   "version": "3.6.13"
  }
 },
 "nbformat": 4,
 "nbformat_minor": 5
}
