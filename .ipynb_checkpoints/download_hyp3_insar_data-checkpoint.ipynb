{
 "cells": [
  {
   "cell_type": "markdown",
   "metadata": {},
   "source": [
    "Import libraries"
   ]
  },
  {
   "cell_type": "code",
   "execution_count": 37,
   "metadata": {},
   "outputs": [],
   "source": [
    "%matplotlib inline\n",
    "import matplotlib.pyplot as plt\n",
    "import os\n",
    "import sys\n",
    "import glob\n",
    "import zipfile\n",
    "from zipfile import BadZipFile\n",
    "import datetime\n",
    "import pandas as pd\n",
    "import hyp3_sdk as sdk\n",
    "from hyp3_sdk import asf_search\n",
    "from tqdm.notebook import trange, tqdm\n",
    "from hyp3lib import cutGeotiffs\n",
    "import geopandas as gpd\n",
    "# from tqdm.auto import tqdm"
   ]
  },
  {
   "cell_type": "code",
   "execution_count": 49,
   "metadata": {},
   "outputs": [],
   "source": [
    "# gdf = gpd.read_file('desc-lower-2021-10-21.geojson')\n",
    "gdf = gpd.read_file('desc-lower-2021-10-21.geojson')\n",
    "min_date = pd.to_datetime('20140201T000000')\n",
    "max_date = pd.to_datetime('20210630T000000')"
   ]
  },
  {
   "cell_type": "code",
   "execution_count": 50,
   "metadata": {},
   "outputs": [],
   "source": [
    "gdf = gdf.loc[:,['fileName','startTime','geometry']]\n",
    "gdf = gdf.to_crs(epsg=32760)\n",
    "gdf['startTime'] = pd.to_datetime(gdf.startTime)\n",
    "gdf = gdf.sort_values('startTime').reset_index(drop=True)\n",
    "# gdf = gdf.loc[gdf.startTime <= max_date]"
   ]
  },
  {
   "cell_type": "code",
   "execution_count": 51,
   "metadata": {},
   "outputs": [],
   "source": [
    "template = gdf.loc[gdf.startTime==gdf.startTime.max()]\n",
    "union = gpd.overlay(gdf, template, how='intersection')\n",
    "gdf['intersect'] = union.area / template.area.item()"
   ]
  },
  {
   "cell_type": "code",
   "execution_count": 48,
   "metadata": {},
   "outputs": [
    {
     "name": "stdout",
     "output_type": "stream",
     "text": [
      "108\n"
     ]
    },
    {
     "data": {
      "image/png": "[encoded data removed]",
      "text/plain": [
       "<Figure size 432x288 with 1 Axes>"
      ]
     },
     "metadata": {
      "needs_background": "light"
     },
     "output_type": "display_data"
    }
   ],
   "source": [
    "%matplotlib inline\n",
    "import matplotlib.pyplot as plt\n",
    "plt.scatter(gdf.startTime,gdf.intersect)\n",
    "print(len(gdf))\n",
    "# plt.ylim(0.5,1.01)\n",
    "# plt.xlim(0.5,1.01)"
   ]
  },
  {
   "cell_type": "code",
   "execution_count": 52,
   "metadata": {},
   "outputs": [
    {
     "name": "stdout",
     "output_type": "stream",
     "text": [
      "133\n"
     ]
    },
    {
     "data": {
      "image/png": "[encoded data removed]",
      "text/plain": [
       "<Figure size 432x288 with 1 Axes>"
      ]
     },
     "metadata": {
      "needs_background": "light"
     },
     "output_type": "display_data"
    }
   ],
   "source": [
    "%matplotlib inline\n",
    "import matplotlib.pyplot as plt\n",
    "plt.scatter(gdf.startTime,gdf.intersect)\n",
    "print(len(gdf))\n",
    "# plt.ylim(0.5,1.01)\n",
    "# plt.xlim(0.5,1.01)"
   ]
  },
  {
   "cell_type": "code",
   "execution_count": 12,
   "metadata": {},
   "outputs": [
    {
     "data": {
      "text/html": [
       "<div>\n",
       "<style scoped>\n",
       "    .dataframe tbody tr th:only-of-type {\n",
       "        vertical-align: middle;\n",
       "    }\n",
       "\n",
       "    .dataframe tbody tr th {\n",
       "        vertical-align: top;\n",
       "    }\n",
       "\n",
       "    .dataframe thead th {\n",
       "        text-align: right;\n",
       "    }\n",
       "</style>\n",
       "<table border=\"1\" class=\"dataframe\">\n",
       "  <thead>\n",
       "    <tr style=\"text-align: right;\">\n",
       "      <th></th>\n",
       "      <th>fileName</th>\n",
       "      <th>startTime</th>\n",
       "      <th>geometry</th>\n",
       "    </tr>\n",
       "  </thead>\n",
       "  <tbody>\n",
       "    <tr>\n",
       "      <th>6</th>\n",
       "      <td>S1A_IW_SLC__1SDV_20210530T173035_20210530T1731...</td>\n",
       "      <td>2021-05-30 17:30:35</td>\n",
       "      <td>POLYGON ((164969.953 5503636.218, 215201.485 5...</td>\n",
       "    </tr>\n",
       "  </tbody>\n",
       "</table>\n",
       "</div>"
      ],
      "text/plain": [
       "                                            fileName           startTime  \\\n",
       "6  S1A_IW_SLC__1SDV_20210530T173035_20210530T1731... 2021-05-30 17:30:35   \n",
       "\n",
       "                                            geometry  \n",
       "6  POLYGON ((164969.953 5503636.218, 215201.485 5...  "
      ]
     },
     "execution_count": 12,
     "metadata": {},
     "output_type": "execute_result"
    }
   ],
   "source": [
    "template"
   ]
  },
  {
   "cell_type": "code",
   "execution_count": 30,
   "metadata": {},
   "outputs": [
    {
     "data": {
      "text/html": [
       "<div>\n",
       "<style scoped>\n",
       "    .dataframe tbody tr th:only-of-type {\n",
       "        vertical-align: middle;\n",
       "    }\n",
       "\n",
       "    .dataframe tbody tr th {\n",
       "        vertical-align: top;\n",
       "    }\n",
       "\n",
       "    .dataframe thead th {\n",
       "        text-align: right;\n",
       "    }\n",
       "</style>\n",
       "<table border=\"1\" class=\"dataframe\">\n",
       "  <thead>\n",
       "    <tr style=\"text-align: right;\">\n",
       "      <th></th>\n",
       "      <th>fileName</th>\n",
       "      <th>startTime</th>\n",
       "      <th>geometry</th>\n",
       "      <th>intersect</th>\n",
       "    </tr>\n",
       "  </thead>\n",
       "  <tbody>\n",
       "    <tr>\n",
       "      <th>0</th>\n",
       "      <td>S1A_IW_SLC__1SSV_20141104T070652_20141104T0707...</td>\n",
       "      <td>2014-11-04 07:06:52</td>\n",
       "      <td>POLYGON ((482388.578 5829873.835, 540302.223 5...</td>\n",
       "      <td>0.898747</td>\n",
       "    </tr>\n",
       "    <tr>\n",
       "      <th>1</th>\n",
       "      <td>S1A_IW_SLC__1SSV_20141128T070651_20141128T0707...</td>\n",
       "      <td>2014-11-28 07:06:51</td>\n",
       "      <td>POLYGON ((482493.436 5829909.671, 540410.251 5...</td>\n",
       "      <td>0.899153</td>\n",
       "    </tr>\n",
       "    <tr>\n",
       "      <th>2</th>\n",
       "      <td>S1A_IW_SLC__1SSV_20141222T070650_20141222T0707...</td>\n",
       "      <td>2014-12-22 07:06:50</td>\n",
       "      <td>POLYGON ((482388.456 5829930.639, 540310.294 5...</td>\n",
       "      <td>0.898680</td>\n",
       "    </tr>\n",
       "    <tr>\n",
       "      <th>3</th>\n",
       "      <td>S1A_IW_SLC__1SSV_20150115T070649_20150115T0707...</td>\n",
       "      <td>2015-01-15 07:06:49</td>\n",
       "      <td>POLYGON ((482565.915 5829995.697, 540484.329 5...</td>\n",
       "      <td>0.899242</td>\n",
       "    </tr>\n",
       "    <tr>\n",
       "      <th>4</th>\n",
       "      <td>S1A_IW_SLC__1SSV_20150208T070649_20150208T0707...</td>\n",
       "      <td>2015-02-08 07:06:49</td>\n",
       "      <td>POLYGON ((482477.243 5829936.264, 540404.920 5...</td>\n",
       "      <td>0.899177</td>\n",
       "    </tr>\n",
       "  </tbody>\n",
       "</table>\n",
       "</div>"
      ],
      "text/plain": [
       "                                            fileName           startTime  \\\n",
       "0  S1A_IW_SLC__1SSV_20141104T070652_20141104T0707... 2014-11-04 07:06:52   \n",
       "1  S1A_IW_SLC__1SSV_20141128T070651_20141128T0707... 2014-11-28 07:06:51   \n",
       "2  S1A_IW_SLC__1SSV_20141222T070650_20141222T0707... 2014-12-22 07:06:50   \n",
       "3  S1A_IW_SLC__1SSV_20150115T070649_20150115T0707... 2015-01-15 07:06:49   \n",
       "4  S1A_IW_SLC__1SSV_20150208T070649_20150208T0707... 2015-02-08 07:06:49   \n",
       "\n",
       "                                            geometry  intersect  \n",
       "0  POLYGON ((482388.578 5829873.835, 540302.223 5...   0.898747  \n",
       "1  POLYGON ((482493.436 5829909.671, 540410.251 5...   0.899153  \n",
       "2  POLYGON ((482388.456 5829930.639, 540310.294 5...   0.898680  \n",
       "3  POLYGON ((482565.915 5829995.697, 540484.329 5...   0.899242  \n",
       "4  POLYGON ((482477.243 5829936.264, 540404.920 5...   0.899177  "
      ]
     },
     "execution_count": 30,
     "metadata": {},
     "output_type": "execute_result"
    }
   ],
   "source": [
    "# f, ax1 = plt.subplots(1,1)\n",
    "gdf.head()"
   ]
  },
  {
   "cell_type": "code",
   "execution_count": 16,
   "metadata": {},
   "outputs": [
    {
     "name": "stdout",
     "output_type": "stream",
     "text": [
      "Removed 42 of 170 SLCs\n"
     ]
    }
   ],
   "source": [
    "slcs = gdf[(gdf.intersect>0.99) & (gdf.startTime>=min_date)].copy().reset_index()\n",
    "print(f'Removed {gdf.shape[0] - slcs.shape[0]} of {gdf.shape[0]} SLCs')"
   ]
  },
  {
   "cell_type": "code",
   "execution_count": 17,
   "metadata": {},
   "outputs": [
    {
     "data": {
      "text/plain": [
       "<matplotlib.collections.PathCollection at 0x195149768e0>"
      ]
     },
     "execution_count": 17,
     "metadata": {},
     "output_type": "execute_result"
    },
    {
     "data": {
      "image/png": "[encoded data removed]",
      "text/plain": [
       "<Figure size 432x288 with 1 Axes>"
      ]
     },
     "metadata": {
      "needs_background": "light"
     },
     "output_type": "display_data"
    }
   ],
   "source": [
    "plt.scatter(slcs.startTime,slcs.intersect)"
   ]
  },
  {
   "cell_type": "code",
   "execution_count": 28,
   "metadata": {},
   "outputs": [
    {
     "name": "stdout",
     "output_type": "stream",
     "text": [
      "This includes 378 interferograms\n"
     ]
    }
   ],
   "source": [
    "reference = slcs.fileName[0][:-4]\n",
    "pairs = {}\n",
    "names = slcs.fileName.str[:-4]\n",
    "length = names.shape[0]\n",
    "\n",
    "for i,reference in enumerate(names):\n",
    "    secondary = []\n",
    "    for j in [1,2,3]:\n",
    "        index = i+j\n",
    "        if index < length:\n",
    "            secondary.append(names[index])\n",
    "    if secondary != []:\n",
    "        pairs[reference] = secondary\n",
    "\n",
    "print(f'This includes {(len(pairs)-1)*3} interferograms')"
   ]
  },
  {
   "cell_type": "markdown",
   "metadata": {},
   "source": [
    "Enter Hyp3 credentials"
   ]
  },
  {
   "cell_type": "code",
   "execution_count": 19,
   "metadata": {},
   "outputs": [
    {
     "name": "stdin",
     "output_type": "stream",
     "text": [
      "NASA Earthdata Login username:  forrestfwilliams\n",
      "NASA Earthdata Login password:  ····················\n"
     ]
    },
    {
     "name": "stdout",
     "output_type": "stream",
     "text": [
      "Remaining Quota: 2241\n"
     ]
    }
   ],
   "source": [
    "hyp3 = sdk.HyP3(prompt=True)\n",
    "my_info = hyp3.my_info()\n",
    "print(f\"Remaining Quota: {my_info['quota']['remaining']}\")"
   ]
  },
  {
   "cell_type": "markdown",
   "metadata": {},
   "source": [
    "Create download list"
   ]
  },
  {
   "cell_type": "code",
   "execution_count": null,
   "metadata": {},
   "outputs": [],
   "source": [
    "# # Project name\n",
    "# # project_name = 'ifg_a_p81_f1048_20x4'\n",
    "# project_name = 'p81f1048_10x2_2'\n",
    "\n",
    "# # Set date bounds\n",
    "# start_date = datetime.datetime(2017, 12, 31)\n",
    "# end_date = datetime.datetime(2021, 12, 31)\n",
    "\n",
    "# # Read in \n",
    "# df = pd.read_csv('slcs_asc_path81_frame1048.csv',usecols=['Granule Name', 'Acquisition Date'])\n",
    "\n",
    "# # Convert and limit by date\n",
    "# df['Acquisition Date'] = pd.to_datetime(df['Acquisition Date'], format='%Y-%m-%dT%H:%M:%S')\n",
    "# df = df.loc[(df['Acquisition Date']>=start_date) & (df['Acquisition Date']<=end_date)]\n",
    "# df = df.sort_values('Acquisition Date')\n",
    "\n",
    "# granules = list(df['Granule Name'])\n",
    "# print(f'Will create interferograms for {len(granules)} SLCs')"
   ]
  },
  {
   "cell_type": "markdown",
   "metadata": {},
   "source": [
    "Request Ifg generation"
   ]
  },
  {
   "cell_type": "code",
   "execution_count": 20,
   "metadata": {},
   "outputs": [],
   "source": [
    "project_name = 'asc_lower'\n",
    "\n",
    "insar_jobs = sdk.Batch()\n",
    "first = True\n",
    "\n",
    "options = {'name':project_name,'looks':'10x2', 'include_wrapped_phase':False, 'apply_water_mask':True}\n",
    "initial_options = dict(options)\n",
    "initial_options.update({'include_inc_map':True,'include_dem':True,'include_look_vectors':True})"
   ]
  },
  {
   "cell_type": "code",
   "execution_count": 197,
   "metadata": {},
   "outputs": [
    {
     "data": {
      "application/vnd.jupyter.widget-view+json": {
       "model_id": "ded905af5a344ee592707e453d30c2f0",
       "version_major": 2,
       "version_minor": 0
      },
      "text/plain": [
       "  0%|          | 0/127 [00:00<?, ?it/s]"
      ]
     },
     "metadata": {},
     "output_type": "display_data"
    }
   ],
   "source": [
    "for reference in tqdm(pairs):\n",
    "    for secondary in pairs[reference]:\n",
    "        if first:\n",
    "            insar_jobs += hyp3.submit_insar_job(reference, secondary, **initial_options)\n",
    "            first = False\n",
    "        else:\n",
    "            insar_jobs += hyp3.submit_insar_job(reference, secondary, **options)"
   ]
  },
  {
   "cell_type": "markdown",
   "metadata": {},
   "source": [
    "Check progress and download"
   ]
  },
  {
   "cell_type": "code",
   "execution_count": 22,
   "metadata": {
    "tags": []
   },
   "outputs": [
    {
     "name": "stdout",
     "output_type": "stream",
     "text": [
      "378 files already downloaded!\n"
     ]
    }
   ],
   "source": [
    "batch = hyp3.find_jobs(name=project_name)\n",
    "\n",
    "if batch.complete():\n",
    "    #filter to only succeeded jobs\n",
    "    succeeded_jobs = batch.filter_jobs(succeeded=True, running=False, failed=False)\n",
    "    \n",
    "    complete = 0\n",
    "    #download files if not downloaded already\n",
    "    for job in succeeded_jobs.jobs:\n",
    "        filename = job.to_dict()['files'][0]['filename']\n",
    "        location = os.path.join(project_name,filename)\n",
    "        if not os.path.exists(location):\n",
    "            job.download_files(location=project_name,create=True)\n",
    "        else:\n",
    "            complete += 1\n",
    "\n",
    "    print(f'{complete} files already downloaded!')\n",
    "\n",
    "else:\n",
    "    #to get updated information\n",
    "    batch = hyp3.refresh(batch)\n",
    "    #or to wait until completion and get updated information (which will take a fair bit)\n",
    "    batch = hyp3.watch(batch)"
   ]
  },
  {
   "cell_type": "markdown",
   "metadata": {},
   "source": [
    "Unzip files and clip to same extent"
   ]
  },
  {
   "cell_type": "code",
   "execution_count": 2,
   "metadata": {},
   "outputs": [
    {
     "name": "stdout",
     "output_type": "stream",
     "text": [
      "I:\\hyp3_downloads\n"
     ]
    }
   ],
   "source": [
    "cd I:\\hyp3_downloads"
   ]
  },
  {
   "cell_type": "code",
   "execution_count": 3,
   "metadata": {},
   "outputs": [],
   "source": [
    "project_name = 'asc_upper'"
   ]
  },
  {
   "cell_type": "code",
   "execution_count": null,
   "metadata": {},
   "outputs": [],
   "source": [
    "#filter to only succeeded jobs\n",
    "succeeded_jobs = batch.filter_jobs(succeeded=True, running=False, failed=False)"
   ]
  },
  {
   "cell_type": "code",
   "execution_count": 36,
   "metadata": {},
   "outputs": [
    {
     "data": {
      "application/vnd.jupyter.widget-view+json": {
       "model_id": "ae670f6f2d9a495993aef2c81c8d6527",
       "version_major": 2,
       "version_minor": 0
      },
      "text/plain": [
       "  0%|          | 0/381 [00:00<?, ?it/s]"
      ]
     },
     "metadata": {},
     "output_type": "display_data"
    }
   ],
   "source": [
    "project_name = 'asc_upper'\n",
    "\n",
    "zips = glob.glob(os.path.join(project_name,'*.zip'))\n",
    "unws = [[x,f'{os.path.join(x.split(\".\")[0],os.path.basename(x).split(\".\")[0])}_unw_phase.tif'] for x in zips]\n",
    "\n",
    "zips = [x[0] for x in unws if not os.path.exists(x[1])]\n",
    "folders = [x.split('.')[0] for x in zips]\n",
    "\n",
    "bad_files=[]\n",
    "\n",
    "for zip_file, folder in tqdm(zip(zips, folders), total=len(zips)):\n",
    "    try:\n",
    "        with zipfile.ZipFile(zip_file, 'r') as zip_ref:\n",
    "            zip_ref.extractall(project_name)\n",
    "    except BadZipFile:\n",
    "        bad_files.append(os.path.basename(zip_file))\n",
    "\n",
    "if len(bad_files) > 0:\n",
    "    print(f'These files were invalid zips:\\n{bad_files}')"
   ]
  },
  {
   "cell_type": "code",
   "execution_count": null,
   "metadata": {},
   "outputs": [],
   "source": [
    "cd I:/hyp3_downloads"
   ]
  },
  {
   "cell_type": "code",
   "execution_count": 6,
   "metadata": {},
   "outputs": [
    {
     "data": {
      "text/plain": [
       "379"
      ]
     },
     "execution_count": 6,
     "metadata": {},
     "output_type": "execute_result"
    }
   ],
   "source": [
    "folders = glob.glob(os.path.join(project_name,'S1*'))\n",
    "all_images = []\n",
    "for suffix in ['dem','lv_theta','water_mask','unw_phase','corr']:\n",
    "    all_images += [os.path.join(x,f'{os.path.basename(x)}_{suffix}.tif') for x in folders]\n",
    "\n",
    "exists = [x for x in all_images if os.path.exists(x)]\n",
    "to_clip = [x for x in exists if not os.path.exists(f'{x[:-4]}_clip.tif')]\n",
    "len(to_clip)"
   ]
  },
  {
   "cell_type": "code",
   "execution_count": 9,
   "metadata": {},
   "outputs": [
    {
     "name": "stdout",
     "output_type": "stream",
     "text": [
      "Clipping coordinates: (266020.0, 5753820.0, 548860.0, 5551620.0)\n",
      "Found overlap size of 7071x5055\n",
      "Pixsize : x = 40.0 y = -40.0\n",
      "    clipping file asc_upper\\S1AB_20170209T070658_20170215T070616_VVP006_INT40_G_weF_01BF\\S1AB_20170209T070658_20170215T070616_VVP006_INT40_G_weF_01BF_lv_theta.tif to create file asc_upper\\S1AB_20170209T070658_20170215T070616_VVP006_INT40_G_weF_01BF\\S1AB_20170209T070658_20170215T070616_VVP006_INT40_G_weF_01BF_lv_theta_clip.tif\n",
      "    clipping file asc_upper\\S1BB_20210525T070644_20210618T070646_VVP024_INT40_G_weF_58E5\\S1BB_20210525T070644_20210618T070646_VVP024_INT40_G_weF_58E5_water_mask.tif to create file asc_upper\\S1BB_20210525T070644_20210618T070646_VVP024_INT40_G_weF_58E5\\S1BB_20210525T070644_20210618T070646_VVP024_INT40_G_weF_58E5_water_mask_clip.tif\n",
      "    clipping file asc_upper\\S1BB_20210606T070645_20210618T070646_VVP012_INT40_G_weF_579F\\S1BB_20210606T070645_20210618T070646_VVP012_INT40_G_weF_579F_water_mask.tif to create file asc_upper\\S1BB_20210606T070645_20210618T070646_VVP012_INT40_G_weF_579F\\S1BB_20210606T070645_20210618T070646_VVP012_INT40_G_weF_579F_water_mask_clip.tif\n",
      "    clipping file asc_upper\\S1BB_20210513T070644_20210618T070646_VVP036_INT40_G_weF_08B6\\S1BB_20210513T070644_20210618T070646_VVP036_INT40_G_weF_08B6_water_mask.tif to create file asc_upper\\S1BB_20210513T070644_20210618T070646_VVP036_INT40_G_weF_08B6\\S1BB_20210513T070644_20210618T070646_VVP036_INT40_G_weF_08B6_water_mask_clip.tif\n",
      "    clipping file asc_upper\\S1BB_20210513T070644_20210606T070645_VVP024_INT40_G_weF_00F5\\S1BB_20210513T070644_20210606T070645_VVP024_INT40_G_weF_00F5_water_mask.tif to create file asc_upper\\S1BB_20210513T070644_20210606T070645_VVP024_INT40_G_weF_00F5\\S1BB_20210513T070644_20210606T070645_VVP024_INT40_G_weF_00F5_water_mask_clip.tif\n",
      "    clipping file asc_upper\\S1BB_20210525T070644_20210606T070645_VVP012_INT40_G_weF_DCEC\\S1BB_20210525T070644_20210606T070645_VVP012_INT40_G_weF_DCEC_water_mask.tif to create file asc_upper\\S1BB_20210525T070644_20210606T070645_VVP012_INT40_G_weF_DCEC\\S1BB_20210525T070644_20210606T070645_VVP012_INT40_G_weF_DCEC_water_mask_clip.tif\n",
      "    clipping file asc_upper\\S1BB_20210501T070643_20210525T070644_VVP024_INT40_G_weF_CCB4\\S1BB_20210501T070643_20210525T070644_VVP024_INT40_G_weF_CCB4_water_mask.tif to create file asc_upper\\S1BB_20210501T070643_20210525T070644_VVP024_INT40_G_weF_CCB4\\S1BB_20210501T070643_20210525T070644_VVP024_INT40_G_weF_CCB4_water_mask_clip.tif\n",
      "    clipping file asc_upper\\S1BB_20210501T070643_20210606T070645_VVP036_INT40_G_weF_FE77\\S1BB_20210501T070643_20210606T070645_VVP036_INT40_G_weF_FE77_water_mask.tif to create file asc_upper\\S1BB_20210501T070643_20210606T070645_VVP036_INT40_G_weF_FE77\\S1BB_20210501T070643_20210606T070645_VVP036_INT40_G_weF_FE77_water_mask_clip.tif\n",
      "    clipping file asc_upper\\S1BB_20210513T070644_20210525T070644_VVP012_INT40_G_weF_3482\\S1BB_20210513T070644_20210525T070644_VVP012_INT40_G_weF_3482_water_mask.tif to create file asc_upper\\S1BB_20210513T070644_20210525T070644_VVP012_INT40_G_weF_3482\\S1BB_20210513T070644_20210525T070644_VVP012_INT40_G_weF_3482_water_mask_clip.tif\n",
      "    clipping file asc_upper\\S1BB_20210419T070642_20210525T070644_VVP036_INT40_G_weF_9EFB\\S1BB_20210419T070642_20210525T070644_VVP036_INT40_G_weF_9EFB_water_mask.tif to create file asc_upper\\S1BB_20210419T070642_20210525T070644_VVP036_INT40_G_weF_9EFB\\S1BB_20210419T070642_20210525T070644_VVP036_INT40_G_weF_9EFB_water_mask_clip.tif\n",
      "    clipping file asc_upper\\S1BB_20210501T070643_20210513T070644_VVP012_INT40_G_weF_C624\\S1BB_20210501T070643_20210513T070644_VVP012_INT40_G_weF_C624_water_mask.tif to create file asc_upper\\S1BB_20210501T070643_20210513T070644_VVP012_INT40_G_weF_C624\\S1BB_20210501T070643_20210513T070644_VVP012_INT40_G_weF_C624_water_mask_clip.tif\n",
      "    clipping file asc_upper\\S1BB_20210407T070642_20210513T070644_VVP036_INT40_G_weF_CF4D\\S1BB_20210407T070642_20210513T070644_VVP036_INT40_G_weF_CF4D_water_mask.tif to create file asc_upper\\S1BB_20210407T070642_20210513T070644_VVP036_INT40_G_weF_CF4D\\S1BB_20210407T070642_20210513T070644_VVP036_INT40_G_weF_CF4D_water_mask_clip.tif\n",
      "    clipping file asc_upper\\S1BB_20210419T070642_20210501T070643_VVP012_INT40_G_weF_97E1\\S1BB_20210419T070642_20210501T070643_VVP012_INT40_G_weF_97E1_water_mask.tif to create file asc_upper\\S1BB_20210419T070642_20210501T070643_VVP012_INT40_G_weF_97E1\\S1BB_20210419T070642_20210501T070643_VVP012_INT40_G_weF_97E1_water_mask_clip.tif\n",
      "    clipping file asc_upper\\S1BB_20210419T070642_20210513T070644_VVP024_INT40_G_weF_187B\\S1BB_20210419T070642_20210513T070644_VVP024_INT40_G_weF_187B_water_mask.tif to create file asc_upper\\S1BB_20210419T070642_20210513T070644_VVP024_INT40_G_weF_187B\\S1BB_20210419T070642_20210513T070644_VVP024_INT40_G_weF_187B_water_mask_clip.tif\n",
      "    clipping file asc_upper\\S1BB_20210407T070642_20210419T070642_VVP012_INT40_G_weF_3A5C\\S1BB_20210407T070642_20210419T070642_VVP012_INT40_G_weF_3A5C_water_mask.tif to create file asc_upper\\S1BB_20210407T070642_20210419T070642_VVP012_INT40_G_weF_3A5C\\S1BB_20210407T070642_20210419T070642_VVP012_INT40_G_weF_3A5C_water_mask_clip.tif\n",
      "    clipping file asc_upper\\S1BB_20210407T070642_20210501T070643_VVP024_INT40_G_weF_0FE0\\S1BB_20210407T070642_20210501T070643_VVP024_INT40_G_weF_0FE0_water_mask.tif to create file asc_upper\\S1BB_20210407T070642_20210501T070643_VVP024_INT40_G_weF_0FE0\\S1BB_20210407T070642_20210501T070643_VVP024_INT40_G_weF_0FE0_water_mask_clip.tif\n",
      "    clipping file asc_upper\\S1BB_20210326T070641_20210419T070642_VVP024_INT40_G_weF_5D1A\\S1BB_20210326T070641_20210419T070642_VVP024_INT40_G_weF_5D1A_water_mask.tif to create file asc_upper\\S1BB_20210326T070641_20210419T070642_VVP024_INT40_G_weF_5D1A\\S1BB_20210326T070641_20210419T070642_VVP024_INT40_G_weF_5D1A_water_mask_clip.tif\n",
      "    clipping file asc_upper\\S1BB_20210326T070641_20210407T070642_VVP012_INT40_G_weF_CCE0\\S1BB_20210326T070641_20210407T070642_VVP012_INT40_G_weF_CCE0_water_mask.tif to create file asc_upper\\S1BB_20210326T070641_20210407T070642_VVP012_INT40_G_weF_CCE0\\S1BB_20210326T070641_20210407T070642_VVP012_INT40_G_weF_CCE0_water_mask_clip.tif\n",
      "    clipping file asc_upper\\S1BB_20210326T070641_20210501T070643_VVP036_INT40_G_weF_7E1D\\S1BB_20210326T070641_20210501T070643_VVP036_INT40_G_weF_7E1D_water_mask.tif to create file asc_upper\\S1BB_20210326T070641_20210501T070643_VVP036_INT40_G_weF_7E1D\\S1BB_20210326T070641_20210501T070643_VVP036_INT40_G_weF_7E1D_water_mask_clip.tif\n",
      "    clipping file asc_upper\\S1BB_20210314T070641_20210407T070642_VVP024_INT40_G_weF_9655\\S1BB_20210314T070641_20210407T070642_VVP024_INT40_G_weF_9655_water_mask.tif to create file asc_upper\\S1BB_20210314T070641_20210407T070642_VVP024_INT40_G_weF_9655\\S1BB_20210314T070641_20210407T070642_VVP024_INT40_G_weF_9655_water_mask_clip.tif\n",
      "    clipping file asc_upper\\S1BB_20210314T070641_20210419T070642_VVP036_INT40_G_weF_B7EF\\S1BB_20210314T070641_20210419T070642_VVP036_INT40_G_weF_B7EF_water_mask.tif to create file asc_upper\\S1BB_20210314T070641_20210419T070642_VVP036_INT40_G_weF_B7EF\\S1BB_20210314T070641_20210419T070642_VVP036_INT40_G_weF_B7EF_water_mask_clip.tif\n",
      "    clipping file asc_upper\\S1BB_20210314T070641_20210326T070641_VVP012_INT40_G_weF_85AD\\S1BB_20210314T070641_20210326T070641_VVP012_INT40_G_weF_85AD_water_mask.tif to create file asc_upper\\S1BB_20210314T070641_20210326T070641_VVP012_INT40_G_weF_85AD\\S1BB_20210314T070641_20210326T070641_VVP012_INT40_G_weF_85AD_water_mask_clip.tif\n",
      "    clipping file asc_upper\\S1BB_20210302T070641_20210407T070642_VVP036_INT40_G_weF_E01F\\S1BB_20210302T070641_20210407T070642_VVP036_INT40_G_weF_E01F_water_mask.tif to create file asc_upper\\S1BB_20210302T070641_20210407T070642_VVP036_INT40_G_weF_E01F\\S1BB_20210302T070641_20210407T070642_VVP036_INT40_G_weF_E01F_water_mask_clip.tif\n",
      "    clipping file asc_upper\\S1BB_20210218T070641_20210326T070641_VVP036_INT40_G_weF_FE24\\S1BB_20210218T070641_20210326T070641_VVP036_INT40_G_weF_FE24_water_mask.tif to create file asc_upper\\S1BB_20210218T070641_20210326T070641_VVP036_INT40_G_weF_FE24\\S1BB_20210218T070641_20210326T070641_VVP036_INT40_G_weF_FE24_water_mask_clip.tif\n",
      "    clipping file asc_upper\\S1BB_20210302T070641_20210314T070641_VVP012_INT40_G_weF_B82F\\S1BB_20210302T070641_20210314T070641_VVP012_INT40_G_weF_B82F_water_mask.tif to create file asc_upper\\S1BB_20210302T070641_20210314T070641_VVP012_INT40_G_weF_B82F\\S1BB_20210302T070641_20210314T070641_VVP012_INT40_G_weF_B82F_water_mask_clip.tif\n",
      "    clipping file asc_upper\\S1BB_20210302T070641_20210326T070641_VVP024_INT40_G_weF_5EAE\\S1BB_20210302T070641_20210326T070641_VVP024_INT40_G_weF_5EAE_water_mask.tif to create file asc_upper\\S1BB_20210302T070641_20210326T070641_VVP024_INT40_G_weF_5EAE\\S1BB_20210302T070641_20210326T070641_VVP024_INT40_G_weF_5EAE_water_mask_clip.tif\n",
      "    clipping file asc_upper\\S1BB_20210218T070641_20210314T070641_VVP024_INT40_G_weF_12FC\\S1BB_20210218T070641_20210314T070641_VVP024_INT40_G_weF_12FC_water_mask.tif to create file asc_upper\\S1BB_20210218T070641_20210314T070641_VVP024_INT40_G_weF_12FC\\S1BB_20210218T070641_20210314T070641_VVP024_INT40_G_weF_12FC_water_mask_clip.tif\n",
      "    clipping file asc_upper\\S1BB_20210218T070641_20210302T070641_VVP012_INT40_G_weF_D0D7\\S1BB_20210218T070641_20210302T070641_VVP012_INT40_G_weF_D0D7_water_mask.tif to create file asc_upper\\S1BB_20210218T070641_20210302T070641_VVP012_INT40_G_weF_D0D7\\S1BB_20210218T070641_20210302T070641_VVP012_INT40_G_weF_D0D7_water_mask_clip.tif\n",
      "    clipping file asc_upper\\S1BB_20210206T070642_20210218T070641_VVP012_INT40_G_weF_D984\\S1BB_20210206T070642_20210218T070641_VVP012_INT40_G_weF_D984_water_mask.tif to create file asc_upper\\S1BB_20210206T070642_20210218T070641_VVP012_INT40_G_weF_D984\\S1BB_20210206T070642_20210218T070641_VVP012_INT40_G_weF_D984_water_mask_clip.tif\n",
      "    clipping file asc_upper\\S1BB_20210206T070642_20210302T070641_VVP024_INT40_G_weF_401B\\S1BB_20210206T070642_20210302T070641_VVP024_INT40_G_weF_401B_water_mask.tif to create file asc_upper\\S1BB_20210206T070642_20210302T070641_VVP024_INT40_G_weF_401B\\S1BB_20210206T070642_20210302T070641_VVP024_INT40_G_weF_401B_water_mask_clip.tif\n",
      "    clipping file asc_upper\\S1BB_20210206T070642_20210314T070641_VVP036_INT40_G_weF_5FE4\\S1BB_20210206T070642_20210314T070641_VVP036_INT40_G_weF_5FE4_water_mask.tif to create file asc_upper\\S1BB_20210206T070642_20210314T070641_VVP036_INT40_G_weF_5FE4\\S1BB_20210206T070642_20210314T070641_VVP036_INT40_G_weF_5FE4_water_mask_clip.tif\n",
      "    clipping file asc_upper\\S1BB_20210125T070642_20210302T070641_VVP036_INT40_G_weF_EF57\\S1BB_20210125T070642_20210302T070641_VVP036_INT40_G_weF_EF57_water_mask.tif to create file asc_upper\\S1BB_20210125T070642_20210302T070641_VVP036_INT40_G_weF_EF57\\S1BB_20210125T070642_20210302T070641_VVP036_INT40_G_weF_EF57_water_mask_clip.tif\n",
      "    clipping file asc_upper\\S1BB_20210125T070642_20210218T070641_VVP024_INT40_G_weF_A7EB\\S1BB_20210125T070642_20210218T070641_VVP024_INT40_G_weF_A7EB_water_mask.tif to create file asc_upper\\S1BB_20210125T070642_20210218T070641_VVP024_INT40_G_weF_A7EB\\S1BB_20210125T070642_20210218T070641_VVP024_INT40_G_weF_A7EB_water_mask_clip.tif\n",
      "    clipping file asc_upper\\S1BB_20210125T070642_20210206T070642_VVP012_INT40_G_weF_FA05\\S1BB_20210125T070642_20210206T070642_VVP012_INT40_G_weF_FA05_water_mask.tif to create file asc_upper\\S1BB_20210125T070642_20210206T070642_VVP012_INT40_G_weF_FA05\\S1BB_20210125T070642_20210206T070642_VVP012_INT40_G_weF_FA05_water_mask_clip.tif\n",
      "    clipping file asc_upper\\S1BB_20210113T070643_20210218T070641_VVP036_INT40_G_weF_FC6F\\S1BB_20210113T070643_20210218T070641_VVP036_INT40_G_weF_FC6F_water_mask.tif to create file asc_upper\\S1BB_20210113T070643_20210218T070641_VVP036_INT40_G_weF_FC6F\\S1BB_20210113T070643_20210218T070641_VVP036_INT40_G_weF_FC6F_water_mask_clip.tif\n",
      "    clipping file asc_upper\\S1BB_20210113T070643_20210206T070642_VVP024_INT40_G_weF_B14B\\S1BB_20210113T070643_20210206T070642_VVP024_INT40_G_weF_B14B_water_mask.tif to create file asc_upper\\S1BB_20210113T070643_20210206T070642_VVP024_INT40_G_weF_B14B\\S1BB_20210113T070643_20210206T070642_VVP024_INT40_G_weF_B14B_water_mask_clip.tif\n",
      "    clipping file asc_upper\\S1BB_20210101T070643_20210206T070642_VVP036_INT40_G_weF_4182\\S1BB_20210101T070643_20210206T070642_VVP036_INT40_G_weF_4182_water_mask.tif to create file asc_upper\\S1BB_20210101T070643_20210206T070642_VVP036_INT40_G_weF_4182\\S1BB_20210101T070643_20210206T070642_VVP036_INT40_G_weF_4182_water_mask_clip.tif\n",
      "    clipping file asc_upper\\S1BB_20210113T070643_20210125T070642_VVP012_INT40_G_weF_85D8\\S1BB_20210113T070643_20210125T070642_VVP012_INT40_G_weF_85D8_water_mask.tif to create file asc_upper\\S1BB_20210113T070643_20210125T070642_VVP012_INT40_G_weF_85D8\\S1BB_20210113T070643_20210125T070642_VVP012_INT40_G_weF_85D8_water_mask_clip.tif\n",
      "    clipping file asc_upper\\S1BB_20201220T070644_20210125T070642_VVP036_INT40_G_weF_EF8B\\S1BB_20201220T070644_20210125T070642_VVP036_INT40_G_weF_EF8B_water_mask.tif to create file asc_upper\\S1BB_20201220T070644_20210125T070642_VVP036_INT40_G_weF_EF8B\\S1BB_20201220T070644_20210125T070642_VVP036_INT40_G_weF_EF8B_water_mask_clip.tif\n",
      "    clipping file asc_upper\\S1BB_20210101T070643_20210125T070642_VVP024_INT40_G_weF_00F2\\S1BB_20210101T070643_20210125T070642_VVP024_INT40_G_weF_00F2_water_mask.tif to create file asc_upper\\S1BB_20210101T070643_20210125T070642_VVP024_INT40_G_weF_00F2\\S1BB_20210101T070643_20210125T070642_VVP024_INT40_G_weF_00F2_water_mask_clip.tif\n",
      "    clipping file asc_upper\\S1BB_20210101T070643_20210113T070643_VVP012_INT40_G_weF_90C0\\S1BB_20210101T070643_20210113T070643_VVP012_INT40_G_weF_90C0_water_mask.tif to create file asc_upper\\S1BB_20210101T070643_20210113T070643_VVP012_INT40_G_weF_90C0\\S1BB_20210101T070643_20210113T070643_VVP012_INT40_G_weF_90C0_water_mask_clip.tif\n",
      "    clipping file asc_upper\\S1BB_20201220T070644_20210113T070643_VVP024_INT40_G_weF_20C0\\S1BB_20201220T070644_20210113T070643_VVP024_INT40_G_weF_20C0_water_mask.tif to create file asc_upper\\S1BB_20201220T070644_20210113T070643_VVP024_INT40_G_weF_20C0\\S1BB_20201220T070644_20210113T070643_VVP024_INT40_G_weF_20C0_water_mask_clip.tif\n",
      "    clipping file asc_upper\\S1BB_20201220T070644_20210101T070643_VVP012_INT40_G_weF_8EAA\\S1BB_20201220T070644_20210101T070643_VVP012_INT40_G_weF_8EAA_water_mask.tif to create file asc_upper\\S1BB_20201220T070644_20210101T070643_VVP012_INT40_G_weF_8EAA\\S1BB_20201220T070644_20210101T070643_VVP012_INT40_G_weF_8EAA_water_mask_clip.tif\n",
      "    clipping file asc_upper\\S1BB_20201126T070645_20201220T070644_VVP024_INT40_G_weF_9705\\S1BB_20201126T070645_20201220T070644_VVP024_INT40_G_weF_9705_water_mask.tif to create file asc_upper\\S1BB_20201126T070645_20201220T070644_VVP024_INT40_G_weF_9705\\S1BB_20201126T070645_20201220T070644_VVP024_INT40_G_weF_9705_water_mask_clip.tif\n",
      "    clipping file asc_upper\\S1BB_20201126T070645_20210113T070643_VVP048_INT40_G_weF_DA78\\S1BB_20201126T070645_20210113T070643_VVP048_INT40_G_weF_DA78_water_mask.tif to create file asc_upper\\S1BB_20201126T070645_20210113T070643_VVP048_INT40_G_weF_DA78\\S1BB_20201126T070645_20210113T070643_VVP048_INT40_G_weF_DA78_water_mask_clip.tif\n",
      "    clipping file asc_upper\\S1BB_20201126T070645_20210101T070643_VVP036_INT40_G_weF_D665\\S1BB_20201126T070645_20210101T070643_VVP036_INT40_G_weF_D665_water_mask.tif to create file asc_upper\\S1BB_20201126T070645_20210101T070643_VVP036_INT40_G_weF_D665\\S1BB_20201126T070645_20210101T070643_VVP036_INT40_G_weF_D665_water_mask_clip.tif\n",
      "    clipping file asc_upper\\S1BB_20201114T070645_20201220T070644_VVP036_INT40_G_weF_C5EE\\S1BB_20201114T070645_20201220T070644_VVP036_INT40_G_weF_C5EE_water_mask.tif to create file asc_upper\\S1BB_20201114T070645_20201220T070644_VVP036_INT40_G_weF_C5EE\\S1BB_20201114T070645_20201220T070644_VVP036_INT40_G_weF_C5EE_water_mask_clip.tif\n",
      "    clipping file asc_upper\\S1BB_20201114T070645_20210101T070643_VVP048_INT40_G_weF_C6B7\\S1BB_20201114T070645_20210101T070643_VVP048_INT40_G_weF_C6B7_water_mask.tif to create file asc_upper\\S1BB_20201114T070645_20210101T070643_VVP048_INT40_G_weF_C6B7\\S1BB_20201114T070645_20210101T070643_VVP048_INT40_G_weF_C6B7_water_mask_clip.tif\n",
      "    clipping file asc_upper\\S1BB_20201102T070645_20201220T070644_VVP048_INT40_G_weF_3ED6\\S1BB_20201102T070645_20201220T070644_VVP048_INT40_G_weF_3ED6_water_mask.tif to create file asc_upper\\S1BB_20201102T070645_20201220T070644_VVP048_INT40_G_weF_3ED6\\S1BB_20201102T070645_20201220T070644_VVP048_INT40_G_weF_3ED6_water_mask_clip.tif\n",
      "    clipping file asc_upper\\S1BB_20201114T070645_20201126T070645_VVP012_INT40_G_weF_9FF4\\S1BB_20201114T070645_20201126T070645_VVP012_INT40_G_weF_9FF4_water_mask.tif to create file asc_upper\\S1BB_20201114T070645_20201126T070645_VVP012_INT40_G_weF_9FF4\\S1BB_20201114T070645_20201126T070645_VVP012_INT40_G_weF_9FF4_water_mask_clip.tif\n",
      "    clipping file asc_upper\\S1BB_20201102T070645_20201126T070645_VVP024_INT40_G_weF_E8E2\\S1BB_20201102T070645_20201126T070645_VVP024_INT40_G_weF_E8E2_water_mask.tif to create file asc_upper\\S1BB_20201102T070645_20201126T070645_VVP024_INT40_G_weF_E8E2\\S1BB_20201102T070645_20201126T070645_VVP024_INT40_G_weF_E8E2_water_mask_clip.tif\n",
      "    clipping file asc_upper\\S1BB_20201102T070645_20201114T070645_VVP012_INT40_G_weF_BC4A\\S1BB_20201102T070645_20201114T070645_VVP012_INT40_G_weF_BC4A_water_mask.tif to create file asc_upper\\S1BB_20201102T070645_20201114T070645_VVP012_INT40_G_weF_BC4A\\S1BB_20201102T070645_20201114T070645_VVP012_INT40_G_weF_BC4A_water_mask_clip.tif\n",
      "    clipping file asc_upper\\S1BB_20201021T070645_20201126T070645_VVP036_INT40_G_weF_9EF3\\S1BB_20201021T070645_20201126T070645_VVP036_INT40_G_weF_9EF3_water_mask.tif to create file asc_upper\\S1BB_20201021T070645_20201126T070645_VVP036_INT40_G_weF_9EF3\\S1BB_20201021T070645_20201126T070645_VVP036_INT40_G_weF_9EF3_water_mask_clip.tif\n",
      "    clipping file asc_upper\\S1BB_20201021T070645_20201102T070645_VVP012_INT40_G_weF_4BEA\\S1BB_20201021T070645_20201102T070645_VVP012_INT40_G_weF_4BEA_water_mask.tif to create file asc_upper\\S1BB_20201021T070645_20201102T070645_VVP012_INT40_G_weF_4BEA\\S1BB_20201021T070645_20201102T070645_VVP012_INT40_G_weF_4BEA_water_mask_clip.tif\n",
      "    clipping file asc_upper\\S1BB_20201009T070645_20201114T070645_VVP036_INT40_G_weF_E5E9\\S1BB_20201009T070645_20201114T070645_VVP036_INT40_G_weF_E5E9_water_mask.tif to create file asc_upper\\S1BB_20201009T070645_20201114T070645_VVP036_INT40_G_weF_E5E9\\S1BB_20201009T070645_20201114T070645_VVP036_INT40_G_weF_E5E9_water_mask_clip.tif\n",
      "    clipping file asc_upper\\S1BB_20201021T070645_20201114T070645_VVP024_INT40_G_weF_73F9\\S1BB_20201021T070645_20201114T070645_VVP024_INT40_G_weF_73F9_water_mask.tif to create file asc_upper\\S1BB_20201021T070645_20201114T070645_VVP024_INT40_G_weF_73F9\\S1BB_20201021T070645_20201114T070645_VVP024_INT40_G_weF_73F9_water_mask_clip.tif\n",
      "    clipping file asc_upper\\S1BB_20201009T070645_20201102T070645_VVP024_INT40_G_weF_045C\\S1BB_20201009T070645_20201102T070645_VVP024_INT40_G_weF_045C_water_mask.tif to create file asc_upper\\S1BB_20201009T070645_20201102T070645_VVP024_INT40_G_weF_045C\\S1BB_20201009T070645_20201102T070645_VVP024_INT40_G_weF_045C_water_mask_clip.tif\n",
      "    clipping file asc_upper\\S1BB_20201009T070645_20201021T070645_VVP012_INT40_G_weF_6889\\S1BB_20201009T070645_20201021T070645_VVP012_INT40_G_weF_6889_water_mask.tif to create file asc_upper\\S1BB_20201009T070645_20201021T070645_VVP012_INT40_G_weF_6889\\S1BB_20201009T070645_20201021T070645_VVP012_INT40_G_weF_6889_water_mask_clip.tif\n",
      "    clipping file asc_upper\\S1BB_20200927T070645_20201102T070645_VVP036_INT40_G_weF_7DA0\\S1BB_20200927T070645_20201102T070645_VVP036_INT40_G_weF_7DA0_water_mask.tif to create file asc_upper\\S1BB_20200927T070645_20201102T070645_VVP036_INT40_G_weF_7DA0\\S1BB_20200927T070645_20201102T070645_VVP036_INT40_G_weF_7DA0_water_mask_clip.tif\n",
      "    clipping file asc_upper\\S1BB_20200927T070645_20201009T070645_VVP012_INT40_G_weF_CBE7\\S1BB_20200927T070645_20201009T070645_VVP012_INT40_G_weF_CBE7_water_mask.tif to create file asc_upper\\S1BB_20200927T070645_20201009T070645_VVP012_INT40_G_weF_CBE7\\S1BB_20200927T070645_20201009T070645_VVP012_INT40_G_weF_CBE7_water_mask_clip.tif\n",
      "    clipping file asc_upper\\S1BB_20200927T070645_20201021T070645_VVP024_INT40_G_weF_EFE7\\S1BB_20200927T070645_20201021T070645_VVP024_INT40_G_weF_EFE7_water_mask.tif to create file asc_upper\\S1BB_20200927T070645_20201021T070645_VVP024_INT40_G_weF_EFE7\\S1BB_20200927T070645_20201021T070645_VVP024_INT40_G_weF_EFE7_water_mask_clip.tif\n",
      "    clipping file asc_upper\\S1BB_20200915T070645_20201021T070645_VVP036_INT40_G_weF_2E4B\\S1BB_20200915T070645_20201021T070645_VVP036_INT40_G_weF_2E4B_water_mask.tif to create file asc_upper\\S1BB_20200915T070645_20201021T070645_VVP036_INT40_G_weF_2E4B\\S1BB_20200915T070645_20201021T070645_VVP036_INT40_G_weF_2E4B_water_mask_clip.tif\n",
      "    clipping file asc_upper\\S1BB_20200915T070645_20201009T070645_VVP024_INT40_G_weF_1760\\S1BB_20200915T070645_20201009T070645_VVP024_INT40_G_weF_1760_water_mask.tif to create file asc_upper\\S1BB_20200915T070645_20201009T070645_VVP024_INT40_G_weF_1760\\S1BB_20200915T070645_20201009T070645_VVP024_INT40_G_weF_1760_water_mask_clip.tif\n",
      "    clipping file asc_upper\\S1BB_20200903T070644_20201009T070645_VVP036_INT40_G_weF_8507\\S1BB_20200903T070644_20201009T070645_VVP036_INT40_G_weF_8507_water_mask.tif to create file asc_upper\\S1BB_20200903T070644_20201009T070645_VVP036_INT40_G_weF_8507\\S1BB_20200903T070644_20201009T070645_VVP036_INT40_G_weF_8507_water_mask_clip.tif\n",
      "    clipping file asc_upper\\S1BB_20200915T070645_20200927T070645_VVP012_INT40_G_weF_F23A\\S1BB_20200915T070645_20200927T070645_VVP012_INT40_G_weF_F23A_water_mask.tif to create file asc_upper\\S1BB_20200915T070645_20200927T070645_VVP012_INT40_G_weF_F23A\\S1BB_20200915T070645_20200927T070645_VVP012_INT40_G_weF_F23A_water_mask_clip.tif\n",
      "    clipping file asc_upper\\S1BB_20200903T070644_20200927T070645_VVP024_INT40_G_weF_43C3\\S1BB_20200903T070644_20200927T070645_VVP024_INT40_G_weF_43C3_water_mask.tif to create file asc_upper\\S1BB_20200903T070644_20200927T070645_VVP024_INT40_G_weF_43C3\\S1BB_20200903T070644_20200927T070645_VVP024_INT40_G_weF_43C3_water_mask_clip.tif\n",
      "    clipping file asc_upper\\S1BB_20200822T070643_20200915T070645_VVP024_INT40_G_weF_18CB\\S1BB_20200822T070643_20200915T070645_VVP024_INT40_G_weF_18CB_water_mask.tif to create file asc_upper\\S1BB_20200822T070643_20200915T070645_VVP024_INT40_G_weF_18CB\\S1BB_20200822T070643_20200915T070645_VVP024_INT40_G_weF_18CB_water_mask_clip.tif\n",
      "    clipping file asc_upper\\S1BB_20200903T070644_20200915T070645_VVP012_INT40_G_weF_CF46\\S1BB_20200903T070644_20200915T070645_VVP012_INT40_G_weF_CF46_water_mask.tif to create file asc_upper\\S1BB_20200903T070644_20200915T070645_VVP012_INT40_G_weF_CF46\\S1BB_20200903T070644_20200915T070645_VVP012_INT40_G_weF_CF46_water_mask_clip.tif\n",
      "    clipping file asc_upper\\S1BB_20200822T070643_20200927T070645_VVP036_INT40_G_weF_718B\\S1BB_20200822T070643_20200927T070645_VVP036_INT40_G_weF_718B_water_mask.tif to create file asc_upper\\S1BB_20200822T070643_20200927T070645_VVP036_INT40_G_weF_718B\\S1BB_20200822T070643_20200927T070645_VVP036_INT40_G_weF_718B_water_mask_clip.tif\n",
      "    clipping file asc_upper\\S1BB_20200810T070643_20200915T070645_VVP036_INT40_G_weF_93EF\\S1BB_20200810T070643_20200915T070645_VVP036_INT40_G_weF_93EF_water_mask.tif to create file asc_upper\\S1BB_20200810T070643_20200915T070645_VVP036_INT40_G_weF_93EF\\S1BB_20200810T070643_20200915T070645_VVP036_INT40_G_weF_93EF_water_mask_clip.tif\n",
      "    clipping file asc_upper\\S1BB_20200822T070643_20200903T070644_VVP012_INT40_G_weF_F6D7\\S1BB_20200822T070643_20200903T070644_VVP012_INT40_G_weF_F6D7_water_mask.tif to create file asc_upper\\S1BB_20200822T070643_20200903T070644_VVP012_INT40_G_weF_F6D7\\S1BB_20200822T070643_20200903T070644_VVP012_INT40_G_weF_F6D7_water_mask_clip.tif\n",
      "    clipping file asc_upper\\S1BB_20200810T070643_20200822T070643_VVP012_INT40_G_weF_1BCF\\S1BB_20200810T070643_20200822T070643_VVP012_INT40_G_weF_1BCF_water_mask.tif to create file asc_upper\\S1BB_20200810T070643_20200822T070643_VVP012_INT40_G_weF_1BCF\\S1BB_20200810T070643_20200822T070643_VVP012_INT40_G_weF_1BCF_water_mask_clip.tif\n",
      "    clipping file asc_upper\\S1BB_20200810T070643_20200903T070644_VVP024_INT40_G_weF_C4F0\\S1BB_20200810T070643_20200903T070644_VVP024_INT40_G_weF_C4F0_water_mask.tif to create file asc_upper\\S1BB_20200810T070643_20200903T070644_VVP024_INT40_G_weF_C4F0\\S1BB_20200810T070643_20200903T070644_VVP024_INT40_G_weF_C4F0_water_mask_clip.tif\n",
      "    clipping file asc_upper\\S1BB_20200729T070642_20200822T070643_VVP024_INT40_G_weF_D5D4\\S1BB_20200729T070642_20200822T070643_VVP024_INT40_G_weF_D5D4_water_mask.tif to create file asc_upper\\S1BB_20200729T070642_20200822T070643_VVP024_INT40_G_weF_D5D4\\S1BB_20200729T070642_20200822T070643_VVP024_INT40_G_weF_D5D4_water_mask_clip.tif\n",
      "    clipping file asc_upper\\S1BB_20200729T070642_20200903T070644_VVP036_INT40_G_weF_8820\\S1BB_20200729T070642_20200903T070644_VVP036_INT40_G_weF_8820_water_mask.tif to create file asc_upper\\S1BB_20200729T070642_20200903T070644_VVP036_INT40_G_weF_8820\\S1BB_20200729T070642_20200903T070644_VVP036_INT40_G_weF_8820_water_mask_clip.tif\n",
      "    clipping file asc_upper\\S1BB_20200717T070641_20200822T070643_VVP036_INT40_G_weF_978A\\S1BB_20200717T070641_20200822T070643_VVP036_INT40_G_weF_978A_water_mask.tif to create file asc_upper\\S1BB_20200717T070641_20200822T070643_VVP036_INT40_G_weF_978A\\S1BB_20200717T070641_20200822T070643_VVP036_INT40_G_weF_978A_water_mask_clip.tif\n",
      "    clipping file asc_upper\\S1BB_20200729T070642_20200810T070643_VVP012_INT40_G_weF_1A9E\\S1BB_20200729T070642_20200810T070643_VVP012_INT40_G_weF_1A9E_water_mask.tif to create file asc_upper\\S1BB_20200729T070642_20200810T070643_VVP012_INT40_G_weF_1A9E\\S1BB_20200729T070642_20200810T070643_VVP012_INT40_G_weF_1A9E_water_mask_clip.tif\n",
      "    clipping file asc_upper\\S1BB_20200717T070641_20200810T070643_VVP024_INT40_G_weF_B0B0\\S1BB_20200717T070641_20200810T070643_VVP024_INT40_G_weF_B0B0_water_mask.tif to create file asc_upper\\S1BB_20200717T070641_20200810T070643_VVP024_INT40_G_weF_B0B0\\S1BB_20200717T070641_20200810T070643_VVP024_INT40_G_weF_B0B0_water_mask_clip.tif\n",
      "    clipping file asc_upper\\S1BB_20200717T070641_20200729T070642_VVP012_INT40_G_weF_2DE8\\S1BB_20200717T070641_20200729T070642_VVP012_INT40_G_weF_2DE8_water_mask.tif to create file asc_upper\\S1BB_20200717T070641_20200729T070642_VVP012_INT40_G_weF_2DE8\\S1BB_20200717T070641_20200729T070642_VVP012_INT40_G_weF_2DE8_water_mask_clip.tif\n",
      "    clipping file asc_upper\\S1BB_20200705T070641_20200810T070643_VVP036_INT40_G_weF_6E81\\S1BB_20200705T070641_20200810T070643_VVP036_INT40_G_weF_6E81_water_mask.tif to create file asc_upper\\S1BB_20200705T070641_20200810T070643_VVP036_INT40_G_weF_6E81\\S1BB_20200705T070641_20200810T070643_VVP036_INT40_G_weF_6E81_water_mask_clip.tif\n",
      "    clipping file asc_upper\\S1BB_20200705T070641_20200729T070642_VVP024_INT40_G_weF_88DE\\S1BB_20200705T070641_20200729T070642_VVP024_INT40_G_weF_88DE_water_mask.tif to create file asc_upper\\S1BB_20200705T070641_20200729T070642_VVP024_INT40_G_weF_88DE\\S1BB_20200705T070641_20200729T070642_VVP024_INT40_G_weF_88DE_water_mask_clip.tif\n",
      "    clipping file asc_upper\\S1BB_20200623T070640_20200729T070642_VVP036_INT40_G_weF_E971\\S1BB_20200623T070640_20200729T070642_VVP036_INT40_G_weF_E971_water_mask.tif to create file asc_upper\\S1BB_20200623T070640_20200729T070642_VVP036_INT40_G_weF_E971\\S1BB_20200623T070640_20200729T070642_VVP036_INT40_G_weF_E971_water_mask_clip.tif\n",
      "    clipping file asc_upper\\S1BB_20200705T070641_20200717T070641_VVP012_INT40_G_weF_6ADE\\S1BB_20200705T070641_20200717T070641_VVP012_INT40_G_weF_6ADE_water_mask.tif to create file asc_upper\\S1BB_20200705T070641_20200717T070641_VVP012_INT40_G_weF_6ADE\\S1BB_20200705T070641_20200717T070641_VVP012_INT40_G_weF_6ADE_water_mask_clip.tif\n",
      "    clipping file asc_upper\\S1BB_20200623T070640_20200717T070641_VVP024_INT40_G_weF_0233\\S1BB_20200623T070640_20200717T070641_VVP024_INT40_G_weF_0233_water_mask.tif to create file asc_upper\\S1BB_20200623T070640_20200717T070641_VVP024_INT40_G_weF_0233\\S1BB_20200623T070640_20200717T070641_VVP024_INT40_G_weF_0233_water_mask_clip.tif\n",
      "    clipping file asc_upper\\S1BB_20200623T070640_20200705T070641_VVP012_INT40_G_weF_A85D\\S1BB_20200623T070640_20200705T070641_VVP012_INT40_G_weF_A85D_water_mask.tif to create file asc_upper\\S1BB_20200623T070640_20200705T070641_VVP012_INT40_G_weF_A85D\\S1BB_20200623T070640_20200705T070641_VVP012_INT40_G_weF_A85D_water_mask_clip.tif\n",
      "    clipping file asc_upper\\S1BB_20200611T070639_20200705T070641_VVP024_INT40_G_weF_F00C\\S1BB_20200611T070639_20200705T070641_VVP024_INT40_G_weF_F00C_water_mask.tif to create file asc_upper\\S1BB_20200611T070639_20200705T070641_VVP024_INT40_G_weF_F00C\\S1BB_20200611T070639_20200705T070641_VVP024_INT40_G_weF_F00C_water_mask_clip.tif\n",
      "    clipping file asc_upper\\S1BB_20200611T070639_20200717T070641_VVP036_INT40_G_weF_5C13\\S1BB_20200611T070639_20200717T070641_VVP036_INT40_G_weF_5C13_water_mask.tif to create file asc_upper\\S1BB_20200611T070639_20200717T070641_VVP036_INT40_G_weF_5C13\\S1BB_20200611T070639_20200717T070641_VVP036_INT40_G_weF_5C13_water_mask_clip.tif\n",
      "    clipping file asc_upper\\S1BB_20200611T070639_20200623T070640_VVP012_INT40_G_weF_2AB1\\S1BB_20200611T070639_20200623T070640_VVP012_INT40_G_weF_2AB1_water_mask.tif to create file asc_upper\\S1BB_20200611T070639_20200623T070640_VVP012_INT40_G_weF_2AB1\\S1BB_20200611T070639_20200623T070640_VVP012_INT40_G_weF_2AB1_water_mask_clip.tif\n",
      "    clipping file asc_upper\\S1BB_20200530T070639_20200623T070640_VVP024_INT40_G_weF_44DF\\S1BB_20200530T070639_20200623T070640_VVP024_INT40_G_weF_44DF_water_mask.tif to create file asc_upper\\S1BB_20200530T070639_20200623T070640_VVP024_INT40_G_weF_44DF\\S1BB_20200530T070639_20200623T070640_VVP024_INT40_G_weF_44DF_water_mask_clip.tif\n",
      "    clipping file asc_upper\\S1BB_20200530T070639_20200705T070641_VVP036_INT40_G_weF_2547\\S1BB_20200530T070639_20200705T070641_VVP036_INT40_G_weF_2547_water_mask.tif to create file asc_upper\\S1BB_20200530T070639_20200705T070641_VVP036_INT40_G_weF_2547\\S1BB_20200530T070639_20200705T070641_VVP036_INT40_G_weF_2547_water_mask_clip.tif\n",
      "    clipping file asc_upper\\S1BB_20200518T070638_20200611T070639_VVP024_INT40_G_weF_188D\\S1BB_20200518T070638_20200611T070639_VVP024_INT40_G_weF_188D_water_mask.tif to create file asc_upper\\S1BB_20200518T070638_20200611T070639_VVP024_INT40_G_weF_188D\\S1BB_20200518T070638_20200611T070639_VVP024_INT40_G_weF_188D_water_mask_clip.tif\n",
      "    clipping file asc_upper\\S1BB_20200518T070638_20200623T070640_VVP036_INT40_G_weF_3C6A\\S1BB_20200518T070638_20200623T070640_VVP036_INT40_G_weF_3C6A_water_mask.tif to create file asc_upper\\S1BB_20200518T070638_20200623T070640_VVP036_INT40_G_weF_3C6A\\S1BB_20200518T070638_20200623T070640_VVP036_INT40_G_weF_3C6A_water_mask_clip.tif\n",
      "    clipping file asc_upper\\S1BB_20200530T070639_20200611T070639_VVP012_INT40_G_weF_347E\\S1BB_20200530T070639_20200611T070639_VVP012_INT40_G_weF_347E_water_mask.tif to create file asc_upper\\S1BB_20200530T070639_20200611T070639_VVP012_INT40_G_weF_347E\\S1BB_20200530T070639_20200611T070639_VVP012_INT40_G_weF_347E_water_mask_clip.tif\n",
      "    clipping file asc_upper\\S1BB_20200506T070637_20200611T070639_VVP036_INT40_G_weF_F475\\S1BB_20200506T070637_20200611T070639_VVP036_INT40_G_weF_F475_water_mask.tif to create file asc_upper\\S1BB_20200506T070637_20200611T070639_VVP036_INT40_G_weF_F475\\S1BB_20200506T070637_20200611T070639_VVP036_INT40_G_weF_F475_water_mask_clip.tif\n",
      "    clipping file asc_upper\\S1BB_20200506T070637_20200530T070639_VVP024_INT40_G_weF_6E54\\S1BB_20200506T070637_20200530T070639_VVP024_INT40_G_weF_6E54_water_mask.tif to create file asc_upper\\S1BB_20200506T070637_20200530T070639_VVP024_INT40_G_weF_6E54\\S1BB_20200506T070637_20200530T070639_VVP024_INT40_G_weF_6E54_water_mask_clip.tif\n",
      "    clipping file asc_upper\\S1BB_20200518T070638_20200530T070639_VVP012_INT40_G_weF_0354\\S1BB_20200518T070638_20200530T070639_VVP012_INT40_G_weF_0354_water_mask.tif to create file asc_upper\\S1BB_20200518T070638_20200530T070639_VVP012_INT40_G_weF_0354\\S1BB_20200518T070638_20200530T070639_VVP012_INT40_G_weF_0354_water_mask_clip.tif\n",
      "    clipping file asc_upper\\S1BB_20200424T070637_20200530T070639_VVP036_INT40_G_weF_0939\\S1BB_20200424T070637_20200530T070639_VVP036_INT40_G_weF_0939_water_mask.tif to create file asc_upper\\S1BB_20200424T070637_20200530T070639_VVP036_INT40_G_weF_0939\\S1BB_20200424T070637_20200530T070639_VVP036_INT40_G_weF_0939_water_mask_clip.tif\n",
      "    clipping file asc_upper\\S1BB_20200506T070637_20200518T070638_VVP012_INT40_G_weF_D207\\S1BB_20200506T070637_20200518T070638_VVP012_INT40_G_weF_D207_water_mask.tif to create file asc_upper\\S1BB_20200506T070637_20200518T070638_VVP012_INT40_G_weF_D207\\S1BB_20200506T070637_20200518T070638_VVP012_INT40_G_weF_D207_water_mask_clip.tif\n",
      "    clipping file asc_upper\\S1BB_20200424T070637_20200518T070638_VVP024_INT40_G_weF_8AFB\\S1BB_20200424T070637_20200518T070638_VVP024_INT40_G_weF_8AFB_water_mask.tif to create file asc_upper\\S1BB_20200424T070637_20200518T070638_VVP024_INT40_G_weF_8AFB\\S1BB_20200424T070637_20200518T070638_VVP024_INT40_G_weF_8AFB_water_mask_clip.tif\n",
      "    clipping file asc_upper\\S1BB_20200412T070636_20200518T070638_VVP036_INT40_G_weF_4BD8\\S1BB_20200412T070636_20200518T070638_VVP036_INT40_G_weF_4BD8_water_mask.tif to create file asc_upper\\S1BB_20200412T070636_20200518T070638_VVP036_INT40_G_weF_4BD8\\S1BB_20200412T070636_20200518T070638_VVP036_INT40_G_weF_4BD8_water_mask_clip.tif\n",
      "    clipping file asc_upper\\S1BB_20200424T070637_20200506T070637_VVP012_INT40_G_weF_76F7\\S1BB_20200424T070637_20200506T070637_VVP012_INT40_G_weF_76F7_water_mask.tif to create file asc_upper\\S1BB_20200424T070637_20200506T070637_VVP012_INT40_G_weF_76F7\\S1BB_20200424T070637_20200506T070637_VVP012_INT40_G_weF_76F7_water_mask_clip.tif\n",
      "    clipping file asc_upper\\S1BB_20200412T070636_20200506T070637_VVP024_INT40_G_weF_C8CF\\S1BB_20200412T070636_20200506T070637_VVP024_INT40_G_weF_C8CF_water_mask.tif to create file asc_upper\\S1BB_20200412T070636_20200506T070637_VVP024_INT40_G_weF_C8CF\\S1BB_20200412T070636_20200506T070637_VVP024_INT40_G_weF_C8CF_water_mask_clip.tif\n",
      "    clipping file asc_upper\\S1BB_20200331T070636_20200506T070637_VVP036_INT40_G_weF_AF01\\S1BB_20200331T070636_20200506T070637_VVP036_INT40_G_weF_AF01_water_mask.tif to create file asc_upper\\S1BB_20200331T070636_20200506T070637_VVP036_INT40_G_weF_AF01\\S1BB_20200331T070636_20200506T070637_VVP036_INT40_G_weF_AF01_water_mask_clip.tif\n",
      "    clipping file asc_upper\\S1BB_20200412T070636_20200424T070637_VVP012_INT40_G_weF_8EA1\\S1BB_20200412T070636_20200424T070637_VVP012_INT40_G_weF_8EA1_water_mask.tif to create file asc_upper\\S1BB_20200412T070636_20200424T070637_VVP012_INT40_G_weF_8EA1\\S1BB_20200412T070636_20200424T070637_VVP012_INT40_G_weF_8EA1_water_mask_clip.tif\n",
      "    clipping file asc_upper\\S1BB_20200331T070636_20200424T070637_VVP024_INT40_G_weF_DD93\\S1BB_20200331T070636_20200424T070637_VVP024_INT40_G_weF_DD93_water_mask.tif to create file asc_upper\\S1BB_20200331T070636_20200424T070637_VVP024_INT40_G_weF_DD93\\S1BB_20200331T070636_20200424T070637_VVP024_INT40_G_weF_DD93_water_mask_clip.tif\n",
      "    clipping file asc_upper\\S1BB_20200319T070636_20200412T070636_VVP024_INT40_G_weF_BE27\\S1BB_20200319T070636_20200412T070636_VVP024_INT40_G_weF_BE27_water_mask.tif to create file asc_upper\\S1BB_20200319T070636_20200412T070636_VVP024_INT40_G_weF_BE27\\S1BB_20200319T070636_20200412T070636_VVP024_INT40_G_weF_BE27_water_mask_clip.tif\n",
      "    clipping file asc_upper\\S1BB_20200331T070636_20200412T070636_VVP012_INT40_G_weF_5120\\S1BB_20200331T070636_20200412T070636_VVP012_INT40_G_weF_5120_water_mask.tif to create file asc_upper\\S1BB_20200331T070636_20200412T070636_VVP012_INT40_G_weF_5120\\S1BB_20200331T070636_20200412T070636_VVP012_INT40_G_weF_5120_water_mask_clip.tif\n",
      "    clipping file asc_upper\\S1BB_20200319T070636_20200424T070637_VVP036_INT40_G_weF_126F\\S1BB_20200319T070636_20200424T070637_VVP036_INT40_G_weF_126F_water_mask.tif to create file asc_upper\\S1BB_20200319T070636_20200424T070637_VVP036_INT40_G_weF_126F\\S1BB_20200319T070636_20200424T070637_VVP036_INT40_G_weF_126F_water_mask_clip.tif\n",
      "    clipping file asc_upper\\S1BB_20200307T070635_20200412T070636_VVP036_INT40_G_weF_D2BC\\S1BB_20200307T070635_20200412T070636_VVP036_INT40_G_weF_D2BC_water_mask.tif to create file asc_upper\\S1BB_20200307T070635_20200412T070636_VVP036_INT40_G_weF_D2BC\\S1BB_20200307T070635_20200412T070636_VVP036_INT40_G_weF_D2BC_water_mask_clip.tif\n",
      "    clipping file asc_upper\\S1BB_20200319T070636_20200331T070636_VVP012_INT40_G_weF_062E\\S1BB_20200319T070636_20200331T070636_VVP012_INT40_G_weF_062E_water_mask.tif to create file asc_upper\\S1BB_20200319T070636_20200331T070636_VVP012_INT40_G_weF_062E\\S1BB_20200319T070636_20200331T070636_VVP012_INT40_G_weF_062E_water_mask_clip.tif\n",
      "    clipping file asc_upper\\S1BB_20200307T070635_20200331T070636_VVP024_INT40_G_weF_CADE\\S1BB_20200307T070635_20200331T070636_VVP024_INT40_G_weF_CADE_water_mask.tif to create file asc_upper\\S1BB_20200307T070635_20200331T070636_VVP024_INT40_G_weF_CADE\\S1BB_20200307T070635_20200331T070636_VVP024_INT40_G_weF_CADE_water_mask_clip.tif\n",
      "    clipping file asc_upper\\S1BB_20200224T070635_20200331T070636_VVP036_INT40_G_weF_B1C2\\S1BB_20200224T070635_20200331T070636_VVP036_INT40_G_weF_B1C2_water_mask.tif to create file asc_upper\\S1BB_20200224T070635_20200331T070636_VVP036_INT40_G_weF_B1C2\\S1BB_20200224T070635_20200331T070636_VVP036_INT40_G_weF_B1C2_water_mask_clip.tif\n",
      "    clipping file asc_upper\\S1BB_20200307T070635_20200319T070636_VVP012_INT40_G_weF_7924\\S1BB_20200307T070635_20200319T070636_VVP012_INT40_G_weF_7924_water_mask.tif to create file asc_upper\\S1BB_20200307T070635_20200319T070636_VVP012_INT40_G_weF_7924\\S1BB_20200307T070635_20200319T070636_VVP012_INT40_G_weF_7924_water_mask_clip.tif\n",
      "    clipping file asc_upper\\S1BB_20200224T070635_20200307T070635_VVP012_INT40_G_weF_3320\\S1BB_20200224T070635_20200307T070635_VVP012_INT40_G_weF_3320_water_mask.tif to create file asc_upper\\S1BB_20200224T070635_20200307T070635_VVP012_INT40_G_weF_3320\\S1BB_20200224T070635_20200307T070635_VVP012_INT40_G_weF_3320_water_mask_clip.tif\n",
      "    clipping file asc_upper\\S1BB_20200224T070635_20200319T070636_VVP024_INT40_G_weF_0993\\S1BB_20200224T070635_20200319T070636_VVP024_INT40_G_weF_0993_water_mask.tif to create file asc_upper\\S1BB_20200224T070635_20200319T070636_VVP024_INT40_G_weF_0993\\S1BB_20200224T070635_20200319T070636_VVP024_INT40_G_weF_0993_water_mask_clip.tif\n",
      "    clipping file asc_upper\\S1BB_20200212T070636_20200224T070635_VVP012_INT40_G_weF_F152\\S1BB_20200212T070636_20200224T070635_VVP012_INT40_G_weF_F152_water_mask.tif to create file asc_upper\\S1BB_20200212T070636_20200224T070635_VVP012_INT40_G_weF_F152\\S1BB_20200212T070636_20200224T070635_VVP012_INT40_G_weF_F152_water_mask_clip.tif\n",
      "    clipping file asc_upper\\S1BB_20200212T070636_20200319T070636_VVP036_INT40_G_weF_7676\\S1BB_20200212T070636_20200319T070636_VVP036_INT40_G_weF_7676_water_mask.tif to create file asc_upper\\S1BB_20200212T070636_20200319T070636_VVP036_INT40_G_weF_7676\\S1BB_20200212T070636_20200319T070636_VVP036_INT40_G_weF_7676_water_mask_clip.tif\n",
      "    clipping file asc_upper\\S1BB_20200212T070636_20200307T070635_VVP024_INT40_G_weF_8C0D\\S1BB_20200212T070636_20200307T070635_VVP024_INT40_G_weF_8C0D_water_mask.tif to create file asc_upper\\S1BB_20200212T070636_20200307T070635_VVP024_INT40_G_weF_8C0D\\S1BB_20200212T070636_20200307T070635_VVP024_INT40_G_weF_8C0D_water_mask_clip.tif\n",
      "    clipping file asc_upper\\S1BB_20200131T070636_20200224T070635_VVP024_INT40_G_weF_A959\\S1BB_20200131T070636_20200224T070635_VVP024_INT40_G_weF_A959_water_mask.tif to create file asc_upper\\S1BB_20200131T070636_20200224T070635_VVP024_INT40_G_weF_A959\\S1BB_20200131T070636_20200224T070635_VVP024_INT40_G_weF_A959_water_mask_clip.tif\n",
      "    clipping file asc_upper\\S1BB_20200131T070636_20200307T070635_VVP036_INT40_G_weF_9EB5\\S1BB_20200131T070636_20200307T070635_VVP036_INT40_G_weF_9EB5_water_mask.tif to create file asc_upper\\S1BB_20200131T070636_20200307T070635_VVP036_INT40_G_weF_9EB5\\S1BB_20200131T070636_20200307T070635_VVP036_INT40_G_weF_9EB5_water_mask_clip.tif\n",
      "    clipping file asc_upper\\S1BB_20200131T070636_20200212T070636_VVP012_INT40_G_weF_D671\\S1BB_20200131T070636_20200212T070636_VVP012_INT40_G_weF_D671_water_mask.tif to create file asc_upper\\S1BB_20200131T070636_20200212T070636_VVP012_INT40_G_weF_D671\\S1BB_20200131T070636_20200212T070636_VVP012_INT40_G_weF_D671_water_mask_clip.tif\n",
      "    clipping file asc_upper\\S1BB_20191226T070637_20200212T070636_VVP048_INT40_G_weF_6C49\\S1BB_20191226T070637_20200212T070636_VVP048_INT40_G_weF_6C49_water_mask.tif to create file asc_upper\\S1BB_20191226T070637_20200212T070636_VVP048_INT40_G_weF_6C49\\S1BB_20191226T070637_20200212T070636_VVP048_INT40_G_weF_6C49_water_mask_clip.tif\n",
      "    clipping file asc_upper\\S1BB_20191226T070637_20200224T070635_VVP060_INT40_G_weF_7CF2\\S1BB_20191226T070637_20200224T070635_VVP060_INT40_G_weF_7CF2_water_mask.tif to create file asc_upper\\S1BB_20191226T070637_20200224T070635_VVP060_INT40_G_weF_7CF2\\S1BB_20191226T070637_20200224T070635_VVP060_INT40_G_weF_7CF2_water_mask_clip.tif\n",
      "    clipping file asc_upper\\S1BB_20191214T070638_20200131T070636_VVP048_INT40_G_weF_EC01\\S1BB_20191214T070638_20200131T070636_VVP048_INT40_G_weF_EC01_water_mask.tif to create file asc_upper\\S1BB_20191214T070638_20200131T070636_VVP048_INT40_G_weF_EC01\\S1BB_20191214T070638_20200131T070636_VVP048_INT40_G_weF_EC01_water_mask_clip.tif\n",
      "    clipping file asc_upper\\S1BB_20191226T070637_20200131T070636_VVP036_INT40_G_weF_E0A5\\S1BB_20191226T070637_20200131T070636_VVP036_INT40_G_weF_E0A5_water_mask.tif to create file asc_upper\\S1BB_20191226T070637_20200131T070636_VVP036_INT40_G_weF_E0A5\\S1BB_20191226T070637_20200131T070636_VVP036_INT40_G_weF_E0A5_water_mask_clip.tif\n",
      "    clipping file asc_upper\\S1BB_20191214T070638_20200212T070636_VVP060_INT40_G_weF_ABF7\\S1BB_20191214T070638_20200212T070636_VVP060_INT40_G_weF_ABF7_water_mask.tif to create file asc_upper\\S1BB_20191214T070638_20200212T070636_VVP060_INT40_G_weF_ABF7\\S1BB_20191214T070638_20200212T070636_VVP060_INT40_G_weF_ABF7_water_mask_clip.tif\n",
      "    clipping file asc_upper\\S1BB_20191202T070638_20200131T070636_VVP060_INT40_G_weF_8554\\S1BB_20191202T070638_20200131T070636_VVP060_INT40_G_weF_8554_water_mask.tif to create file asc_upper\\S1BB_20191202T070638_20200131T070636_VVP060_INT40_G_weF_8554\\S1BB_20191202T070638_20200131T070636_VVP060_INT40_G_weF_8554_water_mask_clip.tif\n",
      "    clipping file asc_upper\\S1BB_20191214T070638_20191226T070637_VVP012_INT40_G_weF_2436\\S1BB_20191214T070638_20191226T070637_VVP012_INT40_G_weF_2436_water_mask.tif to create file asc_upper\\S1BB_20191214T070638_20191226T070637_VVP012_INT40_G_weF_2436\\S1BB_20191214T070638_20191226T070637_VVP012_INT40_G_weF_2436_water_mask_clip.tif\n",
      "    clipping file asc_upper\\S1BB_20191120T070639_20191226T070637_VVP036_INT40_G_weF_87C4\\S1BB_20191120T070639_20191226T070637_VVP036_INT40_G_weF_87C4_water_mask.tif to create file asc_upper\\S1BB_20191120T070639_20191226T070637_VVP036_INT40_G_weF_87C4\\S1BB_20191120T070639_20191226T070637_VVP036_INT40_G_weF_87C4_water_mask_clip.tif\n",
      "    clipping file asc_upper\\S1BB_20191202T070638_20191226T070637_VVP024_INT40_G_weF_5606\\S1BB_20191202T070638_20191226T070637_VVP024_INT40_G_weF_5606_water_mask.tif to create file asc_upper\\S1BB_20191202T070638_20191226T070637_VVP024_INT40_G_weF_5606\\S1BB_20191202T070638_20191226T070637_VVP024_INT40_G_weF_5606_water_mask_clip.tif\n",
      "    clipping file asc_upper\\S1BB_20191202T070638_20191214T070638_VVP012_INT40_G_weF_2FDB\\S1BB_20191202T070638_20191214T070638_VVP012_INT40_G_weF_2FDB_water_mask.tif to create file asc_upper\\S1BB_20191202T070638_20191214T070638_VVP012_INT40_G_weF_2FDB\\S1BB_20191202T070638_20191214T070638_VVP012_INT40_G_weF_2FDB_water_mask_clip.tif\n",
      "    clipping file asc_upper\\S1BB_20191120T070639_20191214T070638_VVP024_INT40_G_weF_C167\\S1BB_20191120T070639_20191214T070638_VVP024_INT40_G_weF_C167_water_mask.tif to create file asc_upper\\S1BB_20191120T070639_20191214T070638_VVP024_INT40_G_weF_C167\\S1BB_20191120T070639_20191214T070638_VVP024_INT40_G_weF_C167_water_mask_clip.tif\n",
      "    clipping file asc_upper\\S1BB_20191120T070639_20191202T070638_VVP012_INT40_G_weF_3449\\S1BB_20191120T070639_20191202T070638_VVP012_INT40_G_weF_3449_water_mask.tif to create file asc_upper\\S1BB_20191120T070639_20191202T070638_VVP012_INT40_G_weF_3449\\S1BB_20191120T070639_20191202T070638_VVP012_INT40_G_weF_3449_water_mask_clip.tif\n",
      "    clipping file asc_upper\\S1BB_20191108T070639_20191120T070639_VVP012_INT40_G_weF_822C\\S1BB_20191108T070639_20191120T070639_VVP012_INT40_G_weF_822C_water_mask.tif to create file asc_upper\\S1BB_20191108T070639_20191120T070639_VVP012_INT40_G_weF_822C\\S1BB_20191108T070639_20191120T070639_VVP012_INT40_G_weF_822C_water_mask_clip.tif\n",
      "    clipping file asc_upper\\S1BB_20191108T070639_20191202T070638_VVP024_INT40_G_weF_41CD\\S1BB_20191108T070639_20191202T070638_VVP024_INT40_G_weF_41CD_water_mask.tif to create file asc_upper\\S1BB_20191108T070639_20191202T070638_VVP024_INT40_G_weF_41CD\\S1BB_20191108T070639_20191202T070638_VVP024_INT40_G_weF_41CD_water_mask_clip.tif\n",
      "    clipping file asc_upper\\S1BB_20191108T070639_20191214T070638_VVP036_INT40_G_weF_7B01\\S1BB_20191108T070639_20191214T070638_VVP036_INT40_G_weF_7B01_water_mask.tif to create file asc_upper\\S1BB_20191108T070639_20191214T070638_VVP036_INT40_G_weF_7B01\\S1BB_20191108T070639_20191214T070638_VVP036_INT40_G_weF_7B01_water_mask_clip.tif\n",
      "    clipping file asc_upper\\S1BB_20191027T070639_20191120T070639_VVP024_INT40_G_weF_A5C2\\S1BB_20191027T070639_20191120T070639_VVP024_INT40_G_weF_A5C2_water_mask.tif to create file asc_upper\\S1BB_20191027T070639_20191120T070639_VVP024_INT40_G_weF_A5C2\\S1BB_20191027T070639_20191120T070639_VVP024_INT40_G_weF_A5C2_water_mask_clip.tif\n",
      "    clipping file asc_upper\\S1BB_20191027T070639_20191202T070638_VVP036_INT40_G_weF_E932\\S1BB_20191027T070639_20191202T070638_VVP036_INT40_G_weF_E932_water_mask.tif to create file asc_upper\\S1BB_20191027T070639_20191202T070638_VVP036_INT40_G_weF_E932\\S1BB_20191027T070639_20191202T070638_VVP036_INT40_G_weF_E932_water_mask_clip.tif\n",
      "    clipping file asc_upper\\S1BB_20191027T070639_20191108T070639_VVP012_INT40_G_weF_19D6\\S1BB_20191027T070639_20191108T070639_VVP012_INT40_G_weF_19D6_water_mask.tif to create file asc_upper\\S1BB_20191027T070639_20191108T070639_VVP012_INT40_G_weF_19D6\\S1BB_20191027T070639_20191108T070639_VVP012_INT40_G_weF_19D6_water_mask_clip.tif\n",
      "    clipping file asc_upper\\S1BB_20191015T070639_20191108T070639_VVP024_INT40_G_weF_10E4\\S1BB_20191015T070639_20191108T070639_VVP024_INT40_G_weF_10E4_water_mask.tif to create file asc_upper\\S1BB_20191015T070639_20191108T070639_VVP024_INT40_G_weF_10E4\\S1BB_20191015T070639_20191108T070639_VVP024_INT40_G_weF_10E4_water_mask_clip.tif\n",
      "    clipping file asc_upper\\S1BB_20191015T070639_20191120T070639_VVP036_INT40_G_weF_03C8\\S1BB_20191015T070639_20191120T070639_VVP036_INT40_G_weF_03C8_water_mask.tif to create file asc_upper\\S1BB_20191015T070639_20191120T070639_VVP036_INT40_G_weF_03C8\\S1BB_20191015T070639_20191120T070639_VVP036_INT40_G_weF_03C8_water_mask_clip.tif\n",
      "    clipping file asc_upper\\S1BB_20191003T070639_20191108T070639_VVP036_INT40_G_weF_B492\\S1BB_20191003T070639_20191108T070639_VVP036_INT40_G_weF_B492_water_mask.tif to create file asc_upper\\S1BB_20191003T070639_20191108T070639_VVP036_INT40_G_weF_B492\\S1BB_20191003T070639_20191108T070639_VVP036_INT40_G_weF_B492_water_mask_clip.tif\n",
      "    clipping file asc_upper\\S1BB_20191015T070639_20191027T070639_VVP012_INT40_G_weF_FBB1\\S1BB_20191015T070639_20191027T070639_VVP012_INT40_G_weF_FBB1_water_mask.tif to create file asc_upper\\S1BB_20191015T070639_20191027T070639_VVP012_INT40_G_weF_FBB1\\S1BB_20191015T070639_20191027T070639_VVP012_INT40_G_weF_FBB1_water_mask_clip.tif\n",
      "    clipping file asc_upper\\S1BB_20191003T070639_20191027T070639_VVP024_INT40_G_weF_282B\\S1BB_20191003T070639_20191027T070639_VVP024_INT40_G_weF_282B_water_mask.tif to create file asc_upper\\S1BB_20191003T070639_20191027T070639_VVP024_INT40_G_weF_282B\\S1BB_20191003T070639_20191027T070639_VVP024_INT40_G_weF_282B_water_mask_clip.tif\n",
      "    clipping file asc_upper\\S1BB_20190921T070638_20191027T070639_VVP036_INT40_G_weF_4111\\S1BB_20190921T070638_20191027T070639_VVP036_INT40_G_weF_4111_water_mask.tif to create file asc_upper\\S1BB_20190921T070638_20191027T070639_VVP036_INT40_G_weF_4111\\S1BB_20190921T070638_20191027T070639_VVP036_INT40_G_weF_4111_water_mask_clip.tif\n",
      "    clipping file asc_upper\\S1BB_20191003T070639_20191015T070639_VVP012_INT40_G_weF_7EC9\\S1BB_20191003T070639_20191015T070639_VVP012_INT40_G_weF_7EC9_water_mask.tif to create file asc_upper\\S1BB_20191003T070639_20191015T070639_VVP012_INT40_G_weF_7EC9\\S1BB_20191003T070639_20191015T070639_VVP012_INT40_G_weF_7EC9_water_mask_clip.tif\n",
      "    clipping file asc_upper\\S1BB_20190921T070638_20191003T070639_VVP012_INT40_G_weF_5EEB\\S1BB_20190921T070638_20191003T070639_VVP012_INT40_G_weF_5EEB_water_mask.tif to create file asc_upper\\S1BB_20190921T070638_20191003T070639_VVP012_INT40_G_weF_5EEB\\S1BB_20190921T070638_20191003T070639_VVP012_INT40_G_weF_5EEB_water_mask_clip.tif\n",
      "    clipping file asc_upper\\S1BB_20190921T070638_20191015T070639_VVP024_INT40_G_weF_E9DB\\S1BB_20190921T070638_20191015T070639_VVP024_INT40_G_weF_E9DB_water_mask.tif to create file asc_upper\\S1BB_20190921T070638_20191015T070639_VVP024_INT40_G_weF_E9DB\\S1BB_20190921T070638_20191015T070639_VVP024_INT40_G_weF_E9DB_water_mask_clip.tif\n",
      "    clipping file asc_upper\\S1BB_20190909T070638_20191015T070639_VVP036_INT40_G_weF_141E\\S1BB_20190909T070638_20191015T070639_VVP036_INT40_G_weF_141E_water_mask.tif to create file asc_upper\\S1BB_20190909T070638_20191015T070639_VVP036_INT40_G_weF_141E\\S1BB_20190909T070638_20191015T070639_VVP036_INT40_G_weF_141E_water_mask_clip.tif\n",
      "    clipping file asc_upper\\S1BB_20190909T070638_20190921T070638_VVP012_INT40_G_weF_DD42\\S1BB_20190909T070638_20190921T070638_VVP012_INT40_G_weF_DD42_water_mask.tif to create file asc_upper\\S1BB_20190909T070638_20190921T070638_VVP012_INT40_G_weF_DD42\\S1BB_20190909T070638_20190921T070638_VVP012_INT40_G_weF_DD42_water_mask_clip.tif\n",
      "    clipping file asc_upper\\S1BB_20190909T070638_20191003T070639_VVP024_INT40_G_weF_B731\\S1BB_20190909T070638_20191003T070639_VVP024_INT40_G_weF_B731_water_mask.tif to create file asc_upper\\S1BB_20190909T070638_20191003T070639_VVP024_INT40_G_weF_B731\\S1BB_20190909T070638_20191003T070639_VVP024_INT40_G_weF_B731_water_mask_clip.tif\n",
      "    clipping file asc_upper\\S1BB_20190828T070637_20190909T070638_VVP012_INT40_G_weF_E01E\\S1BB_20190828T070637_20190909T070638_VVP012_INT40_G_weF_E01E_water_mask.tif to create file asc_upper\\S1BB_20190828T070637_20190909T070638_VVP012_INT40_G_weF_E01E\\S1BB_20190828T070637_20190909T070638_VVP012_INT40_G_weF_E01E_water_mask_clip.tif\n",
      "    clipping file asc_upper\\S1BB_20190828T070637_20191003T070639_VVP036_INT40_G_weF_FB4F\\S1BB_20190828T070637_20191003T070639_VVP036_INT40_G_weF_FB4F_water_mask.tif to create file asc_upper\\S1BB_20190828T070637_20191003T070639_VVP036_INT40_G_weF_FB4F\\S1BB_20190828T070637_20191003T070639_VVP036_INT40_G_weF_FB4F_water_mask_clip.tif\n",
      "    clipping file asc_upper\\S1BB_20190828T070637_20190921T070638_VVP024_INT40_G_weF_E404\\S1BB_20190828T070637_20190921T070638_VVP024_INT40_G_weF_E404_water_mask.tif to create file asc_upper\\S1BB_20190828T070637_20190921T070638_VVP024_INT40_G_weF_E404\\S1BB_20190828T070637_20190921T070638_VVP024_INT40_G_weF_E404_water_mask_clip.tif\n",
      "    clipping file asc_upper\\S1BB_20190816T070637_20190909T070638_VVP024_INT40_G_weF_D25A\\S1BB_20190816T070637_20190909T070638_VVP024_INT40_G_weF_D25A_water_mask.tif to create file asc_upper\\S1BB_20190816T070637_20190909T070638_VVP024_INT40_G_weF_D25A\\S1BB_20190816T070637_20190909T070638_VVP024_INT40_G_weF_D25A_water_mask_clip.tif\n",
      "    clipping file asc_upper\\S1BB_20190816T070637_20190921T070638_VVP036_INT40_G_weF_BFD9\\S1BB_20190816T070637_20190921T070638_VVP036_INT40_G_weF_BFD9_water_mask.tif to create file asc_upper\\S1BB_20190816T070637_20190921T070638_VVP036_INT40_G_weF_BFD9\\S1BB_20190816T070637_20190921T070638_VVP036_INT40_G_weF_BFD9_water_mask_clip.tif\n",
      "    clipping file asc_upper\\S1BB_20190804T070636_20190909T070638_VVP036_INT40_G_weF_6E07\\S1BB_20190804T070636_20190909T070638_VVP036_INT40_G_weF_6E07_water_mask.tif to create file asc_upper\\S1BB_20190804T070636_20190909T070638_VVP036_INT40_G_weF_6E07\\S1BB_20190804T070636_20190909T070638_VVP036_INT40_G_weF_6E07_water_mask_clip.tif\n",
      "    clipping file asc_upper\\S1BB_20190804T070636_20190828T070637_VVP024_INT40_G_weF_FF6E\\S1BB_20190804T070636_20190828T070637_VVP024_INT40_G_weF_FF6E_water_mask.tif to create file asc_upper\\S1BB_20190804T070636_20190828T070637_VVP024_INT40_G_weF_FF6E\\S1BB_20190804T070636_20190828T070637_VVP024_INT40_G_weF_FF6E_water_mask_clip.tif\n",
      "    clipping file asc_upper\\S1BB_20190816T070637_20190828T070637_VVP012_INT40_G_weF_130B\\S1BB_20190816T070637_20190828T070637_VVP012_INT40_G_weF_130B_water_mask.tif to create file asc_upper\\S1BB_20190816T070637_20190828T070637_VVP012_INT40_G_weF_130B\\S1BB_20190816T070637_20190828T070637_VVP012_INT40_G_weF_130B_water_mask_clip.tif\n",
      "    clipping file asc_upper\\S1BB_20190723T070635_20190828T070637_VVP036_INT40_G_weF_D5E9\\S1BB_20190723T070635_20190828T070637_VVP036_INT40_G_weF_D5E9_water_mask.tif to create file asc_upper\\S1BB_20190723T070635_20190828T070637_VVP036_INT40_G_weF_D5E9\\S1BB_20190723T070635_20190828T070637_VVP036_INT40_G_weF_D5E9_water_mask_clip.tif\n",
      "    clipping file asc_upper\\S1BB_20190804T070636_20190816T070637_VVP012_INT40_G_weF_0515\\S1BB_20190804T070636_20190816T070637_VVP012_INT40_G_weF_0515_water_mask.tif to create file asc_upper\\S1BB_20190804T070636_20190816T070637_VVP012_INT40_G_weF_0515\\S1BB_20190804T070636_20190816T070637_VVP012_INT40_G_weF_0515_water_mask_clip.tif\n",
      "    clipping file asc_upper\\S1BB_20190711T070635_20190816T070637_VVP036_INT40_G_weF_6297\\S1BB_20190711T070635_20190816T070637_VVP036_INT40_G_weF_6297_water_mask.tif to create file asc_upper\\S1BB_20190711T070635_20190816T070637_VVP036_INT40_G_weF_6297\\S1BB_20190711T070635_20190816T070637_VVP036_INT40_G_weF_6297_water_mask_clip.tif\n",
      "    clipping file asc_upper\\S1BB_20190723T070635_20190816T070637_VVP024_INT40_G_weF_FFAB\\S1BB_20190723T070635_20190816T070637_VVP024_INT40_G_weF_FFAB_water_mask.tif to create file asc_upper\\S1BB_20190723T070635_20190816T070637_VVP024_INT40_G_weF_FFAB\\S1BB_20190723T070635_20190816T070637_VVP024_INT40_G_weF_FFAB_water_mask_clip.tif\n",
      "    clipping file asc_upper\\S1BB_20190723T070635_20190804T070636_VVP012_INT40_G_weF_4E1F\\S1BB_20190723T070635_20190804T070636_VVP012_INT40_G_weF_4E1F_water_mask.tif to create file asc_upper\\S1BB_20190723T070635_20190804T070636_VVP012_INT40_G_weF_4E1F\\S1BB_20190723T070635_20190804T070636_VVP012_INT40_G_weF_4E1F_water_mask_clip.tif\n",
      "    clipping file asc_upper\\S1BB_20190711T070635_20190804T070636_VVP024_INT40_G_weF_AF47\\S1BB_20190711T070635_20190804T070636_VVP024_INT40_G_weF_AF47_water_mask.tif to create file asc_upper\\S1BB_20190711T070635_20190804T070636_VVP024_INT40_G_weF_AF47\\S1BB_20190711T070635_20190804T070636_VVP024_INT40_G_weF_AF47_water_mask_clip.tif\n",
      "    clipping file asc_upper\\S1BB_20190711T070635_20190723T070635_VVP012_INT40_G_weF_54B3\\S1BB_20190711T070635_20190723T070635_VVP012_INT40_G_weF_54B3_water_mask.tif to create file asc_upper\\S1BB_20190711T070635_20190723T070635_VVP012_INT40_G_weF_54B3\\S1BB_20190711T070635_20190723T070635_VVP012_INT40_G_weF_54B3_water_mask_clip.tif\n",
      "    clipping file asc_upper\\S1BB_20190617T070633_20190711T070635_VVP024_INT40_G_weF_0191\\S1BB_20190617T070633_20190711T070635_VVP024_INT40_G_weF_0191_water_mask.tif to create file asc_upper\\S1BB_20190617T070633_20190711T070635_VVP024_INT40_G_weF_0191\\S1BB_20190617T070633_20190711T070635_VVP024_INT40_G_weF_0191_water_mask_clip.tif\n",
      "    clipping file asc_upper\\S1BB_20190617T070633_20190723T070635_VVP036_INT40_G_weF_113F\\S1BB_20190617T070633_20190723T070635_VVP036_INT40_G_weF_113F_water_mask.tif to create file asc_upper\\S1BB_20190617T070633_20190723T070635_VVP036_INT40_G_weF_113F\\S1BB_20190617T070633_20190723T070635_VVP036_INT40_G_weF_113F_water_mask_clip.tif\n",
      "    clipping file asc_upper\\S1BB_20190617T070633_20190804T070636_VVP048_INT40_G_weF_D222\\S1BB_20190617T070633_20190804T070636_VVP048_INT40_G_weF_D222_water_mask.tif to create file asc_upper\\S1BB_20190617T070633_20190804T070636_VVP048_INT40_G_weF_D222\\S1BB_20190617T070633_20190804T070636_VVP048_INT40_G_weF_D222_water_mask_clip.tif\n",
      "    clipping file asc_upper\\S1BB_20190605T070632_20190711T070635_VVP036_INT40_G_weF_28B9\\S1BB_20190605T070632_20190711T070635_VVP036_INT40_G_weF_28B9_water_mask.tif to create file asc_upper\\S1BB_20190605T070632_20190711T070635_VVP036_INT40_G_weF_28B9\\S1BB_20190605T070632_20190711T070635_VVP036_INT40_G_weF_28B9_water_mask_clip.tif\n",
      "    clipping file asc_upper\\S1BB_20190605T070632_20190617T070633_VVP012_INT40_G_weF_1AD8\\S1BB_20190605T070632_20190617T070633_VVP012_INT40_G_weF_1AD8_water_mask.tif to create file asc_upper\\S1BB_20190605T070632_20190617T070633_VVP012_INT40_G_weF_1AD8\\S1BB_20190605T070632_20190617T070633_VVP012_INT40_G_weF_1AD8_water_mask_clip.tif\n",
      "    clipping file asc_upper\\S1BB_20190605T070632_20190723T070635_VVP048_INT40_G_weF_1A3A\\S1BB_20190605T070632_20190723T070635_VVP048_INT40_G_weF_1A3A_water_mask.tif to create file asc_upper\\S1BB_20190605T070632_20190723T070635_VVP048_INT40_G_weF_1A3A\\S1BB_20190605T070632_20190723T070635_VVP048_INT40_G_weF_1A3A_water_mask_clip.tif\n",
      "    clipping file asc_upper\\S1BB_20190524T070632_20190711T070635_VVP048_INT40_G_weF_C1A4\\S1BB_20190524T070632_20190711T070635_VVP048_INT40_G_weF_C1A4_water_mask.tif to create file asc_upper\\S1BB_20190524T070632_20190711T070635_VVP048_INT40_G_weF_C1A4\\S1BB_20190524T070632_20190711T070635_VVP048_INT40_G_weF_C1A4_water_mask_clip.tif\n",
      "    clipping file asc_upper\\S1BB_20190524T070632_20190617T070633_VVP024_INT40_G_weF_722E\\S1BB_20190524T070632_20190617T070633_VVP024_INT40_G_weF_722E_water_mask.tif to create file asc_upper\\S1BB_20190524T070632_20190617T070633_VVP024_INT40_G_weF_722E\\S1BB_20190524T070632_20190617T070633_VVP024_INT40_G_weF_722E_water_mask_clip.tif\n",
      "    clipping file asc_upper\\S1BB_20190524T070632_20190605T070632_VVP012_INT40_G_weF_CC29\\S1BB_20190524T070632_20190605T070632_VVP012_INT40_G_weF_CC29_water_mask.tif to create file asc_upper\\S1BB_20190524T070632_20190605T070632_VVP012_INT40_G_weF_CC29\\S1BB_20190524T070632_20190605T070632_VVP012_INT40_G_weF_CC29_water_mask_clip.tif\n",
      "    clipping file asc_upper\\S1BB_20190512T070631_20190617T070633_VVP036_INT40_G_weF_8577\\S1BB_20190512T070631_20190617T070633_VVP036_INT40_G_weF_8577_water_mask.tif to create file asc_upper\\S1BB_20190512T070631_20190617T070633_VVP036_INT40_G_weF_8577\\S1BB_20190512T070631_20190617T070633_VVP036_INT40_G_weF_8577_water_mask_clip.tif\n",
      "    clipping file asc_upper\\S1BB_20190512T070631_20190605T070632_VVP024_INT40_G_weF_B3FC\\S1BB_20190512T070631_20190605T070632_VVP024_INT40_G_weF_B3FC_water_mask.tif to create file asc_upper\\S1BB_20190512T070631_20190605T070632_VVP024_INT40_G_weF_B3FC\\S1BB_20190512T070631_20190605T070632_VVP024_INT40_G_weF_B3FC_water_mask_clip.tif\n",
      "    clipping file asc_upper\\S1BB_20190512T070631_20190524T070632_VVP012_INT40_G_weF_EB9B\\S1BB_20190512T070631_20190524T070632_VVP012_INT40_G_weF_EB9B_water_mask.tif to create file asc_upper\\S1BB_20190512T070631_20190524T070632_VVP012_INT40_G_weF_EB9B\\S1BB_20190512T070631_20190524T070632_VVP012_INT40_G_weF_EB9B_water_mask_clip.tif\n",
      "    clipping file asc_upper\\S1BB_20190430T070631_20190605T070632_VVP036_INT40_G_weF_6858\\S1BB_20190430T070631_20190605T070632_VVP036_INT40_G_weF_6858_water_mask.tif to create file asc_upper\\S1BB_20190430T070631_20190605T070632_VVP036_INT40_G_weF_6858\\S1BB_20190430T070631_20190605T070632_VVP036_INT40_G_weF_6858_water_mask_clip.tif\n",
      "    clipping file asc_upper\\S1BB_20190430T070631_20190512T070631_VVP012_INT40_G_weF_F58E\\S1BB_20190430T070631_20190512T070631_VVP012_INT40_G_weF_F58E_water_mask.tif to create file asc_upper\\S1BB_20190430T070631_20190512T070631_VVP012_INT40_G_weF_F58E\\S1BB_20190430T070631_20190512T070631_VVP012_INT40_G_weF_F58E_water_mask_clip.tif\n",
      "    clipping file asc_upper\\S1BB_20190430T070631_20190524T070632_VVP024_INT40_G_weF_9D7E\\S1BB_20190430T070631_20190524T070632_VVP024_INT40_G_weF_9D7E_water_mask.tif to create file asc_upper\\S1BB_20190430T070631_20190524T070632_VVP024_INT40_G_weF_9D7E\\S1BB_20190430T070631_20190524T070632_VVP024_INT40_G_weF_9D7E_water_mask_clip.tif\n",
      "    clipping file asc_upper\\S1BB_20190406T070630_20190524T070632_VVP048_INT40_G_weF_7564\\S1BB_20190406T070630_20190524T070632_VVP048_INT40_G_weF_7564_water_mask.tif to create file asc_upper\\S1BB_20190406T070630_20190524T070632_VVP048_INT40_G_weF_7564\\S1BB_20190406T070630_20190524T070632_VVP048_INT40_G_weF_7564_water_mask_clip.tif\n",
      "    clipping file asc_upper\\S1BB_20190406T070630_20190512T070631_VVP036_INT40_G_weF_8468\\S1BB_20190406T070630_20190512T070631_VVP036_INT40_G_weF_8468_water_mask.tif to create file asc_upper\\S1BB_20190406T070630_20190512T070631_VVP036_INT40_G_weF_8468\\S1BB_20190406T070630_20190512T070631_VVP036_INT40_G_weF_8468_water_mask_clip.tif\n",
      "    clipping file asc_upper\\S1BB_20190406T070630_20190430T070631_VVP024_INT40_G_weF_95C1\\S1BB_20190406T070630_20190430T070631_VVP024_INT40_G_weF_95C1_water_mask.tif to create file asc_upper\\S1BB_20190406T070630_20190430T070631_VVP024_INT40_G_weF_95C1\\S1BB_20190406T070630_20190430T070631_VVP024_INT40_G_weF_95C1_water_mask_clip.tif\n",
      "    clipping file asc_upper\\S1BB_20190325T070629_20190430T070631_VVP036_INT40_G_weF_5587\\S1BB_20190325T070629_20190430T070631_VVP036_INT40_G_weF_5587_water_mask.tif to create file asc_upper\\S1BB_20190325T070629_20190430T070631_VVP036_INT40_G_weF_5587\\S1BB_20190325T070629_20190430T070631_VVP036_INT40_G_weF_5587_water_mask_clip.tif\n",
      "    clipping file asc_upper\\S1BB_20190325T070629_20190406T070630_VVP012_INT40_G_weF_94D8\\S1BB_20190325T070629_20190406T070630_VVP012_INT40_G_weF_94D8_water_mask.tif to create file asc_upper\\S1BB_20190325T070629_20190406T070630_VVP012_INT40_G_weF_94D8\\S1BB_20190325T070629_20190406T070630_VVP012_INT40_G_weF_94D8_water_mask_clip.tif\n",
      "    clipping file asc_upper\\S1BB_20190325T070629_20190512T070631_VVP048_INT40_G_weF_10F5\\S1BB_20190325T070629_20190512T070631_VVP048_INT40_G_weF_10F5_water_mask.tif to create file asc_upper\\S1BB_20190325T070629_20190512T070631_VVP048_INT40_G_weF_10F5\\S1BB_20190325T070629_20190512T070631_VVP048_INT40_G_weF_10F5_water_mask_clip.tif\n",
      "    clipping file asc_upper\\S1BB_20190313T070629_20190430T070631_VVP048_INT40_G_weF_CCDD\\S1BB_20190313T070629_20190430T070631_VVP048_INT40_G_weF_CCDD_water_mask.tif to create file asc_upper\\S1BB_20190313T070629_20190430T070631_VVP048_INT40_G_weF_CCDD\\S1BB_20190313T070629_20190430T070631_VVP048_INT40_G_weF_CCDD_water_mask_clip.tif\n",
      "    clipping file asc_upper\\S1BB_20190313T070629_20190325T070629_VVP012_INT40_G_weF_99DB\\S1BB_20190313T070629_20190325T070629_VVP012_INT40_G_weF_99DB_water_mask.tif to create file asc_upper\\S1BB_20190313T070629_20190325T070629_VVP012_INT40_G_weF_99DB\\S1BB_20190313T070629_20190325T070629_VVP012_INT40_G_weF_99DB_water_mask_clip.tif\n",
      "    clipping file asc_upper\\S1BB_20190313T070629_20190406T070630_VVP024_INT40_G_weF_7B63\\S1BB_20190313T070629_20190406T070630_VVP024_INT40_G_weF_7B63_water_mask.tif to create file asc_upper\\S1BB_20190313T070629_20190406T070630_VVP024_INT40_G_weF_7B63\\S1BB_20190313T070629_20190406T070630_VVP024_INT40_G_weF_7B63_water_mask_clip.tif\n",
      "    clipping file asc_upper\\S1BB_20190301T070629_20190325T070629_VVP024_INT40_G_weF_3ADB\\S1BB_20190301T070629_20190325T070629_VVP024_INT40_G_weF_3ADB_water_mask.tif to create file asc_upper\\S1BB_20190301T070629_20190325T070629_VVP024_INT40_G_weF_3ADB\\S1BB_20190301T070629_20190325T070629_VVP024_INT40_G_weF_3ADB_water_mask_clip.tif\n",
      "    clipping file asc_upper\\S1BB_20190301T070629_20190406T070630_VVP036_INT40_G_weF_39A9\\S1BB_20190301T070629_20190406T070630_VVP036_INT40_G_weF_39A9_water_mask.tif to create file asc_upper\\S1BB_20190301T070629_20190406T070630_VVP036_INT40_G_weF_39A9\\S1BB_20190301T070629_20190406T070630_VVP036_INT40_G_weF_39A9_water_mask_clip.tif\n",
      "    clipping file asc_upper\\S1BB_20190217T070629_20190325T070629_VVP036_INT40_G_weF_11FA\\S1BB_20190217T070629_20190325T070629_VVP036_INT40_G_weF_11FA_water_mask.tif to create file asc_upper\\S1BB_20190217T070629_20190325T070629_VVP036_INT40_G_weF_11FA\\S1BB_20190217T070629_20190325T070629_VVP036_INT40_G_weF_11FA_water_mask_clip.tif\n",
      "    clipping file asc_upper\\S1BB_20190301T070629_20190313T070629_VVP012_INT40_G_weF_FDE8\\S1BB_20190301T070629_20190313T070629_VVP012_INT40_G_weF_FDE8_water_mask.tif to create file asc_upper\\S1BB_20190301T070629_20190313T070629_VVP012_INT40_G_weF_FDE8\\S1BB_20190301T070629_20190313T070629_VVP012_INT40_G_weF_FDE8_water_mask_clip.tif\n",
      "    clipping file asc_upper\\S1BB_20190217T070629_20190313T070629_VVP024_INT40_G_weF_BA9E\\S1BB_20190217T070629_20190313T070629_VVP024_INT40_G_weF_BA9E_water_mask.tif to create file asc_upper\\S1BB_20190217T070629_20190313T070629_VVP024_INT40_G_weF_BA9E\\S1BB_20190217T070629_20190313T070629_VVP024_INT40_G_weF_BA9E_water_mask_clip.tif\n",
      "    clipping file asc_upper\\S1BB_20190205T070630_20190313T070629_VVP036_INT40_G_weF_1D46\\S1BB_20190205T070630_20190313T070629_VVP036_INT40_G_weF_1D46_water_mask.tif to create file asc_upper\\S1BB_20190205T070630_20190313T070629_VVP036_INT40_G_weF_1D46\\S1BB_20190205T070630_20190313T070629_VVP036_INT40_G_weF_1D46_water_mask_clip.tif\n",
      "    clipping file asc_upper\\S1BB_20190217T070629_20190301T070629_VVP012_INT40_G_weF_6E7F\\S1BB_20190217T070629_20190301T070629_VVP012_INT40_G_weF_6E7F_water_mask.tif to create file asc_upper\\S1BB_20190217T070629_20190301T070629_VVP012_INT40_G_weF_6E7F\\S1BB_20190217T070629_20190301T070629_VVP012_INT40_G_weF_6E7F_water_mask_clip.tif\n",
      "    clipping file asc_upper\\S1BB_20190205T070630_20190301T070629_VVP024_INT40_G_weF_C075\\S1BB_20190205T070630_20190301T070629_VVP024_INT40_G_weF_C075_water_mask.tif to create file asc_upper\\S1BB_20190205T070630_20190301T070629_VVP024_INT40_G_weF_C075\\S1BB_20190205T070630_20190301T070629_VVP024_INT40_G_weF_C075_water_mask_clip.tif\n",
      "    clipping file asc_upper\\S1BB_20190205T070630_20190217T070629_VVP012_INT40_G_weF_9856\\S1BB_20190205T070630_20190217T070629_VVP012_INT40_G_weF_9856_water_mask.tif to create file asc_upper\\S1BB_20190205T070630_20190217T070629_VVP012_INT40_G_weF_9856\\S1BB_20190205T070630_20190217T070629_VVP012_INT40_G_weF_9856_water_mask_clip.tif\n",
      "    clipping file asc_upper\\S1BB_20190124T070630_20190301T070629_VVP036_INT40_G_weF_6E46\\S1BB_20190124T070630_20190301T070629_VVP036_INT40_G_weF_6E46_water_mask.tif to create file asc_upper\\S1BB_20190124T070630_20190301T070629_VVP036_INT40_G_weF_6E46\\S1BB_20190124T070630_20190301T070629_VVP036_INT40_G_weF_6E46_water_mask_clip.tif\n",
      "    clipping file asc_upper\\S1BB_20190124T070630_20190205T070630_VVP012_INT40_G_weF_AFE0\\S1BB_20190124T070630_20190205T070630_VVP012_INT40_G_weF_AFE0_water_mask.tif to create file asc_upper\\S1BB_20190124T070630_20190205T070630_VVP012_INT40_G_weF_AFE0\\S1BB_20190124T070630_20190205T070630_VVP012_INT40_G_weF_AFE0_water_mask_clip.tif\n",
      "    clipping file asc_upper\\S1BB_20190124T070630_20190217T070629_VVP024_INT40_G_weF_AA8A\\S1BB_20190124T070630_20190217T070629_VVP024_INT40_G_weF_AA8A_water_mask.tif to create file asc_upper\\S1BB_20190124T070630_20190217T070629_VVP024_INT40_G_weF_AA8A\\S1BB_20190124T070630_20190217T070629_VVP024_INT40_G_weF_AA8A_water_mask_clip.tif\n",
      "    clipping file asc_upper\\S1BB_20190112T070630_20190205T070630_VVP024_INT40_G_weF_0430\\S1BB_20190112T070630_20190205T070630_VVP024_INT40_G_weF_0430_water_mask.tif to create file asc_upper\\S1BB_20190112T070630_20190205T070630_VVP024_INT40_G_weF_0430\\S1BB_20190112T070630_20190205T070630_VVP024_INT40_G_weF_0430_water_mask_clip.tif\n",
      "    clipping file asc_upper\\S1BB_20190112T070630_20190124T070630_VVP012_INT40_G_weF_EAEA\\S1BB_20190112T070630_20190124T070630_VVP012_INT40_G_weF_EAEA_water_mask.tif to create file asc_upper\\S1BB_20190112T070630_20190124T070630_VVP012_INT40_G_weF_EAEA\\S1BB_20190112T070630_20190124T070630_VVP012_INT40_G_weF_EAEA_water_mask_clip.tif\n",
      "    clipping file asc_upper\\S1BB_20190112T070630_20190217T070629_VVP036_INT40_G_weF_02CF\\S1BB_20190112T070630_20190217T070629_VVP036_INT40_G_weF_02CF_water_mask.tif to create file asc_upper\\S1BB_20190112T070630_20190217T070629_VVP036_INT40_G_weF_02CF\\S1BB_20190112T070630_20190217T070629_VVP036_INT40_G_weF_02CF_water_mask_clip.tif\n",
      "    clipping file asc_upper\\S1BB_20181231T070631_20190124T070630_VVP024_INT40_G_weF_C63E\\S1BB_20181231T070631_20190124T070630_VVP024_INT40_G_weF_C63E_water_mask.tif to create file asc_upper\\S1BB_20181231T070631_20190124T070630_VVP024_INT40_G_weF_C63E\\S1BB_20181231T070631_20190124T070630_VVP024_INT40_G_weF_C63E_water_mask_clip.tif\n",
      "    clipping file asc_upper\\S1BB_20181231T070631_20190205T070630_VVP036_INT40_G_weF_7474\\S1BB_20181231T070631_20190205T070630_VVP036_INT40_G_weF_7474_water_mask.tif to create file asc_upper\\S1BB_20181231T070631_20190205T070630_VVP036_INT40_G_weF_7474\\S1BB_20181231T070631_20190205T070630_VVP036_INT40_G_weF_7474_water_mask_clip.tif\n",
      "    clipping file asc_upper\\S1BB_20181219T070631_20190112T070630_VVP024_INT40_G_weF_B3FB\\S1BB_20181219T070631_20190112T070630_VVP024_INT40_G_weF_B3FB_water_mask.tif to create file asc_upper\\S1BB_20181219T070631_20190112T070630_VVP024_INT40_G_weF_B3FB\\S1BB_20181219T070631_20190112T070630_VVP024_INT40_G_weF_B3FB_water_mask_clip.tif\n",
      "    clipping file asc_upper\\S1BB_20181231T070631_20190112T070630_VVP012_INT40_G_weF_FFB0\\S1BB_20181231T070631_20190112T070630_VVP012_INT40_G_weF_FFB0_water_mask.tif to create file asc_upper\\S1BB_20181231T070631_20190112T070630_VVP012_INT40_G_weF_FFB0\\S1BB_20181231T070631_20190112T070630_VVP012_INT40_G_weF_FFB0_water_mask_clip.tif\n",
      "    clipping file asc_upper\\S1BB_20181219T070631_20190124T070630_VVP036_INT40_G_weF_1FB4\\S1BB_20181219T070631_20190124T070630_VVP036_INT40_G_weF_1FB4_water_mask.tif to create file asc_upper\\S1BB_20181219T070631_20190124T070630_VVP036_INT40_G_weF_1FB4\\S1BB_20181219T070631_20190124T070630_VVP036_INT40_G_weF_1FB4_water_mask_clip.tif\n",
      "    clipping file asc_upper\\S1BB_20181207T070632_20190112T070630_VVP036_INT40_G_weF_0ED7\\S1BB_20181207T070632_20190112T070630_VVP036_INT40_G_weF_0ED7_water_mask.tif to create file asc_upper\\S1BB_20181207T070632_20190112T070630_VVP036_INT40_G_weF_0ED7\\S1BB_20181207T070632_20190112T070630_VVP036_INT40_G_weF_0ED7_water_mask_clip.tif\n",
      "    clipping file asc_upper\\S1BB_20181219T070631_20181231T070631_VVP012_INT40_G_weF_E06A\\S1BB_20181219T070631_20181231T070631_VVP012_INT40_G_weF_E06A_water_mask.tif to create file asc_upper\\S1BB_20181219T070631_20181231T070631_VVP012_INT40_G_weF_E06A\\S1BB_20181219T070631_20181231T070631_VVP012_INT40_G_weF_E06A_water_mask_clip.tif\n",
      "    clipping file asc_upper\\S1BB_20181207T070632_20181219T070631_VVP012_INT40_G_weF_68FE\\S1BB_20181207T070632_20181219T070631_VVP012_INT40_G_weF_68FE_water_mask.tif to create file asc_upper\\S1BB_20181207T070632_20181219T070631_VVP012_INT40_G_weF_68FE\\S1BB_20181207T070632_20181219T070631_VVP012_INT40_G_weF_68FE_water_mask_clip.tif\n",
      "    clipping file asc_upper\\S1BB_20181125T070632_20181231T070631_VVP036_INT40_G_weF_3B22\\S1BB_20181125T070632_20181231T070631_VVP036_INT40_G_weF_3B22_water_mask.tif to create file asc_upper\\S1BB_20181125T070632_20181231T070631_VVP036_INT40_G_weF_3B22\\S1BB_20181125T070632_20181231T070631_VVP036_INT40_G_weF_3B22_water_mask_clip.tif\n",
      "    clipping file asc_upper\\S1BB_20181207T070632_20181231T070631_VVP024_INT40_G_weF_4083\\S1BB_20181207T070632_20181231T070631_VVP024_INT40_G_weF_4083_water_mask.tif to create file asc_upper\\S1BB_20181207T070632_20181231T070631_VVP024_INT40_G_weF_4083\\S1BB_20181207T070632_20181231T070631_VVP024_INT40_G_weF_4083_water_mask_clip.tif\n",
      "    clipping file asc_upper\\S1BB_20181125T070632_20181207T070632_VVP012_INT40_G_weF_6FEC\\S1BB_20181125T070632_20181207T070632_VVP012_INT40_G_weF_6FEC_water_mask.tif to create file asc_upper\\S1BB_20181125T070632_20181207T070632_VVP012_INT40_G_weF_6FEC\\S1BB_20181125T070632_20181207T070632_VVP012_INT40_G_weF_6FEC_water_mask_clip.tif\n",
      "    clipping file asc_upper\\S1BB_20181113T070632_20181219T070631_VVP036_INT40_G_weF_BDF5\\S1BB_20181113T070632_20181219T070631_VVP036_INT40_G_weF_BDF5_water_mask.tif to create file asc_upper\\S1BB_20181113T070632_20181219T070631_VVP036_INT40_G_weF_BDF5\\S1BB_20181113T070632_20181219T070631_VVP036_INT40_G_weF_BDF5_water_mask_clip.tif\n",
      "    clipping file asc_upper\\S1BB_20181125T070632_20181219T070631_VVP024_INT40_G_weF_D853\\S1BB_20181125T070632_20181219T070631_VVP024_INT40_G_weF_D853_water_mask.tif to create file asc_upper\\S1BB_20181125T070632_20181219T070631_VVP024_INT40_G_weF_D853\\S1BB_20181125T070632_20181219T070631_VVP024_INT40_G_weF_D853_water_mask_clip.tif\n",
      "    clipping file asc_upper\\S1BB_20181113T070632_20181207T070632_VVP024_INT40_G_weF_680C\\S1BB_20181113T070632_20181207T070632_VVP024_INT40_G_weF_680C_water_mask.tif to create file asc_upper\\S1BB_20181113T070632_20181207T070632_VVP024_INT40_G_weF_680C\\S1BB_20181113T070632_20181207T070632_VVP024_INT40_G_weF_680C_water_mask_clip.tif\n",
      "    clipping file asc_upper\\S1BB_20181113T070632_20181125T070632_VVP012_INT40_G_weF_0CEA\\S1BB_20181113T070632_20181125T070632_VVP012_INT40_G_weF_0CEA_water_mask.tif to create file asc_upper\\S1BB_20181113T070632_20181125T070632_VVP012_INT40_G_weF_0CEA\\S1BB_20181113T070632_20181125T070632_VVP012_INT40_G_weF_0CEA_water_mask_clip.tif\n",
      "    clipping file asc_upper\\S1BB_20181101T070633_20181207T070632_VVP036_INT40_G_weF_DFED\\S1BB_20181101T070633_20181207T070632_VVP036_INT40_G_weF_DFED_water_mask.tif to create file asc_upper\\S1BB_20181101T070633_20181207T070632_VVP036_INT40_G_weF_DFED\\S1BB_20181101T070633_20181207T070632_VVP036_INT40_G_weF_DFED_water_mask_clip.tif\n",
      "    clipping file asc_upper\\S1BB_20181101T070633_20181113T070632_VVP012_INT40_G_weF_9E83\\S1BB_20181101T070633_20181113T070632_VVP012_INT40_G_weF_9E83_water_mask.tif to create file asc_upper\\S1BB_20181101T070633_20181113T070632_VVP012_INT40_G_weF_9E83\\S1BB_20181101T070633_20181113T070632_VVP012_INT40_G_weF_9E83_water_mask_clip.tif\n",
      "    clipping file asc_upper\\S1BB_20181101T070633_20181125T070632_VVP024_INT40_G_weF_1EB9\\S1BB_20181101T070633_20181125T070632_VVP024_INT40_G_weF_1EB9_water_mask.tif to create file asc_upper\\S1BB_20181101T070633_20181125T070632_VVP024_INT40_G_weF_1EB9\\S1BB_20181101T070633_20181125T070632_VVP024_INT40_G_weF_1EB9_water_mask_clip.tif\n",
      "    clipping file asc_upper\\S1BB_20181020T070633_20181113T070632_VVP024_INT40_G_weF_259A\\S1BB_20181020T070633_20181113T070632_VVP024_INT40_G_weF_259A_water_mask.tif to create file asc_upper\\S1BB_20181020T070633_20181113T070632_VVP024_INT40_G_weF_259A\\S1BB_20181020T070633_20181113T070632_VVP024_INT40_G_weF_259A_water_mask_clip.tif\n",
      "    clipping file asc_upper\\S1BB_20181020T070633_20181125T070632_VVP036_INT40_G_weF_1813\\S1BB_20181020T070633_20181125T070632_VVP036_INT40_G_weF_1813_water_mask.tif to create file asc_upper\\S1BB_20181020T070633_20181125T070632_VVP036_INT40_G_weF_1813\\S1BB_20181020T070633_20181125T070632_VVP036_INT40_G_weF_1813_water_mask_clip.tif\n",
      "    clipping file asc_upper\\S1BB_20181008T070633_20181113T070632_VVP036_INT40_G_weF_7246\\S1BB_20181008T070633_20181113T070632_VVP036_INT40_G_weF_7246_water_mask.tif to create file asc_upper\\S1BB_20181008T070633_20181113T070632_VVP036_INT40_G_weF_7246\\S1BB_20181008T070633_20181113T070632_VVP036_INT40_G_weF_7246_water_mask_clip.tif\n",
      "    clipping file asc_upper\\S1BB_20181020T070633_20181101T070633_VVP012_INT40_G_weF_C73D\\S1BB_20181020T070633_20181101T070633_VVP012_INT40_G_weF_C73D_water_mask.tif to create file asc_upper\\S1BB_20181020T070633_20181101T070633_VVP012_INT40_G_weF_C73D\\S1BB_20181020T070633_20181101T070633_VVP012_INT40_G_weF_C73D_water_mask_clip.tif\n",
      "    clipping file asc_upper\\S1BB_20181008T070633_20181101T070633_VVP024_INT40_G_weF_B385\\S1BB_20181008T070633_20181101T070633_VVP024_INT40_G_weF_B385_water_mask.tif to create file asc_upper\\S1BB_20181008T070633_20181101T070633_VVP024_INT40_G_weF_B385\\S1BB_20181008T070633_20181101T070633_VVP024_INT40_G_weF_B385_water_mask_clip.tif\n",
      "    clipping file asc_upper\\S1BB_20181008T070633_20181020T070633_VVP012_INT40_G_weF_FF09\\S1BB_20181008T070633_20181020T070633_VVP012_INT40_G_weF_FF09_water_mask.tif to create file asc_upper\\S1BB_20181008T070633_20181020T070633_VVP012_INT40_G_weF_FF09\\S1BB_20181008T070633_20181020T070633_VVP012_INT40_G_weF_FF09_water_mask_clip.tif\n",
      "    clipping file asc_upper\\S1BB_20180926T070632_20181101T070633_VVP036_INT40_G_weF_6B76\\S1BB_20180926T070632_20181101T070633_VVP036_INT40_G_weF_6B76_water_mask.tif to create file asc_upper\\S1BB_20180926T070632_20181101T070633_VVP036_INT40_G_weF_6B76\\S1BB_20180926T070632_20181101T070633_VVP036_INT40_G_weF_6B76_water_mask_clip.tif\n",
      "    clipping file asc_upper\\S1BB_20180926T070632_20181020T070633_VVP024_INT40_G_weF_A774\\S1BB_20180926T070632_20181020T070633_VVP024_INT40_G_weF_A774_water_mask.tif to create file asc_upper\\S1BB_20180926T070632_20181020T070633_VVP024_INT40_G_weF_A774\\S1BB_20180926T070632_20181020T070633_VVP024_INT40_G_weF_A774_water_mask_clip.tif\n",
      "    clipping file asc_upper\\S1BB_20180926T070632_20181008T070633_VVP012_INT40_G_weF_E6FD\\S1BB_20180926T070632_20181008T070633_VVP012_INT40_G_weF_E6FD_water_mask.tif to create file asc_upper\\S1BB_20180926T070632_20181008T070633_VVP012_INT40_G_weF_E6FD\\S1BB_20180926T070632_20181008T070633_VVP012_INT40_G_weF_E6FD_water_mask_clip.tif\n",
      "    clipping file asc_upper\\S1BB_20180914T070632_20181020T070633_VVP036_INT40_G_weF_FEDB\\S1BB_20180914T070632_20181020T070633_VVP036_INT40_G_weF_FEDB_water_mask.tif to create file asc_upper\\S1BB_20180914T070632_20181020T070633_VVP036_INT40_G_weF_FEDB\\S1BB_20180914T070632_20181020T070633_VVP036_INT40_G_weF_FEDB_water_mask_clip.tif\n",
      "    clipping file asc_upper\\S1BB_20180914T070632_20180926T070632_VVP012_INT40_G_weF_3F35\\S1BB_20180914T070632_20180926T070632_VVP012_INT40_G_weF_3F35_water_mask.tif to create file asc_upper\\S1BB_20180914T070632_20180926T070632_VVP012_INT40_G_weF_3F35\\S1BB_20180914T070632_20180926T070632_VVP012_INT40_G_weF_3F35_water_mask_clip.tif\n",
      "    clipping file asc_upper\\S1BB_20180914T070632_20181008T070633_VVP024_INT40_G_weF_D5CD\\S1BB_20180914T070632_20181008T070633_VVP024_INT40_G_weF_D5CD_water_mask.tif to create file asc_upper\\S1BB_20180914T070632_20181008T070633_VVP024_INT40_G_weF_D5CD\\S1BB_20180914T070632_20181008T070633_VVP024_INT40_G_weF_D5CD_water_mask_clip.tif\n",
      "    clipping file asc_upper\\S1BB_20180902T070631_20181008T070633_VVP036_INT40_G_weF_C838\\S1BB_20180902T070631_20181008T070633_VVP036_INT40_G_weF_C838_water_mask.tif to create file asc_upper\\S1BB_20180902T070631_20181008T070633_VVP036_INT40_G_weF_C838\\S1BB_20180902T070631_20181008T070633_VVP036_INT40_G_weF_C838_water_mask_clip.tif\n",
      "    clipping file asc_upper\\S1BB_20180902T070631_20180926T070632_VVP024_INT40_G_weF_66F0\\S1BB_20180902T070631_20180926T070632_VVP024_INT40_G_weF_66F0_water_mask.tif to create file asc_upper\\S1BB_20180902T070631_20180926T070632_VVP024_INT40_G_weF_66F0\\S1BB_20180902T070631_20180926T070632_VVP024_INT40_G_weF_66F0_water_mask_clip.tif\n",
      "    clipping file asc_upper\\S1BB_20180902T070631_20180914T070632_VVP012_INT40_G_weF_B9EE\\S1BB_20180902T070631_20180914T070632_VVP012_INT40_G_weF_B9EE_water_mask.tif to create file asc_upper\\S1BB_20180902T070631_20180914T070632_VVP012_INT40_G_weF_B9EE\\S1BB_20180902T070631_20180914T070632_VVP012_INT40_G_weF_B9EE_water_mask_clip.tif\n",
      "    clipping file asc_upper\\S1BB_20180821T070631_20180926T070632_VVP036_INT40_G_weF_A88E\\S1BB_20180821T070631_20180926T070632_VVP036_INT40_G_weF_A88E_water_mask.tif to create file asc_upper\\S1BB_20180821T070631_20180926T070632_VVP036_INT40_G_weF_A88E\\S1BB_20180821T070631_20180926T070632_VVP036_INT40_G_weF_A88E_water_mask_clip.tif\n",
      "    clipping file asc_upper\\S1BB_20180821T070631_20180914T070632_VVP024_INT40_G_weF_8D49\\S1BB_20180821T070631_20180914T070632_VVP024_INT40_G_weF_8D49_water_mask.tif to create file asc_upper\\S1BB_20180821T070631_20180914T070632_VVP024_INT40_G_weF_8D49\\S1BB_20180821T070631_20180914T070632_VVP024_INT40_G_weF_8D49_water_mask_clip.tif\n",
      "    clipping file asc_upper\\S1BB_20180809T070630_20180902T070631_VVP024_INT40_G_weF_D1AF\\S1BB_20180809T070630_20180902T070631_VVP024_INT40_G_weF_D1AF_water_mask.tif to create file asc_upper\\S1BB_20180809T070630_20180902T070631_VVP024_INT40_G_weF_D1AF\\S1BB_20180809T070630_20180902T070631_VVP024_INT40_G_weF_D1AF_water_mask_clip.tif\n",
      "    clipping file asc_upper\\S1BB_20180821T070631_20180902T070631_VVP012_INT40_G_weF_CA8E\\S1BB_20180821T070631_20180902T070631_VVP012_INT40_G_weF_CA8E_water_mask.tif to create file asc_upper\\S1BB_20180821T070631_20180902T070631_VVP012_INT40_G_weF_CA8E\\S1BB_20180821T070631_20180902T070631_VVP012_INT40_G_weF_CA8E_water_mask_clip.tif\n",
      "    clipping file asc_upper\\S1BB_20180809T070630_20180914T070632_VVP036_INT40_G_weF_1CDA\\S1BB_20180809T070630_20180914T070632_VVP036_INT40_G_weF_1CDA_water_mask.tif to create file asc_upper\\S1BB_20180809T070630_20180914T070632_VVP036_INT40_G_weF_1CDA\\S1BB_20180809T070630_20180914T070632_VVP036_INT40_G_weF_1CDA_water_mask_clip.tif\n",
      "    clipping file asc_upper\\S1BB_20180809T070630_20180821T070631_VVP012_INT40_G_weF_0360\\S1BB_20180809T070630_20180821T070631_VVP012_INT40_G_weF_0360_water_mask.tif to create file asc_upper\\S1BB_20180809T070630_20180821T070631_VVP012_INT40_G_weF_0360\\S1BB_20180809T070630_20180821T070631_VVP012_INT40_G_weF_0360_water_mask_clip.tif\n",
      "    clipping file asc_upper\\S1BB_20180728T070629_20180902T070631_VVP036_INT40_G_weF_2F14\\S1BB_20180728T070629_20180902T070631_VVP036_INT40_G_weF_2F14_water_mask.tif to create file asc_upper\\S1BB_20180728T070629_20180902T070631_VVP036_INT40_G_weF_2F14\\S1BB_20180728T070629_20180902T070631_VVP036_INT40_G_weF_2F14_water_mask_clip.tif\n",
      "    clipping file asc_upper\\S1BB_20180728T070629_20180809T070630_VVP012_INT40_G_weF_34A6\\S1BB_20180728T070629_20180809T070630_VVP012_INT40_G_weF_34A6_water_mask.tif to create file asc_upper\\S1BB_20180728T070629_20180809T070630_VVP012_INT40_G_weF_34A6\\S1BB_20180728T070629_20180809T070630_VVP012_INT40_G_weF_34A6_water_mask_clip.tif\n",
      "    clipping file asc_upper\\S1BB_20180716T070629_20180821T070631_VVP036_INT40_G_weF_7636\\S1BB_20180716T070629_20180821T070631_VVP036_INT40_G_weF_7636_water_mask.tif to create file asc_upper\\S1BB_20180716T070629_20180821T070631_VVP036_INT40_G_weF_7636\\S1BB_20180716T070629_20180821T070631_VVP036_INT40_G_weF_7636_water_mask_clip.tif\n",
      "    clipping file asc_upper\\S1BB_20180728T070629_20180821T070631_VVP024_INT40_G_weF_0FF5\\S1BB_20180728T070629_20180821T070631_VVP024_INT40_G_weF_0FF5_water_mask.tif to create file asc_upper\\S1BB_20180728T070629_20180821T070631_VVP024_INT40_G_weF_0FF5\\S1BB_20180728T070629_20180821T070631_VVP024_INT40_G_weF_0FF5_water_mask_clip.tif\n",
      "    clipping file asc_upper\\S1BB_20180716T070629_20180728T070629_VVP012_INT40_G_weF_6AA1\\S1BB_20180716T070629_20180728T070629_VVP012_INT40_G_weF_6AA1_water_mask.tif to create file asc_upper\\S1BB_20180716T070629_20180728T070629_VVP012_INT40_G_weF_6AA1\\S1BB_20180716T070629_20180728T070629_VVP012_INT40_G_weF_6AA1_water_mask_clip.tif\n",
      "    clipping file asc_upper\\S1BB_20180716T070629_20180809T070630_VVP024_INT40_G_weF_1EA7\\S1BB_20180716T070629_20180809T070630_VVP024_INT40_G_weF_1EA7_water_mask.tif to create file asc_upper\\S1BB_20180716T070629_20180809T070630_VVP024_INT40_G_weF_1EA7\\S1BB_20180716T070629_20180809T070630_VVP024_INT40_G_weF_1EA7_water_mask_clip.tif\n",
      "    clipping file asc_upper\\S1BB_20180704T070628_20180728T070629_VVP024_INT40_G_weF_C84E\\S1BB_20180704T070628_20180728T070629_VVP024_INT40_G_weF_C84E_water_mask.tif to create file asc_upper\\S1BB_20180704T070628_20180728T070629_VVP024_INT40_G_weF_C84E\\S1BB_20180704T070628_20180728T070629_VVP024_INT40_G_weF_C84E_water_mask_clip.tif\n",
      "    clipping file asc_upper\\S1BB_20180704T070628_20180809T070630_VVP036_INT40_G_weF_BAEF\\S1BB_20180704T070628_20180809T070630_VVP036_INT40_G_weF_BAEF_water_mask.tif to create file asc_upper\\S1BB_20180704T070628_20180809T070630_VVP036_INT40_G_weF_BAEF\\S1BB_20180704T070628_20180809T070630_VVP036_INT40_G_weF_BAEF_water_mask_clip.tif\n",
      "    clipping file asc_upper\\S1BB_20180704T070628_20180716T070629_VVP012_INT40_G_weF_3A2B\\S1BB_20180704T070628_20180716T070629_VVP012_INT40_G_weF_3A2B_water_mask.tif to create file asc_upper\\S1BB_20180704T070628_20180716T070629_VVP012_INT40_G_weF_3A2B\\S1BB_20180704T070628_20180716T070629_VVP012_INT40_G_weF_3A2B_water_mask_clip.tif\n",
      "    clipping file asc_upper\\S1BB_20180622T070627_20180716T070629_VVP024_INT40_G_weF_B396\\S1BB_20180622T070627_20180716T070629_VVP024_INT40_G_weF_B396_water_mask.tif to create file asc_upper\\S1BB_20180622T070627_20180716T070629_VVP024_INT40_G_weF_B396\\S1BB_20180622T070627_20180716T070629_VVP024_INT40_G_weF_B396_water_mask_clip.tif\n",
      "    clipping file asc_upper\\S1BB_20180622T070627_20180728T070629_VVP036_INT40_G_weF_C136\\S1BB_20180622T070627_20180728T070629_VVP036_INT40_G_weF_C136_water_mask.tif to create file asc_upper\\S1BB_20180622T070627_20180728T070629_VVP036_INT40_G_weF_C136\\S1BB_20180622T070627_20180728T070629_VVP036_INT40_G_weF_C136_water_mask_clip.tif\n",
      "    clipping file asc_upper\\S1BB_20180622T070627_20180704T070628_VVP012_INT40_G_weF_4584\\S1BB_20180622T070627_20180704T070628_VVP012_INT40_G_weF_4584_water_mask.tif to create file asc_upper\\S1BB_20180622T070627_20180704T070628_VVP012_INT40_G_weF_4584\\S1BB_20180622T070627_20180704T070628_VVP012_INT40_G_weF_4584_water_mask_clip.tif\n",
      "    clipping file asc_upper\\S1BB_20180610T070627_20180716T070629_VVP036_INT40_G_weF_95E4\\S1BB_20180610T070627_20180716T070629_VVP036_INT40_G_weF_95E4_water_mask.tif to create file asc_upper\\S1BB_20180610T070627_20180716T070629_VVP036_INT40_G_weF_95E4\\S1BB_20180610T070627_20180716T070629_VVP036_INT40_G_weF_95E4_water_mask_clip.tif\n",
      "    clipping file asc_upper\\S1BB_20180610T070627_20180704T070628_VVP024_INT40_G_weF_ABF9\\S1BB_20180610T070627_20180704T070628_VVP024_INT40_G_weF_ABF9_water_mask.tif to create file asc_upper\\S1BB_20180610T070627_20180704T070628_VVP024_INT40_G_weF_ABF9\\S1BB_20180610T070627_20180704T070628_VVP024_INT40_G_weF_ABF9_water_mask_clip.tif\n",
      "    clipping file asc_upper\\S1BB_20180529T070626_20180704T070628_VVP036_INT40_G_weF_21F6\\S1BB_20180529T070626_20180704T070628_VVP036_INT40_G_weF_21F6_water_mask.tif to create file asc_upper\\S1BB_20180529T070626_20180704T070628_VVP036_INT40_G_weF_21F6\\S1BB_20180529T070626_20180704T070628_VVP036_INT40_G_weF_21F6_water_mask_clip.tif\n",
      "    clipping file asc_upper\\S1BB_20180529T070626_20180622T070627_VVP024_INT40_G_weF_2A66\\S1BB_20180529T070626_20180622T070627_VVP024_INT40_G_weF_2A66_water_mask.tif to create file asc_upper\\S1BB_20180529T070626_20180622T070627_VVP024_INT40_G_weF_2A66\\S1BB_20180529T070626_20180622T070627_VVP024_INT40_G_weF_2A66_water_mask_clip.tif\n",
      "    clipping file asc_upper\\S1BB_20180610T070627_20180622T070627_VVP012_INT40_G_weF_204A\\S1BB_20180610T070627_20180622T070627_VVP012_INT40_G_weF_204A_water_mask.tif to create file asc_upper\\S1BB_20180610T070627_20180622T070627_VVP012_INT40_G_weF_204A\\S1BB_20180610T070627_20180622T070627_VVP012_INT40_G_weF_204A_water_mask_clip.tif\n",
      "    clipping file asc_upper\\S1BB_20180517T070625_20180622T070627_VVP036_INT40_G_weF_1CD3\\S1BB_20180517T070625_20180622T070627_VVP036_INT40_G_weF_1CD3_water_mask.tif to create file asc_upper\\S1BB_20180517T070625_20180622T070627_VVP036_INT40_G_weF_1CD3\\S1BB_20180517T070625_20180622T070627_VVP036_INT40_G_weF_1CD3_water_mask_clip.tif\n",
      "    clipping file asc_upper\\S1BB_20180529T070626_20180610T070627_VVP012_INT40_G_weF_A1EB\\S1BB_20180529T070626_20180610T070627_VVP012_INT40_G_weF_A1EB_water_mask.tif to create file asc_upper\\S1BB_20180529T070626_20180610T070627_VVP012_INT40_G_weF_A1EB\\S1BB_20180529T070626_20180610T070627_VVP012_INT40_G_weF_A1EB_water_mask_clip.tif\n",
      "    clipping file asc_upper\\S1BB_20180517T070625_20180610T070627_VVP024_INT40_G_weF_9151\\S1BB_20180517T070625_20180610T070627_VVP024_INT40_G_weF_9151_water_mask.tif to create file asc_upper\\S1BB_20180517T070625_20180610T070627_VVP024_INT40_G_weF_9151\\S1BB_20180517T070625_20180610T070627_VVP024_INT40_G_weF_9151_water_mask_clip.tif\n",
      "    clipping file asc_upper\\S1BB_20180505T070624_20180610T070627_VVP036_INT40_G_weF_92C4\\S1BB_20180505T070624_20180610T070627_VVP036_INT40_G_weF_92C4_water_mask.tif to create file asc_upper\\S1BB_20180505T070624_20180610T070627_VVP036_INT40_G_weF_92C4\\S1BB_20180505T070624_20180610T070627_VVP036_INT40_G_weF_92C4_water_mask_clip.tif\n",
      "    clipping file asc_upper\\S1BB_20180517T070625_20180529T070626_VVP012_INT40_G_weF_5BFC\\S1BB_20180517T070625_20180529T070626_VVP012_INT40_G_weF_5BFC_water_mask.tif to create file asc_upper\\S1BB_20180517T070625_20180529T070626_VVP012_INT40_G_weF_5BFC\\S1BB_20180517T070625_20180529T070626_VVP012_INT40_G_weF_5BFC_water_mask_clip.tif\n",
      "    clipping file asc_upper\\S1BB_20180505T070624_20180529T070626_VVP024_INT40_G_weF_98DB\\S1BB_20180505T070624_20180529T070626_VVP024_INT40_G_weF_98DB_water_mask.tif to create file asc_upper\\S1BB_20180505T070624_20180529T070626_VVP024_INT40_G_weF_98DB\\S1BB_20180505T070624_20180529T070626_VVP024_INT40_G_weF_98DB_water_mask_clip.tif\n",
      "    clipping file asc_upper\\S1BB_20180505T070624_20180517T070625_VVP012_INT40_G_weF_3752\\S1BB_20180505T070624_20180517T070625_VVP012_INT40_G_weF_3752_water_mask.tif to create file asc_upper\\S1BB_20180505T070624_20180517T070625_VVP012_INT40_G_weF_3752\\S1BB_20180505T070624_20180517T070625_VVP012_INT40_G_weF_3752_water_mask_clip.tif\n",
      "    clipping file asc_upper\\S1BB_20180423T070624_20180517T070625_VVP024_INT40_G_weF_36B3\\S1BB_20180423T070624_20180517T070625_VVP024_INT40_G_weF_36B3_water_mask.tif to create file asc_upper\\S1BB_20180423T070624_20180517T070625_VVP024_INT40_G_weF_36B3\\S1BB_20180423T070624_20180517T070625_VVP024_INT40_G_weF_36B3_water_mask_clip.tif\n",
      "    clipping file asc_upper\\S1BB_20180423T070624_20180505T070624_VVP012_INT40_G_weF_9BAD\\S1BB_20180423T070624_20180505T070624_VVP012_INT40_G_weF_9BAD_water_mask.tif to create file asc_upper\\S1BB_20180423T070624_20180505T070624_VVP012_INT40_G_weF_9BAD\\S1BB_20180423T070624_20180505T070624_VVP012_INT40_G_weF_9BAD_water_mask_clip.tif\n",
      "    clipping file asc_upper\\S1BB_20180423T070624_20180529T070626_VVP036_INT40_G_weF_2671\\S1BB_20180423T070624_20180529T070626_VVP036_INT40_G_weF_2671_water_mask.tif to create file asc_upper\\S1BB_20180423T070624_20180529T070626_VVP036_INT40_G_weF_2671\\S1BB_20180423T070624_20180529T070626_VVP036_INT40_G_weF_2671_water_mask_clip.tif\n",
      "    clipping file asc_upper\\S1BB_20180411T070623_20180505T070624_VVP024_INT40_G_weF_2C45\\S1BB_20180411T070623_20180505T070624_VVP024_INT40_G_weF_2C45_water_mask.tif to create file asc_upper\\S1BB_20180411T070623_20180505T070624_VVP024_INT40_G_weF_2C45\\S1BB_20180411T070623_20180505T070624_VVP024_INT40_G_weF_2C45_water_mask_clip.tif\n",
      "    clipping file asc_upper\\S1BB_20180411T070623_20180517T070625_VVP036_INT40_G_weF_ACDE\\S1BB_20180411T070623_20180517T070625_VVP036_INT40_G_weF_ACDE_water_mask.tif to create file asc_upper\\S1BB_20180411T070623_20180517T070625_VVP036_INT40_G_weF_ACDE\\S1BB_20180411T070623_20180517T070625_VVP036_INT40_G_weF_ACDE_water_mask_clip.tif\n",
      "    clipping file asc_upper\\S1BB_20180330T070623_20180505T070624_VVP036_INT40_G_weF_3E16\\S1BB_20180330T070623_20180505T070624_VVP036_INT40_G_weF_3E16_water_mask.tif to create file asc_upper\\S1BB_20180330T070623_20180505T070624_VVP036_INT40_G_weF_3E16\\S1BB_20180330T070623_20180505T070624_VVP036_INT40_G_weF_3E16_water_mask_clip.tif\n",
      "    clipping file asc_upper\\S1BB_20180330T070623_20180423T070624_VVP024_INT40_G_weF_0E3C\\S1BB_20180330T070623_20180423T070624_VVP024_INT40_G_weF_0E3C_water_mask.tif to create file asc_upper\\S1BB_20180330T070623_20180423T070624_VVP024_INT40_G_weF_0E3C\\S1BB_20180330T070623_20180423T070624_VVP024_INT40_G_weF_0E3C_water_mask_clip.tif\n",
      "    clipping file asc_upper\\S1BB_20180411T070623_20180423T070624_VVP012_INT40_G_weF_59B0\\S1BB_20180411T070623_20180423T070624_VVP012_INT40_G_weF_59B0_water_mask.tif to create file asc_upper\\S1BB_20180411T070623_20180423T070624_VVP012_INT40_G_weF_59B0\\S1BB_20180411T070623_20180423T070624_VVP012_INT40_G_weF_59B0_water_mask_clip.tif\n",
      "    clipping file asc_upper\\S1BB_20180318T070623_20180423T070624_VVP036_INT40_G_weF_79FC\\S1BB_20180318T070623_20180423T070624_VVP036_INT40_G_weF_79FC_water_mask.tif to create file asc_upper\\S1BB_20180318T070623_20180423T070624_VVP036_INT40_G_weF_79FC\\S1BB_20180318T070623_20180423T070624_VVP036_INT40_G_weF_79FC_water_mask_clip.tif\n",
      "    clipping file asc_upper\\S1BB_20180330T070623_20180411T070623_VVP012_INT40_G_weF_A2A0\\S1BB_20180330T070623_20180411T070623_VVP012_INT40_G_weF_A2A0_water_mask.tif to create file asc_upper\\S1BB_20180330T070623_20180411T070623_VVP012_INT40_G_weF_A2A0\\S1BB_20180330T070623_20180411T070623_VVP012_INT40_G_weF_A2A0_water_mask_clip.tif\n",
      "    clipping file asc_upper\\S1BB_20180318T070623_20180411T070623_VVP024_INT40_G_weF_1807\\S1BB_20180318T070623_20180411T070623_VVP024_INT40_G_weF_1807_water_mask.tif to create file asc_upper\\S1BB_20180318T070623_20180411T070623_VVP024_INT40_G_weF_1807\\S1BB_20180318T070623_20180411T070623_VVP024_INT40_G_weF_1807_water_mask_clip.tif\n",
      "    clipping file asc_upper\\S1BB_20180318T070623_20180330T070623_VVP012_INT40_G_weF_9FB8\\S1BB_20180318T070623_20180330T070623_VVP012_INT40_G_weF_9FB8_water_mask.tif to create file asc_upper\\S1BB_20180318T070623_20180330T070623_VVP012_INT40_G_weF_9FB8\\S1BB_20180318T070623_20180330T070623_VVP012_INT40_G_weF_9FB8_water_mask_clip.tif\n",
      "    clipping file asc_upper\\S1BB_20180306T070623_20180411T070623_VVP036_INT40_G_weF_2980\\S1BB_20180306T070623_20180411T070623_VVP036_INT40_G_weF_2980_water_mask.tif to create file asc_upper\\S1BB_20180306T070623_20180411T070623_VVP036_INT40_G_weF_2980\\S1BB_20180306T070623_20180411T070623_VVP036_INT40_G_weF_2980_water_mask_clip.tif\n",
      "    clipping file asc_upper\\S1BB_20180306T070623_20180318T070623_VVP012_INT40_G_weF_C162\\S1BB_20180306T070623_20180318T070623_VVP012_INT40_G_weF_C162_water_mask.tif to create file asc_upper\\S1BB_20180306T070623_20180318T070623_VVP012_INT40_G_weF_C162\\S1BB_20180306T070623_20180318T070623_VVP012_INT40_G_weF_C162_water_mask_clip.tif\n",
      "    clipping file asc_upper\\S1BB_20180306T070623_20180330T070623_VVP024_INT40_G_weF_A642\\S1BB_20180306T070623_20180330T070623_VVP024_INT40_G_weF_A642_water_mask.tif to create file asc_upper\\S1BB_20180306T070623_20180330T070623_VVP024_INT40_G_weF_A642\\S1BB_20180306T070623_20180330T070623_VVP024_INT40_G_weF_A642_water_mask_clip.tif\n",
      "    clipping file asc_upper\\S1BB_20180222T070622_20180306T070623_VVP012_INT40_G_weF_FC41\\S1BB_20180222T070622_20180306T070623_VVP012_INT40_G_weF_FC41_water_mask.tif to create file asc_upper\\S1BB_20180222T070622_20180306T070623_VVP012_INT40_G_weF_FC41\\S1BB_20180222T070622_20180306T070623_VVP012_INT40_G_weF_FC41_water_mask_clip.tif\n",
      "    clipping file asc_upper\\S1BB_20180222T070622_20180318T070623_VVP024_INT40_G_weF_BFFD\\S1BB_20180222T070622_20180318T070623_VVP024_INT40_G_weF_BFFD_water_mask.tif to create file asc_upper\\S1BB_20180222T070622_20180318T070623_VVP024_INT40_G_weF_BFFD\\S1BB_20180222T070622_20180318T070623_VVP024_INT40_G_weF_BFFD_water_mask_clip.tif\n",
      "    clipping file asc_upper\\S1BB_20180222T070622_20180330T070623_VVP036_INT40_G_weF_817B\\S1BB_20180222T070622_20180330T070623_VVP036_INT40_G_weF_817B_water_mask.tif to create file asc_upper\\S1BB_20180222T070622_20180330T070623_VVP036_INT40_G_weF_817B\\S1BB_20180222T070622_20180330T070623_VVP036_INT40_G_weF_817B_water_mask_clip.tif\n",
      "    clipping file asc_upper\\S1BB_20180210T070623_20180306T070623_VVP024_INT40_G_weF_B03F\\S1BB_20180210T070623_20180306T070623_VVP024_INT40_G_weF_B03F_water_mask.tif to create file asc_upper\\S1BB_20180210T070623_20180306T070623_VVP024_INT40_G_weF_B03F\\S1BB_20180210T070623_20180306T070623_VVP024_INT40_G_weF_B03F_water_mask_clip.tif\n",
      "    clipping file asc_upper\\S1BB_20180210T070623_20180318T070623_VVP036_INT40_G_weF_40E9\\S1BB_20180210T070623_20180318T070623_VVP036_INT40_G_weF_40E9_water_mask.tif to create file asc_upper\\S1BB_20180210T070623_20180318T070623_VVP036_INT40_G_weF_40E9\\S1BB_20180210T070623_20180318T070623_VVP036_INT40_G_weF_40E9_water_mask_clip.tif\n",
      "    clipping file asc_upper\\S1BB_20180210T070623_20180222T070622_VVP012_INT40_G_weF_940A\\S1BB_20180210T070623_20180222T070622_VVP012_INT40_G_weF_940A_water_mask.tif to create file asc_upper\\S1BB_20180210T070623_20180222T070622_VVP012_INT40_G_weF_940A\\S1BB_20180210T070623_20180222T070622_VVP012_INT40_G_weF_940A_water_mask_clip.tif\n",
      "    clipping file asc_upper\\S1BB_20180129T070623_20180306T070623_VVP036_INT40_G_weF_DDDE\\S1BB_20180129T070623_20180306T070623_VVP036_INT40_G_weF_DDDE_water_mask.tif to create file asc_upper\\S1BB_20180129T070623_20180306T070623_VVP036_INT40_G_weF_DDDE\\S1BB_20180129T070623_20180306T070623_VVP036_INT40_G_weF_DDDE_water_mask_clip.tif\n",
      "    clipping file asc_upper\\S1BB_20180129T070623_20180222T070622_VVP024_INT40_G_weF_115C\\S1BB_20180129T070623_20180222T070622_VVP024_INT40_G_weF_115C_water_mask.tif to create file asc_upper\\S1BB_20180129T070623_20180222T070622_VVP024_INT40_G_weF_115C\\S1BB_20180129T070623_20180222T070622_VVP024_INT40_G_weF_115C_water_mask_clip.tif\n",
      "    clipping file asc_upper\\S1BB_20180129T070623_20180210T070623_VVP012_INT40_G_weF_2A31\\S1BB_20180129T070623_20180210T070623_VVP012_INT40_G_weF_2A31_water_mask.tif to create file asc_upper\\S1BB_20180129T070623_20180210T070623_VVP012_INT40_G_weF_2A31\\S1BB_20180129T070623_20180210T070623_VVP012_INT40_G_weF_2A31_water_mask_clip.tif\n",
      "    clipping file asc_upper\\S1BB_20180117T070623_20180210T070623_VVP024_INT40_G_weF_6BDF\\S1BB_20180117T070623_20180210T070623_VVP024_INT40_G_weF_6BDF_water_mask.tif to create file asc_upper\\S1BB_20180117T070623_20180210T070623_VVP024_INT40_G_weF_6BDF\\S1BB_20180117T070623_20180210T070623_VVP024_INT40_G_weF_6BDF_water_mask_clip.tif\n",
      "    clipping file asc_upper\\S1BB_20180117T070623_20180222T070622_VVP036_INT40_G_weF_9729\\S1BB_20180117T070623_20180222T070622_VVP036_INT40_G_weF_9729_water_mask.tif to create file asc_upper\\S1BB_20180117T070623_20180222T070622_VVP036_INT40_G_weF_9729\\S1BB_20180117T070623_20180222T070622_VVP036_INT40_G_weF_9729_water_mask_clip.tif\n",
      "    clipping file asc_upper\\S1BB_20180117T070623_20180129T070623_VVP012_INT40_G_weF_C972\\S1BB_20180117T070623_20180129T070623_VVP012_INT40_G_weF_C972_water_mask.tif to create file asc_upper\\S1BB_20180117T070623_20180129T070623_VVP012_INT40_G_weF_C972\\S1BB_20180117T070623_20180129T070623_VVP012_INT40_G_weF_C972_water_mask_clip.tif\n",
      "    clipping file asc_upper\\S1BB_20180105T070624_20180210T070623_VVP036_INT40_G_weF_036D\\S1BB_20180105T070624_20180210T070623_VVP036_INT40_G_weF_036D_water_mask.tif to create file asc_upper\\S1BB_20180105T070624_20180210T070623_VVP036_INT40_G_weF_036D\\S1BB_20180105T070624_20180210T070623_VVP036_INT40_G_weF_036D_water_mask_clip.tif\n",
      "    clipping file asc_upper\\S1BB_20180105T070624_20180129T070623_VVP024_INT40_G_weF_8BA1\\S1BB_20180105T070624_20180129T070623_VVP024_INT40_G_weF_8BA1_water_mask.tif to create file asc_upper\\S1BB_20180105T070624_20180129T070623_VVP024_INT40_G_weF_8BA1\\S1BB_20180105T070624_20180129T070623_VVP024_INT40_G_weF_8BA1_water_mask_clip.tif\n",
      "    clipping file asc_upper\\S1BB_20171224T070624_20180129T070623_VVP036_INT40_G_weF_3E8B\\S1BB_20171224T070624_20180129T070623_VVP036_INT40_G_weF_3E8B_water_mask.tif to create file asc_upper\\S1BB_20171224T070624_20180129T070623_VVP036_INT40_G_weF_3E8B\\S1BB_20171224T070624_20180129T070623_VVP036_INT40_G_weF_3E8B_water_mask_clip.tif\n",
      "    clipping file asc_upper\\S1BB_20180105T070624_20180117T070623_VVP012_INT40_G_weF_81A8\\S1BB_20180105T070624_20180117T070623_VVP012_INT40_G_weF_81A8_water_mask.tif to create file asc_upper\\S1BB_20180105T070624_20180117T070623_VVP012_INT40_G_weF_81A8\\S1BB_20180105T070624_20180117T070623_VVP012_INT40_G_weF_81A8_water_mask_clip.tif\n",
      "    clipping file asc_upper\\S1BB_20171224T070624_20180105T070624_VVP012_INT40_G_weF_C54E\\S1BB_20171224T070624_20180105T070624_VVP012_INT40_G_weF_C54E_water_mask.tif to create file asc_upper\\S1BB_20171224T070624_20180105T070624_VVP012_INT40_G_weF_C54E\\S1BB_20171224T070624_20180105T070624_VVP012_INT40_G_weF_C54E_water_mask_clip.tif\n",
      "    clipping file asc_upper\\S1BB_20171224T070624_20180117T070623_VVP024_INT40_G_weF_6B9D\\S1BB_20171224T070624_20180117T070623_VVP024_INT40_G_weF_6B9D_water_mask.tif to create file asc_upper\\S1BB_20171224T070624_20180117T070623_VVP024_INT40_G_weF_6B9D\\S1BB_20171224T070624_20180117T070623_VVP024_INT40_G_weF_6B9D_water_mask_clip.tif\n",
      "    clipping file asc_upper\\S1BB_20171212T070625_20171224T070624_VVP012_INT40_G_weF_468E\\S1BB_20171212T070625_20171224T070624_VVP012_INT40_G_weF_468E_water_mask.tif to create file asc_upper\\S1BB_20171212T070625_20171224T070624_VVP012_INT40_G_weF_468E\\S1BB_20171212T070625_20171224T070624_VVP012_INT40_G_weF_468E_water_mask_clip.tif\n",
      "    clipping file asc_upper\\S1BB_20171212T070625_20180117T070623_VVP036_INT40_G_weF_91B7\\S1BB_20171212T070625_20180117T070623_VVP036_INT40_G_weF_91B7_water_mask.tif to create file asc_upper\\S1BB_20171212T070625_20180117T070623_VVP036_INT40_G_weF_91B7\\S1BB_20171212T070625_20180117T070623_VVP036_INT40_G_weF_91B7_water_mask_clip.tif\n",
      "    clipping file asc_upper\\S1BB_20171212T070625_20180105T070624_VVP024_INT40_G_weF_2712\\S1BB_20171212T070625_20180105T070624_VVP024_INT40_G_weF_2712_water_mask.tif to create file asc_upper\\S1BB_20171212T070625_20180105T070624_VVP024_INT40_G_weF_2712\\S1BB_20171212T070625_20180105T070624_VVP024_INT40_G_weF_2712_water_mask_clip.tif\n",
      "    clipping file asc_upper\\S1BB_20171130T070625_20180105T070624_VVP036_INT40_G_weF_1BE6\\S1BB_20171130T070625_20180105T070624_VVP036_INT40_G_weF_1BE6_water_mask.tif to create file asc_upper\\S1BB_20171130T070625_20180105T070624_VVP036_INT40_G_weF_1BE6\\S1BB_20171130T070625_20180105T070624_VVP036_INT40_G_weF_1BE6_water_mask_clip.tif\n",
      "    clipping file asc_upper\\S1BB_20171130T070625_20171224T070624_VVP024_INT40_G_weF_9394\\S1BB_20171130T070625_20171224T070624_VVP024_INT40_G_weF_9394_water_mask.tif to create file asc_upper\\S1BB_20171130T070625_20171224T070624_VVP024_INT40_G_weF_9394\\S1BB_20171130T070625_20171224T070624_VVP024_INT40_G_weF_9394_water_mask_clip.tif\n",
      "    clipping file asc_upper\\S1BB_20171118T070625_20171224T070624_VVP036_INT40_G_weF_FAA6\\S1BB_20171118T070625_20171224T070624_VVP036_INT40_G_weF_FAA6_water_mask.tif to create file asc_upper\\S1BB_20171118T070625_20171224T070624_VVP036_INT40_G_weF_FAA6\\S1BB_20171118T070625_20171224T070624_VVP036_INT40_G_weF_FAA6_water_mask_clip.tif\n",
      "    clipping file asc_upper\\S1BB_20171130T070625_20171212T070625_VVP012_INT40_G_weF_C481\\S1BB_20171130T070625_20171212T070625_VVP012_INT40_G_weF_C481_water_mask.tif to create file asc_upper\\S1BB_20171130T070625_20171212T070625_VVP012_INT40_G_weF_C481\\S1BB_20171130T070625_20171212T070625_VVP012_INT40_G_weF_C481_water_mask_clip.tif\n",
      "    clipping file asc_upper\\S1BB_20171118T070625_20171212T070625_VVP024_INT40_G_weF_BD1E\\S1BB_20171118T070625_20171212T070625_VVP024_INT40_G_weF_BD1E_water_mask.tif to create file asc_upper\\S1BB_20171118T070625_20171212T070625_VVP024_INT40_G_weF_BD1E\\S1BB_20171118T070625_20171212T070625_VVP024_INT40_G_weF_BD1E_water_mask_clip.tif\n",
      "    clipping file asc_upper\\S1BB_20171118T070625_20171130T070625_VVP012_INT40_G_weF_4FE8\\S1BB_20171118T070625_20171130T070625_VVP012_INT40_G_weF_4FE8_water_mask.tif to create file asc_upper\\S1BB_20171118T070625_20171130T070625_VVP012_INT40_G_weF_4FE8\\S1BB_20171118T070625_20171130T070625_VVP012_INT40_G_weF_4FE8_water_mask_clip.tif\n",
      "    clipping file asc_upper\\S1BB_20171106T070626_20171130T070625_VVP024_INT40_G_weF_5A64\\S1BB_20171106T070626_20171130T070625_VVP024_INT40_G_weF_5A64_water_mask.tif to create file asc_upper\\S1BB_20171106T070626_20171130T070625_VVP024_INT40_G_weF_5A64\\S1BB_20171106T070626_20171130T070625_VVP024_INT40_G_weF_5A64_water_mask_clip.tif\n",
      "    clipping file asc_upper\\S1BB_20171106T070626_20171118T070625_VVP012_INT40_G_weF_F8D0\\S1BB_20171106T070626_20171118T070625_VVP012_INT40_G_weF_F8D0_water_mask.tif to create file asc_upper\\S1BB_20171106T070626_20171118T070625_VVP012_INT40_G_weF_F8D0\\S1BB_20171106T070626_20171118T070625_VVP012_INT40_G_weF_F8D0_water_mask_clip.tif\n",
      "    clipping file asc_upper\\S1BB_20171106T070626_20171212T070625_VVP036_INT40_G_weF_0C52\\S1BB_20171106T070626_20171212T070625_VVP036_INT40_G_weF_0C52_water_mask.tif to create file asc_upper\\S1BB_20171106T070626_20171212T070625_VVP036_INT40_G_weF_0C52\\S1BB_20171106T070626_20171212T070625_VVP036_INT40_G_weF_0C52_water_mask_clip.tif\n",
      "    clipping file asc_upper\\S1BB_20171025T070626_20171130T070625_VVP036_INT40_G_weF_C325\\S1BB_20171025T070626_20171130T070625_VVP036_INT40_G_weF_C325_water_mask.tif to create file asc_upper\\S1BB_20171025T070626_20171130T070625_VVP036_INT40_G_weF_C325\\S1BB_20171025T070626_20171130T070625_VVP036_INT40_G_weF_C325_water_mask_clip.tif\n",
      "    clipping file asc_upper\\S1BB_20171025T070626_20171118T070625_VVP024_INT40_G_weF_2B82\\S1BB_20171025T070626_20171118T070625_VVP024_INT40_G_weF_2B82_water_mask.tif to create file asc_upper\\S1BB_20171025T070626_20171118T070625_VVP024_INT40_G_weF_2B82\\S1BB_20171025T070626_20171118T070625_VVP024_INT40_G_weF_2B82_water_mask_clip.tif\n",
      "    clipping file asc_upper\\S1BB_20171013T070626_20171118T070625_VVP036_INT40_G_weF_99DA\\S1BB_20171013T070626_20171118T070625_VVP036_INT40_G_weF_99DA_water_mask.tif to create file asc_upper\\S1BB_20171013T070626_20171118T070625_VVP036_INT40_G_weF_99DA\\S1BB_20171013T070626_20171118T070625_VVP036_INT40_G_weF_99DA_water_mask_clip.tif\n",
      "    clipping file asc_upper\\S1BB_20171025T070626_20171106T070626_VVP012_INT40_G_weF_5FDC\\S1BB_20171025T070626_20171106T070626_VVP012_INT40_G_weF_5FDC_water_mask.tif to create file asc_upper\\S1BB_20171025T070626_20171106T070626_VVP012_INT40_G_weF_5FDC\\S1BB_20171025T070626_20171106T070626_VVP012_INT40_G_weF_5FDC_water_mask_clip.tif\n",
      "    clipping file asc_upper\\S1BB_20171013T070626_20171106T070626_VVP024_INT40_G_weF_C11D\\S1BB_20171013T070626_20171106T070626_VVP024_INT40_G_weF_C11D_water_mask.tif to create file asc_upper\\S1BB_20171013T070626_20171106T070626_VVP024_INT40_G_weF_C11D\\S1BB_20171013T070626_20171106T070626_VVP024_INT40_G_weF_C11D_water_mask_clip.tif\n",
      "    clipping file asc_upper\\S1BB_20171001T070626_20171106T070626_VVP036_INT40_G_weF_BEF2\\S1BB_20171001T070626_20171106T070626_VVP036_INT40_G_weF_BEF2_water_mask.tif to create file asc_upper\\S1BB_20171001T070626_20171106T070626_VVP036_INT40_G_weF_BEF2\\S1BB_20171001T070626_20171106T070626_VVP036_INT40_G_weF_BEF2_water_mask_clip.tif\n",
      "    clipping file asc_upper\\S1BB_20171001T070626_20171025T070626_VVP024_INT40_G_weF_EA16\\S1BB_20171001T070626_20171025T070626_VVP024_INT40_G_weF_EA16_water_mask.tif to create file asc_upper\\S1BB_20171001T070626_20171025T070626_VVP024_INT40_G_weF_EA16\\S1BB_20171001T070626_20171025T070626_VVP024_INT40_G_weF_EA16_water_mask_clip.tif\n",
      "    clipping file asc_upper\\S1BB_20171013T070626_20171025T070626_VVP012_INT40_G_weF_6B1C\\S1BB_20171013T070626_20171025T070626_VVP012_INT40_G_weF_6B1C_water_mask.tif to create file asc_upper\\S1BB_20171013T070626_20171025T070626_VVP012_INT40_G_weF_6B1C\\S1BB_20171013T070626_20171025T070626_VVP012_INT40_G_weF_6B1C_water_mask_clip.tif\n",
      "    clipping file asc_upper\\S1BB_20170919T070625_20171025T070626_VVP036_INT40_G_weF_924D\\S1BB_20170919T070625_20171025T070626_VVP036_INT40_G_weF_924D_water_mask.tif to create file asc_upper\\S1BB_20170919T070625_20171025T070626_VVP036_INT40_G_weF_924D\\S1BB_20170919T070625_20171025T070626_VVP036_INT40_G_weF_924D_water_mask_clip.tif\n",
      "    clipping file asc_upper\\S1BB_20171001T070626_20171013T070626_VVP012_INT40_G_weF_AE3E\\S1BB_20171001T070626_20171013T070626_VVP012_INT40_G_weF_AE3E_water_mask.tif to create file asc_upper\\S1BB_20171001T070626_20171013T070626_VVP012_INT40_G_weF_AE3E\\S1BB_20171001T070626_20171013T070626_VVP012_INT40_G_weF_AE3E_water_mask_clip.tif\n",
      "    clipping file asc_upper\\S1BB_20170919T070625_20171001T070626_VVP012_INT40_G_weF_DA6E\\S1BB_20170919T070625_20171001T070626_VVP012_INT40_G_weF_DA6E_water_mask.tif to create file asc_upper\\S1BB_20170919T070625_20171001T070626_VVP012_INT40_G_weF_DA6E\\S1BB_20170919T070625_20171001T070626_VVP012_INT40_G_weF_DA6E_water_mask_clip.tif\n",
      "    clipping file asc_upper\\S1BB_20170919T070625_20171013T070626_VVP024_INT40_G_weF_A645\\S1BB_20170919T070625_20171013T070626_VVP024_INT40_G_weF_A645_water_mask.tif to create file asc_upper\\S1BB_20170919T070625_20171013T070626_VVP024_INT40_G_weF_A645\\S1BB_20170919T070625_20171013T070626_VVP024_INT40_G_weF_A645_water_mask_clip.tif\n",
      "    clipping file asc_upper\\S1BB_20170907T070625_20171013T070626_VVP036_INT40_G_weF_1567\\S1BB_20170907T070625_20171013T070626_VVP036_INT40_G_weF_1567_water_mask.tif to create file asc_upper\\S1BB_20170907T070625_20171013T070626_VVP036_INT40_G_weF_1567\\S1BB_20170907T070625_20171013T070626_VVP036_INT40_G_weF_1567_water_mask_clip.tif\n",
      "    clipping file asc_upper\\S1BB_20170907T070625_20170919T070625_VVP012_INT40_G_weF_BBE2\\S1BB_20170907T070625_20170919T070625_VVP012_INT40_G_weF_BBE2_water_mask.tif to create file asc_upper\\S1BB_20170907T070625_20170919T070625_VVP012_INT40_G_weF_BBE2\\S1BB_20170907T070625_20170919T070625_VVP012_INT40_G_weF_BBE2_water_mask_clip.tif\n",
      "    clipping file asc_upper\\S1BB_20170907T070625_20171001T070626_VVP024_INT40_G_weF_279F\\S1BB_20170907T070625_20171001T070626_VVP024_INT40_G_weF_279F_water_mask.tif to create file asc_upper\\S1BB_20170907T070625_20171001T070626_VVP024_INT40_G_weF_279F\\S1BB_20170907T070625_20171001T070626_VVP024_INT40_G_weF_279F_water_mask_clip.tif\n",
      "    clipping file asc_upper\\S1BB_20170814T070624_20170919T070625_VVP036_INT40_G_weF_2AC9\\S1BB_20170814T070624_20170919T070625_VVP036_INT40_G_weF_2AC9_water_mask.tif to create file asc_upper\\S1BB_20170814T070624_20170919T070625_VVP036_INT40_G_weF_2AC9\\S1BB_20170814T070624_20170919T070625_VVP036_INT40_G_weF_2AC9_water_mask_clip.tif\n",
      "    clipping file asc_upper\\S1BB_20170814T070624_20171001T070626_VVP048_INT40_G_weF_AC7D\\S1BB_20170814T070624_20171001T070626_VVP048_INT40_G_weF_AC7D_water_mask.tif to create file asc_upper\\S1BB_20170814T070624_20171001T070626_VVP048_INT40_G_weF_AC7D\\S1BB_20170814T070624_20171001T070626_VVP048_INT40_G_weF_AC7D_water_mask_clip.tif\n",
      "    clipping file asc_upper\\S1BB_20170814T070624_20170907T070625_VVP024_INT40_G_weF_9AFE\\S1BB_20170814T070624_20170907T070625_VVP024_INT40_G_weF_9AFE_water_mask.tif to create file asc_upper\\S1BB_20170814T070624_20170907T070625_VVP024_INT40_G_weF_9AFE\\S1BB_20170814T070624_20170907T070625_VVP024_INT40_G_weF_9AFE_water_mask_clip.tif\n",
      "    clipping file asc_upper\\S1BB_20170802T070623_20170907T070625_VVP036_INT40_G_weF_0F5E\\S1BB_20170802T070623_20170907T070625_VVP036_INT40_G_weF_0F5E_water_mask.tif to create file asc_upper\\S1BB_20170802T070623_20170907T070625_VVP036_INT40_G_weF_0F5E\\S1BB_20170802T070623_20170907T070625_VVP036_INT40_G_weF_0F5E_water_mask_clip.tif\n",
      "    clipping file asc_upper\\S1BB_20170802T070623_20170919T070625_VVP048_INT40_G_weF_BD85\\S1BB_20170802T070623_20170919T070625_VVP048_INT40_G_weF_BD85_water_mask.tif to create file asc_upper\\S1BB_20170802T070623_20170919T070625_VVP048_INT40_G_weF_BD85\\S1BB_20170802T070623_20170919T070625_VVP048_INT40_G_weF_BD85_water_mask_clip.tif\n",
      "    clipping file asc_upper\\S1BB_20170802T070623_20170814T070624_VVP012_INT40_G_weF_272F\\S1BB_20170802T070623_20170814T070624_VVP012_INT40_G_weF_272F_water_mask.tif to create file asc_upper\\S1BB_20170802T070623_20170814T070624_VVP012_INT40_G_weF_272F\\S1BB_20170802T070623_20170814T070624_VVP012_INT40_G_weF_272F_water_mask_clip.tif\n",
      "    clipping file asc_upper\\S1BB_20170721T070623_20170907T070625_VVP048_INT40_G_weF_BCAF\\S1BB_20170721T070623_20170907T070625_VVP048_INT40_G_weF_BCAF_water_mask.tif to create file asc_upper\\S1BB_20170721T070623_20170907T070625_VVP048_INT40_G_weF_BCAF\\S1BB_20170721T070623_20170907T070625_VVP048_INT40_G_weF_BCAF_water_mask_clip.tif\n",
      "    clipping file asc_upper\\S1BB_20170721T070623_20170814T070624_VVP024_INT40_G_weF_8680\\S1BB_20170721T070623_20170814T070624_VVP024_INT40_G_weF_8680_water_mask.tif to create file asc_upper\\S1BB_20170721T070623_20170814T070624_VVP024_INT40_G_weF_8680\\S1BB_20170721T070623_20170814T070624_VVP024_INT40_G_weF_8680_water_mask_clip.tif\n",
      "    clipping file asc_upper\\S1BB_20170709T070622_20170814T070624_VVP036_INT40_G_weF_7B5F\\S1BB_20170709T070622_20170814T070624_VVP036_INT40_G_weF_7B5F_water_mask.tif to create file asc_upper\\S1BB_20170709T070622_20170814T070624_VVP036_INT40_G_weF_7B5F\\S1BB_20170709T070622_20170814T070624_VVP036_INT40_G_weF_7B5F_water_mask_clip.tif\n",
      "    clipping file asc_upper\\S1BB_20170721T070623_20170802T070623_VVP012_INT40_G_weF_64D0\\S1BB_20170721T070623_20170802T070623_VVP012_INT40_G_weF_64D0_water_mask.tif to create file asc_upper\\S1BB_20170721T070623_20170802T070623_VVP012_INT40_G_weF_64D0\\S1BB_20170721T070623_20170802T070623_VVP012_INT40_G_weF_64D0_water_mask_clip.tif\n",
      "    clipping file asc_upper\\S1BB_20170709T070622_20170802T070623_VVP024_INT40_G_weF_9192\\S1BB_20170709T070622_20170802T070623_VVP024_INT40_G_weF_9192_water_mask.tif to create file asc_upper\\S1BB_20170709T070622_20170802T070623_VVP024_INT40_G_weF_9192\\S1BB_20170709T070622_20170802T070623_VVP024_INT40_G_weF_9192_water_mask_clip.tif\n",
      "    clipping file asc_upper\\S1BB_20170709T070622_20170721T070623_VVP012_INT40_G_weF_3C0A\\S1BB_20170709T070622_20170721T070623_VVP012_INT40_G_weF_3C0A_water_mask.tif to create file asc_upper\\S1BB_20170709T070622_20170721T070623_VVP012_INT40_G_weF_3C0A\\S1BB_20170709T070622_20170721T070623_VVP012_INT40_G_weF_3C0A_water_mask_clip.tif\n",
      "    clipping file asc_upper\\S1BB_20170627T070621_20170802T070623_VVP036_INT40_G_weF_F326\\S1BB_20170627T070621_20170802T070623_VVP036_INT40_G_weF_F326_water_mask.tif to create file asc_upper\\S1BB_20170627T070621_20170802T070623_VVP036_INT40_G_weF_F326\\S1BB_20170627T070621_20170802T070623_VVP036_INT40_G_weF_F326_water_mask_clip.tif\n",
      "    clipping file asc_upper\\S1BB_20170627T070621_20170709T070622_VVP012_INT40_G_weF_9EE3\\S1BB_20170627T070621_20170709T070622_VVP012_INT40_G_weF_9EE3_water_mask.tif to create file asc_upper\\S1BB_20170627T070621_20170709T070622_VVP012_INT40_G_weF_9EE3\\S1BB_20170627T070621_20170709T070622_VVP012_INT40_G_weF_9EE3_water_mask_clip.tif\n",
      "    clipping file asc_upper\\S1BB_20170627T070621_20170721T070623_VVP024_INT40_G_weF_11E7\\S1BB_20170627T070621_20170721T070623_VVP024_INT40_G_weF_11E7_water_mask.tif to create file asc_upper\\S1BB_20170627T070621_20170721T070623_VVP024_INT40_G_weF_11E7\\S1BB_20170627T070621_20170721T070623_VVP024_INT40_G_weF_11E7_water_mask_clip.tif\n",
      "    clipping file asc_upper\\S1BB_20170615T070620_20170709T070622_VVP024_INT40_G_weF_48F7\\S1BB_20170615T070620_20170709T070622_VVP024_INT40_G_weF_48F7_water_mask.tif to create file asc_upper\\S1BB_20170615T070620_20170709T070622_VVP024_INT40_G_weF_48F7\\S1BB_20170615T070620_20170709T070622_VVP024_INT40_G_weF_48F7_water_mask_clip.tif\n",
      "    clipping file asc_upper\\S1BB_20170615T070620_20170721T070623_VVP036_INT40_G_weF_5B09\\S1BB_20170615T070620_20170721T070623_VVP036_INT40_G_weF_5B09_water_mask.tif to create file asc_upper\\S1BB_20170615T070620_20170721T070623_VVP036_INT40_G_weF_5B09\\S1BB_20170615T070620_20170721T070623_VVP036_INT40_G_weF_5B09_water_mask_clip.tif\n",
      "    clipping file asc_upper\\S1BB_20170603T070620_20170627T070621_VVP024_INT40_G_weF_2DDA\\S1BB_20170603T070620_20170627T070621_VVP024_INT40_G_weF_2DDA_water_mask.tif to create file asc_upper\\S1BB_20170603T070620_20170627T070621_VVP024_INT40_G_weF_2DDA\\S1BB_20170603T070620_20170627T070621_VVP024_INT40_G_weF_2DDA_water_mask_clip.tif\n",
      "    clipping file asc_upper\\S1BB_20170603T070620_20170709T070622_VVP036_INT40_G_weF_6078\\S1BB_20170603T070620_20170709T070622_VVP036_INT40_G_weF_6078_water_mask.tif to create file asc_upper\\S1BB_20170603T070620_20170709T070622_VVP036_INT40_G_weF_6078\\S1BB_20170603T070620_20170709T070622_VVP036_INT40_G_weF_6078_water_mask_clip.tif\n",
      "    clipping file asc_upper\\S1BB_20170615T070620_20170627T070621_VVP012_INT40_G_weF_50FA\\S1BB_20170615T070620_20170627T070621_VVP012_INT40_G_weF_50FA_water_mask.tif to create file asc_upper\\S1BB_20170615T070620_20170627T070621_VVP012_INT40_G_weF_50FA\\S1BB_20170615T070620_20170627T070621_VVP012_INT40_G_weF_50FA_water_mask_clip.tif\n",
      "    clipping file asc_upper\\S1BB_20170522T070619_20170627T070621_VVP036_INT40_G_weF_57BB\\S1BB_20170522T070619_20170627T070621_VVP036_INT40_G_weF_57BB_water_mask.tif to create file asc_upper\\S1BB_20170522T070619_20170627T070621_VVP036_INT40_G_weF_57BB\\S1BB_20170522T070619_20170627T070621_VVP036_INT40_G_weF_57BB_water_mask_clip.tif\n",
      "    clipping file asc_upper\\S1BB_20170603T070620_20170615T070620_VVP012_INT40_G_weF_77A3\\S1BB_20170603T070620_20170615T070620_VVP012_INT40_G_weF_77A3_water_mask.tif to create file asc_upper\\S1BB_20170603T070620_20170615T070620_VVP012_INT40_G_weF_77A3\\S1BB_20170603T070620_20170615T070620_VVP012_INT40_G_weF_77A3_water_mask_clip.tif\n",
      "    clipping file asc_upper\\S1BB_20170510T070618_20170615T070620_VVP036_INT40_G_weF_E8E7\\S1BB_20170510T070618_20170615T070620_VVP036_INT40_G_weF_E8E7_water_mask.tif to create file asc_upper\\S1BB_20170510T070618_20170615T070620_VVP036_INT40_G_weF_E8E7\\S1BB_20170510T070618_20170615T070620_VVP036_INT40_G_weF_E8E7_water_mask_clip.tif\n",
      "    clipping file asc_upper\\S1BB_20170522T070619_20170615T070620_VVP024_INT40_G_weF_0DB6\\S1BB_20170522T070619_20170615T070620_VVP024_INT40_G_weF_0DB6_water_mask.tif to create file asc_upper\\S1BB_20170522T070619_20170615T070620_VVP024_INT40_G_weF_0DB6\\S1BB_20170522T070619_20170615T070620_VVP024_INT40_G_weF_0DB6_water_mask_clip.tif\n",
      "    clipping file asc_upper\\S1BB_20170522T070619_20170603T070620_VVP012_INT40_G_weF_A829\\S1BB_20170522T070619_20170603T070620_VVP012_INT40_G_weF_A829_water_mask.tif to create file asc_upper\\S1BB_20170522T070619_20170603T070620_VVP012_INT40_G_weF_A829\\S1BB_20170522T070619_20170603T070620_VVP012_INT40_G_weF_A829_water_mask_clip.tif\n",
      "    clipping file asc_upper\\S1BB_20170510T070618_20170603T070620_VVP024_INT40_G_weF_F585\\S1BB_20170510T070618_20170603T070620_VVP024_INT40_G_weF_F585_water_mask.tif to create file asc_upper\\S1BB_20170510T070618_20170603T070620_VVP024_INT40_G_weF_F585\\S1BB_20170510T070618_20170603T070620_VVP024_INT40_G_weF_F585_water_mask_clip.tif\n",
      "    clipping file asc_upper\\S1BB_20170510T070618_20170522T070619_VVP012_INT40_G_weF_64AA\\S1BB_20170510T070618_20170522T070619_VVP012_INT40_G_weF_64AA_water_mask.tif to create file asc_upper\\S1BB_20170510T070618_20170522T070619_VVP012_INT40_G_weF_64AA\\S1BB_20170510T070618_20170522T070619_VVP012_INT40_G_weF_64AA_water_mask_clip.tif\n",
      "    clipping file asc_upper\\S1BB_20170428T070618_20170603T070620_VVP036_INT40_G_weF_B11C\\S1BB_20170428T070618_20170603T070620_VVP036_INT40_G_weF_B11C_water_mask.tif to create file asc_upper\\S1BB_20170428T070618_20170603T070620_VVP036_INT40_G_weF_B11C\\S1BB_20170428T070618_20170603T070620_VVP036_INT40_G_weF_B11C_water_mask_clip.tif\n",
      "    clipping file asc_upper\\S1BB_20170428T070618_20170522T070619_VVP024_INT40_G_weF_4F99\\S1BB_20170428T070618_20170522T070619_VVP024_INT40_G_weF_4F99_water_mask.tif to create file asc_upper\\S1BB_20170428T070618_20170522T070619_VVP024_INT40_G_weF_4F99\\S1BB_20170428T070618_20170522T070619_VVP024_INT40_G_weF_4F99_water_mask_clip.tif\n",
      "    clipping file asc_upper\\S1BB_20170416T070617_20170522T070619_VVP036_INT40_G_weF_6FA2\\S1BB_20170416T070617_20170522T070619_VVP036_INT40_G_weF_6FA2_water_mask.tif to create file asc_upper\\S1BB_20170416T070617_20170522T070619_VVP036_INT40_G_weF_6FA2\\S1BB_20170416T070617_20170522T070619_VVP036_INT40_G_weF_6FA2_water_mask_clip.tif\n",
      "    clipping file asc_upper\\S1BB_20170416T070617_20170510T070618_VVP024_INT40_G_weF_6172\\S1BB_20170416T070617_20170510T070618_VVP024_INT40_G_weF_6172_water_mask.tif to create file asc_upper\\S1BB_20170416T070617_20170510T070618_VVP024_INT40_G_weF_6172\\S1BB_20170416T070617_20170510T070618_VVP024_INT40_G_weF_6172_water_mask_clip.tif\n",
      "    clipping file asc_upper\\S1BB_20170428T070618_20170510T070618_VVP012_INT40_G_weF_E51B\\S1BB_20170428T070618_20170510T070618_VVP012_INT40_G_weF_E51B_water_mask.tif to create file asc_upper\\S1BB_20170428T070618_20170510T070618_VVP012_INT40_G_weF_E51B\\S1BB_20170428T070618_20170510T070618_VVP012_INT40_G_weF_E51B_water_mask_clip.tif\n",
      "    clipping file asc_upper\\S1BB_20170404T070617_20170510T070618_VVP036_INT40_G_weF_B0D9\\S1BB_20170404T070617_20170510T070618_VVP036_INT40_G_weF_B0D9_water_mask.tif to create file asc_upper\\S1BB_20170404T070617_20170510T070618_VVP036_INT40_G_weF_B0D9\\S1BB_20170404T070617_20170510T070618_VVP036_INT40_G_weF_B0D9_water_mask_clip.tif\n",
      "    clipping file asc_upper\\S1BB_20170416T070617_20170428T070618_VVP012_INT40_G_weF_5DC7\\S1BB_20170416T070617_20170428T070618_VVP012_INT40_G_weF_5DC7_water_mask.tif to create file asc_upper\\S1BB_20170416T070617_20170428T070618_VVP012_INT40_G_weF_5DC7\\S1BB_20170416T070617_20170428T070618_VVP012_INT40_G_weF_5DC7_water_mask_clip.tif\n",
      "    clipping file asc_upper\\S1BB_20170404T070617_20170416T070617_VVP012_INT40_G_weF_8F15\\S1BB_20170404T070617_20170416T070617_VVP012_INT40_G_weF_8F15_water_mask.tif to create file asc_upper\\S1BB_20170404T070617_20170416T070617_VVP012_INT40_G_weF_8F15\\S1BB_20170404T070617_20170416T070617_VVP012_INT40_G_weF_8F15_water_mask_clip.tif\n",
      "    clipping file asc_upper\\S1BB_20170323T070616_20170428T070618_VVP036_INT40_G_weF_57CE\\S1BB_20170323T070616_20170428T070618_VVP036_INT40_G_weF_57CE_water_mask.tif to create file asc_upper\\S1BB_20170323T070616_20170428T070618_VVP036_INT40_G_weF_57CE\\S1BB_20170323T070616_20170428T070618_VVP036_INT40_G_weF_57CE_water_mask_clip.tif\n",
      "    clipping file asc_upper\\S1BB_20170404T070617_20170428T070618_VVP024_INT40_G_weF_C91A\\S1BB_20170404T070617_20170428T070618_VVP024_INT40_G_weF_C91A_water_mask.tif to create file asc_upper\\S1BB_20170404T070617_20170428T070618_VVP024_INT40_G_weF_C91A\\S1BB_20170404T070617_20170428T070618_VVP024_INT40_G_weF_C91A_water_mask_clip.tif\n",
      "    clipping file asc_upper\\S1BB_20170323T070616_20170404T070617_VVP012_INT40_G_weF_A050\\S1BB_20170323T070616_20170404T070617_VVP012_INT40_G_weF_A050_water_mask.tif to create file asc_upper\\S1BB_20170323T070616_20170404T070617_VVP012_INT40_G_weF_A050\\S1BB_20170323T070616_20170404T070617_VVP012_INT40_G_weF_A050_water_mask_clip.tif\n",
      "    clipping file asc_upper\\S1BB_20170323T070616_20170416T070617_VVP024_INT40_G_weF_1D2F\\S1BB_20170323T070616_20170416T070617_VVP024_INT40_G_weF_1D2F_water_mask.tif to create file asc_upper\\S1BB_20170323T070616_20170416T070617_VVP024_INT40_G_weF_1D2F\\S1BB_20170323T070616_20170416T070617_VVP024_INT40_G_weF_1D2F_water_mask_clip.tif\n",
      "    clipping file asc_upper\\S1BB_20170311T070616_20170416T070617_VVP036_INT40_G_weF_059A\\S1BB_20170311T070616_20170416T070617_VVP036_INT40_G_weF_059A_water_mask.tif to create file asc_upper\\S1BB_20170311T070616_20170416T070617_VVP036_INT40_G_weF_059A\\S1BB_20170311T070616_20170416T070617_VVP036_INT40_G_weF_059A_water_mask_clip.tif\n",
      "    clipping file asc_upper\\S1BB_20170311T070616_20170404T070617_VVP024_INT40_G_weF_CD81\\S1BB_20170311T070616_20170404T070617_VVP024_INT40_G_weF_CD81_water_mask.tif to create file asc_upper\\S1BB_20170311T070616_20170404T070617_VVP024_INT40_G_weF_CD81\\S1BB_20170311T070616_20170404T070617_VVP024_INT40_G_weF_CD81_water_mask_clip.tif\n",
      "    clipping file asc_upper\\S1BB_20170227T070616_20170323T070616_VVP024_INT40_G_weF_FFCF\\S1BB_20170227T070616_20170323T070616_VVP024_INT40_G_weF_FFCF_water_mask.tif to create file asc_upper\\S1BB_20170227T070616_20170323T070616_VVP024_INT40_G_weF_FFCF\\S1BB_20170227T070616_20170323T070616_VVP024_INT40_G_weF_FFCF_water_mask_clip.tif\n",
      "    clipping file asc_upper\\S1BB_20170311T070616_20170323T070616_VVP012_INT40_G_weF_3383\\S1BB_20170311T070616_20170323T070616_VVP012_INT40_G_weF_3383_water_mask.tif to create file asc_upper\\S1BB_20170311T070616_20170323T070616_VVP012_INT40_G_weF_3383\\S1BB_20170311T070616_20170323T070616_VVP012_INT40_G_weF_3383_water_mask_clip.tif\n",
      "    clipping file asc_upper\\S1BB_20170227T070616_20170404T070617_VVP036_INT40_G_weF_2FAF\\S1BB_20170227T070616_20170404T070617_VVP036_INT40_G_weF_2FAF_water_mask.tif to create file asc_upper\\S1BB_20170227T070616_20170404T070617_VVP036_INT40_G_weF_2FAF\\S1BB_20170227T070616_20170404T070617_VVP036_INT40_G_weF_2FAF_water_mask_clip.tif\n",
      "    clipping file asc_upper\\S1BB_20170227T070616_20170311T070616_VVP012_INT40_G_weF_A075\\S1BB_20170227T070616_20170311T070616_VVP012_INT40_G_weF_A075_water_mask.tif to create file asc_upper\\S1BB_20170227T070616_20170311T070616_VVP012_INT40_G_weF_A075\\S1BB_20170227T070616_20170311T070616_VVP012_INT40_G_weF_A075_water_mask_clip.tif\n",
      "    clipping file asc_upper\\S1BB_20170215T070616_20170323T070616_VVP036_INT40_G_weF_BA45\\S1BB_20170215T070616_20170323T070616_VVP036_INT40_G_weF_BA45_water_mask.tif to create file asc_upper\\S1BB_20170215T070616_20170323T070616_VVP036_INT40_G_weF_BA45\\S1BB_20170215T070616_20170323T070616_VVP036_INT40_G_weF_BA45_water_mask_clip.tif\n",
      "    clipping file asc_upper\\S1BB_20170215T070616_20170227T070616_VVP012_INT40_G_weF_149C\\S1BB_20170215T070616_20170227T070616_VVP012_INT40_G_weF_149C_water_mask.tif to create file asc_upper\\S1BB_20170215T070616_20170227T070616_VVP012_INT40_G_weF_149C\\S1BB_20170215T070616_20170227T070616_VVP012_INT40_G_weF_149C_water_mask_clip.tif\n",
      "    clipping file asc_upper\\S1BB_20170215T070616_20170311T070616_VVP024_INT40_G_weF_6CDB\\S1BB_20170215T070616_20170311T070616_VVP024_INT40_G_weF_6CDB_water_mask.tif to create file asc_upper\\S1BB_20170215T070616_20170311T070616_VVP024_INT40_G_weF_6CDB\\S1BB_20170215T070616_20170311T070616_VVP024_INT40_G_weF_6CDB_water_mask_clip.tif\n",
      "    clipping file asc_upper\\S1AB_20170209T070658_20170311T070616_VVP030_INT40_G_weF_60B1\\S1AB_20170209T070658_20170311T070616_VVP030_INT40_G_weF_60B1_water_mask.tif to create file asc_upper\\S1AB_20170209T070658_20170311T070616_VVP030_INT40_G_weF_60B1\\S1AB_20170209T070658_20170311T070616_VVP030_INT40_G_weF_60B1_water_mask_clip.tif\n",
      "    clipping file asc_upper\\S1AB_20170209T070658_20170227T070616_VVP018_INT40_G_weF_D289\\S1AB_20170209T070658_20170227T070616_VVP018_INT40_G_weF_D289_water_mask.tif to create file asc_upper\\S1AB_20170209T070658_20170227T070616_VVP018_INT40_G_weF_D289\\S1AB_20170209T070658_20170227T070616_VVP018_INT40_G_weF_D289_water_mask_clip.tif\n",
      "    clipping file asc_upper\\S1AB_20170209T070658_20170215T070616_VVP006_INT40_G_weF_01BF\\S1AB_20170209T070658_20170215T070616_VVP006_INT40_G_weF_01BF_water_mask.tif to create file asc_upper\\S1AB_20170209T070658_20170215T070616_VVP006_INT40_G_weF_01BF\\S1AB_20170209T070658_20170215T070616_VVP006_INT40_G_weF_01BF_water_mask_clip.tif\n"
     ]
    }
   ],
   "source": [
    "cutGeotiffs.cutFiles(to_clip)"
   ]
  },
  {
   "cell_type": "markdown",
   "metadata": {},
   "source": [
    "Done!"
   ]
  }
 ],
 "metadata": {
  "interpreter": {
   "hash": "d0805dd0a63a9aa5b56409bdcec0789bd27e38c20d1aed221282d406ad418a8c"
  },
  "kernelspec": {
   "display_name": "Python 3 (ipykernel)",
   "language": "python",
   "name": "python3"
  },
  "language_info": {
   "codemirror_mode": {
    "name": "ipython",
    "version": 3
   },
   "file_extension": ".py",
   "mimetype": "text/x-python",
   "name": "python",
   "nbconvert_exporter": "python",
   "pygments_lexer": "ipython3",
   "version": "3.9.7"
  },
  "metadata": {
   "interpreter": {
    "hash": "d0805dd0a63a9aa5b56409bdcec0789bd27e38c20d1aed221282d406ad418a8c"
   }
  }
 },
 "nbformat": 4,
 "nbformat_minor": 4
}
