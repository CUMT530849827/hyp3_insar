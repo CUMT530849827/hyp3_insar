{
 "cells": [
  {
   "cell_type": "markdown",
   "id": "5f4c219d-d9da-4882-b145-8d252ef176aa",
   "metadata": {},
   "source": [
    "## Setup"
   ]
  },
  {
   "cell_type": "code",
   "execution_count": 1,
   "id": "f5a047da-ae60-440d-833b-c69540711e7d",
   "metadata": {},
   "outputs": [],
   "source": [
    "%matplotlib inline\n",
    "import glob\n",
    "import sys\n",
    "import shutil\n",
    "import os\n",
    "import matplotlib.pyplot as plt\n",
    "from mintpy.utils import readfile, writefile, utils as ut\n",
    "from mintpy import workflow, view, tsview, plot_network, plot_transection, plot_coherence_matrix"
   ]
  },
  {
   "cell_type": "code",
   "execution_count": 2,
   "id": "42e26830-4ded-4205-906b-50207850a79a",
   "metadata": {},
   "outputs": [
    {
     "data": {
      "text/plain": [
       "'/mnt/i/hyp3_insar'"
      ]
     },
     "execution_count": 2,
     "metadata": {},
     "output_type": "execute_result"
    }
   ],
   "source": [
    "pwd"
   ]
  },
  {
   "cell_type": "code",
   "execution_count": 6,
   "id": "40ed1e17-daf9-44da-8a22-3d13a86fb103",
   "metadata": {},
   "outputs": [],
   "source": [
    "mkdir ~/data/asc_desc_combined"
   ]
  },
  {
   "cell_type": "code",
   "execution_count": 3,
   "id": "953f8cc6-5a24-40ee-821e-6c5f525f09d9",
   "metadata": {},
   "outputs": [
    {
     "name": "stdout",
     "output_type": "stream",
     "text": [
      "/home/fw/data/asc_desc_combined\n"
     ]
    }
   ],
   "source": [
    "cd ~/data/asc_desc_combined"
   ]
  },
  {
   "cell_type": "code",
   "execution_count": null,
   "id": "5452fc15-cab4-408e-8e18-658d250c6e19",
   "metadata": {},
   "outputs": [],
   "source": [
    "cp "
   ]
  },
  {
   "cell_type": "code",
   "execution_count": 14,
   "id": "003dcca0-bb37-43c4-a7aa-431500f63a6b",
   "metadata": {},
   "outputs": [],
   "source": [
    "# !asc_desc2horz_vert.py -h"
   ]
  },
  {
   "cell_type": "markdown",
   "id": "d82028d4-a585-4aa5-90c4-a6a77a75e958",
   "metadata": {},
   "source": [
    "## Set name"
   ]
  },
  {
   "cell_type": "code",
   "execution_count": 6,
   "id": "2faa7d3a-a4d0-4436-bc6c-d308ae4af435",
   "metadata": {},
   "outputs": [],
   "source": [
    "from pathlib import Path\n",
    "\n",
    "name = 'dd_2_25_2020'\n",
    "asc = Path('/home/fw/data/asc_upper')\n",
    "desc = Path('/home/fw/data/desc_lower')\n",
    "\n",
    "asc = asc / name / 'velocity.h5'\n",
    "desc = desc / name / 'velocity.h5'"
   ]
  },
  {
   "cell_type": "markdown",
   "id": "1d0ec76e-c12d-4c10-906a-bf29f17dc2e6",
   "metadata": {},
   "source": [
    "### View outputs"
   ]
  },
  {
   "cell_type": "markdown",
   "id": "f21deb1f-7d85-420a-8c6f-733526985d9c",
   "metadata": {},
   "source": [
    "#### Ascending"
   ]
  },
  {
   "cell_type": "code",
   "execution_count": 54,
   "id": "c76abc56-483c-4fc0-8ad5-afd8a318935b",
   "metadata": {},
   "outputs": [],
   "source": [
    "# view.main(f'{asc} --vlim -5 5 -m no --noverbose'.split())"
   ]
  },
  {
   "cell_type": "code",
   "execution_count": 55,
   "id": "e99dc9c2-6805-4aa6-bcba-ac68a1c55a86",
   "metadata": {},
   "outputs": [],
   "source": [
    "# view.main(f'{asc.parent / \"temporalCoherence.h5\"} --vlim 0 1 --noverbose'.split())"
   ]
  },
  {
   "cell_type": "markdown",
   "id": "56936888-0941-4186-8d37-c751084ac6d3",
   "metadata": {},
   "source": [
    "#### Descending"
   ]
  },
  {
   "cell_type": "code",
   "execution_count": 56,
   "id": "ad2228c8-31ea-4f60-beb1-0e1358caf768",
   "metadata": {},
   "outputs": [],
   "source": [
    "# view.main(f'{desc} --vlim -5 5 --noverbose'.split())"
   ]
  },
  {
   "cell_type": "code",
   "execution_count": 57,
   "id": "3681a5fb-51d0-4d01-ad5d-13036fd17291",
   "metadata": {},
   "outputs": [],
   "source": [
    "# view.main(f'{desc.parent / \"temporalCoherence.h5\"} --vlim 0.5 1 --noverbose'.split())"
   ]
  },
  {
   "cell_type": "markdown",
   "id": "1356b790-3b3b-4be0-ba4d-d24cf49d9e47",
   "metadata": {},
   "source": [
    "### To hz up"
   ]
  },
  {
   "cell_type": "code",
   "execution_count": 159,
   "id": "98bf306a-25f2-4d5b-bc7b-b95784966b8b",
   "metadata": {},
   "outputs": [
    {
     "name": "stdout",
     "output_type": "stream",
     "text": [
      "---------------------\n",
      "common area in SNWE: (5589840.0, 5616720.0, 390000.0, 417680.0)\n",
      "read from file: /home/fw/data/asc_upper/dd_2_25_2020/velocity.h5\n",
      "read from file: /home/fw/data/desc_lower/dd_2_25_2020/velocity.h5\n",
      "---------------------\n",
      "get design matrix\n",
      "LOS incidence angle: 30.930707842552223 deg\n",
      "LOS azimuth angle: 103.64306290000002 deg\n",
      "LOS incidence angle: 30.953727049043998 deg\n",
      "LOS azimuth angle: -103.77717740000003 deg\n",
      "project asc/desc into horz/vert direction\n",
      "---------------------\n",
      "writing horizontal component to file: /home/fw/data/asc_desc_combined/dd_2_25_2020_hz.h5\n",
      "delete exsited file: /home/fw/data/asc_desc_combined/dd_2_25_2020_hz.h5\n",
      "create HDF5 file: /home/fw/data/asc_desc_combined/dd_2_25_2020_hz.h5 with w mode\n",
      "create dataset /velocity of float32    in size of (672, 692)           with compression=None\n",
      "finished writing to /home/fw/data/asc_desc_combined/dd_2_25_2020_hz.h5\n",
      "writing   vertical component to file: /home/fw/data/asc_desc_combined/dd_2_25_2020_up.h5\n",
      "delete exsited file: /home/fw/data/asc_desc_combined/dd_2_25_2020_up.h5\n",
      "create HDF5 file: /home/fw/data/asc_desc_combined/dd_2_25_2020_up.h5 with w mode\n",
      "create dataset /velocity of float32    in size of (672, 692)           with compression=None\n",
      "finished writing to /home/fw/data/asc_desc_combined/dd_2_25_2020_up.h5\n",
      "Done.\n",
      "---------------------\n",
      "common area in SNWE: (5589840.0, 5616720.0, 390000.0, 417680.0)\n",
      "read velocityStd from file: /home/fw/data/asc_upper/dd_2_25_2020/velocity.h5\n",
      "read velocityStd from file: /home/fw/data/desc_lower/dd_2_25_2020/velocity.h5\n",
      "---------------------\n",
      "get design matrix\n",
      "LOS incidence angle: 30.930707842552223 deg\n",
      "LOS azimuth angle: 103.64306290000002 deg\n",
      "LOS incidence angle: 30.953727049043998 deg\n",
      "LOS azimuth angle: -103.77717740000003 deg\n",
      "project asc/desc into horz/vert direction\n",
      "---------------------\n",
      "writing horizontal component to file: /home/fw/data/asc_desc_combined/dd_2_25_2020_hz_std.h5\n",
      "delete exsited file: /home/fw/data/asc_desc_combined/dd_2_25_2020_hz_std.h5\n",
      "create HDF5 file: /home/fw/data/asc_desc_combined/dd_2_25_2020_hz_std.h5 with w mode\n",
      "create dataset /velocity of float32    in size of (672, 692)           with compression=None\n",
      "finished writing to /home/fw/data/asc_desc_combined/dd_2_25_2020_hz_std.h5\n",
      "writing   vertical component to file: /home/fw/data/asc_desc_combined/dd_2_25_2020_up_std.h5\n",
      "delete exsited file: /home/fw/data/asc_desc_combined/dd_2_25_2020_up_std.h5\n",
      "create HDF5 file: /home/fw/data/asc_desc_combined/dd_2_25_2020_up_std.h5 with w mode\n",
      "create dataset /velocity of float32    in size of (672, 692)           with compression=None\n",
      "finished writing to /home/fw/data/asc_desc_combined/dd_2_25_2020_up_std.h5\n",
      "Done.\n"
     ]
    }
   ],
   "source": [
    "# !asc_desc2horz_vert.py -h\n",
    "hz_out = Path.cwd() / (asc.parent.name+'_hz.h5')\n",
    "up_out = Path.cwd() / (asc.parent.name+'_up.h5')\n",
    "\n",
    "hz_std_out = Path.cwd() / (asc.parent.name+'_hz_std.h5')\n",
    "up_std_out = Path.cwd() / (asc.parent.name+'_up_std.h5')\n",
    "\n",
    "!asc_desc2horz_vert.py {asc} {desc} --max-ref-yx-diff 1000 -o {hz_out} {up_out}\n",
    "!asc_desc2horz_vert.py {asc} {desc} -d velocityStd --max-ref-yx-diff 1000 -o {hz_std_out} {up_std_out}\n",
    "\n",
    "out_path = Path('/mnt/i/hyp3_downloads/test_results')\n",
    "\n",
    "# !save_gdal.py {up_out} -o {out_path / (up_out.name.split('.')[0] + '.tif')}\n",
    "# !save_gdal.py {hz_out} -o {out_path / (hz_out.name.split('.')[0] + '.tif')}"
   ]
  },
  {
   "cell_type": "markdown",
   "id": "56da81e2-d17b-460b-8abc-b16cf6083bce",
   "metadata": {},
   "source": [
    "## Masking"
   ]
  },
  {
   "cell_type": "code",
   "execution_count": 77,
   "id": "c09d6189-fea3-4169-8a0c-e7f294576cab",
   "metadata": {},
   "outputs": [],
   "source": [
    "from skimage.morphology import remove_small_objects\n",
    "import numpy as np"
   ]
  },
  {
   "cell_type": "code",
   "execution_count": 174,
   "id": "cb21c68f-81fd-4c88-a5c4-28a1c00e959c",
   "metadata": {},
   "outputs": [],
   "source": [
    "def vel_filter(vel_file, std_file, out_file, min_size=10):\n",
    "    # load data\n",
    "    data, _ = readfile.read(vel_file)\n",
    "    data_std, _ = readfile.read(std_file)\n",
    "    \n",
    "    # temporal standard deviation filter\n",
    "    mask_std = np.abs(data-data.mean()) > (data_std * 2)\n",
    "    data[~mask_std] = np.nan\n",
    "    \n",
    "    # spatial standard deviation filter\n",
    "    m, s = np.nanmean(data), np.nanstd(data)\n",
    "    mask_val = (data > m+s*2) | (data < m-s*2)\n",
    "    \n",
    "    # remove small objects\n",
    "    remove_small_objects(mask_val,min_size=min_size,in_place=True)\n",
    "    data[~mask_val] = np.nan\n",
    "\n",
    "    # write file\n",
    "    writefile.write({'velocity':data}, out_file=out_file, ref_file=vel_file)\n",
    "    \n",
    "    return data"
   ]
  },
  {
   "cell_type": "code",
   "execution_count": 184,
   "id": "1b906b54-ac56-4306-b3bb-b4aeaadc9db6",
   "metadata": {},
   "outputs": [
    {
     "name": "stdout",
     "output_type": "stream",
     "text": [
      "delete exsited file: /home/fw/data/asc_desc_combined/dd_2_25_2020_up_mask.h5\n",
      "create HDF5 file: /home/fw/data/asc_desc_combined/dd_2_25_2020_up_mask.h5 with w mode\n",
      "create dataset /velocity of float32    in size of (672, 692)           with compression=None\n",
      "finished writing to /home/fw/data/asc_desc_combined/dd_2_25_2020_up_mask.h5\n",
      "delete exsited file: /home/fw/data/asc_desc_combined/dd_2_25_2020_hz_mask.h5\n",
      "create HDF5 file: /home/fw/data/asc_desc_combined/dd_2_25_2020_hz_mask.h5 with w mode\n",
      "create dataset /velocity of float32    in size of (672, 692)           with compression=None\n",
      "finished writing to /home/fw/data/asc_desc_combined/dd_2_25_2020_hz_mask.h5\n"
     ]
    }
   ],
   "source": [
    "up_mask = Path.cwd() / (up_out.name.split('.')[0] + '_mask.h5')\n",
    "hz_mask = Path.cwd() / (hz_out.name.split('.')[0] + '_mask.h5')\n",
    "\n",
    "up_data = vel_filter(up_out,up_std_out,up_mask)\n",
    "hz_data = vel_filter(hz_out,hz_std_out,hz_mask)"
   ]
  },
  {
   "cell_type": "code",
   "execution_count": 172,
   "id": "d0ff9c8e-bb82-462f-9016-a8daa4458e2f",
   "metadata": {},
   "outputs": [
    {
     "name": "stdout",
     "output_type": "stream",
     "text": [
      "read metadata from file: /home/fw/data/asc_desc_combined/dd_2_25_2020_up_mask.h5\n",
      "read data     from file: /home/fw/data/asc_desc_combined/dd_2_25_2020_up_mask.h5\n",
      "initiate GDAL driver: GeoTIFF\n",
      "create raster band\n",
      "raster row / column number: 672, 692\n",
      "raster transform info: (390000.0, 40.0, 0, 5616720.0, 0, -40.0)\n",
      "ERROR 1: Deleting /mnt/i/hyp3_downloads/test_results/dd_2_25_2020_up_mask.tif failed:\n",
      "Permission denied\n",
      "write data to raster band\n",
      "set projection as: EPSG 32760\n",
      "finished writing to /mnt/i/hyp3_downloads/test_results/dd_2_25_2020_up_mask.tif\n",
      "read metadata from file: /home/fw/data/asc_desc_combined/dd_2_25_2020_hz_mask.h5\n",
      "read data     from file: /home/fw/data/asc_desc_combined/dd_2_25_2020_hz_mask.h5\n",
      "initiate GDAL driver: GeoTIFF\n",
      "create raster band\n",
      "raster row / column number: 672, 692\n",
      "raster transform info: (390000.0, 40.0, 0, 5616720.0, 0, -40.0)\n",
      "write data to raster band\n",
      "set projection as: EPSG 32760\n",
      "finished writing to /mnt/i/hyp3_downloads/test_results/dd_2_25_2020_hz_mask.tif\n"
     ]
    }
   ],
   "source": [
    "up_tif = out_path / (up_mask.name.split('.')[0] + '.tif')\n",
    "hz_tif = out_path / (hz_mask.name.split('.')[0] + '.tif')\n",
    "\n",
    "!save_gdal.py {up_mask} -o {up_tif}\n",
    "!save_gdal.py {hz_mask} -o {hz_tif}"
   ]
  },
  {
   "cell_type": "code",
   "execution_count": 185,
   "id": "0ade3c07-254d-434f-b5b2-fef402bb85e9",
   "metadata": {},
   "outputs": [],
   "source": [
    "both_mask = ~np.isnan(up_data) & ~np.isnan(hz_data)\n",
    "both_mask = remove_small_objects(both_mask,min_size=10)\n",
    "up_data_both = up_data.copy()\n",
    "up_data_both[~both_mask] = np.nan"
   ]
  },
  {
   "cell_type": "code",
   "execution_count": 187,
   "id": "211e213f-3bcd-41a3-8812-c82a747327ba",
   "metadata": {},
   "outputs": [
    {
     "name": "stdout",
     "output_type": "stream",
     "text": [
      "create HDF5 file: both.h5 with w mode\n",
      "create dataset /velocity of float32    in size of (672, 692)           with compression=None\n",
      "finished writing to both.h5\n",
      "read metadata from file: both.h5\n",
      "read data     from file: both.h5\n",
      "initiate GDAL driver: GeoTIFF\n",
      "create raster band\n",
      "raster row / column number: 672, 692\n",
      "raster transform info: (390000.0, 40.0, 0, 5616720.0, 0, -40.0)\n",
      "write data to raster band\n",
      "set projection as: EPSG 32760\n",
      "finished writing to /mnt/i/hyp3_downloads/test_results/both.tif\n"
     ]
    }
   ],
   "source": [
    "writefile.write({'velocity':up_data_both}, out_file='both.h5', ref_file=up_out)\n",
    "\n",
    "up_tif = out_path / 'both.tif'\n",
    "!save_gdal.py both.h5 -o {up_tif}"
   ]
  },
  {
   "cell_type": "code",
   "execution_count": 186,
   "id": "24918adf-5e13-4f4f-bbbc-334a6522becb",
   "metadata": {},
   "outputs": [
    {
     "data": {
      "text/plain": [
       "<matplotlib.colorbar.Colorbar at 0x7fc61373bf40>"
      ]
     },
     "execution_count": 186,
     "metadata": {},
     "output_type": "execute_result"
    },
    {
     "data": {
      "image/png": "[encoded data removed]",
      "text/plain": [
       "<Figure size 720x720 with 2 Axes>"
      ]
     },
     "metadata": {
      "needs_background": "light"
     },
     "output_type": "display_data"
    }
   ],
   "source": [
    "f = plt.figure(figsize=(10,10))\n",
    "plt.imshow(up_data_both,cmap='jet',interpolation='none',vmin=-0.04,vmax=0.04)\n",
    "plt.colorbar()"
   ]
  },
  {
   "cell_type": "code",
   "execution_count": 133,
   "id": "983d9b38-c145-4496-8370-e7de561e4c5e",
   "metadata": {},
   "outputs": [
    {
     "data": {
      "text/plain": [
       "<matplotlib.colorbar.Colorbar at 0x7fc613caf940>"
      ]
     },
     "execution_count": 133,
     "metadata": {},
     "output_type": "execute_result"
    },
    {
     "data": {
      "image/png": "[encoded data removed]",
      "text/plain": [
       "<Figure size 720x720 with 2 Axes>"
      ]
     },
     "metadata": {
      "needs_background": "light"
     },
     "output_type": "display_data"
    }
   ],
   "source": [
    "f = plt.figure(figsize=(10,10))\n",
    "plt.imshow(data,cmap='jet',interpolation='none',vmin=-0.04,vmax=0.04)\n",
    "plt.colorbar()"
   ]
  },
  {
   "cell_type": "code",
   "execution_count": null,
   "id": "1962dcdc-f28d-49d2-90ed-ef429aa67d6d",
   "metadata": {},
   "outputs": [],
   "source": []
  }
 ],
 "metadata": {
  "kernelspec": {
   "display_name": "Python 3 (ipykernel)",
   "language": "python",
   "name": "python3"
  },
  "language_info": {
   "codemirror_mode": {
    "name": "ipython",
    "version": 3
   },
   "file_extension": ".py",
   "mimetype": "text/x-python",
   "name": "python",
   "nbconvert_exporter": "python",
   "pygments_lexer": "ipython3",
   "version": "3.8.10"
  }
 },
 "nbformat": 4,
 "nbformat_minor": 5
}
