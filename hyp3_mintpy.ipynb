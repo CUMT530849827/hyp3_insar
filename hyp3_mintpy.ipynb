{
 "cells": [
  {
   "cell_type": "markdown",
   "id": "aa7e2621-be81-4b3d-89d7-a58ad655411a",
   "metadata": {},
   "source": [
    "# MintPy Processing\n",
    "\n",
    "This notebook performs the MintPy timeseries processing. If you you're processing an ascending and descending track you'll need to run this workflow twice. Once for each track. I've had to add some strange working directory management to get this workflow to run on my local machine (run the load_data step in the directory the hyp3 data is located in, then copy it into a processing directory) but feel free to change this workflow if your machine is different."
   ]
  },
  {
   "cell_type": "markdown",
   "id": "17c93a60-b988-450b-a627-9c61df4305e3",
   "metadata": {
    "tags": []
   },
   "source": [
    "## setup"
   ]
  },
  {
   "cell_type": "code",
   "execution_count": 1,
   "id": "61a13a80-084f-45be-a2a4-9372bea9f5aa",
   "metadata": {},
   "outputs": [],
   "source": [
    "%matplotlib inline\n",
    "import glob\n",
    "import sys\n",
    "import shutil\n",
    "import os\n",
    "import matplotlib.pyplot as plt\n",
    "from mintpy.utils import readfile, writefile, utils as ut\n",
    "from mintpy import workflow, view, tsview, plot_network, plot_transection, plot_coherence_matrix\n",
    "\n",
    "from mintpy.objects import timeseries\n",
    "from datetime import datetime\n",
    "import numpy as np\n",
    "from skimage.morphology import remove_small_objects\n",
    "\n",
    "from scipy.stats import linregress\n",
    "import pandas as pd\n",
    "import matplotlib\n",
    "import datetime"
   ]
  },
  {
   "cell_type": "markdown",
   "id": "694f1ed6-f6b9-4ca6-9679-c59183b22d9c",
   "metadata": {},
   "source": [
    "['load_data', 'modify_network', 'reference_point', 'quick_overview', 'correct_unwrap_error']\n",
    "  ['invert_network', 'correct_LOD', 'correct_SET', 'correct_troposphere', 'deramp', 'correct_topography']\n",
    "  ['residual_RMS', 'reference_date', 'velocity', 'geocode', 'google_earth', 'hdfeos5']"
   ]
  },
  {
   "cell_type": "code",
   "execution_count": 2,
   "id": "1902a919-9d84-4c41-ba8c-24c8f8de0ad1",
   "metadata": {},
   "outputs": [
    {
     "name": "stdout",
     "output_type": "stream",
     "text": [
      "/home/micromamba/data\n"
     ]
    }
   ],
   "source": [
    "cd /home/micromamba/data"
   ]
  },
  {
   "cell_type": "code",
   "execution_count": 3,
   "id": "d81d5ead-f4be-4da8-b77e-af16dc9e9de3",
   "metadata": {},
   "outputs": [],
   "source": [
    "cp /home/micromamba/scripts/configs/asc_lower.cfg ./hyp3.cfg"
   ]
  },
  {
   "cell_type": "markdown",
   "id": "dd5dd34b-675c-482a-b2ae-b1db9191b924",
   "metadata": {
    "jp-MarkdownHeadingCollapsed": true,
    "tags": []
   },
   "source": [
    "## load_data"
   ]
  },
  {
   "cell_type": "code",
   "execution_count": null,
   "id": "0ddc86f7-f20e-4b74-8c07-112db3f279b5",
   "metadata": {},
   "outputs": [],
   "source": [
    "!load_data.py -t hyp3.cfg"
   ]
  },
  {
   "cell_type": "markdown",
   "id": "000bd76c-b9f6-4845-9c03-3eef38082abb",
   "metadata": {
    "jp-MarkdownHeadingCollapsed": true,
    "tags": []
   },
   "source": [
    "## double_difference\n",
    "\n",
    "This the only step that isn't included in the normal MintPy `smallbaselineApp` workflow. It highlights local deformation, but obscures the presence of large-scale (greater than 10 km scale) deformation and unwrapping errors. See [Bekaert et. al 2020](https://www.sciencedirect.com/science/article/pii/S0034425720303539) for more details."
   ]
  },
  {
   "cell_type": "code",
   "execution_count": null,
   "id": "faf27801-c5ad-418d-ad26-efa65170c48d",
   "metadata": {
    "tags": []
   },
   "outputs": [],
   "source": [
    "desired_width = 2000\n",
    "pixel_size = 40\n",
    "\n",
    "x = 750\n",
    "n_pixels = np.floor((desired_width / 40) /2)\n",
    "width = ((n_pixels*2)+1)*400\n",
    "print(f'N pixels: {n_pixels}\\nActual width: {width}')"
   ]
  },
  {
   "cell_type": "code",
   "execution_count": null,
   "id": "e5c0e360-0e63-4ac3-9525-e408926db694",
   "metadata": {
    "tags": []
   },
   "outputs": [],
   "source": [
    "from skimage import morphology\n",
    "filter_par = [2,25]\n",
    "\n",
    "local_kernel = morphology.disk(filter_par[0], np.float32)\n",
    "regional_kernel = morphology.disk(filter_par[1], np.float32)\n",
    "\n",
    "center = slice(filter_par[1]-filter_par[0],filter_par[1]+filter_par[0]+1)\n",
    "print(center,center)\n",
    "regional_kernel[center,center] =  regional_kernel[center,center] - local_kernel\n",
    "\n",
    "local_kernel = local_kernel / local_kernel.flatten().sum()\n",
    "# local_filt = ndimage.convolve(data, local_kernel)\n",
    "\n",
    "regional_kernel = regional_kernel / regional_kernel.flatten().sum()\n",
    "# regional_filt = ndimage.convolve(data, regional_kernel)\n",
    "\n",
    "f, (ax1,ax2) = plt.subplots(1,2)\n",
    "img1 = ax1.imshow(local_kernel,interpolation='none')\n",
    "ax1.set_title(f'Width: {local_kernel.shape[0]*40}m')\n",
    "img2 = ax2.imshow(regional_kernel,interpolation='none')\n",
    "ax2.set_title(f'Width: {regional_kernel.shape[0]*40}m')"
   ]
  },
  {
   "cell_type": "code",
   "execution_count": null,
   "id": "f84637fd-e3fb-4fec-b06e-6ae3c72632b1",
   "metadata": {},
   "outputs": [],
   "source": [
    "%%time\n",
    "params = [2,25]\n",
    "outname = f'inputs/ifgramStack_{params[0]}_{params[1]}.h5'\n",
    "!spatial_filter.py inputs/ifgramStack.h5 unwrapPhase -o {outname} -f double_difference -p {params[0]} {params[1]}"
   ]
  },
  {
   "cell_type": "markdown",
   "id": "4123fac7-8a46-4016-879d-ac9ae09e8cde",
   "metadata": {},
   "source": [
    "## directory management"
   ]
  },
  {
   "cell_type": "code",
   "execution_count": null,
   "id": "f04c7ca8-ee2d-48a9-86a3-63154396e3de",
   "metadata": {},
   "outputs": [],
   "source": [
    "pwd"
   ]
  },
  {
   "cell_type": "code",
   "execution_count": null,
   "id": "6644dab9-a76f-4b7c-9b46-073ecb03e715",
   "metadata": {},
   "outputs": [],
   "source": [
    "mkdir inputs"
   ]
  },
  {
   "cell_type": "code",
   "execution_count": null,
   "id": "3cacde1e-683d-46eb-9b6d-64f917bc97b8",
   "metadata": {},
   "outputs": [],
   "source": [
    "cp -r /home/micromamba/raw/asc_lower/mintpy/inputs/ifgramStack_2_25.h5  ./inputs/ifgramStack_2_25.h5"
   ]
  },
  {
   "cell_type": "code",
   "execution_count": null,
   "id": "388df030-ff1d-42f4-abdd-9d0f29e54237",
   "metadata": {},
   "outputs": [],
   "source": [
    "cp -r /home/micromamba/raw/asc_lower/mintpy/inputs/geometryGeo.h5  ./inputs/geometryGeo.h5"
   ]
  },
  {
   "cell_type": "code",
   "execution_count": null,
   "id": "c563eff4-97d2-45eb-8505-ec684bcd7781",
   "metadata": {},
   "outputs": [],
   "source": [
    "# rm -rf inputs"
   ]
  },
  {
   "cell_type": "markdown",
   "id": "ac271f65-001e-4feb-b7ca-90419cc261ee",
   "metadata": {
    "tags": []
   },
   "source": [
    "## generate water mask"
   ]
  },
  {
   "cell_type": "code",
   "execution_count": null,
   "id": "5a0921b2-fb55-495c-b207-dfb72b949e6d",
   "metadata": {},
   "outputs": [],
   "source": [
    "!generate_mask.py ./inputs/geometryGeo.h5 waterMask -m 0.5 -o waterMask.h5\n",
    "view.main('waterMask.h5 --noverbose'.split())"
   ]
  },
  {
   "cell_type": "markdown",
   "id": "72d94f95-2f7e-4d58-91c6-968cf3c08945",
   "metadata": {
    "tags": []
   },
   "source": [
    "## reference_point"
   ]
  },
  {
   "cell_type": "code",
   "execution_count": null,
   "id": "1c10f9b1-1a2d-47ec-a7e1-db125f814259",
   "metadata": {},
   "outputs": [],
   "source": [
    "view.main('inputs/geometryGeo.h5 height -m waterMask.h5 --noverbose'.split())"
   ]
  },
  {
   "cell_type": "code",
   "execution_count": null,
   "id": "38706a0c-17b4-48d2-93a4-9f13c4a1a5d4",
   "metadata": {},
   "outputs": [],
   "source": [
    "!temporal_average.py inputs/ifgramStack.h5 -d coherence -o avgSpatialCoh.h5"
   ]
  },
  {
   "cell_type": "code",
   "execution_count": null,
   "id": "07417891-7f07-4cd8-804c-95cfa5019540",
   "metadata": {},
   "outputs": [],
   "source": [
    "%matplotlib inline\n",
    "import matplotlib.pyplot as plt\n",
    "view.main('avgSpatialCoh.h5 --noverbose --figsize 8 8'.split())"
   ]
  },
  {
   "cell_type": "code",
   "execution_count": 4,
   "id": "1a1c6351-97a9-44c2-90b5-f24f9f608d64",
   "metadata": {},
   "outputs": [
    {
     "name": "stdout",
     "output_type": "stream",
     "text": [
      "remove REF_Y/X and/or REF_LAT/LON from file: inputs/ifgramStack.h5\n",
      "All updated (removed) attributes already exists (do not exists) and have the same value, skip update.\n",
      "Done.\n",
      "--------------------------------------------------\n",
      "reading reference info from template: ./hyp3.cfg\n",
      "input reference point in y/x: (2066, 1589)\n",
      "--------------------------------------------------\n",
      "calculate the temporal average of unwrapPhase in file inputs/ifgramStack.h5 ...\n",
      "[==================================================] lines 2394/2394   34s /     3s \n",
      "Add/update ref_x/y attribute to file: inputs/ifgramStack.h5\n",
      "{'REF_Y': '2066', 'REF_X': '1589', 'REF_LAT': '5563180.0', 'REF_LON': '361420.0'}\n",
      "Done.\n"
     ]
    }
   ],
   "source": [
    "!cp /home/micromamba/scripts/configs/asc_lower.cfg ./hyp3.cfg\n",
    "!reference_point.py inputs/ifgramStack.h5 --reset\n",
    "!reference_point.py inputs/ifgramStack.h5 -t ./hyp3.cfg -m waterMask.h5"
   ]
  },
  {
   "cell_type": "markdown",
   "id": "a89812b4-8abd-4298-8499-1dc586adc30f",
   "metadata": {
    "tags": []
   },
   "source": [
    "## modify_network"
   ]
  },
  {
   "cell_type": "markdown",
   "id": "ac21a1b6-6039-4106-9b69-7b042415ee6e",
   "metadata": {},
   "source": [
    "This step has the largest effect on the overall quality of the analysis so **take your time here and remove garbage data!**\n",
    "Remember the wise words:\n",
    "> Garbage in, Garbage out."
   ]
  },
  {
   "cell_type": "code",
   "execution_count": null,
   "id": "8f364cd7-11ee-41c7-b5a7-3fb0d577b310",
   "metadata": {},
   "outputs": [],
   "source": [
    "!spatial_average.py inputs/ifgramStack.h5 -d coherence -m waterMask.h5"
   ]
  },
  {
   "cell_type": "code",
   "execution_count": null,
   "id": "a919dddd-c437-44fa-af27-9ca56f9b9378",
   "metadata": {},
   "outputs": [],
   "source": [
    "m = pd.read_csv('coherenceSpatialAvg.txt',skiprows=5,header=None,sep='\\t',\n",
    "                names=['DATE12','Mean','Btemp/days','Bperp/m','Num'])\n",
    "\n",
    "m['date1'],m['date2'] = zip(*m['DATE12'].str.split('_'))\n",
    "m['date1'] = pd.to_datetime(m['date1'])\n",
    "m['date2'] = pd.to_datetime(m['date2'])\n",
    "\n",
    "dates = sorted(list(set(list(m.date1) + list(m.date1))))"
   ]
  },
  {
   "cell_type": "code",
   "execution_count": null,
   "id": "5eec4432-22ab-4cc4-b50d-6ecb286e0635",
   "metadata": {},
   "outputs": [],
   "source": [
    "matrix = pd.DataFrame(index=dates,columns=dates)\n",
    "for i,row in m.iterrows():\n",
    "    matrix.loc[row['date1'],row['date2']] = row['Mean']\n",
    "    matrix.loc[row['date2'],row['date1']] = row['Mean']\n",
    "    \n",
    "avg_coh = pd.DataFrame({'date':matrix.index,'coherence':matrix.mean(axis=1)}).reset_index(drop=True)\n",
    "\n",
    "smooth_coh = avg_coh.copy()\n",
    "smooth_coh.index = pd.DatetimeIndex(smooth_coh.date)\n",
    "smooth_coh = smooth_coh.sort_index()\n",
    "smooth_coh = smooth_coh.rolling(datetime.timedelta(days=60),min_periods=1).mean()\n",
    "smooth_coh = smooth_coh.reset_index()"
   ]
  },
  {
   "cell_type": "code",
   "execution_count": null,
   "id": "dde8d98d-c3ca-45ed-81f1-bec23d3c4b3f",
   "metadata": {},
   "outputs": [],
   "source": [
    "f, ax = plt.subplots(1,1,figsize=(15,5))\n",
    "\n",
    "ax.plot(avg_coh.date,avg_coh.coherence)\n",
    "ax.plot(smooth_coh.date,smooth_coh.coherence,color='red')\n",
    "ax.set_xlabel('Date')\n",
    "ax.set_ylabel('Coherence')\n",
    "plt.savefig('coh_timeseries.png')\n",
    "# plt.xlim((datetime.datetime(2021,3,1),datetime.datetime(2021,4,1)))"
   ]
  },
  {
   "cell_type": "markdown",
   "id": "de26bf6b-ad26-4f64-b614-46720162ed00",
   "metadata": {},
   "source": [
    "Based on this graph, there is a clear seasonal trend in the correlation data. I've found that performing the SBAS inversion on each year separately (breaking the analysis at the low points) produces the best results."
   ]
  },
  {
   "cell_type": "code",
   "execution_count": 5,
   "id": "518c8f6e-6747-488c-bfeb-cd0e8a4eb6d6",
   "metadata": {},
   "outputs": [
    {
     "name": "stdout",
     "output_type": "stream",
     "text": [
      "No lookup table info range/lat found in files.\n",
      "--------------------------------------------------\n",
      "reset dataset 'dropIfgram' to True for all interferograms for file: inputs/ifgramStack.h5\n",
      "All dropIfgram are already True, no need to reset.\n",
      "No lookup table info range/lat found in files.\n",
      "read options from template file: hyp3.cfg\n",
      "open ifgramStack file: ifgramStack.h5\n",
      "number of interferograms: 417\n",
      "--------------------------------------------------\n",
      "Drop ifgrams with temporal baseline > 100.0 days: (0)\n",
      "[]\n",
      "--------------------------------------------------\n",
      "Drop ifgrams with date earlier than: 20190101 (174)\n",
      "['20170116_20170122', '20170116_20170209', '20170116_20170215', '20170122_20170209', '20170122_20170215', '20170122_20170227', '20170209_20170215', '20170209_20170227', '20170209_20170311', '20170215_20170227', '20170215_20170311', '20170215_20170323', '20170227_20170311', '20170227_20170323', '20170227_20170404', '20170311_20170323', '20170311_20170404', '20170311_20170416', '20170323_20170404', '20170323_20170416', '20170323_20170428', '20170404_20170416', '20170404_20170428', '20170404_20170510', '20170416_20170428', '20170416_20170510', '20170416_20170522', '20170428_20170510', '20170428_20170522', '20170428_20170603', '20170510_20170522', '20170510_20170603', '20170510_20170615', '20170522_20170603', '20170522_20170615', '20170522_20170627', '20170603_20170615', '20170603_20170627', '20170603_20170709', '20170615_20170627', '20170615_20170709', '20170615_20170721', '20170627_20170709', '20170627_20170721', '20170627_20170802', '20170709_20170721', '20170709_20170802', '20170709_20170814', '20170721_20170802', '20170721_20170814', '20170721_20170907', '20170802_20170814', '20170802_20170907', '20170802_20170919', '20170814_20170907', '20170814_20170919', '20170814_20171001', '20170907_20170919', '20170907_20171001', '20170907_20171013', '20170919_20171001', '20170919_20171013', '20170919_20171025', '20171001_20171013', '20171001_20171025', '20171001_20171106', '20171013_20171025', '20171013_20171106', '20171013_20171118', '20171025_20171106', '20171025_20171118', '20171025_20171130', '20171106_20171118', '20171106_20171130', '20171106_20171212', '20171118_20171130', '20171118_20171212', '20171118_20171224', '20171130_20171212', '20171130_20171224', '20171130_20180105', '20171212_20171224', '20171212_20180105', '20171212_20180117', '20171224_20180105', '20171224_20180117', '20171224_20180129', '20180105_20180117', '20180105_20180129', '20180105_20180210', '20180117_20180129', '20180117_20180210', '20180117_20180222', '20180129_20180210', '20180129_20180222', '20180129_20180306', '20180210_20180222', '20180210_20180306', '20180210_20180318', '20180222_20180306', '20180222_20180318', '20180222_20180330', '20180306_20180318', '20180306_20180330', '20180306_20180411', '20180318_20180330', '20180318_20180411', '20180318_20180423', '20180330_20180411', '20180330_20180423', '20180330_20180505', '20180411_20180423', '20180411_20180505', '20180411_20180517', '20180423_20180505', '20180423_20180517', '20180423_20180529', '20180505_20180517', '20180505_20180529', '20180505_20180610', '20180517_20180529', '20180517_20180610', '20180517_20180622', '20180529_20180610', '20180529_20180622', '20180529_20180728', '20180610_20180622', '20180610_20180728', '20180610_20180809', '20180622_20180728', '20180622_20180809', '20180622_20180821', '20180728_20180809', '20180728_20180821', '20180728_20180902', '20180809_20180821', '20180809_20180902', '20180809_20180914', '20180821_20180902', '20180821_20180914', '20180821_20180926', '20180902_20180914', '20180902_20180926', '20180902_20181008', '20180914_20180926', '20180914_20181008', '20180914_20181020', '20180926_20181008', '20180926_20181020', '20180926_20181101', '20181008_20181020', '20181008_20181101', '20181008_20181113', '20181020_20181101', '20181020_20181113', '20181020_20181125', '20181101_20181113', '20181101_20181125', '20181101_20181207', '20181113_20181125', '20181113_20181207', '20181113_20181219', '20181125_20181207', '20181125_20181219', '20181125_20181231', '20181207_20181219', '20181207_20181231', '20181207_20190112', '20181219_20181231', '20181219_20190112', '20181219_20190124', '20181231_20190112', '20181231_20190124', '20181231_20190205']\n",
      "--------------------------------------------------\n",
      "Drop ifgrams with date later than: 20200101 (165)\n",
      "['20191202_20200107', '20191214_20200107', '20191214_20200119', '20191226_20200107', '20191226_20200119', '20191226_20200131', '20200107_20200119', '20200107_20200131', '20200107_20200212', '20200119_20200131', '20200119_20200212', '20200119_20200224', '20200131_20200212', '20200131_20200224', '20200131_20200307', '20200212_20200224', '20200212_20200307', '20200212_20200319', '20200224_20200307', '20200224_20200319', '20200224_20200331', '20200307_20200319', '20200307_20200331', '20200307_20200412', '20200319_20200331', '20200319_20200412', '20200319_20200424', '20200331_20200412', '20200331_20200424', '20200331_20200506', '20200412_20200424', '20200412_20200506', '20200412_20200518', '20200424_20200506', '20200424_20200518', '20200424_20200530', '20200506_20200518', '20200506_20200530', '20200506_20200611', '20200518_20200530', '20200518_20200611', '20200518_20200623', '20200530_20200611', '20200530_20200623', '20200530_20200705', '20200611_20200623', '20200611_20200705', '20200611_20200717', '20200623_20200705', '20200623_20200717', '20200623_20200729', '20200705_20200717', '20200705_20200729', '20200705_20200810', '20200717_20200729', '20200717_20200810', '20200717_20200822', '20200729_20200810', '20200729_20200822', '20200729_20200903', '20200810_20200822', '20200810_20200903', '20200810_20200915', '20200822_20200903', '20200822_20200915', '20200822_20200927', '20200903_20200915', '20200903_20200927', '20200903_20201009', '20200915_20200927', '20200915_20201009', '20200915_20201021', '20200927_20201009', '20200927_20201021', '20200927_20201102', '20201009_20201021', '20201009_20201102', '20201009_20201114', '20201021_20201102', '20201021_20201114', '20201021_20201126', '20201102_20201114', '20201102_20201126', '20201102_20201220', '20201114_20201126', '20201114_20201220', '20201114_20210101', '20201126_20201220', '20201126_20210101', '20201126_20210113', '20201220_20210101', '20201220_20210113', '20201220_20210125', '20210101_20210113', '20210101_20210125', '20210101_20210206', '20210113_20210125', '20210113_20210206', '20210113_20210218', '20210125_20210206', '20210125_20210218', '20210125_20210302', '20210206_20210218', '20210206_20210302', '20210206_20210314', '20210218_20210302', '20210218_20210314', '20210218_20210326', '20210302_20210314', '20210302_20210326', '20210302_20210407', '20210314_20210326', '20210314_20210407', '20210314_20210419', '20210326_20210407', '20210326_20210419', '20210326_20210501', '20210407_20210419', '20210407_20210501', '20210407_20210513', '20210419_20210501', '20210419_20210513', '20210419_20210525', '20210501_20210513', '20210501_20210525', '20210501_20210606', '20210513_20210525', '20210513_20210606', '20210513_20210618', '20210525_20210606', '20210525_20210618', '20210525_20210630', '20210606_20210618', '20210606_20210630', '20210606_20210712', '20210618_20210630', '20210618_20210712', '20210618_20210724', '20210630_20210712', '20210630_20210724', '20210630_20210805', '20210712_20210724', '20210712_20210805', '20210712_20210817', '20210724_20210805', '20210724_20210817', '20210724_20210829', '20210805_20210817', '20210805_20210829', '20210805_20210910', '20210817_20210829', '20210817_20210910', '20210817_20210922', '20210829_20210910', '20210829_20210922', '20210829_20211004', '20210910_20210922', '20210910_20211004', '20210910_20211016', '20210922_20211004', '20210922_20211016', '20210922_20211028', '20211004_20211016', '20211004_20211028', '20211016_20211028']\n",
      "--------------------------------------------------\n",
      "use coherence-based network modification\n",
      "calculating spatial mean of coherence in file inputs/ifgramStack.h5 ...\n",
      "[==================================================] 417/417   53s /     1s \n",
      "write average value in space into text file: coherenceSpatialAvg.txt\n",
      "Drop ifgrams with average coherence < 0.4: (148)\n",
      "['20170122_20170227', '20170209_20170311', '20170215_20170311', '20170215_20170323', '20170227_20170323', '20170227_20170404', '20170311_20170404', '20170311_20170416', '20170323_20170404', '20170323_20170416', '20170323_20170428', '20170404_20170416', '20170404_20170428', '20170404_20170510', '20170416_20170510', '20170416_20170522', '20170428_20170603', '20170510_20170603', '20170510_20170615', '20170627_20170802', '20170709_20170814', '20170721_20170907', '20170802_20170919', '20170814_20171001', '20170907_20171013', '20170919_20171025', '20171001_20171025', '20171001_20171106', '20171013_20171118', '20171025_20171130', '20171106_20171212', '20171118_20171212', '20171118_20171224', '20171130_20180105', '20171212_20180105', '20171212_20180117', '20171224_20180105', '20171224_20180129', '20180105_20180117', '20180105_20180129', '20180105_20180210', '20180117_20180210', '20180117_20180222', '20180129_20180210', '20180129_20180222', '20180129_20180306', '20180210_20180222', '20180210_20180306', '20180210_20180318', '20180222_20180330', '20180306_20180330', '20180306_20180411', '20180318_20180411', '20180318_20180423', '20180330_20180411', '20180330_20180423', '20180330_20180505', '20180411_20180505', '20180411_20180517', '20180423_20180529', '20180517_20180622', '20180529_20180728', '20180610_20180728', '20180610_20180809', '20180622_20180809', '20180622_20180821', '20180902_20181008', '20180926_20181101', '20181020_20181125', '20181101_20181125', '20181101_20181207', '20181113_20181219', '20181125_20181207', '20181125_20181219', '20181125_20181231', '20181207_20181219', '20181207_20181231', '20181207_20190112', '20181219_20181231', '20181219_20190112', '20181219_20190124', '20181231_20190124', '20181231_20190205', '20190112_20190205', '20190112_20190217', '20190124_20190217', '20190124_20190301', '20190205_20190313', '20190217_20190313', '20190301_20190313', '20190301_20190406', '20190313_20190406', '20190313_20190430', '20190325_20190430', '20190325_20190512', '20190406_20190512', '20190406_20190524', '20190430_20190605', '20190512_20190605', '20190512_20190617', '20190524_20190617', '20190524_20190711', '20190605_20190711', '20190605_20190723', '20190617_20190723', '20190617_20190804', '20190909_20191015', '20190921_20191015', '20191003_20191108', '20191015_20191108', '20191015_20191120', '20191027_20191202', '20191108_20191214', '20191120_20191214', '20191120_20191226', '20191202_20191226', '20191202_20200107', '20191214_20200119', '20191226_20200119', '20191226_20200131', '20200611_20200717', '20200915_20201021', '20200927_20201102', '20201009_20201114', '20201021_20201126', '20201102_20201126', '20201102_20201220', '20201114_20201126', '20201114_20201220', '20201114_20210101', '20201126_20201220', '20201126_20210101', '20201126_20210113', '20201220_20210113', '20201220_20210125', '20210101_20210125', '20210101_20210206', '20210113_20210206', '20210113_20210218', '20210125_20210302', '20210407_20210513', '20210419_20210525', '20210513_20210618', '20210525_20210630', '20210606_20210712', '20210829_20211004', '20210922_20211028', '20211004_20211028']\n",
      "--------------------------------------------------\n",
      "number of interferograms to remove: 372\n",
      "number of interferograms to keep  : 45\n",
      "number of acquisitions to remove: 113\n",
      "['20170116', '20170122', '20170209', '20170215', '20170227', '20170311', '20170323', '20170404', '20170416', '20170428', '20170510', '20170522', '20170603', '20170615', '20170627', '20170709', '20170721', '20170802', '20170814', '20170907', '20170919', '20171001', '20171013', '20171025', '20171106', '20171118', '20171130', '20171212', '20171224', '20180105', '20180117', '20180129', '20180210', '20180222', '20180306', '20180318', '20180330', '20180411', '20180423', '20180505', '20180517', '20180529', '20180610', '20180622', '20180728', '20180809', '20180821', '20180902', '20180914', '20180926', '20181008', '20181020', '20181101', '20181113', '20181125', '20181207', '20181219', '20181231', '20200107', '20200119', '20200131', '20200212', '20200224', '20200307', '20200319', '20200331', '20200412', '20200424', '20200506', '20200518', '20200530', '20200611', '20200623', '20200705', '20200717', '20200729', '20200810', '20200822', '20200903', '20200915', '20200927', '20201009', '20201021', '20201102', '20201114', '20201126', '20201220', '20210101', '20210113', '20210125', '20210206', '20210218', '20210302', '20210314', '20210326', '20210407', '20210419', '20210501', '20210513', '20210525', '20210606', '20210618', '20210630', '20210712', '20210724', '20210805', '20210817', '20210829', '20210910', '20210922', '20211004', '20211016', '20211028']\n",
      "open file inputs/ifgramStack.h5 with r+ mode\n",
      "update HDF5 dataset \"/dropIfgram\".\n",
      "update MODIFICATION_TIME in HDF5 dataset \"/unwrapPhase\"\n",
      "update MODIFICATION_TIME in HDF5 dataset \"/coherence\"\n",
      "touch coherenceSpatialAvg.txt\n",
      "Done.\n"
     ]
    }
   ],
   "source": [
    "!cp /home/micromamba/scripts/configs/asc_lower.cfg ./hyp3.cfg\n",
    "!modify_network.py inputs/ifgramStack.h5 --reset\n",
    "!modify_network.py inputs/ifgramStack.h5 -t hyp3.cfg"
   ]
  },
  {
   "cell_type": "code",
   "execution_count": 6,
   "id": "13e74d80-58d1-4d60-9d75-c2ebdf8326a0",
   "metadata": {},
   "outputs": [
    {
     "name": "stdout",
     "output_type": "stream",
     "text": [
      "read options from template file: hyp3.cfg\n",
      "read temporal/spatial baseline info from file: inputs/ifgramStack.h5\n",
      "['coherenceSpatialAvg.txt'] exists and is newer than ['inputs/ifgramStack.h5'] --> skip.\n",
      "coherenceSpatialAvg.txt already exists, read it directly\n",
      "number of acquisitions: 141\n",
      "number of interferograms: 417\n",
      "shift all perp baseline by 10.654462814331055 to zero mean for plotting\n",
      "--------------------------------------------------\n",
      "number of interferograms marked as drop: 372\n",
      "number of interferograms marked as keep: 45\n",
      "number of acquisitions marked as drop: 113\n",
      "['20170116', '20170122', '20170209', '20170215', '20170227', '20170311', '20170323', '20170404', '20170416', '20170428', '20170510', '20170522', '20170603', '20170615', '20170627', '20170709', '20170721', '20170802', '20170814', '20170907', '20170919', '20171001', '20171013', '20171025', '20171106', '20171118', '20171130', '20171212', '20171224', '20180105', '20180117', '20180129', '20180210', '20180222', '20180306', '20180318', '20180330', '20180411', '20180423', '20180505', '20180517', '20180529', '20180610', '20180622', '20180728', '20180809', '20180821', '20180902', '20180914', '20180926', '20181008', '20181020', '20181101', '20181113', '20181125', '20181207', '20181219', '20181231', '20200107', '20200119', '20200131', '20200212', '20200224', '20200307', '20200319', '20200331', '20200412', '20200424', '20200506', '20200518', '20200530', '20200611', '20200623', '20200705', '20200717', '20200729', '20200810', '20200822', '20200903', '20200915', '20200927', '20201009', '20201021', '20201102', '20201114', '20201126', '20201220', '20210101', '20210113', '20210125', '20210206', '20210218', '20210302', '20210314', '20210326', '20210407', '20210419', '20210501', '20210513', '20210525', '20210606', '20210618', '20210630', '20210712', '20210724', '20210805', '20210817', '20210829', '20210910', '20210922', '20211004', '20211016', '20211028']\n",
      "max perpendicular baseline: 201.49 m\n",
      "max temporal      baseline: 60.0 days\n",
      "showing coherence\n",
      "data range: [0.2476, 0.7559]\n",
      "display range: (0.2, 1.0)\n",
      "showing ...\n"
     ]
    },
    {
     "data": {
      "image/png": "[encoded data removed]",
      "text/plain": [
       "<Figure size 1080x360 with 1 Axes>"
      ]
     },
     "metadata": {
      "needs_background": "light"
     },
     "output_type": "display_data"
    },
    {
     "data": {
      "image/png": "[encoded data removed]",
      "text/plain": [
       "<Figure size 1080x360 with 2 Axes>"
      ]
     },
     "metadata": {
      "needs_background": "light"
     },
     "output_type": "display_data"
    },
    {
     "data": {
      "image/png": "[encoded data removed]",
      "text/plain": [
       "<Figure size 1080x360 with 1 Axes>"
      ]
     },
     "metadata": {
      "needs_background": "light"
     },
     "output_type": "display_data"
    },
    {
     "data": {
      "image/png": "[encoded data removed]",
      "text/plain": [
       "<Figure size 1080x360 with 2 Axes>"
      ]
     },
     "metadata": {
      "needs_background": "light"
     },
     "output_type": "display_data"
    }
   ],
   "source": [
    "plot_network.main('inputs/ifgramStack.h5 -t hyp3.cfg --show-kept --figsize 15 5'.split())"
   ]
  },
  {
   "cell_type": "markdown",
   "id": "92c789ec-c4c2-4aea-bba4-1ecf806c7a65",
   "metadata": {
    "tags": []
   },
   "source": [
    "## view ifgram stack"
   ]
  },
  {
   "cell_type": "code",
   "execution_count": null,
   "id": "e82b4a96-caba-458b-bedc-8e375c0777e9",
   "metadata": {},
   "outputs": [],
   "source": [
    "d = readfile.read_template('hyp3.cfg')\n",
    "start_date = datetime.datetime.strptime(d['mintpy.network.startDate'], '%Y%m%d')\n",
    "end_date = datetime.datetime.strptime(d['mintpy.network.endDate'], '%Y%m%d')\n",
    "refy, refx = d['mintpy.reference.yx'].split(', ')\n",
    "min_coh = float(d['mintpy.network.minCoherence'])\n",
    "\n",
    "used_num = [str(x) for x in m.loc[(m.date1 >= start_date) & (m.date2 <= end_date), 'Num']]"
   ]
  },
  {
   "cell_type": "code",
   "execution_count": null,
   "id": "290fbde4-2cf8-4637-931b-133801372b4b",
   "metadata": {},
   "outputs": [],
   "source": [
    "# view.main(f'inputs/ifgramStack.h5 --noverbose --ref-yx {refy} {refx} -n {\" \".join(used_num)}'.split())"
   ]
  },
  {
   "cell_type": "code",
   "execution_count": null,
   "id": "28c52f6b-b6aa-46a4-9187-7b16e8ac5eb8",
   "metadata": {},
   "outputs": [],
   "source": [
    "view.main(f'inputs/ifgramStack_2_25.h5 --noverbose --ref-yx {refy} {refx} -n {\" \".join(used_num)} --vlim -3 3'.split())"
   ]
  },
  {
   "cell_type": "markdown",
   "id": "b25389ca-e0d3-41d8-8015-9bde4ed2660d",
   "metadata": {
    "tags": []
   },
   "source": [
    "## invert_network\n",
    "This can take a while so write it to a log if you need to."
   ]
  },
  {
   "cell_type": "code",
   "execution_count": 7,
   "id": "52fdb4ea-ea15-4b8a-aa96-e74c1cd37809",
   "metadata": {},
   "outputs": [
    {
     "name": "stdout",
     "output_type": "stream",
     "text": [
      "use dataset \"unwrapPhase\" by default\n",
      "save the original settings of ['OMP_NUM_THREADS', 'OPENBLAS_NUM_THREADS', 'MKL_NUM_THREADS', 'NUMEXPR_NUM_THREADS', 'VECLIB_MAXIMUM_THREADS']\n",
      "set OMP_NUM_THREADS = 1\n",
      "set OPENBLAS_NUM_THREADS = 1\n",
      "set MKL_NUM_THREADS = 1\n",
      "set NUMEXPR_NUM_THREADS = 1\n",
      "set VECLIB_MAXIMUM_THREADS = 1\n",
      "reference pixel in y/x: (2066, 1589) from dataset: unwrapPhase\n",
      "-------------------------------------------------------------------------------\n",
      "least-squares solution with L2 min-norm on: deformation velocity\n",
      "minimum redundancy: 1.0\n",
      "weight function: var\n",
      "calculate STD: False \n",
      "mask: no\n",
      "-------------------------------------------------------------------------------\n",
      "number of interferograms: 45\n",
      "number of acquisitions  : 28\n",
      "number of lines   : 2394\n",
      "number of columns : 4120\n",
      "--------------------------------------------------\n",
      "create HDF5 file: timeseries_asclower_2019.h5 with w mode\n",
      "create dataset  : date       of |S8                       in size of (28,)                with compression = None\n",
      "create dataset  : bperp      of <class 'numpy.float32'>   in size of (28,)                with compression = None\n",
      "create dataset  : timeseries of <class 'numpy.float32'>   in size of (28, 2394, 4120)     with compression = None\n",
      "close  HDF5 file: timeseries_asclower_2019.h5\n",
      "--------------------------------------------------\n",
      "create HDF5 file: temporalCoherence_asclower_2019.h5 with w mode\n",
      "create dataset  : temporalCoherence of <class 'numpy.float32'>   in size of (2394, 4120)         with compression = None\n",
      "close  HDF5 file: temporalCoherence_asclower_2019.h5\n",
      "--------------------------------------------------\n",
      "create HDF5 file: numInvIfgram_asclower_2019.h5 with w mode\n",
      "create dataset  : mask of <class 'numpy.float32'>   in size of (2394, 4120)         with compression = None\n",
      "close  HDF5 file: numInvIfgram_asclower_2019.h5\n",
      "maximum memory size: 1.2E+02 GB\n",
      "split 2394 lines into 2 patches for processing\n",
      "    with each patch up to 2390 lines\n",
      "\n",
      "------- processing patch 1 out of 2 --------------\n",
      "box width:  4120\n",
      "box length: 2390\n",
      "\n",
      "\n",
      "------- start parallel processing using Dask -------\n",
      "input Dask cluster type: local\n",
      "initiate Dask cluster\n",
      "scale the cluster to 16 workers\n",
      "initiate Dask client\n",
      "split patch into 16 sub boxes in x direction for workers to process\n",
      "submit a job to the worker for sub box 0: [0, 0, 258, 2390]\n",
      "submit a job to the worker for sub box 1: [258, 0, 516, 2390]\n",
      "submit a job to the worker for sub box 2: [516, 0, 774, 2390]\n",
      "submit a job to the worker for sub box 3: [774, 0, 1032, 2390]\n",
      "submit a job to the worker for sub box 4: [1032, 0, 1290, 2390]\n",
      "submit a job to the worker for sub box 5: [1290, 0, 1548, 2390]\n",
      "submit a job to the worker for sub box 6: [1548, 0, 1806, 2390]\n",
      "submit a job to the worker for sub box 7: [1806, 0, 2064, 2390]\n",
      "submit a job to the worker for sub box 8: [2064, 0, 2322, 2390]\n",
      "submit a job to the worker for sub box 9: [2322, 0, 2580, 2390]\n",
      "submit a job to the worker for sub box 10: [2580, 0, 2838, 2390]\n",
      "submit a job to the worker for sub box 11: [2838, 0, 3096, 2390]\n",
      "submit a job to the worker for sub box 12: [3096, 0, 3354, 2390]\n",
      "submit a job to the worker for sub box 13: [3354, 0, 3612, 2390]\n",
      "submit a job to the worker for sub box 14: [3612, 0, 3870, 2390]\n",
      "submit a job to the worker for sub box 15: [3870, 0, 4120, 2390]\n",
      "calculating weight from spatial coherence ...\n",
      "reading coherence in [0, 0, 258, 2390] * 45 ...\n",
      "calculating weight from spatial coherence ...\n",
      "reading coherence in [1290, 0, 1548, 2390] * 45 ...\n",
      "calculating weight from spatial coherence ...\n",
      "reading coherence in [2838, 0, 3096, 2390] * 45 ...\n",
      "calculating weight from spatial coherence ...\n",
      "calculating weight from spatial coherence ...\n",
      "calculating weight from spatial coherence ...\n",
      "reading coherence in [516, 0, 774, 2390] * 45 ...\n",
      "calculating weight from spatial coherence ...\n",
      "calculating weight from spatial coherence ...\n",
      "reading coherence in [3870, 0, 4120, 2390] * 45 ...\n",
      "reading coherence in [1548, 0, 1806, 2390] * 45 ...\n",
      "reading coherence in [258, 0, 516, 2390] * 45 ...\n",
      "reading coherence in [774, 0, 1032, 2390] * 45 ...\n",
      "calculating weight from spatial coherence ...\n",
      "calculating weight from spatial coherence ...\n",
      "calculating weight from spatial coherence ...\n",
      "calculating weight from spatial coherence ...\n",
      "calculating weight from spatial coherence ...\n",
      "reading coherence in [2064, 0, 2322, 2390] * 45 ...\n",
      "reading coherence in [2322, 0, 2580, 2390] * 45 ...\n",
      "calculating weight from spatial coherence ...\n",
      "reading coherence in [3096, 0, 3354, 2390] * 45 ...\n",
      "reading coherence in [3612, 0, 3870, 2390] * 45 ...\n",
      "calculating weight from spatial coherence ...\n",
      "reading coherence in [1032, 0, 1290, 2390] * 45 ...\n",
      "reading coherence in [3354, 0, 3612, 2390] * 45 ...\n",
      "calculating weight from spatial coherence ...\n",
      "reading coherence in [1806, 0, 2064, 2390] * 45 ...\n",
      "reading coherence in [2580, 0, 2838, 2390] * 45 ...\n",
      "convert coherence to weight in chunks of 100000 pixels: 7 chunks in total ...\n",
      "convert coherence to weight using inverse of phase variance\n",
      "    with phase PDF for distributed scatterers from Tough et al. (1995)\n",
      "    number of independent looks L=10\n",
      "convert coherence to weight in chunks of 100000 pixels: 7 chunks in total ...\n",
      "convert coherence to weight using inverse of phase variance\n",
      "    with phase PDF for distributed scatterers from Tough et al. (1995)\n",
      "    number of independent looks L=10\n",
      "chunk 1 / 7\n",
      "convert coherence to weight in chunks of 100000 pixels: 7 chunks in total ...\n",
      "convert coherence to weight in chunks of 100000 pixels: 7 chunks in total ...\n",
      "convert coherence to weight using inverse of phase variance\n",
      "    with phase PDF for distributed scatterers from Tough et al. (1995)\n",
      "    number of independent looks L=10\n",
      "convert coherence to weight in chunks of 100000 pixels: 7 chunks in total ...\n",
      "convert coherence to weight using inverse of phase variance\n",
      "    with phase PDF for distributed scatterers from Tough et al. (1995)\n",
      "    number of independent looks L=10\n",
      "chunk 1 / 7\n",
      "convert coherence to weight using inverse of phase variance\n",
      "    with phase PDF for distributed scatterers from Tough et al. (1995)\n",
      "    number of independent looks L=10\n",
      "convert coherence to weight in chunks of 100000 pixels: 6 chunks in total ...\n",
      "chunk 2 / 7\n",
      "convert coherence to weight in chunks of 100000 pixels: 7 chunks in total ...\n",
      "convert coherence to weight using inverse of phase variance\n",
      "    with phase PDF for distributed scatterers from Tough et al. (1995)\n",
      "    number of independent looks L=10\n",
      "convert coherence to weight in chunks of 100000 pixels: 7 chunks in total ...\n",
      "chunk 1 / 7\n",
      "convert coherence to weight using inverse of phase variance\n",
      "    with phase PDF for distributed scatterers from Tough et al. (1995)\n",
      "    number of independent looks L=10\n",
      "convert coherence to weight using inverse of phase variance\n",
      "    with phase PDF for distributed scatterers from Tough et al. (1995)\n",
      "    number of independent looks L=10\n",
      "chunk 1 / 7\n",
      "convert coherence to weight in chunks of 100000 pixels: 7 chunks in total ...\n",
      "chunk 1 / 7\n",
      "convert coherence to weight using inverse of phase variance\n",
      "    with phase PDF for distributed scatterers from Tough et al. (1995)\n",
      "    number of independent looks L=10\n",
      "chunk 2 / 7\n",
      "convert coherence to weight in chunks of 100000 pixels: 7 chunks in total ...\n",
      "convert coherence to weight in chunks of 100000 pixels: 7 chunks in total ...\n",
      "convert coherence to weight in chunks of 100000 pixels: 7 chunks in total ...\n",
      "convert coherence to weight using inverse of phase variance\n",
      "    with phase PDF for distributed scatterers from Tough et al. (1995)\n",
      "    number of independent looks L=10\n",
      "convert coherence to weight in chunks of 100000 pixels: 7 chunks in total ...\n",
      "convert coherence to weight using inverse of phase variance\n",
      "    with phase PDF for distributed scatterers from Tough et al. (1995)\n",
      "    number of independent looks L=10\n",
      "chunk 3 / 7\n",
      "chunk 1 / 7\n",
      "convert coherence to weight using inverse of phase variance\n",
      "    with phase PDF for distributed scatterers from Tough et al. (1995)\n",
      "    number of independent looks L=10\n",
      "chunk 1 / 6\n",
      "convert coherence to weight using inverse of phase variance\n",
      "    with phase PDF for distributed scatterers from Tough et al. (1995)\n",
      "    number of independent looks L=10\n",
      "chunk 2 / 7\n",
      "convert coherence to weight in chunks of 100000 pixels: 7 chunks in total ...\n",
      "chunk 2 / 7\n",
      "chunk 3 / 7\n",
      "convert coherence to weight in chunks of 100000 pixels: 7 chunks in total ...\n",
      "chunk 2 / 7\n",
      "chunk 1 / 7\n",
      "convert coherence to weight using inverse of phase variance\n",
      "    with phase PDF for distributed scatterers from Tough et al. (1995)\n",
      "    number of independent looks L=10\n",
      "convert coherence to weight using inverse of phase variance\n",
      "    with phase PDF for distributed scatterers from Tough et al. (1995)\n",
      "    number of independent looks L=10\n",
      "convert coherence to weight in chunks of 100000 pixels: 7 chunks in total ...\n",
      "convert coherence to weight using inverse of phase variance\n",
      "    with phase PDF for distributed scatterers from Tough et al. (1995)\n",
      "    number of independent looks L=10\n",
      "chunk 4 / 7\n",
      "chunk 1 / 7\n",
      "chunk 1 / 7\n",
      "chunk 1 / 7\n",
      "chunk 1 / 7\n",
      "chunk 2 / 7\n",
      "chunk 1 / 7\n",
      "chunk 3 / 7\n",
      "chunk 1 / 7\n",
      "chunk 2 / 6\n",
      "chunk 3 / 7\n",
      "chunk 1 / 7\n",
      "chunk 3 / 7\n",
      "chunk 5 / 7\n",
      "chunk 1 / 7\n",
      "chunk 2 / 7\n",
      "chunk 4 / 7\n",
      "chunk 2 / 7\n",
      "chunk 2 / 7\n",
      "chunk 2 / 7\n",
      "chunk 2 / 7\n",
      "chunk 4 / 7\n",
      "chunk 4 / 7\n",
      "chunk 2 / 7\n",
      "chunk 3 / 6\n",
      "chunk 2 / 7\n",
      "chunk 2 / 7\n",
      "chunk 3 / 7\n",
      "chunk 3 / 7\n",
      "chunk 4 / 7\n",
      "chunk 2 / 7\n",
      "chunk 6 / 7\n",
      "chunk 3 / 7\n",
      "chunk 5 / 7\n",
      "chunk 7 / 7\n",
      "reading unwrapPhase in [774, 0, 1032, 2390] * 45 ...\n",
      "chunk 3 / 7\n",
      "chunk 3 / 7\n",
      "chunk 3 / 7\n",
      "chunk 3 / 7\n",
      "chunk 5 / 7\n",
      "chunk 3 / 7\n",
      "chunk 3 / 7\n",
      "chunk 6 / 7\n",
      "chunk 4 / 7\n",
      "chunk 5 / 7\n",
      "chunk 3 / 7\n",
      "chunk 7 / 7\n",
      "reading unwrapPhase in [516, 0, 774, 2390] * 45 ...\n",
      "chunk 4 / 6\n",
      "chunk 5 / 7\n",
      "chunk 4 / 7\n",
      "chunk 4 / 7\n",
      "chunk 4 / 7\n",
      "chunk 4 / 7\n",
      "chunk 6 / 7\n",
      "chunk 4 / 7\n",
      "chunk 4 / 7\n",
      "chunk 7 / 7\n",
      "reading unwrapPhase in [0, 0, 258, 2390] * 45 ...\n",
      "chunk 4 / 7\n",
      "chunk 4 / 7\n",
      "chunk 6 / 7\n",
      "chunk 5 / 6\n",
      "chunk 5 / 7\n",
      "chunk 4 / 7\n",
      "chunk 7 / 7\n",
      "reading unwrapPhase in [2580, 0, 2838, 2390] * 45 ...\n",
      "chunk 5 / 7\n",
      "chunk 5 / 7\n",
      "chunk 5 / 7\n",
      "chunk 5 / 7\n",
      "chunk 6 / 7\n",
      "chunk 5 / 7\n",
      "chunk 7 / 7\n",
      "reading unwrapPhase in [3096, 0, 3354, 2390] * 45 ...\n",
      "chunk 6 / 6\n",
      "reading unwrapPhase in [3870, 0, 4120, 2390] * 45 ...\n",
      "chunk 5 / 7\n",
      "chunk 5 / 7\n",
      "chunk 5 / 7\n",
      "chunk 6 / 7\n",
      "chunk 6 / 7\n",
      "chunk 5 / 7\n",
      "chunk 7 / 7\n",
      "reading unwrapPhase in [2322, 0, 2580, 2390] * 45 ...\n",
      "chunk 6 / 7\n",
      "chunk 7 / 7\n",
      "reading unwrapPhase in [1806, 0, 2064, 2390] * 45 ...\n",
      "chunk 6 / 7\n",
      "chunk 7 / 7\n",
      "reading unwrapPhase in [3612, 0, 3870, 2390] * 45 ...\n",
      "chunk 6 / 7\n",
      "chunk 6 / 7\n",
      "chunk 6 / 7\n",
      "chunk 7 / 7\n",
      "reading unwrapPhase in [1548, 0, 1806, 2390] * 45 ...\n",
      "chunk 7 / 7\n",
      "reading unwrapPhase in [2064, 0, 2322, 2390] * 45 ...\n",
      "chunk 7 / 7\n",
      "reading unwrapPhase in [258, 0, 516, 2390] * 45 ...\n",
      "chunk 7 / 7\n",
      "reading unwrapPhase in [2838, 0, 3096, 2390] * 45 ...\n",
      "chunk 6 / 7\n",
      "chunk 6 / 7\n",
      "chunk 6 / 7\n",
      "chunk 7 / 7\n",
      "reading unwrapPhase in [1290, 0, 1548, 2390] * 45 ...\n",
      "chunk 7 / 7\n",
      "reading unwrapPhase in [1032, 0, 1290, 2390] * 45 ...\n",
      "chunk 7 / 7\n",
      "reading unwrapPhase in [3354, 0, 3612, 2390] * 45 ...\n",
      "use input reference value\n",
      "convert zero value in unwrapPhase to NaN (no-data value)\n",
      "skip pixels with unwrapPhase = NaN in all interferograms\n",
      "number of pixels to invert: 6425 out of 616620 (1.0%)\n",
      "estimating time-series via WLS pixel-by-pixel ...\n",
      "[=============>          28%                       ] 1800/6425 pixels    0s /     1suse input reference value\n",
      "[================>       34%                       ] 2200/6425 pixels    0s /     1sconvert zero value in unwrapPhase to NaN (no-data value)\n",
      "skip pixels with unwrapPhase = NaN in all interferograms\n",
      "[=================>      37%                       ] 2400/6425 pixels    0s /     1snumber of pixels to invert: 0 out of 616620 (0.0%)\n",
      "[=====================>  44%                       ] 2800/6425 pixels    0s /     0suse input reference value\n",
      "use input reference value\n",
      "[======================= 47%                       ] 3000/6425 pixels    0s /     0suse input reference value\n",
      "[======================= 50%                       ] 3200/6425 pixels    0s /     0suse input reference value\n",
      "convert zero value in unwrapPhase to NaN (no-data value)\n",
      "skip pixels with unwrapPhase = NaN in all interferograms\n",
      "[======================= 53%                       ] 3400/6425 pixels    0s /     0sconvert zero value in unwrapPhase to NaN (no-data value)\n",
      "convert zero value in unwrapPhase to NaN (no-data value)\n",
      "skip pixels with unwrapPhase = NaN in all interferograms\n",
      "skip pixels with unwrapPhase = NaN in all interferograms\n",
      "number of pixels to invert: 259443 out of 616620 (42.1%)\n",
      "estimating time-series via WLS pixel-by-pixel ...\n",
      "number of pixels to invert: 280942 out of 616620 (45.6%)\n",
      "estimating time-series via WLS pixel-by-pixel ...\n",
      "use input reference value\n",
      "number of pixels to invert: 0 out of 616620 (0.0%)\n",
      "[======================= 56%                       ] 3600/6425 pixels    0s /     0suse input reference value\n",
      "convert zero value in unwrapPhase to NaN (no-data value)\n",
      "skip pixels with unwrapPhase = NaN in all interferograms\n",
      "use input reference value\n",
      "[>                                                 ]FUTURE #1 complete. Time used: 12 seconds\n",
      "[======================= 59% =>                    ] 3800/6425 pixels    1s /     0snumber of pixels to invert: 376003 out of 597500 (62.9%)\n",
      "estimating time-series via WLS pixel-by-pixel ...\n",
      "convert zero value in unwrapPhase to NaN (no-data value)\n",
      "skip pixels with unwrapPhase = NaN in all interferograms\n",
      "number of pixels to invert: 0 out of 616620 (0.0%)\n",
      "[>                                                 ]convert zero value in unwrapPhase to NaN (no-data value)\n",
      "skip pixels with unwrapPhase = NaN in all interferograms\n",
      "use input reference value\n",
      "convert zero value in unwrapPhase to NaN (no-data value)\n",
      "[>                                                 ]skip pixels with unwrapPhase = NaN in all interferograms\n",
      "[======================= 65% ===>                  ] 4200/6425 pixels    1s /     0snumber of pixels to invert: 150737 out of 616620 (24.4%)\n",
      "estimating time-series via WLS pixel-by-pixel ...\n",
      "[>                                                 ]number of pixels to invert: 323944 out of 616620 (52.5%)\n",
      "estimating time-series via WLS pixel-by-pixel ...\n",
      "use input reference value\n",
      "[>                                                 ]use input reference value     0s\n",
      "use input reference value\n",
      "[======================= 75% =========>            ] 4800/6425 pixels    1s /     0sconvert zero value in unwrapPhase to NaN (no-data value)\n",
      "skip pixels with unwrapPhase = NaN in all interferograms\n",
      "[>                                                 ]number of pixels to invert: 129250 out of 616620 (21.0%)\n",
      "estimating time-series via WLS pixel-by-pixel ...\n",
      "[>                                                 ]convert zero value in unwrapPhase to NaN (no-data value)\n",
      "[======================= 78% ==========>           ] 5000/6425 pixels    1s /     0sskip pixels with unwrapPhase = NaN in all interferograms\n",
      "[>                                                 ]use input reference value\n",
      "number of pixels to invert: 214084 out of 616620 (34.7%)\n",
      "estimating time-series via WLS pixel-by-pixel ...\n",
      "[======================= 81% ===========>          ] 5200/6425 pixels    1s /     0sconvert zero value in unwrapPhase to NaN (no-data value)\n",
      "skip pixels with unwrapPhase = NaN in all interferograms\n",
      "convert zero value in unwrapPhase to NaN (no-data value)\n",
      "skip pixels with unwrapPhase = NaN in all interferograms\n",
      "[>                                                 ]number of pixels to invert: 92522 out of 616620 (15.0%)\n",
      "estimating time-series via WLS pixel-by-pixel ...\n",
      "[======================= 84% =============>        ] 5400/6425 pixels    1s /     0suse input reference value\n",
      "number of pixels to invert: 172210 out of 616620 (27.9%)\n",
      "estimating time-series via WLS pixel-by-pixel ...\n",
      "[>                                                 ]convert zero value in unwrapPhase to NaN (no-data value)\n",
      "skip pixels with unwrapPhase = NaN in all interferograms\n",
      "[>                                                 ]use input reference value\n",
      "[>                                                 ] 5600/6425 pixels    1s /     0snumber of pixels to invert: 366910 out of 616620 (59.5%)\n",
      "estimating time-series via WLS pixel-by-pixel ...\n",
      "[>                                                 ]convert zero value in unwrapPhase to NaN (no-data value)\n",
      "skip pixels with unwrapPhase = NaN in all interferograms\n",
      "[>                                                 ]number of pixels to invert: 302467 out of 616620 (49.1%)\n",
      "estimating time-series via WLS pixel-by-pixel ...\n",
      "[>                                                 ]convert zero value in unwrapPhase to NaN (no-data value)\n",
      "skip pixels with unwrapPhase = NaN in all interferograms\n",
      "[>                                                 ]number of pixels to invert: 345433 out of 616620 (56.0%)\n",
      "estimating time-series via WLS pixel-by-pixel ...\n",
      "[==================================================] 6425/6425 pixels    1s /     0s\n",
      "[>                                                 ]converting LOS phase unit from radian to meter\n",
      "[>                                                 ]FUTURE #2 complete. Time used: 13 seconds\n",
      "[>                                                 ]FUTURE #3 complete. Time used: 13 seconds\n",
      "[>                                                 ]FUTURE #4 complete. Time used: 13 seconds\n",
      "[==================================================] 92522/92522 pixels    46s /    98s\n",
      "[===================>    40%                       ] 85000/214084 pixels   46s /    69sconverting LOS phase unit from radian to meter\n",
      "[==============>         30%                       ] 83200/280942 pixels   46s /   109sFUTURE #5 complete. Time used: 59 seconds\n",
      "[==================================================] 129250/129250 pixels   76s /    24s\n",
      "[=================>      37%                       ] 139400/376003 pixels   76s /   130sconverting LOS phase unit from radian to meter\n",
      "[===================>    41%                       ] 140800/345433 pixels   76s /   109sFUTURE #6 complete. Time used: 89 seconds\n",
      "[==================================================] 150737/150737 pixels   88s /   108s\n",
      "[======================= 47%                       ] 163400/345433 pixels   88s /   100sconverting LOS phase unit from radian to meter\n",
      "[======================= 61% =>                    ] 159400/259443 pixels   90s /    57sFUTURE #7 complete. Time used: 102 seconds\n",
      "[==================================================] 172210/172210 pixels  100s /    88s\n",
      "[======================= 48%                       ] 182000/376003 pixels  100s /   109sconverting LOS phase unit from radian to meter\n",
      "[======================= 50%                       ] 183600/366910 pixels  100s /   100sFUTURE #8 complete. Time used: 113 seconds\n",
      "[==================================================] 214084/214084 pixels  120s /    80s\n",
      "[======================= 83% =============>        ] 214400/259443 pixels  121s /    24sconverting LOS phase unit from radian to meter\n",
      "[======================= 60% =>                    ] 220200/366910 pixels  120s /    80sFUTURE #9 complete. Time used: 134 seconds\n",
      "[==================================================] 259443/259443 pixels  143s /    25s\n",
      "[======================= 77% =========>            ] 264400/345433 pixels  143s /    42sconverting LOS phase unit from radian to meter\n",
      "[======================= 89% ===============>      ] 268000/302467 pixels  143s /    17sFUTURE #10 complete. Time used: 156 seconds\n",
      "[==================================================] 280942/280942 pixels  153s /     8s\n",
      "[======================= 77% =========>            ] 287800/376003 pixels  153s /    45sconverting LOS phase unit from radian to meter\n",
      "[======================= 83% =============>        ] 286200/345433 pixels  153s /    31sFUTURE #11 complete. Time used: 166 seconds\n",
      "[==================================================] 302467/302467 pixels  159s /    37s\n",
      "[======================= 81% ===========>          ] 303400/376003 pixels  159s /    37sconverting LOS phase unit from radian to meter\n",
      "[======================= 87% ===============>      ] 300600/345433 pixels  159s /    23sFUTURE #12 complete. Time used: 172 seconds\n",
      "[==================================================] 323944/323944 pixels  165s /    31s\n",
      "[======================= 91% =================>    ] 313600/345433 pixels  164s /    16sconverting LOS phase unit from radian to meter\n",
      "[======================= 85% =============>        ] 318200/376003 pixels  165s /    29sFUTURE #13 complete. Time used: 178 seconds\n",
      "[==================================================] 345433/345433 pixels  176s /    13s\n",
      "[======================= 93% =================>    ] 341200/366910 pixels  176s /    13sconverting LOS phase unit from radian to meter\n",
      "[======================= 93% =================>    ] 349800/376003 pixels  177s /    13sFUTURE #14 complete. Time used: 189 seconds\n",
      "[==================================================] 376003/376003 pixels  184s /     3s\n",
      "[==================================================] 366000/366910 pixelsconverting LOS phase unit from radian to meter\n",
      "[==================================================] 366400/366910 pixelsFUTURE #15 complete. Time used: 199 seconds\n",
      "[==================================================] 366910/366910 pixels \n",
      "converting LOS phase unit from radian to meter\n",
      "FUTURE #16 complete. Time used: 200 seconds\n",
      "close dask cluster\n",
      "close dask client\n",
      "------- finished parallel processing -------\n",
      "\n",
      "\n",
      "--------------------------------------------------\n",
      "open  HDF5 file timeseries_asclower_2019.h5 in a mode\n",
      "writing dataset /timeseries                block: [0, 28, 0, 2390, 0, 4120]\n",
      "close HDF5 file timeseries_asclower_2019.h5.\n",
      "--------------------------------------------------\n",
      "open  HDF5 file temporalCoherence_asclower_2019.h5 in a mode\n",
      "writing dataset /temporalCoherence         block: [0, 2390, 0, 4120]\n",
      "close HDF5 file temporalCoherence_asclower_2019.h5.\n",
      "--------------------------------------------------\n",
      "open  HDF5 file numInvIfgram_asclower_2019.h5 in a mode\n",
      "writing dataset /mask                      block: [0, 2390, 0, 4120]\n",
      "close HDF5 file numInvIfgram_asclower_2019.h5.\n",
      "time used: 03 mins 28.0 secs.\n",
      "\n",
      "\n",
      "------- processing patch 2 out of 2 --------------\n",
      "box width:  4120\n",
      "box length: 4\n",
      "\n",
      "\n",
      "------- start parallel processing using Dask -------\n",
      "input Dask cluster type: local\n",
      "initiate Dask cluster\n",
      "scale the cluster to 16 workers\n",
      "initiate Dask client\n",
      "split patch into 16 sub boxes in x direction for workers to process\n",
      "submit a job to the worker for sub box 0: [0, 2390, 258, 2394]\n",
      "submit a job to the worker for sub box 1: [258, 2390, 516, 2394]\n",
      "submit a job to the worker for sub box 2: [516, 2390, 774, 2394]\n",
      "submit a job to the worker for sub box 3: [774, 2390, 1032, 2394]\n",
      "submit a job to the worker for sub box 4: [1032, 2390, 1290, 2394]\n",
      "submit a job to the worker for sub box 5: [1290, 2390, 1548, 2394]\n",
      "submit a job to the worker for sub box 6: [1548, 2390, 1806, 2394]\n",
      "submit a job to the worker for sub box 7: [1806, 2390, 2064, 2394]\n",
      "submit a job to the worker for sub box 8: [2064, 2390, 2322, 2394]\n",
      "submit a job to the worker for sub box 9: [2322, 2390, 2580, 2394]\n",
      "submit a job to the worker for sub box 10: [2580, 2390, 2838, 2394]\n",
      "submit a job to the worker for sub box 11: [2838, 2390, 3096, 2394]\n",
      "submit a job to the worker for sub box 12: [3096, 2390, 3354, 2394]\n",
      "submit a job to the worker for sub box 13: [3354, 2390, 3612, 2394]\n",
      "submit a job to the worker for sub box 14: [3612, 2390, 3870, 2394]\n",
      "submit a job to the worker for sub box 15: [3870, 2390, 4120, 2394]\n",
      "calculating weight from spatial coherence ...\n",
      "reading coherence in [0, 2390, 258, 2394] * 45 ...\n",
      "calculating weight from spatial coherence ...\n",
      "calculating weight from spatial coherence ...\n",
      "reading coherence in [516, 2390, 774, 2394] * 45 ...\n",
      "calculating weight from spatial coherence ...\n",
      "reading coherence in [774, 2390, 1032, 2394] * 45 ...\n",
      "reading coherence in [1032, 2390, 1290, 2394] * 45 ...\n",
      "calculating weight from spatial coherence ...\n",
      "reading coherence in [1290, 2390, 1548, 2394] * 45 ...\n",
      "calculating weight from spatial coherence ...\n",
      "reading coherence in [258, 2390, 516, 2394] * 45 ...\n",
      "convert coherence to weight in chunks of 100000 pixels: 1 chunks in total ...\n",
      "convert coherence to weight using inverse of phase variance\n",
      "    with phase PDF for distributed scatterers from Tough et al. (1995)\n",
      "    number of independent looks L=10\n",
      "calculating weight from spatial coherence ...\n",
      "calculating weight from spatial coherence ...\n",
      "convert coherence to weight in chunks of 100000 pixels: 1 chunks in total ...\n",
      "reading coherence in [1548, 2390, 1806, 2394] * 45 ...\n",
      "reading coherence in [1806, 2390, 2064, 2394] * 45 ...\n",
      "convert coherence to weight using inverse of phase variance\n",
      "    with phase PDF for distributed scatterers from Tough et al. (1995)\n",
      "    number of independent looks L=10\n",
      "convert coherence to weight in chunks of 100000 pixels: 1 chunks in total ...\n",
      "calculating weight from spatial coherence ...\n",
      "calculating weight from spatial coherence ...\n",
      "convert coherence to weight using inverse of phase variance\n",
      "    with phase PDF for distributed scatterers from Tough et al. (1995)\n",
      "    number of independent looks L=10\n",
      "reading coherence in [2580, 2390, 2838, 2394] * 45 ...\n",
      "reading coherence in [2322, 2390, 2580, 2394] * 45 ...\n",
      "convert coherence to weight in chunks of 100000 pixels: 1 chunks in total ...\n",
      "convert coherence to weight using inverse of phase variance\n",
      "calculating weight from spatial coherence ...\n",
      "calculating weight from spatial coherence ...\n",
      "    with phase PDF for distributed scatterers from Tough et al. (1995)\n",
      "    number of independent looks L=10\n",
      "reading coherence in [3354, 2390, 3612, 2394] * 45 ...\n",
      "reading coherence in [2838, 2390, 3096, 2394] * 45 ...\n",
      "calculating weight from spatial coherence ...\n",
      "calculating weight from spatial coherence ...\n",
      "reading coherence in [2064, 2390, 2322, 2394] * 45 ...\n",
      "calculating weight from spatial coherence ...\n",
      "calculating weight from spatial coherence ...\n",
      "convert coherence to weight in chunks of 100000 pixels: 1 chunks in total ...\n",
      "convert coherence to weight using inverse of phase variance\n",
      "    with phase PDF for distributed scatterers from Tough et al. (1995)\n",
      "    number of independent looks L=10\n",
      "reading coherence in [3096, 2390, 3354, 2394] * 45 ...\n",
      "reading coherence in [3612, 2390, 3870, 2394] * 45 ...\n",
      "reading coherence in [3870, 2390, 4120, 2394] * 45 ...\n",
      "convert coherence to weight in chunks of 100000 pixels: 1 chunks in total ...\n",
      "convert coherence to weight using inverse of phase variance\n",
      "    with phase PDF for distributed scatterers from Tough et al. (1995)\n",
      "    number of independent looks L=10\n",
      "convert coherence to weight in chunks of 100000 pixels: 1 chunks in total ...\n",
      "convert coherence to weight using inverse of phase variance\n",
      "    with phase PDF for distributed scatterers from Tough et al. (1995)\n",
      "    number of independent looks L=10\n",
      "chunk 1 / 1\n",
      "convert coherence to weight in chunks of 100000 pixels: 1 chunks in total ...\n",
      "reading unwrapPhase in [0, 2390, 258, 2394] * 45 ...\n",
      "convert coherence to weight using inverse of phase variance\n",
      "    with phase PDF for distributed scatterers from Tough et al. (1995)\n",
      "    number of independent looks L=10\n",
      "convert coherence to weight in chunks of 100000 pixels: 1 chunks in total ...\n",
      "chunk 1 / 1\n",
      "chunk 1 / 1\n",
      "convert coherence to weight in chunks of 100000 pixels: 1 chunks in total ...\n",
      "convert coherence to weight using inverse of phase variance\n",
      "convert coherence to weight using inverse of phase variance\n",
      "    with phase PDF for distributed scatterers from Tough et al. (1995)\n",
      "    with phase PDF for distributed scatterers from Tough et al. (1995)\n",
      "    number of independent looks L=10\n",
      "    number of independent looks L=10\n",
      "convert coherence to weight in chunks of 100000 pixels: 1 chunks in total ...\n",
      "reading unwrapPhase in [516, 2390, 774, 2394] * 45 ...\n",
      "reading unwrapPhase in [1032, 2390, 1290, 2394] * 45 ...\n",
      "convert coherence to weight using inverse of phase variance\n",
      "    with phase PDF for distributed scatterers from Tough et al. (1995)\n",
      "    number of independent looks L=10\n",
      "chunk 1 / 1\n",
      "convert coherence to weight in chunks of 100000 pixels: 1 chunks in total ...\n",
      "convert coherence to weight using inverse of phase variance\n",
      "    with phase PDF for distributed scatterers from Tough et al. (1995)\n",
      "    number of independent looks L=10\n",
      "convert coherence to weight in chunks of 100000 pixels: 1 chunks in total ...\n",
      "convert coherence to weight using inverse of phase variance\n",
      "    with phase PDF for distributed scatterers from Tough et al. (1995)\n",
      "    number of independent looks L=10\n",
      "reading unwrapPhase in [774, 2390, 1032, 2394] * 45 ...\n",
      "convert coherence to weight in chunks of 100000 pixels: 1 chunks in total ...\n",
      "convert coherence to weight in chunks of 100000 pixels: 1 chunks in total ...\n",
      "convert coherence to weight using inverse of phase variance\n",
      "    with phase PDF for distributed scatterers from Tough et al. (1995)\n",
      "    number of independent looks L=10\n",
      "convert coherence to weight in chunks of 100000 pixels: 1 chunks in total ...\n",
      "convert coherence to weight using inverse of phase variance\n",
      "    with phase PDF for distributed scatterers from Tough et al. (1995)\n",
      "convert coherence to weight using inverse of phase variance\n",
      "    number of independent looks L=10\n",
      "    with phase PDF for distributed scatterers from Tough et al. (1995)\n",
      "    number of independent looks L=10\n",
      "chunk 1 / 1\n",
      "reading unwrapPhase in [1290, 2390, 1548, 2394] * 45 ...\n",
      "chunk 1 / 1\n",
      "reading unwrapPhase in [1806, 2390, 2064, 2394] * 45 ...\n",
      "use input reference value\n",
      "chunk 1 / 1\n",
      "convert zero value in unwrapPhase to NaN (no-data value)\n",
      "use input reference value\n",
      "use input reference value\n",
      "convert zero value in unwrapPhase to NaN (no-data value)\n",
      "convert zero value in unwrapPhase to NaN (no-data value)\n",
      "skip pixels with unwrapPhase = NaN in all interferograms\n",
      "chunk 1 / 1\n",
      "reading unwrapPhase in [258, 2390, 516, 2394] * 45 ...\n",
      "number of pixels to invert: 574 out of 1032 (55.6%)\n",
      "estimating time-series via WLS pixel-by-pixel ...\n",
      "skip pixels with unwrapPhase = NaN in all interferograms\n",
      "number of pixels to invert: 0 out of 1032 (0.0%)\n",
      "skip pixels with unwrapPhase = NaN in all interferograms\n",
      "reading unwrapPhase in [2322, 2390, 2580, 2394] * 45 ...\n",
      "chunk 1 / 1\n",
      "use input reference value\n",
      "number of pixels to invert: 0 out of 1032 (0.0%)\n",
      "convert zero value in unwrapPhase to NaN (no-data value)\n",
      "chunk 1 / 1\n",
      "chunk 1 / 1\n",
      "chunk 1 / 1\n",
      "reading unwrapPhase in [2838, 2390, 3096, 2394] * 45 ...\n",
      "chunk 1 / 1\n",
      "skip pixels with unwrapPhase = NaN in all interferograms\n",
      "number of pixels to invert: 0 out of 1032 (0.0%)\n",
      "reading unwrapPhase in [2580, 2390, 2838, 2394] * 45 ...\n",
      "reading unwrapPhase in [3354, 2390, 3612, 2394] * 45 ...\n",
      "reading unwrapPhase in [1548, 2390, 1806, 2394] * 45 ...\n",
      "chunk 1 / 1\n",
      "reading unwrapPhase in [2064, 2390, 2322, 2394] * 45 ...\n",
      "chunk 1 / 1\n",
      "reading unwrapPhase in [3612, 2390, 3870, 2394] * 45 ...\n",
      "chunk 1 / 1\n",
      "use input reference value\n",
      "reading unwrapPhase in [3096, 2390, 3354, 2394] * 45 ...\n",
      "reading unwrapPhase in [3870, 2390, 4120, 2394] * 45 ...\n",
      "convert zero value in unwrapPhase to NaN (no-data value)\n",
      "skip pixels with unwrapPhase = NaN in all interferograms\n",
      "number of pixels to invert: 1032 out of 1032 (100.0%)\n",
      "estimating time-series via WLS pixel-by-pixel ...\n",
      "use input reference value\n",
      "convert zero value in unwrapPhase to NaN (no-data value)\n",
      "skip pixels with unwrapPhase = NaN in all interferograms\n",
      "number of pixels to invert: 1032 out of 1032 (100.0%)\n",
      "estimating time-series via WLS pixel-by-pixel ...\n",
      "use input reference value\n",
      "convert zero value in unwrapPhase to NaN (no-data value)\n",
      "use input reference value\n",
      "skip pixels with unwrapPhase = NaN in all interferograms\n",
      "convert zero value in unwrapPhase to NaN (no-data value)\n",
      "number of pixels to invert: 0 out of 1032 (0.0%)\n",
      "skip pixels with unwrapPhase = NaN in all interferograms\n",
      "number of pixels to invert: 1032 out of 1032 (100.0%)\n",
      "estimating time-series via WLS pixel-by-pixel ...\n",
      "use input reference value\n",
      "use input reference value\n",
      "use input reference value\n",
      "use input reference value\n",
      "convert zero value in unwrapPhase to NaN (no-data value)\n",
      "use input reference value\n",
      "convert zero value in unwrapPhase to NaN (no-data value)\n",
      "convert zero value in unwrapPhase to NaN (no-data value)\n",
      "convert zero value in unwrapPhase to NaN (no-data value)\n",
      "convert zero value in unwrapPhase to NaN (no-data value)\n",
      "use input reference value\n",
      "skip pixels with unwrapPhase = NaN in all interferograms\n",
      "number of pixels to invert: 1032 out of 1032 (100.0%)\n",
      "estimating time-series via WLS pixel-by-pixel ...\n",
      "skip pixels with unwrapPhase = NaN in all interferograms\n",
      "FUTURE #1 complete. Time used: 0 seconds\n",
      "skip pixels with unwrapPhase = NaN in all interferograms\n",
      "use input reference value\n",
      "number of pixels to invert: 1032 out of 1032 (100.0%)\n",
      "convert zero value in unwrapPhase to NaN (no-data value)\n",
      "estimating time-series via WLS pixel-by-pixel ...\n",
      "number of pixels to invert: 1032 out of 1032 (100.0%)\n",
      "estimating time-series via WLS pixel-by-pixel ...\n",
      "skip pixels with unwrapPhase = NaN in all interferograms\n",
      "skip pixels with unwrapPhase = NaN in all interferograms\n",
      "use input reference value\n",
      "number of pixels to invert: 1032 out of 1032 (100.0%)\n",
      "number of pixels to invert: 1032 out of 1032 (100.0%)\n",
      "estimating time-series via WLS pixel-by-pixel ...\n",
      "estimating time-series via WLS pixel-by-pixel ...\n",
      "convert zero value in unwrapPhase to NaN (no-data value)\n",
      "convert zero value in unwrapPhase to NaN (no-data value)\n",
      "skip pixels with unwrapPhase = NaN in all interferograms\n",
      "number of pixels to invert: 1032 out of 1032 (100.0%)\n",
      "skip pixels with unwrapPhase = NaN in all interferograms\n",
      "estimating time-series via WLS pixel-by-pixel ...\n",
      "number of pixels to invert: 1032 out of 1032 (100.0%)\n",
      "estimating time-series via WLS pixel-by-pixel ...\n",
      "skip pixels with unwrapPhase = NaN in all interferograms\n",
      "number of pixels to invert: 1000 out of 1000 (100.0%)\n",
      "estimating time-series via WLS pixel-by-pixel ...\n",
      "FUTURE #2 complete. Time used: 0 seconds\n",
      "FUTURE #3 complete. Time used: 0 seconds\n",
      "FUTURE #4 complete. Time used: 0 seconds\n",
      "[==================================================] 574/574 pixels     0s /     0s\n",
      "converting LOS phase unit from radian to meter\n",
      "[===================>    40%                       ] 400/1000 pixels    0s /     0sFUTURE #5 complete. Time used: 0 seconds\n",
      "[==================================================] 1032/1032 pixels    0s /     0s\n",
      "converting LOS phase unit from radian to meter\n",
      "FUTURE #6 complete. Time used: 1 seconds\n",
      "[==================================================] 1032/1032 pixels \n",
      "converting LOS phase unit from radian to meter\n",
      "[======================= 97% ===================>  ] 1000/1032 pixels    0s /     0sFUTURE #7 complete. Time used: 1 seconds\n",
      "[==================================================] 1032/1032 pixels    0s /     0s\n",
      "converting LOS phase unit from radian to meter\n",
      "[==================================================] 1000/1000 pixels    0s /     0s\n",
      "converting LOS phase unit from radian to meter\n",
      "[======================= 97% ===================>  ] 1000/1032 pixels    0s /     0sFUTURE #8 complete. Time used: 1 seconds\n",
      "[==================================================] 1032/1032 pixels    0s /     0s\n",
      "converting LOS phase unit from radian to meter\n",
      "FUTURE #9 complete. Time used: 1 seconds\n",
      "[==================================================] 1032/1032 pixels \n",
      "converting LOS phase unit from radian to meter\n",
      "[==================================================] 1032/1032 pixels \n",
      "converting LOS phase unit from radian to meter\n",
      "[==================================================] 1032/1032 pixels \n",
      "converting LOS phase unit from radian to meter\n",
      "[======================= 97% ===================>  ] 1000/1032 pixels    0s /     0sFUTURE #10 complete. Time used: 1 seconds\n",
      "[==================================================] 1032/1032 pixels \n",
      "converting LOS phase unit from radian to meter\n",
      "[======================= 97% ===================>  ] 1000/1032 pixels    0s /     0sFUTURE #11 complete. Time used: 1 seconds\n",
      "[==================================================] 1032/1032 pixels \n",
      "converting LOS phase unit from radian to meter\n",
      "FUTURE #12 complete. Time used: 1 seconds\n",
      "FUTURE #13 complete. Time used: 1 seconds\n",
      "[==================================================] 1032/1032 pixels \n",
      "converting LOS phase unit from radian to meter\n",
      "FUTURE #14 complete. Time used: 1 seconds\n",
      "FUTURE #15 complete. Time used: 1 seconds\n",
      "FUTURE #16 complete. Time used: 1 seconds\n",
      "close dask cluster\n",
      "close dask client\n",
      "------- finished parallel processing -------\n",
      "\n",
      "\n",
      "--------------------------------------------------\n",
      "open  HDF5 file timeseries_asclower_2019.h5 in a mode\n",
      "writing dataset /timeseries                block: [0, 28, 2390, 2394, 0, 4120]\n",
      "close HDF5 file timeseries_asclower_2019.h5.\n",
      "--------------------------------------------------\n",
      "open  HDF5 file temporalCoherence_asclower_2019.h5 in a mode\n",
      "writing dataset /temporalCoherence         block: [2390, 2394, 0, 4120]\n",
      "close HDF5 file temporalCoherence_asclower_2019.h5.\n",
      "--------------------------------------------------\n",
      "open  HDF5 file numInvIfgram_asclower_2019.h5 in a mode\n",
      "writing dataset /mask                      block: [2390, 2394, 0, 4120]\n",
      "close HDF5 file numInvIfgram_asclower_2019.h5.\n",
      "time used: 03 mins 34.6 secs.\n",
      "\n",
      "--------------------------------------------------\n",
      "update values on the reference pixel: (2066, 1589)\n",
      "set temporalCoherence on the reference pixel to 1.\n",
      "set  # of observations on the reference pixel as 45\n",
      "roll back to the original settings of ['OMP_NUM_THREADS', 'OPENBLAS_NUM_THREADS', 'MKL_NUM_THREADS', 'NUMEXPR_NUM_THREADS', 'VECLIB_MAXIMUM_THREADS']\n",
      "remove env variable OMP_NUM_THREADS\n",
      "remove env variable OPENBLAS_NUM_THREADS\n",
      "remove env variable MKL_NUM_THREADS\n",
      "remove env variable NUMEXPR_NUM_THREADS\n",
      "remove env variable VECLIB_MAXIMUM_THREADS\n",
      "time used: 03 mins 34.6 secs.\n",
      "\n"
     ]
    }
   ],
   "source": [
    "# !ifgram_inversion.py inputs/ifgramStack.h5 -t ./hyp3.cfg |& tee -i invert.log ; python ../JPL_internship/emailme.py\n",
    "!ifgram_inversion.py inputs/ifgramStack.h5 -t ./hyp3.cfg -m waterMask.h5 -o timeseries_asclower_2019.h5 temporalCoherence_asclower_2019.h5 numInvIfgram_asclower_2019.h5"
   ]
  },
  {
   "cell_type": "markdown",
   "id": "eff0ab4c-1151-4147-b29d-b00247921e02",
   "metadata": {},
   "source": [
    "## check timeseries"
   ]
  },
  {
   "cell_type": "code",
   "execution_count": null,
   "id": "975c1b27-81e5-4c19-a197-9db914cba566",
   "metadata": {},
   "outputs": [],
   "source": [
    "view.main('timeseries_asclower_2019.h5 --noverbose'.split())"
   ]
  },
  {
   "cell_type": "markdown",
   "id": "2205a97c-ce59-4334-a576-bfd88daf8474",
   "metadata": {},
   "source": [
    "## check temporal ramp"
   ]
  },
  {
   "cell_type": "code",
   "execution_count": null,
   "id": "4377e7c8-cf61-41fa-b673-d84ae97a90c9",
   "metadata": {},
   "outputs": [],
   "source": [
    "ts = timeseries(file='timeseries_asclower_2019.h5')\n",
    "\n",
    "data = ts.read()\n",
    "data[data == 0] = np.nan\n",
    "# data[:,~coh_mask] = np.nan\n",
    "dates = pd.to_datetime(ts.get_date_list())\n",
    "means = np.nanmean(data,axis=(1, 2))\n",
    "means[0] = 0\n",
    "# datetimes = np.array([datetime.strptime(x,'%Y%m%d').toordinal() for x in dates])\n",
    "\n",
    "datetimes = np.array([int(x.toordinal()) for x in dates])\n",
    "slope, intercept, r, p, se = linregress(datetimes,means)\n",
    "fit = slope*datetimes+intercept\n",
    "print(f'slope: {round(slope*100,4)} cm\\nr2:{round(r**2,2)}')\n",
    "\n",
    "plt.scatter(datetimes,means)\n",
    "plt.plot(datetimes,fit,color='red')\n",
    "plt.ylim(-0.02,0.02)\n",
    "plt.xlabel('Ordinal Date')\n",
    "plt.ylabel('Avg Timeseries Value')"
   ]
  },
  {
   "cell_type": "markdown",
   "id": "4c518500-7e85-4024-913d-f437d948fe22",
   "metadata": {},
   "source": [
    "## velocity"
   ]
  },
  {
   "cell_type": "code",
   "execution_count": null,
   "id": "5b0ba9a3-6b81-4f8e-9271-613aaa0daeba",
   "metadata": {},
   "outputs": [],
   "source": [
    "%%time\n",
    "outname = 'velocity_asclower_2019.h5'\n",
    "!timeseries2velocity.py timeseries_asclower_2019.h5 -o {outname} --bootstrap --bc 100"
   ]
  },
  {
   "cell_type": "code",
   "execution_count": null,
   "id": "a52bfee8-abee-4c39-9370-a031ae08ccc0",
   "metadata": {},
   "outputs": [],
   "source": [
    "view.main(f'{outname} --noverbose -m no --vlim -10 10'.split())"
   ]
  },
  {
   "cell_type": "code",
   "execution_count": null,
   "id": "1f2da623-88c5-44a3-9ceb-d5df69bcee9e",
   "metadata": {},
   "outputs": [],
   "source": [
    "view.main('temporalCoherence_asclower_2019.h5 --noverbose --colormap RdBu_truncate --cm-vlist 0.0 0.7 1.0'.split())"
   ]
  },
  {
   "cell_type": "markdown",
   "id": "fe920cbf-ed21-4fbc-b917-573dca8065b7",
   "metadata": {},
   "source": [
    "## Create mask file"
   ]
  },
  {
   "cell_type": "code",
   "execution_count": null,
   "id": "fe85b2e5-7f3d-467c-bf25-fbbe84579638",
   "metadata": {},
   "outputs": [],
   "source": [
    "!generate_mask.py temporalCoherence_asclower_2019.h5 -m 0.1 -o maskTempCoh_asclower_2019.h5"
   ]
  },
  {
   "cell_type": "code",
   "execution_count": null,
   "id": "765aada7-47b9-4399-bc43-bbf132035355",
   "metadata": {},
   "outputs": [],
   "source": [
    "view.main(f'maskTempCoh_asclower_2019.h5 --noverbose'.split())"
   ]
  },
  {
   "cell_type": "markdown",
   "id": "2afbadf7-3468-4faa-93be-300ff3c66b1b",
   "metadata": {},
   "source": [
    "## Mask velocity file"
   ]
  },
  {
   "cell_type": "code",
   "execution_count": null,
   "id": "a2c7ce41-0803-415f-82c6-8bc81dcf1c6f",
   "metadata": {},
   "outputs": [],
   "source": [
    "maskname = f'{outname.split(\".\")[0]}_mask.h5'\n",
    "!mask.py {outname} -m maskTempCoh_asclower_2019.h5 -o {maskname}"
   ]
  },
  {
   "cell_type": "code",
   "execution_count": null,
   "id": "e71512f4-d5ac-4009-959c-6e63dc08ddde",
   "metadata": {},
   "outputs": [],
   "source": [
    "view.main(f'{maskname} --noverbose -m no --vlim -4 4'.split())"
   ]
  },
  {
   "cell_type": "markdown",
   "id": "f75cc531-7af2-4d63-8a67-9d8f4090b41f",
   "metadata": {},
   "source": [
    "## store result files"
   ]
  },
  {
   "cell_type": "code",
   "execution_count": null,
   "id": "c2dd8e65-ea36-4086-b450-cb2cdd18c3ca",
   "metadata": {},
   "outputs": [],
   "source": [
    "ls *h5"
   ]
  },
  {
   "cell_type": "code",
   "execution_count": null,
   "id": "c9bca91a-8c4d-4668-b801-26178a93b146",
   "metadata": {},
   "outputs": [],
   "source": [
    "cp *h5 /mnt/i/hyp3_downloads/asc_lower/mintpy"
   ]
  },
  {
   "cell_type": "markdown",
   "id": "176f23a6-7f2b-4233-9df8-4552df345389",
   "metadata": {},
   "source": [
    "## complete!"
   ]
  }
 ],
 "metadata": {
  "kernelspec": {
   "display_name": "Python 3",
   "language": "python",
   "name": "python3"
  },
  "language_info": {
   "codemirror_mode": {
    "name": "ipython",
    "version": 3
   },
   "file_extension": ".py",
   "mimetype": "text/x-python",
   "name": "python",
   "nbconvert_exporter": "python",
   "pygments_lexer": "ipython3",
   "version": "3.6.13"
  }
 },
 "nbformat": 4,
 "nbformat_minor": 5
}
