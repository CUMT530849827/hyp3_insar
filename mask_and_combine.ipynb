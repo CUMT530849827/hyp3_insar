{
 "cells": [
  {
   "cell_type": "markdown",
   "id": "67759097-8cb9-4826-9ab9-07ff3225bca5",
   "metadata": {},
   "source": [
    "# Combining InSAR Data From Different Tracks and Orbits"
   ]
  },
  {
   "cell_type": "markdown",
   "id": "5f4c219d-d9da-4882-b145-8d252ef176aa",
   "metadata": {},
   "source": [
    "## Setup"
   ]
  },
  {
   "cell_type": "code",
   "execution_count": null,
   "id": "f5a047da-ae60-440d-833b-c69540711e7d",
   "metadata": {},
   "outputs": [],
   "source": [
    "%matplotlib inline\n",
    "import glob\n",
    "import numpy as np\n",
    "import sys\n",
    "import shutil\n",
    "from itertools import product\n",
    "from pathlib import Path\n",
    "from skimage import morphology\n",
    "\n",
    "import os\n",
    "import matplotlib.pyplot as plt\n",
    "from mintpy.utils import readfile, writefile, utils as ut\n",
    "from mintpy import workflow, view, tsview, plot_network, plot_transection, plot_coherence_matrix"
   ]
  },
  {
   "cell_type": "code",
   "execution_count": null,
   "id": "40ed1e17-daf9-44da-8a22-3d13a86fb103",
   "metadata": {},
   "outputs": [],
   "source": [
    "cd ~/data/combined"
   ]
  },
  {
   "cell_type": "code",
   "execution_count": null,
   "id": "358eae3e-285d-45ae-85f1-5f18c6cbb27e",
   "metadata": {},
   "outputs": [],
   "source": [
    "tracks = ['asc','desc']\n",
    "years = [2018,2019,2020,2021]\n",
    "# tracks = ['desc']\n",
    "# years = [2020,2021]"
   ]
  },
  {
   "cell_type": "markdown",
   "id": "d82028d4-a585-4aa5-90c4-a6a77a75e958",
   "metadata": {},
   "source": [
    "## Set paths"
   ]
  },
  {
   "cell_type": "code",
   "execution_count": null,
   "id": "5ebb4220-1243-4dfe-8a0b-faeafbd01375",
   "metadata": {},
   "outputs": [],
   "source": [
    "data_paths = {'asclower':Path('../asclower').resolve(),\n",
    "             'ascupper':Path('../ascupper').resolve(),\n",
    "             'desclower':Path('../desclower').resolve(),\n",
    "             'descupper':Path('../descupper').resolve()}\n",
    "\n",
    "# data_paths = {'desc_lower':Path('../desc_lower').resolve(),\n",
    "#              'desc_upper':Path('../desc_upper').resolve()}"
   ]
  },
  {
   "cell_type": "markdown",
   "id": "09b2f6c0-ecf5-43ee-8db8-f0c416e747a0",
   "metadata": {},
   "source": [
    "## Create eroded mask file and mask datasets"
   ]
  },
  {
   "cell_type": "code",
   "execution_count": null,
   "id": "8f343aff-eaaf-487c-bda0-a84ca5a2cc5e",
   "metadata": {},
   "outputs": [],
   "source": [
    "for name in data_paths:\n",
    "    print(name)\n",
    "    p = data_paths[name]\n",
    "\n",
    "    # mask_name = f'maskTempCoh_{name}_erd.h5'\n",
    "    \n",
    "    # Find files\n",
    "    vels = list(p.glob('velocity*h5'))\n",
    "    cohs = list(p.glob('temporalCoherence*h5'))\n",
    "    tcoh_mask = p / f'maskTempCoh_{name}.h5'\n",
    "\n",
    "    # Create new mask\n",
    "    data, atr = readfile.read(tcoh_mask)\n",
    "    erd = (morphology.binary_erosion(morphology.remove_small_holes(data,10), morphology.square(51))).astype(int)\n",
    "    #     writefile.write({'mask':erd},mask_name,ref_file=tcoh_mask)\n",
    "    \n",
    "    for v in vels:\n",
    "        name, ext = v.name.split('.')\n",
    "\n",
    "        vel_name = f'{name}_mask.{ext}'\n",
    "        vel, atr = readfile.read(v,datasetName='velocity')\n",
    "        vel[erd == 0] = np.nan\n",
    "        writefile.write({'velocity':vel},vel_name,ref_file=v)\n",
    "        \n",
    "        std_name = f'{name}_std_mask.{ext}'\n",
    "        vel_std, atr = readfile.read(v,datasetName='velocityStd')\n",
    "        vel_std[erd == 0] = np.nan\n",
    "        writefile.write({'velocityStd':vel_std},std_name,ref_file=v)\n",
    "        \n",
    "    for c in cohs:\n",
    "        name, ext = c.name.split('.')\n",
    "\n",
    "        coh_name = f'{name}_mask.{ext}'\n",
    "        coh, atr = readfile.read(c,datasetName='temporalCoherence')\n",
    "        coh[erd == 0] = np.nan\n",
    "        writefile.write({'temporalCoherence':coh},coh_name,ref_file=c)\n",
    "        \n",
    "    \n",
    "#     # Mask velocity files\n",
    "#     for v in vels:\n",
    "#         name, ext = v.name.split('.')\n",
    "#         vel_name = f'{name}_mask.{ext}'\n",
    "#         if not Path(vel_name).exists():\n",
    "#             !mask.py {str(v)} -m {mask_name} -o {vel_name}\n",
    "    \n",
    "#     # Mask coherence files\n",
    "#     for c in cohs:\n",
    "#         name, ext = c.name.split('.')\n",
    "#         coh_name = f'{name}_mask.{ext}'\n",
    "#         if not Path(coh_name).exists():\n",
    "#             !mask.py {str(c)} -m {mask_name} -o {coh_name}"
   ]
  },
  {
   "cell_type": "markdown",
   "id": "ab65cead-7134-4af2-89dc-ff07597ae5ca",
   "metadata": {},
   "source": [
    "## Merge ascending and descending velocity by year"
   ]
  },
  {
   "cell_type": "code",
   "execution_count": null,
   "id": "aaa7fdc1-4bf5-4739-a256-7b94e7e9ed95",
   "metadata": {},
   "outputs": [],
   "source": [
    "# plotting results may need to be disabled at line 279 of image_stitch.py\n",
    "for track, year in product(tracks,years):\n",
    "    vel_pattern = f'velocity_{track}*{year}_mask.h5'\n",
    "    vel_name = f'velocity_{track}{year}.h5'\n",
    "    !image_stitch.py {vel_pattern} -o {vel_name} --no-offset\n",
    "    \n",
    "    std_pattern = f'velocity_{track}*{year}_std_mask.h5'\n",
    "    std_name = f'std_{track}{year}.h5'\n",
    "    !image_stitch.py {std_pattern} -o {std_name} --no-offset\n",
    "    \n",
    "    coh_pattern = f'temporalCoherence_{track}*{year}_mask.h5'\n",
    "    coh_name = f'temporalCoherence_{track}{year}.h5'\n",
    "    !image_stitch.py {coh_pattern} -o {coh_name} --no-offset\n",
    "\n",
    "    # std_name = f'std_{track}{year}.h5'\n",
    "    # !image_stitch.py {vel_pattern} -o {std_name} -d velocityStd --no-offset\n",
    "\n",
    "    # temp_cohs = Path('..').glob(f'*/temporalCoherence_{track}*{year}.h5')\n",
    "    # temp_cohs = ' '.join([str(x.resolve()) for x in temp_cohs])\n",
    "    # temp_coh_name = f'temporalCoherence_{track}{year}.h5'\n",
    "    # !image_stitch.py {temp_cohs} -o {temp_coh_name} --no-offset\n",
    "\n",
    "    # !image_stitch.py {vel_pattern} -o {std_name} -d velocityStd --no-offset\n",
    "    # !image_stitch.py {temp_cohs} -o {temp_coh_name} --no-offset"
   ]
  },
  {
   "cell_type": "markdown",
   "id": "a5bef7c1-0e74-41dd-8c01-29c651b0bc6b",
   "metadata": {
    "tags": []
   },
   "source": [
    "## Project from ascending/descending orbit to E-W/Up-Down"
   ]
  },
  {
   "cell_type": "code",
   "execution_count": null,
   "id": "d3542d17-a426-406a-a5f8-64d61863cd55",
   "metadata": {},
   "outputs": [],
   "source": [
    "for year in years:\n",
    "    asc_vel = f'velocity_asc{year}.h5'\n",
    "    desc_vel = f'velocity_desc{year}.h5'\n",
    "    \n",
    "    asc_std = f'std_asc{year}.h5'\n",
    "    desc_std = f'std_desc{year}.h5'\n",
    "    \n",
    "    up_vel = f'velocity_up{year}.h5'\n",
    "    ew_vel = f'velocity_ew{year}.h5'\n",
    "\n",
    "    up_std = f'std_up{year}.h5'    \n",
    "    ew_std = f'std_ew{year}.h5'\n",
    "\n",
    "    !asc_desc2horz_vert.py {asc_vel} {desc_vel} -o {ew_vel} {up_vel} --max-ref-yx-diff 10000\n",
    "    !asc_desc2horz_vert.py {asc_std} {desc_std} -o {ew_std} {up_std} --max-ref-yx-diff 10000"
   ]
  },
  {
   "cell_type": "code",
   "execution_count": null,
   "id": "54c1781f-1517-43b3-9da0-cfbb3d2bf4a7",
   "metadata": {},
   "outputs": [],
   "source": [
    "for year in years:\n",
    "    image1, image2 = f'temporalCoherence_asc{year}.h5 temporalCoherence_desc{year}.h5'.split(' ')\n",
    "    out_name = f'temporalCoherence_avg{year}.h5'\n",
    "\n",
    "    !generate_mask.py {str(image1)} -m 0 -o image1_mask.h5\n",
    "    !generate_mask.py {str(image2)} -m 0 -o image2_mask.h5\n",
    "    !add.py image1_mask.h5 image2_mask.h5 -o maskAdd.h5\n",
    "    !generate_mask.py maskAdd.h5 -m 2 -o mask.h5\n",
    "    \n",
    "    !add.py {image1} {image2} -o tempCohAdd.h5\n",
    "    !image_math.py tempCohAdd.h5 '/' 2 -o tempCohAvg.h5\n",
    "    !mask.py tempCohAvg.h5 -m mask.h5 -o {out_name}\n",
    "\n",
    "!rm tempCohAdd.h5 image1_mask.h5 image2_mask.h5 maskAdd.h5 tempCohAvg.h5 mask.h5"
   ]
  },
  {
   "cell_type": "markdown",
   "id": "d5f5a166-4edf-4ae4-b11f-1270b63a0d22",
   "metadata": {
    "tags": []
   },
   "source": [
    "## Check Results"
   ]
  },
  {
   "cell_type": "code",
   "execution_count": null,
   "id": "d64489f5-0eff-4839-8333-d4189f97bce9",
   "metadata": {},
   "outputs": [],
   "source": [
    "dset = 'temporalCoherence_avg2019.h5'"
   ]
  },
  {
   "cell_type": "code",
   "execution_count": null,
   "id": "360b4faa-f422-4b5a-b109-bd015d0ae497",
   "metadata": {},
   "outputs": [],
   "source": [
    "view.main(f'{dset} --noverbose'.split(' '))"
   ]
  },
  {
   "cell_type": "code",
   "execution_count": null,
   "id": "49ae7b9e-8a40-45f1-8a4c-723cd8ad2b77",
   "metadata": {},
   "outputs": [],
   "source": [
    "!info.py {dset}"
   ]
  },
  {
   "cell_type": "markdown",
   "id": "e3283cd3-c9bc-45a5-895a-157fcd59b325",
   "metadata": {},
   "source": [
    "## Export to Geotiffs"
   ]
  },
  {
   "cell_type": "code",
   "execution_count": null,
   "id": "fe6e92e0-b5d8-4486-8c99-b3bb09d10135",
   "metadata": {},
   "outputs": [],
   "source": [
    "!ls"
   ]
  },
  {
   "cell_type": "code",
   "execution_count": null,
   "id": "638481e3-43cb-4181-b5a2-71dd06d60127",
   "metadata": {},
   "outputs": [],
   "source": [
    "vels = list(Path().glob('velocity_*[ascdesc]20*.h5'))\n",
    "vels_proj = list(Path().glob('velocity_*[ewup]20*.h5'))\n",
    "cohs = list(Path().glob('temporalCoherence_*[ascdesc]20*.h5'))\n",
    "cohs_proj = list(Path().glob('temporalCoherence_avg20*.h5'))\n",
    "stds = list(Path().glob('std_*[ascdesc]20*.h5'))\n",
    "stds_proj = list(Path().glob('std_*[ewup]20*.h5'))\n",
    "\n",
    "# files = vels + cohs\n",
    "files = vels + vels_proj + cohs + cohs_proj + stds + stds_proj\n",
    "\n",
    "files = stds"
   ]
  },
  {
   "cell_type": "code",
   "execution_count": null,
   "id": "93c5326c-3129-44f5-9377-843ec26dd96f",
   "metadata": {},
   "outputs": [],
   "source": [
    "for f in files:\n",
    "    outfile = str(Path('../results') / f.with_suffix('.tif'))\n",
    "    !save_gdal.py {str(f)} -o {outfile}"
   ]
  },
  {
   "cell_type": "code",
   "execution_count": null,
   "id": "c4c09041-1181-4146-8e50-54e623de1da1",
   "metadata": {},
   "outputs": [],
   "source": [
    "from_file = list(Path('..').glob('./*/coherenceSpatialAvg*txt'))\n",
    "to_file = [Path('../results') / f'{x.parent.name}_{x.name}' for x in from_file]\n",
    "\n",
    "for f,t in zip(from_file,to_file):\n",
    "    !cp {str(f)} {str(t)}"
   ]
  },
  {
   "cell_type": "markdown",
   "id": "88e745a5-c73e-4758-b1d0-f1ab252133c6",
   "metadata": {},
   "source": [
    "## Done!"
   ]
  },
  {
   "cell_type": "code",
   "execution_count": null,
   "id": "1962dcdc-f28d-49d2-90ed-ef429aa67d6d",
   "metadata": {},
   "outputs": [],
   "source": [
    "!ls *mask*h5"
   ]
  },
  {
   "cell_type": "code",
   "execution_count": null,
   "id": "c6068a22-8d7f-4e80-820b-f7e88424105b",
   "metadata": {},
   "outputs": [],
   "source": [
    "!rm *mask*h5"
   ]
  },
  {
   "cell_type": "code",
   "execution_count": null,
   "id": "3a4147c1-137b-487c-a958-7f1568f996d3",
   "metadata": {},
   "outputs": [],
   "source": []
  }
 ],
 "metadata": {
  "kernelspec": {
   "display_name": "Python 3",
   "language": "python",
   "name": "python3"
  },
  "language_info": {
   "codemirror_mode": {
    "name": "ipython",
    "version": 3
   },
   "file_extension": ".py",
   "mimetype": "text/x-python",
   "name": "python",
   "nbconvert_exporter": "python",
   "pygments_lexer": "ipython3",
   "version": "3.6.13"
  }
 },
 "nbformat": 4,
 "nbformat_minor": 5
}
