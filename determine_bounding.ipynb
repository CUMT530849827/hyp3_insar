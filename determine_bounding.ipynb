{
 "cells": [
  {
   "cell_type": "markdown",
   "id": "87b822c3",
   "metadata": {},
   "source": [
    "From this [blog](https://guilles.website/2018/06/12/tutorial-exploring-raster-and-vector-geographic-data-with-rasterio-and-geopandas/)"
   ]
  },
  {
   "cell_type": "code",
   "execution_count": 43,
   "id": "7d9f4bdf",
   "metadata": {},
   "outputs": [],
   "source": [
    "%matplotlib inline\n",
    "import geopandas\n",
    "import rasterio\n",
    "import os\n",
    "import numpy as np\n",
    "import rasterio.features\n",
    "from shapely.geometry import Polygon\n",
    "import matplotlib.pyplot as plt"
   ]
  },
  {
   "cell_type": "code",
   "execution_count": 8,
   "id": "3420a0c3",
   "metadata": {},
   "outputs": [],
   "source": [
    "# File to convert\n",
    "hyp3_name = 'S1BB_20171224T070624_20180105T070624_VVP012_INT40_G_ueF_0A8B'\n",
    "example = os.path.join('..','hyp3_downloads','p81f1048_10x2_2',hyp3_name,f'{hyp3_name}_dem.tif')\n",
    "to_convert = os.path.join('mapped_landslides','large_landslidesV2.shp')\n",
    "to_save = f'{to_convert.split(\".\")[0]}.tif'"
   ]
  },
  {
   "cell_type": "code",
   "execution_count": 26,
   "id": "0b7e9989",
   "metadata": {},
   "outputs": [
    {
     "name": "stdout",
     "output_type": "stream",
     "text": [
      "reading...\n",
      "reprojecting...\n",
      "clipping...\n",
      "rasterizing...\n",
      "writing...\n",
      "done!\n"
     ]
    }
   ],
   "source": [
    "# Read in files\n",
    "print('reading...')\n",
    "gdf = geopandas.read_file(to_convert)\n",
    "raster_r = rasterio.open(example)\n",
    "raster = raster_r.read()\n",
    "\n",
    "# Reproject\n",
    "if str(gdf.crs).upper() != str(raster_r.crs):\n",
    "    print('reprojecting...')\n",
    "    gdf = gdf.to_crs(str(raster_r.crs))\n",
    "\n",
    "# Clip\n",
    "print('clipping...')\n",
    "r_bounds = raster_r.bounds\n",
    "bounding_box = Polygon([(r_bounds.left, r_bounds.top), (r_bounds.right, r_bounds.top), (r_bounds.right, r_bounds.bottom),\n",
    "                        (r_bounds.left, r_bounds.bottom), (r_bounds.left, r_bounds.top)])\n",
    "\n",
    "if not all(gdf.within(bounding_box)):\n",
    "    gdf = geopandas.clip(gdf, bounding_box)\n",
    "\n",
    "# Rasterize\n",
    "print('rasterizing...')\n",
    "rasterized = rasterio.features.rasterize(\n",
    "    [(x.geometry, 1) for i, x in gdf.iterrows()],\n",
    "    out_shape=raster_r.shape,\n",
    "    transform=raster_r.transform,\n",
    "    fill=0,\n",
    "    dtype=rasterio.uint8)\n",
    "\n",
    "# Write to file\n",
    "print('writing...')\n",
    "profile = raster_r.profile\n",
    "profile.update(dtype=rasterio.uint8, count=1, compress='lzw', nodata=0)\n",
    "rasterized[rasterized < 1] = 0\n",
    "with rasterio.open(to_save, 'w', **profile) as out:\n",
    "    out.write_band(1, rasterized)\n",
    "\n",
    "print('done!')"
   ]
  },
  {
   "cell_type": "code",
   "execution_count": 22,
   "id": "7d682705",
   "metadata": {},
   "outputs": [
    {
     "data": {
      "image/png": "[encoded data removed]",
      "text/plain": [
       "<Figure size 432x288 with 1 Axes>"
      ]
     },
     "metadata": {
      "needs_background": "light"
     },
     "output_type": "display_data"
    }
   ],
   "source": [
    "gdf.plot()\n",
    "plt.plot(*bounding_box.exterior.xy)\n",
    "plt.show()"
   ]
  },
  {
   "cell_type": "code",
   "execution_count": 50,
   "id": "8ba19e0c-e12c-406c-9021-5989a191fa9f",
   "metadata": {},
   "outputs": [
    {
     "name": "stdout",
     "output_type": "stream",
     "text": [
      "rasterizing...\n",
      "4261:6331,911:5191\n"
     ]
    }
   ],
   "source": [
    "p_bounds = gdf.bounds\n",
    "left, bottom, right, top = list(gdf.total_bounds)\n",
    "bounding_box = Polygon([(left, top), (right, top), (right, bottom),(left, bottom), (left, top)])\n",
    "\n",
    "print('rasterizing...')\n",
    "rasterized = rasterio.features.rasterize(\n",
    "    [(bounding_box, 1)],\n",
    "    out_shape=raster_r.shape,\n",
    "    transform=raster_r.transform,\n",
    "    fill=0,\n",
    "    dtype=rasterio.uint8)\n",
    "\n",
    "(bottom, top), (left, right) = [(x.min(),x.max()) for x in np.where(rasterized == 1)]\n",
    "\n",
    "# Print in MintPy format (S:N,W:E)\n",
    "print(f'{bottom}:{top},{left}:{right}')"
   ]
  },
  {
   "cell_type": "code",
   "execution_count": 40,
   "id": "6d98f993-7342-42ab-93fb-02124bd18646",
   "metadata": {},
   "outputs": [
    {
     "data": {
      "text/plain": [
       "<matplotlib.image.AxesImage at 0x2cf9b536e80>"
      ]
     },
     "execution_count": 40,
     "metadata": {},
     "output_type": "execute_result"
    },
    {
     "data": {
      "image/png": "[encoded data removed]",
      "text/plain": [
       "<Figure size 432x288 with 1 Axes>"
      ]
     },
     "metadata": {
      "needs_background": "light"
     },
     "output_type": "display_data"
    }
   ],
   "source": [
    "plt.imshow(rasterized)"
   ]
  }
 ],
 "metadata": {
  "kernelspec": {
   "display_name": "Python 3 (ipykernel)",
   "language": "python",
   "name": "python3"
  },
  "language_info": {
   "codemirror_mode": {
    "name": "ipython",
    "version": 3
   },
   "file_extension": ".py",
   "mimetype": "text/x-python",
   "name": "python",
   "nbconvert_exporter": "python",
   "pygments_lexer": "ipython3",
   "version": "3.9.5"
  }
 },
 "nbformat": 4,
 "nbformat_minor": 5
}
