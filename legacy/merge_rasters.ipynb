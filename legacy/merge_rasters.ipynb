{
 "cells": [
  {
   "cell_type": "code",
   "execution_count": null,
   "id": "755d3ca8-5a14-4c28-9cab-ad6575b66443",
   "metadata": {},
   "outputs": [],
   "source": [
    "import glob\n",
    "import os\n",
    "# from hyp3lib import cutGeotiffs"
   ]
  },
  {
   "cell_type": "code",
   "execution_count": null,
   "id": "23d232e7-592c-498c-8aeb-39697aa5d6f7",
   "metadata": {},
   "outputs": [],
   "source": [
    "os.chdir('/mnt/i/hyp3_downloads')\n",
    "project_name = 'p81f1048_10x2_2'\n",
    "exclude_dates = ['20180704T070628', '20180716T070629']\n",
    "files_needed = ['dem','inc_map','water_map','unw_phase','corr']"
   ]
  },
  {
   "cell_type": "code",
   "execution_count": null,
   "id": "2447e604-ff8b-4bf5-9984-5035af8f1752",
   "metadata": {},
   "outputs": [],
   "source": [
    "tifs = glob.glob(os.path.join(project_name,'*','*.tif'))\n",
    "valid = [x for x in tifs if not any([date in x for date in exclude_dates])]\n",
    "needed = [x for x in valid if any([ext in x for ext in files_needed])]\n",
    "\n",
    "cutGeotiffs.cutFiles(needed)\n",
    "\n",
    "# exists = [x for x in all_images if os.path.exists(x)]\n",
    "# to_clip = [x for x in exists if not os.path.exists(f'{x[:-4]}_clip.tif')]"
   ]
  },
  {
   "cell_type": "code",
   "execution_count": null,
   "id": "b7263e5c-a7c0-44c8-9175-45d8cd22748b",
   "metadata": {},
   "outputs": [],
   "source": []
  }
 ],
 "metadata": {
  "kernelspec": {
   "display_name": "Python 3 (ipykernel)",
   "language": "python",
   "name": "python3"
  },
  "language_info": {
   "codemirror_mode": {
    "name": "ipython",
    "version": 3
   },
   "file_extension": ".py",
   "mimetype": "text/x-python",
   "name": "python",
   "nbconvert_exporter": "python",
   "pygments_lexer": "ipython3",
   "version": "3.9.5"
  }
 },
 "nbformat": 4,
 "nbformat_minor": 5
}
