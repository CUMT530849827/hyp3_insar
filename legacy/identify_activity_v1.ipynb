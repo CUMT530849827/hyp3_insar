{
 "cells": [
  {
   "cell_type": "markdown",
   "id": "6c7cc17b-8318-4c99-8f0a-5238fb8e12b9",
   "metadata": {},
   "source": [
    "# Trialing Landslide Activity Filters"
   ]
  },
  {
   "cell_type": "markdown",
   "id": "2edd6872-6670-4e1b-b5ec-9f303cd67a4c",
   "metadata": {},
   "source": [
    "## Setup"
   ]
  },
  {
   "cell_type": "code",
   "execution_count": null,
   "id": "38765adc-c798-4647-ae11-12d82a84960d",
   "metadata": {},
   "outputs": [],
   "source": [
    "# run in forrestwilliams/gis:1.02\n",
    "%matplotlib inline\n",
    "import rasterio as rio\n",
    "import geopandas as gpd\n",
    "from pathlib import Path\n",
    "from rasterstats import zonal_stats\n",
    "from skimage import morphology\n",
    "from sklearn.metrics import cohen_kappa_score, accuracy_score, confusion_matrix\n",
    "\n",
    "import numpy as np\n",
    "import pandas as pd\n",
    "import matplotlib.pyplot as plt\n",
    "from itertools import product"
   ]
  },
  {
   "cell_type": "code",
   "execution_count": null,
   "id": "2e3a4a44-4674-4246-bf42-b473a25ca464",
   "metadata": {},
   "outputs": [],
   "source": [
    "def read_raster(path,bands=1,crs=False):\n",
    "    with rio.open(path) as dst:\n",
    "        array = dst.read(bands)\n",
    "        profile = dst.profile\n",
    "        crs_val = dst.crs\n",
    "        # array = np.moveaxis(array,0,-1)\n",
    "    \n",
    "    result = [array, profile]\n",
    "\n",
    "    if crs:\n",
    "        result.append(crs_val)\n",
    "\n",
    "    return result\n",
    "\n",
    "\n",
    "def write_raster(array,profile,out_path,dtype=rio.uint8):\n",
    "    # From rasterio docs:\n",
    "    # Register GDAL format drivers and configuration options with a\n",
    "    # context manager.\n",
    "    with rio.Env():\n",
    "        # And then change the band count to 1, set the\n",
    "        # dtype to uint8, and specify LZW compression.\n",
    "        profile.update(\n",
    "            dtype=dtype,\n",
    "            count=1,\n",
    "            compress='lzw')\n",
    "\n",
    "        with rio.open(out_path, 'w', **profile) as dst:\n",
    "            dst.write(array.astype(dtype), 1)\n",
    "\n",
    "    return out_path\n",
    "\n",
    "\n",
    "def vel_coh_filter(vel_array, coh_array, coh_thresh, n_std=2, min_size=None):\n",
    "    data = vel_array.copy()\n",
    "\n",
    "    # mask pixels with velocities less than 2 x velocity std in space\n",
    "    mean = np.nanmean(vel_array)\n",
    "    std = np.nanstd(vel_array)\n",
    "    vel_mask = np.abs(vel_array - mean) > (std * n_std)\n",
    "    \n",
    "    # mask pixels with temporal coherence below threshold\n",
    "    coh_mask = coh_array > coh_thresh\n",
    "    mask = vel_mask & coh_mask\n",
    "\n",
    "    # optionally remove small objects (min size in pixels)\n",
    "    if min_size:\n",
    "        mask = morphology.remove_small_objects(mask,min_size=min_size)\n",
    "    \n",
    "    data[~mask] = np.nan\n",
    "    \n",
    "    return (data, mask)\n",
    "\n",
    "\n",
    "def bekaert_filter(vel_array, std_array, min_size=None):\n",
    "    data = vel_array.copy()\n",
    "    \n",
    "    # mask pixels less than 2 x temporal standard deviation\n",
    "    mask = np.abs(data - np.nanmean(vel_array)) > (2 * std_array)\n",
    "\n",
    "    # optionally remove small objects (min size in pixels)\n",
    "    if min_size:\n",
    "        mask = morphology.remove_small_objects(mask,min_size=min_size)\n",
    "    \n",
    "    data[~mask] = np.nan\n",
    "    \n",
    "    return (data, mask)\n",
    "\n",
    "\n",
    "def add_trial_column(gdf,mask,col_name,update=False):\n",
    "    \n",
    "    # if (col_name not in list(gdf.columns)) | update:\n",
    "    # Get polygons\n",
    "    zones = list(gdf.geometry)\n",
    "\n",
    "    # Perform zonal stats within landslide boundary to count number of pixels identified as active\n",
    "    zs = zonal_stats(zones, mask.astype(float), affine=affine,stats=['count'],nodata=0.0)\n",
    "\n",
    "    # Change count to binary measure of activity and add to geodataframe\n",
    "    counts = pd.Series([x['count'] for x in zs])\n",
    "    test_set[col_name] = (counts > 0).astype(int)\n",
    "\n",
    "    return gdf\n"
   ]
  },
  {
   "cell_type": "code",
   "execution_count": null,
   "id": "b05a27db-1dcd-45d1-9690-6942e132fca6",
   "metadata": {},
   "outputs": [],
   "source": [
    "cd ../data/results"
   ]
  },
  {
   "cell_type": "markdown",
   "id": "2c0669eb-7730-4572-b176-510ca95c6f58",
   "metadata": {},
   "source": [
    "## Prep landslide activity test dataset"
   ]
  },
  {
   "cell_type": "code",
   "execution_count": null,
   "id": "4c01126c-2b2a-44cb-9c9a-c742c7717742",
   "metadata": {},
   "outputs": [],
   "source": [
    "active_type = 'active_v2'\n",
    "\n",
    "ls_path = Path('large_landslidesV3.shp')\n",
    "test_path = Path('test_set.shp')\n",
    "ls = gpd.read_file(ls_path).to_crs(32760)\n",
    "\n",
    "test_set = ls.loc[ls[active_type].isin([0,1])].reset_index(drop=True)\n",
    "test_set = test_set[['Name','area_ha',active_type,'geometry']]\n",
    "test_set = test_set.rename(columns={'Name':'name',active_type:'active'})\n",
    "test_set = test_set.loc[test_set.area_ha > 10].reset_index(drop=True)\n",
    "\n",
    "# test_set.to_file(test_path)\n",
    "# test_set = gpd.read_file(test_path)\n",
    "# test_set[['active_v2','area_ha']].groupby('active_v2').median()"
   ]
  },
  {
   "cell_type": "code",
   "execution_count": null,
   "id": "72cd2af1-0bad-45a1-b958-0c4ba6f1a7fa",
   "metadata": {},
   "outputs": [],
   "source": [
    "test_set[['active','name']].groupby('active').count()"
   ]
  },
  {
   "cell_type": "code",
   "execution_count": null,
   "id": "8021daf1-563e-4f1f-b582-fc5d47045e4c",
   "metadata": {},
   "outputs": [],
   "source": [
    "test_set"
   ]
  },
  {
   "cell_type": "markdown",
   "id": "68a55f4a-a605-4a02-8ee0-666706ede61e",
   "metadata": {},
   "source": [
    "## Trial activity filters"
   ]
  },
  {
   "cell_type": "markdown",
   "id": "fac48612-6197-44fa-8fee-c61510f91ecf",
   "metadata": {},
   "source": [
    "### Load Data"
   ]
  },
  {
   "cell_type": "code",
   "execution_count": null,
   "id": "17b0d18d-1262-4a16-b6aa-d19125b70832",
   "metadata": {},
   "outputs": [],
   "source": [
    "dataset_names = ['velocity_asc','velocity_desc','velocity_up','velocity_ew',\n",
    "            'std_asc','std_desc',\n",
    "            'temporalCoherence_asc','temporalCoherence_desc','temporalCoherence_avg']\n",
    "# dataset_names = ['velocity_desc','temporalCoherence_desc']\n",
    "years = ['2019','2020','2021']"
   ]
  },
  {
   "cell_type": "code",
   "execution_count": null,
   "id": "a1ba4186-4a55-4776-8808-27b6b4906a35",
   "metadata": {},
   "outputs": [],
   "source": [
    "datasets = {}\n",
    "for d in dataset_names:\n",
    "    years_dic = {}\n",
    "    \n",
    "    for y in years:\n",
    "        name = f'{d}_{y}.tif'\n",
    "        print(f'Reading {name} ...')\n",
    "        years_dic[y] = read_raster(name)[0]\n",
    "\n",
    "    datasets[d] = years_dic\n",
    "\n",
    "print('Done!')"
   ]
  },
  {
   "cell_type": "code",
   "execution_count": null,
   "id": "5a7061ec-41a3-458f-a4cb-1b837f3dd066",
   "metadata": {},
   "outputs": [],
   "source": [
    "(200 * 200) / (40*40)"
   ]
  },
  {
   "cell_type": "code",
   "execution_count": null,
   "id": "2354d740-f90b-488e-816f-cb7be950330b",
   "metadata": {},
   "outputs": [],
   "source": [
    "datasets['velocity_desc']['2019'].shape"
   ]
  },
  {
   "cell_type": "code",
   "execution_count": null,
   "id": "8757c2ce-bc98-4222-9d30-7c3585dbc8c9",
   "metadata": {},
   "outputs": [],
   "source": [
    "profile = read_raster('velocity_ew_2019.tif')[1]\n",
    "affine = profile['transform']"
   ]
  },
  {
   "cell_type": "code",
   "execution_count": null,
   "id": "370f7d93-e692-4346-853b-1e3a3c2f9a89",
   "metadata": {},
   "outputs": [],
   "source": [
    "min_size = 25\n",
    "coh_thresh = 0.9"
   ]
  },
  {
   "cell_type": "markdown",
   "id": "2f4a5b2f-71c4-4088-8f6a-d840a79bbae2",
   "metadata": {
    "tags": []
   },
   "source": [
    "## Data exploration"
   ]
  },
  {
   "cell_type": "code",
   "execution_count": null,
   "id": "0aae94ef-1e39-40c8-bb19-72e130327c63",
   "metadata": {},
   "outputs": [],
   "source": [
    "test_set.shape"
   ]
  },
  {
   "cell_type": "code",
   "execution_count": null,
   "id": "17269104-b1ad-4d12-a6ce-c36f7488fcb1",
   "metadata": {},
   "outputs": [],
   "source": [
    "test_set[['active','area_ha']].groupby('active').median()"
   ]
  },
  {
   "cell_type": "code",
   "execution_count": null,
   "id": "5b7170d8-51aa-4035-a061-b3448e91fe6d",
   "metadata": {},
   "outputs": [],
   "source": [
    "coh = datasets['temporalCoherence_desc']['2019']\n",
    "vel = datasets['velocity_desc']['2019']"
   ]
  },
  {
   "cell_type": "code",
   "execution_count": null,
   "id": "c789a1ff-3927-4894-a3ac-e077959bdc25",
   "metadata": {},
   "outputs": [],
   "source": [
    "vmin, vmax = (0.5,1)\n",
    "f, (ax1,ax2) = plt.subplots(1,2,figsize=(20,5))\n",
    "ax1.imshow(coh,vmin=vmin,vmax=vmax)\n",
    "h=ax2.hist(coh.flatten(),range=(vmin,vmax),bins=50)"
   ]
  },
  {
   "cell_type": "code",
   "execution_count": null,
   "id": "119c9681-615e-4121-8d54-c993d5ea56c6",
   "metadata": {},
   "outputs": [],
   "source": [
    "vmin, vmax = (-0.05,0.05)\n",
    "f, (ax1,ax2) = plt.subplots(1,2,figsize=(20,5))\n",
    "ax1.imshow(vel,vmin=vmin,vmax=vmax)\n",
    "h=ax2.hist(vel.flatten(),range=(vmin,vmax),bins=50)"
   ]
  },
  {
   "cell_type": "markdown",
   "id": "6ddfaf13-ec36-4637-8b36-9eab3b73ec76",
   "metadata": {},
   "source": [
    "### Bekaert Asc"
   ]
  },
  {
   "cell_type": "code",
   "execution_count": null,
   "id": "0b54ce35-d54f-420a-ad27-500a34915eda",
   "metadata": {},
   "outputs": [],
   "source": [
    "for y in years:\n",
    "    _, mask = bekaert_filter(datasets['velocity_asc'][y], datasets['std_asc'][y], min_size=min_size)\n",
    "    test_set = add_trial_column(test_set,mask,f'bekaert_asc_{y}')"
   ]
  },
  {
   "cell_type": "markdown",
   "id": "8189d6a2-d307-4ee2-985b-2df10f96fc99",
   "metadata": {},
   "source": [
    "### Bekaert Desc"
   ]
  },
  {
   "cell_type": "code",
   "execution_count": null,
   "id": "16e35d4a-b5ec-447e-a214-07e50b3799af",
   "metadata": {},
   "outputs": [],
   "source": [
    "for y in years:\n",
    "    _, mask = bekaert_filter(datasets['velocity_desc'][y], datasets['std_desc'][y], min_size=min_size)\n",
    "    test_set = add_trial_column(test_set,mask,f'bekaert_desc_{y}')"
   ]
  },
  {
   "cell_type": "markdown",
   "id": "bd601550-67db-4846-8e9d-04a19661701b",
   "metadata": {},
   "source": [
    "### Vel_coh Desc"
   ]
  },
  {
   "cell_type": "code",
   "execution_count": 23,
   "id": "93b1de4e-9170-4ee1-9e20-d19af7d3512e",
   "metadata": {},
   "outputs": [],
   "source": [
    "for y in years:\n",
    "    active, mask = vel_coh_filter(datasets['velocity_desc'][y], datasets['temporalCoherence_desc'][y], coh_thresh=coh_thresh, min_size=min_size)\n",
    "    test_set = add_trial_column(test_set,mask,f'velcoh_desc_{y}')\n",
    "    \n",
    "    if y == '2019':\n",
    "        write_raster(active,profile,'activity_desc_2019.tif',dtype=rio.float64)"
   ]
  },
  {
   "cell_type": "markdown",
   "id": "2fb1086f-623b-4102-8ce9-a2cbd5190126",
   "metadata": {},
   "source": [
    "### Vel_coh Asc"
   ]
  },
  {
   "cell_type": "code",
   "execution_count": 24,
   "id": "4e595948-aba4-40c4-9f03-e3a621c2f537",
   "metadata": {},
   "outputs": [],
   "source": [
    "for y in years:\n",
    "    _, mask = vel_coh_filter(datasets['velocity_asc'][y], datasets['temporalCoherence_asc'][y], coh_thresh=coh_thresh, min_size=min_size)\n",
    "    test_set = add_trial_column(test_set,mask,f'velcoh_asc_{y}')"
   ]
  },
  {
   "cell_type": "markdown",
   "id": "1b09b0c3-2548-4931-bea6-ab6db44d65ac",
   "metadata": {},
   "source": [
    "### Vel_coh Up"
   ]
  },
  {
   "cell_type": "code",
   "execution_count": null,
   "id": "eeea2ee9-3322-4e3f-b65c-c4adfc8da8c9",
   "metadata": {},
   "outputs": [],
   "source": [
    "for y in years:\n",
    "    _, mask = vel_coh_filter(datasets['velocity_up'][y], datasets['temporalCoherence_avg'][y], coh_thresh=coh_thresh, min_size=min_size)\n",
    "    test_set = add_trial_column(test_set,mask,f'velcoh_up_{y}')"
   ]
  },
  {
   "cell_type": "markdown",
   "id": "69967c6b-8288-405b-9145-c27867a004c3",
   "metadata": {},
   "source": [
    "### Vel_coh EW"
   ]
  },
  {
   "cell_type": "code",
   "execution_count": null,
   "id": "f0df9c33-07a2-475e-a36f-00a9fda7cb6a",
   "metadata": {},
   "outputs": [],
   "source": [
    "for y in years:\n",
    "    _, mask = vel_coh_filter(datasets['velocity_ew'][y], datasets['temporalCoherence_avg'][y], coh_thresh=coh_thresh, min_size=min_size)\n",
    "    test_set = add_trial_column(test_set,mask,f'velcoh_ew_{y}')"
   ]
  },
  {
   "cell_type": "markdown",
   "id": "ed1ff496-44c9-424a-9806-2a712ac8d604",
   "metadata": {},
   "source": [
    "### Vel_coh Combined"
   ]
  },
  {
   "cell_type": "code",
   "execution_count": null,
   "id": "88855a13-058c-4f2f-9fb2-f9b21bc82278",
   "metadata": {},
   "outputs": [],
   "source": [
    "for y in years:\n",
    "    _, mask1 = vel_coh_filter(datasets['velocity_asc'][y], datasets['temporalCoherence_asc'][y], coh_thresh=coh_thresh, min_size=min_size)\n",
    "    _, mask2 = vel_coh_filter(datasets['velocity_desc'][y], datasets['temporalCoherence_desc'][y], coh_thresh=coh_thresh, min_size=min_size)\n",
    "    \n",
    "    mask = mask1 | mask2\n",
    "\n",
    "    test_set = add_trial_column(test_set,mask,f'velcoh_combo_{y}')"
   ]
  },
  {
   "cell_type": "markdown",
   "id": "5dfae982-c51b-47bd-b48b-f4fc00e1c393",
   "metadata": {},
   "source": [
    "### Vel_coh Projected & Combined"
   ]
  },
  {
   "cell_type": "code",
   "execution_count": null,
   "id": "6347cf30-4082-4558-9380-c7ee71e9e34d",
   "metadata": {},
   "outputs": [],
   "source": [
    "for y in years:\n",
    "    _, mask1 = vel_coh_filter(datasets['velocity_up'][y], datasets['temporalCoherence_avg'][y], coh_thresh=coh_thresh, min_size=min_size)\n",
    "    _, mask2 = vel_coh_filter(datasets['velocity_ew'][y], datasets['temporalCoherence_avg'][y], coh_thresh=coh_thresh, min_size=min_size)\n",
    "    \n",
    "    mask = mask1 | mask2\n",
    "\n",
    "    test_set = add_trial_column(test_set,mask,f'velcoh_proj_{y}')"
   ]
  },
  {
   "cell_type": "markdown",
   "id": "bb58f5c7-335b-4ed0-aa20-b667abce0894",
   "metadata": {},
   "source": [
    "### Testing"
   ]
  },
  {
   "cell_type": "code",
   "execution_count": 37,
   "id": "e142225b-3e77-4009-8240-8d04c6ea591f",
   "metadata": {},
   "outputs": [],
   "source": [
    "for y in years:\n",
    "    # option 1\n",
    "    _, mask1 = vel_coh_filter(datasets['velocity_asc'][y], datasets['temporalCoherence_asc'][y], coh_thresh=coh_thresh, min_size=min_size)\n",
    "    _, mask2 = vel_coh_filter(datasets['velocity_desc'][y], datasets['temporalCoherence_desc'][y], coh_thresh=coh_thresh, min_size=min_size)\n",
    "    mask = mask1 & mask2\n",
    "    \n",
    "    # # option 2\n",
    "    # _, mask = vel_coh_filter(datasets['velocity_desc'][y], datasets['temporalCoherence_desc'][y], coh_thresh=0.9, n_std=2, min_size=6)\n",
    "    \n",
    "    # # option 3\n",
    "    # avg_vel = (datasets['velocity_desc']['2019'] + datasets['velocity_desc']['2020'] + datasets['velocity_desc']['2021']) / 3\n",
    "    # avg_tc = (datasets['temporalCoherence_desc']['2019'] + datasets['temporalCoherence_desc']['2020'] + datasets['temporalCoherence_desc']['2021']) / 3\n",
    "    # _, mask = vel_coh_filter(avg_vel, avg_tc, coh_thresh=0.9, n_std=2, min_size=6)\n",
    "    \n",
    "#     # option 4\n",
    "#     sum_tc = (datasets['temporalCoherence_desc']['2019'] + datasets['temporalCoherence_desc']['2020'] + datasets['temporalCoherence_desc']['2021'])\n",
    "#     weighted_2019 = datasets['velocity_desc']['2019'] * datasets['temporalCoherence_desc']['2019']\n",
    "#     weighted_2020 = datasets['velocity_desc']['2020'] * datasets['temporalCoherence_desc']['2020']\n",
    "#     weighted_2021 = datasets['velocity_desc']['2021'] * datasets['temporalCoherence_desc']['2021']\n",
    "#     avg_vel = (weighted_2019 + weighted_2020 + weighted_2021) / sum_tc\n",
    "               \n",
    "#     avg_tc = (datasets['temporalCoherence_desc']['2019'] + datasets['temporalCoherence_desc']['2020'] + datasets['temporalCoherence_desc']['2021']) / 3\n",
    "#     _, mask = vel_coh_filter(avg_vel, avg_tc, coh_thresh=0.9, n_std=2, min_size=6)\n",
    "    \n",
    "\n",
    "    test_set = add_trial_column(test_set,mask,f'velcoh_test_{y}',update=False)"
   ]
  },
  {
   "cell_type": "markdown",
   "id": "b1df51d6-e9ab-4f78-8473-a83e0ec73db0",
   "metadata": {
    "tags": []
   },
   "source": [
    "### Save Results"
   ]
  },
  {
   "cell_type": "code",
   "execution_count": null,
   "id": "0802b02e-94d6-4acc-9434-7a14fd44e1cc",
   "metadata": {},
   "outputs": [],
   "source": [
    "# name = 'activity_measures_c90_ms10_std2.geojson'\n",
    "# test_set.to_file(name)\n",
    "# gdf = gpd.read_file(name)"
   ]
  },
  {
   "cell_type": "markdown",
   "id": "d3153bc6-fd5c-4435-b77a-06f6f60a30e9",
   "metadata": {},
   "source": [
    "## Stats"
   ]
  },
  {
   "cell_type": "code",
   "execution_count": 38,
   "id": "78f17b39-953a-4c31-95da-0c90955e0eff",
   "metadata": {},
   "outputs": [],
   "source": [
    "gdf = test_set.copy()\n",
    "\n",
    "trials = [x for x in gdf.columns if ('bekaert' in x) | ('velcoh' in x)]\n",
    "\n",
    "tmp = gdf[['name','active'] + trials]\n",
    "cols = tmp.columns\n",
    "\n",
    "# Desired architecture:\n",
    "# landslide year active type value\n",
    "\n",
    "df = tmp.melt(id_vars=cols[0:2],value_vars=cols[2:],value_name='prediction')\n",
    "df[['method','direction','year']] = df.variable.str.split('_',expand=True)\n",
    "df['type'] = df.method + '_' + df.direction\n",
    "df['year'] = df.year.astype(int)\n",
    "df = df.drop(['method','direction','variable'],axis=1)"
   ]
  },
  {
   "cell_type": "code",
   "execution_count": 39,
   "id": "de4af41a-d149-42c5-8611-194fc85bd21b",
   "metadata": {},
   "outputs": [],
   "source": [
    "# from sklearn.metrics import cohen_kappa_score, accuracy_score, confusion_matrix\n",
    "cols = ['type','true_neg','true_pos','kappa','acc']\n",
    "metrics = pd.DataFrame(columns=cols)\n",
    "\n",
    "for t in df.type.unique():\n",
    "    sel = df.loc[df.type == t].copy()\n",
    "\n",
    "    conf = confusion_matrix(sel.active,sel.prediction)\n",
    "    kappa = cohen_kappa_score(sel.active,sel.prediction)\n",
    "    acc = accuracy_score(sel.active,sel.prediction)\n",
    "    \n",
    "    metrics = metrics.append(dict(zip(cols,[t,conf[0,0],conf[1,1],kappa,acc])),ignore_index=True)"
   ]
  },
  {
   "cell_type": "code",
   "execution_count": 40,
   "id": "fc4471f1-b61b-4194-8b5c-6cae6e5b9916",
   "metadata": {},
   "outputs": [
    {
     "data": {
      "text/html": [
       "<div>\n",
       "<style scoped>\n",
       "    .dataframe tbody tr th:only-of-type {\n",
       "        vertical-align: middle;\n",
       "    }\n",
       "\n",
       "    .dataframe tbody tr th {\n",
       "        vertical-align: top;\n",
       "    }\n",
       "\n",
       "    .dataframe thead th {\n",
       "        text-align: right;\n",
       "    }\n",
       "</style>\n",
       "<table border=\"1\" class=\"dataframe\">\n",
       "  <thead>\n",
       "    <tr style=\"text-align: right;\">\n",
       "      <th></th>\n",
       "      <th>type</th>\n",
       "      <th>true_neg</th>\n",
       "      <th>true_pos</th>\n",
       "      <th>kappa</th>\n",
       "      <th>acc</th>\n",
       "    </tr>\n",
       "  </thead>\n",
       "  <tbody>\n",
       "    <tr>\n",
       "      <th>0</th>\n",
       "      <td>bekaert_desc</td>\n",
       "      <td>0</td>\n",
       "      <td>33</td>\n",
       "      <td>0.000000</td>\n",
       "      <td>0.44</td>\n",
       "    </tr>\n",
       "    <tr>\n",
       "      <th>2</th>\n",
       "      <td>velcoh_asc</td>\n",
       "      <td>42</td>\n",
       "      <td>12</td>\n",
       "      <td>0.390244</td>\n",
       "      <td>0.72</td>\n",
       "    </tr>\n",
       "    <tr>\n",
       "      <th>1</th>\n",
       "      <td>velcoh_desc</td>\n",
       "      <td>36</td>\n",
       "      <td>18</td>\n",
       "      <td>0.414716</td>\n",
       "      <td>0.72</td>\n",
       "    </tr>\n",
       "    <tr>\n",
       "      <th>3</th>\n",
       "      <td>velcoh_test</td>\n",
       "      <td>42</td>\n",
       "      <td>9</td>\n",
       "      <td>0.295775</td>\n",
       "      <td>0.68</td>\n",
       "    </tr>\n",
       "  </tbody>\n",
       "</table>\n",
       "</div>"
      ],
      "text/plain": [
       "           type true_neg true_pos     kappa   acc\n",
       "0  bekaert_desc        0       33  0.000000  0.44\n",
       "2    velcoh_asc       42       12  0.390244  0.72\n",
       "1   velcoh_desc       36       18  0.414716  0.72\n",
       "3   velcoh_test       42        9  0.295775  0.68"
      ]
     },
     "execution_count": 40,
     "metadata": {},
     "output_type": "execute_result"
    }
   ],
   "source": [
    "metrics.sort_values('type')"
   ]
  },
  {
   "cell_type": "code",
   "execution_count": 41,
   "id": "06b66204-a1d9-44f9-9b54-94d51a0df03d",
   "metadata": {},
   "outputs": [],
   "source": [
    "# from sklearn.metrics import cohen_kappa_score, accuracy_score, confusion_matrix\n",
    "cols = ['type','year','true_neg','true_pos','kappa','acc']\n",
    "metrics_yearly = pd.DataFrame(columns=cols)\n",
    "\n",
    "for t,y in product(df.type.unique(),df.year.unique()):\n",
    "    sel = df.loc[(df.type == t) & (df.year == y)].copy()\n",
    "\n",
    "    conf = confusion_matrix(sel.active,sel.prediction)\n",
    "    kappa = cohen_kappa_score(sel.active,sel.prediction)\n",
    "    acc = accuracy_score(sel.active,sel.prediction)\n",
    "    \n",
    "    metrics_yearly = metrics_yearly.append(dict(zip(cols,[t,y,conf[0,0],conf[1,1],kappa,acc])),ignore_index=True)"
   ]
  },
  {
   "cell_type": "code",
   "execution_count": 42,
   "id": "2f517788-bff0-4255-8846-e47d1a99f4e8",
   "metadata": {},
   "outputs": [
    {
     "data": {
      "text/html": [
       "<div>\n",
       "<style scoped>\n",
       "    .dataframe tbody tr th:only-of-type {\n",
       "        vertical-align: middle;\n",
       "    }\n",
       "\n",
       "    .dataframe tbody tr th {\n",
       "        vertical-align: top;\n",
       "    }\n",
       "\n",
       "    .dataframe thead th {\n",
       "        text-align: right;\n",
       "    }\n",
       "</style>\n",
       "<table border=\"1\" class=\"dataframe\">\n",
       "  <thead>\n",
       "    <tr style=\"text-align: right;\">\n",
       "      <th></th>\n",
       "      <th>type</th>\n",
       "      <th>year</th>\n",
       "      <th>true_neg</th>\n",
       "      <th>true_pos</th>\n",
       "      <th>kappa</th>\n",
       "      <th>acc</th>\n",
       "    </tr>\n",
       "  </thead>\n",
       "  <tbody>\n",
       "    <tr>\n",
       "      <th>0</th>\n",
       "      <td>bekaert_desc</td>\n",
       "      <td>2019</td>\n",
       "      <td>0</td>\n",
       "      <td>11</td>\n",
       "      <td>0.000000</td>\n",
       "      <td>0.44</td>\n",
       "    </tr>\n",
       "    <tr>\n",
       "      <th>1</th>\n",
       "      <td>bekaert_desc</td>\n",
       "      <td>2020</td>\n",
       "      <td>0</td>\n",
       "      <td>11</td>\n",
       "      <td>0.000000</td>\n",
       "      <td>0.44</td>\n",
       "    </tr>\n",
       "    <tr>\n",
       "      <th>2</th>\n",
       "      <td>bekaert_desc</td>\n",
       "      <td>2021</td>\n",
       "      <td>0</td>\n",
       "      <td>11</td>\n",
       "      <td>0.000000</td>\n",
       "      <td>0.44</td>\n",
       "    </tr>\n",
       "    <tr>\n",
       "      <th>6</th>\n",
       "      <td>velcoh_asc</td>\n",
       "      <td>2019</td>\n",
       "      <td>14</td>\n",
       "      <td>5</td>\n",
       "      <td>0.482759</td>\n",
       "      <td>0.76</td>\n",
       "    </tr>\n",
       "    <tr>\n",
       "      <th>7</th>\n",
       "      <td>velcoh_asc</td>\n",
       "      <td>2020</td>\n",
       "      <td>14</td>\n",
       "      <td>3</td>\n",
       "      <td>0.295775</td>\n",
       "      <td>0.68</td>\n",
       "    </tr>\n",
       "    <tr>\n",
       "      <th>8</th>\n",
       "      <td>velcoh_asc</td>\n",
       "      <td>2021</td>\n",
       "      <td>14</td>\n",
       "      <td>4</td>\n",
       "      <td>0.390244</td>\n",
       "      <td>0.72</td>\n",
       "    </tr>\n",
       "    <tr>\n",
       "      <th>3</th>\n",
       "      <td>velcoh_desc</td>\n",
       "      <td>2019</td>\n",
       "      <td>14</td>\n",
       "      <td>8</td>\n",
       "      <td>0.749164</td>\n",
       "      <td>0.88</td>\n",
       "    </tr>\n",
       "    <tr>\n",
       "      <th>4</th>\n",
       "      <td>velcoh_desc</td>\n",
       "      <td>2020</td>\n",
       "      <td>11</td>\n",
       "      <td>5</td>\n",
       "      <td>0.247492</td>\n",
       "      <td>0.64</td>\n",
       "    </tr>\n",
       "    <tr>\n",
       "      <th>5</th>\n",
       "      <td>velcoh_desc</td>\n",
       "      <td>2021</td>\n",
       "      <td>11</td>\n",
       "      <td>5</td>\n",
       "      <td>0.247492</td>\n",
       "      <td>0.64</td>\n",
       "    </tr>\n",
       "    <tr>\n",
       "      <th>9</th>\n",
       "      <td>velcoh_test</td>\n",
       "      <td>2019</td>\n",
       "      <td>14</td>\n",
       "      <td>4</td>\n",
       "      <td>0.390244</td>\n",
       "      <td>0.72</td>\n",
       "    </tr>\n",
       "    <tr>\n",
       "      <th>10</th>\n",
       "      <td>velcoh_test</td>\n",
       "      <td>2020</td>\n",
       "      <td>14</td>\n",
       "      <td>3</td>\n",
       "      <td>0.295775</td>\n",
       "      <td>0.68</td>\n",
       "    </tr>\n",
       "    <tr>\n",
       "      <th>11</th>\n",
       "      <td>velcoh_test</td>\n",
       "      <td>2021</td>\n",
       "      <td>14</td>\n",
       "      <td>2</td>\n",
       "      <td>0.199288</td>\n",
       "      <td>0.64</td>\n",
       "    </tr>\n",
       "  </tbody>\n",
       "</table>\n",
       "</div>"
      ],
      "text/plain": [
       "            type  year true_neg true_pos     kappa   acc\n",
       "0   bekaert_desc  2019        0       11  0.000000  0.44\n",
       "1   bekaert_desc  2020        0       11  0.000000  0.44\n",
       "2   bekaert_desc  2021        0       11  0.000000  0.44\n",
       "6     velcoh_asc  2019       14        5  0.482759  0.76\n",
       "7     velcoh_asc  2020       14        3  0.295775  0.68\n",
       "8     velcoh_asc  2021       14        4  0.390244  0.72\n",
       "3    velcoh_desc  2019       14        8  0.749164  0.88\n",
       "4    velcoh_desc  2020       11        5  0.247492  0.64\n",
       "5    velcoh_desc  2021       11        5  0.247492  0.64\n",
       "9    velcoh_test  2019       14        4  0.390244  0.72\n",
       "10   velcoh_test  2020       14        3  0.295775  0.68\n",
       "11   velcoh_test  2021       14        2  0.199288  0.64"
      ]
     },
     "execution_count": 42,
     "metadata": {},
     "output_type": "execute_result"
    }
   ],
   "source": [
    "metrics_yearly.sort_values(['type','year'])"
   ]
  },
  {
   "cell_type": "markdown",
   "id": "ffaef581-27df-47a6-a395-071bff9c6cef",
   "metadata": {},
   "source": [
    "## Extra"
   ]
  },
  {
   "cell_type": "code",
   "execution_count": null,
   "id": "3078019a-0e59-4998-aac8-5bbf77df6a4c",
   "metadata": {},
   "outputs": [],
   "source": [
    "sub = metrics_yearly[metrics_yearly['type'].str.contains('velcoh')]"
   ]
  },
  {
   "cell_type": "code",
   "execution_count": null,
   "id": "9705cc18-ee4a-41b2-bd5a-5d0a61c36a1f",
   "metadata": {},
   "outputs": [],
   "source": [
    "sub.groupby('year').mean()"
   ]
  },
  {
   "cell_type": "code",
   "execution_count": null,
   "id": "410660b0-dac8-4ad6-be66-bfa68113295e",
   "metadata": {},
   "outputs": [],
   "source": [
    "sub.groupby('type').mean()"
   ]
  },
  {
   "cell_type": "code",
   "execution_count": null,
   "id": "9504ea1f-12b5-4a2f-99b0-8d9fdf5e699f",
   "metadata": {},
   "outputs": [],
   "source": [
    "np.nanmean(datasets['temporalCoherence_desc']['2019'])"
   ]
  },
  {
   "cell_type": "code",
   "execution_count": null,
   "id": "8b21b9ca-5162-4205-82c5-18513493f195",
   "metadata": {},
   "outputs": [],
   "source": [
    "np.nanmean(datasets['temporalCoherence_desc']['2020'])"
   ]
  },
  {
   "cell_type": "code",
   "execution_count": null,
   "id": "f4e30ea1-75d1-4b4f-9396-91468bc09517",
   "metadata": {},
   "outputs": [],
   "source": [
    "np.nanmean(datasets['temporalCoherence_desc']['2021'])"
   ]
  },
  {
   "cell_type": "code",
   "execution_count": null,
   "id": "e8519d02-331c-46ab-92f8-ac785c082d1f",
   "metadata": {},
   "outputs": [],
   "source": []
  }
 ],
 "metadata": {
  "kernelspec": {
   "display_name": "Python 3 (ipykernel)",
   "language": "python",
   "name": "python3"
  },
  "language_info": {
   "codemirror_mode": {
    "name": "ipython",
    "version": 3
   },
   "file_extension": ".py",
   "mimetype": "text/x-python",
   "name": "python",
   "nbconvert_exporter": "python",
   "pygments_lexer": "ipython3",
   "version": "3.9.5"
  }
 },
 "nbformat": 4,
 "nbformat_minor": 5
}
