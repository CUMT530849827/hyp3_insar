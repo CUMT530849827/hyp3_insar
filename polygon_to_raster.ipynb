{
 "cells": [
  {
   "cell_type": "markdown",
   "id": "87b822c3",
   "metadata": {},
   "source": [
    "From this [blog](https://guilles.website/2018/06/12/tutorial-exploring-raster-and-vector-geographic-data-with-rasterio-and-geopandas/)"
   ]
  },
  {
   "cell_type": "code",
   "execution_count": 9,
   "id": "7d9f4bdf",
   "metadata": {},
   "outputs": [],
   "source": [
    "import geopandas\n",
    "import rasterio\n",
    "import rasterio.features"
   ]
  },
  {
   "cell_type": "code",
   "execution_count": 10,
   "id": "3420a0c3",
   "metadata": {},
   "outputs": [],
   "source": [
    "# File to convert\n",
    "example = 'dem.tif'\n",
    "to_convert = 'large_landslidesV2.shp'"
   ]
  },
  {
   "cell_type": "code",
   "execution_count": 13,
   "id": "0b7e9989",
   "metadata": {},
   "outputs": [
    {
     "name": "stdout",
     "output_type": "stream",
     "text": [
      "reading...\n",
      "rasterizing...\n",
      "writing...\n"
     ]
    },
    {
     "data": {
      "text/plain": [
       "\"{'driver': 'GTiff', 'dtype': 'uint8', 'nodata': 0, 'width': 3817, 'height': 3295, 'count': 1, 'crs': CRS.from_epsg(32760), 'transform': Affine(80.0, 0.0, 244360.0,\\n       0.0, -80.0, 5813880.0), 'tiled': False, 'compress': 'lzw', 'interleave': 'band'}\""
      ]
     },
     "execution_count": 13,
     "metadata": {},
     "output_type": "execute_result"
    }
   ],
   "source": [
    "# Read in files\n",
    "print('reading...')\n",
    "polygons = geopandas.read_file(to_convert)\n",
    "raster_r = rasterio.open(example)\n",
    "raster = raster_r.read()\n",
    "raster_r.profile\n",
    "\n",
    "# Rasterize\n",
    "print('rasterizing...')\n",
    "rasterized = rasterio.features.rasterize(\n",
    "    [(x.geometry, 1) for i, x in polygons.iterrows()],\n",
    "    out_shape=raster_r.shape,\n",
    "    transform=raster_r.transform,\n",
    "    fill=0,\n",
    "    dtype=rasterio.uint8)\n",
    "\n",
    "# Write to file\n",
    "print('writing...')\n",
    "profile = raster_r.profile\n",
    "profile.update(dtype=rasterio.uint8, count=1, compress='lzw', nodata=0)\n",
    "rasterized[rasterized < 1] = 0\n",
    "with rasterio.open('large_landslidesV2.tif', 'w', **profile) as out:\n",
    "    out.write_band(1, rasterized)\n",
    "\n",
    "repr(profile)"
   ]
  },
  {
   "cell_type": "code",
   "execution_count": null,
   "id": "7d682705",
   "metadata": {},
   "outputs": [],
   "source": []
  }
 ],
 "metadata": {
  "kernelspec": {
   "display_name": "Python 3 (ipykernel)",
   "language": "python",
   "name": "python3"
  },
  "language_info": {
   "codemirror_mode": {
    "name": "ipython",
    "version": 3
   },
   "file_extension": ".py",
   "mimetype": "text/x-python",
   "name": "python",
   "nbconvert_exporter": "python",
   "pygments_lexer": "ipython3",
   "version": "3.9.5"
  }
 },
 "nbformat": 4,
 "nbformat_minor": 5
}
